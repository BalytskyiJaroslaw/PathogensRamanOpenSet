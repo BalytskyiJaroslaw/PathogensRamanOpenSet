{
  "cells": [
    {
      "cell_type": "markdown",
      "metadata": {
        "id": "view-in-github",
        "colab_type": "text"
      },
      "source": [
        "<a href=\"https://colab.research.google.com/github/BalytskyiJaroslaw/PathogensRamanOpenSet/blob/main/EOS_K_p1_p2_I_p3_submit.ipynb\" target=\"_parent\"><img src=\"https://colab.research.google.com/assets/colab-badge.svg\" alt=\"Open In Colab\"/></a>"
      ]
    },
    {
      "cell_type": "markdown",
      "metadata": {
        "id": "aOFOyLM_v8P1"
      },
      "source": [
        "# Operating in the ***open*** world, Entropic Open Set, $\\mathcal{K} = p_1 + p_2$, $\\mathcal{I} = p_3$"
      ]
    },
    {
      "cell_type": "code",
      "execution_count": null,
      "metadata": {
        "id": "zMZSeaB38pkm"
      },
      "outputs": [],
      "source": [
        "from __future__ import absolute_import\n",
        "from __future__ import print_function\n",
        "\n",
        "import numpy as np\n",
        "from numpy import genfromtxt\n",
        "from sklearn.utils import shuffle\n",
        "\n",
        "\n",
        "import pandas as pd\n",
        "from pandas import ExcelWriter\n",
        "from pandas import ExcelFile\n",
        "from pandas import read_csv\n",
        "\n",
        "from keras.layers import Lambda, Multiply\n",
        "\n",
        "import csv\n",
        "import pprint\n",
        "\n",
        "import tensorflow as tf\n",
        "from tensorflow import keras\n",
        "from tensorflow.keras import layers, models\n",
        "\n",
        "import keras\n",
        "#from keras.utils import to_categorical\n",
        "from pandas import read_csv\n",
        "from keras.models import Sequential\n",
        "from keras import layers\n",
        "#from keras.optimizers import SGD\n",
        "from keras import regularizers\n",
        "from keras.models import Sequential\n",
        "from keras.layers import Dense\n",
        "#from keras.optimizers import SGD\n",
        "\n",
        "from sklearn.preprocessing import LabelEncoder\n",
        "from sklearn.model_selection import train_test_split\n",
        "\n",
        "import matplotlib.pyplot as plt\n",
        "import seaborn as sns\n",
        "import random\n",
        "from pprint import pprint\n",
        "\n",
        "from sklearn.preprocessing import LabelEncoder\n",
        "import gspread\n",
        "import pandas as pd\n",
        "import pickle\n",
        "import pywt\n",
        "import matplotlib.pyplot as plt\n",
        "from tensorflow.keras import regularizers\n",
        "#from keras.utils import to_categorical\n",
        "\n",
        "from time import time\n",
        "t00 = time()\n",
        "import os\n",
        "from tensorflow.keras import layers\n",
        "from keras.layers import Input, Dense, concatenate\n",
        "from keras.models import Model\n",
        "from keras.layers import GlobalAveragePooling1D"
      ]
    },
    {
      "cell_type": "code",
      "execution_count": null,
      "metadata": {
        "id": "2ugI8BcU8u6J"
      },
      "outputs": [],
      "source": [
        "# Initialize the TPU and spread the computations across the 8 cores\n",
        "import tensorflow as tf\n",
        "resolver = tf.distribute.cluster_resolver.TPUClusterResolver(tpu='')\n",
        "tf.config.experimental_connect_to_cluster(resolver)\n",
        "# This is the TPU initialization code that has to be at the beginning.\n",
        "tf.tpu.experimental.initialize_tpu_system(resolver)\n",
        "tf.config.list_logical_devices('TPU')\n",
        "#print(\"All devices: \", tf.config.list_logical_devices('TPU'))\n",
        "\n",
        "strategy = tf.distribute.TPUStrategy(resolver)"
      ]
    },
    {
      "cell_type": "code",
      "execution_count": null,
      "metadata": {
        "colab": {
          "base_uri": "https://localhost:8080/"
        },
        "id": "Ld73dNtt8u8G",
        "outputId": "bef91447-fc85-4517-ff7a-de6a31cb1433"
      },
      "outputs": [
        {
          "output_type": "stream",
          "name": "stdout",
          "text": [
            "Mounted at /content/gdrive\n"
          ]
        }
      ],
      "source": [
        "from google.colab import drive\n",
        "\n",
        "drive.mount(\"/content/gdrive\")"
      ]
    },
    {
      "cell_type": "markdown",
      "metadata": {
        "id": "unyCL8zewWQv"
      },
      "source": [
        "# Reference dataset"
      ]
    },
    {
      "cell_type": "code",
      "execution_count": null,
      "metadata": {
        "id": "Dj4dNAmyRE0L"
      },
      "outputs": [],
      "source": [
        "# Reference data\n",
        "data_X_reference = np.load(\"/content/gdrive/MyDrive/Stanford_data/X_reference.npy\")\n",
        "# Test data\n",
        "data_X_test = np.load(\"/content/gdrive/MyDrive/Stanford_data/X_test.npy\")\n",
        "\n",
        "data_y_reference = np.load(\"/content/gdrive/MyDrive/Stanford_data/y_reference.npy\")\n",
        "# Test labels\n",
        "data_y_test = np.load(\"/content/gdrive/MyDrive/Stanford_data/y_test.npy\")\n",
        "\n",
        "data_y_reference_int = []\n",
        "\n",
        "for i in range(data_y_reference.shape[0]):\n",
        "  data_y_reference_int.append(int(data_y_reference[i]))\n",
        "\n",
        "data_y_test_int = []\n",
        "\n",
        "for i in range(data_y_test.shape[0]):\n",
        "  data_y_test_int.append(int(data_y_test[i]))\n",
        "\n",
        "train_label = tf.keras.utils.to_categorical(data_y_reference_int)\n",
        "test_label = tf.keras.utils.to_categorical(data_y_test_int)"
      ]
    },
    {
      "cell_type": "markdown",
      "metadata": {
        "id": "FnMc6rnGSdht"
      },
      "source": [
        "# $\\mathcal{K} = p_1 + p_2$, reference indices, traininig dataset: 18000 - 26000, 28000 - 38000, 44000 - 50000, 52000 - 58000. $\\mathcal{I} = p_3$, reference indices: 10000 - 14000, 26000 - 28000, 42000 - 44000, 58000 - 60000."
      ]
    },
    {
      "cell_type": "code",
      "execution_count": null,
      "metadata": {
        "colab": {
          "base_uri": "https://localhost:8080/"
        },
        "id": "O3O2yYAe8u_V",
        "outputId": "0ecdc41a-94a0-475b-eb36-5b3706662791"
      },
      "outputs": [
        {
          "output_type": "stream",
          "name": "stdout",
          "text": [
            "Shape of the known and ignored data, reference: (40000, 1000)\n",
            "Shape of the known and ignored labels, reference: (40000, 16)\n"
          ]
        }
      ],
      "source": [
        "indices =[slice(18000, 26000),slice(28000, 38000),slice(44000, 50000),slice(52000, 58000),slice(10000, 14000),slice(26000, 28000),slice(42000, 44000),slice(58000, 60000)]\n",
        "\n",
        "Known_and_Ignored_data_X_reference = np.concatenate([data_X_reference[idx, :] for idx in indices], axis=0)\n",
        "\n",
        "Known_and_Ignored_data_X_train_label_int = []\n",
        "\n",
        "for i in range(2000*15):\n",
        "  Known_and_Ignored_data_X_train_label_int.append(int(data_y_reference[i]))\n",
        "\n",
        "for i in range(2000*5):\n",
        " Known_and_Ignored_data_X_train_label_int.append(int(data_y_reference[2000*15]))\n",
        "\n",
        "Known_and_Ignored_data_X_train_label = tf.keras.utils.to_categorical(Known_and_Ignored_data_X_train_label_int)\n",
        "print(\"Shape of the known and ignored data, reference:\", Known_and_Ignored_data_X_reference.shape)\n",
        "print(\"Shape of the known and ignored labels, reference:\", Known_and_Ignored_data_X_train_label.shape)"
      ]
    },
    {
      "cell_type": "markdown",
      "metadata": {
        "id": "j6hDE1gvUwoX"
      },
      "source": [
        "# $\\mathcal{K}$, known reference indices for the ***test***: 900 - 1300, 1400 - 1900, 2200 - 2500, 2600 - 2900. Ignored, ***test***: 500 - 700, 1300 - 1400, 2100 - 2200, 2900 - 3000.\n"
      ]
    },
    {
      "cell_type": "code",
      "execution_count": null,
      "metadata": {
        "colab": {
          "base_uri": "https://localhost:8080/"
        },
        "id": "tfgvb0XE8vBT",
        "outputId": "5071c586-1064-4cff-8ad1-810f3a44405d"
      },
      "outputs": [
        {
          "output_type": "stream",
          "name": "stdout",
          "text": [
            "Shape of the known and ignored data, reference: (2000, 1000)\n",
            "Shape of the known and ignored labels, reference: (2000, 16)\n"
          ]
        }
      ],
      "source": [
        "indices =[slice(900, 1300),slice(1400, 1900),slice(2200, 2500),slice(2600, 2900),slice(500, 700),slice(1300, 1400),slice(2100, 2200),slice(2900, 3000)]\n",
        "\n",
        "Known_and_Ignored_data_X_test = np.concatenate([data_X_test[idx, :] for idx in indices], axis=0)\n",
        "\n",
        "Known_and_Ignored_data_X_test_label_int = []\n",
        "\n",
        "for i in range(100*15):\n",
        "  Known_and_Ignored_data_X_test_label_int.append(int(data_y_test[i]))\n",
        "\n",
        "for i in range(100*5):\n",
        "  Known_and_Ignored_data_X_test_label_int.append(int(data_y_test[100*15]))\n",
        "\n",
        "Known_and_Ignored_data_X_test_label = tf.keras.utils.to_categorical(Known_and_Ignored_data_X_test_label_int)\n",
        "print(\"Shape of the known and ignored data, reference:\", Known_and_Ignored_data_X_test.shape)\n",
        "print(\"Shape of the known and ignored labels, reference:\", Known_and_Ignored_data_X_test_label.shape)"
      ]
    },
    {
      "cell_type": "markdown",
      "metadata": {
        "id": "DZ18vK-Vw0dS"
      },
      "source": [
        "# Leave only $\\mathcal{K}$ samples to test the accuracy. This is done to keep the right shape of the labels."
      ]
    },
    {
      "cell_type": "code",
      "execution_count": null,
      "metadata": {
        "colab": {
          "base_uri": "https://localhost:8080/"
        },
        "id": "JvyfQL8x8vDT",
        "outputId": "96f56785-6f7a-4e89-d801-568fcffb0c4f"
      },
      "outputs": [
        {
          "output_type": "stream",
          "name": "stdout",
          "text": [
            "Shape of the known and ignored data, reference: (1500, 1000)\n",
            "Shape of the known and ignored labels, reference: (1500, 16)\n"
          ]
        }
      ],
      "source": [
        "Known_data_X_test = Known_and_Ignored_data_X_test[:-100*5]\n",
        "Known_data_X_test_label = Known_and_Ignored_data_X_test_label[:-100*5]\n",
        "print(\"Shape of the known and ignored data, reference:\", Known_data_X_test.shape)\n",
        "print(\"Shape of the known and ignored labels, reference:\", Known_data_X_test_label.shape)"
      ]
    },
    {
      "cell_type": "code",
      "execution_count": null,
      "metadata": {
        "colab": {
          "base_uri": "https://localhost:8080/"
        },
        "id": "uIup0HsO4a87",
        "outputId": "f8255f0a-a135-4b0c-e8a2-1b66b8881e5a"
      },
      "outputs": [
        {
          "output_type": "execute_result",
          "data": {
            "text/plain": [
              "(array([[0.19160232, 0.2065446 , 0.28030002, ..., 0.23563497, 0.37440253,\n",
              "         0.1234429 ],\n",
              "        [0.30638947, 0.29189973, 0.28482594, ..., 0.35895567, 0.55908956,\n",
              "         0.40961024],\n",
              "        [0.3213789 , 0.32928288, 0.38951619, ..., 0.21157556, 0.38176924,\n",
              "         0.33508562],\n",
              "        ...,\n",
              "        [0.33129924, 0.50316593, 0.48168109, ..., 0.31934845, 0.50384262,\n",
              "         0.36210063],\n",
              "        [0.2686855 , 0.31092569, 0.35315376, ..., 0.299829  , 0.44510472,\n",
              "         0.5176395 ],\n",
              "        [0.29036289, 0.28097208, 0.41715097, ..., 0.57850548, 0.49272637,\n",
              "         0.58893971]]),\n",
              " array([[1., 0., 0., ..., 0., 0., 0.],\n",
              "        [1., 0., 0., ..., 0., 0., 0.],\n",
              "        [1., 0., 0., ..., 0., 0., 0.],\n",
              "        ...,\n",
              "        [0., 0., 0., ..., 0., 1., 0.],\n",
              "        [0., 0., 0., ..., 0., 1., 0.],\n",
              "        [0., 0., 0., ..., 0., 1., 0.]], dtype=float32))"
            ]
          },
          "metadata": {},
          "execution_count": 7
        }
      ],
      "source": [
        "Known_data_X_test,Known_data_X_test_label\n",
        "\n"
      ]
    },
    {
      "cell_type": "markdown",
      "metadata": {
        "id": "I2fwBprKxC7x"
      },
      "source": [
        "# Defining the $\\mathcal{K}$ labels"
      ]
    },
    {
      "cell_type": "code",
      "execution_count": null,
      "metadata": {
        "id": "5Z8ZbbXr8vEu"
      },
      "outputs": [],
      "source": [
        "KnownLabels = []\n",
        "# 0 - 5\n",
        "KnownLabels.append(Known_and_Ignored_data_X_train_label[1 + 0*2000])\n",
        "KnownLabels.append(Known_and_Ignored_data_X_train_label[1 + 1*2000])\n",
        "KnownLabels.append(Known_and_Ignored_data_X_train_label[1 + 2*2000])\n",
        "KnownLabels.append(Known_and_Ignored_data_X_train_label[1 + 3*2000])\n",
        "KnownLabels.append(Known_and_Ignored_data_X_train_label[1 + 4*2000])\n",
        "\n",
        "# 6 - 10\n",
        "KnownLabels.append(Known_and_Ignored_data_X_train_label[1 + 5*2000])\n",
        "KnownLabels.append(Known_and_Ignored_data_X_train_label[1 + 6*2000])\n",
        "KnownLabels.append(Known_and_Ignored_data_X_train_label[1 + 7*2000])\n",
        "KnownLabels.append(Known_and_Ignored_data_X_train_label[1 + 8*2000])\n",
        "KnownLabels.append(Known_and_Ignored_data_X_train_label[1 + 9*2000])\n",
        "\n",
        "# 10 - 15\n",
        "KnownLabels.append(Known_and_Ignored_data_X_train_label[1 + 10*2000])\n",
        "KnownLabels.append(Known_and_Ignored_data_X_train_label[1 + 11*2000])\n",
        "KnownLabels.append(Known_and_Ignored_data_X_train_label[1 + 12*2000])\n",
        "KnownLabels.append(Known_and_Ignored_data_X_train_label[1 + 13*2000])\n",
        "KnownLabels.append(Known_and_Ignored_data_X_train_label[1 + 14*2000])\n",
        "\n",
        "Ignored_label = Known_and_Ignored_data_X_train_label[1 + 15*2000]"
      ]
    },
    {
      "cell_type": "code",
      "execution_count": null,
      "metadata": {
        "colab": {
          "base_uri": "https://localhost:8080/"
        },
        "id": "jmTb9OT88vHK",
        "outputId": "1f84d870-fc71-4358-dab9-7d80b5dd5c7a"
      },
      "outputs": [
        {
          "output_type": "execute_result",
          "data": {
            "text/plain": [
              "[array([1., 0., 0., 0., 0., 0., 0., 0., 0., 0., 0., 0., 0., 0., 0., 0.],\n",
              "       dtype=float32),\n",
              " array([0., 1., 0., 0., 0., 0., 0., 0., 0., 0., 0., 0., 0., 0., 0., 0.],\n",
              "       dtype=float32),\n",
              " array([0., 0., 1., 0., 0., 0., 0., 0., 0., 0., 0., 0., 0., 0., 0., 0.],\n",
              "       dtype=float32),\n",
              " array([0., 0., 0., 1., 0., 0., 0., 0., 0., 0., 0., 0., 0., 0., 0., 0.],\n",
              "       dtype=float32),\n",
              " array([0., 0., 0., 0., 1., 0., 0., 0., 0., 0., 0., 0., 0., 0., 0., 0.],\n",
              "       dtype=float32),\n",
              " array([0., 0., 0., 0., 0., 1., 0., 0., 0., 0., 0., 0., 0., 0., 0., 0.],\n",
              "       dtype=float32),\n",
              " array([0., 0., 0., 0., 0., 0., 1., 0., 0., 0., 0., 0., 0., 0., 0., 0.],\n",
              "       dtype=float32),\n",
              " array([0., 0., 0., 0., 0., 0., 0., 1., 0., 0., 0., 0., 0., 0., 0., 0.],\n",
              "       dtype=float32),\n",
              " array([0., 0., 0., 0., 0., 0., 0., 0., 1., 0., 0., 0., 0., 0., 0., 0.],\n",
              "       dtype=float32),\n",
              " array([0., 0., 0., 0., 0., 0., 0., 0., 0., 1., 0., 0., 0., 0., 0., 0.],\n",
              "       dtype=float32),\n",
              " array([0., 0., 0., 0., 0., 0., 0., 0., 0., 0., 1., 0., 0., 0., 0., 0.],\n",
              "       dtype=float32),\n",
              " array([0., 0., 0., 0., 0., 0., 0., 0., 0., 0., 0., 1., 0., 0., 0., 0.],\n",
              "       dtype=float32),\n",
              " array([0., 0., 0., 0., 0., 0., 0., 0., 0., 0., 0., 0., 1., 0., 0., 0.],\n",
              "       dtype=float32),\n",
              " array([0., 0., 0., 0., 0., 0., 0., 0., 0., 0., 0., 0., 0., 1., 0., 0.],\n",
              "       dtype=float32),\n",
              " array([0., 0., 0., 0., 0., 0., 0., 0., 0., 0., 0., 0., 0., 0., 1., 0.],\n",
              "       dtype=float32)]"
            ]
          },
          "metadata": {},
          "execution_count": 9
        }
      ],
      "source": [
        "KnownLabels"
      ]
    },
    {
      "cell_type": "markdown",
      "metadata": {
        "id": "efSwPk7XxKZS"
      },
      "source": [
        "# The ignored label $\\mathcal{I}$ is:"
      ]
    },
    {
      "cell_type": "code",
      "execution_count": null,
      "metadata": {
        "colab": {
          "base_uri": "https://localhost:8080/"
        },
        "id": "Ecri__MBWN5i",
        "outputId": "7397e2f3-9002-4c06-edb4-30edbc21bfac"
      },
      "outputs": [
        {
          "output_type": "execute_result",
          "data": {
            "text/plain": [
              "array([0., 0., 0., 0., 0., 0., 0., 0., 0., 0., 0., 0., 0., 0., 0., 1.],\n",
              "      dtype=float32)"
            ]
          },
          "metadata": {},
          "execution_count": 10
        }
      ],
      "source": [
        "Ignored_label"
      ]
    },
    {
      "cell_type": "markdown",
      "metadata": {
        "id": "Ety-KKr0WX1L"
      },
      "source": [
        "# Never seen before samples, $\\mathcal{N}$, first seen during the test: 0 - 500, 700 - 900, 1900 - 2100, 2500 - 2600."
      ]
    },
    {
      "cell_type": "code",
      "execution_count": null,
      "metadata": {
        "colab": {
          "base_uri": "https://localhost:8080/"
        },
        "id": "POJ8qGRHWN-a",
        "outputId": "1d8e89bc-71df-47b2-8e05-c1587c8f46f7"
      },
      "outputs": [
        {
          "output_type": "stream",
          "name": "stdout",
          "text": [
            "Shape of the NeverSeen data, test: (1000, 1000)\n"
          ]
        }
      ],
      "source": [
        "indices = [slice(0, 500),slice(700, 900),slice(1900, 2100),slice(2500, 2600)]\n",
        "NeverSeen_data_X_test = np.concatenate([data_X_test[idx, :] for idx in indices], axis=0)\n",
        "\n",
        "print(\"Shape of the NeverSeen data, test:\", NeverSeen_data_X_test.shape)"
      ]
    },
    {
      "cell_type": "markdown",
      "metadata": {
        "id": "CNsCj3dEnUT-"
      },
      "source": [
        "# Data for finetuning"
      ]
    },
    {
      "cell_type": "code",
      "execution_count": null,
      "metadata": {
        "id": "ltz-27T0WODD"
      },
      "outputs": [],
      "source": [
        "# Finetuning\n",
        "data_X_finetune = np.load(\"/content/gdrive/MyDrive/Stanford_data/X_finetune.npy\")\n",
        "# Test data\n",
        "data_X_test = np.load(\"/content/gdrive/MyDrive/Stanford_data/X_test.npy\")\n",
        "\n",
        "data_y_finetune = np.load(\"/content/gdrive/MyDrive/Stanford_data/y_finetune.npy\")\n",
        "# Test labels\n",
        "data_y_test = np.load(\"/content/gdrive/MyDrive/Stanford_data/y_test.npy\")\n",
        "\n",
        "data_y_finetune_int = []\n",
        "\n",
        "for i in range(data_y_finetune.shape[0]):\n",
        "  data_y_finetune_int.append(int(data_y_finetune[i]))\n",
        "\n",
        "data_y_test_int = []\n",
        "\n",
        "for i in range(data_y_test.shape[0]):\n",
        "  data_y_test_int.append(int(data_y_test[i]))\n",
        "\n",
        "train_label = tf.keras.utils.to_categorical(data_y_finetune_int)\n",
        "test_label = tf.keras.utils.to_categorical(data_y_test_int)\n",
        "\n",
        "#data_X_finetune, train_label = shuffle(data_X_finetune, train_label)"
      ]
    },
    {
      "cell_type": "markdown",
      "metadata": {
        "id": "M-nHKTPjns23"
      },
      "source": [
        "\n",
        "\n",
        "Known data, $\\mathcal{K}$, for the finetuning: 900 - 1300, 1400 - 1900, 2200 - 2500, 2600 - 2900. Ignored samples, $\\mathcal{I}$, finetuning: 500 - 700, 1300 - 1400, 2100 - 2200, 2900 - 3000."
      ]
    },
    {
      "cell_type": "code",
      "execution_count": null,
      "metadata": {
        "colab": {
          "base_uri": "https://localhost:8080/"
        },
        "id": "I_rz3MyPWOFJ",
        "outputId": "0c31a719-a533-41e3-e9f2-2b5f18c4a15e"
      },
      "outputs": [
        {
          "output_type": "stream",
          "name": "stdout",
          "text": [
            "Shape of the known and ignored data, finetune: (2000, 1000)\n",
            "Shape of the known and ignored labels, finetune: (2000, 16)\n"
          ]
        }
      ],
      "source": [
        "indices = [slice(900, 1300),slice(1400, 1900),slice(2200, 2500),slice(2600, 2900),slice(500, 700),slice(1300, 1400),slice(2100, 2200),slice(2900, 3000)]\n",
        "\n",
        "Known_and_Ignored_data_X_finetune = np.concatenate([data_X_finetune[idx, :] for idx in indices], axis=0)\n",
        "\n",
        "Known_and_Ignored_data_X_finetune_label_int = []\n",
        "\n",
        "for i in range(100*15):\n",
        "  Known_and_Ignored_data_X_finetune_label_int.append(int(data_y_finetune[i]))\n",
        "\n",
        "for i in range(100*5):\n",
        "  Known_and_Ignored_data_X_finetune_label_int.append(int(data_y_finetune[100*15]))\n",
        "\n",
        "Known_and_Ignored_data_X_finetune_label = tf.keras.utils.to_categorical(Known_and_Ignored_data_X_finetune_label_int)\n",
        "\n",
        "print(\"Shape of the known and ignored data, finetune:\", Known_and_Ignored_data_X_finetune.shape)\n",
        "print(\"Shape of the known and ignored labels, finetune:\", Known_and_Ignored_data_X_finetune_label.shape)"
      ]
    },
    {
      "cell_type": "markdown",
      "metadata": {
        "id": "TD7H4IVexy7m"
      },
      "source": [
        "# Uploading the libraries"
      ]
    },
    {
      "cell_type": "code",
      "execution_count": null,
      "metadata": {
        "id": "XRxb0a9tqxRv"
      },
      "outputs": [],
      "source": [
        "# Create a checkpoint directory to store the checkpoints.\n",
        "checkpoint_dir = './training_checkpoints'\n",
        "checkpoint_prefix = os.path.join(checkpoint_dir, \"ckpt\")\n",
        "\n",
        "import numpy as np\n",
        "import pandas as pd\n",
        "import seaborn as sns\n",
        "from numpy import interp\n",
        "from itertools import cycle\n",
        "import matplotlib.pyplot as plt\n",
        "from sklearn.model_selection import train_test_split\n",
        "from sklearn.preprocessing import LabelEncoder, OneHotEncoder\n",
        "#from sklearn.metrics import mean_absolute_error, accuracy_score, precision_score, recall_score, f1_score, roc_curve, plot_roc_curve\n",
        "from sklearn.metrics import confusion_matrix, classification_report, auc\n",
        "from sklearn.metrics import precision_recall_curve\n",
        "from sklearn.metrics import average_precision_score\n",
        "from keras.layers import Input, Conv1D, MaxPooling1D, UpSampling1D, concatenate, BatchNormalization, Activation, add\n",
        "from keras.layers import Conv2D, MaxPooling2D, Reshape, Flatten, Dense, GlobalAveragePooling1D, GlobalMaxPooling1D, Multiply, Conv1DTranspose, LeakyReLU, Dropout\n",
        "from keras.models import Model, model_from_json\n",
        "#from keras.optimizers import Adam\n",
        "from keras.callbacks import EarlyStopping, ModelCheckpoint\n",
        "sns.set_theme(style=\"whitegrid\")"
      ]
    },
    {
      "cell_type": "markdown",
      "metadata": {
        "id": "-hEXXg4wx2Dz"
      },
      "source": [
        "# Defining our model"
      ]
    },
    {
      "cell_type": "code",
      "execution_count": null,
      "metadata": {
        "colab": {
          "base_uri": "https://localhost:8080/"
        },
        "id": "Iq9vqf5AovvA",
        "outputId": "443c62e7-4102-4438-c601-00e1f363869a"
      },
      "outputs": [
        {
          "output_type": "stream",
          "name": "stdout",
          "text": [
            "Model: \"ResNet29\"\n",
            "__________________________________________________________________________________________________\n",
            " Layer (type)                Output Shape                 Param #   Connected to                  \n",
            "==================================================================================================\n",
            " input_1 (InputLayer)        [(None, 1000, 1)]            0         []                            \n",
            "                                                                                                  \n",
            " zero_padding1d (ZeroPaddin  (None, 1006, 1)              0         ['input_1[0][0]']             \n",
            " g1D)                                                                                             \n",
            "                                                                                                  \n",
            " Convolution1 (Conv1D)       (None, 500, 64)              512       ['zero_padding1d[0][0]']      \n",
            "                                                                                                  \n",
            " BatchNormStage1 (BatchNorm  (None, 500, 64)              256       ['Convolution1[0][0]']        \n",
            " alization)                                                                                       \n",
            "                                                                                                  \n",
            " activation (Activation)     (None, 500, 64)              0         ['BatchNormStage1[0][0]']     \n",
            "                                                                                                  \n",
            " max_pooling1d (MaxPooling1  (None, 249, 64)              0         ['activation[0][0]']          \n",
            " D)                                                                                               \n",
            "                                                                                                  \n",
            " conv1d (Conv1D)             (None, 249, 64)              12352     ['max_pooling1d[0][0]']       \n",
            "                                                                                                  \n",
            " batch_normalization (Batch  (None, 249, 64)              256       ['conv1d[0][0]']              \n",
            " Normalization)                                                                                   \n",
            "                                                                                                  \n",
            " activation_1 (Activation)   (None, 249, 64)              0         ['batch_normalization[0][0]'] \n",
            "                                                                                                  \n",
            " conv1d_1 (Conv1D)           (None, 249, 64)              12352     ['activation_1[0][0]']        \n",
            "                                                                                                  \n",
            " batch_normalization_1 (Bat  (None, 249, 64)              256       ['conv1d_1[0][0]']            \n",
            " chNormalization)                                                                                 \n",
            "                                                                                                  \n",
            " activation_2 (Activation)   (None, 249, 64)              0         ['batch_normalization_1[0][0]'\n",
            "                                                                    ]                             \n",
            "                                                                                                  \n",
            " res2a_branch (Conv1D)       (None, 249, 256)             49408     ['activation_2[0][0]']        \n",
            "                                                                                                  \n",
            " conv1d_2 (Conv1D)           (None, 249, 256)             16640     ['max_pooling1d[0][0]']       \n",
            "                                                                                                  \n",
            " batch_normalization_2 (Bat  (None, 249, 256)             1024      ['res2a_branch[0][0]']        \n",
            " chNormalization)                                                                                 \n",
            "                                                                                                  \n",
            " batch_normalization_3 (Bat  (None, 249, 256)             1024      ['conv1d_2[0][0]']            \n",
            " chNormalization)                                                                                 \n",
            "                                                                                                  \n",
            " add (Add)                   (None, 249, 256)             0         ['batch_normalization_2[0][0]'\n",
            "                                                                    , 'batch_normalization_3[0][0]\n",
            "                                                                    ']                            \n",
            "                                                                                                  \n",
            " activation_3 (Activation)   (None, 249, 256)             0         ['add[0][0]']                 \n",
            "                                                                                                  \n",
            " conv1d_3 (Conv1D)           (None, 249, 64)              16448     ['activation_3[0][0]']        \n",
            "                                                                                                  \n",
            " batch_normalization_4 (Bat  (None, 249, 64)              256       ['conv1d_3[0][0]']            \n",
            " chNormalization)                                                                                 \n",
            "                                                                                                  \n",
            " activation_4 (Activation)   (None, 249, 64)              0         ['batch_normalization_4[0][0]'\n",
            "                                                                    ]                             \n",
            "                                                                                                  \n",
            " conv1d_4 (Conv1D)           (None, 249, 64)              12352     ['activation_4[0][0]']        \n",
            "                                                                                                  \n",
            " batch_normalization_5 (Bat  (None, 249, 64)              256       ['conv1d_4[0][0]']            \n",
            " chNormalization)                                                                                 \n",
            "                                                                                                  \n",
            " activation_5 (Activation)   (None, 249, 64)              0         ['batch_normalization_5[0][0]'\n",
            "                                                                    ]                             \n",
            "                                                                                                  \n",
            " conv1d_5 (Conv1D)           (None, 249, 256)             16640     ['activation_5[0][0]']        \n",
            "                                                                                                  \n",
            " batch_normalization_6 (Bat  (None, 249, 256)             1024      ['conv1d_5[0][0]']            \n",
            " chNormalization)                                                                                 \n",
            "                                                                                                  \n",
            " add_1 (Add)                 (None, 249, 256)             0         ['batch_normalization_6[0][0]'\n",
            "                                                                    , 'activation_3[0][0]']       \n",
            "                                                                                                  \n",
            " activation_6 (Activation)   (None, 249, 256)             0         ['add_1[0][0]']               \n",
            "                                                                                                  \n",
            " conv1d_6 (Conv1D)           (None, 125, 128)             98432     ['activation_6[0][0]']        \n",
            "                                                                                                  \n",
            " batch_normalization_7 (Bat  (None, 125, 128)             512       ['conv1d_6[0][0]']            \n",
            " chNormalization)                                                                                 \n",
            "                                                                                                  \n",
            " activation_7 (Activation)   (None, 125, 128)             0         ['batch_normalization_7[0][0]'\n",
            "                                                                    ]                             \n",
            "                                                                                                  \n",
            " conv1d_7 (Conv1D)           (None, 125, 128)             49280     ['activation_7[0][0]']        \n",
            "                                                                                                  \n",
            " batch_normalization_8 (Bat  (None, 125, 128)             512       ['conv1d_7[0][0]']            \n",
            " chNormalization)                                                                                 \n",
            "                                                                                                  \n",
            " activation_8 (Activation)   (None, 125, 128)             0         ['batch_normalization_8[0][0]'\n",
            "                                                                    ]                             \n",
            "                                                                                                  \n",
            " res3a_branch (Conv1D)       (None, 125, 512)             197120    ['activation_8[0][0]']        \n",
            "                                                                                                  \n",
            " conv1d_8 (Conv1D)           (None, 125, 512)             131584    ['activation_6[0][0]']        \n",
            "                                                                                                  \n",
            " batch_normalization_9 (Bat  (None, 125, 512)             2048      ['res3a_branch[0][0]']        \n",
            " chNormalization)                                                                                 \n",
            "                                                                                                  \n",
            " batch_normalization_10 (Ba  (None, 125, 512)             2048      ['conv1d_8[0][0]']            \n",
            " tchNormalization)                                                                                \n",
            "                                                                                                  \n",
            " add_2 (Add)                 (None, 125, 512)             0         ['batch_normalization_9[0][0]'\n",
            "                                                                    , 'batch_normalization_10[0][0\n",
            "                                                                    ]']                           \n",
            "                                                                                                  \n",
            " activation_9 (Activation)   (None, 125, 512)             0         ['add_2[0][0]']               \n",
            "                                                                                                  \n",
            " conv1d_9 (Conv1D)           (None, 125, 128)             65664     ['activation_9[0][0]']        \n",
            "                                                                                                  \n",
            " batch_normalization_11 (Ba  (None, 125, 128)             512       ['conv1d_9[0][0]']            \n",
            " tchNormalization)                                                                                \n",
            "                                                                                                  \n",
            " activation_10 (Activation)  (None, 125, 128)             0         ['batch_normalization_11[0][0]\n",
            "                                                                    ']                            \n",
            "                                                                                                  \n",
            " conv1d_10 (Conv1D)          (None, 125, 128)             49280     ['activation_10[0][0]']       \n",
            "                                                                                                  \n",
            " batch_normalization_12 (Ba  (None, 125, 128)             512       ['conv1d_10[0][0]']           \n",
            " tchNormalization)                                                                                \n",
            "                                                                                                  \n",
            " activation_11 (Activation)  (None, 125, 128)             0         ['batch_normalization_12[0][0]\n",
            "                                                                    ']                            \n",
            "                                                                                                  \n",
            " conv1d_11 (Conv1D)          (None, 125, 512)             66048     ['activation_11[0][0]']       \n",
            "                                                                                                  \n",
            " batch_normalization_13 (Ba  (None, 125, 512)             2048      ['conv1d_11[0][0]']           \n",
            " tchNormalization)                                                                                \n",
            "                                                                                                  \n",
            " add_3 (Add)                 (None, 125, 512)             0         ['batch_normalization_13[0][0]\n",
            "                                                                    ',                            \n",
            "                                                                     'activation_9[0][0]']        \n",
            "                                                                                                  \n",
            " activation_12 (Activation)  (None, 125, 512)             0         ['add_3[0][0]']               \n",
            "                                                                                                  \n",
            " conv1d_12 (Conv1D)          (None, 63, 256)              393472    ['activation_12[0][0]']       \n",
            "                                                                                                  \n",
            " batch_normalization_14 (Ba  (None, 63, 256)              1024      ['conv1d_12[0][0]']           \n",
            " tchNormalization)                                                                                \n",
            "                                                                                                  \n",
            " activation_13 (Activation)  (None, 63, 256)              0         ['batch_normalization_14[0][0]\n",
            "                                                                    ']                            \n",
            "                                                                                                  \n",
            " conv1d_13 (Conv1D)          (None, 63, 256)              196864    ['activation_13[0][0]']       \n",
            "                                                                                                  \n",
            " batch_normalization_15 (Ba  (None, 63, 256)              1024      ['conv1d_13[0][0]']           \n",
            " tchNormalization)                                                                                \n",
            "                                                                                                  \n",
            " activation_14 (Activation)  (None, 63, 256)              0         ['batch_normalization_15[0][0]\n",
            "                                                                    ']                            \n",
            "                                                                                                  \n",
            " res4a_branch (Conv1D)       (None, 63, 1024)             787456    ['activation_14[0][0]']       \n",
            "                                                                                                  \n",
            " conv1d_14 (Conv1D)          (None, 63, 1024)             525312    ['activation_12[0][0]']       \n",
            "                                                                                                  \n",
            " batch_normalization_16 (Ba  (None, 63, 1024)             4096      ['res4a_branch[0][0]']        \n",
            " tchNormalization)                                                                                \n",
            "                                                                                                  \n",
            " batch_normalization_17 (Ba  (None, 63, 1024)             4096      ['conv1d_14[0][0]']           \n",
            " tchNormalization)                                                                                \n",
            "                                                                                                  \n",
            " add_4 (Add)                 (None, 63, 1024)             0         ['batch_normalization_16[0][0]\n",
            "                                                                    ',                            \n",
            "                                                                     'batch_normalization_17[0][0]\n",
            "                                                                    ']                            \n",
            "                                                                                                  \n",
            " activation_15 (Activation)  (None, 63, 1024)             0         ['add_4[0][0]']               \n",
            "                                                                                                  \n",
            " conv1d_15 (Conv1D)          (None, 63, 256)              262400    ['activation_15[0][0]']       \n",
            "                                                                                                  \n",
            " batch_normalization_18 (Ba  (None, 63, 256)              1024      ['conv1d_15[0][0]']           \n",
            " tchNormalization)                                                                                \n",
            "                                                                                                  \n",
            " activation_16 (Activation)  (None, 63, 256)              0         ['batch_normalization_18[0][0]\n",
            "                                                                    ']                            \n",
            "                                                                                                  \n",
            " conv1d_16 (Conv1D)          (None, 63, 256)              196864    ['activation_16[0][0]']       \n",
            "                                                                                                  \n",
            " batch_normalization_19 (Ba  (None, 63, 256)              1024      ['conv1d_16[0][0]']           \n",
            " tchNormalization)                                                                                \n",
            "                                                                                                  \n",
            " activation_17 (Activation)  (None, 63, 256)              0         ['batch_normalization_19[0][0]\n",
            "                                                                    ']                            \n",
            "                                                                                                  \n",
            " conv1d_17 (Conv1D)          (None, 63, 1024)             263168    ['activation_17[0][0]']       \n",
            "                                                                                                  \n",
            " batch_normalization_20 (Ba  (None, 63, 1024)             4096      ['conv1d_17[0][0]']           \n",
            " tchNormalization)                                                                                \n",
            "                                                                                                  \n",
            " add_5 (Add)                 (None, 63, 1024)             0         ['batch_normalization_20[0][0]\n",
            "                                                                    ',                            \n",
            "                                                                     'activation_15[0][0]']       \n",
            "                                                                                                  \n",
            " activation_18 (Activation)  (None, 63, 1024)             0         ['add_5[0][0]']               \n",
            "                                                                                                  \n",
            " conv1d_18 (Conv1D)          (None, 32, 256)              786688    ['activation_18[0][0]']       \n",
            "                                                                                                  \n",
            " batch_normalization_21 (Ba  (None, 32, 256)              1024      ['conv1d_18[0][0]']           \n",
            " tchNormalization)                                                                                \n",
            "                                                                                                  \n",
            " activation_19 (Activation)  (None, 32, 256)              0         ['batch_normalization_21[0][0]\n",
            "                                                                    ']                            \n",
            "                                                                                                  \n",
            " conv1d_19 (Conv1D)          (None, 32, 256)              196864    ['activation_19[0][0]']       \n",
            "                                                                                                  \n",
            " batch_normalization_22 (Ba  (None, 32, 256)              1024      ['conv1d_19[0][0]']           \n",
            " tchNormalization)                                                                                \n",
            "                                                                                                  \n",
            " activation_20 (Activation)  (None, 32, 256)              0         ['batch_normalization_22[0][0]\n",
            "                                                                    ']                            \n",
            "                                                                                                  \n",
            " res5a_branch (Conv1D)       (None, 32, 2048)             1574912   ['activation_20[0][0]']       \n",
            "                                                                                                  \n",
            " conv1d_20 (Conv1D)          (None, 32, 2048)             2099200   ['activation_18[0][0]']       \n",
            "                                                                                                  \n",
            " batch_normalization_23 (Ba  (None, 32, 2048)             8192      ['res5a_branch[0][0]']        \n",
            " tchNormalization)                                                                                \n",
            "                                                                                                  \n",
            " batch_normalization_24 (Ba  (None, 32, 2048)             8192      ['conv1d_20[0][0]']           \n",
            " tchNormalization)                                                                                \n",
            "                                                                                                  \n",
            " add_6 (Add)                 (None, 32, 2048)             0         ['batch_normalization_23[0][0]\n",
            "                                                                    ',                            \n",
            "                                                                     'batch_normalization_24[0][0]\n",
            "                                                                    ']                            \n",
            "                                                                                                  \n",
            " activation_21 (Activation)  (None, 32, 2048)             0         ['add_6[0][0]']               \n",
            "                                                                                                  \n",
            " conv1d_21 (Conv1D)          (None, 32, 256)              524544    ['activation_21[0][0]']       \n",
            "                                                                                                  \n",
            " batch_normalization_25 (Ba  (None, 32, 256)              1024      ['conv1d_21[0][0]']           \n",
            " tchNormalization)                                                                                \n",
            "                                                                                                  \n",
            " activation_22 (Activation)  (None, 32, 256)              0         ['batch_normalization_25[0][0]\n",
            "                                                                    ']                            \n",
            "                                                                                                  \n",
            " conv1d_22 (Conv1D)          (None, 32, 256)              196864    ['activation_22[0][0]']       \n",
            "                                                                                                  \n",
            " batch_normalization_26 (Ba  (None, 32, 256)              1024      ['conv1d_22[0][0]']           \n",
            " tchNormalization)                                                                                \n",
            "                                                                                                  \n",
            " activation_23 (Activation)  (None, 32, 256)              0         ['batch_normalization_26[0][0]\n",
            "                                                                    ']                            \n",
            "                                                                                                  \n",
            " conv1d_23 (Conv1D)          (None, 32, 2048)             526336    ['activation_23[0][0]']       \n",
            "                                                                                                  \n",
            " batch_normalization_27 (Ba  (None, 32, 2048)             8192      ['conv1d_23[0][0]']           \n",
            " tchNormalization)                                                                                \n",
            "                                                                                                  \n",
            " add_7 (Add)                 (None, 32, 2048)             0         ['batch_normalization_27[0][0]\n",
            "                                                                    ',                            \n",
            "                                                                     'activation_21[0][0]']       \n",
            "                                                                                                  \n",
            " activation_24 (Activation)  (None, 32, 2048)             0         ['add_7[0][0]']               \n",
            "                                                                                                  \n",
            " global_average_pooling1d (  (None, 2048)                 0         ['activation_24[0][0]']       \n",
            " GlobalAveragePooling1D)                                                                          \n",
            "                                                                                                  \n",
            " reshape (Reshape)           (None, 1, 2048)              0         ['global_average_pooling1d[0][\n",
            "                                                                    0]']                          \n",
            "                                                                                                  \n",
            " dense (Dense)               (None, 1, 128)               262272    ['reshape[0][0]']             \n",
            "                                                                                                  \n",
            " dense_1 (Dense)             (None, 1, 2048)              264192    ['dense[0][0]']               \n",
            "                                                                                                  \n",
            " multiply (Multiply)         (None, 32, 2048)             0         ['activation_24[0][0]',       \n",
            "                                                                     'dense_1[0][0]']             \n",
            "                                                                                                  \n",
            " conv1d_transpose (Conv1DTr  (None, 64, 64)               393280    ['multiply[0][0]']            \n",
            " anspose)                                                                                         \n",
            "                                                                                                  \n",
            " batch_normalization_28 (Ba  (None, 64, 64)               256       ['conv1d_transpose[0][0]']    \n",
            " tchNormalization)                                                                                \n",
            "                                                                                                  \n",
            " leaky_re_lu (LeakyReLU)     (None, 64, 64)               0         ['batch_normalization_28[0][0]\n",
            "                                                                    ']                            \n",
            "                                                                                                  \n",
            " flatten (Flatten)           (None, 4096)                 0         ['leaky_re_lu[0][0]']         \n",
            "                                                                                                  \n",
            " dropout (Dropout)           (None, 4096)                 0         ['flatten[0][0]']             \n",
            "                                                                                                  \n",
            " dense_2 (Dense)             (None, 16)                   65552     ['dropout[0][0]']             \n",
            "                                                                                                  \n",
            "==================================================================================================\n",
            "Total params: 10368208 (39.55 MB)\n",
            "Trainable params: 10310480 (39.33 MB)\n",
            "Non-trainable params: 57728 (225.50 KB)\n",
            "__________________________________________________________________________________________________\n"
          ]
        }
      ],
      "source": [
        "# Constants\n",
        "NoF = 64  # Number of filters in the first convolutional layer\n",
        "SE_RATIO = 16  # Squeeze-and-Excitation ratio\n",
        "\n",
        "initializer = tf.keras.initializers.GlorotUniform(seed=0)\n",
        "initializer2 = tf.keras.initializers.HeUniform(seed=0)\n",
        "\n",
        "def squeeze_excitation_block(X, ratio=16):\n",
        "    num_channels = X.shape[-1]\n",
        "    se = tf.keras.layers.GlobalAveragePooling1D()(X)\n",
        "    se = tf.keras.layers.Reshape((1, num_channels))(se)\n",
        "    se = tf.keras.layers.Dense(num_channels // ratio, activation='relu', kernel_initializer=initializer)(se)\n",
        "    se = tf.keras.layers.Dense(num_channels, activation='sigmoid', kernel_initializer=initializer)(se)\n",
        "    return tf.keras.layers.Multiply()([X, se])\n",
        "\n",
        "\n",
        "from tensorflow.keras.layers import Conv1D, BatchNormalization, Activation, Add\n",
        "from tensorflow.keras import models, layers\n",
        "from tensorflow.keras import regularizers\n",
        "\n",
        "initializer = tf.keras.initializers.GlorotUniform(seed=0)\n",
        "initializer2 = tf.keras.initializers.HeUniform(seed=0)\n",
        "Stride=1\n",
        "\n",
        "def identity_block(X, f, filters, stage, block):\n",
        "\n",
        "  #defining name basis\n",
        "  ConvNameBase = 'res' + str(stage) + block + '_branch'\n",
        "  BatchNormBase = 'bn' + str(stage) + block + '_branch'\n",
        "\n",
        "  #retrieve filters\n",
        "  F1,F2,F3 = filters\n",
        "\n",
        "  #save the input value. You'll need this later to add back the main path\n",
        "  x_shortcut = X\n",
        "\n",
        "  ### First component of the main path ###\n",
        "  X = tf.keras.layers.Conv1D(filters=F1, kernel_size=1, strides=Stride, padding='same',\n",
        "             kernel_initializer=initializer#, name=ConvNameBase\n",
        "             )(X)\n",
        "  X = tf.keras.layers.BatchNormalization(axis=2, momentum=0.99, trainable=False,\n",
        "                         )(X)\n",
        "  X = tf.keras.layers.Activation('relu')(X)\n",
        "\n",
        "  ### Second component of main path ###\n",
        "  X = tf.keras.layers.Conv1D(filters=F2, kernel_size=f, strides=Stride, padding='same',\n",
        "             kernel_initializer=initializer, #name=ConvNameBase\n",
        "             )(X)\n",
        "  X = tf.keras.layers.BatchNormalization(axis=2, momentum=0.99, trainable=False,\n",
        "                         )(X)\n",
        "  X = tf.keras.layers.Activation('relu')(X)\n",
        "\n",
        "  #Third Component of main path\n",
        "  X = tf.keras.layers.Conv1D(filters=F3, kernel_size=1, strides=Stride, padding='same',\n",
        "             kernel_initializer=initializer#,name=ConvNameBase\n",
        "             )(X)\n",
        "  X = tf.keras.layers.BatchNormalization(axis=2, momentum=0.99, trainable=False,\n",
        "                         )(X)\n",
        "\n",
        "  #Final step: add shortcut to the main path, and pass it through ReLU activation\n",
        "  X = tf.keras.layers.Add()([X, x_shortcut])\n",
        "  X = tf.keras.layers.Activation('relu')(X)\n",
        "\n",
        "  return X\n",
        "\n",
        "def convolutional_block(X, f, filters, stage, block, s=2):\n",
        "\n",
        "  #Defining name bases\n",
        "  ConvNameBase = 'res' + str(stage) + block + '_branch'\n",
        "  BatchNormBase = 'res' + str(stage) + block + '_branch'\n",
        "\n",
        "  #retrive n_filters\n",
        "  F1, F2, F3 = filters\n",
        "\n",
        "  #Save the input value\n",
        "  x_shortcut = X\n",
        "\n",
        "  #First component of the main path\n",
        "  X = tf.keras.layers.Conv1D(F1, strides=s, kernel_size=f, kernel_initializer=initializer,\n",
        "             padding='same'#, name=ConvNameBase\n",
        "             )(X)\n",
        "  X = tf.keras.layers.BatchNormalization(axis=2, momentum=0.99, trainable=False,\n",
        "                         )(X)\n",
        "  X = tf.keras.layers.Activation('relu')(X)\n",
        "\n",
        "  #Second Component of main path\n",
        "  X = tf.keras.layers.Conv1D(filters=F2, kernel_size=f, strides=Stride, padding='same',\n",
        "             kernel_initializer=initializer#, name=ConvNameBase\n",
        "             )(X)\n",
        "  X = tf.keras.layers.BatchNormalization(axis=2, momentum=0.99, trainable=False,\n",
        "                         )(X)\n",
        "  X = tf.keras.layers.Activation('relu')(X)\n",
        "\n",
        "  #Third component of main path\n",
        "  X = tf.keras.layers.Conv1D(filters=F3, kernel_size=f, strides=Stride, padding='same',\n",
        "             kernel_initializer=initializer, name=ConvNameBase)(X)\n",
        "  X = tf.keras.layers.BatchNormalization(axis=2, momentum=0.99, trainable=False,\n",
        "  )(X)\n",
        "\n",
        "  ###### SHORTCUT PATH ######\n",
        "  x_shortcut = tf.keras.layers.Conv1D(filters = F3, kernel_size=1, strides=s,\n",
        "                      padding='same', #name=ConvNameBase,\n",
        "                      kernel_initializer=initializer)(x_shortcut)\n",
        "  x_shortcut = tf.keras.layers.BatchNormalization(axis=2, momentum=0.99, trainable=False,\n",
        "                                  )(x_shortcut)\n",
        "\n",
        "  #Add shortcut to main path and pass in through ReLU activation\n",
        "  X = tf.keras.layers.Add()([X, x_shortcut])\n",
        "  X = tf.keras.layers.Activation('relu')(X)\n",
        "\n",
        "  return X\n",
        "\n",
        "def create_model():\n",
        "    input_shape = (1000, 1)\n",
        "    nb_classes = 15 + 1\n",
        "\n",
        "    x_input = tf.keras.layers.Input(input_shape)\n",
        "    X = tf.keras.layers.ZeroPadding1D(padding=3)(x_input)\n",
        "\n",
        "    X = tf.keras.layers.Conv1D(NoF, kernel_size=7, strides=2, name='Convolution1',\n",
        "                               kernel_initializer=initializer)(X)\n",
        "    X = tf.keras.layers.BatchNormalization(name=\"BatchNormStage1\")(X)\n",
        "    X = tf.keras.layers.Activation('relu')(X)\n",
        "    X = tf.keras.layers.MaxPooling1D(3, strides=2)(X)\n",
        "\n",
        "    X = convolutional_block(X, f=3, filters=[NoF, NoF, NoF * 4], stage=2, block='a', s=1)\n",
        "    X = identity_block(X, 3, [NoF, NoF, NoF * 4], stage=2, block='b')\n",
        "\n",
        "    X = convolutional_block(X, f=3, filters=[NoF * 2, NoF * 2, NoF * 8], stage=3, block='a')\n",
        "    X = identity_block(X, 3, [NoF * 2, NoF * 2, NoF * 8], stage=3, block='b')\n",
        "\n",
        "    X = convolutional_block(X, f=3, filters=[NoF * 4, NoF * 4, NoF * 16], stage=4, block='a')\n",
        "    X = identity_block(X, 3, [NoF * 4, NoF * 4, NoF * 16], stage=4, block='b')\n",
        "\n",
        "    X = convolutional_block(X, f=3, filters=[NoF * 4, NoF * 4, NoF * 32], stage=5, block='a')\n",
        "    X = identity_block(X, f=3, filters=[NoF * 4, NoF * 4, NoF * 32], stage=5, block='b')\n",
        "\n",
        "    # Applying SE mechanism before transposed convolutional layers\n",
        "    X = squeeze_excitation_block(X)\n",
        "\n",
        "    # Adding transposed convolutional layers\n",
        "    X = Conv1DTranspose(filters=NoF, kernel_size=3, strides=2, padding='same', kernel_initializer=initializer)(X)\n",
        "    X = tf.keras.layers.BatchNormalization(axis=2, momentum=0.99, trainable=False,)(X)\n",
        "    X = LeakyReLU(alpha=0.2)(X)\n",
        "\n",
        "    X = Flatten()(X)\n",
        "\n",
        "    # Adding dropout regularization\n",
        "    X = Dropout(0.5)(X)\n",
        "\n",
        "    X = Dense(nb_classes, activation='softmax', kernel_initializer=initializer)(X)\n",
        "\n",
        "    res_net = models.Model(inputs=x_input, outputs=X, name='ResNet29')\n",
        "\n",
        "    return res_net\n",
        "\n",
        "model = create_model()\n",
        "model.summary()"
      ]
    },
    {
      "cell_type": "code",
      "execution_count": null,
      "metadata": {
        "id": "2fYAuiycWOHj"
      },
      "outputs": [],
      "source": [
        "with strategy.scope():\n",
        "\n",
        "  # By N_classes, I mean classes of interest.\n",
        "  N_classes = 15\n",
        "\n",
        "  def Open_set_categorical_crossentropy_trial_total(target,output):\n",
        "    def Open_set_categorical_crossentropy_trial_first(target,output):\n",
        "      output = tf.convert_to_tensor(output)\n",
        "      target = tf.cast(target, target.dtype)\n",
        "\n",
        "      epsilon = tf.keras.backend.epsilon()\n",
        "      output = tf.clip_by_value(output, epsilon, 1. - epsilon)\n",
        "\n",
        "      Sum = tf.math.reduce_sum(output,axis=-1,keepdims=True)\n",
        "\n",
        "      output = tf.math.divide(output, Sum)\n",
        "\n",
        "      Checker = tf.math.reduce_sum(tf.math.multiply(Ignored_label, target),axis=-1)\n",
        "      One = tf.math.reduce_sum(tf.math.multiply(Ignored_label, Ignored_label),axis=-1)\n",
        "\n",
        "      output = - tf.math.reduce_sum(tf.math.multiply(target,tf.math.log(output)),axis=-1)\n",
        "      output = tf.math.multiply(tf.math.subtract(One,Checker),output)\n",
        "\n",
        "      return output\n",
        "\n",
        "    def Open_set_categorical_crossentropy_trial_second(target,output):\n",
        "      output = tf.convert_to_tensor(output)\n",
        "      target = tf.cast(target, target.dtype)\n",
        "\n",
        "      epsilon = tf.keras.backend.epsilon()\n",
        "      output = tf.clip_by_value(output, epsilon, 1. - epsilon)\n",
        "\n",
        "      Sum = tf.math.reduce_sum(output,axis=-1,keepdims=True)\n",
        "\n",
        "      output = tf.math.divide(output, Sum)\n",
        "\n",
        "      Checker = tf.math.reduce_sum(tf.math.multiply(Ignored_label, target),axis=-1)\n",
        "      One = tf.math.reduce_sum(tf.math.multiply(Ignored_label, Ignored_label),axis=-1)\n",
        "      Zero = tf.math.reduce_sum(tf.math.multiply(KnownLabels[1], KnownLabels[2]),axis=-1)\n",
        "\n",
        "      for i in range(N_classes):\n",
        "        addon = - tf.math.reduce_sum(tf.math.multiply(KnownLabels[i], tf.math.log(output)),axis=-1)\n",
        "        addon = tf.math.divide(addon,N_classes)\n",
        "        Zero = tf.math.add(addon,Zero)\n",
        "      Zero = tf.math.multiply(Checker, Zero)\n",
        "\n",
        "      return Zero\n",
        "\n",
        "    output1 = Open_set_categorical_crossentropy_trial_first(target,output)\n",
        "    output2 = Open_set_categorical_crossentropy_trial_second(target,output)\n",
        "    output3 = Open_set_categorical_crossentropy_trial_second(target,output)\n",
        "\n",
        "    output = tf.math.add(output1,output2)\n",
        "    output = tf.math.add(output,output3)\n",
        "\n",
        "    return output\n",
        "\n",
        "  res_net = create_model()\n",
        "\n",
        "  optimizer = tf.keras.optimizers.Adam(learning_rate=.00001)\n",
        "\n",
        "  checkpoint = tf.train.Checkpoint(optimizer=optimizer, model=res_net)\n",
        "\n",
        "  callbacks = [EarlyStopping(monitor='val_loss', patience=20, mode='min'), ModelCheckpoint('/content/gdrive/MyDrive/Stanford_data/01_EOS_K_p1_p2_I_p3.h5', verbose=1, monitor='val_loss', save_best_only=True, mode='min')]\n",
        "  res_net.compile(loss=Open_set_categorical_crossentropy_trial_total,optimizer=tf.keras.optimizers.Adam(learning_rate=.00001))\n",
        "\n",
        "  Known_and_Ignored_data_X_reference, Known_and_Ignored_data_X_train_label = shuffle(Known_and_Ignored_data_X_reference,Known_and_Ignored_data_X_train_label)\n",
        "\n",
        "  history = res_net.fit(Known_and_Ignored_data_X_reference, Known_and_Ignored_data_X_train_label, epochs=200, batch_size=32, verbose=1, validation_split=0.2, shuffle=True, callbacks=callbacks)"
      ]
    },
    {
      "cell_type": "code",
      "execution_count": null,
      "metadata": {
        "colab": {
          "base_uri": "https://localhost:8080/"
        },
        "id": "KUeC7gc9WOQP",
        "outputId": "2538831a-8845-45fe-f7f9-13a810640241"
      },
      "outputs": [
        {
          "name": "stdout",
          "output_type": "stream",
          "text": [
            "47/47 [==============================] - 8s 110ms/step - loss: 2.6263 - accuracy: 0.6180\n",
            "Test accuracy, 01 run: 0.6179999709129333\n",
            "47/47 [==============================] - 12s 114ms/step - loss: 2.4148 - accuracy: 0.5787\n",
            "Test accuracy, 02 run: 0.5786666870117188\n",
            "47/47 [==============================] - 8s 106ms/step - loss: 2.2250 - accuracy: 0.5773\n",
            "Test accuracy, 03 run: 0.5773333311080933\n",
            "47/47 [==============================] - 7s 114ms/step - loss: 2.5784 - accuracy: 0.5933\n",
            "Test accuracy, 04 run: 0.5933333039283752\n",
            "47/47 [==============================] - 7s 112ms/step - loss: 2.2333 - accuracy: 0.5787\n",
            "Test accuracy, 05 run: 0.5786666870117188\n",
            "47/47 [==============================] - 7s 110ms/step - loss: 2.5543 - accuracy: 0.6067\n",
            "Test accuracy, 06 run: 0.6066666841506958\n",
            "47/47 [==============================] - 9s 111ms/step - loss: 2.2229 - accuracy: 0.5787\n",
            "Test accuracy, 07 run: 0.5786666870117188\n",
            "47/47 [==============================] - 7s 111ms/step - loss: 2.5556 - accuracy: 0.5827\n",
            "Test accuracy, 08 run: 0.5826666951179504\n",
            "47/47 [==============================] - 7s 112ms/step - loss: 1.9369 - accuracy: 0.5993\n",
            "Test accuracy, 09 run: 0.5993333458900452\n",
            "47/47 [==============================] - 7s 106ms/step - loss: 2.4205 - accuracy: 0.5947\n",
            "Test accuracy, 10 run: 0.5946666598320007\n",
            "47/47 [==============================] - 7s 114ms/step - loss: 2.4550 - accuracy: 0.5960\n",
            "Test accuracy, 11 run: 0.5960000157356262\n",
            "47/47 [==============================] - 7s 116ms/step - loss: 2.6179 - accuracy: 0.5833\n",
            "Test accuracy, 12 run: 0.5833333134651184\n",
            "47/47 [==============================] - 8s 112ms/step - loss: 2.6018 - accuracy: 0.5767\n",
            "Test accuracy, 13 run: 0.5766666531562805\n",
            "47/47 [==============================] - 7s 113ms/step - loss: 2.5867 - accuracy: 0.5907\n",
            "Test accuracy, 14 run: 0.590666651725769\n",
            "47/47 [==============================] - 7s 112ms/step - loss: 2.2113 - accuracy: 0.5947\n",
            "Test accuracy, 15 run: 0.5946666598320007\n",
            "47/47 [==============================] - 8s 112ms/step - loss: 2.5398 - accuracy: 0.5900\n",
            "Test accuracy, 16 run: 0.5899999737739563\n",
            "47/47 [==============================] - 7s 116ms/step - loss: 2.1024 - accuracy: 0.6080\n",
            "Test accuracy, 17 run: 0.6079999804496765\n",
            "47/47 [==============================] - 10s 115ms/step - loss: 2.2901 - accuracy: 0.6007\n",
            "Test accuracy, 18 run: 0.6006666421890259\n",
            "47/47 [==============================] - 7s 113ms/step - loss: 2.8675 - accuracy: 0.6007\n",
            "Test accuracy, 19 run: 0.6006666421890259\n",
            "47/47 [==============================] - 8s 112ms/step - loss: 2.4446 - accuracy: 0.5900\n",
            "Test accuracy, 20 run: 0.5899999737739563\n"
          ]
        }
      ],
      "source": [
        "# Now run and see the models with the best validation accuracy\n",
        "\n",
        "res_net = create_model()\n",
        "res_net.load_weights(\"/content/gdrive/MyDrive/Stanford_data/01_EOS_K_p1_p2_I_p3.h5\")\n",
        "res_net.compile(loss=\"categorical_crossentropy\",optimizer=tf.keras.optimizers.Adam(learning_rate=.00001),\n",
        "            metrics=['accuracy'])\n",
        "test_loss, test_acc = res_net.evaluate(Known_data_X_test,Known_data_X_test_label)\n",
        "print('Test accuracy, 01 run:', test_acc)\n",
        "\n",
        "res_net = create_model()\n",
        "res_net.load_weights(\"/content/gdrive/MyDrive/Stanford_data/02_EOS_K_p1_p2_I_p3.h5\")\n",
        "res_net.compile(loss=\"categorical_crossentropy\",optimizer=tf.keras.optimizers.Adam(learning_rate=.00001),\n",
        "            metrics=['accuracy'])\n",
        "test_loss, test_acc = res_net.evaluate(Known_data_X_test,Known_data_X_test_label)\n",
        "print('Test accuracy, 02 run:', test_acc)\n",
        "\n",
        "res_net = create_model()\n",
        "res_net.load_weights(\"/content/gdrive/MyDrive/Stanford_data/03_EOS_K_p1_p2_I_p3.h5\")\n",
        "res_net.compile(loss=\"categorical_crossentropy\",optimizer=tf.keras.optimizers.Adam(learning_rate=.00001),\n",
        "            metrics=['accuracy'])\n",
        "test_loss, test_acc = res_net.evaluate(Known_data_X_test,Known_data_X_test_label)\n",
        "print('Test accuracy, 03 run:', test_acc)\n",
        "\n",
        "res_net = create_model()\n",
        "res_net.load_weights(\"/content/gdrive/MyDrive/Stanford_data/04_EOS_K_p1_p2_I_p3.h5\")\n",
        "res_net.compile(loss=\"categorical_crossentropy\",optimizer=tf.keras.optimizers.Adam(learning_rate=.00001),\n",
        "            metrics=['accuracy'])\n",
        "test_loss, test_acc = res_net.evaluate(Known_data_X_test,Known_data_X_test_label)\n",
        "print('Test accuracy, 04 run:', test_acc)\n",
        "\n",
        "res_net = create_model()\n",
        "res_net.load_weights(\"/content/gdrive/MyDrive/Stanford_data/05_EOS_K_p1_p2_I_p3.h5\")\n",
        "res_net.compile(loss=\"categorical_crossentropy\",optimizer=tf.keras.optimizers.Adam(learning_rate=.00001),\n",
        "            metrics=['accuracy'])\n",
        "test_loss, test_acc = res_net.evaluate(Known_data_X_test,Known_data_X_test_label)\n",
        "print('Test accuracy, 05 run:', test_acc)\n",
        "\n",
        "res_net = create_model()\n",
        "res_net.load_weights(\"/content/gdrive/MyDrive/Stanford_data/06_EOS_K_p1_p2_I_p3.h5\")\n",
        "res_net.compile(loss=\"categorical_crossentropy\",optimizer=tf.keras.optimizers.Adam(learning_rate=.00001),\n",
        "            metrics=['accuracy'])\n",
        "test_loss, test_acc = res_net.evaluate(Known_data_X_test,Known_data_X_test_label)\n",
        "print('Test accuracy, 06 run:', test_acc)\n",
        "\n",
        "res_net = create_model()\n",
        "res_net.load_weights(\"/content/gdrive/MyDrive/Stanford_data/07_EOS_K_p1_p2_I_p3.h5\")\n",
        "res_net.compile(loss=\"categorical_crossentropy\",optimizer=tf.keras.optimizers.Adam(learning_rate=.00001),\n",
        "            metrics=['accuracy'])\n",
        "test_loss, test_acc = res_net.evaluate(Known_data_X_test,Known_data_X_test_label)\n",
        "print('Test accuracy, 07 run:', test_acc)\n",
        "\n",
        "res_net = create_model()\n",
        "res_net.load_weights(\"/content/gdrive/MyDrive/Stanford_data/08_EOS_K_p1_p2_I_p3.h5\")\n",
        "res_net.compile(loss=\"categorical_crossentropy\",optimizer=tf.keras.optimizers.Adam(learning_rate=.00001),\n",
        "            metrics=['accuracy'])\n",
        "test_loss, test_acc = res_net.evaluate(Known_data_X_test,Known_data_X_test_label)\n",
        "print('Test accuracy, 08 run:', test_acc)\n",
        "\n",
        "res_net = create_model()\n",
        "res_net.load_weights(\"/content/gdrive/MyDrive/Stanford_data/09_EOS_K_p1_p2_I_p3.h5\")\n",
        "res_net.compile(loss=\"categorical_crossentropy\",optimizer=tf.keras.optimizers.Adam(learning_rate=.00001),\n",
        "            metrics=['accuracy'])\n",
        "test_loss, test_acc = res_net.evaluate(Known_data_X_test,Known_data_X_test_label)\n",
        "print('Test accuracy, 09 run:', test_acc)\n",
        "\n",
        "res_net = create_model()\n",
        "res_net.load_weights(\"/content/gdrive/MyDrive/Stanford_data/10_EOS_K_p1_p2_I_p3.h5\")\n",
        "res_net.compile(loss=\"categorical_crossentropy\",optimizer=tf.keras.optimizers.Adam(learning_rate=.00001),\n",
        "            metrics=['accuracy'])\n",
        "test_loss, test_acc = res_net.evaluate(Known_data_X_test,Known_data_X_test_label)\n",
        "print('Test accuracy, 10 run:', test_acc)\n",
        "\n",
        "res_net = create_model()\n",
        "res_net.load_weights(\"/content/gdrive/MyDrive/Stanford_data/11_EOS_K_p1_p2_I_p3.h5\")\n",
        "res_net.compile(loss=\"categorical_crossentropy\",optimizer=tf.keras.optimizers.Adam(learning_rate=.00001),\n",
        "            metrics=['accuracy'])\n",
        "test_loss, test_acc = res_net.evaluate(Known_data_X_test,Known_data_X_test_label)\n",
        "print('Test accuracy, 11 run:', test_acc)\n",
        "\n",
        "res_net = create_model()\n",
        "res_net.load_weights(\"/content/gdrive/MyDrive/Stanford_data/12_EOS_K_p1_p2_I_p3.h5\")\n",
        "res_net.compile(loss=\"categorical_crossentropy\",optimizer=tf.keras.optimizers.Adam(learning_rate=.00001),\n",
        "            metrics=['accuracy'])\n",
        "test_loss, test_acc = res_net.evaluate(Known_data_X_test,Known_data_X_test_label)\n",
        "print('Test accuracy, 12 run:', test_acc)\n",
        "\n",
        "res_net = create_model()\n",
        "res_net.load_weights(\"/content/gdrive/MyDrive/Stanford_data/13_EOS_K_p1_p2_I_p3.h5\")\n",
        "res_net.compile(loss=\"categorical_crossentropy\",optimizer=tf.keras.optimizers.Adam(learning_rate=.00001),\n",
        "            metrics=['accuracy'])\n",
        "test_loss, test_acc = res_net.evaluate(Known_data_X_test,Known_data_X_test_label)\n",
        "print('Test accuracy, 13 run:', test_acc)\n",
        "\n",
        "res_net = create_model()\n",
        "res_net.load_weights(\"/content/gdrive/MyDrive/Stanford_data/14_EOS_K_p1_p2_I_p3.h5\")\n",
        "res_net.compile(loss=\"categorical_crossentropy\",optimizer=tf.keras.optimizers.Adam(learning_rate=.00001),\n",
        "            metrics=['accuracy'])\n",
        "test_loss, test_acc = res_net.evaluate(Known_data_X_test,Known_data_X_test_label)\n",
        "print('Test accuracy, 14 run:', test_acc)\n",
        "\n",
        "res_net = create_model()\n",
        "res_net.load_weights(\"/content/gdrive/MyDrive/Stanford_data/15_EOS_K_p1_p2_I_p3.h5\")\n",
        "res_net.compile(loss=\"categorical_crossentropy\",optimizer=tf.keras.optimizers.Adam(learning_rate=.00001),\n",
        "            metrics=['accuracy'])\n",
        "test_loss, test_acc = res_net.evaluate(Known_data_X_test,Known_data_X_test_label)\n",
        "print('Test accuracy, 15 run:', test_acc)\n",
        "\n",
        "res_net = create_model()\n",
        "res_net.load_weights(\"/content/gdrive/MyDrive/Stanford_data/16_EOS_K_p1_p2_I_p3.h5\")\n",
        "res_net.compile(loss=\"categorical_crossentropy\",optimizer=tf.keras.optimizers.Adam(learning_rate=.00001),\n",
        "            metrics=['accuracy'])\n",
        "test_loss, test_acc = res_net.evaluate(Known_data_X_test,Known_data_X_test_label)\n",
        "print('Test accuracy, 16 run:', test_acc)\n",
        "\n",
        "res_net = create_model()\n",
        "res_net.load_weights(\"/content/gdrive/MyDrive/Stanford_data/17_EOS_K_p1_p2_I_p3.h5\")\n",
        "res_net.compile(loss=\"categorical_crossentropy\",optimizer=tf.keras.optimizers.Adam(learning_rate=.00001),\n",
        "            metrics=['accuracy'])\n",
        "test_loss, test_acc = res_net.evaluate(Known_data_X_test,Known_data_X_test_label)\n",
        "print('Test accuracy, 17 run:', test_acc)\n",
        "\n",
        "res_net = create_model()\n",
        "res_net.load_weights(\"/content/gdrive/MyDrive/Stanford_data/18_EOS_K_p1_p2_I_p3.h5\")\n",
        "res_net.compile(loss=\"categorical_crossentropy\",optimizer=tf.keras.optimizers.Adam(learning_rate=.00001),\n",
        "            metrics=['accuracy'])\n",
        "test_loss, test_acc = res_net.evaluate(Known_data_X_test,Known_data_X_test_label)\n",
        "print('Test accuracy, 18 run:', test_acc)\n",
        "\n",
        "res_net = create_model()\n",
        "res_net.load_weights(\"/content/gdrive/MyDrive/Stanford_data/19_EOS_K_p1_p2_I_p3.h5\")\n",
        "res_net.compile(loss=\"categorical_crossentropy\",optimizer=tf.keras.optimizers.Adam(learning_rate=.00001),\n",
        "            metrics=['accuracy'])\n",
        "test_loss, test_acc = res_net.evaluate(Known_data_X_test,Known_data_X_test_label)\n",
        "print('Test accuracy, 19 run:', test_acc)\n",
        "\n",
        "res_net = create_model()\n",
        "res_net.load_weights(\"/content/gdrive/MyDrive/Stanford_data/20_EOS_K_p1_p2_I_p3.h5\")\n",
        "res_net.compile(loss=\"categorical_crossentropy\",optimizer=tf.keras.optimizers.Adam(learning_rate=.00001),\n",
        "            metrics=['accuracy'])\n",
        "test_loss, test_acc = res_net.evaluate(Known_data_X_test,Known_data_X_test_label)\n",
        "print('Test accuracy, 20 run:', test_acc)\n"
      ]
    },
    {
      "cell_type": "code",
      "execution_count": null,
      "metadata": {
        "id": "7mdNItDdr5n2"
      },
      "outputs": [],
      "source": [
        "with strategy.scope():\n",
        "\n",
        "  # By N_classes, I mean classes of interest.\n",
        "  N_classes = 15\n",
        "\n",
        "  def Open_set_categorical_crossentropy_trial_total(target,output):\n",
        "    def Open_set_categorical_crossentropy_trial_first(target,output):\n",
        "      output = tf.convert_to_tensor(output)\n",
        "      target = tf.cast(target, target.dtype)\n",
        "\n",
        "      epsilon = tf.keras.backend.epsilon()\n",
        "      output = tf.clip_by_value(output, epsilon, 1. - epsilon)\n",
        "\n",
        "      Sum = tf.math.reduce_sum(output,axis=-1,keepdims=True)\n",
        "\n",
        "      output = tf.math.divide(output, Sum)\n",
        "\n",
        "      Checker = tf.math.reduce_sum(tf.math.multiply(Ignored_label, target),axis=-1)\n",
        "      One = tf.math.reduce_sum(tf.math.multiply(Ignored_label, Ignored_label),axis=-1)\n",
        "\n",
        "      output = - tf.math.reduce_sum(tf.math.multiply(target,tf.math.log(output)),axis=-1)\n",
        "      output = tf.math.multiply(tf.math.subtract(One,Checker),output)\n",
        "\n",
        "      return output\n",
        "\n",
        "    def Open_set_categorical_crossentropy_trial_second(target,output):\n",
        "      output = tf.convert_to_tensor(output)\n",
        "      target = tf.cast(target, target.dtype)\n",
        "\n",
        "      epsilon = tf.keras.backend.epsilon()\n",
        "      output = tf.clip_by_value(output, epsilon, 1. - epsilon)\n",
        "\n",
        "      Sum = tf.math.reduce_sum(output,axis=-1,keepdims=True)\n",
        "\n",
        "      output = tf.math.divide(output, Sum)\n",
        "\n",
        "      Checker = tf.math.reduce_sum(tf.math.multiply(Ignored_label, target),axis=-1)\n",
        "      One = tf.math.reduce_sum(tf.math.multiply(Ignored_label, Ignored_label),axis=-1)\n",
        "      Zero = tf.math.reduce_sum(tf.math.multiply(KnownLabels[1], KnownLabels[2]),axis=-1)\n",
        "\n",
        "      for i in range(N_classes):\n",
        "        addon = - tf.math.reduce_sum(tf.math.multiply(KnownLabels[i], tf.math.log(output)),axis=-1)\n",
        "        addon = tf.math.divide(addon,N_classes)\n",
        "        Zero = tf.math.add(addon,Zero)\n",
        "      Zero = tf.math.multiply(Checker, Zero)\n",
        "\n",
        "      return Zero\n",
        "\n",
        "    output1 = Open_set_categorical_crossentropy_trial_first(target,output)\n",
        "    output2 = Open_set_categorical_crossentropy_trial_second(target,output)\n",
        "    output3 = Open_set_categorical_crossentropy_trial_second(target,output)\n",
        "\n",
        "    output = tf.math.add(output1,output2)\n",
        "    output = tf.math.add(output,output3)\n",
        "\n",
        "    return output\n",
        "\n",
        "  res_net = create_model()\n",
        "\n",
        "  optimizer = tf.keras.optimizers.Adam(learning_rate=.00001/10)\n",
        "\n",
        "  checkpoint = tf.train.Checkpoint(optimizer=optimizer, model=res_net)\n",
        "\n",
        "  callbacks = [EarlyStopping(monitor='val_loss', patience=30, mode='min'), ModelCheckpoint('/content/gdrive/MyDrive/Stanford_data/01_EOS_K_p1_p2_I_p3_FTm3.h5', verbose=1, monitor='val_loss', save_best_only=True, mode='min')]\n",
        "  res_net.compile(loss=Open_set_categorical_crossentropy_trial_total,optimizer=tf.keras.optimizers.Adam(learning_rate=.00001/10))\n",
        "\n",
        "  Known_and_Ignored_data_X_finetune,Known_and_Ignored_data_X_finetune_label = shuffle(Known_and_Ignored_data_X_finetune,Known_and_Ignored_data_X_finetune_label)\n",
        "\n",
        "  res_net.load_weights(\"/content/gdrive/MyDrive/Stanford_data/01_EOS_K_p1_p2_I_p3.h5\")\n",
        "\n",
        "  for layer in res_net.layers[:-3]:\n",
        "    layer.trainable = False\n",
        "\n",
        "  history = res_net.fit(Known_and_Ignored_data_X_finetune,Known_and_Ignored_data_X_finetune_label, epochs=500, batch_size=32, verbose=1, validation_split=0.2, shuffle=True, callbacks=callbacks)\n",
        "\n",
        "  res_net.save_weights('/content/gdrive/MyDrive/Stanford_data/01_EOS_K_p1_p2_I_p3_FTm3_PP.h5')"
      ]
    },
    {
      "cell_type": "code",
      "execution_count": null,
      "metadata": {
        "id": "iwRCFpNqr5sV",
        "colab": {
          "base_uri": "https://localhost:8080/"
        },
        "outputId": "e1bff232-441d-4d54-d809-a4266fb1c096"
      },
      "outputs": [
        {
          "output_type": "stream",
          "name": "stdout",
          "text": [
            "47/47 [==============================] - 31s 602ms/step - loss: 0.3786 - accuracy: 0.9033\n",
            "Test accuracy, 01 run: 0.903333306312561\n",
            "47/47 [==============================] - 32s 649ms/step - loss: 0.3385 - accuracy: 0.9113\n",
            "Test accuracy, 02 run: 0.9113333225250244\n",
            "47/47 [==============================] - 31s 616ms/step - loss: 0.3698 - accuracy: 0.9013\n",
            "Test accuracy, 03 run: 0.9013333320617676\n",
            "47/47 [==============================] - 32s 604ms/step - loss: 0.4324 - accuracy: 0.8913\n",
            "Test accuracy, 04 run: 0.8913333415985107\n",
            "47/47 [==============================] - 31s 615ms/step - loss: 0.3841 - accuracy: 0.8993\n",
            "Test accuracy, 05 run: 0.8993333578109741\n",
            "47/47 [==============================] - 31s 612ms/step - loss: 0.4094 - accuracy: 0.8940\n",
            "Test accuracy, 06 run: 0.8939999938011169\n",
            "47/47 [==============================] - 31s 594ms/step - loss: 0.3690 - accuracy: 0.9027\n",
            "Test accuracy, 07 run: 0.9026666879653931\n",
            "47/47 [==============================] - 31s 610ms/step - loss: 0.3372 - accuracy: 0.9087\n",
            "Test accuracy, 08 run: 0.9086666703224182\n",
            "47/47 [==============================] - 31s 611ms/step - loss: 0.3466 - accuracy: 0.8987\n",
            "Test accuracy, 09 run: 0.8986666798591614\n",
            "47/47 [==============================] - 32s 606ms/step - loss: 0.3633 - accuracy: 0.9020\n",
            "Test accuracy, 10 run: 0.9020000100135803\n",
            "47/47 [==============================] - 30s 608ms/step - loss: 0.3773 - accuracy: 0.8980\n",
            "Test accuracy, 11 run: 0.8980000019073486\n",
            "47/47 [==============================] - 30s 607ms/step - loss: 0.3912 - accuracy: 0.8973\n",
            "Test accuracy, 12 run: 0.8973333239555359\n",
            "47/47 [==============================] - 31s 599ms/step - loss: 0.4607 - accuracy: 0.8907\n",
            "Test accuracy, 13 run: 0.890666663646698\n",
            "47/47 [==============================] - 30s 608ms/step - loss: 0.3773 - accuracy: 0.9027\n",
            "Test accuracy, 14 run: 0.9026666879653931\n",
            "47/47 [==============================] - 31s 613ms/step - loss: 0.3604 - accuracy: 0.8967\n",
            "Test accuracy, 15 run: 0.8966666460037231\n",
            "47/47 [==============================] - 31s 612ms/step - loss: 0.3858 - accuracy: 0.9013\n",
            "Test accuracy, 16 run: 0.9013333320617676\n",
            "47/47 [==============================] - 32s 633ms/step - loss: 0.3493 - accuracy: 0.9047\n",
            "Test accuracy, 17 run: 0.9046666622161865\n",
            "47/47 [==============================] - 31s 616ms/step - loss: 0.3681 - accuracy: 0.9007\n",
            "Test accuracy, 18 run: 0.9006666541099548\n",
            "47/47 [==============================] - 32s 612ms/step - loss: 0.4533 - accuracy: 0.8953\n",
            "Test accuracy, 19 run: 0.8953333497047424\n",
            "47/47 [==============================] - 31s 620ms/step - loss: 0.3881 - accuracy: 0.8973\n",
            "Test accuracy, 20 run: 0.8973333239555359\n"
          ]
        }
      ],
      "source": [
        "# Now run and see the models with the best validation accuracy\n",
        "\n",
        "res_net = create_model()\n",
        "res_net.load_weights(\"/content/gdrive/MyDrive/Stanford_data/01_EOS_K_p1_p2_I_p3_FTm3_PP.h5\")\n",
        "res_net.compile(loss=\"categorical_crossentropy\",optimizer=tf.keras.optimizers.Adam(learning_rate=.00001/10),\n",
        "            metrics=['accuracy'])\n",
        "test_loss, test_acc = res_net.evaluate(Known_data_X_test,Known_data_X_test_label)\n",
        "print('Test accuracy, 01 run:', test_acc)\n",
        "\n",
        "res_net = create_model()\n",
        "res_net.load_weights(\"/content/gdrive/MyDrive/Stanford_data/02_EOS_K_p1_p2_I_p3_FTm3_PP.h5\")\n",
        "res_net.compile(loss=\"categorical_crossentropy\",optimizer=tf.keras.optimizers.Adam(learning_rate=.00001/10),\n",
        "            metrics=['accuracy'])\n",
        "test_loss, test_acc = res_net.evaluate(Known_data_X_test,Known_data_X_test_label)\n",
        "print('Test accuracy, 02 run:', test_acc)\n",
        "\n",
        "res_net = create_model()\n",
        "res_net.load_weights(\"/content/gdrive/MyDrive/Stanford_data/03_EOS_K_p1_p2_I_p3_FTm3_PP.h5\")\n",
        "res_net.compile(loss=\"categorical_crossentropy\",optimizer=tf.keras.optimizers.Adam(learning_rate=.00001/10),\n",
        "            metrics=['accuracy'])\n",
        "test_loss, test_acc = res_net.evaluate(Known_data_X_test,Known_data_X_test_label)\n",
        "print('Test accuracy, 03 run:', test_acc)\n",
        "\n",
        "res_net = create_model()\n",
        "res_net.load_weights(\"/content/gdrive/MyDrive/Stanford_data/04_EOS_K_p1_p2_I_p3_FTm3_PP.h5\")\n",
        "res_net.compile(loss=\"categorical_crossentropy\",optimizer=tf.keras.optimizers.Adam(learning_rate=.00001/10),\n",
        "            metrics=['accuracy'])\n",
        "test_loss, test_acc = res_net.evaluate(Known_data_X_test,Known_data_X_test_label)\n",
        "print('Test accuracy, 04 run:', test_acc)\n",
        "\n",
        "res_net = create_model()\n",
        "res_net.load_weights(\"/content/gdrive/MyDrive/Stanford_data/05_EOS_K_p1_p2_I_p3_FTm3_PP.h5\")\n",
        "res_net.compile(loss=\"categorical_crossentropy\",optimizer=tf.keras.optimizers.Adam(learning_rate=.00001/10),\n",
        "            metrics=['accuracy'])\n",
        "test_loss, test_acc = res_net.evaluate(Known_data_X_test,Known_data_X_test_label)\n",
        "print('Test accuracy, 05 run:', test_acc)\n",
        "\n",
        "res_net = create_model()\n",
        "res_net.load_weights(\"/content/gdrive/MyDrive/Stanford_data/06_EOS_K_p1_p2_I_p3_FTm3_PP.h5\")\n",
        "res_net.compile(loss=\"categorical_crossentropy\",optimizer=tf.keras.optimizers.Adam(learning_rate=.00001/10),\n",
        "            metrics=['accuracy'])\n",
        "test_loss, test_acc = res_net.evaluate(Known_data_X_test,Known_data_X_test_label)\n",
        "print('Test accuracy, 06 run:', test_acc)\n",
        "\n",
        "res_net = create_model()\n",
        "res_net.load_weights(\"/content/gdrive/MyDrive/Stanford_data/07_EOS_K_p1_p2_I_p3_FTm3_PP.h5\")\n",
        "res_net.compile(loss=\"categorical_crossentropy\",optimizer=tf.keras.optimizers.Adam(learning_rate=.00001/10),\n",
        "            metrics=['accuracy'])\n",
        "test_loss, test_acc = res_net.evaluate(Known_data_X_test,Known_data_X_test_label)\n",
        "print('Test accuracy, 07 run:', test_acc)\n",
        "\n",
        "res_net = create_model()\n",
        "res_net.load_weights(\"/content/gdrive/MyDrive/Stanford_data/08_EOS_K_p1_p2_I_p3_FTm3_PP.h5\")\n",
        "res_net.compile(loss=\"categorical_crossentropy\",optimizer=tf.keras.optimizers.Adam(learning_rate=.00001/10),\n",
        "            metrics=['accuracy'])\n",
        "test_loss, test_acc = res_net.evaluate(Known_data_X_test,Known_data_X_test_label)\n",
        "print('Test accuracy, 08 run:', test_acc)\n",
        "\n",
        "res_net = create_model()\n",
        "res_net.load_weights(\"/content/gdrive/MyDrive/Stanford_data/09_EOS_K_p1_p2_I_p3_FTm3_PP.h5\")\n",
        "res_net.compile(loss=\"categorical_crossentropy\",optimizer=tf.keras.optimizers.Adam(learning_rate=.00001/10),\n",
        "            metrics=['accuracy'])\n",
        "test_loss, test_acc = res_net.evaluate(Known_data_X_test,Known_data_X_test_label)\n",
        "print('Test accuracy, 09 run:', test_acc)\n",
        "\n",
        "res_net = create_model()\n",
        "res_net.load_weights(\"/content/gdrive/MyDrive/Stanford_data/10_EOS_K_p1_p2_I_p3_FTm3_PP.h5\")\n",
        "res_net.compile(loss=\"categorical_crossentropy\",optimizer=tf.keras.optimizers.Adam(learning_rate=.00001/10),\n",
        "            metrics=['accuracy'])\n",
        "test_loss, test_acc = res_net.evaluate(Known_data_X_test,Known_data_X_test_label)\n",
        "print('Test accuracy, 10 run:', test_acc)\n",
        "\n",
        "res_net = create_model()\n",
        "res_net.load_weights(\"/content/gdrive/MyDrive/Stanford_data/11_EOS_K_p1_p2_I_p3_FTm3_PP.h5\")\n",
        "res_net.compile(loss=\"categorical_crossentropy\",optimizer=tf.keras.optimizers.Adam(learning_rate=.00001/10),\n",
        "            metrics=['accuracy'])\n",
        "test_loss, test_acc = res_net.evaluate(Known_data_X_test,Known_data_X_test_label)\n",
        "print('Test accuracy, 11 run:', test_acc)\n",
        "\n",
        "res_net = create_model()\n",
        "res_net.load_weights(\"/content/gdrive/MyDrive/Stanford_data/12_EOS_K_p1_p2_I_p3_FTm3_PP.h5\")\n",
        "res_net.compile(loss=\"categorical_crossentropy\",optimizer=tf.keras.optimizers.Adam(learning_rate=.00001/10),\n",
        "            metrics=['accuracy'])\n",
        "test_loss, test_acc = res_net.evaluate(Known_data_X_test,Known_data_X_test_label)\n",
        "print('Test accuracy, 12 run:', test_acc)\n",
        "\n",
        "res_net = create_model()\n",
        "res_net.load_weights(\"/content/gdrive/MyDrive/Stanford_data/13_EOS_K_p1_p2_I_p3_FTm3_PP.h5\")\n",
        "res_net.compile(loss=\"categorical_crossentropy\",optimizer=tf.keras.optimizers.Adam(learning_rate=.00001/10),\n",
        "            metrics=['accuracy'])\n",
        "test_loss, test_acc = res_net.evaluate(Known_data_X_test,Known_data_X_test_label)\n",
        "print('Test accuracy, 13 run:', test_acc)\n",
        "\n",
        "res_net = create_model()\n",
        "res_net.load_weights(\"/content/gdrive/MyDrive/Stanford_data/14_EOS_K_p1_p2_I_p3_FTm3_PP.h5\")\n",
        "res_net.compile(loss=\"categorical_crossentropy\",optimizer=tf.keras.optimizers.Adam(learning_rate=.00001/10),\n",
        "            metrics=['accuracy'])\n",
        "test_loss, test_acc = res_net.evaluate(Known_data_X_test,Known_data_X_test_label)\n",
        "print('Test accuracy, 14 run:', test_acc)\n",
        "\n",
        "res_net = create_model()\n",
        "res_net.load_weights(\"/content/gdrive/MyDrive/Stanford_data/15_EOS_K_p1_p2_I_p3_FTm3_PP.h5\")\n",
        "res_net.compile(loss=\"categorical_crossentropy\",optimizer=tf.keras.optimizers.Adam(learning_rate=.00001/10),\n",
        "            metrics=['accuracy'])\n",
        "test_loss, test_acc = res_net.evaluate(Known_data_X_test,Known_data_X_test_label)\n",
        "print('Test accuracy, 15 run:', test_acc)\n",
        "\n",
        "res_net = create_model()\n",
        "res_net.load_weights(\"/content/gdrive/MyDrive/Stanford_data/16_EOS_K_p1_p2_I_p3_FTm3_PP.h5\")\n",
        "res_net.compile(loss=\"categorical_crossentropy\",optimizer=tf.keras.optimizers.Adam(learning_rate=.00001/10),\n",
        "            metrics=['accuracy'])\n",
        "test_loss, test_acc = res_net.evaluate(Known_data_X_test,Known_data_X_test_label)\n",
        "print('Test accuracy, 16 run:', test_acc)\n",
        "\n",
        "res_net = create_model()\n",
        "res_net.load_weights(\"/content/gdrive/MyDrive/Stanford_data/17_EOS_K_p1_p2_I_p3_FTm3_PP.h5\")\n",
        "res_net.compile(loss=\"categorical_crossentropy\",optimizer=tf.keras.optimizers.Adam(learning_rate=.00001/10),\n",
        "            metrics=['accuracy'])\n",
        "test_loss, test_acc = res_net.evaluate(Known_data_X_test,Known_data_X_test_label)\n",
        "print('Test accuracy, 17 run:', test_acc)\n",
        "\n",
        "res_net = create_model()\n",
        "res_net.load_weights(\"/content/gdrive/MyDrive/Stanford_data/18_EOS_K_p1_p2_I_p3_FTm3_PP.h5\")\n",
        "res_net.compile(loss=\"categorical_crossentropy\",optimizer=tf.keras.optimizers.Adam(learning_rate=.00001/10),\n",
        "            metrics=['accuracy'])\n",
        "test_loss, test_acc = res_net.evaluate(Known_data_X_test,Known_data_X_test_label)\n",
        "print('Test accuracy, 18 run:', test_acc)\n",
        "\n",
        "res_net = create_model()\n",
        "res_net.load_weights(\"/content/gdrive/MyDrive/Stanford_data/19_EOS_K_p1_p2_I_p3_FTm3_PP.h5\")\n",
        "res_net.compile(loss=\"categorical_crossentropy\",optimizer=tf.keras.optimizers.Adam(learning_rate=.00001/10),\n",
        "            metrics=['accuracy'])\n",
        "test_loss, test_acc = res_net.evaluate(Known_data_X_test,Known_data_X_test_label)\n",
        "print('Test accuracy, 19 run:', test_acc)\n",
        "\n",
        "res_net = create_model()\n",
        "res_net.load_weights(\"/content/gdrive/MyDrive/Stanford_data/20_EOS_K_p1_p2_I_p3_FTm3_PP.h5\")\n",
        "res_net.compile(loss=\"categorical_crossentropy\",optimizer=tf.keras.optimizers.Adam(learning_rate=.00001/10),\n",
        "            metrics=['accuracy'])\n",
        "test_loss, test_acc = res_net.evaluate(Known_data_X_test,Known_data_X_test_label)\n",
        "print('Test accuracy, 20 run:', test_acc)"
      ]
    },
    {
      "cell_type": "code",
      "source": [
        "Known_data_X_test_label_int = []\n",
        "for i in range(Known_data_X_test_label.shape[0]):\n",
        "  Known_data_X_test_label_int.append(np.argmax(Known_data_X_test_label[i]))"
      ],
      "metadata": {
        "id": "5VfCTZGKFgC6"
      },
      "execution_count": null,
      "outputs": []
    },
    {
      "cell_type": "markdown",
      "source": [
        "# Combining the models into ensembles"
      ],
      "metadata": {
        "id": "hnnwf6SDn-V4"
      }
    },
    {
      "cell_type": "code",
      "source": [
        "res_net01 = create_model()\n",
        "res_net02 = create_model()\n",
        "res_net03 = create_model()\n",
        "res_net04 = create_model()\n",
        "res_net05 = create_model()\n",
        "res_net06 = create_model()\n",
        "res_net07 = create_model()\n",
        "res_net08 = create_model()\n",
        "res_net09 = create_model()\n",
        "res_net10 = create_model()\n",
        "res_net11 = create_model()\n",
        "res_net12 = create_model()\n",
        "res_net13 = create_model()\n",
        "res_net14 = create_model()\n",
        "res_net15 = create_model()\n",
        "res_net16 = create_model()\n",
        "res_net17 = create_model()\n",
        "res_net18 = create_model()\n",
        "res_net19 = create_model()\n",
        "res_net20 = create_model()\n",
        "\n",
        "res_net01.load_weights(\"/content/gdrive/MyDrive/Stanford_data/01_EOS_K_p1_p2_I_p3_FTm3_PP.h5\")\n",
        "res_net02.load_weights(\"/content/gdrive/MyDrive/Stanford_data/02_EOS_K_p1_p2_I_p3_FTm3_PP.h5\")\n",
        "res_net03.load_weights(\"/content/gdrive/MyDrive/Stanford_data/03_EOS_K_p1_p2_I_p3_FTm3_PP.h5\")\n",
        "res_net04.load_weights(\"/content/gdrive/MyDrive/Stanford_data/04_EOS_K_p1_p2_I_p3_FTm3_PP.h5\")\n",
        "res_net05.load_weights(\"/content/gdrive/MyDrive/Stanford_data/05_EOS_K_p1_p2_I_p3_FTm3_PP.h5\")\n",
        "res_net06.load_weights(\"/content/gdrive/MyDrive/Stanford_data/06_EOS_K_p1_p2_I_p3_FTm3_PP.h5\")\n",
        "res_net07.load_weights(\"/content/gdrive/MyDrive/Stanford_data/07_EOS_K_p1_p2_I_p3_FTm3_PP.h5\")\n",
        "res_net08.load_weights(\"/content/gdrive/MyDrive/Stanford_data/08_EOS_K_p1_p2_I_p3_FTm3_PP.h5\")\n",
        "res_net09.load_weights(\"/content/gdrive/MyDrive/Stanford_data/09_EOS_K_p1_p2_I_p3_FTm3_PP.h5\")\n",
        "res_net10.load_weights(\"/content/gdrive/MyDrive/Stanford_data/10_EOS_K_p1_p2_I_p3_FTm3_PP.h5\")\n",
        "res_net11.load_weights(\"/content/gdrive/MyDrive/Stanford_data/11_EOS_K_p1_p2_I_p3_FTm3_PP.h5\")\n",
        "res_net12.load_weights(\"/content/gdrive/MyDrive/Stanford_data/12_EOS_K_p1_p2_I_p3_FTm3_PP.h5\")\n",
        "res_net13.load_weights(\"/content/gdrive/MyDrive/Stanford_data/13_EOS_K_p1_p2_I_p3_FTm3_PP.h5\")\n",
        "res_net14.load_weights(\"/content/gdrive/MyDrive/Stanford_data/14_EOS_K_p1_p2_I_p3_FTm3_PP.h5\")\n",
        "res_net15.load_weights(\"/content/gdrive/MyDrive/Stanford_data/15_EOS_K_p1_p2_I_p3_FTm3_PP.h5\")\n",
        "res_net16.load_weights(\"/content/gdrive/MyDrive/Stanford_data/16_EOS_K_p1_p2_I_p3_FTm3_PP.h5\")\n",
        "res_net17.load_weights(\"/content/gdrive/MyDrive/Stanford_data/17_EOS_K_p1_p2_I_p3_FTm3_PP.h5\")\n",
        "res_net18.load_weights(\"/content/gdrive/MyDrive/Stanford_data/18_EOS_K_p1_p2_I_p3_FTm3_PP.h5\")\n",
        "res_net19.load_weights(\"/content/gdrive/MyDrive/Stanford_data/19_EOS_K_p1_p2_I_p3_FTm3_PP.h5\")\n",
        "res_net20.load_weights(\"/content/gdrive/MyDrive/Stanford_data/20_EOS_K_p1_p2_I_p3_FTm3_PP.h5\")\n",
        "\n",
        "\n",
        "prediction01_known = res_net01.predict(Known_data_X_test)\n",
        "prediction02_known = res_net02.predict(Known_data_X_test)\n",
        "prediction03_known = res_net03.predict(Known_data_X_test)\n",
        "prediction04_known = res_net04.predict(Known_data_X_test)\n",
        "prediction05_known = res_net05.predict(Known_data_X_test)\n",
        "prediction06_known = res_net06.predict(Known_data_X_test)\n",
        "prediction07_known = res_net07.predict(Known_data_X_test)\n",
        "prediction08_known = res_net08.predict(Known_data_X_test)\n",
        "prediction09_known = res_net09.predict(Known_data_X_test)\n",
        "prediction10_known = res_net10.predict(Known_data_X_test)\n",
        "\n",
        "prediction11_known = res_net11.predict(Known_data_X_test)\n",
        "prediction12_known = res_net12.predict(Known_data_X_test)\n",
        "prediction13_known = res_net13.predict(Known_data_X_test)\n",
        "prediction14_known = res_net14.predict(Known_data_X_test)\n",
        "prediction15_known = res_net15.predict(Known_data_X_test)\n",
        "prediction16_known = res_net16.predict(Known_data_X_test)\n",
        "prediction17_known = res_net17.predict(Known_data_X_test)\n",
        "prediction18_known = res_net18.predict(Known_data_X_test)\n",
        "prediction19_known = res_net19.predict(Known_data_X_test)\n",
        "prediction20_known = res_net20.predict(Known_data_X_test)"
      ],
      "metadata": {
        "colab": {
          "base_uri": "https://localhost:8080/"
        },
        "id": "YoQo74dY34HC",
        "outputId": "8b1ac59f-8881-4607-f36d-a269bfe1060d"
      },
      "execution_count": null,
      "outputs": [
        {
          "output_type": "stream",
          "name": "stdout",
          "text": [
            "47/47 [==============================] - 11s 201ms/step\n",
            "47/47 [==============================] - 12s 234ms/step\n",
            "47/47 [==============================] - 10s 196ms/step\n",
            "47/47 [==============================] - 11s 212ms/step\n",
            "47/47 [==============================] - 10s 190ms/step\n",
            "47/47 [==============================] - 10s 181ms/step\n",
            "47/47 [==============================] - 10s 184ms/step\n",
            "47/47 [==============================] - 10s 188ms/step\n",
            "47/47 [==============================] - 10s 192ms/step\n",
            "47/47 [==============================] - 10s 196ms/step\n",
            "47/47 [==============================] - 10s 202ms/step\n",
            "47/47 [==============================] - 11s 195ms/step\n",
            "47/47 [==============================] - 11s 205ms/step\n",
            "47/47 [==============================] - 11s 206ms/step\n",
            "47/47 [==============================] - 12s 224ms/step\n",
            "47/47 [==============================] - 12s 220ms/step\n",
            "47/47 [==============================] - 13s 239ms/step\n",
            "47/47 [==============================] - 11s 207ms/step\n",
            "47/47 [==============================] - 11s 204ms/step\n",
            "47/47 [==============================] - 11s 221ms/step\n"
          ]
        }
      ]
    },
    {
      "cell_type": "code",
      "source": [
        "prediction01_unknown = res_net01.predict(NeverSeen_data_X_test)\n",
        "prediction02_unknown = res_net02.predict(NeverSeen_data_X_test)\n",
        "prediction03_unknown = res_net03.predict(NeverSeen_data_X_test)\n",
        "prediction04_unknown = res_net04.predict(NeverSeen_data_X_test)\n",
        "prediction05_unknown = res_net05.predict(NeverSeen_data_X_test)\n",
        "prediction06_unknown = res_net06.predict(NeverSeen_data_X_test)\n",
        "prediction07_unknown = res_net07.predict(NeverSeen_data_X_test)\n",
        "prediction08_unknown = res_net08.predict(NeverSeen_data_X_test)\n",
        "prediction09_unknown = res_net09.predict(NeverSeen_data_X_test)\n",
        "prediction10_unknown = res_net10.predict(NeverSeen_data_X_test)\n",
        "prediction11_unknown = res_net11.predict(NeverSeen_data_X_test)\n",
        "prediction12_unknown = res_net12.predict(NeverSeen_data_X_test)\n",
        "prediction13_unknown = res_net13.predict(NeverSeen_data_X_test)\n",
        "prediction14_unknown = res_net14.predict(NeverSeen_data_X_test)\n",
        "prediction15_unknown = res_net15.predict(NeverSeen_data_X_test)\n",
        "prediction16_unknown = res_net16.predict(NeverSeen_data_X_test)\n",
        "prediction17_unknown = res_net17.predict(NeverSeen_data_X_test)\n",
        "prediction18_unknown = res_net18.predict(NeverSeen_data_X_test)\n",
        "prediction19_unknown = res_net19.predict(NeverSeen_data_X_test)\n",
        "prediction20_unknown = res_net20.predict(NeverSeen_data_X_test)\n",
        "\n",
        "\n",
        "prediction_unknown_ensemble_1 = (prediction01_unknown + prediction02_unknown + prediction03_unknown + prediction04_unknown + prediction05_unknown)/5\n",
        "prediction_unknown_ensemble_2 = (prediction06_unknown + prediction07_unknown + prediction08_unknown + prediction09_unknown + prediction10_unknown)/5\n",
        "prediction_unknown_ensemble_3 = (prediction11_unknown + prediction12_unknown + prediction13_unknown + prediction14_unknown + prediction15_unknown)/5\n",
        "prediction_unknown_ensemble_4 = (prediction16_unknown + prediction17_unknown + prediction18_unknown + prediction19_unknown + prediction20_unknown)/5"
      ],
      "metadata": {
        "colab": {
          "base_uri": "https://localhost:8080/"
        },
        "id": "Gj3DfZ0O34JF",
        "outputId": "621eabd3-2bee-4c88-f1ea-75a5a63d117e"
      },
      "execution_count": null,
      "outputs": [
        {
          "output_type": "stream",
          "name": "stdout",
          "text": [
            "32/32 [==============================] - 6s 180ms/step\n",
            "32/32 [==============================] - 6s 201ms/step\n",
            "32/32 [==============================] - 6s 177ms/step\n",
            "32/32 [==============================] - 6s 186ms/step\n",
            "32/32 [==============================] - 6s 194ms/step\n",
            "32/32 [==============================] - 6s 190ms/step\n",
            "32/32 [==============================] - 6s 181ms/step\n",
            "32/32 [==============================] - 6s 199ms/step\n",
            "32/32 [==============================] - 6s 185ms/step\n",
            "32/32 [==============================] - 6s 198ms/step\n",
            "32/32 [==============================] - 6s 195ms/step\n",
            "32/32 [==============================] - 7s 215ms/step\n",
            "32/32 [==============================] - 6s 185ms/step\n",
            "32/32 [==============================] - 7s 206ms/step\n",
            "32/32 [==============================] - 6s 186ms/step\n",
            "32/32 [==============================] - 6s 192ms/step\n",
            "32/32 [==============================] - 7s 213ms/step\n",
            "32/32 [==============================] - 7s 206ms/step\n",
            "32/32 [==============================] - 7s 214ms/step\n",
            "32/32 [==============================] - 7s 225ms/step\n"
          ]
        }
      ]
    },
    {
      "cell_type": "code",
      "source": [
        "Known_data_X_test_label_int = []\n",
        "for i in range(Known_data_X_test_label.shape[0]):\n",
        "  Known_data_X_test_label_int.append(np.argmax(Known_data_X_test_label[i]))"
      ],
      "metadata": {
        "id": "G3USZIKlN7BW"
      },
      "execution_count": null,
      "outputs": []
    },
    {
      "cell_type": "code",
      "source": [
        "prediction_known_ensemble_1 = (prediction01_known + prediction02_known + prediction03_known + prediction04_known + prediction05_known)/5\n",
        "\n",
        "true = 0\n",
        "for i in range(Known_data_X_test_label.shape[0]):\n",
        "  if prediction_known_ensemble_1.argmax(axis=1)[i] == Known_data_X_test_label_int[i]:\n",
        "    true += 1\n",
        "print(\"Accuracy of the first ensemble on the knowns\", true/(Known_data_X_test_label.shape[0]))\n",
        "\n",
        "prediction_known_ensemble_2 = (prediction06_known + prediction07_known + prediction08_known + prediction09_known + prediction10_known)/5\n",
        "\n",
        "true = 0\n",
        "for i in range(Known_data_X_test_label.shape[0]):\n",
        "  if prediction_known_ensemble_2.argmax(axis=1)[i] == Known_data_X_test_label_int[i]:\n",
        "    true += 1\n",
        "print(\"Accuracy of the second ensemble on the knowns\", true/(Known_data_X_test_label.shape[0]))\n",
        "\n",
        "prediction_known_ensemble_3 = (prediction11_known + prediction12_known + prediction13_known + prediction14_known + prediction15_known)/5\n",
        "\n",
        "true = 0\n",
        "for i in range(Known_data_X_test_label.shape[0]):\n",
        "  if prediction_known_ensemble_3.argmax(axis=1)[i] == Known_data_X_test_label_int[i]:\n",
        "    true += 1\n",
        "print(\"Accuracy of the third ensemble on the knowns\", true/(Known_data_X_test_label.shape[0]))\n",
        "\n",
        "prediction_known_ensemble_4 = (prediction16_known + prediction17_known + prediction18_known + prediction19_known + prediction20_known)/5\n",
        "\n",
        "true = 0\n",
        "for i in range(Known_data_X_test_label.shape[0]):\n",
        "  if prediction_known_ensemble_4.argmax(axis=1)[i] == Known_data_X_test_label_int[i]:\n",
        "    true += 1\n",
        "print(\"Accuracy of the fourth ensemble on the knowns\", true/(Known_data_X_test_label.shape[0]))"
      ],
      "metadata": {
        "colab": {
          "base_uri": "https://localhost:8080/"
        },
        "id": "l3UO05lP34L9",
        "outputId": "a0225345-6e31-4fce-db31-c99f6c1992e4"
      },
      "execution_count": null,
      "outputs": [
        {
          "output_type": "stream",
          "name": "stdout",
          "text": [
            "Accuracy of the first ensemble on the knowns 0.91\n",
            "Accuracy of the second ensemble on the knowns 0.908\n",
            "Accuracy of the third ensemble on the knowns 0.9006666666666666\n",
            "Accuracy of the fourth ensemble on the knowns 0.906\n"
          ]
        }
      ]
    },
    {
      "cell_type": "markdown",
      "source": [
        "# Compute ODIN scores"
      ],
      "metadata": {
        "id": "R01JlpYLoFnR"
      }
    },
    {
      "cell_type": "code",
      "source": [
        "import tensorflow as tf\n",
        "import numpy as np\n",
        "import matplotlib.pyplot as plt\n",
        "\n",
        "temperature = 1000\n",
        "magnitude = 0.001\n",
        "batch_size = 32\n",
        "threshold = 0.1\n",
        "\n",
        "loaded_models = [res_net01, res_net02, res_net03, res_net04, res_net05, res_net06, res_net07, res_net08, res_net09, res_net10,\n",
        "                 res_net11, res_net12, res_net13, res_net14, res_net15, res_net16, res_net17, res_net18, res_net19, res_net20]\n",
        "\n",
        "UN_Known_data_X_test_as_tensor = tf.convert_to_tensor(NeverSeen_data_X_test)\n",
        "\n",
        "odin_scores_for_models = [np.array([]) for _ in loaded_models]\n",
        "\n",
        "def compute_odin_scores_for_model(model, images, threshold):\n",
        "    logits_layer = model.layers[-2].output\n",
        "    logits_model = tf.keras.Model(inputs=model.input, outputs=logits_layer)\n",
        "\n",
        "    odin_scores_UN_KNOWN = []\n",
        "\n",
        "    for i in range(0, len(images), batch_size):\n",
        "        batch = images[i:i + batch_size]\n",
        "\n",
        "        with tf.device(\"/CPU:0\"):\n",
        "            logits = logits_model(batch)\n",
        "\n",
        "        with tf.GradientTape() as tape:\n",
        "            tape.watch(batch)\n",
        "            output = logits_model(batch)\n",
        "        grads = tape.gradient(output, batch)\n",
        "\n",
        "        signed_grads = tf.sign(grads)\n",
        "\n",
        "        perturbed_spectra = batch + magnitude * signed_grads\n",
        "\n",
        "        with tf.device(\"/CPU:0\"):\n",
        "            perturbed_logits = logits_model(perturbed_spectra)\n",
        "\n",
        "        scaled_perturbed_logits = perturbed_logits / temperature\n",
        "\n",
        "        perturbed_softmax_output = tf.nn.softmax(scaled_perturbed_logits)\n",
        "\n",
        "        max_perturbed_softmax_scores = tf.reduce_max(perturbed_softmax_output, axis=1)\n",
        "\n",
        "        max_logits = tf.reduce_max(tf.nn.softmax(logits), axis=1)\n",
        "        odin_scores_batch = max_logits - max_perturbed_softmax_scores\n",
        "\n",
        "        odin_scores_UN_KNOWN.extend(odin_scores_batch)\n",
        "\n",
        "    return np.array(odin_scores_UN_KNOWN)\n",
        "\n",
        "for model_index, model in enumerate(loaded_models):\n",
        "    odin_scores = compute_odin_scores_for_model(model, UN_Known_data_X_test_as_tensor, threshold)\n",
        "    odin_scores_for_models[model_index] = odin_scores\n"
      ],
      "metadata": {
        "id": "NkJkrkU5N-_v"
      },
      "execution_count": null,
      "outputs": []
    },
    {
      "cell_type": "code",
      "source": [
        "import os\n",
        "\n",
        "all_odin_scores = []\n",
        "for scores in odin_scores_for_models:\n",
        "    all_odin_scores.extend(scores)\n",
        "\n",
        "folder_path = \"/content/gdrive/MyDrive/Stanford_data\"\n",
        "\n",
        "file_name = \"all_odin_scores_EOSp1p2p3.txt\"\n",
        "\n",
        "file_path = os.path.join(folder_path, file_name)\n",
        "\n",
        "with open(file_path, 'w') as file:\n",
        "    for score in all_odin_scores:\n",
        "        file.write(f\"{score}\\n\")"
      ],
      "metadata": {
        "id": "FehVj99DVUnd"
      },
      "execution_count": null,
      "outputs": []
    },
    {
      "cell_type": "code",
      "source": [
        "import tensorflow as tf\n",
        "import numpy as np\n",
        "import matplotlib.pyplot as plt\n",
        "\n",
        "batch_size = 32\n",
        "magnitude = 0.001\n",
        "temperature = 1000\n",
        "num_models = 20\n",
        "\n",
        "loaded_models = [\n",
        "    res_net01, res_net02, res_net03, res_net04, res_net05,\n",
        "    res_net06, res_net07, res_net08, res_net09, res_net10,\n",
        "    res_net11, res_net12, res_net13, res_net14, res_net15,\n",
        "    res_net16, res_net17, res_net18, res_net19, res_net20\n",
        "]\n",
        "\n",
        "odin_scores_all_models = []\n",
        "\n",
        "for i in range(num_models):\n",
        "    logits_layer = loaded_models[i].layers[-2].output\n",
        "\n",
        "    logits_model = tf.keras.Model(inputs=loaded_models[i].input, outputs=logits_layer)\n",
        "\n",
        "    Known_data_X_test_as_tensor = tf.convert_to_tensor(Known_data_X_test)\n",
        "\n",
        "    odin_scores_KNOWN = []\n",
        "\n",
        "    for j in range(0, len(Known_data_X_test), batch_size):\n",
        "        batch = Known_data_X_test_as_tensor[j:j+batch_size]\n",
        "\n",
        "        with tf.device(\"/CPU:0\"):\n",
        "            logits = logits_model(batch)\n",
        "\n",
        "        with tf.GradientTape() as tape:\n",
        "            tape.watch(batch)\n",
        "            logits = logits_model(batch)\n",
        "        grads = tape.gradient(logits, batch)\n",
        "        signed_grads = tf.sign(grads)\n",
        "\n",
        "        perturbed_spectra = batch + magnitude * signed_grads\n",
        "\n",
        "        with tf.device(\"/CPU:0\"):\n",
        "            perturbed_logits = logits_model(perturbed_spectra)\n",
        "\n",
        "        scaled_perturbed_logits = perturbed_logits / temperature\n",
        "\n",
        "        perturbed_softmax_output = tf.nn.softmax(scaled_perturbed_logits)\n",
        "\n",
        "        max_perturbed_softmax_scores = tf.reduce_max(perturbed_softmax_output, axis=1)\n",
        "\n",
        "        original_softmax_output = tf.nn.softmax(logits / temperature)\n",
        "        max_softmax_scores = tf.reduce_max(original_softmax_output, axis=1)\n",
        "\n",
        "        odin_scores_batch = max_softmax_scores - max_perturbed_softmax_scores\n",
        "\n",
        "        odin_scores_KNOWN.extend(odin_scores_batch)\n",
        "\n",
        "    odin_scores_KNOWN = np.array(odin_scores_KNOWN)\n",
        "    odin_scores_all_models.append(odin_scores_KNOWN)\n",
        "\n",
        "combined_odin_scores = np.concatenate(odin_scores_all_models)\n",
        "\n",
        "plt.hist(combined_odin_scores, bins=10)\n",
        "plt.xlabel('ODIN Score')\n",
        "plt.ylabel('Frequency')\n",
        "plt.title('Histogram of ODIN Scores for Known Data (All Models)')\n",
        "\n",
        "plt.show()\n"
      ],
      "metadata": {
        "colab": {
          "base_uri": "https://localhost:8080/",
          "height": 480
        },
        "id": "mjSG9hu0VUqW",
        "outputId": "11573eaa-ebf0-47ef-e5c2-ffb6a3cabbf2"
      },
      "execution_count": null,
      "outputs": [
        {
          "output_type": "display_data",
          "data": {
            "text/plain": [
              "<Figure size 640x480 with 1 Axes>"
            ],
            "image/png": "[encoded data removed]"
          },
          "metadata": {}
        }
      ]
    },
    {
      "cell_type": "code",
      "source": [
        "import os\n",
        "\n",
        "\n",
        "folder_path = \"/content/gdrive/MyDrive/Stanford_data\"\n",
        "\n",
        "file_name = \"KNOWN_all_odin_scores_EOSp1p2p3.txt\"\n",
        "\n",
        "file_path = os.path.join(folder_path, file_name)\n",
        "\n",
        "with open(file_path, 'w') as file:\n",
        "    for score in combined_odin_scores:\n",
        "        file.write(f\"{score}\\n\")"
      ],
      "metadata": {
        "id": "39dEn9CHFWIp"
      },
      "execution_count": null,
      "outputs": []
    },
    {
      "cell_type": "code",
      "source": [
        "import tensorflow as tf\n",
        "import numpy as np\n",
        "import matplotlib.pyplot as plt\n",
        "\n",
        "alpha = 1.0\n",
        "num_models = 20\n",
        "\n",
        "loaded_models = [res_net01, res_net02, res_net03, res_net04, res_net05, res_net06, res_net07, res_net08, res_net09, res_net10,\n",
        "                 res_net11, res_net12, res_net13, res_net14, res_net15, res_net16, res_net17, res_net18, res_net19, res_net20]\n",
        "\n",
        "openmax_scores_known = []\n",
        "openmax_scores_unknown = []\n",
        "\n",
        "Known_data_X_test_as_tensor = tf.convert_to_tensor(Known_data_X_test)\n",
        "NeverSeen_data_X_test_as_tensor = tf.convert_to_tensor(NeverSeen_data_X_test)\n",
        "\n",
        "for model in loaded_models:\n",
        "    logits_layer = model.layers[-2].output\n",
        "\n",
        "    logits_model = tf.keras.Model(inputs=model.input, outputs=logits_layer)\n",
        "\n",
        "    known_logits = logits_model(Known_data_X_test_as_tensor)\n",
        "    unknown_logits = logits_model(NeverSeen_data_X_test_as_tensor)\n",
        "\n",
        "    max_known_logits = tf.reduce_max(known_logits, axis=1)\n",
        "    max_unknown_logits = tf.reduce_max(unknown_logits, axis=1)\n",
        "\n",
        "    scores_known = tf.exp(alpha * max_known_logits) / tf.reduce_sum(tf.exp(alpha * max_known_logits))\n",
        "\n",
        "    scores_unknown = []\n",
        "    for max_known, max_unknown in zip(max_known_logits, max_unknown_logits):\n",
        "        unknown_score = tf.exp(alpha * max_known) / (tf.exp(alpha * max_known) + tf.exp(alpha * max_unknown))\n",
        "        scores_unknown.append(unknown_score)\n",
        "\n",
        "    openmax_scores_known.append(scores_known.numpy())\n",
        "    openmax_scores_unknown.append(scores_unknown)\n",
        "\n",
        "merged_openmax_scores_known = np.stack(openmax_scores_known, axis=1)\n",
        "merged_openmax_scores_unknown = np.stack(openmax_scores_unknown, axis=1)\n",
        "\n",
        "combined_openmax_scores_known = merged_openmax_scores_known.flatten()\n",
        "combined_openmax_scores_unknown = merged_openmax_scores_unknown.flatten()\n",
        "\n",
        "\n",
        "\n",
        "plt.figure(figsize=(12, 4))\n",
        "\n",
        "plt.subplot(1, 2, 1)\n",
        "plt.hist(combined_openmax_scores_known, bins=10, alpha=0.5, label=[f'Model {i+1}' for i in range(num_models)])\n",
        "plt.xlabel('OpenMax Score')\n",
        "plt.ylabel('Frequency')\n",
        "plt.title('Histogram of OpenMax Scores for Known Data')\n",
        "plt.legend()\n",
        "\n",
        "plt.subplot(1, 2, 2)\n",
        "plt.hist(combined_openmax_scores_unknown, bins=10, alpha=0.5, label=[f'Model {i+1}' for i in range(num_models)])\n",
        "plt.xlabel('OpenMax Score')\n",
        "plt.ylabel('Frequency')\n",
        "plt.title('Histogram of OpenMax Scores for Unknown Data')\n",
        "plt.legend()\n",
        "\n",
        "plt.tight_layout()\n",
        "plt.show()\n"
      ],
      "metadata": {
        "colab": {
          "base_uri": "https://localhost:8080/",
          "height": 401
        },
        "id": "LesmecF4_k0x",
        "outputId": "d11ee858-e6e5-4f0e-f9b5-c65e9ba3af15"
      },
      "execution_count": null,
      "outputs": [
        {
          "output_type": "display_data",
          "data": {
            "text/plain": [
              "<Figure size 1200x400 with 2 Axes>"
            ],
            "image/png": "[encoded data removed]"
          },
          "metadata": {}
        }
      ]
    },
    {
      "cell_type": "code",
      "source": [
        "np.savetxt('/content/gdrive/MyDrive/Stanford_data/EOSp1p2p3_combined_openmax_scores_known.txt', combined_openmax_scores_known)\n",
        "np.savetxt('/content/gdrive/MyDrive/Stanford_data/EOSp1p2p3_combined_openmax_scores_unknown.txt', combined_openmax_scores_unknown)"
      ],
      "metadata": {
        "id": "z35h4YJz_k3h"
      },
      "execution_count": null,
      "outputs": []
    },
    {
      "cell_type": "code",
      "source": [
        "import numpy as np\n",
        "from scipy.spatial import distance\n",
        "import tensorflow as tf\n",
        "\n",
        "def preprocess_data(data):\n",
        "    preprocessed_data = data\n",
        "    return preprocessed_data\n",
        "\n",
        "def extract_deep_features(model, data):\n",
        "    preprocessed_data = preprocess_data(data)\n",
        "    deep_features = model.layers[-2].output\n",
        "    deep_feature_model = tf.keras.Model(inputs=model.input, outputs=deep_features)\n",
        "    extracted_features = deep_feature_model.predict(preprocessed_data)\n",
        "\n",
        "    return extracted_features\n",
        "\n",
        "deep_features_known = extract_deep_features(res_net01, Known_data_X_test)\n",
        "deep_features_unknown = extract_deep_features(res_net01, NeverSeen_data_X_test)\n",
        "\n",
        "mean_known = np.mean(deep_features_known, axis=0)\n",
        "cov_known = np.cov(deep_features_known, rowvar=False)\n",
        "\n",
        "cond_number = np.linalg.cond(cov_known)\n",
        "print(\"Condition Number of Covariance Matrix (Known Data):\", cond_number)\n",
        "\n",
        "epsilon = 1e-6\n",
        "\n",
        "if cond_number > 1 / epsilon:\n",
        "    cov_known_reg = cov_known + epsilon * np.eye(cov_known.shape[0])\n",
        "else:\n",
        "    cov_known_reg = cov_known\n",
        "\n",
        "mahalanobis_distances_known = []\n",
        "for feature in deep_features_known:\n",
        "    mahalanobis_distance = distance.mahalanobis(feature, mean_known, np.linalg.inv(cov_known_reg))\n",
        "    mahalanobis_distances_known.append(mahalanobis_distance)\n",
        "\n",
        "mahalanobis_distances_unknown = []\n",
        "for feature in deep_features_unknown:\n",
        "    mahalanobis_distance = distance.mahalanobis(feature, mean_known, np.linalg.inv(cov_known_reg))\n",
        "    mahalanobis_distances_unknown.append(mahalanobis_distance)\n",
        "\n",
        "threshold_known = 3.0\n",
        "threshold_unknown = 4.0\n",
        "\n",
        "ood_samples_known = [i for i, distance in enumerate(mahalanobis_distances_known) if distance > threshold_known]\n",
        "ood_samples_unknown = [i for i, distance in enumerate(mahalanobis_distances_unknown) if distance > threshold_unknown]\n",
        "\n",
        "print(\"Out-of-Distribution Sample Indices (Known Data):\", ood_samples_known)\n",
        "print(\"Out-of-Distribution Sample Indices (Unknown Data):\", ood_samples_unknown)"
      ],
      "metadata": {
        "id": "0APHxalqpQ5u"
      },
      "execution_count": null,
      "outputs": []
    },
    {
      "cell_type": "code",
      "source": [
        "import numpy as np\n",
        "from scipy.spatial import distance\n",
        "import tensorflow as tf\n",
        "from sklearn.decomposition import PCA\n",
        "import matplotlib.pyplot as plt\n",
        "\n",
        "def extract_deep_features(model, data):\n",
        "\n",
        "    preprocessed_data = preprocess_data(data)\n",
        "\n",
        "    deep_features = model.layers[-2].output\n",
        "    deep_feature_model = tf.keras.Model(inputs=model.input, outputs=deep_features)\n",
        "    extracted_features = deep_feature_model.predict(preprocessed_data)\n",
        "\n",
        "    return extracted_features\n",
        "\n",
        "def preprocess_data(data):\n",
        "    preprocessed_data = data\n",
        "    return preprocessed_data\n",
        "\n",
        "loaded_models = [res_net01, res_net02, res_net03, res_net04, res_net05, res_net06, res_net07, res_net08, res_net09, res_net10,\n",
        "                 res_net11, res_net12, res_net13, res_net14, res_net15, res_net16, res_net17, res_net18, res_net19, res_net20]\n",
        "\n",
        "deep_features_known_all = []\n",
        "mahalanobis_distances_known_all = []\n",
        "deep_features_unknown_all = []\n",
        "mahalanobis_distances_unknown_all = []\n",
        "\n",
        "n_components = min(deep_features_known.shape[0], deep_features_known.shape[1]) - 1\n",
        "\n",
        "for model in loaded_models:\n",
        "    deep_features_known = extract_deep_features(model, Known_data_X_test)\n",
        "    deep_features_unknown = extract_deep_features(model, NeverSeen_data_X_test)\n",
        "\n",
        "    pca = PCA(n_components=n_components)\n",
        "    deep_features_known_pca = pca.fit_transform(deep_features_known)\n",
        "    deep_features_unknown_pca = pca.transform(deep_features_unknown)\n",
        "\n",
        "    mean_known = np.mean(deep_features_known_pca, axis=0)\n",
        "    cov_known = np.cov(deep_features_known_pca, rowvar=False)\n",
        "\n",
        "    cond_number = np.linalg.cond(cov_known)\n",
        "    print(\"Condition Number of Covariance Matrix (Known Data):\", cond_number)\n",
        "\n",
        "    epsilon = 1e-5\n",
        "\n",
        "    if cond_number > 1 / epsilon:\n",
        "        cov_known_reg = cov_known + epsilon * np.eye(cov_known.shape[0])\n",
        "    else:\n",
        "        cov_known_reg = cov_known\n",
        "\n",
        "    mahalanobis_distances_known = []\n",
        "    for feature in deep_features_known_pca:\n",
        "        mahalanobis_distance = distance.mahalanobis(feature, mean_known, np.linalg.inv(cov_known_reg))\n",
        "        mahalanobis_distances_known.append(mahalanobis_distance)\n",
        "\n",
        "    mahalanobis_distances_unknown = []\n",
        "    for feature in deep_features_unknown_pca:\n",
        "        mahalanobis_distance = distance.mahalanobis(feature, mean_known, np.linalg.inv(cov_known_reg))\n",
        "        mahalanobis_distances_unknown.append(mahalanobis_distance)\n",
        "\n",
        "    deep_features_known_all.append(deep_features_known_pca)\n",
        "    mahalanobis_distances_known_all.append(mahalanobis_distances_known)\n",
        "    deep_features_unknown_all.append(deep_features_unknown_pca)\n",
        "    mahalanobis_distances_unknown_all.append(mahalanobis_distances_unknown)\n",
        "\n",
        "deep_features_known_combined = np.concatenate(deep_features_known_all, axis=-1)\n",
        "mahalanobis_distances_known_combined = np.mean(mahalanobis_distances_known_all, axis=0)\n",
        "\n",
        "deep_features_unknown_combined = np.concatenate(deep_features_unknown_all, axis=-1)\n",
        "mahalanobis_distances_unknown_combined = np.mean(mahalanobis_distances_unknown_all, axis=0)\n",
        "\n",
        "threshold_known = 3.0\n",
        "threshold_unknown = 4.0\n",
        "\n",
        "ood_samples_known = [i for i, distance in enumerate(mahalanobis_distances_known_combined) if distance > threshold_known]\n",
        "ood_samples_unknown = [i for i, distance in enumerate(mahalanobis_distances_unknown_combined) if distance > threshold_unknown]\n",
        "\n",
        "plt.figure(figsize=(12, 4))\n",
        "\n",
        "plt.subplot(1, 2, 1)\n",
        "plt.hist(mahalanobis_distances_known_combined, bins=10)\n",
        "plt.xlabel('Mahalanobis Distance')\n",
        "plt.ylabel('Frequency')\n",
        "plt.title('Histogram of Mahalanobis Scores for Known Data (Combined)')\n",
        "\n",
        "plt.subplot(1, 2, 2)\n",
        "plt.hist(mahalanobis_distances_unknown_combined, bins=10)\n",
        "plt.xlabel('Mahalanobis Distance')\n",
        "plt.ylabel('Frequency')\n",
        "plt.title('Histogram of Mahalanobis Scores for Unknown Data (Combined)')\n",
        "\n",
        "plt.tight_layout()\n",
        "plt.show()\n"
      ],
      "metadata": {
        "id": "Ecir66ZjR2XO",
        "colab": {
          "base_uri": "https://localhost:8080/",
          "height": 1000
        },
        "outputId": "d910e7a8-924c-4510-ee76-c89dfb91a3f2"
      },
      "execution_count": null,
      "outputs": [
        {
          "output_type": "stream",
          "name": "stdout",
          "text": [
            "47/47 [==============================] - 12s 223ms/step\n",
            "32/32 [==============================] - 9s 242ms/step\n",
            "Condition Number of Covariance Matrix (Known Data): 409397.22944377613\n",
            "47/47 [==============================] - 10s 184ms/step\n",
            "32/32 [==============================] - 7s 193ms/step\n",
            "Condition Number of Covariance Matrix (Known Data): 578638.374792693\n",
            "47/47 [==============================] - 10s 185ms/step\n",
            "32/32 [==============================] - 7s 178ms/step\n",
            "Condition Number of Covariance Matrix (Known Data): 1196892.9766923506\n",
            "47/47 [==============================] - 11s 201ms/step\n",
            "32/32 [==============================] - 7s 191ms/step\n",
            "Condition Number of Covariance Matrix (Known Data): 333109.8613339717\n",
            "47/47 [==============================] - 10s 194ms/step\n",
            "32/32 [==============================] - 7s 191ms/step\n",
            "Condition Number of Covariance Matrix (Known Data): 677097.7278220264\n",
            "47/47 [==============================] - 10s 196ms/step\n",
            "32/32 [==============================] - 7s 182ms/step\n",
            "Condition Number of Covariance Matrix (Known Data): 370344.2453133325\n",
            "47/47 [==============================] - 11s 209ms/step\n",
            "32/32 [==============================] - 7s 197ms/step\n",
            "Condition Number of Covariance Matrix (Known Data): 645383.176670031\n",
            "47/47 [==============================] - 10s 190ms/step\n",
            "32/32 [==============================] - 7s 188ms/step\n",
            "Condition Number of Covariance Matrix (Known Data): 474963.8708805433\n",
            "47/47 [==============================] - 11s 212ms/step\n",
            "32/32 [==============================] - 7s 199ms/step\n",
            "Condition Number of Covariance Matrix (Known Data): 1020242.6747598159\n",
            "47/47 [==============================] - 10s 188ms/step\n",
            "32/32 [==============================] - 7s 180ms/step\n",
            "Condition Number of Covariance Matrix (Known Data): 541031.9690892956\n",
            "47/47 [==============================] - 10s 189ms/step\n",
            "32/32 [==============================] - 7s 176ms/step\n",
            "Condition Number of Covariance Matrix (Known Data): 1110273.47651898\n",
            "47/47 [==============================] - 11s 208ms/step\n",
            "32/32 [==============================] - 7s 181ms/step\n",
            "Condition Number of Covariance Matrix (Known Data): 378478.848924994\n",
            "47/47 [==============================] - 10s 189ms/step\n",
            "32/32 [==============================] - 7s 197ms/step\n",
            "Condition Number of Covariance Matrix (Known Data): 587020.3591015964\n",
            "47/47 [==============================] - 11s 207ms/step\n",
            "32/32 [==============================] - 7s 195ms/step\n",
            "Condition Number of Covariance Matrix (Known Data): 503764.8061837947\n",
            "47/47 [==============================] - 10s 184ms/step\n",
            "32/32 [==============================] - 7s 181ms/step\n",
            "Condition Number of Covariance Matrix (Known Data): 579177.7952179677\n",
            "47/47 [==============================] - 11s 200ms/step\n",
            "32/32 [==============================] - 7s 191ms/step\n",
            "Condition Number of Covariance Matrix (Known Data): 671005.9984618437\n",
            "47/47 [==============================] - 10s 188ms/step\n",
            "32/32 [==============================] - 7s 180ms/step\n",
            "Condition Number of Covariance Matrix (Known Data): 635560.1915680636\n",
            "47/47 [==============================] - 10s 179ms/step\n",
            "32/32 [==============================] - 7s 186ms/step\n",
            "Condition Number of Covariance Matrix (Known Data): 339824.8247922315\n",
            "47/47 [==============================] - 10s 183ms/step\n",
            "32/32 [==============================] - 7s 175ms/step\n",
            "Condition Number of Covariance Matrix (Known Data): 712373.1072943009\n",
            "47/47 [==============================] - 10s 187ms/step\n",
            "32/32 [==============================] - 7s 177ms/step\n",
            "Condition Number of Covariance Matrix (Known Data): 479643.2269510911\n"
          ]
        },
        {
          "output_type": "display_data",
          "data": {
            "text/plain": [
              "<Figure size 1200x400 with 2 Axes>"
            ],
            "image/png": "[encoded data removed]"
          },
          "metadata": {}
        }
      ]
    },
    {
      "cell_type": "code",
      "source": [
        "np.savetxt(f'{folder_path}/mahalanobis_distances_known_combined_EOSp1p2p3.txt', mahalanobis_distances_known_combined)\n",
        "np.savetxt(f'{folder_path}/mahalanobis_distances_unknown_combined_EOSp1p2p3.txt', mahalanobis_distances_unknown_combined)"
      ],
      "metadata": {
        "id": "22V2moQiR0mN"
      },
      "execution_count": null,
      "outputs": []
    },
    {
      "cell_type": "markdown",
      "source": [
        "# ODIN"
      ],
      "metadata": {
        "id": "9ky-L12o6su6"
      }
    },
    {
      "cell_type": "code",
      "source": [
        "import tensorflow as tf\n",
        "import numpy as np\n",
        "import matplotlib.pyplot as plt\n",
        "\n",
        "temperature = 1000\n",
        "magnitude = 0.001\n",
        "\n",
        "UN_Known_data_X_test_as_tensor = tf.convert_to_tensor(NeverSeen_data_X_test)\n",
        "\n",
        "logits_layer = res_net01.layers[-2].output\n",
        "logits_model = tf.keras.Model(inputs=res_net01.input, outputs=logits_layer)\n",
        "\n",
        "odin_scores_UN_KNOWN = []\n",
        "\n",
        "batch_size = 32\n",
        "\n",
        "for i in range(0, len(NeverSeen_data_X_test), batch_size):\n",
        "    batch = UN_Known_data_X_test_as_tensor[i:i+batch_size]\n",
        "\n",
        "    with tf.device(\"/CPU:0\"):\n",
        "        logits = logits_model(batch)\n",
        "\n",
        "    with tf.GradientTape() as tape:\n",
        "        tape.watch(batch)\n",
        "        output = logits_model(batch)\n",
        "    grads = tape.gradient(output, batch)\n",
        "\n",
        "    signed_grads = tf.sign(grads)\n",
        "\n",
        "    perturbed_spectra = batch + magnitude * signed_grads\n",
        "\n",
        "    with tf.device(\"/CPU:0\"):\n",
        "        perturbed_logits = logits_model(perturbed_spectra)\n",
        "\n",
        "    scaled_perturbed_logits = perturbed_logits / temperature\n",
        "\n",
        "    perturbed_softmax_output = tf.nn.softmax(scaled_perturbed_logits)\n",
        "\n",
        "    max_perturbed_softmax_scores = tf.reduce_max(perturbed_softmax_output, axis=1)\n",
        "\n",
        "    max_logits = tf.reduce_max(tf.nn.softmax(logits), axis=1)\n",
        "    odin_scores_batch = max_logits - max_perturbed_softmax_scores\n",
        "\n",
        "    odin_scores_UN_KNOWN.extend(odin_scores_batch)\n",
        "\n",
        "odin_scores_UN_KNOWN = np.array(odin_scores_UN_KNOWN)\n",
        "\n",
        "plt.hist(odin_scores_UN_KNOWN, bins=10)\n",
        "\n",
        "plt.xlabel('ODIN Score')\n",
        "plt.ylabel('Frequency')\n",
        "plt.title('Histogram of ODIN UNKNOWN Scores')\n",
        "\n",
        "plt.show()"
      ],
      "metadata": {
        "colab": {
          "base_uri": "https://localhost:8080/",
          "height": 480
        },
        "id": "nESg9fzD6t4A",
        "outputId": "6388090b-11b2-4093-a8c9-8148ead44869"
      },
      "execution_count": null,
      "outputs": [
        {
          "output_type": "display_data",
          "data": {
            "text/plain": [
              "<Figure size 640x480 with 1 Axes>"
            ],
            "image/png": "[encoded data removed]"
          },
          "metadata": {}
        }
      ]
    },
    {
      "cell_type": "code",
      "source": [
        "min(odin_scores_UN_KNOWN)"
      ],
      "metadata": {
        "colab": {
          "base_uri": "https://localhost:8080/"
        },
        "id": "P0UAHq-h6t7E",
        "outputId": "4ef1055e-dea2-404c-9dfd-5deeecdb4c91"
      },
      "execution_count": null,
      "outputs": [
        {
          "output_type": "execute_result",
          "data": {
            "text/plain": [
              "0.0002586446"
            ]
          },
          "metadata": {},
          "execution_count": 19
        }
      ]
    },
    {
      "cell_type": "code",
      "source": [
        "import tensorflow as tf\n",
        "import numpy as np\n",
        "import matplotlib.pyplot as plt\n",
        "\n",
        "logits_layer = res_net01.layers[-2].output\n",
        "\n",
        "logits_model = tf.keras.Model(inputs=res_net01.input, outputs=logits_layer)\n",
        "\n",
        "Known_data_X_test_as_tensor = tf.convert_to_tensor(Known_data_X_test)\n",
        "\n",
        "odin_scores_KNOWN = []\n",
        "\n",
        "batch_size = 32\n",
        "\n",
        "magnitude = 0.001\n",
        "\n",
        "for i in range(0, len(Known_data_X_test), batch_size):\n",
        "    batch = Known_data_X_test_as_tensor[i:i+batch_size]\n",
        "\n",
        "    with tf.device(\"/CPU:0\"):\n",
        "        logits = logits_model(batch)\n",
        "\n",
        "    with tf.GradientTape() as tape:\n",
        "        tape.watch(batch)\n",
        "        logits = logits_model(batch)\n",
        "    grads = tape.gradient(logits, batch)\n",
        "\n",
        "    signed_grads = tf.sign(grads)\n",
        "\n",
        "    perturbed_spectra = batch + magnitude * signed_grads\n",
        "\n",
        "    with tf.device(\"/CPU:0\"):\n",
        "        perturbed_logits = logits_model(perturbed_spectra)\n",
        "\n",
        "    scaled_perturbed_logits = perturbed_logits / temperature\n",
        "\n",
        "    perturbed_softmax_output = tf.nn.softmax(scaled_perturbed_logits)\n",
        "\n",
        "    max_perturbed_softmax_scores = tf.reduce_max(perturbed_softmax_output, axis=1)\n",
        "\n",
        "    original_softmax_output = tf.nn.softmax(logits / temperature)\n",
        "    max_softmax_scores = tf.reduce_max(original_softmax_output, axis=1)\n",
        "\n",
        "    odin_scores_batch = max_softmax_scores - max_perturbed_softmax_scores\n",
        "\n",
        "    odin_scores_KNOWN.extend(odin_scores_batch)\n",
        "\n",
        "odin_scores_KNOWN = np.array(odin_scores_KNOWN)\n",
        "\n",
        "plt.hist(odin_scores_KNOWN, bins=10)\n",
        "\n",
        "plt.xlabel('ODIN Score')\n",
        "plt.ylabel('Frequency')\n",
        "plt.title('Histogram of ODIN Scores KNOWN')\n",
        "\n",
        "plt.show()"
      ],
      "metadata": {
        "colab": {
          "base_uri": "https://localhost:8080/",
          "height": 480
        },
        "id": "htNY58-D6t-Y",
        "outputId": "4b830190-94d1-4dc5-a5b1-e202627489c1"
      },
      "execution_count": null,
      "outputs": [
        {
          "output_type": "display_data",
          "data": {
            "text/plain": [
              "<Figure size 640x480 with 1 Axes>"
            ],
            "image/png": "[encoded data removed]"
          },
          "metadata": {}
        }
      ]
    },
    {
      "cell_type": "code",
      "source": [
        "max(odin_scores_KNOWN)"
      ],
      "metadata": {
        "colab": {
          "base_uri": "https://localhost:8080/"
        },
        "id": "FkRrEjOW6uBK",
        "outputId": "1dd6650c-48b6-4c91-9766-ed01f904ab34"
      },
      "execution_count": null,
      "outputs": [
        {
          "output_type": "execute_result",
          "data": {
            "text/plain": [
              "3.5797711e-09"
            ]
          },
          "metadata": {},
          "execution_count": 21
        }
      ]
    },
    {
      "cell_type": "code",
      "source": [
        "plt.hist([odin_scores_KNOWN, odin_scores_UN_KNOWN], bins=10, label=['Samples belonging to the knowns', 'Never seen before samples'])  # Specify the number of bins and labels\n",
        "\n",
        "plt.xlabel('Value of the ODIN score')\n",
        "plt.ylabel('Frequency of occurrence')\n",
        "plt.title('Comparison of ODIN scores')\n",
        "\n",
        "plt.legend()\n",
        "\n",
        "plt.show()"
      ],
      "metadata": {
        "colab": {
          "base_uri": "https://localhost:8080/",
          "height": 480
        },
        "id": "gbJftmun6uD7",
        "outputId": "0b707e26-d538-4758-db55-b7d8f8cab02d"
      },
      "execution_count": null,
      "outputs": [
        {
          "output_type": "display_data",
          "data": {
            "text/plain": [
              "<Figure size 640x480 with 1 Axes>"
            ],
            "image/png": "[encoded data removed]"
          },
          "metadata": {}
        }
      ]
    },
    {
      "cell_type": "code",
      "source": [],
      "metadata": {
        "id": "8dRLtftb6uG1"
      },
      "execution_count": null,
      "outputs": []
    },
    {
      "cell_type": "markdown",
      "source": [
        "# OpenMax"
      ],
      "metadata": {
        "id": "FoXZQNi89s-j"
      }
    },
    {
      "cell_type": "code",
      "source": [
        "import tensorflow as tf\n",
        "import numpy as np\n",
        "import matplotlib.pyplot as plt\n",
        "\n",
        "logits_layer = res_net01.layers[-2].output\n",
        "\n",
        "logits_model = tf.keras.Model(inputs=res_net01.input, outputs=logits_layer)\n",
        "\n",
        "Known_data_X_test_as_tensor = tf.convert_to_tensor(Known_data_X_test)\n",
        "NeverSeen_data_X_test_as_tensor = tf.convert_to_tensor(NeverSeen_data_X_test)\n",
        "\n",
        "known_logits = logits_model(Known_data_X_test_as_tensor)\n",
        "unknown_logits = logits_model(NeverSeen_data_X_test_as_tensor)\n",
        "\n",
        "max_known_logits = tf.reduce_max(known_logits, axis=1)\n",
        "max_unknown_logits = tf.reduce_max(unknown_logits, axis=1)\n",
        "\n",
        "def compute_openmax_scores_known(max_known_logits, alpha=1.0):\n",
        "    scores_known = tf.exp(alpha * max_known_logits) / tf.reduce_sum(tf.exp(alpha * max_known_logits))\n",
        "    return scores_known\n",
        "\n",
        "openmax_scores_known = compute_openmax_scores_known(max_known_logits)\n",
        "\n",
        "def compute_openmax_scores_unknown(max_known_logits, max_unknown_logits, alpha=1.0):\n",
        "    scores_unknown = []\n",
        "    for max_known, max_unknown in zip(max_known_logits, max_unknown_logits):\n",
        "        unknown_score = tf.exp(alpha * max_known) / (tf.exp(alpha * max_known) + tf.exp(alpha * max_unknown))\n",
        "        scores_unknown.append(unknown_score)\n",
        "    return tf.stack(scores_unknown)\n",
        "\n",
        "openmax_scores_unknown = compute_openmax_scores_unknown(max_known_logits, max_unknown_logits)\n",
        "\n",
        "openmax_scores_known = openmax_scores_known.numpy()\n",
        "openmax_scores_unknown = openmax_scores_unknown.numpy()\n",
        "\n",
        "plt.figure(figsize=(12, 4))\n",
        "\n",
        "plt.subplot(1, 2, 1)\n",
        "plt.hist(openmax_scores_known, bins=10)\n",
        "plt.xlabel('OpenMax Score')\n",
        "plt.ylabel('Frequency')\n",
        "plt.title('Histogram of OpenMax Scores for Known Data')\n",
        "\n",
        "plt.subplot(1, 2, 2)\n",
        "plt.hist(openmax_scores_unknown, bins=10)\n",
        "plt.xlabel('OpenMax Score')\n",
        "plt.ylabel('Frequency')\n",
        "plt.title('Histogram of OpenMax Scores for Unknown Data')\n",
        "\n",
        "plt.tight_layout()\n",
        "plt.show()"
      ],
      "metadata": {
        "colab": {
          "base_uri": "https://localhost:8080/",
          "height": 401
        },
        "id": "zyOj8U8X6uJq",
        "outputId": "80ffa28f-ed58-4bbe-d2d9-9838cd68dca1"
      },
      "execution_count": null,
      "outputs": [
        {
          "output_type": "display_data",
          "data": {
            "text/plain": [
              "<Figure size 1200x400 with 2 Axes>"
            ],
            "image/png": "[encoded data removed]"
          },
          "metadata": {}
        }
      ]
    },
    {
      "cell_type": "code",
      "source": [
        "plt.hist([openmax_scores_known, openmax_scores_unknown], bins=10, label=['Samples belonging to the knowns', 'Never seen before samples'])  # Specify the number of bins and labels\n",
        "\n",
        "plt.xlabel('Value of the ODIN score')\n",
        "plt.ylabel('Frequency of occurrence')\n",
        "plt.title('Comparison of ODIN scores')\n",
        "\n",
        "plt.legend()\n",
        "\n",
        "plt.show()"
      ],
      "metadata": {
        "colab": {
          "base_uri": "https://localhost:8080/",
          "height": 480
        },
        "id": "84Bjvgu0Tnsc",
        "outputId": "d7f8a364-d7a4-4d22-81ef-ff7b45f2dacd"
      },
      "execution_count": null,
      "outputs": [
        {
          "output_type": "display_data",
          "data": {
            "text/plain": [
              "<Figure size 640x480 with 1 Axes>"
            ],
            "image/png": "[encoded data removed]"
          },
          "metadata": {}
        }
      ]
    },
    {
      "cell_type": "code",
      "source": [
        "max(openmax_scores_known)"
      ],
      "metadata": {
        "colab": {
          "base_uri": "https://localhost:8080/"
        },
        "id": "vAXo6d2HTnx0",
        "outputId": "d1d8d67a-6c1f-4fb9-f440-3b7792aade87"
      },
      "execution_count": null,
      "outputs": [
        {
          "output_type": "execute_result",
          "data": {
            "text/plain": [
              "0.21407755"
            ]
          },
          "metadata": {},
          "execution_count": 25
        }
      ]
    },
    {
      "cell_type": "code",
      "source": [
        "min(openmax_scores_unknown)"
      ],
      "metadata": {
        "id": "8dGsa-C-34N_",
        "colab": {
          "base_uri": "https://localhost:8080/"
        },
        "outputId": "47ef0f05-c6a4-4b0e-bff9-ec3d56a02074"
      },
      "execution_count": null,
      "outputs": [
        {
          "output_type": "execute_result",
          "data": {
            "text/plain": [
              "0.00020541981"
            ]
          },
          "metadata": {},
          "execution_count": 26
        }
      ]
    },
    {
      "cell_type": "code",
      "source": [
        "import numpy as np\n",
        "\n",
        "openmax_scores_known_sorted = np.sort(openmax_scores_known)\n",
        "openmax_scores_unknown_sorted = np.sort(openmax_scores_unknown)\n",
        "\n",
        "min_known_score = openmax_scores_known_sorted.min()\n",
        "max_known_score = openmax_scores_known_sorted.max()\n",
        "min_unknown_score = openmax_scores_unknown_sorted.min()\n",
        "max_unknown_score = openmax_scores_unknown_sorted.max()\n",
        "\n",
        "bins = np.linspace(min(min_known_score, min_unknown_score), max(max_known_score, max_unknown_score), 1000)\n",
        "\n",
        "hist_known, _ = np.histogram(openmax_scores_known_sorted, bins)\n",
        "hist_unknown, _ = np.histogram(openmax_scores_unknown_sorted, bins)\n",
        "\n",
        "intersection = np.minimum(hist_known, hist_unknown)\n",
        "union = np.maximum(hist_known, hist_unknown)\n",
        "\n",
        "iou = np.sum(intersection) / np.sum(union) * 100\n",
        "\n",
        "print(f\"Overlap (IoU): {iou:.2f}%\")"
      ],
      "metadata": {
        "colab": {
          "base_uri": "https://localhost:8080/"
        },
        "id": "SCXEgTe9N65O",
        "outputId": "cc1ef156-9022-450a-bbb7-1bce171fa04c"
      },
      "execution_count": null,
      "outputs": [
        {
          "output_type": "stream",
          "name": "stdout",
          "text": [
            "Overlap (IoU): 0.93%\n"
          ]
        }
      ]
    },
    {
      "cell_type": "markdown",
      "source": [
        "# Mahalanobis"
      ],
      "metadata": {
        "id": "4YBuOp8w-Jin"
      }
    },
    {
      "cell_type": "code",
      "source": [
        "import numpy as np\n",
        "import tensorflow as tf\n",
        "from scipy.spatial import distance\n",
        "from sklearn.decomposition import PCA\n",
        "\n",
        "batch_size = 32\n",
        "\n",
        "def extract_batched_deep_features(model, data_batch):\n",
        "    with tf.device('/device:GPU:0'):\n",
        "        extracted_features = model.predict(data_batch)\n",
        "    return extracted_features\n",
        "\n",
        "def compute_mahalanobis_distances(features, mean, cov_reg):\n",
        "    distances = []\n",
        "    for feature in features:\n",
        "        mahalanobis_distance = distance.mahalanobis(feature, mean, np.linalg.inv(cov_reg))\n",
        "        distances.append(mahalanobis_distance)\n",
        "    return distances\n",
        "\n",
        "def reduce_dimensionality(features, n_components):\n",
        "    pca = PCA(n_components=n_components)\n",
        "    reduced_features = pca.fit_transform(features)\n",
        "    return reduced_features, pca\n",
        "\n",
        "deep_features_known = []\n",
        "deep_features_unknown = []\n",
        "\n",
        "for i in range(0, len(Known_data_X_test), batch_size):\n",
        "    batch_known = extract_batched_deep_features(res_net01, Known_data_X_test[i:i+batch_size])\n",
        "    batch_unknown = extract_batched_deep_features(res_net01, NeverSeen_data_X_test[i:i+batch_size])\n",
        "\n",
        "    deep_features_known.extend(batch_known)\n",
        "    deep_features_unknown.extend(batch_unknown)\n",
        "\n",
        "n_components = 100\n",
        "\n",
        "reduced_features_known, pca_known = reduce_dimensionality(deep_features_known, n_components)\n",
        "reduced_features_unknown, pca_unknown = reduce_dimensionality(deep_features_unknown, n_components)\n",
        "\n",
        "mean_known = np.mean(reduced_features_known, axis=0)\n",
        "cov_known = np.cov(reduced_features_known, rowvar=False)\n",
        "\n",
        "cond_number = np.linalg.cond(cov_known)\n",
        "print(\"Condition Number of Covariance Matrix (Known Data):\", cond_number)\n",
        "\n",
        "epsilon = 1e-6\n",
        "\n",
        "if cond_number > 1 / epsilon:\n",
        "    cov_known_reg = cov_known + epsilon * np.eye(cov_known.shape[0])\n",
        "else:\n",
        "    cov_known_reg = cov_known\n",
        "\n",
        "mahalanobis_distances_known = []\n",
        "mahalanobis_distances_unknown = []\n",
        "\n",
        "for i in range(0, len(reduced_features_known), batch_size):\n",
        "    batch_distances_known = compute_mahalanobis_distances(reduced_features_known[i:i+batch_size], mean_known, cov_known_reg)\n",
        "    batch_distances_unknown = compute_mahalanobis_distances(reduced_features_unknown[i:i+batch_size], mean_known, cov_known_reg)\n",
        "\n",
        "    mahalanobis_distances_known.extend(batch_distances_known)\n",
        "    mahalanobis_distances_unknown.extend(batch_distances_unknown)\n",
        "\n",
        "threshold_known = 3.0\n",
        "threshold_unknown = 4.0\n",
        "\n",
        "ood_samples_known = [i for i, distance in enumerate(mahalanobis_distances_known) if distance > threshold_known]\n",
        "ood_samples_unknown = [i for i, distance in enumerate(mahalanobis_distances_unknown) if distance > threshold_unknown]\n",
        "\n",
        "print(\"Out-of-Distribution Sample Indices (Known Data):\", ood_samples_known)\n",
        "print(\"Out-of-Distribution Sample Indices (Unknown Data):\", ood_samples_unknown)"
      ],
      "metadata": {
        "id": "6e9KlE4-rU8y"
      },
      "execution_count": null,
      "outputs": []
    },
    {
      "cell_type": "code",
      "source": [
        "plt.figure(figsize=(12, 4))\n",
        "\n",
        "plt.subplot(1, 2, 1)\n",
        "plt.hist(mahalanobis_distances_known, bins=10)\n",
        "plt.xlabel('OpenMax Score')\n",
        "plt.ylabel('Frequency')\n",
        "plt.title('Histogram of OpenMax Scores for Known Data')\n",
        "\n",
        "plt.subplot(1, 2, 2)\n",
        "plt.hist(mahalanobis_distances_unknown, bins=10)\n",
        "plt.xlabel('OpenMax Score')\n",
        "plt.ylabel('Frequency')\n",
        "plt.title('Histogram of OpenMax Scores for Unknown Data')\n",
        "\n",
        "plt.tight_layout()\n",
        "plt.show()"
      ],
      "metadata": {
        "id": "n2gr4RnLAPA1"
      },
      "execution_count": null,
      "outputs": []
    },
    {
      "cell_type": "code",
      "source": [
        "plt.hist([mahalanobis_distances_known, mahalanobis_distances_unknown], bins=100, label=['Samples belonging to the knowns', 'Never seen before samples'])  # Specify the number of bins and labels\n",
        "plt.xlim(2.5, 20)\n",
        "\n",
        "plt.xlabel('Value of the ODIN score')\n",
        "plt.ylabel('Frequency of occurrence')\n",
        "plt.title('Comparison of ODIN scores')\n",
        "\n",
        "plt.legend()\n",
        "\n",
        "plt.show()"
      ],
      "metadata": {
        "id": "U3CszTBPAgzt"
      },
      "execution_count": null,
      "outputs": []
    },
    {
      "cell_type": "code",
      "source": [
        "import numpy as np\n",
        "\n",
        "mahalanobis_scores_known_sorted = np.sort(mahalanobis_distances_known)\n",
        "mahalanobis_scores_unknown_sorted = np.sort(mahalanobis_distances_unknown)\n",
        "\n",
        "min_known_score = mahalanobis_scores_known_sorted.min()\n",
        "max_known_score = mahalanobis_scores_known_sorted.max()\n",
        "min_unknown_score = mahalanobis_scores_unknown_sorted.min()\n",
        "max_unknown_score = mahalanobis_scores_unknown_sorted.max()\n",
        "\n",
        "bins = np.linspace(min(min_known_score, min_unknown_score), max(max_known_score, max_unknown_score), 1000)\n",
        "\n",
        "hist_known, _ = np.histogram(mahalanobis_scores_known_sorted, bins)\n",
        "hist_unknown, _ = np.histogram(mahalanobis_scores_unknown_sorted, bins)\n",
        "\n",
        "intersection = np.minimum(hist_known, hist_unknown)\n",
        "union = np.maximum(hist_known, hist_unknown)\n",
        "\n",
        "iou = np.sum(intersection) / np.sum(union) * 100\n",
        "\n",
        "print(f\"Overlap (IoU): {iou:.2f}%\")"
      ],
      "metadata": {
        "id": "9Rm9iQqgAg3L"
      },
      "execution_count": null,
      "outputs": []
    },
    {
      "cell_type": "code",
      "source": [],
      "metadata": {
        "id": "y8iawqgZAPD_"
      },
      "execution_count": null,
      "outputs": []
    },
    {
      "cell_type": "code",
      "source": [],
      "metadata": {
        "id": "5E1ppgJLAPG3"
      },
      "execution_count": null,
      "outputs": []
    },
    {
      "cell_type": "markdown",
      "source": [
        "# Separating $\\mathcal{K}$ and $\\mathcal{N}$ by a fixed (class-independendent) threshold"
      ],
      "metadata": {
        "id": "E3Pq2KqHYYgM"
      }
    },
    {
      "cell_type": "code",
      "source": [
        "prediction_known = prediction_known_ensemble_2\n",
        "prediction_unknown = prediction_unknown_ensemble_2"
      ],
      "metadata": {
        "id": "yZfHJkznZ4Lq"
      },
      "execution_count": null,
      "outputs": []
    },
    {
      "cell_type": "code",
      "source": [
        "def thresholding(threshold):\n",
        "  true = 0\n",
        "  for i in range(prediction_known.shape[0]):\n",
        "    if prediction_known.argmax(axis=1)[i] == Known_data_X_test_label_int[i] and max(prediction_known[i]) > threshold:\n",
        "      true += 1\n",
        "  return true/(prediction_known.shape[0])"
      ],
      "metadata": {
        "id": "HA75xLuUGNca"
      },
      "execution_count": null,
      "outputs": []
    },
    {
      "cell_type": "code",
      "execution_count": null,
      "metadata": {
        "id": "SW6PGNX72bky",
        "colab": {
          "base_uri": "https://localhost:8080/"
        },
        "outputId": "7610f733-98ff-4f21-bcf4-b052c0cb7ed2"
      },
      "outputs": [
        {
          "output_type": "execute_result",
          "data": {
            "text/plain": [
              "[[0.1, 90.73333333333333],\n",
              " [0.11, 90.66666666666666],\n",
              " [0.12000000000000001, 90.66666666666666],\n",
              " [0.13, 90.60000000000001],\n",
              " [0.14, 90.53333333333333],\n",
              " [0.15000000000000002, 90.53333333333333],\n",
              " [0.16, 90.53333333333333],\n",
              " [0.17, 90.46666666666667],\n",
              " [0.18, 90.4],\n",
              " [0.19, 90.33333333333333],\n",
              " [0.2, 90.33333333333333],\n",
              " [0.21000000000000002, 90.33333333333333],\n",
              " [0.22, 90.33333333333333],\n",
              " [0.23, 90.33333333333333],\n",
              " [0.24000000000000002, 90.2],\n",
              " [0.25, 90.13333333333333],\n",
              " [0.26, 90.06666666666666],\n",
              " [0.27, 90.0],\n",
              " [0.28, 89.86666666666666],\n",
              " [0.29000000000000004, 89.53333333333333],\n",
              " [0.30000000000000004, 89.53333333333333],\n",
              " [0.31, 89.46666666666667],\n",
              " [0.32, 89.33333333333333],\n",
              " [0.33, 89.13333333333333],\n",
              " [0.33999999999999997, 89.06666666666668],\n",
              " [0.35, 88.86666666666667],\n",
              " [0.36, 88.8],\n",
              " [0.37, 88.66666666666667],\n",
              " [0.38, 88.66666666666667],\n",
              " [0.39, 88.46666666666667],\n",
              " [0.4, 88.33333333333333],\n",
              " [0.41000000000000003, 88.2],\n",
              " [0.42000000000000004, 88.13333333333333],\n",
              " [0.43000000000000005, 88.06666666666668],\n",
              " [0.44000000000000006, 88.0],\n",
              " [0.45000000000000007, 87.8],\n",
              " [0.45999999999999996, 87.53333333333333],\n",
              " [0.47, 87.33333333333333],\n",
              " [0.48, 87.33333333333333],\n",
              " [0.49, 87.06666666666666],\n",
              " [0.5, 86.93333333333332],\n",
              " [0.51, 86.73333333333333],\n",
              " [0.52, 86.4],\n",
              " [0.53, 86.2],\n",
              " [0.54, 86.06666666666666],\n",
              " [0.55, 85.73333333333333],\n",
              " [0.56, 85.39999999999999],\n",
              " [0.5700000000000001, 85.06666666666666],\n",
              " [0.58, 84.53333333333333],\n",
              " [0.59, 84.33333333333334],\n",
              " [0.6, 83.86666666666667],\n",
              " [0.61, 83.46666666666667],\n",
              " [0.62, 83.26666666666667],\n",
              " [0.63, 83.06666666666666],\n",
              " [0.64, 82.86666666666666],\n",
              " [0.65, 82.26666666666667],\n",
              " [0.66, 81.73333333333333],\n",
              " [0.67, 81.53333333333333],\n",
              " [0.6799999999999999, 81.2],\n",
              " [0.69, 81.0],\n",
              " [0.7, 80.93333333333334],\n",
              " [0.71, 80.80000000000001],\n",
              " [0.72, 80.66666666666666],\n",
              " [0.73, 80.13333333333334],\n",
              " [0.74, 79.80000000000001],\n",
              " [0.75, 79.4],\n",
              " [0.76, 78.86666666666666],\n",
              " [0.77, 78.53333333333333],\n",
              " [0.78, 78.33333333333333],\n",
              " [0.79, 78.26666666666667],\n",
              " [0.8, 78.0],\n",
              " [0.8099999999999999, 77.53333333333333],\n",
              " [0.82, 77.0],\n",
              " [0.83, 76.46666666666667],\n",
              " [0.84, 75.73333333333333],\n",
              " [0.85, 75.33333333333333],\n",
              " [0.86, 74.8],\n",
              " [0.87, 74.33333333333333],\n",
              " [0.88, 73.66666666666667],\n",
              " [0.89, 72.6],\n",
              " [0.9, 71.86666666666667],\n",
              " [0.91, 71.0],\n",
              " [0.92, 69.86666666666666],\n",
              " [0.93, 68.0],\n",
              " [0.94, 66.73333333333333],\n",
              " [0.95, 64.66666666666666],\n",
              " [0.96, 62.66666666666667],\n",
              " [0.97, 60.46666666666667],\n",
              " [0.98, 57.266666666666666],\n",
              " [0.99, 51.66666666666667],\n",
              " [0.99, 51.66666666666667],\n",
              " [0.991, 50.73333333333333],\n",
              " [0.992, 49.333333333333336],\n",
              " [0.993, 48.6],\n",
              " [0.994, 47.46666666666667],\n",
              " [0.995, 46.06666666666667],\n",
              " [0.996, 44.46666666666667],\n",
              " [0.997, 42.333333333333336],\n",
              " [0.998, 39.666666666666664],\n",
              " [0.999, 35.6]]"
            ]
          },
          "metadata": {},
          "execution_count": 97
        }
      ],
      "source": [
        "CorrectThresholding = []\n",
        "for i in range(90):\n",
        "  CorrectThresholding.append([0.1 + 0.01*i,100*thresholding(0.1 + 0.01*i)])\n",
        "for i in range(10):\n",
        "  CorrectThresholding.append([0.99 + 0.001*i,100*thresholding(0.99 + 0.001*i)])\n",
        "CorrectThresholding"
      ]
    },
    {
      "cell_type": "code",
      "source": [
        "def false_identify(threshold):\n",
        "  false_identify = 0\n",
        "  for i in range(prediction_known.shape[0]):\n",
        "    if prediction_known.argmax(axis=1)[i] != Known_data_X_test_label_int[i] and max(prediction_known[i]) > threshold:\n",
        "      false_identify += 1\n",
        "  return false_identify/(prediction_known.shape[0])"
      ],
      "metadata": {
        "id": "Vn2lRWxDM4G4"
      },
      "execution_count": null,
      "outputs": []
    },
    {
      "cell_type": "code",
      "source": [
        "FalseIdentify = []\n",
        "for i in range(90):\n",
        "  FalseIdentify.append([0.1 + 0.01*i,100*false_identify(0.1 + 0.01*i)])\n",
        "for i in range(10):\n",
        "  FalseIdentify.append([0.99 + 0.001*i,100*false_identify(0.99 + 0.001*i)])\n",
        "FalseIdentify"
      ],
      "metadata": {
        "id": "M753dWrlM4Km",
        "colab": {
          "base_uri": "https://localhost:8080/"
        },
        "outputId": "ba581057-a1f2-4298-90ed-8c8a338e24cf"
      },
      "execution_count": null,
      "outputs": [
        {
          "output_type": "execute_result",
          "data": {
            "text/plain": [
              "[[0.1, 9.2],\n",
              " [0.11, 9.133333333333333],\n",
              " [0.12000000000000001, 9.133333333333333],\n",
              " [0.13, 9.066666666666666],\n",
              " [0.14, 9.066666666666666],\n",
              " [0.15000000000000002, 8.866666666666667],\n",
              " [0.16, 8.866666666666667],\n",
              " [0.17, 8.866666666666667],\n",
              " [0.18, 8.799999999999999],\n",
              " [0.19, 8.799999999999999],\n",
              " [0.2, 8.799999999999999],\n",
              " [0.21000000000000002, 8.733333333333333],\n",
              " [0.22, 8.666666666666668],\n",
              " [0.23, 8.6],\n",
              " [0.24000000000000002, 8.6],\n",
              " [0.25, 8.6],\n",
              " [0.26, 8.6],\n",
              " [0.27, 8.6],\n",
              " [0.28, 8.466666666666667],\n",
              " [0.29000000000000004, 8.4],\n",
              " [0.30000000000000004, 8.4],\n",
              " [0.31, 8.4],\n",
              " [0.32, 8.4],\n",
              " [0.33, 8.4],\n",
              " [0.33999999999999997, 8.333333333333332],\n",
              " [0.35, 8.333333333333332],\n",
              " [0.36, 8.266666666666666],\n",
              " [0.37, 8.133333333333333],\n",
              " [0.38, 8.133333333333333],\n",
              " [0.39, 7.933333333333334],\n",
              " [0.4, 7.866666666666666],\n",
              " [0.41000000000000003, 7.733333333333333],\n",
              " [0.42000000000000004, 7.466666666666668],\n",
              " [0.43000000000000005, 7.333333333333333],\n",
              " [0.44000000000000006, 7.133333333333333],\n",
              " [0.45000000000000007, 7.000000000000001],\n",
              " [0.45999999999999996, 6.866666666666667],\n",
              " [0.47, 6.7333333333333325],\n",
              " [0.48, 6.6000000000000005],\n",
              " [0.49, 6.6000000000000005],\n",
              " [0.5, 6.6000000000000005],\n",
              " [0.51, 6.466666666666667],\n",
              " [0.52, 6.2],\n",
              " [0.53, 6.066666666666666],\n",
              " [0.54, 5.933333333333334],\n",
              " [0.55, 5.866666666666666],\n",
              " [0.56, 5.866666666666666],\n",
              " [0.5700000000000001, 5.733333333333333],\n",
              " [0.58, 5.666666666666666],\n",
              " [0.59, 5.666666666666666],\n",
              " [0.6, 5.6000000000000005],\n",
              " [0.61, 5.533333333333333],\n",
              " [0.62, 5.4],\n",
              " [0.63, 5.266666666666667],\n",
              " [0.64, 5.2],\n",
              " [0.65, 5.133333333333334],\n",
              " [0.66, 4.933333333333334],\n",
              " [0.67, 4.8],\n",
              " [0.6799999999999999, 4.8],\n",
              " [0.69, 4.733333333333333],\n",
              " [0.7, 4.533333333333333],\n",
              " [0.71, 4.533333333333333],\n",
              " [0.72, 4.333333333333334],\n",
              " [0.73, 4.266666666666667],\n",
              " [0.74, 4.133333333333333],\n",
              " [0.75, 4.0],\n",
              " [0.76, 4.0],\n",
              " [0.77, 3.8],\n",
              " [0.78, 3.733333333333334],\n",
              " [0.79, 3.5999999999999996],\n",
              " [0.8, 3.3333333333333335],\n",
              " [0.8099999999999999, 3.1333333333333333],\n",
              " [0.82, 3.0666666666666664],\n",
              " [0.83, 2.8000000000000003],\n",
              " [0.84, 2.666666666666667],\n",
              " [0.85, 2.6],\n",
              " [0.86, 2.4],\n",
              " [0.87, 2.2666666666666666],\n",
              " [0.88, 2.1333333333333333],\n",
              " [0.89, 2.0666666666666664],\n",
              " [0.9, 1.9333333333333333],\n",
              " [0.91, 1.7999999999999998],\n",
              " [0.92, 1.5333333333333332],\n",
              " [0.93, 1.1333333333333333],\n",
              " [0.94, 0.9333333333333335],\n",
              " [0.95, 0.7333333333333333],\n",
              " [0.96, 0.6],\n",
              " [0.97, 0.46666666666666673],\n",
              " [0.98, 0.33333333333333337],\n",
              " [0.99, 0.13333333333333333],\n",
              " [0.99, 0.13333333333333333],\n",
              " [0.991, 0.13333333333333333],\n",
              " [0.992, 0.06666666666666667],\n",
              " [0.993, 0.06666666666666667],\n",
              " [0.994, 0.06666666666666667],\n",
              " [0.995, 0.0],\n",
              " [0.996, 0.0],\n",
              " [0.997, 0.0],\n",
              " [0.998, 0.0],\n",
              " [0.999, 0.0]]"
            ]
          },
          "metadata": {},
          "execution_count": 99
        }
      ]
    },
    {
      "cell_type": "code",
      "source": [
        "def misclassifyunknown(threshold):\n",
        "  misclassifyunknown = 0\n",
        "  for i in range(prediction_unknown.shape[0]):\n",
        "    if max(prediction_unknown[i]) > threshold:\n",
        "      misclassifyunknown += 1\n",
        "  return misclassifyunknown/(prediction_unknown.shape[0])"
      ],
      "metadata": {
        "id": "InSYYnV1M4Of"
      },
      "execution_count": null,
      "outputs": []
    },
    {
      "cell_type": "code",
      "source": [
        "UnknownMisclassify = []\n",
        "for i in range(90):\n",
        "  UnknownMisclassify.append([0.1 + 0.01*i,100*misclassifyunknown(0.1 + 0.01*i)])\n",
        "for i in range(10):\n",
        "  UnknownMisclassify.append([0.99 + 0.001*i,100*misclassifyunknown(0.99 + 0.001*i)])\n",
        "UnknownMisclassify"
      ],
      "metadata": {
        "id": "jKdfbnzZM4ST",
        "colab": {
          "base_uri": "https://localhost:8080/"
        },
        "outputId": "00fb8bed-95c0-4379-c1b4-9ec7b59b7eaf"
      },
      "execution_count": null,
      "outputs": [
        {
          "output_type": "execute_result",
          "data": {
            "text/plain": [
              "[[0.1, 96.3],\n",
              " [0.11, 91.5],\n",
              " [0.12000000000000001, 86.3],\n",
              " [0.13, 83.6],\n",
              " [0.14, 80.5],\n",
              " [0.15000000000000002, 78.60000000000001],\n",
              " [0.16, 77.7],\n",
              " [0.17, 75.8],\n",
              " [0.18, 74.3],\n",
              " [0.19, 73.3],\n",
              " [0.2, 72.7],\n",
              " [0.21000000000000002, 71.39999999999999],\n",
              " [0.22, 70.1],\n",
              " [0.23, 69.1],\n",
              " [0.24000000000000002, 67.9],\n",
              " [0.25, 67.10000000000001],\n",
              " [0.26, 66.3],\n",
              " [0.27, 65.3],\n",
              " [0.28, 65.0],\n",
              " [0.29000000000000004, 64.3],\n",
              " [0.30000000000000004, 63.1],\n",
              " [0.31, 62.0],\n",
              " [0.32, 61.5],\n",
              " [0.33, 60.9],\n",
              " [0.33999999999999997, 60.099999999999994],\n",
              " [0.35, 58.9],\n",
              " [0.36, 58.3],\n",
              " [0.37, 57.599999999999994],\n",
              " [0.38, 57.099999999999994],\n",
              " [0.39, 56.39999999999999],\n",
              " [0.4, 55.900000000000006],\n",
              " [0.41000000000000003, 55.50000000000001],\n",
              " [0.42000000000000004, 54.800000000000004],\n",
              " [0.43000000000000005, 53.900000000000006],\n",
              " [0.44000000000000006, 53.5],\n",
              " [0.45000000000000007, 53.1],\n",
              " [0.45999999999999996, 52.800000000000004],\n",
              " [0.47, 51.300000000000004],\n",
              " [0.48, 50.8],\n",
              " [0.49, 50.2],\n",
              " [0.5, 49.5],\n",
              " [0.51, 48.6],\n",
              " [0.52, 48.0],\n",
              " [0.53, 47.4],\n",
              " [0.54, 46.800000000000004],\n",
              " [0.55, 45.800000000000004],\n",
              " [0.56, 45.0],\n",
              " [0.5700000000000001, 44.5],\n",
              " [0.58, 44.1],\n",
              " [0.59, 43.3],\n",
              " [0.6, 42.4],\n",
              " [0.61, 41.8],\n",
              " [0.62, 41.099999999999994],\n",
              " [0.63, 40.6],\n",
              " [0.64, 40.300000000000004],\n",
              " [0.65, 40.0],\n",
              " [0.66, 39.900000000000006],\n",
              " [0.67, 38.9],\n",
              " [0.6799999999999999, 38.7],\n",
              " [0.69, 37.3],\n",
              " [0.7, 36.6],\n",
              " [0.71, 35.5],\n",
              " [0.72, 34.599999999999994],\n",
              " [0.73, 33.900000000000006],\n",
              " [0.74, 33.2],\n",
              " [0.75, 33.2],\n",
              " [0.76, 32.5],\n",
              " [0.77, 32.1],\n",
              " [0.78, 31.6],\n",
              " [0.79, 31.2],\n",
              " [0.8, 30.9],\n",
              " [0.8099999999999999, 30.2],\n",
              " [0.82, 29.599999999999998],\n",
              " [0.83, 28.799999999999997],\n",
              " [0.84, 27.900000000000002],\n",
              " [0.85, 27.200000000000003],\n",
              " [0.86, 26.8],\n",
              " [0.87, 25.900000000000002],\n",
              " [0.88, 24.7],\n",
              " [0.89, 24.2],\n",
              " [0.9, 23.1],\n",
              " [0.91, 22.6],\n",
              " [0.92, 22.0],\n",
              " [0.93, 21.2],\n",
              " [0.94, 20.200000000000003],\n",
              " [0.95, 18.9],\n",
              " [0.96, 17.9],\n",
              " [0.97, 16.6],\n",
              " [0.98, 15.0],\n",
              " [0.99, 12.7],\n",
              " [0.99, 12.7],\n",
              " [0.991, 12.6],\n",
              " [0.992, 12.0],\n",
              " [0.993, 11.700000000000001],\n",
              " [0.994, 11.200000000000001],\n",
              " [0.995, 10.6],\n",
              " [0.996, 9.9],\n",
              " [0.997, 9.3],\n",
              " [0.998, 8.5],\n",
              " [0.999, 7.199999999999999]]"
            ]
          },
          "metadata": {},
          "execution_count": 101
        }
      ]
    },
    {
      "cell_type": "code",
      "source": [
        "def dontknow(threshold):\n",
        "  notknown = 0\n",
        "  for i in range(prediction_known.shape[0]):\n",
        "    if max(prediction_known[i]) <= threshold:\n",
        "      notknown += 1\n",
        "  return notknown/(prediction_known.shape[0])"
      ],
      "metadata": {
        "id": "RXvKcD4fM4VD"
      },
      "execution_count": null,
      "outputs": []
    },
    {
      "cell_type": "code",
      "execution_count": null,
      "metadata": {
        "id": "mWInVYNk2bml",
        "colab": {
          "base_uri": "https://localhost:8080/"
        },
        "outputId": "a02210be-bd12-442e-b4e1-e7e3b9d3b00c"
      },
      "outputs": [
        {
          "output_type": "execute_result",
          "data": {
            "text/plain": [
              "[[0.1, 0.06666666666666667],\n",
              " [0.11, 0.2],\n",
              " [0.12000000000000001, 0.2],\n",
              " [0.13, 0.33333333333333337],\n",
              " [0.14, 0.4],\n",
              " [0.15000000000000002, 0.6],\n",
              " [0.16, 0.6],\n",
              " [0.17, 0.6666666666666667],\n",
              " [0.18, 0.8],\n",
              " [0.19, 0.8666666666666666],\n",
              " [0.2, 0.8666666666666666],\n",
              " [0.21000000000000002, 0.9333333333333335],\n",
              " [0.22, 1.0],\n",
              " [0.23, 1.0666666666666667],\n",
              " [0.24000000000000002, 1.2],\n",
              " [0.25, 1.2666666666666666],\n",
              " [0.26, 1.3333333333333335],\n",
              " [0.27, 1.4000000000000001],\n",
              " [0.28, 1.6666666666666667],\n",
              " [0.29000000000000004, 2.0666666666666664],\n",
              " [0.30000000000000004, 2.0666666666666664],\n",
              " [0.31, 2.1333333333333333],\n",
              " [0.32, 2.2666666666666666],\n",
              " [0.33, 2.466666666666667],\n",
              " [0.33999999999999997, 2.6],\n",
              " [0.35, 2.8000000000000003],\n",
              " [0.36, 2.933333333333333],\n",
              " [0.37, 3.2],\n",
              " [0.38, 3.2],\n",
              " [0.39, 3.5999999999999996],\n",
              " [0.4, 3.8],\n",
              " [0.41000000000000003, 4.066666666666666],\n",
              " [0.42000000000000004, 4.3999999999999995],\n",
              " [0.43000000000000005, 4.6],\n",
              " [0.44000000000000006, 4.866666666666666],\n",
              " [0.45000000000000007, 5.2],\n",
              " [0.45999999999999996, 5.6000000000000005],\n",
              " [0.47, 5.933333333333334],\n",
              " [0.48, 6.066666666666666],\n",
              " [0.49, 6.333333333333334],\n",
              " [0.5, 6.466666666666667],\n",
              " [0.51, 6.800000000000001],\n",
              " [0.52, 7.3999999999999995],\n",
              " [0.53, 7.733333333333333],\n",
              " [0.54, 8.0],\n",
              " [0.55, 8.4],\n",
              " [0.56, 8.733333333333333],\n",
              " [0.5700000000000001, 9.2],\n",
              " [0.58, 9.8],\n",
              " [0.59, 10.0],\n",
              " [0.6, 10.533333333333333],\n",
              " [0.61, 11.0],\n",
              " [0.62, 11.333333333333332],\n",
              " [0.63, 11.666666666666666],\n",
              " [0.64, 11.933333333333334],\n",
              " [0.65, 12.6],\n",
              " [0.66, 13.333333333333334],\n",
              " [0.67, 13.666666666666666],\n",
              " [0.6799999999999999, 14.000000000000002],\n",
              " [0.69, 14.266666666666666],\n",
              " [0.7, 14.533333333333335],\n",
              " [0.71, 14.666666666666666],\n",
              " [0.72, 15.0],\n",
              " [0.73, 15.6],\n",
              " [0.74, 16.066666666666666],\n",
              " [0.75, 16.6],\n",
              " [0.76, 17.133333333333333],\n",
              " [0.77, 17.666666666666668],\n",
              " [0.78, 17.933333333333334],\n",
              " [0.79, 18.133333333333333],\n",
              " [0.8, 18.666666666666668],\n",
              " [0.8099999999999999, 19.333333333333332],\n",
              " [0.82, 19.933333333333334],\n",
              " [0.83, 20.733333333333334],\n",
              " [0.84, 21.6],\n",
              " [0.85, 22.066666666666666],\n",
              " [0.86, 22.8],\n",
              " [0.87, 23.400000000000002],\n",
              " [0.88, 24.2],\n",
              " [0.89, 25.333333333333336],\n",
              " [0.9, 26.200000000000003],\n",
              " [0.91, 27.200000000000003],\n",
              " [0.92, 28.599999999999998],\n",
              " [0.93, 30.866666666666664],\n",
              " [0.94, 32.33333333333333],\n",
              " [0.95, 34.599999999999994],\n",
              " [0.96, 36.733333333333334],\n",
              " [0.97, 39.06666666666666],\n",
              " [0.98, 42.4],\n",
              " [0.99, 48.199999999999996],\n",
              " [0.99, 48.199999999999996],\n",
              " [0.991, 49.13333333333333],\n",
              " [0.992, 50.6],\n",
              " [0.993, 51.33333333333333],\n",
              " [0.994, 52.46666666666666],\n",
              " [0.995, 53.93333333333333],\n",
              " [0.996, 55.53333333333333],\n",
              " [0.997, 57.666666666666664],\n",
              " [0.998, 60.333333333333336],\n",
              " [0.999, 64.4]]"
            ]
          },
          "metadata": {},
          "execution_count": 103
        }
      ],
      "source": [
        "DontKnowThresholding = []\n",
        "for i in range(90):\n",
        "  DontKnowThresholding.append([0.1 + 0.01*i,100*dontknow(0.1 + 0.01*i)])\n",
        "for i in range(10):\n",
        "  DontKnowThresholding.append([0.99 + 0.001*i,100*dontknow(0.99 + 0.001*i)])\n",
        "DontKnowThresholding"
      ]
    },
    {
      "cell_type": "code",
      "source": [
        "aligned_array = [element for row in prediction_unknown for element in row]\n",
        "# Find the maximum value in the aligned array\n",
        "max_value = max(aligned_array)\n",
        "\n",
        "# The max_value variable now contains the maximum value in the aligned array\n",
        "print(\"The maximum value in the aligned array is:\", max_value)\n"
      ],
      "metadata": {
        "id": "whvlD7tVNOew",
        "colab": {
          "base_uri": "https://localhost:8080/"
        },
        "outputId": "4cb453be-b96e-4e13-8de3-208b47cce10a"
      },
      "execution_count": null,
      "outputs": [
        {
          "output_type": "stream",
          "name": "stdout",
          "text": [
            "The maximum value in the aligned array is: 0.9999955\n"
          ]
        }
      ]
    },
    {
      "cell_type": "code",
      "source": [
        "thresholding(max_value)"
      ],
      "metadata": {
        "colab": {
          "base_uri": "https://localhost:8080/"
        },
        "id": "lQT16bp2f4xV",
        "outputId": "3b8a1e35-76f0-4e7d-d710-692df82feb46"
      },
      "execution_count": null,
      "outputs": [
        {
          "output_type": "execute_result",
          "data": {
            "text/plain": [
              "0.09"
            ]
          },
          "metadata": {},
          "execution_count": 112
        }
      ]
    },
    {
      "cell_type": "code",
      "source": [
        "dontknow(max_value)"
      ],
      "metadata": {
        "colab": {
          "base_uri": "https://localhost:8080/"
        },
        "id": "bb8_5G4-hP8l",
        "outputId": "fe924a7d-688a-495e-8171-bd4185babec4"
      },
      "execution_count": null,
      "outputs": [
        {
          "output_type": "execute_result",
          "data": {
            "text/plain": [
              "0.91"
            ]
          },
          "metadata": {},
          "execution_count": 106
        }
      ]
    },
    {
      "cell_type": "code",
      "source": [
        "misclassifyunknown(max_value)"
      ],
      "metadata": {
        "colab": {
          "base_uri": "https://localhost:8080/"
        },
        "id": "FjStdK4hhS8K",
        "outputId": "a7a8c1d5-2f92-48d2-e420-8c9dd6a788f2"
      },
      "execution_count": null,
      "outputs": [
        {
          "output_type": "execute_result",
          "data": {
            "text/plain": [
              "0.0"
            ]
          },
          "metadata": {},
          "execution_count": 107
        }
      ]
    },
    {
      "cell_type": "code",
      "source": [
        "false_identify(max_value)"
      ],
      "metadata": {
        "colab": {
          "base_uri": "https://localhost:8080/"
        },
        "id": "0ihRU5ZxhbjN",
        "outputId": "81d1bc58-01ec-4a9a-fdfc-9deb205c1158"
      },
      "execution_count": null,
      "outputs": [
        {
          "output_type": "execute_result",
          "data": {
            "text/plain": [
              "0.0"
            ]
          },
          "metadata": {},
          "execution_count": 108
        }
      ]
    },
    {
      "cell_type": "code",
      "source": [
        "DontKnowThresholdingANOTHER = []\n",
        "\n",
        "for i in range(89):\n",
        "  DontKnowThresholdingANOTHER.append([100*thresholding(0.1 + 0.01*i),100*dontknow(0.1 + 0.01*i),])\n",
        "\n",
        "for i in range(10):\n",
        "  DontKnowThresholdingANOTHER.append([100*thresholding(0.99 + 0.001*i),100*dontknow(0.99 + 0.001*i),])\n",
        "\n",
        "for i in range(10):\n",
        "  DontKnowThresholdingANOTHER.append([100*thresholding(0.999 + 0.0001*i),100*dontknow(0.999 + 0.0001*i),])\n",
        "\n",
        "for i in range(10):\n",
        "  DontKnowThresholdingANOTHER.append([100*thresholding(0.9999 + 0.00001*i),100*dontknow(0.9999 + 0.00001*i),])\n",
        "\n",
        "for i in range(10):\n",
        "  DontKnowThresholdingANOTHER.append([100*thresholding(0.99999 + 0.000001*i),100*dontknow(0.99999 + 0.000001*i),])\n",
        "\n",
        "for i in range(10):\n",
        "  DontKnowThresholdingANOTHER.append([100*thresholding(0.999999 + 0.0000001*i),100*dontknow(0.999999 + 0.0000001*i),])\n",
        "\n",
        "for i in range(9):\n",
        "  DontKnowThresholdingANOTHER.append([100*thresholding(0.9999999 + 0.00000001*i),100*dontknow(0.9999999 + 0.00000001*i),])\n",
        "\n",
        "DontKnowThresholdingANOTHER.append([100*thresholding(max_value),100*dontknow(max_value)])\n",
        "\n",
        "DontKnowThresholdingANOTHER"
      ],
      "metadata": {
        "colab": {
          "base_uri": "https://localhost:8080/"
        },
        "id": "eRKbUDYDNOSp",
        "outputId": "5c2bcf37-0220-4a9f-b033-3dc2bb9b1715"
      },
      "execution_count": null,
      "outputs": [
        {
          "output_type": "execute_result",
          "data": {
            "text/plain": [
              "[[90.73333333333333, 0.06666666666666667],\n",
              " [90.66666666666666, 0.2],\n",
              " [90.66666666666666, 0.2],\n",
              " [90.60000000000001, 0.33333333333333337],\n",
              " [90.53333333333333, 0.4],\n",
              " [90.53333333333333, 0.6],\n",
              " [90.53333333333333, 0.6],\n",
              " [90.46666666666667, 0.6666666666666667],\n",
              " [90.4, 0.8],\n",
              " [90.33333333333333, 0.8666666666666666],\n",
              " [90.33333333333333, 0.8666666666666666],\n",
              " [90.33333333333333, 0.9333333333333335],\n",
              " [90.33333333333333, 1.0],\n",
              " [90.33333333333333, 1.0666666666666667],\n",
              " [90.2, 1.2],\n",
              " [90.13333333333333, 1.2666666666666666],\n",
              " [90.06666666666666, 1.3333333333333335],\n",
              " [90.0, 1.4000000000000001],\n",
              " [89.86666666666666, 1.6666666666666667],\n",
              " [89.53333333333333, 2.0666666666666664],\n",
              " [89.53333333333333, 2.0666666666666664],\n",
              " [89.46666666666667, 2.1333333333333333],\n",
              " [89.33333333333333, 2.2666666666666666],\n",
              " [89.13333333333333, 2.466666666666667],\n",
              " [89.06666666666668, 2.6],\n",
              " [88.86666666666667, 2.8000000000000003],\n",
              " [88.8, 2.933333333333333],\n",
              " [88.66666666666667, 3.2],\n",
              " [88.66666666666667, 3.2],\n",
              " [88.46666666666667, 3.5999999999999996],\n",
              " [88.33333333333333, 3.8],\n",
              " [88.2, 4.066666666666666],\n",
              " [88.13333333333333, 4.3999999999999995],\n",
              " [88.06666666666668, 4.6],\n",
              " [88.0, 4.866666666666666],\n",
              " [87.8, 5.2],\n",
              " [87.53333333333333, 5.6000000000000005],\n",
              " [87.33333333333333, 5.933333333333334],\n",
              " [87.33333333333333, 6.066666666666666],\n",
              " [87.06666666666666, 6.333333333333334],\n",
              " [86.93333333333332, 6.466666666666667],\n",
              " [86.73333333333333, 6.800000000000001],\n",
              " [86.4, 7.3999999999999995],\n",
              " [86.2, 7.733333333333333],\n",
              " [86.06666666666666, 8.0],\n",
              " [85.73333333333333, 8.4],\n",
              " [85.39999999999999, 8.733333333333333],\n",
              " [85.06666666666666, 9.2],\n",
              " [84.53333333333333, 9.8],\n",
              " [84.33333333333334, 10.0],\n",
              " [83.86666666666667, 10.533333333333333],\n",
              " [83.46666666666667, 11.0],\n",
              " [83.26666666666667, 11.333333333333332],\n",
              " [83.06666666666666, 11.666666666666666],\n",
              " [82.86666666666666, 11.933333333333334],\n",
              " [82.26666666666667, 12.6],\n",
              " [81.73333333333333, 13.333333333333334],\n",
              " [81.53333333333333, 13.666666666666666],\n",
              " [81.2, 14.000000000000002],\n",
              " [81.0, 14.266666666666666],\n",
              " [80.93333333333334, 14.533333333333335],\n",
              " [80.80000000000001, 14.666666666666666],\n",
              " [80.66666666666666, 15.0],\n",
              " [80.13333333333334, 15.6],\n",
              " [79.80000000000001, 16.066666666666666],\n",
              " [79.4, 16.6],\n",
              " [78.86666666666666, 17.133333333333333],\n",
              " [78.53333333333333, 17.666666666666668],\n",
              " [78.33333333333333, 17.933333333333334],\n",
              " [78.26666666666667, 18.133333333333333],\n",
              " [78.0, 18.666666666666668],\n",
              " [77.53333333333333, 19.333333333333332],\n",
              " [77.0, 19.933333333333334],\n",
              " [76.46666666666667, 20.733333333333334],\n",
              " [75.73333333333333, 21.6],\n",
              " [75.33333333333333, 22.066666666666666],\n",
              " [74.8, 22.8],\n",
              " [74.33333333333333, 23.400000000000002],\n",
              " [73.66666666666667, 24.2],\n",
              " [72.6, 25.333333333333336],\n",
              " [71.86666666666667, 26.200000000000003],\n",
              " [71.0, 27.200000000000003],\n",
              " [69.86666666666666, 28.599999999999998],\n",
              " [68.0, 30.866666666666664],\n",
              " [66.73333333333333, 32.33333333333333],\n",
              " [64.66666666666666, 34.599999999999994],\n",
              " [62.66666666666667, 36.733333333333334],\n",
              " [60.46666666666667, 39.06666666666666],\n",
              " [57.266666666666666, 42.4],\n",
              " [51.66666666666667, 48.199999999999996],\n",
              " [50.73333333333333, 49.13333333333333],\n",
              " [49.333333333333336, 50.6],\n",
              " [48.6, 51.33333333333333],\n",
              " [47.46666666666667, 52.46666666666666],\n",
              " [46.06666666666667, 53.93333333333333],\n",
              " [44.46666666666667, 55.53333333333333],\n",
              " [42.333333333333336, 57.666666666666664],\n",
              " [39.666666666666664, 60.333333333333336],\n",
              " [35.6, 64.4],\n",
              " [35.6, 64.4],\n",
              " [34.8, 65.2],\n",
              " [34.2, 65.8],\n",
              " [33.266666666666666, 66.73333333333333],\n",
              " [32.4, 67.60000000000001],\n",
              " [31.533333333333335, 68.46666666666667],\n",
              " [30.4, 69.6],\n",
              " [28.199999999999996, 71.8],\n",
              " [26.266666666666666, 73.73333333333333],\n",
              " [22.2, 77.8],\n",
              " [22.2, 77.8],\n",
              " [21.73333333333333, 78.26666666666667],\n",
              " [21.46666666666667, 78.53333333333333],\n",
              " [20.599999999999998, 79.4],\n",
              " [19.666666666666664, 80.33333333333333],\n",
              " [18.4, 81.6],\n",
              " [17.333333333333336, 82.66666666666667],\n",
              " [16.466666666666665, 83.53333333333333],\n",
              " [14.466666666666667, 85.53333333333333],\n",
              " [11.799999999999999, 88.2],\n",
              " [11.799999999999999, 88.2],\n",
              " [11.4, 88.6],\n",
              " [10.933333333333334, 89.06666666666668],\n",
              " [10.533333333333333, 89.46666666666667],\n",
              " [9.866666666666667, 90.13333333333333],\n",
              " [9.2, 90.8],\n",
              " [8.799999999999999, 91.2],\n",
              " [7.733333333333333, 92.26666666666667],\n",
              " [5.733333333333333, 94.26666666666667],\n",
              " [3.8666666666666667, 96.13333333333334],\n",
              " [3.8666666666666667, 96.13333333333334],\n",
              " [3.4666666666666663, 96.53333333333333],\n",
              " [3.266666666666666, 96.73333333333333],\n",
              " [2.8666666666666667, 97.13333333333334],\n",
              " [2.7333333333333334, 97.26666666666667],\n",
              " [2.466666666666667, 97.53333333333333],\n",
              " [2.0, 98.0],\n",
              " [1.7333333333333332, 98.26666666666667],\n",
              " [1.0666666666666667, 98.93333333333332],\n",
              " [0.0, 100.0],\n",
              " [0.0, 100.0],\n",
              " [0.0, 100.0],\n",
              " [0.0, 100.0],\n",
              " [0.0, 100.0],\n",
              " [0.0, 100.0],\n",
              " [0.0, 100.0],\n",
              " [0.0, 100.0],\n",
              " [0.0, 100.0],\n",
              " [0.0, 100.0],\n",
              " [9.0, 91.0]]"
            ]
          },
          "metadata": {},
          "execution_count": 109
        }
      ]
    },
    {
      "cell_type": "code",
      "source": [
        "UnknownMisclassifyANOTHER = []\n",
        "for i in range(89):\n",
        "  UnknownMisclassifyANOTHER.append([100*thresholding(0.1 + 0.01*i),100*misclassifyunknown(0.1 + 0.01*i),])\n",
        "for i in range(10):\n",
        "  UnknownMisclassifyANOTHER.append([100*thresholding(0.99 + 0.001*i),100*misclassifyunknown(0.99 + 0.001*i),])\n",
        "\n",
        "for i in range(10):\n",
        "  UnknownMisclassifyANOTHER.append([100*thresholding(0.999 + 0.0001*i),100*misclassifyunknown(0.999 + 0.0001*i),])\n",
        "\n",
        "for i in range(10):\n",
        "  UnknownMisclassifyANOTHER.append([100*thresholding(0.9999 + 0.00001*i),100*misclassifyunknown(0.9999 + 0.00001*i),])\n",
        "\n",
        "for i in range(10):\n",
        "  UnknownMisclassifyANOTHER.append([100*thresholding(0.99999 + 0.000001*i),100*misclassifyunknown(0.99999 + 0.000001*i),])\n",
        "\n",
        "for i in range(10):\n",
        "  UnknownMisclassifyANOTHER.append([100*thresholding(0.999999 + 0.0000001*i),100*misclassifyunknown(0.999999 + 0.0000001*i),])\n",
        "\n",
        "for i in range(9):\n",
        "  UnknownMisclassifyANOTHER.append([100*thresholding(0.9999999 + 0.00000001*i),100*misclassifyunknown(0.9999999 + 0.00000001*i),])\n",
        "\n",
        "UnknownMisclassifyANOTHER.append([100*thresholding(max_value),100*misclassifyunknown(max_value),])\n",
        "\n",
        "UnknownMisclassifyANOTHER"
      ],
      "metadata": {
        "colab": {
          "base_uri": "https://localhost:8080/"
        },
        "id": "rkK7Pwx6b9vA",
        "outputId": "751496bd-7ddc-436f-9e1f-81f384383259"
      },
      "execution_count": null,
      "outputs": [
        {
          "output_type": "execute_result",
          "data": {
            "text/plain": [
              "[[90.73333333333333, 96.3],\n",
              " [90.66666666666666, 91.5],\n",
              " [90.66666666666666, 86.3],\n",
              " [90.60000000000001, 83.6],\n",
              " [90.53333333333333, 80.5],\n",
              " [90.53333333333333, 78.60000000000001],\n",
              " [90.53333333333333, 77.7],\n",
              " [90.46666666666667, 75.8],\n",
              " [90.4, 74.3],\n",
              " [90.33333333333333, 73.3],\n",
              " [90.33333333333333, 72.7],\n",
              " [90.33333333333333, 71.39999999999999],\n",
              " [90.33333333333333, 70.1],\n",
              " [90.33333333333333, 69.1],\n",
              " [90.2, 67.9],\n",
              " [90.13333333333333, 67.10000000000001],\n",
              " [90.06666666666666, 66.3],\n",
              " [90.0, 65.3],\n",
              " [89.86666666666666, 65.0],\n",
              " [89.53333333333333, 64.3],\n",
              " [89.53333333333333, 63.1],\n",
              " [89.46666666666667, 62.0],\n",
              " [89.33333333333333, 61.5],\n",
              " [89.13333333333333, 60.9],\n",
              " [89.06666666666668, 60.099999999999994],\n",
              " [88.86666666666667, 58.9],\n",
              " [88.8, 58.3],\n",
              " [88.66666666666667, 57.599999999999994],\n",
              " [88.66666666666667, 57.099999999999994],\n",
              " [88.46666666666667, 56.39999999999999],\n",
              " [88.33333333333333, 55.900000000000006],\n",
              " [88.2, 55.50000000000001],\n",
              " [88.13333333333333, 54.800000000000004],\n",
              " [88.06666666666668, 53.900000000000006],\n",
              " [88.0, 53.5],\n",
              " [87.8, 53.1],\n",
              " [87.53333333333333, 52.800000000000004],\n",
              " [87.33333333333333, 51.300000000000004],\n",
              " [87.33333333333333, 50.8],\n",
              " [87.06666666666666, 50.2],\n",
              " [86.93333333333332, 49.5],\n",
              " [86.73333333333333, 48.6],\n",
              " [86.4, 48.0],\n",
              " [86.2, 47.4],\n",
              " [86.06666666666666, 46.800000000000004],\n",
              " [85.73333333333333, 45.800000000000004],\n",
              " [85.39999999999999, 45.0],\n",
              " [85.06666666666666, 44.5],\n",
              " [84.53333333333333, 44.1],\n",
              " [84.33333333333334, 43.3],\n",
              " [83.86666666666667, 42.4],\n",
              " [83.46666666666667, 41.8],\n",
              " [83.26666666666667, 41.099999999999994],\n",
              " [83.06666666666666, 40.6],\n",
              " [82.86666666666666, 40.300000000000004],\n",
              " [82.26666666666667, 40.0],\n",
              " [81.73333333333333, 39.900000000000006],\n",
              " [81.53333333333333, 38.9],\n",
              " [81.2, 38.7],\n",
              " [81.0, 37.3],\n",
              " [80.93333333333334, 36.6],\n",
              " [80.80000000000001, 35.5],\n",
              " [80.66666666666666, 34.599999999999994],\n",
              " [80.13333333333334, 33.900000000000006],\n",
              " [79.80000000000001, 33.2],\n",
              " [79.4, 33.2],\n",
              " [78.86666666666666, 32.5],\n",
              " [78.53333333333333, 32.1],\n",
              " [78.33333333333333, 31.6],\n",
              " [78.26666666666667, 31.2],\n",
              " [78.0, 30.9],\n",
              " [77.53333333333333, 30.2],\n",
              " [77.0, 29.599999999999998],\n",
              " [76.46666666666667, 28.799999999999997],\n",
              " [75.73333333333333, 27.900000000000002],\n",
              " [75.33333333333333, 27.200000000000003],\n",
              " [74.8, 26.8],\n",
              " [74.33333333333333, 25.900000000000002],\n",
              " [73.66666666666667, 24.7],\n",
              " [72.6, 24.2],\n",
              " [71.86666666666667, 23.1],\n",
              " [71.0, 22.6],\n",
              " [69.86666666666666, 22.0],\n",
              " [68.0, 21.2],\n",
              " [66.73333333333333, 20.200000000000003],\n",
              " [64.66666666666666, 18.9],\n",
              " [62.66666666666667, 17.9],\n",
              " [60.46666666666667, 16.6],\n",
              " [57.266666666666666, 15.0],\n",
              " [51.66666666666667, 12.7],\n",
              " [50.73333333333333, 12.6],\n",
              " [49.333333333333336, 12.0],\n",
              " [48.6, 11.700000000000001],\n",
              " [47.46666666666667, 11.200000000000001],\n",
              " [46.06666666666667, 10.6],\n",
              " [44.46666666666667, 9.9],\n",
              " [42.333333333333336, 9.3],\n",
              " [39.666666666666664, 8.5],\n",
              " [35.6, 7.199999999999999],\n",
              " [35.6, 7.199999999999999],\n",
              " [34.8, 6.9],\n",
              " [34.2, 6.3],\n",
              " [33.266666666666666, 6.2],\n",
              " [32.4, 5.8999999999999995],\n",
              " [31.533333333333335, 5.6000000000000005],\n",
              " [30.4, 5.0],\n",
              " [28.199999999999996, 4.2],\n",
              " [26.266666666666666, 3.3000000000000003],\n",
              " [22.2, 2.5],\n",
              " [22.2, 2.5],\n",
              " [21.73333333333333, 2.5],\n",
              " [21.46666666666667, 2.3],\n",
              " [20.599999999999998, 2.1999999999999997],\n",
              " [19.666666666666664, 2.0],\n",
              " [18.4, 1.7999999999999998],\n",
              " [17.333333333333336, 1.6],\n",
              " [16.466666666666665, 1.3],\n",
              " [14.466666666666667, 1.0999999999999999],\n",
              " [11.799999999999999, 0.4],\n",
              " [11.799999999999999, 0.4],\n",
              " [11.4, 0.4],\n",
              " [10.933333333333334, 0.2],\n",
              " [10.533333333333333, 0.2],\n",
              " [9.866666666666667, 0.2],\n",
              " [9.2, 0.2],\n",
              " [8.799999999999999, 0.0],\n",
              " [7.733333333333333, 0.0],\n",
              " [5.733333333333333, 0.0],\n",
              " [3.8666666666666667, 0.0],\n",
              " [3.8666666666666667, 0.0],\n",
              " [3.4666666666666663, 0.0],\n",
              " [3.266666666666666, 0.0],\n",
              " [2.8666666666666667, 0.0],\n",
              " [2.7333333333333334, 0.0],\n",
              " [2.466666666666667, 0.0],\n",
              " [2.0, 0.0],\n",
              " [1.7333333333333332, 0.0],\n",
              " [1.0666666666666667, 0.0],\n",
              " [0.0, 0.0],\n",
              " [0.0, 0.0],\n",
              " [0.0, 0.0],\n",
              " [0.0, 0.0],\n",
              " [0.0, 0.0],\n",
              " [0.0, 0.0],\n",
              " [0.0, 0.0],\n",
              " [0.0, 0.0],\n",
              " [0.0, 0.0],\n",
              " [0.0, 0.0],\n",
              " [9.0, 0.0]]"
            ]
          },
          "metadata": {},
          "execution_count": 110
        }
      ]
    },
    {
      "cell_type": "code",
      "source": [
        "FalseIdentifyANOTHER = []\n",
        "for i in range(89):\n",
        "  FalseIdentifyANOTHER.append([100*thresholding(0.1 + 0.01*i),100*false_identify(0.1 + 0.01*i),])\n",
        "for i in range(10):\n",
        "  FalseIdentifyANOTHER.append([100*thresholding(0.99 + 0.001*i),100*false_identify(0.99 + 0.001*i)])\n",
        "\n",
        "for i in range(10):\n",
        "  FalseIdentifyANOTHER.append([100*thresholding(0.999 + 0.0001*i),100*false_identify(0.999 + 0.0001*i),])\n",
        "\n",
        "for i in range(10):\n",
        "  FalseIdentifyANOTHER.append([100*thresholding(0.9999 + 0.00001*i),100*false_identify(0.9999 + 0.00001*i),])\n",
        "\n",
        "for i in range(10):\n",
        "  FalseIdentifyANOTHER.append([100*thresholding(0.99999 + 0.000001*i),100*false_identify(0.99999 + 0.000001*i),])\n",
        "\n",
        "for i in range(10):\n",
        "  FalseIdentifyANOTHER.append([100*thresholding(0.999999 + 0.0000001*i),100*false_identify(0.999999 + 0.0000001*i),])\n",
        "\n",
        "for i in range(9):\n",
        "  FalseIdentifyANOTHER.append([100*thresholding(0.9999999 + 0.00000001*i),100*false_identify(0.9999999 + 0.00000001*i),])\n",
        "\n",
        "FalseIdentifyANOTHER.append([100*thresholding(max_value),100*false_identify(max_value),])\n",
        "FalseIdentifyANOTHER"
      ],
      "metadata": {
        "id": "oe9DmTAKNOXR",
        "colab": {
          "base_uri": "https://localhost:8080/"
        },
        "outputId": "d39c02b6-9646-4e04-80f1-5b06b1401372"
      },
      "execution_count": null,
      "outputs": [
        {
          "output_type": "execute_result",
          "data": {
            "text/plain": [
              "[[90.73333333333333, 9.2],\n",
              " [90.66666666666666, 9.133333333333333],\n",
              " [90.66666666666666, 9.133333333333333],\n",
              " [90.60000000000001, 9.066666666666666],\n",
              " [90.53333333333333, 9.066666666666666],\n",
              " [90.53333333333333, 8.866666666666667],\n",
              " [90.53333333333333, 8.866666666666667],\n",
              " [90.46666666666667, 8.866666666666667],\n",
              " [90.4, 8.799999999999999],\n",
              " [90.33333333333333, 8.799999999999999],\n",
              " [90.33333333333333, 8.799999999999999],\n",
              " [90.33333333333333, 8.733333333333333],\n",
              " [90.33333333333333, 8.666666666666668],\n",
              " [90.33333333333333, 8.6],\n",
              " [90.2, 8.6],\n",
              " [90.13333333333333, 8.6],\n",
              " [90.06666666666666, 8.6],\n",
              " [90.0, 8.6],\n",
              " [89.86666666666666, 8.466666666666667],\n",
              " [89.53333333333333, 8.4],\n",
              " [89.53333333333333, 8.4],\n",
              " [89.46666666666667, 8.4],\n",
              " [89.33333333333333, 8.4],\n",
              " [89.13333333333333, 8.4],\n",
              " [89.06666666666668, 8.333333333333332],\n",
              " [88.86666666666667, 8.333333333333332],\n",
              " [88.8, 8.266666666666666],\n",
              " [88.66666666666667, 8.133333333333333],\n",
              " [88.66666666666667, 8.133333333333333],\n",
              " [88.46666666666667, 7.933333333333334],\n",
              " [88.33333333333333, 7.866666666666666],\n",
              " [88.2, 7.733333333333333],\n",
              " [88.13333333333333, 7.466666666666668],\n",
              " [88.06666666666668, 7.333333333333333],\n",
              " [88.0, 7.133333333333333],\n",
              " [87.8, 7.000000000000001],\n",
              " [87.53333333333333, 6.866666666666667],\n",
              " [87.33333333333333, 6.7333333333333325],\n",
              " [87.33333333333333, 6.6000000000000005],\n",
              " [87.06666666666666, 6.6000000000000005],\n",
              " [86.93333333333332, 6.6000000000000005],\n",
              " [86.73333333333333, 6.466666666666667],\n",
              " [86.4, 6.2],\n",
              " [86.2, 6.066666666666666],\n",
              " [86.06666666666666, 5.933333333333334],\n",
              " [85.73333333333333, 5.866666666666666],\n",
              " [85.39999999999999, 5.866666666666666],\n",
              " [85.06666666666666, 5.733333333333333],\n",
              " [84.53333333333333, 5.666666666666666],\n",
              " [84.33333333333334, 5.666666666666666],\n",
              " [83.86666666666667, 5.6000000000000005],\n",
              " [83.46666666666667, 5.533333333333333],\n",
              " [83.26666666666667, 5.4],\n",
              " [83.06666666666666, 5.266666666666667],\n",
              " [82.86666666666666, 5.2],\n",
              " [82.26666666666667, 5.133333333333334],\n",
              " [81.73333333333333, 4.933333333333334],\n",
              " [81.53333333333333, 4.8],\n",
              " [81.2, 4.8],\n",
              " [81.0, 4.733333333333333],\n",
              " [80.93333333333334, 4.533333333333333],\n",
              " [80.80000000000001, 4.533333333333333],\n",
              " [80.66666666666666, 4.333333333333334],\n",
              " [80.13333333333334, 4.266666666666667],\n",
              " [79.80000000000001, 4.133333333333333],\n",
              " [79.4, 4.0],\n",
              " [78.86666666666666, 4.0],\n",
              " [78.53333333333333, 3.8],\n",
              " [78.33333333333333, 3.733333333333334],\n",
              " [78.26666666666667, 3.5999999999999996],\n",
              " [78.0, 3.3333333333333335],\n",
              " [77.53333333333333, 3.1333333333333333],\n",
              " [77.0, 3.0666666666666664],\n",
              " [76.46666666666667, 2.8000000000000003],\n",
              " [75.73333333333333, 2.666666666666667],\n",
              " [75.33333333333333, 2.6],\n",
              " [74.8, 2.4],\n",
              " [74.33333333333333, 2.2666666666666666],\n",
              " [73.66666666666667, 2.1333333333333333],\n",
              " [72.6, 2.0666666666666664],\n",
              " [71.86666666666667, 1.9333333333333333],\n",
              " [71.0, 1.7999999999999998],\n",
              " [69.86666666666666, 1.5333333333333332],\n",
              " [68.0, 1.1333333333333333],\n",
              " [66.73333333333333, 0.9333333333333335],\n",
              " [64.66666666666666, 0.7333333333333333],\n",
              " [62.66666666666667, 0.6],\n",
              " [60.46666666666667, 0.46666666666666673],\n",
              " [57.266666666666666, 0.33333333333333337],\n",
              " [51.66666666666667, 0.13333333333333333],\n",
              " [50.73333333333333, 0.13333333333333333],\n",
              " [49.333333333333336, 0.06666666666666667],\n",
              " [48.6, 0.06666666666666667],\n",
              " [47.46666666666667, 0.06666666666666667],\n",
              " [46.06666666666667, 0.0],\n",
              " [44.46666666666667, 0.0],\n",
              " [42.333333333333336, 0.0],\n",
              " [39.666666666666664, 0.0],\n",
              " [35.6, 0.0],\n",
              " [35.6, 0.0],\n",
              " [34.8, 0.0],\n",
              " [34.2, 0.0],\n",
              " [33.266666666666666, 0.0],\n",
              " [32.4, 0.0],\n",
              " [31.533333333333335, 0.0],\n",
              " [30.4, 0.0],\n",
              " [28.199999999999996, 0.0],\n",
              " [26.266666666666666, 0.0],\n",
              " [22.2, 0.0],\n",
              " [22.2, 0.0],\n",
              " [21.73333333333333, 0.0],\n",
              " [21.46666666666667, 0.0],\n",
              " [20.599999999999998, 0.0],\n",
              " [19.666666666666664, 0.0],\n",
              " [18.4, 0.0],\n",
              " [17.333333333333336, 0.0],\n",
              " [16.466666666666665, 0.0],\n",
              " [14.466666666666667, 0.0],\n",
              " [11.799999999999999, 0.0],\n",
              " [11.799999999999999, 0.0],\n",
              " [11.4, 0.0],\n",
              " [10.933333333333334, 0.0],\n",
              " [10.533333333333333, 0.0],\n",
              " [9.866666666666667, 0.0],\n",
              " [9.2, 0.0],\n",
              " [8.799999999999999, 0.0],\n",
              " [7.733333333333333, 0.0],\n",
              " [5.733333333333333, 0.0],\n",
              " [3.8666666666666667, 0.0],\n",
              " [3.8666666666666667, 0.0],\n",
              " [3.4666666666666663, 0.0],\n",
              " [3.266666666666666, 0.0],\n",
              " [2.8666666666666667, 0.0],\n",
              " [2.7333333333333334, 0.0],\n",
              " [2.466666666666667, 0.0],\n",
              " [2.0, 0.0],\n",
              " [1.7333333333333332, 0.0],\n",
              " [1.0666666666666667, 0.0],\n",
              " [0.0, 0.0],\n",
              " [0.0, 0.0],\n",
              " [0.0, 0.0],\n",
              " [0.0, 0.0],\n",
              " [0.0, 0.0],\n",
              " [0.0, 0.0],\n",
              " [0.0, 0.0],\n",
              " [0.0, 0.0],\n",
              " [0.0, 0.0],\n",
              " [0.0, 0.0],\n",
              " [9.0, 0.0]]"
            ]
          },
          "metadata": {},
          "execution_count": 111
        }
      ]
    },
    {
      "cell_type": "code",
      "source": [],
      "metadata": {
        "id": "J6Vf4U_EQDh6"
      },
      "execution_count": null,
      "outputs": []
    },
    {
      "cell_type": "markdown",
      "source": [
        "# Class-adaptive threshold"
      ],
      "metadata": {
        "id": "astEHCwEWNFf"
      }
    },
    {
      "cell_type": "markdown",
      "source": [
        "# Run #1"
      ],
      "metadata": {
        "id": "mgZEtA56usFB"
      }
    },
    {
      "cell_type": "code",
      "source": [
        "prediction_known = prediction_known_ensemble_1\n",
        "prediction_unknown = prediction_unknown_ensemble_1"
      ],
      "metadata": {
        "id": "EEg9x6-vurgQ"
      },
      "execution_count": null,
      "outputs": []
    },
    {
      "cell_type": "code",
      "source": [
        "ThresholdNeverSeenBefores = []\n",
        "for i in range(15):\n",
        "  ThresholdNeverSeenBefores.append(np.max(prediction_unknown[:,i]))"
      ],
      "metadata": {
        "id": "8Tyc8FzcWUk-"
      },
      "execution_count": null,
      "outputs": []
    },
    {
      "cell_type": "code",
      "source": [
        "C_count0 = 0\n",
        "for i in range(100):\n",
        "  if prediction_known[i,0] > ThresholdNeverSeenBefores[0] and np.argmax(prediction_known[i]) == 0:\n",
        "    C_count0 += 1\n",
        "  else:\n",
        "    C_count0 += 0\n",
        "C_count0"
      ],
      "metadata": {
        "colab": {
          "base_uri": "https://localhost:8080/"
        },
        "id": "rp_hvYS9WP6J",
        "outputId": "3753eeee-b8f9-4ddc-f222-016273bdd965"
      },
      "execution_count": null,
      "outputs": [
        {
          "output_type": "execute_result",
          "data": {
            "text/plain": [
              "2"
            ]
          },
          "metadata": {},
          "execution_count": 115
        }
      ]
    },
    {
      "cell_type": "code",
      "source": [
        "mistake0 = 0\n",
        "for i in range(100):\n",
        "  if np.argmax(prediction_known[i]) != 0 and max(prediction_known[i]) > ThresholdNeverSeenBefores[np.argmax(prediction_known[i])]:\n",
        "    mistake0 += 1\n",
        "    print(i)\n",
        "  else:\n",
        "    mistake0 += 0\n",
        "mistake0\n",
        "print(\"Number of mistakes in this class:\",mistake0)"
      ],
      "metadata": {
        "colab": {
          "base_uri": "https://localhost:8080/"
        },
        "id": "zAu3K9nEWP8P",
        "outputId": "eef94c44-1f2b-4d2f-c1a0-219bd7dd0a2a"
      },
      "execution_count": null,
      "outputs": [
        {
          "output_type": "stream",
          "name": "stdout",
          "text": [
            "Number of mistakes in this class: 0\n"
          ]
        }
      ]
    },
    {
      "cell_type": "code",
      "source": [
        "C_count1 = 0\n",
        "for i in range(100):\n",
        "  if prediction_known[100 + i,1] > ThresholdNeverSeenBefores[1] and np.argmax(prediction_known[100 + i]) == 1:\n",
        "    C_count1 += 1\n",
        "  else:\n",
        "    C_count1 += 0\n",
        "C_count1"
      ],
      "metadata": {
        "colab": {
          "base_uri": "https://localhost:8080/"
        },
        "id": "hHzot9WdXkC7",
        "outputId": "0ab0f279-3760-4317-8c20-e5f20ebfcb17"
      },
      "execution_count": null,
      "outputs": [
        {
          "output_type": "execute_result",
          "data": {
            "text/plain": [
              "74"
            ]
          },
          "metadata": {},
          "execution_count": 117
        }
      ]
    },
    {
      "cell_type": "code",
      "source": [
        "mistake1 = 0\n",
        "for i in range(100):\n",
        "  if np.argmax(prediction_known[100 + i]) != 1 and max(prediction_known[100 + i]) > ThresholdNeverSeenBefores[np.argmax(prediction_known[100 + i])]:\n",
        "    mistake1 += 1\n",
        "    print(100 + i)\n",
        "  else:\n",
        "    mistake1 += 0\n",
        "mistake1\n",
        "print(\"Number of mistakes in this class:\",mistake1)"
      ],
      "metadata": {
        "colab": {
          "base_uri": "https://localhost:8080/"
        },
        "id": "h4RVufLtXkAR",
        "outputId": "3d001bf8-7e6d-4cab-8383-e2602552be3b"
      },
      "execution_count": null,
      "outputs": [
        {
          "output_type": "stream",
          "name": "stdout",
          "text": [
            "144\n",
            "Number of mistakes in this class: 1\n"
          ]
        }
      ]
    },
    {
      "cell_type": "code",
      "source": [
        "ThresholdNeverSeenBefores[np.argmax(prediction_known[144])] = max(prediction_known[144])"
      ],
      "metadata": {
        "id": "9xZ6sVoHNNI0"
      },
      "execution_count": null,
      "outputs": []
    },
    {
      "cell_type": "code",
      "source": [
        "mistake1 = 0\n",
        "for i in range(100):\n",
        "  if np.argmax(prediction_known[100 + i]) != 1 and max(prediction_known[100 + i]) > ThresholdNeverSeenBefores[np.argmax(prediction_known[100 + i])]:\n",
        "    mistake1 += 1\n",
        "    print(100 + i)\n",
        "  else:\n",
        "    mistake1 += 0\n",
        "mistake1\n",
        "print(\"Number of mistakes in this class:\",mistake1)"
      ],
      "metadata": {
        "colab": {
          "base_uri": "https://localhost:8080/"
        },
        "id": "RG9PHsHdNQdK",
        "outputId": "f8a95aa4-7664-4155-ffd0-55f12773ce50"
      },
      "execution_count": null,
      "outputs": [
        {
          "output_type": "stream",
          "name": "stdout",
          "text": [
            "Number of mistakes in this class: 0\n"
          ]
        }
      ]
    },
    {
      "cell_type": "code",
      "source": [
        "C_count2 = 0\n",
        "for i in range(100):\n",
        "  if prediction_known[200 + i,2] > ThresholdNeverSeenBefores[2] and np.argmax(prediction_known[200 + i]) == 2:\n",
        "    C_count2 += 1\n",
        "  else:\n",
        "    C_count2 += 0\n",
        "C_count2"
      ],
      "metadata": {
        "colab": {
          "base_uri": "https://localhost:8080/"
        },
        "id": "vmmpoficmsIo",
        "outputId": "92b85fa1-fa2b-4a6e-f6b8-89776606bda4"
      },
      "execution_count": null,
      "outputs": [
        {
          "output_type": "execute_result",
          "data": {
            "text/plain": [
              "10"
            ]
          },
          "metadata": {},
          "execution_count": 121
        }
      ]
    },
    {
      "cell_type": "code",
      "source": [
        "mistake2 = 0\n",
        "for i in range(100):\n",
        "  if np.argmax(prediction_known[200 + i]) != 2 and max(prediction_known[200 + i]) > ThresholdNeverSeenBefores[np.argmax(prediction_known[200 + i])]:\n",
        "    mistake2 += 1\n",
        "    print(200 + i)\n",
        "  else:\n",
        "    mistake2 += 0\n",
        "mistake2\n",
        "print(\"Number of mistakes in this class:\",mistake2)"
      ],
      "metadata": {
        "colab": {
          "base_uri": "https://localhost:8080/"
        },
        "id": "JTiQq-WKmsMB",
        "outputId": "a89b2603-7bd0-4b23-aee3-a70a83157b38"
      },
      "execution_count": null,
      "outputs": [
        {
          "output_type": "stream",
          "name": "stdout",
          "text": [
            "Number of mistakes in this class: 0\n"
          ]
        }
      ]
    },
    {
      "cell_type": "code",
      "source": [
        "C_count3 = 0\n",
        "for i in range(100):\n",
        "  if prediction_known[300 + i,3] > ThresholdNeverSeenBefores[3] and np.argmax(prediction_known[300 + i]) == 3:\n",
        "    C_count3 += 1\n",
        "  else:\n",
        "    C_count3 += 0\n",
        "C_count3"
      ],
      "metadata": {
        "colab": {
          "base_uri": "https://localhost:8080/"
        },
        "id": "gsNwlMBAmsN3",
        "outputId": "00a4cbc2-5e74-4cb2-f086-1cc52a9f7db0"
      },
      "execution_count": null,
      "outputs": [
        {
          "output_type": "execute_result",
          "data": {
            "text/plain": [
              "92"
            ]
          },
          "metadata": {},
          "execution_count": 123
        }
      ]
    },
    {
      "cell_type": "code",
      "source": [
        "mistake3 = 0\n",
        "for i in range(100):\n",
        "  if np.argmax(prediction_known[300 + i]) != 3 and max(prediction_known[300 + i]) > ThresholdNeverSeenBefores[np.argmax(prediction_known[300 + i])]:\n",
        "    mistake3 += 1\n",
        "    print(300 + i)\n",
        "  else:\n",
        "    mistake3 += 0\n",
        "mistake3\n",
        "print(\"Number of mistakes in this class:\",mistake3)"
      ],
      "metadata": {
        "colab": {
          "base_uri": "https://localhost:8080/"
        },
        "id": "HP9oRkpvmsPv",
        "outputId": "3cb68c30-e013-4d49-df0a-652625ad750f"
      },
      "execution_count": null,
      "outputs": [
        {
          "output_type": "stream",
          "name": "stdout",
          "text": [
            "Number of mistakes in this class: 0\n"
          ]
        }
      ]
    },
    {
      "cell_type": "code",
      "source": [
        "C_count4 = 0\n",
        "for i in range(100):\n",
        "  if prediction_known[400 + i,4] > ThresholdNeverSeenBefores[4] and np.argmax(prediction_known[400 + i]) == 4:\n",
        "    C_count4 += 1\n",
        "  else:\n",
        "    C_count4 += 0\n",
        "C_count4"
      ],
      "metadata": {
        "colab": {
          "base_uri": "https://localhost:8080/"
        },
        "id": "qGdmlHmUmsSi",
        "outputId": "a53f819f-aa04-488b-941a-bd0bf7e85c2e"
      },
      "execution_count": null,
      "outputs": [
        {
          "output_type": "execute_result",
          "data": {
            "text/plain": [
              "100"
            ]
          },
          "metadata": {},
          "execution_count": 125
        }
      ]
    },
    {
      "cell_type": "code",
      "source": [
        "mistake4 = 0\n",
        "for i in range(100):\n",
        "  if np.argmax(prediction_known[400 + i]) != 4 and max(prediction_known[400 + i]) > ThresholdNeverSeenBefores[np.argmax(prediction_known[400 + i])]:\n",
        "    mistake4 += 1\n",
        "    print(400 + i)\n",
        "  else:\n",
        "    mistake4 += 0\n",
        "print(\"Number of mistakes in this class:\",mistake4)"
      ],
      "metadata": {
        "colab": {
          "base_uri": "https://localhost:8080/"
        },
        "id": "RTXAEphBmsU_",
        "outputId": "7473ba55-22d3-48f6-e0e0-c093fe96fd95"
      },
      "execution_count": null,
      "outputs": [
        {
          "output_type": "stream",
          "name": "stdout",
          "text": [
            "Number of mistakes in this class: 0\n"
          ]
        }
      ]
    },
    {
      "cell_type": "code",
      "source": [
        "C_count5 = 0\n",
        "for i in range(100):\n",
        "  if prediction_known[500 + i,5] > ThresholdNeverSeenBefores[5] and np.argmax(prediction_known[500 + i]) == 5:\n",
        "    C_count5 += 1\n",
        "  else:\n",
        "    C_count5 += 0\n",
        "C_count5"
      ],
      "metadata": {
        "colab": {
          "base_uri": "https://localhost:8080/"
        },
        "id": "bwuWW0SkqIB_",
        "outputId": "7a12fea1-4582-4437-f405-59562fade5a2"
      },
      "execution_count": null,
      "outputs": [
        {
          "output_type": "execute_result",
          "data": {
            "text/plain": [
              "85"
            ]
          },
          "metadata": {},
          "execution_count": 127
        }
      ]
    },
    {
      "cell_type": "code",
      "source": [
        "mistake5 = 0\n",
        "for i in range(100):\n",
        "  if np.argmax(prediction_known[500 + i]) != 5 and max(prediction_known[500 + i]) > ThresholdNeverSeenBefores[np.argmax(prediction_known[500 + i])]:\n",
        "    mistake5 += 1\n",
        "    print(500 + i)\n",
        "  else:\n",
        "    mistake5 += 0\n",
        "print(\"Number of mistakes in this class:\",mistake5)"
      ],
      "metadata": {
        "colab": {
          "base_uri": "https://localhost:8080/"
        },
        "id": "yMRqQVgIqKWx",
        "outputId": "1e731335-605b-4cc5-9304-6c9e56de81e7"
      },
      "execution_count": null,
      "outputs": [
        {
          "output_type": "stream",
          "name": "stdout",
          "text": [
            "501\n",
            "510\n",
            "515\n",
            "524\n",
            "526\n",
            "532\n",
            "533\n",
            "535\n",
            "540\n",
            "553\n",
            "559\n",
            "560\n",
            "566\n",
            "570\n",
            "572\n",
            "Number of mistakes in this class: 15\n"
          ]
        }
      ]
    },
    {
      "cell_type": "code",
      "source": [
        "ThresholdNeverSeenBefores[np.argmax(prediction_known[559])] = max(prediction_known[559])"
      ],
      "metadata": {
        "id": "Ou__73QO_ama"
      },
      "execution_count": null,
      "outputs": []
    },
    {
      "cell_type": "code",
      "source": [
        "mistake5 = 0\n",
        "for i in range(100):\n",
        "  if np.argmax(prediction_known[500 + i]) != 5 and max(prediction_known[500 + i]) > ThresholdNeverSeenBefores[np.argmax(prediction_known[500 + i])]:\n",
        "    mistake5 += 1\n",
        "    print(500 + i)\n",
        "  else:\n",
        "    mistake5 += 0\n",
        "print(\"Number of mistakes in this class:\",mistake5)"
      ],
      "metadata": {
        "colab": {
          "base_uri": "https://localhost:8080/"
        },
        "id": "Z0O28Ykk_eBN",
        "outputId": "34fe9cc9-48bf-40e3-d53c-426ae7dd18a2"
      },
      "execution_count": null,
      "outputs": [
        {
          "output_type": "stream",
          "name": "stdout",
          "text": [
            "Number of mistakes in this class: 0\n"
          ]
        }
      ]
    },
    {
      "cell_type": "code",
      "source": [
        "C_count6 = 0\n",
        "for i in range(100):\n",
        "  if prediction_known[600 + i,6] > ThresholdNeverSeenBefores[6] and np.argmax(prediction_known[600 + i]) == 6:\n",
        "    C_count6 += 1\n",
        "  else:\n",
        "    C_count6 += 0\n",
        "C_count6"
      ],
      "metadata": {
        "colab": {
          "base_uri": "https://localhost:8080/"
        },
        "id": "GJt2-_RjqhZM",
        "outputId": "ae6f6561-034d-4f3a-9fe8-5a75b5dd9008"
      },
      "execution_count": null,
      "outputs": [
        {
          "output_type": "execute_result",
          "data": {
            "text/plain": [
              "70"
            ]
          },
          "metadata": {},
          "execution_count": 131
        }
      ]
    },
    {
      "cell_type": "code",
      "source": [
        "mistake6 = 0\n",
        "for i in range(100):\n",
        "  if np.argmax(prediction_known[600 + i]) != 6 and max(prediction_known[600 + i]) > ThresholdNeverSeenBefores[np.argmax(prediction_known[600 + i])]:\n",
        "    mistake6 += 1\n",
        "    print(600 + i)\n",
        "  else:\n",
        "    mistake6 += 0\n",
        "print(\"Number of mistakes in this class:\",mistake6)"
      ],
      "metadata": {
        "colab": {
          "base_uri": "https://localhost:8080/"
        },
        "id": "bJ0sklVOqhbU",
        "outputId": "d11dde81-2970-4ed3-884f-2d72e2367c9e"
      },
      "execution_count": null,
      "outputs": [
        {
          "output_type": "stream",
          "name": "stdout",
          "text": [
            "607\n",
            "609\n",
            "610\n",
            "639\n",
            "648\n",
            "658\n",
            "668\n",
            "670\n",
            "688\n",
            "696\n",
            "Number of mistakes in this class: 10\n"
          ]
        }
      ]
    },
    {
      "cell_type": "code",
      "source": [
        "ThresholdNeverSeenBefores[np.argmax(prediction_known[658])] = max(prediction_known[658])"
      ],
      "metadata": {
        "id": "46R_9FV_Nv0u"
      },
      "execution_count": null,
      "outputs": []
    },
    {
      "cell_type": "code",
      "source": [
        "mistake6 = 0\n",
        "for i in range(100):\n",
        "  if np.argmax(prediction_known[600 + i]) != 6 and max(prediction_known[600 + i]) > ThresholdNeverSeenBefores[np.argmax(prediction_known[600 + i])]:\n",
        "    mistake6 += 1\n",
        "    print(600 + i)\n",
        "  else:\n",
        "    mistake6 += 0\n",
        "print(\"Number of mistakes in this class:\",mistake6)"
      ],
      "metadata": {
        "colab": {
          "base_uri": "https://localhost:8080/"
        },
        "id": "XRmK5EjkN0bY",
        "outputId": "bc4ab192-4b4e-4352-899e-9a8203eb54eb"
      },
      "execution_count": null,
      "outputs": [
        {
          "output_type": "stream",
          "name": "stdout",
          "text": [
            "Number of mistakes in this class: 0\n"
          ]
        }
      ]
    },
    {
      "cell_type": "code",
      "source": [
        "C_count7 = 0\n",
        "for i in range(100):\n",
        "  if prediction_known[700 + i,7] > ThresholdNeverSeenBefores[7]  and np.argmax(prediction_known[700 + i]) == 7:\n",
        "    C_count7 += 1\n",
        "  else:\n",
        "    C_count7 += 0\n",
        "C_count7"
      ],
      "metadata": {
        "colab": {
          "base_uri": "https://localhost:8080/"
        },
        "id": "WMsrIQt1qhe2",
        "outputId": "ac2f5777-260c-442e-b447-0eefc43159eb"
      },
      "execution_count": null,
      "outputs": [
        {
          "output_type": "execute_result",
          "data": {
            "text/plain": [
              "64"
            ]
          },
          "metadata": {},
          "execution_count": 145
        }
      ]
    },
    {
      "cell_type": "code",
      "source": [
        "mistake7 = 0\n",
        "for i in range(100):\n",
        "  if np.argmax(prediction_known[700 + i]) != 7 and max(prediction_known[700 + i]) > ThresholdNeverSeenBefores[np.argmax(prediction_known[700 + i])]:\n",
        "    mistake7 += 1\n",
        "    print(700 + i)\n",
        "  else:\n",
        "    mistake7 += 0\n",
        "print(\"Number of mistakes in this class:\",mistake7)"
      ],
      "metadata": {
        "colab": {
          "base_uri": "https://localhost:8080/"
        },
        "id": "gau4TuhUqhiG",
        "outputId": "5c50cb15-b838-4097-e44a-a38af7bce3a5"
      },
      "execution_count": null,
      "outputs": [
        {
          "output_type": "stream",
          "name": "stdout",
          "text": [
            "795\n",
            "Number of mistakes in this class: 1\n"
          ]
        }
      ]
    },
    {
      "cell_type": "code",
      "source": [
        "ThresholdNeverSeenBefores[np.argmax(prediction_known[795])] = max(prediction_known[795])"
      ],
      "metadata": {
        "id": "mNKl-3Jn_tjH"
      },
      "execution_count": null,
      "outputs": []
    },
    {
      "cell_type": "code",
      "source": [
        "mistake7 = 0\n",
        "for i in range(100):\n",
        "  if np.argmax(prediction_known[700 + i]) != 7 and max(prediction_known[700 + i]) > ThresholdNeverSeenBefores[np.argmax(prediction_known[700 + i])]:\n",
        "    mistake7 += 1\n",
        "    print(700 + i)\n",
        "  else:\n",
        "    mistake7 += 0\n",
        "print(\"Number of mistakes in this class:\",mistake7)"
      ],
      "metadata": {
        "colab": {
          "base_uri": "https://localhost:8080/"
        },
        "id": "C3FdwIwH_woe",
        "outputId": "05ec8c40-a7cd-48d3-ab54-257e9af89008"
      },
      "execution_count": null,
      "outputs": [
        {
          "output_type": "stream",
          "name": "stdout",
          "text": [
            "Number of mistakes in this class: 0\n"
          ]
        }
      ]
    },
    {
      "cell_type": "code",
      "source": [
        "C_count8 = 0\n",
        "for i in range(100):\n",
        "  if prediction_known[800 + i,8] > ThresholdNeverSeenBefores[8] and np.argmax(prediction_known[800 + i]) == 8:\n",
        "    C_count8 += 1\n",
        "  else:\n",
        "    C_count8 += 0\n",
        "C_count8"
      ],
      "metadata": {
        "colab": {
          "base_uri": "https://localhost:8080/"
        },
        "id": "Zyufo5sUqhkP",
        "outputId": "7ae4e174-59b2-49ee-c160-819f21bb1cc6"
      },
      "execution_count": null,
      "outputs": [
        {
          "output_type": "execute_result",
          "data": {
            "text/plain": [
              "82"
            ]
          },
          "metadata": {},
          "execution_count": 149
        }
      ]
    },
    {
      "cell_type": "code",
      "source": [
        "mistake8 = 0\n",
        "for i in range(100):\n",
        "  if np.argmax(prediction_known[800 + i]) != 8 and max(prediction_known[800 + i]) > ThresholdNeverSeenBefores[np.argmax(prediction_known[800 + i])]:\n",
        "    mistake8 += 1\n",
        "    print(800 + i)\n",
        "  else:\n",
        "    mistake8 += 0\n",
        "print(\"Number of mistakes in this class:\",mistake8)"
      ],
      "metadata": {
        "colab": {
          "base_uri": "https://localhost:8080/"
        },
        "id": "aqBpRvSWqhnj",
        "outputId": "5719f9b9-e2a1-473f-e87a-dce77f8fb07c"
      },
      "execution_count": null,
      "outputs": [
        {
          "output_type": "stream",
          "name": "stdout",
          "text": [
            "Number of mistakes in this class: 0\n"
          ]
        }
      ]
    },
    {
      "cell_type": "code",
      "source": [
        "C_count9 = 0\n",
        "for i in range(100):\n",
        "  if prediction_known[900 + i,9] > ThresholdNeverSeenBefores[9] and np.argmax(prediction_known[900 + i]) == 9:\n",
        "    C_count9 += 1\n",
        "  else:\n",
        "    C_count9 += 0\n",
        "C_count9"
      ],
      "metadata": {
        "colab": {
          "base_uri": "https://localhost:8080/"
        },
        "id": "UbQcIVdBqhpv",
        "outputId": "13c190f5-0cff-444f-89aa-bec908683986"
      },
      "execution_count": null,
      "outputs": [
        {
          "output_type": "execute_result",
          "data": {
            "text/plain": [
              "3"
            ]
          },
          "metadata": {},
          "execution_count": 151
        }
      ]
    },
    {
      "cell_type": "code",
      "source": [
        "mistake9 = 0\n",
        "for i in range(100):\n",
        "  if np.argmax(prediction_known[900 + i]) != 9 and max(prediction_known[900 + i]) > ThresholdNeverSeenBefores[np.argmax(prediction_known[900 + i])]:\n",
        "    mistake9 += 1\n",
        "    print(900 + i)\n",
        "  else:\n",
        "    mistake9 += 0\n",
        "print(\"Number of mistakes in this class:\",mistake9)"
      ],
      "metadata": {
        "colab": {
          "base_uri": "https://localhost:8080/"
        },
        "id": "o6TeE6FjrOKT",
        "outputId": "05c2aebe-d4bd-4ce0-84d5-f631e6882def"
      },
      "execution_count": null,
      "outputs": [
        {
          "output_type": "stream",
          "name": "stdout",
          "text": [
            "Number of mistakes in this class: 0\n"
          ]
        }
      ]
    },
    {
      "cell_type": "code",
      "source": [
        "C_count10 = 0\n",
        "for i in range(100):\n",
        "  if prediction_known[i + 10*100,10] > ThresholdNeverSeenBefores[10] and np.argmax(prediction_known[i + 10*100]) == 10:\n",
        "    C_count10 += 1\n",
        "  else:\n",
        "    C_count10 += 0\n",
        "C_count10"
      ],
      "metadata": {
        "colab": {
          "base_uri": "https://localhost:8080/"
        },
        "id": "RfyOeyVNONgV",
        "outputId": "590c6fe1-ca5a-4a89-c11f-295cbfa63295"
      },
      "execution_count": null,
      "outputs": [
        {
          "output_type": "execute_result",
          "data": {
            "text/plain": [
              "83"
            ]
          },
          "metadata": {},
          "execution_count": 153
        }
      ]
    },
    {
      "cell_type": "code",
      "source": [
        "mistake10 = 0\n",
        "for i in range(100):\n",
        "  if np.argmax(prediction_known[1000 + i]) != 10 and max(prediction_known[1000 + i]) > ThresholdNeverSeenBefores[np.argmax(prediction_known[1000 + i])]:\n",
        "    mistake10 += 1\n",
        "    print(1000 + i)\n",
        "  else:\n",
        "    mistake10 += 0\n",
        "print(\"Number of mistakes in this class:\",mistake10)"
      ],
      "metadata": {
        "colab": {
          "base_uri": "https://localhost:8080/"
        },
        "id": "Ekt_bBxvONcA",
        "outputId": "805a783d-2e2f-4154-faab-c42d901d1999"
      },
      "execution_count": null,
      "outputs": [
        {
          "output_type": "stream",
          "name": "stdout",
          "text": [
            "Number of mistakes in this class: 0\n"
          ]
        }
      ]
    },
    {
      "cell_type": "code",
      "source": [
        "C_count11 = 0\n",
        "for i in range(100):\n",
        "  if prediction_known[i + 11*100,11] > ThresholdNeverSeenBefores[11] and np.argmax(prediction_known[i + 11*100]) == 11:\n",
        "    C_count11 += 1\n",
        "  else:\n",
        "    C_count11 += 0\n",
        "C_count11"
      ],
      "metadata": {
        "colab": {
          "base_uri": "https://localhost:8080/"
        },
        "id": "j6byw4L6ONjQ",
        "outputId": "a2c569af-9771-4fce-d5a2-0968b0236c97"
      },
      "execution_count": null,
      "outputs": [
        {
          "output_type": "execute_result",
          "data": {
            "text/plain": [
              "34"
            ]
          },
          "metadata": {},
          "execution_count": 155
        }
      ]
    },
    {
      "cell_type": "code",
      "source": [
        "mistake11 = 0\n",
        "for i in range(100):\n",
        "  if np.argmax(prediction_known[1100 + i]) != 11 and max(prediction_known[1100 + i]) > ThresholdNeverSeenBefores[np.argmax(prediction_known[1100 + i])]:\n",
        "    mistake11 += 1\n",
        "    print(1100 + i)\n",
        "  else:\n",
        "    mistake11 += 0\n",
        "print(\"Number of mistakes in this class:\",mistake11)"
      ],
      "metadata": {
        "colab": {
          "base_uri": "https://localhost:8080/"
        },
        "id": "XTo9fjq0ONn7",
        "outputId": "dc6327ca-0ca9-40e4-9f8e-93657ef2872f"
      },
      "execution_count": null,
      "outputs": [
        {
          "output_type": "stream",
          "name": "stdout",
          "text": [
            "1117\n",
            "1120\n",
            "1160\n",
            "1184\n",
            "1188\n",
            "Number of mistakes in this class: 5\n"
          ]
        }
      ]
    },
    {
      "cell_type": "code",
      "source": [
        "ThresholdNeverSeenBefores[np.argmax(prediction_known[1188])] = max(prediction_known[1188])"
      ],
      "metadata": {
        "id": "yxdzerfO_4A8"
      },
      "execution_count": null,
      "outputs": []
    },
    {
      "cell_type": "code",
      "source": [
        "mistake11 = 0\n",
        "for i in range(100):\n",
        "  if np.argmax(prediction_known[1100 + i]) != 11 and max(prediction_known[1100 + i]) > ThresholdNeverSeenBefores[np.argmax(prediction_known[1100 + i])]:\n",
        "    mistake11 += 1\n",
        "    print(1100 + i)\n",
        "  else:\n",
        "    mistake11 += 0\n",
        "print(\"Number of mistakes in this class:\",mistake11)"
      ],
      "metadata": {
        "colab": {
          "base_uri": "https://localhost:8080/"
        },
        "id": "VVJtVeqi_60F",
        "outputId": "b1673397-ce17-478f-865b-3cbe8f10435e"
      },
      "execution_count": null,
      "outputs": [
        {
          "output_type": "stream",
          "name": "stdout",
          "text": [
            "Number of mistakes in this class: 0\n"
          ]
        }
      ]
    },
    {
      "cell_type": "code",
      "source": [
        "C_count12 = 0\n",
        "for i in range(100):\n",
        "  if prediction_known[i + 12*100,12] > ThresholdNeverSeenBefores[12] and np.argmax(prediction_known[i + 12*100]) == 12:\n",
        "    C_count12 += 1\n",
        "  else:\n",
        "    C_count12 += 0\n",
        "C_count12"
      ],
      "metadata": {
        "colab": {
          "base_uri": "https://localhost:8080/"
        },
        "id": "7ZEkgZKTQHnK",
        "outputId": "4f6a702c-5638-41c0-8793-6daf2c643c92"
      },
      "execution_count": null,
      "outputs": [
        {
          "output_type": "execute_result",
          "data": {
            "text/plain": [
              "36"
            ]
          },
          "metadata": {},
          "execution_count": 163
        }
      ]
    },
    {
      "cell_type": "code",
      "source": [
        "mistake12 = 0\n",
        "for i in range(100):\n",
        "  if np.argmax(prediction_known[1200 + i]) != 12 and max(prediction_known[1200 + i]) > ThresholdNeverSeenBefores[np.argmax(prediction_known[1200 + i])]:\n",
        "    mistake12 += 1\n",
        "    print(1200 + i)\n",
        "  else:\n",
        "    mistake12 += 0\n",
        "print(\"Number of mistakes in this class:\",mistake12)"
      ],
      "metadata": {
        "colab": {
          "base_uri": "https://localhost:8080/"
        },
        "id": "6B0SAhUMQHpb",
        "outputId": "58aad276-7d5a-4065-b68b-b5797c9a544a"
      },
      "execution_count": null,
      "outputs": [
        {
          "output_type": "stream",
          "name": "stdout",
          "text": [
            "Number of mistakes in this class: 0\n"
          ]
        }
      ]
    },
    {
      "cell_type": "code",
      "source": [
        "C_count13 = 0\n",
        "for i in range(100):\n",
        "  if prediction_known[i + 13*100,13] > ThresholdNeverSeenBefores[13] and np.argmax(prediction_known[i + 13*100]) == 13:\n",
        "    C_count13 += 1\n",
        "  else:\n",
        "    C_count13 += 0\n",
        "C_count13"
      ],
      "metadata": {
        "colab": {
          "base_uri": "https://localhost:8080/"
        },
        "id": "sIpPnc7NQHtA",
        "outputId": "ad698bd1-c2b7-4a0f-cbf2-13349eb6f59c"
      },
      "execution_count": null,
      "outputs": [
        {
          "output_type": "execute_result",
          "data": {
            "text/plain": [
              "99"
            ]
          },
          "metadata": {},
          "execution_count": 165
        }
      ]
    },
    {
      "cell_type": "code",
      "source": [
        "mistake13 = 0\n",
        "for i in range(100):\n",
        "  if np.argmax(prediction_known[1300 + i]) != 13 and max(prediction_known[1300 + i]) > ThresholdNeverSeenBefores[np.argmax(prediction_known[1300 + i])]:\n",
        "    mistake13 += 1\n",
        "    print(1300 + i)\n",
        "  else:\n",
        "    mistake13 += 0\n",
        "print(\"Number of mistakes in this class:\",mistake13)"
      ],
      "metadata": {
        "colab": {
          "base_uri": "https://localhost:8080/"
        },
        "id": "t-6dJoSlQHvl",
        "outputId": "c81d6aeb-fb17-41f1-8fa4-61f3a67b330a"
      },
      "execution_count": null,
      "outputs": [
        {
          "output_type": "stream",
          "name": "stdout",
          "text": [
            "Number of mistakes in this class: 0\n"
          ]
        }
      ]
    },
    {
      "cell_type": "code",
      "source": [
        "C_count14 = 0\n",
        "for i in range(100):\n",
        "  if prediction_known[i + 14*100,14] > ThresholdNeverSeenBefores[14] and np.argmax(prediction_known[i + 14*100]) == 14:\n",
        "    C_count14 += 1\n",
        "  else:\n",
        "    C_count14 += 0\n",
        "C_count14"
      ],
      "metadata": {
        "colab": {
          "base_uri": "https://localhost:8080/"
        },
        "id": "ulMey8s2QHy6",
        "outputId": "6ca6b26a-67fc-4006-db8b-cdddbce8cf1f"
      },
      "execution_count": null,
      "outputs": [
        {
          "output_type": "execute_result",
          "data": {
            "text/plain": [
              "95"
            ]
          },
          "metadata": {},
          "execution_count": 167
        }
      ]
    },
    {
      "cell_type": "code",
      "source": [
        "mistake14 = 0\n",
        "for i in range(100):\n",
        "  if np.argmax(prediction_known[1400 + i]) != 14 and max(prediction_known[1400 + i]) > ThresholdNeverSeenBefores[np.argmax(prediction_known[1400 + i])]:\n",
        "    mistake14 += 1\n",
        "    print(1400 + i)\n",
        "  else:\n",
        "    mistake14 += 0\n",
        "print(\"Number of mistakes in this class:\",mistake14)"
      ],
      "metadata": {
        "colab": {
          "base_uri": "https://localhost:8080/"
        },
        "id": "N3rfjenwQH37",
        "outputId": "b534fd7f-ac28-469c-ecfe-cc2788c37644"
      },
      "execution_count": null,
      "outputs": [
        {
          "output_type": "stream",
          "name": "stdout",
          "text": [
            "Number of mistakes in this class: 0\n"
          ]
        }
      ]
    },
    {
      "cell_type": "code",
      "source": [
        "mistake0 = 0\n",
        "for i in range(100):\n",
        "  if np.argmax(prediction_known[i]) != 0 and max(prediction_known[i]) > ThresholdNeverSeenBefores[np.argmax(prediction_known[i])]:\n",
        "    mistake0 += 1\n",
        "    print(i)\n",
        "  else:\n",
        "    mistake0 += 0\n",
        "\n",
        "mistake1 = 0\n",
        "for i in range(100):\n",
        "  if np.argmax(prediction_known[100 + i]) != 1 and max(prediction_known[100 + i]) > ThresholdNeverSeenBefores[np.argmax(prediction_known[100 + i])]:\n",
        "    mistake1 += 1\n",
        "    print(100 + i)\n",
        "  else:\n",
        "    mistake1 += 0\n",
        "\n",
        "mistake2 = 0\n",
        "for i in range(100):\n",
        "  if np.argmax(prediction_known[200 + i]) != 2 and max(prediction_known[200 + i]) > ThresholdNeverSeenBefores[np.argmax(prediction_known[200 + i])]:\n",
        "    mistake2 += 1\n",
        "    print(200 + i)\n",
        "  else:\n",
        "    mistake2 += 0\n",
        "\n",
        "mistake3 = 0\n",
        "for i in range(100):\n",
        "  if np.argmax(prediction_known[300 + i]) != 3 and max(prediction_known[300 + i]) > ThresholdNeverSeenBefores[np.argmax(prediction_known[300 + i])]:\n",
        "    mistake3 += 1\n",
        "    print(300 + i)\n",
        "  else:\n",
        "    mistake3 += 0\n",
        "\n",
        "mistake4 = 0\n",
        "for i in range(100):\n",
        "  if np.argmax(prediction_known[400 + i]) != 4 and max(prediction_known[400 + i]) > ThresholdNeverSeenBefores[np.argmax(prediction_known[400 + i])]:\n",
        "    mistake4 += 1\n",
        "    print(400 + i)\n",
        "  else:\n",
        "    mistake4 += 0\n",
        "\n",
        "mistake5 = 0\n",
        "for i in range(100):\n",
        "  if np.argmax(prediction_known[500 + i]) != 5 and max(prediction_known[500 + i]) > ThresholdNeverSeenBefores[np.argmax(prediction_known[500 + i])]:\n",
        "    mistake5 += 1\n",
        "    print(500 + i)\n",
        "  else:\n",
        "    mistake5 += 0\n",
        "\n",
        "mistake6 = 0\n",
        "for i in range(100):\n",
        "  if np.argmax(prediction_known[600 + i]) != 6 and max(prediction_known[600 + i]) > ThresholdNeverSeenBefores[np.argmax(prediction_known[600 + i])]:\n",
        "    mistake6 += 1\n",
        "    print(600 + i)\n",
        "  else:\n",
        "    mistake6 += 0\n",
        "\n",
        "mistake7 = 0\n",
        "for i in range(100):\n",
        "  if np.argmax(prediction_known[700 + i]) != 7 and max(prediction_known[700 + i]) > ThresholdNeverSeenBefores[np.argmax(prediction_known[700 + i])]:\n",
        "    mistake7 += 1\n",
        "    print(700 + i)\n",
        "  else:\n",
        "    mistake7 += 0\n",
        "\n",
        "mistake8 = 0\n",
        "for i in range(100):\n",
        "  if np.argmax(prediction_known[800 + i]) != 8 and max(prediction_known[800 + i]) > ThresholdNeverSeenBefores[np.argmax(prediction_known[800 + i])]:\n",
        "    mistake8 += 1\n",
        "    print(800 + i)\n",
        "  else:\n",
        "    mistake8 += 0\n",
        "\n",
        "mistake9 = 0\n",
        "for i in range(100):\n",
        "  if np.argmax(prediction_known[900 + i]) != 9 and max(prediction_known[900 + i]) > ThresholdNeverSeenBefores[np.argmax(prediction_known[900 + i])]:\n",
        "    mistake9 += 1\n",
        "    print(900 + i)\n",
        "  else:\n",
        "    mistake9 += 0\n",
        "\n",
        "mistake10 = 0\n",
        "for i in range(100):\n",
        "  if np.argmax(prediction_known[1000 + i]) != 10 and max(prediction_known[1000 + i]) > ThresholdNeverSeenBefores[np.argmax(prediction_known[1000 + i])]:\n",
        "    mistake10 += 1\n",
        "    print(1000 + i)\n",
        "  else:\n",
        "    mistake10 += 0\n",
        "\n",
        "mistake11 = 0\n",
        "for i in range(100):\n",
        "  if np.argmax(prediction_known[1100 + i]) != 11 and max(prediction_known[1100 + i]) > ThresholdNeverSeenBefores[np.argmax(prediction_known[1100 + i])]:\n",
        "    mistake11 += 1\n",
        "    print(1100 + i)\n",
        "  else:\n",
        "    mistake11 += 0\n",
        "\n",
        "mistake12 = 0\n",
        "for i in range(100):\n",
        "  if np.argmax(prediction_known[1200 + i]) != 12 and max(prediction_known[1200 + i]) > ThresholdNeverSeenBefores[np.argmax(prediction_known[1200 + i])]:\n",
        "    mistake12 += 1\n",
        "    print(1200 + i)\n",
        "  else:\n",
        "    mistake12 += 0\n",
        "\n",
        "\n",
        "mistake13 = 0\n",
        "for i in range(100):\n",
        "  if np.argmax(prediction_known[1300 + i]) != 13 and max(prediction_known[1300 + i]) > ThresholdNeverSeenBefores[np.argmax(prediction_known[1300 + i])]:\n",
        "    mistake13 += 1\n",
        "    print(1300 + i)\n",
        "  else:\n",
        "    mistake13 += 0\n",
        "\n",
        "\n",
        "mistake14 = 0\n",
        "for i in range(100):\n",
        "  if np.argmax(prediction_known[1400 + i]) != 14 and max(prediction_known[1400 + i]) > ThresholdNeverSeenBefores[np.argmax(prediction_known[1400 + i])]:\n",
        "    mistake14 += 1\n",
        "    print(1400 + i)\n",
        "  else:\n",
        "    mistake14 += 0\n",
        "\n",
        "NumberOfMistakesAfterThrAdj = [mistake0, mistake1, mistake2, mistake3, mistake4, mistake5, mistake6, mistake7,mistake8,mistake9,mistake10,mistake11,mistake12,mistake13,mistake14]\n",
        "NumberOfMistakesAfterThrAdj"
      ],
      "metadata": {
        "colab": {
          "base_uri": "https://localhost:8080/"
        },
        "id": "PFTqb2dlQH-K",
        "outputId": "1a7aac24-9e04-453b-ce14-8966e7fa01aa"
      },
      "execution_count": null,
      "outputs": [
        {
          "output_type": "execute_result",
          "data": {
            "text/plain": [
              "[0, 0, 0, 0, 0, 0, 0, 0, 0, 0, 0, 0, 0, 0, 0]"
            ]
          },
          "metadata": {},
          "execution_count": 169
        }
      ]
    },
    {
      "cell_type": "code",
      "source": [
        "C_count0 = 0\n",
        "for i in range(100):\n",
        "  if prediction_known[i,0] > ThresholdNeverSeenBefores[0] and np.argmax(prediction_known[i]) == 0:\n",
        "    C_count0 += 1\n",
        "  else:\n",
        "    C_count0 += 0\n",
        "\n",
        "C_count1 = 0\n",
        "for i in range(100):\n",
        "  if prediction_known[100 + i,1] > ThresholdNeverSeenBefores[1] and np.argmax(prediction_known[100 + i]) == 1:\n",
        "    C_count1 += 1\n",
        "  else:\n",
        "    C_count1 += 0\n",
        "\n",
        "C_count2 = 0\n",
        "for i in range(100):\n",
        "  if prediction_known[200 + i,2] > ThresholdNeverSeenBefores[2] and np.argmax(prediction_known[200 + i]) == 2:\n",
        "    C_count2 += 1\n",
        "  else:\n",
        "    C_count2 += 0\n",
        "\n",
        "C_count3 = 0\n",
        "for i in range(100):\n",
        "  if prediction_known[300 + i,3] > ThresholdNeverSeenBefores[3] and np.argmax(prediction_known[300 + i]) == 3:\n",
        "    C_count3 += 1\n",
        "  else:\n",
        "    C_count3 += 0\n",
        "\n",
        "C_count4 = 0\n",
        "for i in range(100):\n",
        "  if prediction_known[400 + i,4] > ThresholdNeverSeenBefores[4] and np.argmax(prediction_known[400 + i]) == 4:\n",
        "    C_count4 += 1\n",
        "  else:\n",
        "    C_count4 += 0\n",
        "\n",
        "C_count5 = 0\n",
        "for i in range(100):\n",
        "  if prediction_known[500 + i,5] > ThresholdNeverSeenBefores[5] and np.argmax(prediction_known[500 + i]) == 5:\n",
        "    C_count5 += 1\n",
        "  else:\n",
        "    C_count5 += 0\n",
        "\n",
        "C_count6 = 0\n",
        "for i in range(100):\n",
        "  if prediction_known[600 + i,6] > ThresholdNeverSeenBefores[6] and np.argmax(prediction_known[600 + i]) == 6:\n",
        "    C_count6 += 1\n",
        "  else:\n",
        "    C_count6 += 0\n",
        "\n",
        "C_count7 = 0\n",
        "for i in range(100):\n",
        "  if prediction_known[700 + i,7] > ThresholdNeverSeenBefores[7]  and np.argmax(prediction_known[700 + i]) == 7:\n",
        "    C_count7 += 1\n",
        "  else:\n",
        "    C_count7 += 0\n",
        "\n",
        "C_count8 = 0\n",
        "for i in range(100):\n",
        "  if prediction_known[800 + i,8] > ThresholdNeverSeenBefores[8] and np.argmax(prediction_known[800 + i]) == 8:\n",
        "    C_count8 += 1\n",
        "  else:\n",
        "    C_count8 += 0\n",
        "\n",
        "C_count9 = 0\n",
        "for i in range(100):\n",
        "  if prediction_known[900 + i,9] > ThresholdNeverSeenBefores[9] and np.argmax(prediction_known[900 + i]) == 9:\n",
        "    C_count9 += 1\n",
        "  else:\n",
        "    C_count9 += 0\n",
        "\n",
        "C_count10 = 0\n",
        "for i in range(100):\n",
        "  if prediction_known[1000 + i,10] > ThresholdNeverSeenBefores[10] and np.argmax(prediction_known[1000 + i]) == 10:\n",
        "    C_count10 += 1\n",
        "  else:\n",
        "    C_count10 += 0\n",
        "\n",
        "C_count11 = 0\n",
        "for i in range(100):\n",
        "  if prediction_known[1100 + i,11] > ThresholdNeverSeenBefores[11] and np.argmax(prediction_known[1100 + i]) == 11:\n",
        "    C_count11 += 1\n",
        "  else:\n",
        "    C_count11 += 0\n",
        "\n",
        "\n",
        "C_count12 = 0\n",
        "for i in range(100):\n",
        "  if prediction_known[1200 + i,12] > ThresholdNeverSeenBefores[12] and np.argmax(prediction_known[1200 + i]) == 12:\n",
        "    C_count12 += 1\n",
        "  else:\n",
        "    C_count12 += 0\n",
        "\n",
        "\n",
        "C_count13 = 0\n",
        "for i in range(100):\n",
        "  if prediction_known[1300 + i,13] > ThresholdNeverSeenBefores[13] and np.argmax(prediction_known[1300 + i]) == 13:\n",
        "    C_count13 += 1\n",
        "  else:\n",
        "    C_count13 += 0\n",
        "\n",
        "\n",
        "C_count14 = 0\n",
        "for i in range(100):\n",
        "  if prediction_known[1400 + i,14] > ThresholdNeverSeenBefores[14] and np.argmax(prediction_known[1400 + i]) == 14:\n",
        "    C_count14 += 1\n",
        "  else:\n",
        "    C_count14 += 0"
      ],
      "metadata": {
        "id": "jXF3VkIGQIA1"
      },
      "execution_count": null,
      "outputs": []
    },
    {
      "cell_type": "code",
      "source": [
        "FinalDistributionOver10ClassesRun1 = [[1,C_count0],[2,C_count1],[3,C_count2],[4,C_count3],[5,C_count4],[6,C_count5],[7,C_count6],[8,C_count7],[9,C_count8],[10,C_count9]]\n",
        "FinalDistributionOver10ClassesRun1"
      ],
      "metadata": {
        "colab": {
          "base_uri": "https://localhost:8080/"
        },
        "id": "9tCq14c7KIKZ",
        "outputId": "1274e77f-42c0-4282-d887-167148227695"
      },
      "execution_count": null,
      "outputs": [
        {
          "output_type": "execute_result",
          "data": {
            "text/plain": [
              "[[1, 2],\n",
              " [2, 74],\n",
              " [3, 10],\n",
              " [4, 75],\n",
              " [5, 100],\n",
              " [6, 37],\n",
              " [7, 70],\n",
              " [8, 54],\n",
              " [9, 82],\n",
              " [10, 3]]"
            ]
          },
          "metadata": {},
          "execution_count": 171
        }
      ]
    },
    {
      "cell_type": "code",
      "source": [
        "FinalDistributionOver15ClassesRun1 = [[1,C_count0],[2,C_count1],[3,C_count2],[4,C_count3],[5,C_count4],[6,C_count5],[7,C_count6],[8,C_count7],[9,C_count8],[10,C_count9],[11,C_count10],[12,C_count11],[13,C_count12],[14,C_count13],[15,C_count14]]\n",
        "FinalDistributionOver15ClassesRun1"
      ],
      "metadata": {
        "colab": {
          "base_uri": "https://localhost:8080/"
        },
        "id": "uDX1bRdiKKii",
        "outputId": "00f0bc08-be69-4b16-c539-36f0f8341606"
      },
      "execution_count": null,
      "outputs": [
        {
          "output_type": "execute_result",
          "data": {
            "text/plain": [
              "[[1, 2],\n",
              " [2, 74],\n",
              " [3, 10],\n",
              " [4, 75],\n",
              " [5, 100],\n",
              " [6, 37],\n",
              " [7, 70],\n",
              " [8, 54],\n",
              " [9, 82],\n",
              " [10, 3],\n",
              " [11, 32],\n",
              " [12, 34],\n",
              " [13, 36],\n",
              " [14, 99],\n",
              " [15, 95]]"
            ]
          },
          "metadata": {},
          "execution_count": 172
        }
      ]
    },
    {
      "cell_type": "code",
      "source": [
        "(C_count0 + C_count1 + C_count2 + C_count3 + C_count4 + C_count5 + C_count6 + C_count7 + C_count8 + C_count9)/1000"
      ],
      "metadata": {
        "colab": {
          "base_uri": "https://localhost:8080/"
        },
        "id": "X8xTrLFWLVPX",
        "outputId": "158a1324-1af1-42fe-8534-dfa4063814e6"
      },
      "execution_count": null,
      "outputs": [
        {
          "output_type": "execute_result",
          "data": {
            "text/plain": [
              "0.507"
            ]
          },
          "metadata": {},
          "execution_count": 173
        }
      ]
    },
    {
      "cell_type": "code",
      "source": [
        "(C_count0 + C_count1 + C_count2 + C_count3 + C_count4 + C_count5 + C_count6 + C_count7 + C_count8 + C_count9 + C_count10 + C_count11 + C_count12 + C_count13 + C_count14)/1500"
      ],
      "metadata": {
        "colab": {
          "base_uri": "https://localhost:8080/"
        },
        "id": "6t0rgKFRLij_",
        "outputId": "3afde98d-f74f-4529-8467-9e4631fde675"
      },
      "execution_count": null,
      "outputs": [
        {
          "output_type": "execute_result",
          "data": {
            "text/plain": [
              "0.5353333333333333"
            ]
          },
          "metadata": {},
          "execution_count": 174
        }
      ]
    },
    {
      "cell_type": "code",
      "source": [
        "import numpy as np\n",
        "\n",
        "all_datasets = [FinalDistributionOver10ClassesRun1, FinalDistributionOver10ClassesRun2, FinalDistributionOver10ClassesRun3, FinalDistributionOver10ClassesRun4]\n",
        "\n",
        "new_dataset = []\n",
        "\n",
        "for x_value in range(1, 11):\n",
        "    y_values = []\n",
        "\n",
        "    for dataset in all_datasets:\n",
        "        for data_point in dataset:\n",
        "            if data_point[0] == x_value:\n",
        "                y_values.append(data_point[1])\n",
        "\n",
        "    avg_y = np.mean(y_values)\n",
        "    std_y = np.std(y_values)\n",
        "\n",
        "    new_dataset.append([x_value, avg_y, std_y])\n",
        "\n",
        "for data_point in new_dataset:\n",
        "    print(data_point)"
      ],
      "metadata": {
        "id": "5LxQwEOhUQCd",
        "colab": {
          "base_uri": "https://localhost:8080/"
        },
        "outputId": "e2c58bfd-14d4-446f-e331-b3f74f117f04"
      },
      "execution_count": null,
      "outputs": [
        {
          "output_type": "stream",
          "name": "stdout",
          "text": [
            "[1, 3.0, 1.7320508075688772]\n",
            "[2, 71.75, 1.479019945774904]\n",
            "[3, 12.25, 2.7726341266023544]\n",
            "[4, 76.25, 1.0897247358851685]\n",
            "[5, 99.0, 0.7071067811865476]\n",
            "[6, 42.0, 4.358898943540674]\n",
            "[7, 70.75, 2.5860201081971503]\n",
            "[8, 58.75, 4.437059837324712]\n",
            "[9, 84.0, 2.449489742783178]\n",
            "[10, 3.25, 0.4330127018922193]\n"
          ]
        }
      ]
    },
    {
      "cell_type": "code",
      "source": [
        "new_dataset"
      ],
      "metadata": {
        "colab": {
          "base_uri": "https://localhost:8080/"
        },
        "id": "BiOAa6olqnym",
        "outputId": "7242b75f-bf51-47b3-b142-168bcd5d6ef3"
      },
      "execution_count": null,
      "outputs": [
        {
          "output_type": "execute_result",
          "data": {
            "text/plain": [
              "[[1, 3.0, 1.7320508075688772],\n",
              " [2, 71.75, 1.479019945774904],\n",
              " [3, 12.25, 2.7726341266023544],\n",
              " [4, 76.25, 1.0897247358851685],\n",
              " [5, 99.0, 0.7071067811865476],\n",
              " [6, 42.0, 4.358898943540674],\n",
              " [7, 70.75, 2.5860201081971503],\n",
              " [8, 58.75, 4.437059837324712],\n",
              " [9, 84.0, 2.449489742783178],\n",
              " [10, 3.25, 0.4330127018922193]]"
            ]
          },
          "metadata": {},
          "execution_count": 356
        }
      ]
    },
    {
      "cell_type": "code",
      "source": [
        "import numpy as np\n",
        "\n",
        "all_datasets = [FinalDistributionOver15ClassesRun1, FinalDistributionOver15ClassesRun2, FinalDistributionOver15ClassesRun3, FinalDistributionOver15ClassesRun4]\n",
        "\n",
        "new_dataset = []\n",
        "\n",
        "for x_value in range(1, 16):\n",
        "    y_values = []\n",
        "\n",
        "    for dataset in all_datasets:\n",
        "        for data_point in dataset:\n",
        "            if data_point[0] == x_value:\n",
        "                y_values.append(data_point[1])\n",
        "\n",
        "    avg_y = np.mean(y_values)\n",
        "    std_y = np.std(y_values)\n",
        "\n",
        "    new_dataset.append([x_value, avg_y, std_y])\n",
        "\n",
        "for data_point in new_dataset:\n",
        "    print(data_point)"
      ],
      "metadata": {
        "colab": {
          "base_uri": "https://localhost:8080/"
        },
        "id": "WihmOq4ts158",
        "outputId": "61348f3b-e04b-44bd-e6dd-134ef47e4b6a"
      },
      "execution_count": null,
      "outputs": [
        {
          "output_type": "stream",
          "name": "stdout",
          "text": [
            "[1, 3.0, 1.7320508075688772]\n",
            "[2, 71.75, 1.479019945774904]\n",
            "[3, 12.25, 2.7726341266023544]\n",
            "[4, 76.25, 1.0897247358851685]\n",
            "[5, 99.0, 0.7071067811865476]\n",
            "[6, 42.0, 4.358898943540674]\n",
            "[7, 70.75, 2.5860201081971503]\n",
            "[8, 58.75, 4.437059837324712]\n",
            "[9, 84.0, 2.449489742783178]\n",
            "[10, 3.25, 0.4330127018922193]\n",
            "[11, 37.5, 3.774917217635375]\n",
            "[12, 44.0, 6.48074069840786]\n",
            "[13, 35.0, 6.96419413859206]\n",
            "[14, 99.0, 0.0]\n",
            "[15, 95.25, 0.4330127018922193]\n"
          ]
        }
      ]
    },
    {
      "cell_type": "code",
      "source": [
        "new_dataset"
      ],
      "metadata": {
        "colab": {
          "base_uri": "https://localhost:8080/"
        },
        "id": "jH760zIIs9m-",
        "outputId": "7520cb8f-bfd3-4fcd-80ff-2742b0038fab"
      },
      "execution_count": null,
      "outputs": [
        {
          "output_type": "execute_result",
          "data": {
            "text/plain": [
              "[[1, 3.0, 1.7320508075688772],\n",
              " [2, 71.75, 1.479019945774904],\n",
              " [3, 12.25, 2.7726341266023544],\n",
              " [4, 76.25, 1.0897247358851685],\n",
              " [5, 99.0, 0.7071067811865476],\n",
              " [6, 42.0, 4.358898943540674],\n",
              " [7, 70.75, 2.5860201081971503],\n",
              " [8, 58.75, 4.437059837324712],\n",
              " [9, 84.0, 2.449489742783178],\n",
              " [10, 3.25, 0.4330127018922193],\n",
              " [11, 37.5, 3.774917217635375],\n",
              " [12, 44.0, 6.48074069840786],\n",
              " [13, 35.0, 6.96419413859206],\n",
              " [14, 99.0, 0.0],\n",
              " [15, 95.25, 0.4330127018922193]]"
            ]
          },
          "metadata": {},
          "execution_count": 358
        }
      ]
    },
    {
      "cell_type": "code",
      "source": [],
      "metadata": {
        "id": "mSuznenDo4i5"
      },
      "execution_count": null,
      "outputs": []
    },
    {
      "cell_type": "code",
      "source": [],
      "metadata": {
        "id": "JPHwYU5to4ks"
      },
      "execution_count": null,
      "outputs": []
    },
    {
      "cell_type": "code",
      "source": [],
      "metadata": {
        "id": "PnS65zUPo4md"
      },
      "execution_count": null,
      "outputs": []
    }
  ],
  "metadata": {
    "colab": {
      "provenance": [],
      "machine_shape": "hm",
      "authorship_tag": "ABX9TyMhkwdFQz6m3aR1T+RyLscq",
      "include_colab_link": true
    },
    "kernelspec": {
      "display_name": "Python 3",
      "name": "python3"
    },
    "language_info": {
      "name": "python"
    }
  },
  "nbformat": 4,
  "nbformat_minor": 0
}