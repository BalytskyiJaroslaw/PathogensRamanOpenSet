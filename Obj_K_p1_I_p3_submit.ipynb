{
  "cells": [
    {
      "cell_type": "markdown",
      "metadata": {
        "id": "view-in-github",
        "colab_type": "text"
      },
      "source": [
        "<a href=\"https://colab.research.google.com/github/BalytskyiJaroslaw/PathogensRamanOpenSet/blob/main/Obj_K_p1_I_p3_submit.ipynb\" target=\"_parent\"><img src=\"https://colab.research.google.com/assets/colab-badge.svg\" alt=\"Open In Colab\"/></a>"
      ]
    },
    {
      "cell_type": "markdown",
      "metadata": {
        "id": "aOFOyLM_v8P1"
      },
      "source": [
        "# Operating in the ***open*** world, Objectosphere, $\\mathcal{K} = p_1$, $\\mathcal{I} = p_3$"
      ]
    },
    {
      "cell_type": "code",
      "execution_count": null,
      "metadata": {
        "id": "zMZSeaB38pkm"
      },
      "outputs": [],
      "source": [
        "from __future__ import absolute_import\n",
        "from __future__ import print_function\n",
        "\n",
        "import numpy as np\n",
        "from numpy import genfromtxt\n",
        "from sklearn.utils import shuffle\n",
        "\n",
        "\n",
        "import pandas as pd\n",
        "from pandas import ExcelWriter\n",
        "from pandas import ExcelFile\n",
        "from pandas import read_csv\n",
        "\n",
        "from keras.layers import Lambda, Multiply\n",
        "\n",
        "import csv\n",
        "import pprint\n",
        "\n",
        "import tensorflow as tf\n",
        "from tensorflow import keras\n",
        "from tensorflow.keras import layers, models\n",
        "\n",
        "import keras\n",
        "#from keras.utils import to_categorical\n",
        "from pandas import read_csv\n",
        "from keras.models import Sequential\n",
        "from keras import layers\n",
        "#from keras.optimizers import SGD\n",
        "from keras import regularizers\n",
        "from keras.models import Sequential\n",
        "from keras.layers import Dense\n",
        "#from keras.optimizers import SGD\n",
        "\n",
        "from sklearn.preprocessing import LabelEncoder\n",
        "from sklearn.model_selection import train_test_split\n",
        "\n",
        "import matplotlib.pyplot as plt\n",
        "import seaborn as sns\n",
        "import random\n",
        "from pprint import pprint\n",
        "\n",
        "from sklearn.preprocessing import LabelEncoder\n",
        "import gspread\n",
        "import pandas as pd\n",
        "import pickle\n",
        "import pywt\n",
        "import matplotlib.pyplot as plt\n",
        "from tensorflow.keras import regularizers\n",
        "#from keras.utils import to_categorical\n",
        "\n",
        "from time import time\n",
        "t00 = time()\n",
        "import os\n",
        "from tensorflow.keras import layers\n",
        "from keras.layers import Input, Dense, concatenate\n",
        "from keras.models import Model\n",
        "from keras.layers import GlobalAveragePooling1D"
      ]
    },
    {
      "cell_type": "code",
      "execution_count": null,
      "metadata": {
        "id": "2ugI8BcU8u6J"
      },
      "outputs": [],
      "source": [
        "# Initialize the TPU and spread the computations across the 8 cores\n",
        "import tensorflow as tf\n",
        "resolver = tf.distribute.cluster_resolver.TPUClusterResolver(tpu='')\n",
        "tf.config.experimental_connect_to_cluster(resolver)\n",
        "# This is the TPU initialization code that has to be at the beginning.\n",
        "tf.tpu.experimental.initialize_tpu_system(resolver)\n",
        "tf.config.list_logical_devices('TPU')\n",
        "#print(\"All devices: \", tf.config.list_logical_devices('TPU'))\n",
        "\n",
        "strategy = tf.distribute.TPUStrategy(resolver)"
      ]
    },
    {
      "cell_type": "code",
      "execution_count": null,
      "metadata": {
        "colab": {
          "base_uri": "https://localhost:8080/"
        },
        "id": "Ld73dNtt8u8G",
        "outputId": "da65c86e-f3dc-459d-980a-12445b8e92bc"
      },
      "outputs": [
        {
          "output_type": "stream",
          "name": "stdout",
          "text": [
            "Mounted at /content/gdrive\n"
          ]
        }
      ],
      "source": [
        "from google.colab import drive\n",
        "\n",
        "drive.mount(\"/content/gdrive\")"
      ]
    },
    {
      "cell_type": "markdown",
      "metadata": {
        "id": "unyCL8zewWQv"
      },
      "source": [
        "# Reference dataset"
      ]
    },
    {
      "cell_type": "code",
      "execution_count": null,
      "metadata": {
        "id": "Dj4dNAmyRE0L"
      },
      "outputs": [],
      "source": [
        "# Reference data\n",
        "data_X_reference = np.load(\"/content/gdrive/MyDrive/Stanford_data/X_reference.npy\")\n",
        "# Test data\n",
        "data_X_test = np.load(\"/content/gdrive/MyDrive/Stanford_data/X_test.npy\")\n",
        "\n",
        "data_y_reference = np.load(\"/content/gdrive/MyDrive/Stanford_data/y_reference.npy\")\n",
        "# Test labels\n",
        "data_y_test = np.load(\"/content/gdrive/MyDrive/Stanford_data/y_test.npy\")\n",
        "\n",
        "data_y_reference_int = []\n",
        "\n",
        "for i in range(data_y_reference.shape[0]):\n",
        "  data_y_reference_int.append(int(data_y_reference[i]))\n",
        "\n",
        "data_y_test_int = []\n",
        "\n",
        "for i in range(data_y_test.shape[0]):\n",
        "  data_y_test_int.append(int(data_y_test[i]))\n",
        "\n",
        "train_label = tf.keras.utils.to_categorical(data_y_reference_int)\n",
        "test_label = tf.keras.utils.to_categorical(data_y_test_int)"
      ]
    },
    {
      "cell_type": "markdown",
      "metadata": {
        "id": "FnMc6rnGSdht"
      },
      "source": [
        "# $\\mathcal{K} = p_1$, reference indices, training dataset: 18000 - 26000, 34000 - 38000, 44000 - 50000,56000 - 58000. $\\mathcal{I} = p_3$, reference indices: 10000 - 14000, 26000 - 28000, 42000 - 44000, 58000 - 60000."
      ]
    },
    {
      "cell_type": "code",
      "execution_count": null,
      "metadata": {
        "colab": {
          "base_uri": "https://localhost:8080/"
        },
        "id": "O3O2yYAe8u_V",
        "outputId": "3623f391-7ce9-4a88-c0fd-6c0eb56714bf"
      },
      "outputs": [
        {
          "output_type": "stream",
          "name": "stdout",
          "text": [
            "Shape of the known and ignored data, reference: (30000, 1000)\n",
            "Shape of the known and ignored labels, reference: (30000, 11)\n"
          ]
        }
      ],
      "source": [
        "indices =[slice(18000, 26000),slice(34000, 38000),slice(44000, 50000),slice(56000, 58000),slice(10000, 14000),slice(26000, 28000),slice(42000, 44000),slice(58000, 60000)]\n",
        "\n",
        "Known_and_Ignored_data_X_reference = np.concatenate([data_X_reference[idx, :] for idx in indices], axis=0)\n",
        "\n",
        "Known_and_Ignored_data_X_train_label_int = []\n",
        "\n",
        "for i in range(2000*10):\n",
        "  Known_and_Ignored_data_X_train_label_int.append(int(data_y_reference[i]))\n",
        "\n",
        "for i in range(2000*5):\n",
        " Known_and_Ignored_data_X_train_label_int.append(int(data_y_reference[2000*10]))\n",
        "\n",
        "Known_and_Ignored_data_X_train_label = tf.keras.utils.to_categorical(Known_and_Ignored_data_X_train_label_int)\n",
        "print(\"Shape of the known and ignored data, reference:\", Known_and_Ignored_data_X_reference.shape)\n",
        "print(\"Shape of the known and ignored labels, reference:\", Known_and_Ignored_data_X_train_label.shape)"
      ]
    },
    {
      "cell_type": "markdown",
      "metadata": {
        "id": "j6hDE1gvUwoX"
      },
      "source": [
        "# $\\mathcal{K}$, known reference indices for the ***test***: 900 - 1300, 1700 - 1900, 2200 - 2500, 2800 - 2900. Ignored, ***test***: 500 - 700, 1300 - 1400, 2100 - 2200, 2900 - 3000.\n"
      ]
    },
    {
      "cell_type": "code",
      "execution_count": null,
      "metadata": {
        "colab": {
          "base_uri": "https://localhost:8080/"
        },
        "id": "tfgvb0XE8vBT",
        "outputId": "938054d3-d097-4da0-af65-f88854e93fda"
      },
      "outputs": [
        {
          "output_type": "stream",
          "name": "stdout",
          "text": [
            "Shape of the known and ignored data, reference: (1500, 1000)\n",
            "Shape of the known and ignored labels, reference: (1500, 11)\n"
          ]
        }
      ],
      "source": [
        "indices =[slice(900, 1300),slice(1700, 1900),slice(2200, 2500),slice(2800, 2900),slice(500, 700),slice(1300, 1400),slice(2100, 2200),slice(2900, 3000)]\n",
        "\n",
        "Known_and_Ignored_data_X_test = np.concatenate([data_X_test[idx, :] for idx in indices], axis=0)\n",
        "\n",
        "Known_and_Ignored_data_X_test_label_int = []\n",
        "\n",
        "for i in range(100*10):\n",
        "  Known_and_Ignored_data_X_test_label_int.append(int(data_y_test[i]))\n",
        "\n",
        "for i in range(100*5):\n",
        "  Known_and_Ignored_data_X_test_label_int.append(int(data_y_test[100*10]))\n",
        "\n",
        "Known_and_Ignored_data_X_test_label = tf.keras.utils.to_categorical(Known_and_Ignored_data_X_test_label_int)\n",
        "print(\"Shape of the known and ignored data, reference:\", Known_and_Ignored_data_X_test.shape)\n",
        "print(\"Shape of the known and ignored labels, reference:\", Known_and_Ignored_data_X_test_label.shape)"
      ]
    },
    {
      "cell_type": "markdown",
      "metadata": {
        "id": "DZ18vK-Vw0dS"
      },
      "source": [
        "# Leave only $\\mathcal{K}$ samples to test the accuracy. This is done to keep the right shape of the labels."
      ]
    },
    {
      "cell_type": "code",
      "execution_count": null,
      "metadata": {
        "colab": {
          "base_uri": "https://localhost:8080/"
        },
        "id": "JvyfQL8x8vDT",
        "outputId": "9ff6d252-da93-4527-91c9-474d2ed50947"
      },
      "outputs": [
        {
          "output_type": "stream",
          "name": "stdout",
          "text": [
            "Shape of the known and ignored data, reference: (1000, 1000)\n",
            "Shape of the known and ignored labels, reference: (1000, 11)\n"
          ]
        }
      ],
      "source": [
        "Known_data_X_test = Known_and_Ignored_data_X_test[:-100*5]\n",
        "Known_data_X_test_label = Known_and_Ignored_data_X_test_label[:-100*5]\n",
        "print(\"Shape of the known and ignored data, reference:\", Known_data_X_test.shape)\n",
        "print(\"Shape of the known and ignored labels, reference:\", Known_data_X_test_label.shape)"
      ]
    },
    {
      "cell_type": "markdown",
      "metadata": {
        "id": "I2fwBprKxC7x"
      },
      "source": [
        "# Defining the $\\mathcal{K}$ labels"
      ]
    },
    {
      "cell_type": "code",
      "execution_count": null,
      "metadata": {
        "id": "5Z8ZbbXr8vEu"
      },
      "outputs": [],
      "source": [
        "KnownLabels = []\n",
        "# 0 - 5\n",
        "KnownLabels.append(Known_and_Ignored_data_X_train_label[1 + 0*2000])\n",
        "KnownLabels.append(Known_and_Ignored_data_X_train_label[1 + 1*2000])\n",
        "KnownLabels.append(Known_and_Ignored_data_X_train_label[1 + 2*2000])\n",
        "KnownLabels.append(Known_and_Ignored_data_X_train_label[1 + 3*2000])\n",
        "KnownLabels.append(Known_and_Ignored_data_X_train_label[1 + 4*2000])\n",
        "\n",
        "# 6 - 10\n",
        "KnownLabels.append(Known_and_Ignored_data_X_train_label[1 + 5*2000])\n",
        "KnownLabels.append(Known_and_Ignored_data_X_train_label[1 + 6*2000])\n",
        "KnownLabels.append(Known_and_Ignored_data_X_train_label[1 + 7*2000])\n",
        "KnownLabels.append(Known_and_Ignored_data_X_train_label[1 + 8*2000])\n",
        "KnownLabels.append(Known_and_Ignored_data_X_train_label[1 + 9*2000])\n",
        "\n",
        "Ignored_label = Known_and_Ignored_data_X_train_label[1 + 10*2000]"
      ]
    },
    {
      "cell_type": "code",
      "execution_count": null,
      "metadata": {
        "colab": {
          "base_uri": "https://localhost:8080/"
        },
        "id": "jmTb9OT88vHK",
        "outputId": "c3b28463-b37e-40fc-a471-689b6cf137e7"
      },
      "outputs": [
        {
          "output_type": "execute_result",
          "data": {
            "text/plain": [
              "[array([1., 0., 0., 0., 0., 0., 0., 0., 0., 0., 0.], dtype=float32),\n",
              " array([0., 1., 0., 0., 0., 0., 0., 0., 0., 0., 0.], dtype=float32),\n",
              " array([0., 0., 1., 0., 0., 0., 0., 0., 0., 0., 0.], dtype=float32),\n",
              " array([0., 0., 0., 1., 0., 0., 0., 0., 0., 0., 0.], dtype=float32),\n",
              " array([0., 0., 0., 0., 1., 0., 0., 0., 0., 0., 0.], dtype=float32),\n",
              " array([0., 0., 0., 0., 0., 1., 0., 0., 0., 0., 0.], dtype=float32),\n",
              " array([0., 0., 0., 0., 0., 0., 1., 0., 0., 0., 0.], dtype=float32),\n",
              " array([0., 0., 0., 0., 0., 0., 0., 1., 0., 0., 0.], dtype=float32),\n",
              " array([0., 0., 0., 0., 0., 0., 0., 0., 1., 0., 0.], dtype=float32),\n",
              " array([0., 0., 0., 0., 0., 0., 0., 0., 0., 1., 0.], dtype=float32)]"
            ]
          },
          "metadata": {},
          "execution_count": 8
        }
      ],
      "source": [
        "KnownLabels"
      ]
    },
    {
      "cell_type": "markdown",
      "metadata": {
        "id": "efSwPk7XxKZS"
      },
      "source": [
        "# The ignored label $\\mathcal{I}$ is:"
      ]
    },
    {
      "cell_type": "code",
      "execution_count": null,
      "metadata": {
        "colab": {
          "base_uri": "https://localhost:8080/"
        },
        "id": "Ecri__MBWN5i",
        "outputId": "c3d6a465-2c02-4782-e18f-4100025c3b0f"
      },
      "outputs": [
        {
          "output_type": "execute_result",
          "data": {
            "text/plain": [
              "array([0., 0., 0., 0., 0., 0., 0., 0., 0., 0., 1.], dtype=float32)"
            ]
          },
          "metadata": {},
          "execution_count": 9
        }
      ],
      "source": [
        "Ignored_label"
      ]
    },
    {
      "cell_type": "markdown",
      "metadata": {
        "id": "Ety-KKr0WX1L"
      },
      "source": [
        "# Never seen before samples, $\\mathcal{N}$, first seen during the test: 0 - 500, 700 - 900, 1900 - 2100, 2500 - 2600."
      ]
    },
    {
      "cell_type": "code",
      "execution_count": null,
      "metadata": {
        "colab": {
          "base_uri": "https://localhost:8080/"
        },
        "id": "POJ8qGRHWN-a",
        "outputId": "fe92329d-2f0b-4e93-eb36-9fabffc6f196"
      },
      "outputs": [
        {
          "output_type": "stream",
          "name": "stdout",
          "text": [
            "Shape of the NeverSeen data, test: (1000, 1000)\n"
          ]
        }
      ],
      "source": [
        "indices = [slice(0, 500),slice(700, 900),slice(1900, 2100),slice(2500, 2600)]\n",
        "NeverSeen_data_X_test = np.concatenate([data_X_test[idx, :] for idx in indices], axis=0)\n",
        "\n",
        "print(\"Shape of the NeverSeen data, test:\", NeverSeen_data_X_test.shape)"
      ]
    },
    {
      "cell_type": "markdown",
      "metadata": {
        "id": "CNsCj3dEnUT-"
      },
      "source": [
        "# Data for finetuning"
      ]
    },
    {
      "cell_type": "code",
      "execution_count": null,
      "metadata": {
        "id": "ltz-27T0WODD"
      },
      "outputs": [],
      "source": [
        "# Finetuning\n",
        "data_X_finetune = np.load(\"/content/gdrive/MyDrive/Stanford_data/X_finetune.npy\")\n",
        "# Test data\n",
        "data_X_test = np.load(\"/content/gdrive/MyDrive/Stanford_data/X_test.npy\")\n",
        "\n",
        "data_y_finetune = np.load(\"/content/gdrive/MyDrive/Stanford_data/y_finetune.npy\")\n",
        "# Test labels\n",
        "data_y_test = np.load(\"/content/gdrive/MyDrive/Stanford_data/y_test.npy\")\n",
        "\n",
        "data_y_finetune_int = []\n",
        "\n",
        "for i in range(data_y_finetune.shape[0]):\n",
        "  data_y_finetune_int.append(int(data_y_finetune[i]))\n",
        "\n",
        "data_y_test_int = []\n",
        "\n",
        "for i in range(data_y_test.shape[0]):\n",
        "  data_y_test_int.append(int(data_y_test[i]))\n",
        "\n",
        "train_label = tf.keras.utils.to_categorical(data_y_finetune_int)\n",
        "test_label = tf.keras.utils.to_categorical(data_y_test_int)\n",
        "\n",
        "#data_X_finetune, train_label = shuffle(data_X_finetune, train_label)"
      ]
    },
    {
      "cell_type": "markdown",
      "metadata": {
        "id": "M-nHKTPjns23"
      },
      "source": [
        "\n",
        "\n",
        "Known data, $\\mathcal{K}$, for the finetuning: 900 - 1300, 1700 - 1900, 2200 - 2500, 2800 - 2900. Ignored samples, $\\mathcal{I}$, finetuning: 500 - 700, 1300 - 1400, 2100 - 2200, 2900 - 3000."
      ]
    },
    {
      "cell_type": "code",
      "execution_count": null,
      "metadata": {
        "colab": {
          "base_uri": "https://localhost:8080/"
        },
        "id": "I_rz3MyPWOFJ",
        "outputId": "132c1264-fd5f-40ab-c3f8-54e2d05beda1"
      },
      "outputs": [
        {
          "output_type": "stream",
          "name": "stdout",
          "text": [
            "Shape of the known and ignored data, finetune: (1500, 1000)\n",
            "Shape of the known and ignored labels, finetune: (1500, 11)\n"
          ]
        }
      ],
      "source": [
        "indices =[slice(900, 1300),slice(1700, 1900),slice(2200, 2500),slice(2800, 2900),slice(500, 700),slice(1300, 1400),slice(2100, 2200),slice(2900, 3000)]\n",
        "\n",
        "Known_and_Ignored_data_X_finetune = np.concatenate([data_X_finetune[idx, :] for idx in indices], axis=0)\n",
        "\n",
        "Known_and_Ignored_data_X_finetune_label_int = []\n",
        "\n",
        "for i in range(100*10):\n",
        "  Known_and_Ignored_data_X_finetune_label_int.append(int(data_y_finetune[i]))\n",
        "\n",
        "for i in range(100*5):\n",
        "  Known_and_Ignored_data_X_finetune_label_int.append(int(data_y_finetune[100*10]))\n",
        "\n",
        "Known_and_Ignored_data_X_finetune_label = tf.keras.utils.to_categorical(Known_and_Ignored_data_X_finetune_label_int)\n",
        "\n",
        "print(\"Shape of the known and ignored data, finetune:\", Known_and_Ignored_data_X_finetune.shape)\n",
        "print(\"Shape of the known and ignored labels, finetune:\", Known_and_Ignored_data_X_finetune_label.shape)"
      ]
    },
    {
      "cell_type": "markdown",
      "metadata": {
        "id": "TD7H4IVexy7m"
      },
      "source": [
        "# Uploading the libraries"
      ]
    },
    {
      "cell_type": "code",
      "execution_count": null,
      "metadata": {
        "id": "XRxb0a9tqxRv"
      },
      "outputs": [],
      "source": [
        "# Create a checkpoint directory to store the checkpoints.\n",
        "checkpoint_dir = './training_checkpoints'\n",
        "checkpoint_prefix = os.path.join(checkpoint_dir, \"ckpt\")\n",
        "\n",
        "import numpy as np\n",
        "import pandas as pd\n",
        "import seaborn as sns\n",
        "from numpy import interp\n",
        "from itertools import cycle\n",
        "import matplotlib.pyplot as plt\n",
        "from sklearn.model_selection import train_test_split\n",
        "from sklearn.preprocessing import LabelEncoder, OneHotEncoder\n",
        "#from sklearn.metrics import mean_absolute_error, accuracy_score, precision_score, recall_score, f1_score, roc_curve, plot_roc_curve\n",
        "from sklearn.metrics import confusion_matrix, classification_report, auc\n",
        "from sklearn.metrics import precision_recall_curve\n",
        "from sklearn.metrics import average_precision_score\n",
        "from keras.layers import Input, Conv1D, MaxPooling1D, UpSampling1D, concatenate, BatchNormalization, Activation, add\n",
        "from keras.layers import Conv2D, MaxPooling2D, Reshape, Flatten, Dense, GlobalAveragePooling1D, GlobalMaxPooling1D, Multiply, Conv1DTranspose, LeakyReLU, Dropout\n",
        "from keras.models import Model, model_from_json\n",
        "#from keras.optimizers import Adam\n",
        "from keras.callbacks import EarlyStopping, ModelCheckpoint\n",
        "sns.set_theme(style=\"whitegrid\")"
      ]
    },
    {
      "cell_type": "markdown",
      "metadata": {
        "id": "-hEXXg4wx2Dz"
      },
      "source": [
        "# Defining our model"
      ]
    },
    {
      "cell_type": "code",
      "execution_count": null,
      "metadata": {
        "colab": {
          "base_uri": "https://localhost:8080/"
        },
        "id": "Iq9vqf5AovvA",
        "outputId": "0183d0fc-6e64-4198-d747-64d17772a7c4"
      },
      "outputs": [
        {
          "output_type": "stream",
          "name": "stdout",
          "text": [
            "Model: \"Combined\"\n",
            "__________________________________________________________________________________________________\n",
            " Layer (type)                Output Shape                 Param #   Connected to                  \n",
            "==================================================================================================\n",
            " input_1 (InputLayer)        [(None, 1000, 1)]            0         []                            \n",
            "                                                                                                  \n",
            " zero_padding1d (ZeroPaddin  (None, 1006, 1)              0         ['input_1[0][0]']             \n",
            " g1D)                                                                                             \n",
            "                                                                                                  \n",
            " Convolution1 (Conv1D)       (None, 500, 64)              512       ['zero_padding1d[0][0]']      \n",
            "                                                                                                  \n",
            " BatchNormStage1 (BatchNorm  (None, 500, 64)              256       ['Convolution1[0][0]']        \n",
            " alization)                                                                                       \n",
            "                                                                                                  \n",
            " activation (Activation)     (None, 500, 64)              0         ['BatchNormStage1[0][0]']     \n",
            "                                                                                                  \n",
            " max_pooling1d (MaxPooling1  (None, 249, 64)              0         ['activation[0][0]']          \n",
            " D)                                                                                               \n",
            "                                                                                                  \n",
            " conv1d (Conv1D)             (None, 249, 64)              12352     ['max_pooling1d[0][0]']       \n",
            "                                                                                                  \n",
            " batch_normalization (Batch  (None, 249, 64)              256       ['conv1d[0][0]']              \n",
            " Normalization)                                                                                   \n",
            "                                                                                                  \n",
            " activation_1 (Activation)   (None, 249, 64)              0         ['batch_normalization[0][0]'] \n",
            "                                                                                                  \n",
            " conv1d_1 (Conv1D)           (None, 249, 64)              12352     ['activation_1[0][0]']        \n",
            "                                                                                                  \n",
            " batch_normalization_1 (Bat  (None, 249, 64)              256       ['conv1d_1[0][0]']            \n",
            " chNormalization)                                                                                 \n",
            "                                                                                                  \n",
            " activation_2 (Activation)   (None, 249, 64)              0         ['batch_normalization_1[0][0]'\n",
            "                                                                    ]                             \n",
            "                                                                                                  \n",
            " res2a_branch (Conv1D)       (None, 249, 256)             49408     ['activation_2[0][0]']        \n",
            "                                                                                                  \n",
            " conv1d_2 (Conv1D)           (None, 249, 256)             16640     ['max_pooling1d[0][0]']       \n",
            "                                                                                                  \n",
            " batch_normalization_2 (Bat  (None, 249, 256)             1024      ['res2a_branch[0][0]']        \n",
            " chNormalization)                                                                                 \n",
            "                                                                                                  \n",
            " batch_normalization_3 (Bat  (None, 249, 256)             1024      ['conv1d_2[0][0]']            \n",
            " chNormalization)                                                                                 \n",
            "                                                                                                  \n",
            " add (Add)                   (None, 249, 256)             0         ['batch_normalization_2[0][0]'\n",
            "                                                                    , 'batch_normalization_3[0][0]\n",
            "                                                                    ']                            \n",
            "                                                                                                  \n",
            " activation_3 (Activation)   (None, 249, 256)             0         ['add[0][0]']                 \n",
            "                                                                                                  \n",
            " conv1d_3 (Conv1D)           (None, 249, 64)              16448     ['activation_3[0][0]']        \n",
            "                                                                                                  \n",
            " batch_normalization_4 (Bat  (None, 249, 64)              256       ['conv1d_3[0][0]']            \n",
            " chNormalization)                                                                                 \n",
            "                                                                                                  \n",
            " activation_4 (Activation)   (None, 249, 64)              0         ['batch_normalization_4[0][0]'\n",
            "                                                                    ]                             \n",
            "                                                                                                  \n",
            " conv1d_4 (Conv1D)           (None, 249, 64)              12352     ['activation_4[0][0]']        \n",
            "                                                                                                  \n",
            " batch_normalization_5 (Bat  (None, 249, 64)              256       ['conv1d_4[0][0]']            \n",
            " chNormalization)                                                                                 \n",
            "                                                                                                  \n",
            " activation_5 (Activation)   (None, 249, 64)              0         ['batch_normalization_5[0][0]'\n",
            "                                                                    ]                             \n",
            "                                                                                                  \n",
            " conv1d_5 (Conv1D)           (None, 249, 256)             16640     ['activation_5[0][0]']        \n",
            "                                                                                                  \n",
            " batch_normalization_6 (Bat  (None, 249, 256)             1024      ['conv1d_5[0][0]']            \n",
            " chNormalization)                                                                                 \n",
            "                                                                                                  \n",
            " add_1 (Add)                 (None, 249, 256)             0         ['batch_normalization_6[0][0]'\n",
            "                                                                    , 'activation_3[0][0]']       \n",
            "                                                                                                  \n",
            " activation_6 (Activation)   (None, 249, 256)             0         ['add_1[0][0]']               \n",
            "                                                                                                  \n",
            " conv1d_6 (Conv1D)           (None, 125, 128)             98432     ['activation_6[0][0]']        \n",
            "                                                                                                  \n",
            " batch_normalization_7 (Bat  (None, 125, 128)             512       ['conv1d_6[0][0]']            \n",
            " chNormalization)                                                                                 \n",
            "                                                                                                  \n",
            " activation_7 (Activation)   (None, 125, 128)             0         ['batch_normalization_7[0][0]'\n",
            "                                                                    ]                             \n",
            "                                                                                                  \n",
            " conv1d_7 (Conv1D)           (None, 125, 128)             49280     ['activation_7[0][0]']        \n",
            "                                                                                                  \n",
            " batch_normalization_8 (Bat  (None, 125, 128)             512       ['conv1d_7[0][0]']            \n",
            " chNormalization)                                                                                 \n",
            "                                                                                                  \n",
            " activation_8 (Activation)   (None, 125, 128)             0         ['batch_normalization_8[0][0]'\n",
            "                                                                    ]                             \n",
            "                                                                                                  \n",
            " res3a_branch (Conv1D)       (None, 125, 512)             197120    ['activation_8[0][0]']        \n",
            "                                                                                                  \n",
            " conv1d_8 (Conv1D)           (None, 125, 512)             131584    ['activation_6[0][0]']        \n",
            "                                                                                                  \n",
            " batch_normalization_9 (Bat  (None, 125, 512)             2048      ['res3a_branch[0][0]']        \n",
            " chNormalization)                                                                                 \n",
            "                                                                                                  \n",
            " batch_normalization_10 (Ba  (None, 125, 512)             2048      ['conv1d_8[0][0]']            \n",
            " tchNormalization)                                                                                \n",
            "                                                                                                  \n",
            " add_2 (Add)                 (None, 125, 512)             0         ['batch_normalization_9[0][0]'\n",
            "                                                                    , 'batch_normalization_10[0][0\n",
            "                                                                    ]']                           \n",
            "                                                                                                  \n",
            " activation_9 (Activation)   (None, 125, 512)             0         ['add_2[0][0]']               \n",
            "                                                                                                  \n",
            " conv1d_9 (Conv1D)           (None, 125, 128)             65664     ['activation_9[0][0]']        \n",
            "                                                                                                  \n",
            " batch_normalization_11 (Ba  (None, 125, 128)             512       ['conv1d_9[0][0]']            \n",
            " tchNormalization)                                                                                \n",
            "                                                                                                  \n",
            " activation_10 (Activation)  (None, 125, 128)             0         ['batch_normalization_11[0][0]\n",
            "                                                                    ']                            \n",
            "                                                                                                  \n",
            " conv1d_10 (Conv1D)          (None, 125, 128)             49280     ['activation_10[0][0]']       \n",
            "                                                                                                  \n",
            " batch_normalization_12 (Ba  (None, 125, 128)             512       ['conv1d_10[0][0]']           \n",
            " tchNormalization)                                                                                \n",
            "                                                                                                  \n",
            " activation_11 (Activation)  (None, 125, 128)             0         ['batch_normalization_12[0][0]\n",
            "                                                                    ']                            \n",
            "                                                                                                  \n",
            " conv1d_11 (Conv1D)          (None, 125, 512)             66048     ['activation_11[0][0]']       \n",
            "                                                                                                  \n",
            " batch_normalization_13 (Ba  (None, 125, 512)             2048      ['conv1d_11[0][0]']           \n",
            " tchNormalization)                                                                                \n",
            "                                                                                                  \n",
            " add_3 (Add)                 (None, 125, 512)             0         ['batch_normalization_13[0][0]\n",
            "                                                                    ',                            \n",
            "                                                                     'activation_9[0][0]']        \n",
            "                                                                                                  \n",
            " activation_12 (Activation)  (None, 125, 512)             0         ['add_3[0][0]']               \n",
            "                                                                                                  \n",
            " conv1d_12 (Conv1D)          (None, 63, 256)              393472    ['activation_12[0][0]']       \n",
            "                                                                                                  \n",
            " batch_normalization_14 (Ba  (None, 63, 256)              1024      ['conv1d_12[0][0]']           \n",
            " tchNormalization)                                                                                \n",
            "                                                                                                  \n",
            " activation_13 (Activation)  (None, 63, 256)              0         ['batch_normalization_14[0][0]\n",
            "                                                                    ']                            \n",
            "                                                                                                  \n",
            " conv1d_13 (Conv1D)          (None, 63, 256)              196864    ['activation_13[0][0]']       \n",
            "                                                                                                  \n",
            " batch_normalization_15 (Ba  (None, 63, 256)              1024      ['conv1d_13[0][0]']           \n",
            " tchNormalization)                                                                                \n",
            "                                                                                                  \n",
            " activation_14 (Activation)  (None, 63, 256)              0         ['batch_normalization_15[0][0]\n",
            "                                                                    ']                            \n",
            "                                                                                                  \n",
            " res4a_branch (Conv1D)       (None, 63, 1024)             787456    ['activation_14[0][0]']       \n",
            "                                                                                                  \n",
            " conv1d_14 (Conv1D)          (None, 63, 1024)             525312    ['activation_12[0][0]']       \n",
            "                                                                                                  \n",
            " batch_normalization_16 (Ba  (None, 63, 1024)             4096      ['res4a_branch[0][0]']        \n",
            " tchNormalization)                                                                                \n",
            "                                                                                                  \n",
            " batch_normalization_17 (Ba  (None, 63, 1024)             4096      ['conv1d_14[0][0]']           \n",
            " tchNormalization)                                                                                \n",
            "                                                                                                  \n",
            " add_4 (Add)                 (None, 63, 1024)             0         ['batch_normalization_16[0][0]\n",
            "                                                                    ',                            \n",
            "                                                                     'batch_normalization_17[0][0]\n",
            "                                                                    ']                            \n",
            "                                                                                                  \n",
            " activation_15 (Activation)  (None, 63, 1024)             0         ['add_4[0][0]']               \n",
            "                                                                                                  \n",
            " conv1d_15 (Conv1D)          (None, 63, 256)              262400    ['activation_15[0][0]']       \n",
            "                                                                                                  \n",
            " batch_normalization_18 (Ba  (None, 63, 256)              1024      ['conv1d_15[0][0]']           \n",
            " tchNormalization)                                                                                \n",
            "                                                                                                  \n",
            " activation_16 (Activation)  (None, 63, 256)              0         ['batch_normalization_18[0][0]\n",
            "                                                                    ']                            \n",
            "                                                                                                  \n",
            " conv1d_16 (Conv1D)          (None, 63, 256)              196864    ['activation_16[0][0]']       \n",
            "                                                                                                  \n",
            " batch_normalization_19 (Ba  (None, 63, 256)              1024      ['conv1d_16[0][0]']           \n",
            " tchNormalization)                                                                                \n",
            "                                                                                                  \n",
            " activation_17 (Activation)  (None, 63, 256)              0         ['batch_normalization_19[0][0]\n",
            "                                                                    ']                            \n",
            "                                                                                                  \n",
            " conv1d_17 (Conv1D)          (None, 63, 1024)             263168    ['activation_17[0][0]']       \n",
            "                                                                                                  \n",
            " batch_normalization_20 (Ba  (None, 63, 1024)             4096      ['conv1d_17[0][0]']           \n",
            " tchNormalization)                                                                                \n",
            "                                                                                                  \n",
            " add_5 (Add)                 (None, 63, 1024)             0         ['batch_normalization_20[0][0]\n",
            "                                                                    ',                            \n",
            "                                                                     'activation_15[0][0]']       \n",
            "                                                                                                  \n",
            " activation_18 (Activation)  (None, 63, 1024)             0         ['add_5[0][0]']               \n",
            "                                                                                                  \n",
            " conv1d_18 (Conv1D)          (None, 32, 256)              786688    ['activation_18[0][0]']       \n",
            "                                                                                                  \n",
            " batch_normalization_21 (Ba  (None, 32, 256)              1024      ['conv1d_18[0][0]']           \n",
            " tchNormalization)                                                                                \n",
            "                                                                                                  \n",
            " activation_19 (Activation)  (None, 32, 256)              0         ['batch_normalization_21[0][0]\n",
            "                                                                    ']                            \n",
            "                                                                                                  \n",
            " conv1d_19 (Conv1D)          (None, 32, 256)              196864    ['activation_19[0][0]']       \n",
            "                                                                                                  \n",
            " batch_normalization_22 (Ba  (None, 32, 256)              1024      ['conv1d_19[0][0]']           \n",
            " tchNormalization)                                                                                \n",
            "                                                                                                  \n",
            " activation_20 (Activation)  (None, 32, 256)              0         ['batch_normalization_22[0][0]\n",
            "                                                                    ']                            \n",
            "                                                                                                  \n",
            " res5a_branch (Conv1D)       (None, 32, 2048)             1574912   ['activation_20[0][0]']       \n",
            "                                                                                                  \n",
            " conv1d_20 (Conv1D)          (None, 32, 2048)             2099200   ['activation_18[0][0]']       \n",
            "                                                                                                  \n",
            " batch_normalization_23 (Ba  (None, 32, 2048)             8192      ['res5a_branch[0][0]']        \n",
            " tchNormalization)                                                                                \n",
            "                                                                                                  \n",
            " batch_normalization_24 (Ba  (None, 32, 2048)             8192      ['conv1d_20[0][0]']           \n",
            " tchNormalization)                                                                                \n",
            "                                                                                                  \n",
            " add_6 (Add)                 (None, 32, 2048)             0         ['batch_normalization_23[0][0]\n",
            "                                                                    ',                            \n",
            "                                                                     'batch_normalization_24[0][0]\n",
            "                                                                    ']                            \n",
            "                                                                                                  \n",
            " activation_21 (Activation)  (None, 32, 2048)             0         ['add_6[0][0]']               \n",
            "                                                                                                  \n",
            " conv1d_21 (Conv1D)          (None, 32, 256)              524544    ['activation_21[0][0]']       \n",
            "                                                                                                  \n",
            " batch_normalization_25 (Ba  (None, 32, 256)              1024      ['conv1d_21[0][0]']           \n",
            " tchNormalization)                                                                                \n",
            "                                                                                                  \n",
            " activation_22 (Activation)  (None, 32, 256)              0         ['batch_normalization_25[0][0]\n",
            "                                                                    ']                            \n",
            "                                                                                                  \n",
            " conv1d_22 (Conv1D)          (None, 32, 256)              196864    ['activation_22[0][0]']       \n",
            "                                                                                                  \n",
            " batch_normalization_26 (Ba  (None, 32, 256)              1024      ['conv1d_22[0][0]']           \n",
            " tchNormalization)                                                                                \n",
            "                                                                                                  \n",
            " activation_23 (Activation)  (None, 32, 256)              0         ['batch_normalization_26[0][0]\n",
            "                                                                    ']                            \n",
            "                                                                                                  \n",
            " conv1d_23 (Conv1D)          (None, 32, 2048)             526336    ['activation_23[0][0]']       \n",
            "                                                                                                  \n",
            " batch_normalization_27 (Ba  (None, 32, 2048)             8192      ['conv1d_23[0][0]']           \n",
            " tchNormalization)                                                                                \n",
            "                                                                                                  \n",
            " add_7 (Add)                 (None, 32, 2048)             0         ['batch_normalization_27[0][0]\n",
            "                                                                    ',                            \n",
            "                                                                     'activation_21[0][0]']       \n",
            "                                                                                                  \n",
            " activation_24 (Activation)  (None, 32, 2048)             0         ['add_7[0][0]']               \n",
            "                                                                                                  \n",
            " global_average_pooling1d (  (None, 2048)                 0         ['activation_24[0][0]']       \n",
            " GlobalAveragePooling1D)                                                                          \n",
            "                                                                                                  \n",
            " reshape (Reshape)           (None, 1, 2048)              0         ['global_average_pooling1d[0][\n",
            "                                                                    0]']                          \n",
            "                                                                                                  \n",
            " dense (Dense)               (None, 1, 128)               262272    ['reshape[0][0]']             \n",
            "                                                                                                  \n",
            " dense_1 (Dense)             (None, 1, 2048)              264192    ['dense[0][0]']               \n",
            "                                                                                                  \n",
            " multiply (Multiply)         (None, 32, 2048)             0         ['activation_24[0][0]',       \n",
            "                                                                     'dense_1[0][0]']             \n",
            "                                                                                                  \n",
            " conv1d_transpose (Conv1DTr  (None, 64, 64)               393280    ['multiply[0][0]']            \n",
            " anspose)                                                                                         \n",
            "                                                                                                  \n",
            " batch_normalization_28 (Ba  (None, 64, 64)               256       ['conv1d_transpose[0][0]']    \n",
            " tchNormalization)                                                                                \n",
            "                                                                                                  \n",
            " leaky_re_lu (LeakyReLU)     (None, 64, 64)               0         ['batch_normalization_28[0][0]\n",
            "                                                                    ']                            \n",
            "                                                                                                  \n",
            " flatten (Flatten)           (None, 4096)                 0         ['leaky_re_lu[0][0]']         \n",
            "                                                                                                  \n",
            " dropout (Dropout)           (None, 4096)                 0         ['flatten[0][0]']             \n",
            "                                                                                                  \n",
            " dense_2 (Dense)             (None, 64)                   262144    ['dropout[0][0]']             \n",
            "                                                                                                  \n",
            " dense_3 (Dense)             (None, 11)                   715       ['dense_2[0][0]']             \n",
            "                                                                                                  \n",
            "==================================================================================================\n",
            "Total params: 10565515 (40.30 MB)\n",
            "Trainable params: 10507787 (40.08 MB)\n",
            "Non-trainable params: 57728 (225.50 KB)\n",
            "__________________________________________________________________________________________________\n"
          ]
        }
      ],
      "source": [
        "# Constants\n",
        "NoF = 64  # Number of filters in the first convolutional layer\n",
        "SE_RATIO = 16  # Squeeze-and-Excitation ratio\n",
        "\n",
        "initializer = tf.keras.initializers.GlorotUniform(seed=0)\n",
        "initializer2 = tf.keras.initializers.HeUniform(seed=0)\n",
        "\n",
        "def squeeze_excitation_block(X, ratio=16):\n",
        "    num_channels = X.shape[-1]\n",
        "    se = tf.keras.layers.GlobalAveragePooling1D()(X)\n",
        "    se = tf.keras.layers.Reshape((1, num_channels))(se)\n",
        "    se = tf.keras.layers.Dense(num_channels // ratio, activation='relu', kernel_initializer=initializer)(se)\n",
        "    se = tf.keras.layers.Dense(num_channels, activation='sigmoid', kernel_initializer=initializer)(se)\n",
        "    return tf.keras.layers.Multiply()([X, se])\n",
        "\n",
        "\n",
        "from tensorflow.keras.layers import Conv1D, BatchNormalization, Activation, Add\n",
        "from tensorflow.keras import models, layers\n",
        "from tensorflow.keras import regularizers\n",
        "\n",
        "initializer = tf.keras.initializers.GlorotUniform(seed=0)\n",
        "initializer2 = tf.keras.initializers.HeUniform(seed=0)\n",
        "Stride=1\n",
        "\n",
        "def identity_block(X, f, filters, stage, block):\n",
        "\n",
        "  #defining name basis\n",
        "  ConvNameBase = 'res' + str(stage) + block + '_branch'\n",
        "  BatchNormBase = 'bn' + str(stage) + block + '_branch'\n",
        "\n",
        "  #retrieve filters\n",
        "  F1,F2,F3 = filters\n",
        "\n",
        "  #save the input value. You'll need this later to add back the main path\n",
        "  x_shortcut = X\n",
        "\n",
        "  ### First component of the main path ###\n",
        "  X = tf.keras.layers.Conv1D(filters=F1, kernel_size=1, strides=Stride, padding='same',\n",
        "             kernel_initializer=initializer#, name=ConvNameBase\n",
        "             )(X)\n",
        "  X = tf.keras.layers.BatchNormalization(axis=2, momentum=0.99, trainable=False,\n",
        "                         )(X)\n",
        "  X = tf.keras.layers.Activation('relu')(X)\n",
        "\n",
        "  ### Second component of main path ###\n",
        "  X = tf.keras.layers.Conv1D(filters=F2, kernel_size=f, strides=Stride, padding='same',\n",
        "             kernel_initializer=initializer, #name=ConvNameBase\n",
        "             )(X)\n",
        "  X = tf.keras.layers.BatchNormalization(axis=2, momentum=0.99, trainable=False,\n",
        "                         )(X)\n",
        "  X = tf.keras.layers.Activation('relu')(X)\n",
        "\n",
        "  #Third Component of main path\n",
        "  X = tf.keras.layers.Conv1D(filters=F3, kernel_size=1, strides=Stride, padding='same',\n",
        "             kernel_initializer=initializer#,name=ConvNameBase\n",
        "             )(X)\n",
        "  X = tf.keras.layers.BatchNormalization(axis=2, momentum=0.99, trainable=False,\n",
        "                         )(X)\n",
        "\n",
        "  #Final step: add shortcut to the main path, and pass it through ReLU activation\n",
        "  X = tf.keras.layers.Add()([X, x_shortcut])\n",
        "  X = tf.keras.layers.Activation('relu')(X)\n",
        "\n",
        "  return X\n",
        "\n",
        "def convolutional_block(X, f, filters, stage, block, s=2):\n",
        "\n",
        "  #Defining name bases\n",
        "  ConvNameBase = 'res' + str(stage) + block + '_branch'\n",
        "  BatchNormBase = 'res' + str(stage) + block + '_branch'\n",
        "\n",
        "  #retrive n_filters\n",
        "  F1, F2, F3 = filters\n",
        "\n",
        "  #Save the input value\n",
        "  x_shortcut = X\n",
        "\n",
        "  #First component of the main path\n",
        "  X = tf.keras.layers.Conv1D(F1, strides=s, kernel_size=f, kernel_initializer=initializer,\n",
        "             padding='same'#, name=ConvNameBase\n",
        "             )(X)\n",
        "  X = tf.keras.layers.BatchNormalization(axis=2, momentum=0.99, trainable=False,\n",
        "                         )(X)\n",
        "  X = tf.keras.layers.Activation('relu')(X)\n",
        "\n",
        "  #Second Component of main path\n",
        "  X = tf.keras.layers.Conv1D(filters=F2, kernel_size=f, strides=Stride, padding='same',\n",
        "             kernel_initializer=initializer#, name=ConvNameBase\n",
        "             )(X)\n",
        "  X = tf.keras.layers.BatchNormalization(axis=2, momentum=0.99, trainable=False,\n",
        "                         )(X)\n",
        "  X = tf.keras.layers.Activation('relu')(X)\n",
        "\n",
        "  #Third component of main path\n",
        "  X = tf.keras.layers.Conv1D(filters=F3, kernel_size=f, strides=Stride, padding='same',\n",
        "             kernel_initializer=initializer, name=ConvNameBase)(X)\n",
        "  X = tf.keras.layers.BatchNormalization(axis=2, momentum=0.99, trainable=False,\n",
        "  )(X)\n",
        "\n",
        "  ###### SHORTCUT PATH ######\n",
        "  x_shortcut = tf.keras.layers.Conv1D(filters = F3, kernel_size=1, strides=s,\n",
        "                      padding='same', #name=ConvNameBase,\n",
        "                      kernel_initializer=initializer)(x_shortcut)\n",
        "  x_shortcut = tf.keras.layers.BatchNormalization(axis=2, momentum=0.99, trainable=False,\n",
        "                                  )(x_shortcut)\n",
        "\n",
        "  #Add shortcut to main path and pass in through ReLU activation\n",
        "  X = tf.keras.layers.Add()([X, x_shortcut])\n",
        "  X = tf.keras.layers.Activation('relu')(X)\n",
        "\n",
        "  return X\n",
        "\n",
        "def create_model():\n",
        "    input_shape = (1000, 1)\n",
        "    nb_classes = 10 + 1\n",
        "\n",
        "    x_input = tf.keras.layers.Input(input_shape)\n",
        "    X = tf.keras.layers.ZeroPadding1D(padding=3)(x_input)\n",
        "\n",
        "    X = tf.keras.layers.Conv1D(NoF, kernel_size=7, strides=2, name='Convolution1',\n",
        "                               kernel_initializer=initializer)(X)\n",
        "    X = tf.keras.layers.BatchNormalization(name=\"BatchNormStage1\")(X)\n",
        "    X = tf.keras.layers.Activation('relu')(X)\n",
        "    X = tf.keras.layers.MaxPooling1D(3, strides=2)(X)\n",
        "\n",
        "    X = convolutional_block(X, f=3, filters=[NoF, NoF, NoF * 4], stage=2, block='a', s=1)\n",
        "    X = identity_block(X, 3, [NoF, NoF, NoF * 4], stage=2, block='b')\n",
        "\n",
        "    X = convolutional_block(X, f=3, filters=[NoF * 2, NoF * 2, NoF * 8], stage=3, block='a')\n",
        "    X = identity_block(X, 3, [NoF * 2, NoF * 2, NoF * 8], stage=3, block='b')\n",
        "\n",
        "    X = convolutional_block(X, f=3, filters=[NoF * 4, NoF * 4, NoF * 16], stage=4, block='a')\n",
        "    X = identity_block(X, 3, [NoF * 4, NoF * 4, NoF * 16], stage=4, block='b')\n",
        "\n",
        "    X = convolutional_block(X, f=3, filters=[NoF * 4, NoF * 4, NoF * 32], stage=5, block='a')\n",
        "    X = identity_block(X, f=3, filters=[NoF * 4, NoF * 4, NoF * 32], stage=5, block='b')\n",
        "\n",
        "    # Applying SE mechanism before transposed convolutional layers\n",
        "    X = squeeze_excitation_block(X)\n",
        "\n",
        "    # Adding transposed convolutional layers\n",
        "    X = Conv1DTranspose(filters=NoF, kernel_size=3, strides=2, padding='same', kernel_initializer=initializer)(X)\n",
        "    X = tf.keras.layers.BatchNormalization(axis=2, momentum=0.99, trainable=False,)(X)\n",
        "    X = LeakyReLU(alpha=0.2)(X)\n",
        "\n",
        "    X = Flatten()(X)\n",
        "\n",
        "    # Adding dropout regularization\n",
        "    X = Dropout(0.5)(X)\n",
        "\n",
        "    F = tf.keras.layers.Dense(64, activation='relu',kernel_regularizer=regularizers.l1_l2(l1=1e-5, l2=1e-4),use_bias=None,activity_regularizer=regularizers.l2(1e-5))(X)\n",
        "\n",
        "    Y = tf.keras.layers.Dense(nb_classes, activation='softmax',kernel_regularizer=regularizers.l1_l2(l1=1e-5, l2=1e-4),bias_regularizer=regularizers.l2(1e-4),activity_regularizer=regularizers.l2(1e-5))(F)\n",
        "\n",
        "    res_net = tf.keras.Model(inputs = x_input, outputs = [Y,F], name='Combined')\n",
        "\n",
        "    return res_net\n",
        "\n",
        "model = create_model()\n",
        "model.summary()"
      ]
    },
    {
      "cell_type": "code",
      "execution_count": null,
      "metadata": {
        "id": "bsxZ9lK2ovxM"
      },
      "outputs": [],
      "source": [
        "with strategy.scope():\n",
        "\n",
        "  # By N_classes, I mean classes of interest.\n",
        "  N_classes = 10\n",
        "\n",
        "  # Additional contribution\n",
        "\n",
        "  def additional(target,output):\n",
        "\n",
        "    Checker = tf.math.reduce_sum(tf.math.multiply(Ignored_label, target),axis=-1)\n",
        "    Try = tf.math.square(output)\n",
        "    Try = tf.math.reduce_sum(Try,axis=-1,keepdims=True)\n",
        "\n",
        "    Try = tf.math.multiply(Checker,Try)\n",
        "\n",
        "    return Try\n",
        "\n",
        "  def Open_set_categorical_crossentropy_trial_total(target,output):\n",
        "    def Open_set_categorical_crossentropy_trial_first(target,output):\n",
        "      output = tf.convert_to_tensor(output)\n",
        "      target = tf.cast(target, target.dtype)\n",
        "\n",
        "      epsilon = tf.keras.backend.epsilon()\n",
        "      output = tf.clip_by_value(output, epsilon, 1. - epsilon)\n",
        "\n",
        "      Sum = tf.math.reduce_sum(output,axis=-1,keepdims=True)\n",
        "\n",
        "      output = tf.math.divide(output, Sum)\n",
        "\n",
        "      Checker = tf.math.reduce_sum(tf.math.multiply(Ignored_label, target),axis=-1)\n",
        "      One = tf.math.reduce_sum(tf.math.multiply(Ignored_label, Ignored_label),axis=-1)\n",
        "\n",
        "      output = - tf.math.reduce_sum(tf.math.multiply(target,tf.math.log(output)),axis=-1)\n",
        "      output = tf.math.multiply(tf.math.subtract(One,Checker),output)\n",
        "\n",
        "      return output\n",
        "\n",
        "    def Open_set_categorical_crossentropy_trial_second(target,output):\n",
        "      output = tf.convert_to_tensor(output)\n",
        "      target = tf.cast(target, target.dtype)\n",
        "\n",
        "      epsilon = tf.keras.backend.epsilon()\n",
        "      output = tf.clip_by_value(output, epsilon, 1. - epsilon)\n",
        "\n",
        "      Sum = tf.math.reduce_sum(output,axis=-1,keepdims=True)\n",
        "\n",
        "      output = tf.math.divide(output, Sum)\n",
        "\n",
        "      Checker = tf.math.reduce_sum(tf.math.multiply(Ignored_label, target),axis=-1)\n",
        "      One = tf.math.reduce_sum(tf.math.multiply(Ignored_label, Ignored_label),axis=-1)\n",
        "      Zero = tf.math.reduce_sum(tf.math.multiply(KnownLabels[1], KnownLabels[2]),axis=-1)\n",
        "\n",
        "      for i in range(N_classes):\n",
        "        addon = - tf.math.reduce_sum(tf.math.multiply(KnownLabels[i], tf.math.log(output)),axis=-1)\n",
        "        addon = tf.math.divide(addon,N_classes)\n",
        "        Zero = tf.math.add(addon,Zero)\n",
        "      Zero = tf.math.multiply(Checker, Zero)\n",
        "\n",
        "      return Zero\n",
        "\n",
        "    output1 = Open_set_categorical_crossentropy_trial_first(target,output)\n",
        "    output2 = Open_set_categorical_crossentropy_trial_second(target,output)\n",
        "    output3 = Open_set_categorical_crossentropy_trial_second(target,output)\n",
        "\n",
        "    output = tf.math.add(output1,output2)\n",
        "    output = tf.math.add(output,output3)\n",
        "\n",
        "    return output\n",
        "\n",
        "  res_net = create_model()\n",
        "\n",
        "  optimizer = tf.keras.optimizers.Adam(learning_rate=.00001)\n",
        "\n",
        "  checkpoint = tf.train.Checkpoint(optimizer=optimizer, model=res_net)\n",
        "\n",
        "  callbacks = [EarlyStopping(monitor='val_loss', patience=20, mode='min'), ModelCheckpoint('/content/gdrive/MyDrive/Stanford_data/01_Obj_K_p1_I_p3_sameAS.h5', verbose=1, monitor='val_loss', save_best_only=True, mode='min')]\n",
        "  res_net.compile(loss=[Open_set_categorical_crossentropy_trial_total, additional],loss_weights=[1., 0.0000000000000001],optimizer=tf.keras.optimizers.Adam(learning_rate=.00001),metrics=None)\n",
        "\n",
        "  Known_and_Ignored_data_X_reference, Known_and_Ignored_data_X_train_label = shuffle(Known_and_Ignored_data_X_reference,Known_and_Ignored_data_X_train_label)\n",
        "\n",
        "  history = res_net.fit(Known_and_Ignored_data_X_reference, Known_and_Ignored_data_X_train_label, epochs=500, batch_size=32, verbose=1, validation_split=0.2, shuffle=True, callbacks=callbacks)"
      ]
    },
    {
      "cell_type": "code",
      "execution_count": null,
      "metadata": {
        "colab": {
          "base_uri": "https://localhost:8080/"
        },
        "id": "z5qnZJwwWOM1",
        "outputId": "fe8debb5-d647-42be-e154-b4d9f0fa4ac2"
      },
      "outputs": [
        {
          "name": "stdout",
          "output_type": "stream",
          "text": [
            "32/32 [==============================] - 5s 113ms/step\n",
            "Accuracy on the knowns, Run #1 0.53\n",
            "32/32 [==============================] - 5s 113ms/step\n",
            "Accuracy on the knowns, Run #2 0.581\n",
            "32/32 [==============================] - 4s 111ms/step\n",
            "Accuracy on the knowns, Run #3 0.573\n",
            "32/32 [==============================] - 5s 112ms/step\n",
            "Accuracy on the knowns, Run #4 0.568\n",
            "32/32 [==============================] - 4s 112ms/step\n",
            "Accuracy on the knowns, Run #5 0.589\n",
            "32/32 [==============================] - 4s 108ms/step\n",
            "Accuracy on the knowns, Run #6 0.602\n",
            "32/32 [==============================] - 5s 111ms/step\n",
            "Accuracy on the knowns, Run #7 0.57\n",
            "32/32 [==============================] - 4s 112ms/step\n",
            "Accuracy on the knowns, Run #8 0.578\n",
            "32/32 [==============================] - 4s 114ms/step\n",
            "Accuracy on the knowns, Run #9 0.569\n",
            "32/32 [==============================] - 5s 115ms/step\n",
            "Accuracy on the knowns, Run #10 0.571\n",
            "32/32 [==============================] - 4s 112ms/step\n",
            "Accuracy on the knowns, Run #11 0.563\n",
            "32/32 [==============================] - 4s 112ms/step\n",
            "Accuracy on the knowns, Run #12 0.559\n",
            "32/32 [==============================] - 5s 112ms/step\n",
            "Accuracy on the knowns, Run #13 0.604\n",
            "32/32 [==============================] - 4s 113ms/step\n",
            "Accuracy on the knowns, Run #14 0.585\n",
            "32/32 [==============================] - 4s 107ms/step\n",
            "Accuracy on the knowns, Run #15 0.563\n",
            "32/32 [==============================] - 5s 123ms/step\n",
            "Accuracy on the knowns, Run #16 0.606\n",
            "32/32 [==============================] - 5s 114ms/step\n",
            "Accuracy on the knowns, Run #17 0.58\n",
            "32/32 [==============================] - 5s 114ms/step\n",
            "Accuracy on the knowns, Run #18 0.592\n",
            "32/32 [==============================] - 4s 116ms/step\n",
            "Accuracy on the knowns, Run #19 0.579\n",
            "32/32 [==============================] - 4s 114ms/step\n",
            "Accuracy on the knowns, Run #20 0.555\n"
          ]
        }
      ],
      "source": [
        "res_net = create_model()\n",
        "res_net.load_weights(\"/content/gdrive/MyDrive/Stanford_data/01_Obj_K_p1_I_p3_sameAS.h5\")\n",
        "prediction_known = res_net.predict(Known_data_X_test)\n",
        "\n",
        "true = 0\n",
        "for i in range(Known_data_X_test_label.shape[0]):\n",
        "  if prediction_known[0].argmax(axis=1)[i] == np.argmax(Known_data_X_test_label[i]):\n",
        "    true += 1\n",
        "print(\"Accuracy on the knowns, Run #1\", true/(Known_data_X_test_label.shape[0]))\n",
        "\n",
        "res_net = create_model()\n",
        "res_net.load_weights(\"/content/gdrive/MyDrive/Stanford_data/02_Obj_K_p1_I_p3_sameAS.h5\")\n",
        "prediction_known = res_net.predict(Known_data_X_test)\n",
        "\n",
        "true = 0\n",
        "for i in range(Known_data_X_test_label.shape[0]):\n",
        "  if prediction_known[0].argmax(axis=1)[i] == np.argmax(Known_data_X_test_label[i]):\n",
        "    true += 1\n",
        "print(\"Accuracy on the knowns, Run #2\", true/(Known_data_X_test_label.shape[0]))\n",
        "\n",
        "res_net = create_model()\n",
        "res_net.load_weights(\"/content/gdrive/MyDrive/Stanford_data/03_Obj_K_p1_I_p3_sameAS.h5\")\n",
        "prediction_known = res_net.predict(Known_data_X_test)\n",
        "\n",
        "true = 0\n",
        "for i in range(Known_data_X_test_label.shape[0]):\n",
        "  if prediction_known[0].argmax(axis=1)[i] == np.argmax(Known_data_X_test_label[i]):\n",
        "    true += 1\n",
        "print(\"Accuracy on the knowns, Run #3\", true/(Known_data_X_test_label.shape[0]))\n",
        "\n",
        "res_net = create_model()\n",
        "res_net.load_weights(\"/content/gdrive/MyDrive/Stanford_data/04_Obj_K_p1_I_p3_sameAS.h5\")\n",
        "prediction_known = res_net.predict(Known_data_X_test)\n",
        "\n",
        "true = 0\n",
        "for i in range(Known_data_X_test_label.shape[0]):\n",
        "  if prediction_known[0].argmax(axis=1)[i] == np.argmax(Known_data_X_test_label[i]):\n",
        "    true += 1\n",
        "print(\"Accuracy on the knowns, Run #4\", true/(Known_data_X_test_label.shape[0]))\n",
        "\n",
        "res_net = create_model()\n",
        "res_net.load_weights(\"/content/gdrive/MyDrive/Stanford_data/05_Obj_K_p1_I_p3_sameAS.h5\")\n",
        "prediction_known = res_net.predict(Known_data_X_test)\n",
        "\n",
        "true = 0\n",
        "for i in range(Known_data_X_test_label.shape[0]):\n",
        "  if prediction_known[0].argmax(axis=1)[i] == np.argmax(Known_data_X_test_label[i]):\n",
        "    true += 1\n",
        "print(\"Accuracy on the knowns, Run #5\", true/(Known_data_X_test_label.shape[0]))\n",
        "\n",
        "res_net = create_model()\n",
        "res_net.load_weights(\"/content/gdrive/MyDrive/Stanford_data/06_Obj_K_p1_I_p3_sameAS.h5\")\n",
        "prediction_known = res_net.predict(Known_data_X_test)\n",
        "\n",
        "true = 0\n",
        "for i in range(Known_data_X_test_label.shape[0]):\n",
        "  if prediction_known[0].argmax(axis=1)[i] == np.argmax(Known_data_X_test_label[i]):\n",
        "    true += 1\n",
        "print(\"Accuracy on the knowns, Run #6\", true/(Known_data_X_test_label.shape[0]))\n",
        "\n",
        "res_net = create_model()\n",
        "res_net.load_weights(\"/content/gdrive/MyDrive/Stanford_data/07_Obj_K_p1_I_p3_sameAS.h5\")\n",
        "prediction_known = res_net.predict(Known_data_X_test)\n",
        "\n",
        "true = 0\n",
        "for i in range(Known_data_X_test_label.shape[0]):\n",
        "  if prediction_known[0].argmax(axis=1)[i] == np.argmax(Known_data_X_test_label[i]):\n",
        "    true += 1\n",
        "print(\"Accuracy on the knowns, Run #7\", true/(Known_data_X_test_label.shape[0]))\n",
        "\n",
        "res_net = create_model()\n",
        "res_net.load_weights(\"/content/gdrive/MyDrive/Stanford_data/08_Obj_K_p1_I_p3_sameAS.h5\")\n",
        "prediction_known = res_net.predict(Known_data_X_test)\n",
        "\n",
        "true = 0\n",
        "for i in range(Known_data_X_test_label.shape[0]):\n",
        "  if prediction_known[0].argmax(axis=1)[i] == np.argmax(Known_data_X_test_label[i]):\n",
        "    true += 1\n",
        "print(\"Accuracy on the knowns, Run #8\", true/(Known_data_X_test_label.shape[0]))\n",
        "\n",
        "res_net = create_model()\n",
        "res_net.load_weights(\"/content/gdrive/MyDrive/Stanford_data/09_Obj_K_p1_I_p3_sameAS.h5\")\n",
        "prediction_known = res_net.predict(Known_data_X_test)\n",
        "\n",
        "true = 0\n",
        "for i in range(Known_data_X_test_label.shape[0]):\n",
        "  if prediction_known[0].argmax(axis=1)[i] == np.argmax(Known_data_X_test_label[i]):\n",
        "    true += 1\n",
        "print(\"Accuracy on the knowns, Run #9\", true/(Known_data_X_test_label.shape[0]))\n",
        "\n",
        "res_net = create_model()\n",
        "res_net.load_weights(\"/content/gdrive/MyDrive/Stanford_data/10_Obj_K_p1_I_p3_sameAS.h5\")\n",
        "prediction_known = res_net.predict(Known_data_X_test)\n",
        "\n",
        "true = 0\n",
        "for i in range(Known_data_X_test_label.shape[0]):\n",
        "  if prediction_known[0].argmax(axis=1)[i] == np.argmax(Known_data_X_test_label[i]):\n",
        "    true += 1\n",
        "print(\"Accuracy on the knowns, Run #10\", true/(Known_data_X_test_label.shape[0]))\n",
        "\n",
        "res_net = create_model()\n",
        "res_net.load_weights(\"/content/gdrive/MyDrive/Stanford_data/11_Obj_K_p1_I_p3_sameAS.h5\")\n",
        "prediction_known = res_net.predict(Known_data_X_test)\n",
        "\n",
        "true = 0\n",
        "for i in range(Known_data_X_test_label.shape[0]):\n",
        "  if prediction_known[0].argmax(axis=1)[i] == np.argmax(Known_data_X_test_label[i]):\n",
        "    true += 1\n",
        "print(\"Accuracy on the knowns, Run #11\", true/(Known_data_X_test_label.shape[0]))\n",
        "\n",
        "res_net = create_model()\n",
        "res_net.load_weights(\"/content/gdrive/MyDrive/Stanford_data/12_Obj_K_p1_I_p3_sameAS.h5\")\n",
        "prediction_known = res_net.predict(Known_data_X_test)\n",
        "\n",
        "true = 0\n",
        "for i in range(Known_data_X_test_label.shape[0]):\n",
        "  if prediction_known[0].argmax(axis=1)[i] == np.argmax(Known_data_X_test_label[i]):\n",
        "    true += 1\n",
        "print(\"Accuracy on the knowns, Run #12\", true/(Known_data_X_test_label.shape[0]))\n",
        "\n",
        "res_net = create_model()\n",
        "res_net.load_weights(\"/content/gdrive/MyDrive/Stanford_data/13_Obj_K_p1_I_p3_sameAS.h5\")\n",
        "prediction_known = res_net.predict(Known_data_X_test)\n",
        "\n",
        "true = 0\n",
        "for i in range(Known_data_X_test_label.shape[0]):\n",
        "  if prediction_known[0].argmax(axis=1)[i] == np.argmax(Known_data_X_test_label[i]):\n",
        "    true += 1\n",
        "print(\"Accuracy on the knowns, Run #13\", true/(Known_data_X_test_label.shape[0]))\n",
        "\n",
        "res_net = create_model()\n",
        "res_net.load_weights(\"/content/gdrive/MyDrive/Stanford_data/14_Obj_K_p1_I_p3_sameAS.h5\")\n",
        "prediction_known = res_net.predict(Known_data_X_test)\n",
        "\n",
        "true = 0\n",
        "for i in range(Known_data_X_test_label.shape[0]):\n",
        "  if prediction_known[0].argmax(axis=1)[i] == np.argmax(Known_data_X_test_label[i]):\n",
        "    true += 1\n",
        "print(\"Accuracy on the knowns, Run #14\", true/(Known_data_X_test_label.shape[0]))\n",
        "\n",
        "res_net = create_model()\n",
        "res_net.load_weights(\"/content/gdrive/MyDrive/Stanford_data/15_Obj_K_p1_I_p3_sameAS.h5\")\n",
        "prediction_known = res_net.predict(Known_data_X_test)\n",
        "\n",
        "true = 0\n",
        "for i in range(Known_data_X_test_label.shape[0]):\n",
        "  if prediction_known[0].argmax(axis=1)[i] == np.argmax(Known_data_X_test_label[i]):\n",
        "    true += 1\n",
        "print(\"Accuracy on the knowns, Run #15\", true/(Known_data_X_test_label.shape[0]))\n",
        "\n",
        "res_net = create_model()\n",
        "res_net.load_weights(\"/content/gdrive/MyDrive/Stanford_data/16_Obj_K_p1_I_p3_sameAS.h5\")\n",
        "prediction_known = res_net.predict(Known_data_X_test)\n",
        "\n",
        "true = 0\n",
        "for i in range(Known_data_X_test_label.shape[0]):\n",
        "  if prediction_known[0].argmax(axis=1)[i] == np.argmax(Known_data_X_test_label[i]):\n",
        "    true += 1\n",
        "print(\"Accuracy on the knowns, Run #16\", true/(Known_data_X_test_label.shape[0]))\n",
        "\n",
        "res_net = create_model()\n",
        "res_net.load_weights(\"/content/gdrive/MyDrive/Stanford_data/17_Obj_K_p1_I_p3_sameAS.h5\")\n",
        "prediction_known = res_net.predict(Known_data_X_test)\n",
        "\n",
        "true = 0\n",
        "for i in range(Known_data_X_test_label.shape[0]):\n",
        "  if prediction_known[0].argmax(axis=1)[i] == np.argmax(Known_data_X_test_label[i]):\n",
        "    true += 1\n",
        "print(\"Accuracy on the knowns, Run #17\", true/(Known_data_X_test_label.shape[0]))\n",
        "\n",
        "res_net = create_model()\n",
        "res_net.load_weights(\"/content/gdrive/MyDrive/Stanford_data/18_Obj_K_p1_I_p3_sameAS.h5\")\n",
        "prediction_known = res_net.predict(Known_data_X_test)\n",
        "\n",
        "true = 0\n",
        "for i in range(Known_data_X_test_label.shape[0]):\n",
        "  if prediction_known[0].argmax(axis=1)[i] == np.argmax(Known_data_X_test_label[i]):\n",
        "    true += 1\n",
        "print(\"Accuracy on the knowns, Run #18\", true/(Known_data_X_test_label.shape[0]))\n",
        "\n",
        "res_net = create_model()\n",
        "res_net.load_weights(\"/content/gdrive/MyDrive/Stanford_data/19_ObjK_p1_I_p3_sameAS.h5\")\n",
        "prediction_known = res_net.predict(Known_data_X_test)\n",
        "\n",
        "true = 0\n",
        "for i in range(Known_data_X_test_label.shape[0]):\n",
        "  if prediction_known[0].argmax(axis=1)[i] == np.argmax(Known_data_X_test_label[i]):\n",
        "    true += 1\n",
        "print(\"Accuracy on the knowns, Run #19\", true/(Known_data_X_test_label.shape[0]))\n",
        "\n",
        "res_net = create_model()\n",
        "res_net.load_weights(\"/content/gdrive/MyDrive/Stanford_data/20_Obj_K_p1_I_p3_sameAS.h5\")\n",
        "prediction_known = res_net.predict(Known_data_X_test)\n",
        "\n",
        "true = 0\n",
        "for i in range(Known_data_X_test_label.shape[0]):\n",
        "  if prediction_known[0].argmax(axis=1)[i] == np.argmax(Known_data_X_test_label[i]):\n",
        "    true += 1\n",
        "print(\"Accuracy on the knowns, Run #20\", true/(Known_data_X_test_label.shape[0]))"
      ]
    },
    {
      "cell_type": "markdown",
      "metadata": {
        "id": "io2K8JVfh4WC"
      },
      "source": [
        "# Finetuning"
      ]
    },
    {
      "cell_type": "code",
      "source": [
        "with strategy.scope():\n",
        "\n",
        "  # By N_classes, I mean classes of interest.\n",
        "  N_classes = 10\n",
        "\n",
        "  # Additional contribution\n",
        "\n",
        "  def additional(target,output):\n",
        "\n",
        "    Checker = tf.math.reduce_sum(tf.math.multiply(Ignored_label, target),axis=-1)\n",
        "    Try = tf.math.square(output)\n",
        "    Try = tf.math.reduce_sum(Try,axis=-1,keepdims=True)\n",
        "\n",
        "    Try = tf.math.multiply(Checker,Try)\n",
        "\n",
        "    return Try\n",
        "\n",
        "  def Open_set_categorical_crossentropy_trial_total(target,output):\n",
        "    def Open_set_categorical_crossentropy_trial_first(target,output):\n",
        "      output = tf.convert_to_tensor(output)\n",
        "      target = tf.cast(target, target.dtype)\n",
        "\n",
        "      epsilon = tf.keras.backend.epsilon()\n",
        "      output = tf.clip_by_value(output, epsilon, 1. - epsilon)\n",
        "\n",
        "      Sum = tf.math.reduce_sum(output,axis=-1,keepdims=True)\n",
        "\n",
        "      output = tf.math.divide(output, Sum)\n",
        "\n",
        "      Checker = tf.math.reduce_sum(tf.math.multiply(Ignored_label, target),axis=-1)\n",
        "      One = tf.math.reduce_sum(tf.math.multiply(Ignored_label, Ignored_label),axis=-1)\n",
        "\n",
        "      output = - tf.math.reduce_sum(tf.math.multiply(target,tf.math.log(output)),axis=-1)\n",
        "      output = tf.math.multiply(tf.math.subtract(One,Checker),output)\n",
        "\n",
        "      return output\n",
        "\n",
        "    def Open_set_categorical_crossentropy_trial_second(target,output):\n",
        "      output = tf.convert_to_tensor(output)\n",
        "      target = tf.cast(target, target.dtype)\n",
        "\n",
        "      epsilon = tf.keras.backend.epsilon()\n",
        "      output = tf.clip_by_value(output, epsilon, 1. - epsilon)\n",
        "\n",
        "      Sum = tf.math.reduce_sum(output,axis=-1,keepdims=True)\n",
        "\n",
        "      output = tf.math.divide(output, Sum)\n",
        "\n",
        "      Checker = tf.math.reduce_sum(tf.math.multiply(Ignored_label, target),axis=-1)\n",
        "      One = tf.math.reduce_sum(tf.math.multiply(Ignored_label, Ignored_label),axis=-1)\n",
        "      Zero = tf.math.reduce_sum(tf.math.multiply(KnownLabels[1], KnownLabels[2]),axis=-1)\n",
        "\n",
        "      for i in range(N_classes):\n",
        "        addon = - tf.math.reduce_sum(tf.math.multiply(KnownLabels[i], tf.math.log(output)),axis=-1)\n",
        "        addon = tf.math.divide(addon,N_classes)\n",
        "        Zero = tf.math.add(addon,Zero)\n",
        "      Zero = tf.math.multiply(Checker, Zero)\n",
        "\n",
        "      return Zero\n",
        "\n",
        "    output1 = Open_set_categorical_crossentropy_trial_first(target,output)\n",
        "    output2 = Open_set_categorical_crossentropy_trial_second(target,output)\n",
        "    output3 = Open_set_categorical_crossentropy_trial_second(target,output)\n",
        "\n",
        "    output = tf.math.add(output1,output2)\n",
        "    output = tf.math.add(output,output3)\n",
        "\n",
        "    return output\n",
        "\n",
        "  res_net = create_model()\n",
        "\n",
        "  optimizer = tf.keras.optimizers.Adam(learning_rate=.00001/10)\n",
        "\n",
        "  checkpoint = tf.train.Checkpoint(optimizer=optimizer, model=res_net)\n",
        "\n",
        "  callbacks = [EarlyStopping(monitor='val_loss', patience=30, mode='min'), ModelCheckpoint('/content/gdrive/MyDrive/Stanford_data/01_Obj_K_p1_I_p3_sameAS_FTm3.h5', verbose=1, monitor='val_loss', save_best_only=True, mode='min')]\n",
        "  res_net.compile(loss=[Open_set_categorical_crossentropy_trial_total, additional],loss_weights=[1., 0.0000000000000001],optimizer=tf.keras.optimizers.Adam(learning_rate=.00001/10),metrics=None)\n",
        "\n",
        "  res_net.load_weights(\"/content/gdrive/MyDrive/Stanford_data/01_Obj_K_p1_I_p3_sameAS.h5\")\n",
        "\n",
        "  for layer in res_net.layers[:-3]:\n",
        "    layer.trainable = False\n",
        "\n",
        "  Known_and_Ignored_data_X_finetune,Known_and_Ignored_data_X_finetune_label = shuffle(Known_and_Ignored_data_X_finetune,Known_and_Ignored_data_X_finetune_label)\n",
        "\n",
        "  history = res_net.fit(Known_and_Ignored_data_X_finetune,Known_and_Ignored_data_X_finetune_label, epochs=1500, batch_size=128, verbose=1, validation_split=0.2, shuffle=True, callbacks=callbacks)\n",
        "\n",
        "  res_net.save_weights('/content/gdrive/MyDrive/Stanford_data/01_Obj_K_p1_I_p3_sameAS_FTm3_PP.h5')\n"
      ],
      "metadata": {
        "id": "-e6kgTTUlJUB"
      },
      "execution_count": null,
      "outputs": []
    },
    {
      "cell_type": "code",
      "execution_count": null,
      "metadata": {
        "colab": {
          "base_uri": "https://localhost:8080/"
        },
        "id": "40sOWBwczqBT",
        "outputId": "7a0a2ac2-742f-4811-86e6-31f4e02c9129"
      },
      "outputs": [
        {
          "output_type": "stream",
          "name": "stdout",
          "text": [
            "32/32 [==============================] - 17s 509ms/step\n",
            "Accuracy on the knowns, Run #1 0.888\n",
            "32/32 [==============================] - 15s 459ms/step\n",
            "Accuracy on the knowns, Run #2 0.877\n",
            "32/32 [==============================] - 17s 511ms/step\n",
            "Accuracy on the knowns, Run #3 0.874\n",
            "32/32 [==============================] - 16s 490ms/step\n",
            "Accuracy on the knowns, Run #4 0.879\n",
            "32/32 [==============================] - 17s 504ms/step\n",
            "Accuracy on the knowns, Run #5 0.871\n",
            "32/32 [==============================] - 17s 506ms/step\n",
            "Accuracy on the knowns, Run #6 0.874\n",
            "32/32 [==============================] - 18s 512ms/step\n",
            "Accuracy on the knowns, Run #7 0.873\n",
            "32/32 [==============================] - 16s 487ms/step\n",
            "Accuracy on the knowns, Run #8 0.872\n",
            "32/32 [==============================] - 18s 520ms/step\n",
            "Accuracy on the knowns, Run #9 0.884\n",
            "32/32 [==============================] - 16s 478ms/step\n",
            "Accuracy on the knowns, Run #10 0.868\n",
            "32/32 [==============================] - 17s 505ms/step\n",
            "Accuracy on the knowns, Run #11 0.889\n",
            "32/32 [==============================] - 16s 472ms/step\n",
            "Accuracy on the knowns, Run #12 0.881\n",
            "32/32 [==============================] - 16s 487ms/step\n",
            "Accuracy on the knowns, Run #13 0.861\n",
            "32/32 [==============================] - 17s 521ms/step\n",
            "Accuracy on the knowns, Run #14 0.873\n",
            "32/32 [==============================] - 17s 499ms/step\n",
            "Accuracy on the knowns, Run #15 0.886\n",
            "32/32 [==============================] - 17s 498ms/step\n",
            "Accuracy on the knowns, Run #16 0.889\n",
            "32/32 [==============================] - 16s 493ms/step\n",
            "Accuracy on the knowns, Run #17 0.877\n",
            "32/32 [==============================] - 15s 459ms/step\n",
            "Accuracy on the knowns, Run #18 0.87\n",
            "32/32 [==============================] - 19s 548ms/step\n",
            "Accuracy on the knowns, Run #19 0.876\n",
            "32/32 [==============================] - 17s 515ms/step\n",
            "Accuracy on the knowns, Run #20 0.866\n"
          ]
        }
      ],
      "source": [
        "res_net = create_model()\n",
        "res_net.load_weights(\"/content/gdrive/MyDrive/Stanford_data/01_Obj_K_p1_I_p3_sameAS_FTm3_PP.h5\")\n",
        "prediction_known = res_net.predict(Known_data_X_test)\n",
        "\n",
        "true = 0\n",
        "for i in range(Known_data_X_test_label.shape[0]):\n",
        "  if prediction_known[0].argmax(axis=1)[i] == np.argmax(Known_data_X_test_label[i]):\n",
        "    true += 1\n",
        "print(\"Accuracy on the knowns, Run #1\", true/(Known_data_X_test_label.shape[0]))\n",
        "\n",
        "res_net = create_model()\n",
        "res_net.load_weights(\"/content/gdrive/MyDrive/Stanford_data/02_Obj_K_p1_I_p3_sameAS_FTm3_PP.h5\")\n",
        "prediction_known = res_net.predict(Known_data_X_test)\n",
        "\n",
        "true = 0\n",
        "for i in range(Known_data_X_test_label.shape[0]):\n",
        "  if prediction_known[0].argmax(axis=1)[i] == np.argmax(Known_data_X_test_label[i]):\n",
        "    true += 1\n",
        "print(\"Accuracy on the knowns, Run #2\", true/(Known_data_X_test_label.shape[0]))\n",
        "\n",
        "res_net = create_model()\n",
        "res_net.load_weights(\"/content/gdrive/MyDrive/Stanford_data/03_Obj_K_p1_I_p3_sameAS_FTm3_PP.h5\")\n",
        "prediction_known = res_net.predict(Known_data_X_test)\n",
        "\n",
        "true = 0\n",
        "for i in range(Known_data_X_test_label.shape[0]):\n",
        "  if prediction_known[0].argmax(axis=1)[i] == np.argmax(Known_data_X_test_label[i]):\n",
        "    true += 1\n",
        "print(\"Accuracy on the knowns, Run #3\", true/(Known_data_X_test_label.shape[0]))\n",
        "\n",
        "res_net = create_model()\n",
        "res_net.load_weights(\"/content/gdrive/MyDrive/Stanford_data/04_Obj_K_p1_I_p3_sameAS_FTm3_PP.h5\")\n",
        "prediction_known = res_net.predict(Known_data_X_test)\n",
        "\n",
        "true = 0\n",
        "for i in range(Known_data_X_test_label.shape[0]):\n",
        "  if prediction_known[0].argmax(axis=1)[i] == np.argmax(Known_data_X_test_label[i]):\n",
        "    true += 1\n",
        "print(\"Accuracy on the knowns, Run #4\", true/(Known_data_X_test_label.shape[0]))\n",
        "\n",
        "res_net = create_model()\n",
        "res_net.load_weights(\"/content/gdrive/MyDrive/Stanford_data/05_Obj_K_p1_I_p3_sameAS_FTm3_PP.h5\")\n",
        "prediction_known = res_net.predict(Known_data_X_test)\n",
        "\n",
        "true = 0\n",
        "for i in range(Known_data_X_test_label.shape[0]):\n",
        "  if prediction_known[0].argmax(axis=1)[i] == np.argmax(Known_data_X_test_label[i]):\n",
        "    true += 1\n",
        "print(\"Accuracy on the knowns, Run #5\", true/(Known_data_X_test_label.shape[0]))\n",
        "\n",
        "res_net = create_model()\n",
        "res_net.load_weights(\"/content/gdrive/MyDrive/Stanford_data/06_Obj_K_p1_I_p3_sameAS_FTm3_PP.h5\")\n",
        "prediction_known = res_net.predict(Known_data_X_test)\n",
        "\n",
        "true = 0\n",
        "for i in range(Known_data_X_test_label.shape[0]):\n",
        "  if prediction_known[0].argmax(axis=1)[i] == np.argmax(Known_data_X_test_label[i]):\n",
        "    true += 1\n",
        "print(\"Accuracy on the knowns, Run #6\", true/(Known_data_X_test_label.shape[0]))\n",
        "\n",
        "res_net = create_model()\n",
        "res_net.load_weights(\"/content/gdrive/MyDrive/Stanford_data/07_Obj_K_p1_I_p3_sameAS_FTm3_PP.h5\")\n",
        "prediction_known = res_net.predict(Known_data_X_test)\n",
        "\n",
        "true = 0\n",
        "for i in range(Known_data_X_test_label.shape[0]):\n",
        "  if prediction_known[0].argmax(axis=1)[i] == np.argmax(Known_data_X_test_label[i]):\n",
        "    true += 1\n",
        "print(\"Accuracy on the knowns, Run #7\", true/(Known_data_X_test_label.shape[0]))\n",
        "\n",
        "res_net = create_model()\n",
        "res_net.load_weights(\"/content/gdrive/MyDrive/Stanford_data/08_Obj_K_p1_I_p3_sameAS_FTm3_PP.h5\")\n",
        "prediction_known = res_net.predict(Known_data_X_test)\n",
        "\n",
        "true = 0\n",
        "for i in range(Known_data_X_test_label.shape[0]):\n",
        "  if prediction_known[0].argmax(axis=1)[i] == np.argmax(Known_data_X_test_label[i]):\n",
        "    true += 1\n",
        "print(\"Accuracy on the knowns, Run #8\", true/(Known_data_X_test_label.shape[0]))\n",
        "\n",
        "res_net = create_model()\n",
        "res_net.load_weights(\"/content/gdrive/MyDrive/Stanford_data/09_Obj_K_p1_I_p3_sameAS_FTm3_PP.h5\")\n",
        "prediction_known = res_net.predict(Known_data_X_test)\n",
        "\n",
        "true = 0\n",
        "for i in range(Known_data_X_test_label.shape[0]):\n",
        "  if prediction_known[0].argmax(axis=1)[i] == np.argmax(Known_data_X_test_label[i]):\n",
        "    true += 1\n",
        "print(\"Accuracy on the knowns, Run #9\", true/(Known_data_X_test_label.shape[0]))\n",
        "\n",
        "res_net = create_model()\n",
        "res_net.load_weights(\"/content/gdrive/MyDrive/Stanford_data/10_Obj_K_p1_I_p3_sameAS_FTm3_PP.h5\")\n",
        "prediction_known = res_net.predict(Known_data_X_test)\n",
        "\n",
        "true = 0\n",
        "for i in range(Known_data_X_test_label.shape[0]):\n",
        "  if prediction_known[0].argmax(axis=1)[i] == np.argmax(Known_data_X_test_label[i]):\n",
        "    true += 1\n",
        "print(\"Accuracy on the knowns, Run #10\", true/(Known_data_X_test_label.shape[0]))\n",
        "\n",
        "res_net = create_model()\n",
        "res_net.load_weights(\"/content/gdrive/MyDrive/Stanford_data/11_Obj_K_p1_I_p3_sameAS_FTm3_PP.h5\")\n",
        "prediction_known = res_net.predict(Known_data_X_test)\n",
        "\n",
        "true = 0\n",
        "for i in range(Known_data_X_test_label.shape[0]):\n",
        "  if prediction_known[0].argmax(axis=1)[i] == np.argmax(Known_data_X_test_label[i]):\n",
        "    true += 1\n",
        "print(\"Accuracy on the knowns, Run #11\", true/(Known_data_X_test_label.shape[0]))\n",
        "\n",
        "res_net = create_model()\n",
        "res_net.load_weights(\"/content/gdrive/MyDrive/Stanford_data/12_Obj_K_p1_I_p3_sameAS_FTm3_PP.h5\")\n",
        "prediction_known = res_net.predict(Known_data_X_test)\n",
        "\n",
        "true = 0\n",
        "for i in range(Known_data_X_test_label.shape[0]):\n",
        "  if prediction_known[0].argmax(axis=1)[i] == np.argmax(Known_data_X_test_label[i]):\n",
        "    true += 1\n",
        "print(\"Accuracy on the knowns, Run #12\", true/(Known_data_X_test_label.shape[0]))\n",
        "\n",
        "res_net = create_model()\n",
        "res_net.load_weights(\"/content/gdrive/MyDrive/Stanford_data/13_Obj_K_p1_I_p3_sameAS_FTm3_PP.h5\")\n",
        "prediction_known = res_net.predict(Known_data_X_test)\n",
        "\n",
        "true = 0\n",
        "for i in range(Known_data_X_test_label.shape[0]):\n",
        "  if prediction_known[0].argmax(axis=1)[i] == np.argmax(Known_data_X_test_label[i]):\n",
        "    true += 1\n",
        "print(\"Accuracy on the knowns, Run #13\", true/(Known_data_X_test_label.shape[0]))\n",
        "\n",
        "res_net = create_model()\n",
        "res_net.load_weights(\"/content/gdrive/MyDrive/Stanford_data/14_Obj_K_p1_I_p3_sameAS_FTm3_PP.h5\")\n",
        "prediction_known = res_net.predict(Known_data_X_test)\n",
        "\n",
        "true = 0\n",
        "for i in range(Known_data_X_test_label.shape[0]):\n",
        "  if prediction_known[0].argmax(axis=1)[i] == np.argmax(Known_data_X_test_label[i]):\n",
        "    true += 1\n",
        "print(\"Accuracy on the knowns, Run #14\", true/(Known_data_X_test_label.shape[0]))\n",
        "\n",
        "res_net = create_model()\n",
        "res_net.load_weights(\"/content/gdrive/MyDrive/Stanford_data/15_Obj_K_p1_I_p3_sameAS_FTm3_PP.h5\")\n",
        "prediction_known = res_net.predict(Known_data_X_test)\n",
        "\n",
        "true = 0\n",
        "for i in range(Known_data_X_test_label.shape[0]):\n",
        "  if prediction_known[0].argmax(axis=1)[i] == np.argmax(Known_data_X_test_label[i]):\n",
        "    true += 1\n",
        "print(\"Accuracy on the knowns, Run #15\", true/(Known_data_X_test_label.shape[0]))\n",
        "\n",
        "res_net = create_model()\n",
        "res_net.load_weights(\"/content/gdrive/MyDrive/Stanford_data/16_Obj_K_p1_I_p3_sameAS_FTm3_PP.h5\")\n",
        "prediction_known = res_net.predict(Known_data_X_test)\n",
        "\n",
        "true = 0\n",
        "for i in range(Known_data_X_test_label.shape[0]):\n",
        "  if prediction_known[0].argmax(axis=1)[i] == np.argmax(Known_data_X_test_label[i]):\n",
        "    true += 1\n",
        "print(\"Accuracy on the knowns, Run #16\", true/(Known_data_X_test_label.shape[0]))\n",
        "\n",
        "res_net = create_model()\n",
        "res_net.load_weights(\"/content/gdrive/MyDrive/Stanford_data/17_Obj_K_p1_I_p3_sameAS_FTm3_PP.h5\")\n",
        "prediction_known = res_net.predict(Known_data_X_test)\n",
        "\n",
        "true = 0\n",
        "for i in range(Known_data_X_test_label.shape[0]):\n",
        "  if prediction_known[0].argmax(axis=1)[i] == np.argmax(Known_data_X_test_label[i]):\n",
        "    true += 1\n",
        "print(\"Accuracy on the knowns, Run #17\", true/(Known_data_X_test_label.shape[0]))\n",
        "\n",
        "res_net = create_model()\n",
        "res_net.load_weights(\"/content/gdrive/MyDrive/Stanford_data/18_Obj_K_p1_I_p3_sameAS_FTm3_PP.h5\")\n",
        "prediction_known = res_net.predict(Known_data_X_test)\n",
        "\n",
        "true = 0\n",
        "for i in range(Known_data_X_test_label.shape[0]):\n",
        "  if prediction_known[0].argmax(axis=1)[i] == np.argmax(Known_data_X_test_label[i]):\n",
        "    true += 1\n",
        "print(\"Accuracy on the knowns, Run #18\", true/(Known_data_X_test_label.shape[0]))\n",
        "\n",
        "res_net = create_model()\n",
        "res_net.load_weights(\"/content/gdrive/MyDrive/Stanford_data/19_Obj_K_p1_I_p3_sameAS_FTm3.h5\")\n",
        "prediction_known = res_net.predict(Known_data_X_test)\n",
        "\n",
        "true = 0\n",
        "for i in range(Known_data_X_test_label.shape[0]):\n",
        "  if prediction_known[0].argmax(axis=1)[i] == np.argmax(Known_data_X_test_label[i]):\n",
        "    true += 1\n",
        "print(\"Accuracy on the knowns, Run #19\", true/(Known_data_X_test_label.shape[0]))\n",
        "\n",
        "res_net = create_model()\n",
        "res_net.load_weights(\"/content/gdrive/MyDrive/Stanford_data/20_Obj_K_p1_I_p3_sameAS_FTm3.h5\")\n",
        "prediction_known = res_net.predict(Known_data_X_test)\n",
        "\n",
        "true = 0\n",
        "for i in range(Known_data_X_test_label.shape[0]):\n",
        "  if prediction_known[0].argmax(axis=1)[i] == np.argmax(Known_data_X_test_label[i]):\n",
        "    true += 1\n",
        "print(\"Accuracy on the knowns, Run #20\", true/(Known_data_X_test_label.shape[0]))"
      ]
    },
    {
      "cell_type": "markdown",
      "source": [
        "# Check, how does this approach work in an ***open*** world"
      ],
      "metadata": {
        "id": "NQDxWg0GF68V"
      }
    },
    {
      "cell_type": "code",
      "source": [
        "res_net01 = create_model()\n",
        "res_net02 = create_model()\n",
        "res_net03 = create_model()\n",
        "res_net04 = create_model()\n",
        "res_net05 = create_model()\n",
        "res_net06 = create_model()\n",
        "res_net07 = create_model()\n",
        "res_net08 = create_model()\n",
        "res_net09 = create_model()\n",
        "res_net10 = create_model()\n",
        "res_net11 = create_model()\n",
        "res_net12 = create_model()\n",
        "res_net13 = create_model()\n",
        "res_net14 = create_model()\n",
        "res_net15 = create_model()\n",
        "res_net16 = create_model()\n",
        "res_net17 = create_model()\n",
        "res_net18 = create_model()\n",
        "res_net19 = create_model()\n",
        "res_net20 = create_model()\n",
        "\n",
        "res_net01.load_weights(\"/content/gdrive/MyDrive/Stanford_data/01_Obj_K_p1_I_p3_sameAS_FTm3_PP.h5\")\n",
        "res_net02.load_weights(\"/content/gdrive/MyDrive/Stanford_data/02_Obj_K_p1_I_p3_sameAS_FTm3_PP.h5\")\n",
        "res_net03.load_weights(\"/content/gdrive/MyDrive/Stanford_data/03_Obj_K_p1_I_p3_sameAS_FTm3_PP.h5\")\n",
        "res_net04.load_weights(\"/content/gdrive/MyDrive/Stanford_data/04_Obj_K_p1_I_p3_sameAS_FTm3_PP.h5\")\n",
        "res_net05.load_weights(\"/content/gdrive/MyDrive/Stanford_data/05_Obj_K_p1_I_p3_sameAS_FTm3_PP.h5\")\n",
        "res_net06.load_weights(\"/content/gdrive/MyDrive/Stanford_data/06_Obj_K_p1_I_p3_sameAS_FTm3_PP.h5\")\n",
        "res_net07.load_weights(\"/content/gdrive/MyDrive/Stanford_data/07_Obj_K_p1_I_p3_sameAS_FTm3_PP.h5\")\n",
        "res_net08.load_weights(\"/content/gdrive/MyDrive/Stanford_data/08_Obj_K_p1_I_p3_sameAS_FTm3_PP.h5\")\n",
        "res_net09.load_weights(\"/content/gdrive/MyDrive/Stanford_data/09_Obj_K_p1_I_p3_sameAS_FTm3_PP.h5\")\n",
        "res_net10.load_weights(\"/content/gdrive/MyDrive/Stanford_data/10_Obj_K_p1_I_p3_sameAS_FTm3_PP.h5\")\n",
        "res_net11.load_weights(\"/content/gdrive/MyDrive/Stanford_data/11_Obj_K_p1_I_p3_sameAS_FTm3_PP.h5\")\n",
        "res_net12.load_weights(\"/content/gdrive/MyDrive/Stanford_data/12_Obj_K_p1_I_p3_sameAS_FTm3_PP.h5\")\n",
        "res_net13.load_weights(\"/content/gdrive/MyDrive/Stanford_data/13_Obj_K_p1_I_p3_sameAS_FTm3_PP.h5\")\n",
        "res_net14.load_weights(\"/content/gdrive/MyDrive/Stanford_data/14_Obj_K_p1_I_p3_sameAS_FTm3_PP.h5\")\n",
        "res_net15.load_weights(\"/content/gdrive/MyDrive/Stanford_data/15_Obj_K_p1_I_p3_sameAS_FTm3_PP.h5\")\n",
        "res_net16.load_weights(\"/content/gdrive/MyDrive/Stanford_data/16_Obj_K_p1_I_p3_sameAS_FTm3_PP.h5\")\n",
        "res_net17.load_weights(\"/content/gdrive/MyDrive/Stanford_data/17_Obj_K_p1_I_p3_sameAS_FTm3_PP.h5\")\n",
        "res_net18.load_weights(\"/content/gdrive/MyDrive/Stanford_data/18_Obj_K_p1_I_p3_sameAS_FTm3_PP.h5\")\n",
        "res_net19.load_weights(\"/content/gdrive/MyDrive/Stanford_data/19_Obj_K_p1_I_p3_sameAS_FTm3_PP.h5\")\n",
        "res_net20.load_weights(\"/content/gdrive/MyDrive/Stanford_data/20_Obj_K_p1_I_p3_sameAS_FTm3_PP.h5\")\n",
        "\n",
        "\n",
        "\n",
        "prediction01_known = res_net01.predict(Known_data_X_test)\n",
        "prediction02_known = res_net02.predict(Known_data_X_test)\n",
        "prediction03_known = res_net03.predict(Known_data_X_test)\n",
        "prediction04_known = res_net04.predict(Known_data_X_test)\n",
        "prediction05_known = res_net05.predict(Known_data_X_test)\n",
        "prediction06_known = res_net06.predict(Known_data_X_test)\n",
        "prediction07_known = res_net07.predict(Known_data_X_test)\n",
        "prediction08_known = res_net08.predict(Known_data_X_test)\n",
        "prediction09_known = res_net09.predict(Known_data_X_test)\n",
        "prediction10_known = res_net10.predict(Known_data_X_test)\n",
        "\n",
        "prediction11_known = res_net11.predict(Known_data_X_test)\n",
        "prediction12_known = res_net12.predict(Known_data_X_test)\n",
        "prediction13_known = res_net13.predict(Known_data_X_test)\n",
        "prediction14_known = res_net14.predict(Known_data_X_test)\n",
        "prediction15_known = res_net15.predict(Known_data_X_test)\n",
        "prediction16_known = res_net16.predict(Known_data_X_test)\n",
        "prediction17_known = res_net17.predict(Known_data_X_test)\n",
        "prediction18_known = res_net18.predict(Known_data_X_test)\n",
        "prediction19_known = res_net19.predict(Known_data_X_test)\n",
        "prediction20_known = res_net20.predict(Known_data_X_test)\n"
      ],
      "metadata": {
        "colab": {
          "base_uri": "https://localhost:8080/"
        },
        "id": "js4odunBGNUs",
        "outputId": "b4f4d357-0455-4c18-85b6-af5085043a30"
      },
      "execution_count": null,
      "outputs": [
        {
          "output_type": "stream",
          "name": "stdout",
          "text": [
            "32/32 [==============================] - 7s 176ms/step\n",
            "32/32 [==============================] - 7s 173ms/step\n",
            "32/32 [==============================] - 6s 168ms/step\n",
            "32/32 [==============================] - 7s 173ms/step\n",
            "32/32 [==============================] - 6s 169ms/step\n",
            "32/32 [==============================] - 7s 167ms/step\n",
            "32/32 [==============================] - 7s 180ms/step\n",
            "32/32 [==============================] - 7s 179ms/step\n",
            "32/32 [==============================] - 6s 168ms/step\n",
            "32/32 [==============================] - 7s 177ms/step\n",
            "32/32 [==============================] - 6s 169ms/step\n",
            "32/32 [==============================] - 7s 173ms/step\n",
            "32/32 [==============================] - 7s 177ms/step\n",
            "32/32 [==============================] - 7s 172ms/step\n",
            "32/32 [==============================] - 6s 169ms/step\n",
            "32/32 [==============================] - 7s 171ms/step\n",
            "32/32 [==============================] - 7s 178ms/step\n",
            "32/32 [==============================] - 7s 179ms/step\n",
            "32/32 [==============================] - 6s 170ms/step\n",
            "32/32 [==============================] - 7s 176ms/step\n"
          ]
        }
      ]
    },
    {
      "cell_type": "code",
      "source": [
        "prediction01_unknown = res_net01.predict(NeverSeen_data_X_test)\n",
        "prediction02_unknown = res_net02.predict(NeverSeen_data_X_test)\n",
        "prediction03_unknown = res_net03.predict(NeverSeen_data_X_test)\n",
        "prediction04_unknown = res_net04.predict(NeverSeen_data_X_test)\n",
        "prediction05_unknown = res_net05.predict(NeverSeen_data_X_test)\n",
        "prediction06_unknown = res_net06.predict(NeverSeen_data_X_test)\n",
        "prediction07_unknown = res_net07.predict(NeverSeen_data_X_test)\n",
        "prediction08_unknown = res_net08.predict(NeverSeen_data_X_test)\n",
        "prediction09_unknown = res_net09.predict(NeverSeen_data_X_test)\n",
        "prediction10_unknown = res_net10.predict(NeverSeen_data_X_test)\n",
        "prediction11_unknown = res_net11.predict(NeverSeen_data_X_test)\n",
        "prediction12_unknown = res_net12.predict(NeverSeen_data_X_test)\n",
        "prediction13_unknown = res_net13.predict(NeverSeen_data_X_test)\n",
        "prediction14_unknown = res_net14.predict(NeverSeen_data_X_test)\n",
        "prediction15_unknown = res_net15.predict(NeverSeen_data_X_test)\n",
        "prediction16_unknown = res_net16.predict(NeverSeen_data_X_test)\n",
        "prediction17_unknown = res_net17.predict(NeverSeen_data_X_test)\n",
        "prediction18_unknown = res_net18.predict(NeverSeen_data_X_test)\n",
        "prediction19_unknown = res_net19.predict(NeverSeen_data_X_test)\n",
        "prediction20_unknown = res_net20.predict(NeverSeen_data_X_test)\n",
        "\n",
        "\n",
        "prediction_unknown_ensemble_1 = (prediction01_unknown[0] + prediction02_unknown[0] + prediction03_unknown[0] + prediction04_unknown[0] + prediction05_unknown[0])/5\n",
        "prediction_unknown_ensemble_2 = (prediction06_unknown[0] + prediction07_unknown[0] + prediction08_unknown[0] + prediction09_unknown[0] + prediction10_unknown[0])/5\n",
        "prediction_unknown_ensemble_3 = (prediction11_unknown[0] + prediction12_unknown[0] + prediction13_unknown[0] + prediction14_unknown[0] + prediction15_unknown[0])/5\n",
        "prediction_unknown_ensemble_4 = (prediction16_unknown[0] + prediction17_unknown[0] + prediction18_unknown[0] + prediction19_unknown[0] + prediction20_unknown[0])/5"
      ],
      "metadata": {
        "colab": {
          "base_uri": "https://localhost:8080/"
        },
        "id": "qkidcP8sGNWy",
        "outputId": "b3324d18-ea24-402c-a210-c8f6beec83f0"
      },
      "execution_count": null,
      "outputs": [
        {
          "output_type": "stream",
          "name": "stdout",
          "text": [
            "32/32 [==============================] - 5s 168ms/step\n",
            "32/32 [==============================] - 6s 180ms/step\n",
            "32/32 [==============================] - 5s 164ms/step\n",
            "32/32 [==============================] - 6s 172ms/step\n",
            "32/32 [==============================] - 5s 168ms/step\n",
            "32/32 [==============================] - 6s 178ms/step\n",
            "32/32 [==============================] - 6s 174ms/step\n",
            "32/32 [==============================] - 6s 175ms/step\n",
            "32/32 [==============================] - 6s 179ms/step\n",
            "32/32 [==============================] - 6s 172ms/step\n",
            "32/32 [==============================] - 6s 176ms/step\n",
            "32/32 [==============================] - 5s 169ms/step\n",
            "32/32 [==============================] - 5s 169ms/step\n",
            "32/32 [==============================] - 5s 169ms/step\n",
            "32/32 [==============================] - 6s 178ms/step\n",
            "32/32 [==============================] - 5s 167ms/step\n",
            "32/32 [==============================] - 6s 179ms/step\n",
            "32/32 [==============================] - 5s 170ms/step\n",
            "32/32 [==============================] - 5s 171ms/step\n",
            "32/32 [==============================] - 6s 175ms/step\n"
          ]
        }
      ]
    },
    {
      "cell_type": "code",
      "source": [
        "Known_data_X_test_label_int = []\n",
        "for i in range(Known_data_X_test_label.shape[0]):\n",
        "  Known_data_X_test_label_int.append(np.argmax(Known_data_X_test_label[i]))"
      ],
      "metadata": {
        "id": "mzDnceybxUK0"
      },
      "execution_count": null,
      "outputs": []
    },
    {
      "cell_type": "code",
      "source": [
        "prediction_known_ensemble_1 = (prediction01_known[0] + prediction02_known[0] + prediction03_known[0] + prediction04_known[0] + prediction05_known[0])/5\n",
        "\n",
        "true = 0\n",
        "for i in range(Known_data_X_test_label.shape[0]):\n",
        "  if prediction_known_ensemble_1.argmax(axis=1)[i] == Known_data_X_test_label_int[i]:\n",
        "    true += 1\n",
        "print(\"Accuracy of the first ensemble on the knowns\", true/(Known_data_X_test_label.shape[0]))\n",
        "\n",
        "prediction_known_ensemble_2 = (prediction06_known[0] + prediction07_known[0] + prediction08_known[0] + prediction09_known[0] + prediction10_known[0])/5\n",
        "\n",
        "true = 0\n",
        "for i in range(Known_data_X_test_label.shape[0]):\n",
        "  if prediction_known_ensemble_2.argmax(axis=1)[i] == Known_data_X_test_label_int[i]:\n",
        "    true += 1\n",
        "print(\"Accuracy of the second ensemble on the knowns\", true/(Known_data_X_test_label.shape[0]))\n",
        "\n",
        "prediction_known_ensemble_3 = (prediction11_known[0] + prediction12_known[0] + prediction13_known[0] + prediction14_known[0] + prediction15_known[0])/5\n",
        "\n",
        "true = 0\n",
        "for i in range(Known_data_X_test_label.shape[0]):\n",
        "  if prediction_known_ensemble_3.argmax(axis=1)[i] == Known_data_X_test_label_int[i]:\n",
        "    true += 1\n",
        "print(\"Accuracy of the third ensemble on the knowns\", true/(Known_data_X_test_label.shape[0]))\n",
        "\n",
        "prediction_known_ensemble_4 = (prediction16_known[0] + prediction17_known[0] + prediction18_known[0] + prediction19_known[0] + prediction20_known[0])/5\n",
        "\n",
        "true = 0\n",
        "for i in range(Known_data_X_test_label.shape[0]):\n",
        "  if prediction_known_ensemble_4.argmax(axis=1)[i] == Known_data_X_test_label_int[i]:\n",
        "    true += 1\n",
        "print(\"Accuracy of the fourth ensemble on the knowns\", true/(Known_data_X_test_label.shape[0]))"
      ],
      "metadata": {
        "colab": {
          "base_uri": "https://localhost:8080/"
        },
        "id": "SmHXNFS5oVQb",
        "outputId": "46a3fa92-1f8a-4adf-d2c6-feae627abfe3"
      },
      "execution_count": null,
      "outputs": [
        {
          "output_type": "stream",
          "name": "stdout",
          "text": [
            "Accuracy of the first ensemble on the knowns 0.893\n",
            "Accuracy of the second ensemble on the knowns 0.886\n",
            "Accuracy of the third ensemble on the knowns 0.89\n",
            "Accuracy of the fourth ensemble on the knowns 0.889\n"
          ]
        }
      ]
    },
    {
      "cell_type": "markdown",
      "source": [
        "# Computing ODIN score"
      ],
      "metadata": {
        "id": "CNp3DkBtmKyG"
      }
    },
    {
      "cell_type": "code",
      "source": [
        "import tensorflow as tf\n",
        "import numpy as np\n",
        "import matplotlib.pyplot as plt\n",
        "\n",
        "temperature = 1000\n",
        "magnitude = 0.001\n",
        "batch_size = 32\n",
        "threshold = 0.1\n",
        "\n",
        "loaded_models = [res_net01, res_net02, res_net03, res_net04, res_net05, res_net06, res_net07, res_net08, res_net09, res_net10,\n",
        "                 res_net11, res_net12, res_net13, res_net14, res_net15, res_net16, res_net17, res_net18, res_net19, res_net20]\n",
        "\n",
        "UN_Known_data_X_test_as_tensor = tf.convert_to_tensor(NeverSeen_data_X_test)\n",
        "\n",
        "odin_scores_for_models = [np.array([]) for _ in loaded_models]\n",
        "\n",
        "def compute_odin_scores_for_model(model, images, threshold):\n",
        "    logits_layer = model.layers[-2].output\n",
        "    logits_model = tf.keras.Model(inputs=model.input, outputs=logits_layer)\n",
        "\n",
        "    odin_scores_UN_KNOWN = []\n",
        "\n",
        "    for i in range(0, len(images), batch_size):\n",
        "        batch = images[i:i + batch_size]\n",
        "\n",
        "        with tf.device(\"/CPU:0\"):\n",
        "            logits = logits_model(batch)\n",
        "\n",
        "        with tf.GradientTape() as tape:\n",
        "            tape.watch(batch)\n",
        "            output = logits_model(batch)\n",
        "        grads = tape.gradient(output, batch)\n",
        "\n",
        "        signed_grads = tf.sign(grads)\n",
        "\n",
        "        perturbed_spectra = batch + magnitude * signed_grads\n",
        "\n",
        "        with tf.device(\"/CPU:0\"):\n",
        "            perturbed_logits = logits_model(perturbed_spectra)\n",
        "\n",
        "        scaled_perturbed_logits = perturbed_logits / temperature\n",
        "\n",
        "        perturbed_softmax_output = tf.nn.softmax(scaled_perturbed_logits)\n",
        "\n",
        "        max_perturbed_softmax_scores = tf.reduce_max(perturbed_softmax_output, axis=1)\n",
        "\n",
        "        max_logits = tf.reduce_max(tf.nn.softmax(logits), axis=1)\n",
        "        odin_scores_batch = max_logits - max_perturbed_softmax_scores\n",
        "\n",
        "        odin_scores_UN_KNOWN.extend(odin_scores_batch)\n",
        "\n",
        "    return np.array(odin_scores_UN_KNOWN)\n",
        "\n",
        "for model_index, model in enumerate(loaded_models):\n",
        "    odin_scores = compute_odin_scores_for_model(model, UN_Known_data_X_test_as_tensor, threshold)\n",
        "    odin_scores_for_models[model_index] = odin_scores\n"
      ],
      "metadata": {
        "id": "k4hFM8Xj0iMy"
      },
      "execution_count": null,
      "outputs": []
    },
    {
      "cell_type": "code",
      "source": [
        "import os\n",
        "\n",
        "all_odin_scores = []\n",
        "for scores in odin_scores_for_models:\n",
        "    all_odin_scores.extend(scores)\n",
        "\n",
        "folder_path = \"/content/gdrive/MyDrive/Stanford_data\"\n",
        "\n",
        "file_name = \"all_odin_scores_OBJ_p1p3.txt\"\n",
        "\n",
        "file_path = os.path.join(folder_path, file_name)\n",
        "\n",
        "with open(file_path, 'w') as file:\n",
        "    for score in all_odin_scores:\n",
        "        file.write(f\"{score}\\n\")"
      ],
      "metadata": {
        "id": "BpOHMelbWlKF"
      },
      "execution_count": null,
      "outputs": []
    },
    {
      "cell_type": "code",
      "source": [
        "import tensorflow as tf\n",
        "import numpy as np\n",
        "import matplotlib.pyplot as plt\n",
        "\n",
        "batch_size = 32\n",
        "magnitude = 0.001\n",
        "temperature = 1000\n",
        "num_models = 20\n",
        "\n",
        "loaded_models = [\n",
        "    res_net01, res_net02, res_net03, res_net04, res_net05,\n",
        "    res_net06, res_net07, res_net08, res_net09, res_net10,\n",
        "    res_net11, res_net12, res_net13, res_net14, res_net15,\n",
        "    res_net16, res_net17, res_net18, res_net19, res_net20\n",
        "]\n",
        "\n",
        "odin_scores_all_models = []\n",
        "\n",
        "for i in range(num_models):\n",
        "    logits_layer = loaded_models[i].layers[-2].output\n",
        "\n",
        "    logits_model = tf.keras.Model(inputs=loaded_models[i].input, outputs=logits_layer)\n",
        "\n",
        "    Known_data_X_test_as_tensor = tf.convert_to_tensor(Known_data_X_test)\n",
        "\n",
        "    odin_scores_KNOWN = []\n",
        "\n",
        "    for j in range(0, len(Known_data_X_test), batch_size):\n",
        "        batch = Known_data_X_test_as_tensor[j:j+batch_size]\n",
        "\n",
        "        with tf.device(\"/CPU:0\"):\n",
        "            logits = logits_model(batch)\n",
        "\n",
        "        with tf.GradientTape() as tape:\n",
        "            tape.watch(batch)\n",
        "            logits = logits_model(batch)\n",
        "        grads = tape.gradient(logits, batch)\n",
        "\n",
        "        signed_grads = tf.sign(grads)\n",
        "\n",
        "        perturbed_spectra = batch + magnitude * signed_grads\n",
        "\n",
        "        with tf.device(\"/CPU:0\"):\n",
        "            perturbed_logits = logits_model(perturbed_spectra)\n",
        "\n",
        "        scaled_perturbed_logits = perturbed_logits / temperature\n",
        "\n",
        "        perturbed_softmax_output = tf.nn.softmax(scaled_perturbed_logits)\n",
        "\n",
        "        max_perturbed_softmax_scores = tf.reduce_max(perturbed_softmax_output, axis=1)\n",
        "\n",
        "        original_softmax_output = tf.nn.softmax(logits / temperature)\n",
        "        max_softmax_scores = tf.reduce_max(original_softmax_output, axis=1)\n",
        "\n",
        "        odin_scores_batch = max_softmax_scores - max_perturbed_softmax_scores\n",
        "\n",
        "        odin_scores_KNOWN.extend(odin_scores_batch)\n",
        "\n",
        "    odin_scores_KNOWN = np.array(odin_scores_KNOWN)\n",
        "    odin_scores_all_models.append(odin_scores_KNOWN)\n",
        "\n",
        "combined_odin_scores = np.concatenate(odin_scores_all_models)\n",
        "\n",
        "plt.hist(combined_odin_scores, bins=10)\n",
        "\n",
        "plt.xlabel('ODIN Score')\n",
        "plt.ylabel('Frequency')\n",
        "plt.title('Histogram of ODIN Scores for Known Data (All Models)')\n",
        "\n",
        "plt.show()"
      ],
      "metadata": {
        "colab": {
          "base_uri": "https://localhost:8080/",
          "height": 480
        },
        "id": "R75zuDHTF-vT",
        "outputId": "ae46756d-4128-49d2-a407-cc6693750c59"
      },
      "execution_count": null,
      "outputs": [
        {
          "output_type": "display_data",
          "data": {
            "text/plain": [
              "<Figure size 640x480 with 1 Axes>"
            ],
            "image/png": "[encoded data removed]"
          },
          "metadata": {}
        }
      ]
    },
    {
      "cell_type": "code",
      "source": [],
      "metadata": {
        "id": "mmVSXtvFWlNS"
      },
      "execution_count": null,
      "outputs": []
    },
    {
      "cell_type": "markdown",
      "source": [
        "# Compute OpenMax scores"
      ],
      "metadata": {
        "id": "V-rAhQlfsTdv"
      }
    },
    {
      "cell_type": "code",
      "source": [
        "import os\n",
        "folder_path = \"/content/gdrive/MyDrive/Stanford_data\"\n",
        "file_name = \"KNOWN_all_odin_scores_OBJp1p3.txt\"\n",
        "file_path = os.path.join(folder_path, file_name)\n",
        "np.savetxt(file_path, combined_odin_scores, delimiter=',')"
      ],
      "metadata": {
        "id": "0JPmdrocF-xz"
      },
      "execution_count": null,
      "outputs": []
    },
    {
      "cell_type": "code",
      "source": [
        "import tensorflow as tf\n",
        "import numpy as np\n",
        "import matplotlib.pyplot as plt\n",
        "\n",
        "logits_layer = res_net01.layers[-2].output\n",
        "\n",
        "logits_model = tf.keras.Model(inputs=res_net01.input, outputs=logits_layer)\n",
        "\n",
        "Known_data_X_test_as_tensor = tf.convert_to_tensor(Known_data_X_test)\n",
        "NeverSeen_data_X_test_as_tensor = tf.convert_to_tensor(NeverSeen_data_X_test)\n",
        "\n",
        "known_logits = logits_model(Known_data_X_test_as_tensor)\n",
        "unknown_logits = logits_model(NeverSeen_data_X_test_as_tensor)\n",
        "\n",
        "max_known_logits = tf.reduce_max(known_logits, axis=1)\n",
        "max_unknown_logits = tf.reduce_max(unknown_logits, axis=1)\n",
        "\n",
        "def compute_openmax_scores_known(max_known_logits, alpha=1.0):\n",
        "    scores_known = tf.exp(alpha * max_known_logits) / tf.reduce_sum(tf.exp(alpha * max_known_logits))\n",
        "    return scores_known\n",
        "\n",
        "openmax_scores_known = compute_openmax_scores_known(max_known_logits)\n",
        "\n",
        "def compute_openmax_scores_unknown(max_known_logits, max_unknown_logits, alpha=1.0):\n",
        "    scores_unknown = []\n",
        "    for max_known, max_unknown in zip(max_known_logits, max_unknown_logits):\n",
        "        unknown_score = tf.exp(alpha * max_known) / (tf.exp(alpha * max_known) + tf.exp(alpha * max_unknown))\n",
        "        scores_unknown.append(unknown_score)\n",
        "    return tf.stack(scores_unknown)\n",
        "\n",
        "openmax_scores_unknown = compute_openmax_scores_unknown(max_known_logits, max_unknown_logits)\n",
        "\n",
        "openmax_scores_known = openmax_scores_known.numpy()\n",
        "openmax_scores_unknown = openmax_scores_unknown.numpy()\n",
        "\n",
        "plt.figure(figsize=(12, 4))\n",
        "\n",
        "plt.subplot(1, 2, 1)\n",
        "plt.hist(openmax_scores_known, bins=10)\n",
        "plt.xlabel('OpenMax Score')\n",
        "plt.ylabel('Frequency')\n",
        "plt.title('Histogram of OpenMax Scores for Known Data')\n",
        "\n",
        "plt.subplot(1, 2, 2)\n",
        "plt.hist(openmax_scores_unknown, bins=10)\n",
        "plt.xlabel('OpenMax Score')\n",
        "plt.ylabel('Frequency')\n",
        "plt.title('Histogram of OpenMax Scores for Unknown Data')\n",
        "\n",
        "plt.tight_layout()\n",
        "plt.show()"
      ],
      "metadata": {
        "colab": {
          "base_uri": "https://localhost:8080/",
          "height": 401
        },
        "id": "jN6kNhDByVtq",
        "outputId": "a724aff3-19bd-4a1a-e650-76b1c22b076b"
      },
      "execution_count": null,
      "outputs": [
        {
          "output_type": "display_data",
          "data": {
            "text/plain": [
              "<Figure size 1200x400 with 2 Axes>"
            ],
            "image/png": "[encoded data removed]"
          },
          "metadata": {}
        }
      ]
    },
    {
      "cell_type": "code",
      "source": [
        "plt.hist([openmax_scores_known, openmax_scores_unknown], bins=10, label=['Samples belonging to the knowns', 'Never seen before samples'])  # Specify the number of bins and labels\n",
        "\n",
        "plt.xlabel('Value of the OpenMax score')\n",
        "plt.ylabel('Frequency of occurrence')\n",
        "plt.title('Comparison of OpenMax scores, Obj., $\\mathcal{K} = p_1$, $\\mathcal{I} = p_3$')\n",
        "\n",
        "plt.legend()\n",
        "\n",
        "plt.show()"
      ],
      "metadata": {
        "colab": {
          "base_uri": "https://localhost:8080/",
          "height": 482
        },
        "id": "mfIQKwId0zIA",
        "outputId": "697c580f-b1c6-4cde-e71a-67f3fbd80ae4"
      },
      "execution_count": null,
      "outputs": [
        {
          "output_type": "display_data",
          "data": {
            "text/plain": [
              "<Figure size 640x480 with 1 Axes>"
            ],
            "image/png": "[encoded data removed]"
          },
          "metadata": {}
        }
      ]
    },
    {
      "cell_type": "code",
      "source": [
        "max(openmax_scores_known)"
      ],
      "metadata": {
        "colab": {
          "base_uri": "https://localhost:8080/"
        },
        "id": "N-nBrEfbyVwY",
        "outputId": "9e1c916e-8da4-42da-8b02-77fa7d310ed8"
      },
      "execution_count": null,
      "outputs": [
        {
          "output_type": "execute_result",
          "data": {
            "text/plain": [
              "0.3922371"
            ]
          },
          "metadata": {},
          "execution_count": 30
        }
      ]
    },
    {
      "cell_type": "code",
      "source": [
        "min(openmax_scores_unknown)"
      ],
      "metadata": {
        "colab": {
          "base_uri": "https://localhost:8080/"
        },
        "id": "l10GGVozyVzh",
        "outputId": "8c640321-dddc-4f2f-c77f-49e2cc95f3c2"
      },
      "execution_count": null,
      "outputs": [
        {
          "output_type": "execute_result",
          "data": {
            "text/plain": [
              "9.328591e-05"
            ]
          },
          "metadata": {},
          "execution_count": 31
        }
      ]
    },
    {
      "cell_type": "code",
      "source": [
        "import numpy as np\n",
        "\n",
        "openmax_scores_known_sorted = np.sort(openmax_scores_known)\n",
        "openmax_scores_unknown_sorted = np.sort(openmax_scores_unknown)\n",
        "\n",
        "min_known_score = openmax_scores_known_sorted.min()\n",
        "max_known_score = openmax_scores_known_sorted.max()\n",
        "min_unknown_score = openmax_scores_unknown_sorted.min()\n",
        "max_unknown_score = openmax_scores_unknown_sorted.max()\n",
        "\n",
        "bins = np.linspace(min(min_known_score, min_unknown_score), max(max_known_score, max_unknown_score), 1000)\n",
        "\n",
        "hist_known, _ = np.histogram(openmax_scores_known_sorted, bins)\n",
        "hist_unknown, _ = np.histogram(openmax_scores_unknown_sorted, bins)\n",
        "\n",
        "intersection = np.minimum(hist_known, hist_unknown)\n",
        "union = np.maximum(hist_known, hist_unknown)\n",
        "\n",
        "iou = np.sum(intersection) / np.sum(union) * 100\n",
        "\n",
        "print(f\"Overlap (IoU): {iou:.2f}%\")"
      ],
      "metadata": {
        "colab": {
          "base_uri": "https://localhost:8080/"
        },
        "id": "c5WsoePtyV2O",
        "outputId": "ad81048f-591c-47c4-953b-9f6ce1a83efb"
      },
      "execution_count": null,
      "outputs": [
        {
          "output_type": "stream",
          "name": "stdout",
          "text": [
            "Overlap (IoU): 2.56%\n"
          ]
        }
      ]
    },
    {
      "cell_type": "code",
      "source": [
        "import tensorflow as tf\n",
        "import numpy as np\n",
        "import matplotlib.pyplot as plt\n",
        "\n",
        "alpha = 1.0\n",
        "num_models = 20\n",
        "\n",
        "loaded_models = [res_net01, res_net02, res_net03, res_net04, res_net05, res_net06, res_net07, res_net08, res_net09, res_net10,\n",
        "                 res_net11, res_net12, res_net13, res_net14, res_net15, res_net16, res_net17, res_net18, res_net19, res_net20]\n",
        "\n",
        "openmax_scores_known = []\n",
        "openmax_scores_unknown = []\n",
        "\n",
        "Known_data_X_test_as_tensor = tf.convert_to_tensor(Known_data_X_test)\n",
        "NeverSeen_data_X_test_as_tensor = tf.convert_to_tensor(NeverSeen_data_X_test)\n",
        "\n",
        "for model in loaded_models:\n",
        "    logits_layer = model.layers[-2].output\n",
        "\n",
        "    logits_model = tf.keras.Model(inputs=model.input, outputs=logits_layer)\n",
        "\n",
        "    known_logits = logits_model(Known_data_X_test_as_tensor)\n",
        "    unknown_logits = logits_model(NeverSeen_data_X_test_as_tensor)\n",
        "\n",
        "    max_known_logits = tf.reduce_max(known_logits, axis=1)\n",
        "    max_unknown_logits = tf.reduce_max(unknown_logits, axis=1)\n",
        "\n",
        "    scores_known = tf.exp(alpha * max_known_logits) / tf.reduce_sum(tf.exp(alpha * max_known_logits))\n",
        "\n",
        "    scores_unknown = []\n",
        "    for max_known, max_unknown in zip(max_known_logits, max_unknown_logits):\n",
        "        unknown_score = tf.exp(alpha * max_known) / (tf.exp(alpha * max_known) + tf.exp(alpha * max_unknown))\n",
        "        scores_unknown.append(unknown_score)\n",
        "\n",
        "    openmax_scores_known.append(scores_known.numpy())\n",
        "    openmax_scores_unknown.append(scores_unknown)\n",
        "\n",
        "merged_openmax_scores_known = np.stack(openmax_scores_known, axis=1)\n",
        "merged_openmax_scores_unknown = np.stack(openmax_scores_unknown, axis=1)\n",
        "\n",
        "combined_openmax_scores_known = merged_openmax_scores_known.flatten()\n",
        "combined_openmax_scores_unknown = merged_openmax_scores_unknown.flatten()\n",
        "\n",
        "plt.figure(figsize=(12, 4))\n",
        "\n",
        "plt.subplot(1, 2, 1)\n",
        "plt.hist(combined_openmax_scores_known, bins=10, alpha=0.5, label=[f'Model {i+1}' for i in range(num_models)])\n",
        "plt.xlabel('OpenMax Score')\n",
        "plt.ylabel('Frequency')\n",
        "plt.title('Histogram of OpenMax Scores for Known Data')\n",
        "plt.legend()\n",
        "\n",
        "plt.subplot(1, 2, 2)\n",
        "plt.hist(combined_openmax_scores_unknown, bins=10, alpha=0.5, label=[f'Model {i+1}' for i in range(num_models)])\n",
        "plt.xlabel('OpenMax Score')\n",
        "plt.ylabel('Frequency')\n",
        "plt.title('Histogram of OpenMax Scores for Unknown Data')\n",
        "plt.legend()\n",
        "\n",
        "plt.tight_layout()\n",
        "plt.show()\n"
      ],
      "metadata": {
        "id": "yellQdsW1fba",
        "colab": {
          "base_uri": "https://localhost:8080/",
          "height": 401
        },
        "outputId": "25ccfb05-567a-4885-a339-fa062ff9e90d"
      },
      "execution_count": null,
      "outputs": [
        {
          "output_type": "display_data",
          "data": {
            "text/plain": [
              "<Figure size 1200x400 with 2 Axes>"
            ],
            "image/png": "[encoded data removed]"
          },
          "metadata": {}
        }
      ]
    },
    {
      "cell_type": "code",
      "source": [
        "np.savetxt('/content/gdrive/MyDrive/Stanford_data/OBJp1p3_combined_openmax_scores_known.txt', combined_openmax_scores_known)\n",
        "np.savetxt('/content/gdrive/MyDrive/Stanford_data/OBJp1p3_combined_openmax_scores_unknown.txt', combined_openmax_scores_unknown)\n"
      ],
      "metadata": {
        "id": "dAskl1dFuOoG"
      },
      "execution_count": null,
      "outputs": []
    },
    {
      "cell_type": "markdown",
      "source": [
        "# Computing Mahalanobis scores"
      ],
      "metadata": {
        "id": "G9aW2s_ktigt"
      }
    },
    {
      "cell_type": "code",
      "source": [
        "import numpy as np\n",
        "from scipy.spatial import distance\n",
        "import tensorflow as tf\n",
        "\n",
        "def preprocess_data(data):\n",
        "    preprocessed_data = data\n",
        "    return preprocessed_data\n",
        "\n",
        "def extract_deep_features(model, data):\n",
        "    preprocessed_data = preprocess_data(data)\n",
        "    deep_features = model.layers[-2].output\n",
        "    deep_feature_model = tf.keras.Model(inputs=model.input, outputs=deep_features)\n",
        "    extracted_features = deep_feature_model.predict(preprocessed_data)\n",
        "\n",
        "    return extracted_features\n",
        "\n",
        "deep_features_known = extract_deep_features(res_net01, Known_data_X_test)\n",
        "deep_features_unknown = extract_deep_features(res_net01, NeverSeen_data_X_test)\n",
        "\n",
        "mean_known = np.mean(deep_features_known, axis=0)\n",
        "cov_known = np.cov(deep_features_known, rowvar=False)\n",
        "\n",
        "cond_number = np.linalg.cond(cov_known)\n",
        "print(\"Condition Number of Covariance Matrix (Known Data):\", cond_number)\n",
        "\n",
        "epsilon = 1e-6\n",
        "\n",
        "if cond_number > 1 / epsilon:\n",
        "    cov_known_reg = cov_known + epsilon * np.eye(cov_known.shape[0])\n",
        "else:\n",
        "    cov_known_reg = cov_known\n",
        "\n",
        "mahalanobis_distances_known = []\n",
        "for feature in deep_features_known:\n",
        "    mahalanobis_distance = distance.mahalanobis(feature, mean_known, np.linalg.inv(cov_known_reg))\n",
        "    mahalanobis_distances_known.append(mahalanobis_distance)\n",
        "\n",
        "mahalanobis_distances_unknown = []\n",
        "for feature in deep_features_unknown:\n",
        "    mahalanobis_distance = distance.mahalanobis(feature, mean_known, np.linalg.inv(cov_known_reg))\n",
        "    mahalanobis_distances_unknown.append(mahalanobis_distance)\n",
        "\n",
        "threshold_known = 3.0\n",
        "threshold_unknown = 4.0\n",
        "\n",
        "ood_samples_known = [i for i, distance in enumerate(mahalanobis_distances_known) if distance > threshold_known]\n",
        "ood_samples_unknown = [i for i, distance in enumerate(mahalanobis_distances_unknown) if distance > threshold_unknown]\n",
        "\n",
        "plt.figure(figsize=(12, 4))\n",
        "\n",
        "plt.subplot(1, 2, 1)\n",
        "plt.hist(mahalanobis_distances_known, bins=10)\n",
        "plt.xlabel('OpenMax Score')\n",
        "plt.ylabel('Frequency')\n",
        "plt.title('Histogram of Mahalanobis Scores for Known Data')\n",
        "\n",
        "plt.subplot(1, 2, 2)\n",
        "plt.hist(mahalanobis_distances_unknown, bins=10)\n",
        "plt.xlabel('OpenMax Score')\n",
        "plt.ylabel('Frequency')\n",
        "plt.title('Histogram of Mahalanobis Scores for Unknown Data')\n",
        "\n",
        "plt.tight_layout()\n",
        "plt.show()"
      ],
      "metadata": {
        "colab": {
          "base_uri": "https://localhost:8080/"
        },
        "id": "pSYqyZCS5PMH",
        "outputId": "c53668cc-b376-4a88-a38b-fa420f0e533c"
      },
      "execution_count": null,
      "outputs": [
        {
          "output_type": "stream",
          "name": "stdout",
          "text": [
            "32/32 [==============================] - 22s 660ms/step\n",
            "32/32 [==============================] - 28s 817ms/step\n",
            "Condition Number of Covariance Matrix (Known Data): 7346.9886485343\n",
            "Out-of-Distribution Sample Indices (Known Data): [0, 1, 2, 3, 4, 5, 6, 7, 8, 9, 10, 11, 12, 13, 14, 15, 16, 17, 18, 19, 20, 21, 22, 23, 24, 25, 26, 27, 28, 29, 30, 31, 32, 33, 34, 35, 36, 37, 38, 39, 40, 41, 42, 43, 44, 45, 46, 47, 48, 49, 50, 51, 52, 53, 54, 55, 56, 57, 58, 59, 60, 61, 62, 63, 64, 65, 66, 67, 68, 69, 70, 71, 72, 73, 74, 75, 76, 77, 78, 79, 80, 81, 82, 83, 84, 85, 86, 87, 88, 89, 90, 91, 92, 93, 94, 95, 96, 97, 98, 99, 100, 101, 102, 103, 104, 105, 106, 107, 108, 109, 110, 111, 112, 113, 114, 115, 116, 117, 118, 119, 120, 121, 122, 123, 124, 125, 126, 127, 128, 129, 130, 131, 132, 133, 134, 135, 136, 137, 138, 139, 140, 141, 142, 143, 144, 145, 146, 147, 148, 149, 150, 151, 152, 153, 154, 155, 156, 157, 158, 159, 160, 161, 162, 163, 164, 165, 166, 167, 168, 169, 170, 171, 172, 173, 174, 175, 176, 177, 178, 179, 180, 181, 182, 183, 184, 185, 186, 187, 188, 189, 190, 191, 192, 193, 194, 195, 196, 197, 198, 199, 200, 201, 202, 203, 204, 205, 206, 207, 208, 209, 210, 211, 212, 213, 214, 215, 216, 217, 218, 219, 220, 221, 222, 223, 224, 225, 226, 227, 228, 229, 230, 231, 232, 233, 234, 235, 236, 237, 238, 239, 240, 241, 242, 243, 244, 245, 246, 247, 248, 249, 250, 251, 252, 253, 254, 255, 256, 257, 258, 259, 260, 261, 262, 263, 264, 265, 266, 267, 268, 269, 270, 271, 272, 273, 274, 275, 276, 277, 278, 279, 280, 281, 282, 283, 284, 285, 286, 287, 288, 289, 290, 291, 292, 293, 294, 295, 296, 297, 298, 299, 300, 301, 302, 303, 304, 305, 306, 307, 308, 309, 310, 311, 312, 313, 314, 315, 316, 317, 318, 319, 320, 321, 322, 323, 324, 325, 326, 327, 328, 329, 330, 331, 332, 333, 334, 335, 336, 337, 338, 339, 340, 341, 342, 343, 344, 345, 346, 347, 348, 349, 350, 351, 352, 353, 354, 355, 356, 357, 358, 359, 360, 361, 362, 363, 364, 365, 366, 367, 368, 369, 370, 371, 372, 373, 374, 375, 376, 377, 378, 379, 380, 381, 382, 383, 384, 385, 386, 387, 388, 389, 390, 391, 392, 393, 394, 395, 396, 397, 398, 399, 400, 401, 402, 403, 404, 405, 406, 407, 408, 409, 410, 411, 412, 413, 414, 415, 416, 417, 418, 419, 420, 421, 422, 423, 424, 425, 426, 427, 428, 429, 430, 431, 432, 433, 434, 435, 436, 437, 438, 439, 440, 441, 442, 443, 444, 445, 446, 447, 448, 449, 450, 451, 452, 453, 454, 455, 456, 457, 458, 460, 461, 462, 463, 464, 465, 466, 467, 468, 469, 470, 471, 472, 473, 474, 475, 476, 477, 478, 479, 480, 481, 482, 483, 484, 485, 486, 487, 488, 489, 490, 491, 492, 493, 494, 495, 496, 497, 498, 499, 500, 501, 502, 503, 504, 505, 506, 507, 508, 509, 510, 511, 512, 513, 514, 515, 516, 517, 518, 519, 520, 521, 522, 523, 524, 525, 526, 527, 528, 529, 530, 531, 532, 533, 534, 535, 536, 537, 538, 539, 540, 541, 542, 543, 544, 545, 546, 547, 548, 549, 550, 551, 552, 553, 554, 555, 556, 557, 558, 559, 560, 561, 562, 563, 564, 565, 566, 567, 568, 569, 570, 571, 572, 573, 574, 575, 576, 577, 578, 579, 580, 581, 582, 583, 584, 585, 586, 587, 588, 589, 590, 591, 592, 593, 594, 595, 596, 597, 598, 599, 600, 601, 602, 603, 604, 605, 606, 607, 608, 609, 610, 611, 612, 613, 614, 615, 616, 617, 618, 619, 620, 621, 622, 623, 624, 625, 626, 627, 628, 629, 630, 631, 632, 633, 634, 635, 636, 637, 638, 639, 640, 641, 642, 643, 644, 645, 646, 647, 648, 649, 650, 651, 652, 653, 654, 655, 656, 657, 658, 659, 660, 661, 662, 663, 664, 665, 666, 667, 668, 669, 670, 671, 672, 673, 674, 675, 676, 677, 678, 679, 680, 681, 682, 683, 684, 685, 686, 687, 688, 689, 690, 691, 692, 693, 694, 695, 696, 697, 698, 699, 700, 701, 702, 703, 704, 705, 706, 707, 708, 709, 710, 711, 712, 713, 714, 715, 716, 717, 718, 719, 720, 721, 722, 723, 724, 725, 726, 727, 728, 729, 730, 731, 732, 733, 734, 735, 736, 737, 738, 739, 740, 741, 742, 743, 744, 745, 746, 747, 748, 749, 750, 751, 752, 753, 754, 755, 756, 757, 758, 759, 760, 761, 762, 763, 764, 765, 766, 767, 768, 769, 770, 771, 772, 773, 774, 775, 776, 777, 778, 779, 780, 781, 782, 783, 784, 785, 786, 787, 788, 789, 790, 791, 792, 793, 794, 795, 796, 797, 798, 799, 800, 801, 802, 803, 804, 805, 806, 807, 808, 809, 810, 811, 812, 813, 814, 815, 816, 817, 818, 819, 820, 821, 822, 823, 824, 825, 826, 827, 828, 829, 830, 831, 832, 833, 834, 835, 836, 837, 838, 839, 840, 841, 842, 843, 844, 845, 846, 847, 848, 849, 850, 851, 852, 853, 854, 855, 856, 857, 858, 859, 860, 861, 862, 863, 864, 865, 866, 867, 868, 869, 870, 871, 872, 873, 874, 875, 876, 877, 878, 879, 880, 881, 882, 883, 884, 885, 886, 887, 888, 889, 890, 891, 892, 893, 894, 895, 896, 897, 898, 899, 900, 901, 902, 903, 904, 905, 906, 907, 908, 909, 910, 911, 912, 913, 914, 915, 916, 917, 918, 919, 920, 921, 922, 923, 924, 925, 926, 927, 928, 929, 930, 931, 932, 933, 934, 935, 936, 937, 938, 939, 940, 941, 942, 943, 944, 945, 946, 947, 948, 949, 950, 951, 952, 953, 954, 955, 956, 957, 958, 959, 960, 961, 962, 963, 964, 965, 966, 967, 968, 969, 970, 971, 972, 973, 974, 975, 976, 977, 978, 979, 980, 981, 982, 983, 984, 985, 986, 987, 988, 989, 990, 991, 992, 993, 994, 995, 996, 997, 998, 999]\n",
            "Out-of-Distribution Sample Indices (Unknown Data): [0, 1, 2, 3, 4, 5, 6, 9, 10, 11, 12, 14, 15, 16, 17, 18, 20, 21, 22, 23, 24, 25, 26, 27, 29, 30, 31, 32, 34, 35, 36, 38, 39, 41, 44, 45, 47, 48, 49, 51, 52, 53, 55, 56, 57, 59, 60, 61, 62, 63, 64, 65, 66, 67, 68, 69, 70, 71, 72, 73, 74, 75, 76, 77, 78, 79, 80, 81, 82, 83, 85, 86, 87, 88, 89, 90, 91, 92, 94, 95, 96, 97, 99, 122, 123, 130, 135, 137, 138, 143, 144, 150, 155, 160, 162, 165, 167, 168, 175, 177, 180, 181, 184, 186, 190, 191, 195, 197, 198, 199, 200, 201, 202, 203, 204, 205, 206, 207, 208, 209, 210, 211, 212, 213, 214, 215, 216, 217, 218, 219, 220, 221, 222, 223, 224, 225, 226, 227, 228, 229, 230, 231, 232, 233, 234, 235, 236, 237, 238, 239, 240, 241, 242, 243, 244, 245, 246, 247, 248, 249, 250, 251, 252, 253, 254, 255, 256, 257, 258, 259, 260, 261, 262, 263, 264, 265, 266, 267, 268, 269, 270, 271, 272, 273, 274, 275, 276, 277, 278, 279, 280, 281, 282, 283, 284, 285, 286, 287, 288, 289, 290, 291, 292, 293, 294, 295, 296, 297, 298, 299, 300, 301, 302, 303, 304, 305, 306, 307, 308, 309, 310, 311, 312, 313, 314, 315, 316, 317, 318, 319, 320, 321, 322, 323, 324, 325, 326, 327, 328, 329, 330, 331, 332, 333, 334, 335, 336, 337, 338, 339, 340, 341, 342, 343, 344, 345, 346, 347, 348, 349, 350, 351, 352, 353, 354, 355, 356, 357, 358, 359, 360, 361, 362, 363, 364, 365, 366, 367, 368, 369, 370, 371, 372, 373, 374, 375, 376, 377, 378, 379, 380, 381, 382, 383, 384, 385, 386, 387, 388, 389, 390, 391, 392, 393, 394, 395, 396, 397, 398, 399, 400, 401, 402, 403, 404, 405, 406, 407, 408, 409, 410, 411, 412, 413, 414, 415, 416, 417, 418, 419, 420, 421, 422, 423, 424, 425, 426, 427, 428, 429, 430, 431, 432, 433, 434, 435, 436, 437, 438, 439, 440, 441, 442, 443, 444, 445, 446, 447, 448, 449, 450, 451, 452, 453, 454, 455, 456, 457, 458, 459, 460, 461, 462, 463, 464, 465, 466, 467, 468, 469, 470, 471, 472, 473, 474, 475, 476, 477, 478, 479, 480, 481, 482, 483, 484, 485, 486, 487, 488, 489, 490, 491, 492, 493, 494, 495, 496, 497, 498, 499, 500, 501, 502, 503, 504, 505, 507, 508, 509, 510, 512, 513, 514, 518, 519, 521, 522, 523, 525, 526, 527, 528, 529, 530, 531, 532, 533, 534, 536, 537, 538, 541, 542, 544, 545, 546, 547, 548, 549, 550, 551, 552, 553, 554, 555, 557, 558, 559, 560, 561, 562, 563, 564, 565, 566, 567, 570, 571, 572, 574, 577, 578, 579, 580, 581, 582, 583, 584, 587, 590, 591, 592, 593, 594, 595, 596, 597, 598, 599, 600, 601, 602, 603, 604, 605, 606, 607, 608, 609, 610, 611, 612, 613, 614, 615, 616, 617, 618, 619, 620, 621, 622, 623, 624, 625, 626, 627, 628, 629, 630, 631, 632, 633, 634, 635, 636, 637, 638, 639, 640, 641, 642, 643, 644, 645, 646, 647, 648, 649, 650, 651, 652, 653, 654, 655, 656, 657, 658, 659, 660, 661, 662, 663, 664, 665, 666, 667, 668, 669, 670, 671, 672, 673, 674, 675, 676, 677, 678, 679, 680, 681, 682, 683, 684, 685, 686, 687, 688, 689, 690, 691, 692, 693, 694, 695, 696, 697, 698, 699, 700, 701, 702, 703, 704, 705, 706, 707, 708, 709, 710, 711, 712, 713, 715, 716, 717, 718, 719, 720, 721, 722, 723, 724, 725, 726, 727, 729, 731, 732, 733, 734, 735, 736, 737, 738, 739, 740, 741, 742, 743, 744, 745, 746, 747, 748, 749, 750, 752, 753, 754, 755, 756, 757, 758, 759, 760, 761, 762, 763, 765, 766, 767, 768, 769, 770, 771, 772, 773, 774, 775, 776, 777, 778, 779, 780, 781, 782, 783, 784, 785, 786, 787, 788, 790, 791, 793, 794, 795, 796, 797, 798, 799, 800, 801, 802, 803, 804, 805, 806, 807, 808, 809, 810, 811, 812, 813, 814, 815, 816, 817, 818, 819, 820, 821, 822, 823, 824, 825, 826, 827, 828, 829, 830, 831, 832, 833, 834, 835, 836, 837, 838, 839, 840, 841, 842, 843, 844, 845, 846, 847, 848, 849, 850, 851, 852, 853, 854, 855, 856, 857, 858, 859, 860, 861, 862, 863, 864, 865, 866, 867, 868, 869, 870, 871, 872, 873, 874, 875, 876, 877, 878, 879, 880, 881, 882, 883, 884, 885, 886, 887, 888, 889, 890, 891, 892, 893, 894, 895, 896, 897, 898, 899, 900, 903, 904, 905, 906, 909, 910, 911, 914, 915, 916, 917, 918, 919, 920, 921, 922, 923, 925, 926, 927, 928, 929, 931, 932, 933, 934, 935, 936, 938, 939, 940, 941, 942, 944, 948, 949, 950, 951, 952, 953, 955, 956, 957, 958, 960, 961, 962, 963, 964, 966, 967, 968, 969, 970, 971, 972, 973, 974, 975, 976, 977, 978, 979, 980, 984, 985, 986, 987, 988, 989, 992, 993, 994, 995, 996, 998, 999]\n"
          ]
        }
      ]
    },
    {
      "cell_type": "code",
      "source": [
        "plt.figure(figsize=(12, 4))\n",
        "\n",
        "plt.subplot(1, 2, 1)\n",
        "plt.hist(mahalanobis_distances_known, bins=10)\n",
        "plt.xlabel('OpenMax Score')\n",
        "plt.ylabel('Frequency')\n",
        "plt.title('Histogram of Mahalanobis Scores for Known Data')\n",
        "\n",
        "plt.subplot(1, 2, 2)\n",
        "plt.hist(mahalanobis_distances_unknown, bins=10)\n",
        "plt.xlabel('OpenMax Score')\n",
        "plt.ylabel('Frequency')\n",
        "plt.title('Histogram of Mahalanobis Scores for Unknown Data')\n",
        "\n",
        "plt.tight_layout()\n",
        "plt.show()"
      ],
      "metadata": {
        "colab": {
          "base_uri": "https://localhost:8080/",
          "height": 401
        },
        "id": "ml0THzer5PPJ",
        "outputId": "17531261-8c1a-415c-d0c9-e8230db96998"
      },
      "execution_count": null,
      "outputs": [
        {
          "output_type": "display_data",
          "data": {
            "text/plain": [
              "<Figure size 1200x400 with 2 Axes>"
            ],
            "image/png": "[encoded data removed]"
          },
          "metadata": {}
        }
      ]
    },
    {
      "cell_type": "markdown",
      "source": [
        "# Compute Mahalanobis scores"
      ],
      "metadata": {
        "id": "bIBCyxmoz13q"
      }
    },
    {
      "cell_type": "code",
      "source": [
        "import numpy as np\n",
        "from scipy.spatial import distance\n",
        "import tensorflow as tf\n",
        "from sklearn.decomposition import PCA\n",
        "import matplotlib.pyplot as plt\n",
        "\n",
        "def extract_deep_features(model, data):\n",
        "    preprocessed_data = preprocess_data(data)\n",
        "    deep_features = model.layers[-2].output\n",
        "    deep_feature_model = tf.keras.Model(inputs=model.input, outputs=deep_features)\n",
        "    extracted_features = deep_feature_model.predict(preprocessed_data)\n",
        "\n",
        "    return extracted_features\n",
        "\n",
        "def preprocess_data(data):\n",
        "    preprocessed_data = data\n",
        "    return preprocessed_data\n",
        "\n",
        "loaded_models = [res_net01, res_net02, res_net03, res_net04, res_net05, res_net06, res_net07, res_net08, res_net09, res_net10,\n",
        "                 res_net11, res_net12, res_net13, res_net14, res_net15, res_net16, res_net17, res_net18, res_net19, res_net20]\n",
        "\n",
        "deep_features_known_all = []\n",
        "mahalanobis_distances_known_all = []\n",
        "deep_features_unknown_all = []\n",
        "mahalanobis_distances_unknown_all = []\n",
        "\n",
        "n_components = min(deep_features_known.shape[0], deep_features_known.shape[1]) - 1\n",
        "\n",
        "for model in loaded_models:\n",
        "    deep_features_known = extract_deep_features(model, Known_data_X_test)\n",
        "    deep_features_unknown = extract_deep_features(model, NeverSeen_data_X_test)\n",
        "\n",
        "    pca = PCA(n_components=n_components)\n",
        "    deep_features_known_pca = pca.fit_transform(deep_features_known)\n",
        "    deep_features_unknown_pca = pca.transform(deep_features_unknown)\n",
        "\n",
        "    mean_known = np.mean(deep_features_known_pca, axis=0)\n",
        "    cov_known = np.cov(deep_features_known_pca, rowvar=False)\n",
        "\n",
        "    cond_number = np.linalg.cond(cov_known)\n",
        "    print(\"Condition Number of Covariance Matrix (Known Data):\", cond_number)\n",
        "\n",
        "    epsilon = 1e-5\n",
        "\n",
        "    if cond_number > 1 / epsilon:\n",
        "        cov_known_reg = cov_known + epsilon * np.eye(cov_known.shape[0])\n",
        "    else:\n",
        "        cov_known_reg = cov_known\n",
        "\n",
        "    mahalanobis_distances_known = []\n",
        "    for feature in deep_features_known_pca:\n",
        "        mahalanobis_distance = distance.mahalanobis(feature, mean_known, np.linalg.inv(cov_known_reg))\n",
        "        mahalanobis_distances_known.append(mahalanobis_distance)\n",
        "\n",
        "    mahalanobis_distances_unknown = []\n",
        "    for feature in deep_features_unknown_pca:\n",
        "        mahalanobis_distance = distance.mahalanobis(feature, mean_known, np.linalg.inv(cov_known_reg))\n",
        "        mahalanobis_distances_unknown.append(mahalanobis_distance)\n",
        "\n",
        "    deep_features_known_all.append(deep_features_known_pca)\n",
        "    mahalanobis_distances_known_all.append(mahalanobis_distances_known)\n",
        "    deep_features_unknown_all.append(deep_features_unknown_pca)\n",
        "    mahalanobis_distances_unknown_all.append(mahalanobis_distances_unknown)\n",
        "\n",
        "deep_features_known_combined = np.concatenate(deep_features_known_all, axis=-1)\n",
        "mahalanobis_distances_known_combined = np.mean(mahalanobis_distances_known_all, axis=0)\n",
        "\n",
        "deep_features_unknown_combined = np.concatenate(deep_features_unknown_all, axis=-1)\n",
        "mahalanobis_distances_unknown_combined = np.mean(mahalanobis_distances_unknown_all, axis=0)\n",
        "\n",
        "threshold_known = 3.0\n",
        "threshold_unknown = 4.0\n",
        "\n",
        "ood_samples_known = [i for i, distance in enumerate(mahalanobis_distances_known_combined) if distance > threshold_known]\n",
        "ood_samples_unknown = [i for i, distance in enumerate(mahalanobis_distances_unknown_combined) if distance > threshold_unknown]\n",
        "\n",
        "plt.figure(figsize=(12, 4))\n",
        "\n",
        "plt.subplot(1, 2, 1)\n",
        "plt.hist(mahalanobis_distances_known_combined, bins=10)\n",
        "plt.xlabel('Mahalanobis Distance')\n",
        "plt.ylabel('Frequency')\n",
        "plt.title('Histogram of Mahalanobis Scores for Known Data (Combined)')\n",
        "\n",
        "plt.subplot(1, 2, 2)\n",
        "plt.hist(mahalanobis_distances_unknown_combined, bins=10)\n",
        "plt.xlabel('Mahalanobis Distance')\n",
        "plt.ylabel('Frequency')\n",
        "plt.title('Histogram of Mahalanobis Scores for Unknown Data (Combined)')\n",
        "\n",
        "plt.tight_layout()\n",
        "plt.show()\n"
      ],
      "metadata": {
        "colab": {
          "base_uri": "https://localhost:8080/",
          "height": 1000
        },
        "id": "r7BMIN7H-63N",
        "outputId": "c7808e45-f515-462d-b4be-f29299ca1655"
      },
      "execution_count": null,
      "outputs": [
        {
          "output_type": "stream",
          "name": "stdout",
          "text": [
            "32/32 [==============================] - 15s 191ms/step\n",
            "32/32 [==============================] - 7s 196ms/step\n",
            "Condition Number of Covariance Matrix (Known Data): 4210.354144104828\n",
            "32/32 [==============================] - 7s 185ms/step\n",
            "32/32 [==============================] - 7s 181ms/step\n",
            "Condition Number of Covariance Matrix (Known Data): 31829.17944313206\n",
            "32/32 [==============================] - 7s 175ms/step\n",
            "32/32 [==============================] - 6s 164ms/step\n",
            "Condition Number of Covariance Matrix (Known Data): 1793.9365904069957\n",
            "32/32 [==============================] - 6s 164ms/step\n",
            "32/32 [==============================] - 7s 174ms/step\n",
            "Condition Number of Covariance Matrix (Known Data): 11476.583436883993\n",
            "32/32 [==============================] - 6s 167ms/step\n",
            "32/32 [==============================] - 6s 166ms/step\n",
            "Condition Number of Covariance Matrix (Known Data): 3757.2931027259515\n",
            "32/32 [==============================] - 7s 173ms/step\n",
            "32/32 [==============================] - 6s 167ms/step\n",
            "Condition Number of Covariance Matrix (Known Data): 62223.73235528017\n",
            "32/32 [==============================] - 7s 178ms/step\n",
            "32/32 [==============================] - 7s 175ms/step\n",
            "Condition Number of Covariance Matrix (Known Data): 7763.407203717358\n",
            "32/32 [==============================] - 6s 166ms/step\n",
            "32/32 [==============================] - 7s 177ms/step\n",
            "Condition Number of Covariance Matrix (Known Data): 3196.939509289904\n",
            "32/32 [==============================] - 6s 168ms/step\n",
            "32/32 [==============================] - 6s 167ms/step\n",
            "Condition Number of Covariance Matrix (Known Data): 5120.860654701309\n",
            "32/32 [==============================] - 6s 164ms/step\n",
            "32/32 [==============================] - 6s 167ms/step\n",
            "Condition Number of Covariance Matrix (Known Data): 484086.7753192045\n",
            "32/32 [==============================] - 7s 190ms/step\n",
            "32/32 [==============================] - 6s 167ms/step\n",
            "Condition Number of Covariance Matrix (Known Data): 67049971.89267973\n",
            "32/32 [==============================] - 6s 166ms/step\n",
            "32/32 [==============================] - 6s 164ms/step\n",
            "Condition Number of Covariance Matrix (Known Data): 1701.7268722791177\n",
            "32/32 [==============================] - 7s 178ms/step\n",
            "32/32 [==============================] - 7s 173ms/step\n",
            "Condition Number of Covariance Matrix (Known Data): 7741.685363578348\n",
            "32/32 [==============================] - 8s 172ms/step\n",
            "32/32 [==============================] - 7s 169ms/step\n",
            "Condition Number of Covariance Matrix (Known Data): 6722.478141110493\n",
            "32/32 [==============================] - 6s 166ms/step\n",
            "32/32 [==============================] - 6s 165ms/step\n",
            "Condition Number of Covariance Matrix (Known Data): 5031.836114618696\n",
            "32/32 [==============================] - 7s 174ms/step\n",
            "32/32 [==============================] - 7s 174ms/step\n",
            "Condition Number of Covariance Matrix (Known Data): 520435.78776512545\n",
            "32/32 [==============================] - 6s 167ms/step\n",
            "32/32 [==============================] - 6s 166ms/step\n",
            "Condition Number of Covariance Matrix (Known Data): 7417.282927675833\n",
            "32/32 [==============================] - 6s 163ms/step\n",
            "32/32 [==============================] - 7s 175ms/step\n",
            "Condition Number of Covariance Matrix (Known Data): 3147.4041253770474\n",
            "32/32 [==============================] - 6s 163ms/step\n",
            "32/32 [==============================] - 7s 177ms/step\n",
            "Condition Number of Covariance Matrix (Known Data): 14688.235539184767\n",
            "32/32 [==============================] - 7s 183ms/step\n",
            "32/32 [==============================] - 6s 168ms/step\n",
            "Condition Number of Covariance Matrix (Known Data): 17607588691094.336\n"
          ]
        },
        {
          "output_type": "display_data",
          "data": {
            "text/plain": [
              "<Figure size 1200x400 with 2 Axes>"
            ],
            "image/png": "[encoded data removed]"
          },
          "metadata": {}
        }
      ]
    },
    {
      "cell_type": "code",
      "source": [
        "np.savetxt(f'{folder_path}/mahalanobis_distances_known_combined_OBJp1p3.txt', mahalanobis_distances_known_combined)\n",
        "np.savetxt(f'{folder_path}/mahalanobis_distances_unknown_combined_OBJp1p3.txt', mahalanobis_distances_unknown_combined)\n"
      ],
      "metadata": {
        "id": "PzPjTLqB-65x"
      },
      "execution_count": null,
      "outputs": []
    },
    {
      "cell_type": "code",
      "source": [
        "plt.hist([mahalanobis_distances_known, mahalanobis_distances_unknown], bins=25, label=['Samples belonging to the knowns', 'Never seen before samples'])  # Specify the number of bins and labels\n",
        "plt.xlim(2.5, 15)\n",
        "\n",
        "plt.xlabel('Value of the Mahalanobis score')\n",
        "plt.ylabel('Frequency of occurrence')\n",
        "plt.title('Comparison of Mahalanobis scores, Obj., $\\mathcal{K} = p_1$, $\\mathcal{I} = p_3$')\n",
        "\n",
        "plt.legend()\n",
        "\n",
        "plt.show()"
      ],
      "metadata": {
        "colab": {
          "base_uri": "https://localhost:8080/",
          "height": 482
        },
        "id": "RlgL09fo5PRy",
        "outputId": "20075b05-b264-4ac7-ecc6-7cb0e937252a"
      },
      "execution_count": null,
      "outputs": [
        {
          "output_type": "display_data",
          "data": {
            "text/plain": [
              "<Figure size 640x480 with 1 Axes>"
            ],
            "image/png": "[encoded data removed]"
          },
          "metadata": {}
        }
      ]
    },
    {
      "cell_type": "code",
      "source": [
        "import numpy as np\n",
        "\n",
        "mahalanobis_scores_known_sorted = np.sort(mahalanobis_distances_known)\n",
        "mahalanobis_scores_unknown_sorted = np.sort(mahalanobis_distances_unknown)\n",
        "\n",
        "min_known_score = mahalanobis_scores_known_sorted.min()\n",
        "max_known_score = mahalanobis_scores_known_sorted.max()\n",
        "min_unknown_score = mahalanobis_scores_unknown_sorted.min()\n",
        "max_unknown_score = mahalanobis_scores_unknown_sorted.max()\n",
        "\n",
        "bins = np.linspace(min(min_known_score, min_unknown_score), max(max_known_score, max_unknown_score), 1000)\n",
        "\n",
        "hist_known, _ = np.histogram(mahalanobis_scores_known_sorted, bins)\n",
        "hist_unknown, _ = np.histogram(mahalanobis_scores_unknown_sorted, bins)\n",
        "\n",
        "intersection = np.minimum(hist_known, hist_unknown)\n",
        "union = np.maximum(hist_known, hist_unknown)\n",
        "\n",
        "iou = np.sum(intersection) / np.sum(union) * 100\n",
        "\n",
        "print(f\"Overlap (IoU): {iou:.2f}%\")"
      ],
      "metadata": {
        "colab": {
          "base_uri": "https://localhost:8080/"
        },
        "id": "I8Xxqpvr5PUV",
        "outputId": "a5eb6a7d-49e9-47f8-f97e-2afc91d81b8b"
      },
      "execution_count": null,
      "outputs": [
        {
          "output_type": "stream",
          "name": "stdout",
          "text": [
            "Overlap (IoU): 32.89%\n"
          ]
        }
      ]
    },
    {
      "cell_type": "code",
      "source": [
        "import matplotlib.pyplot as plt\n",
        "\n",
        "fig, axs = plt.subplots(3, 1, figsize=(8, 12))\n",
        "\n",
        "axs[0].hist([odin_scores_KNOWN, odin_scores_UN_KNOWN], bins=10, label=['Samples belonging to the knowns', 'Never seen before samples'])\n",
        "axs[0].set_xlabel('Value of the ODIN score')\n",
        "axs[0].set_ylabel('Frequency of occurrence')\n",
        "axs[0].set_title('Comparison of ODIN scores, Obj., $\\mathcal{K} = p_1$, $\\mathcal{I} = p_3$')\n",
        "axs[0].legend()\n",
        "\n",
        "axs[1].hist([openmax_scores_known, openmax_scores_unknown], bins=10, label=['Samples belonging to the knowns', 'Never seen before samples'])\n",
        "axs[1].set_xlabel('Value of the OpenMax score')\n",
        "axs[1].set_ylabel('Frequency of occurrence')\n",
        "axs[1].set_title('Comparison of OpenMax scores, Obj., $\\mathcal{K} = p_1$, $\\mathcal{I} = p_3$')\n",
        "axs[1].legend()\n",
        "\n",
        "axs[2].hist([mahalanobis_distances_known, mahalanobis_distances_unknown], bins=25, label=['Samples belonging to the knowns', 'Never seen before samples'])\n",
        "axs[2].set_xlabel('Value of the Mahalanobis score')\n",
        "axs[2].set_ylabel('Frequency of occurrence')\n",
        "axs[2].set_title('Comparison of Mahalanobis scores, Obj., $\\mathcal{K} = p_1$, $\\mathcal{I} = p_3$')\n",
        "axs[2].legend()\n",
        "\n",
        "plt.tight_layout()\n",
        "\n",
        "plt.show()\n"
      ],
      "metadata": {
        "colab": {
          "base_uri": "https://localhost:8080/",
          "height": 1000
        },
        "id": "OuSPZIJdF49F",
        "outputId": "55ffd4aa-4561-484d-94a0-6cba6008f5ed"
      },
      "execution_count": null,
      "outputs": [
        {
          "output_type": "display_data",
          "data": {
            "text/plain": [
              "<Figure size 800x1200 with 3 Axes>"
            ],
            "image/png": "[encoded data removed]"
          },
          "metadata": {}
        }
      ]
    },
    {
      "cell_type": "code",
      "source": [
        "import matplotlib.pyplot as plt\n",
        "\n",
        "fig, axs = plt.subplots(1, 3, figsize=(18, 6))\n",
        "\n",
        "axs[0].hist([odin_scores_KNOWN, odin_scores_UN_KNOWN], bins=10, label=['Samples belonging to the knowns', 'Never seen before samples'])\n",
        "axs[0].set_xlabel('Value of the ODIN score')\n",
        "axs[0].set_ylabel('Frequency of occurrence')\n",
        "axs[0].set_title('Comparison of ODIN scores, Obj.class, $\\mathcal{K} = p_1$, $\\mathcal{I} = p_3$')\n",
        "axs[0].legend()\n",
        "\n",
        "axs[1].hist([openmax_scores_known, openmax_scores_unknown], bins=10, label=['Samples belonging to the knowns', 'Never seen before samples'])\n",
        "axs[1].set_xlabel('Value of the OpenMax score')\n",
        "axs[1].set_ylabel('Frequency of occurrence')\n",
        "axs[1].set_title('Comparison of OpenMax scores, Obj., $\\mathcal{K} = p_1$, $\\mathcal{I} = p_3$')\n",
        "axs[1].legend()\n",
        "\n",
        "axs[2].hist([mahalanobis_distances_known, mahalanobis_distances_unknown], bins=25, label=['Samples belonging to the knowns', 'Never seen before samples'])\n",
        "axs[2].set_xlabel('Value of the Mahalanobis score')\n",
        "axs[2].set_ylabel('Frequency of occurrence')\n",
        "axs[2].set_title('Comparison of Mahalanobis scores, Obj., $\\mathcal{K} = p_1$, $\\mathcal{I} = p_3$')\n",
        "axs[2].legend()\n",
        "\n",
        "plt.tight_layout()\n",
        "\n",
        "plt.show()\n"
      ],
      "metadata": {
        "colab": {
          "base_uri": "https://localhost:8080/",
          "height": 537
        },
        "id": "zGqgXKZVF5AR",
        "outputId": "02c1d9dc-9226-4fc4-e4a0-cb6ccf25d35f"
      },
      "execution_count": null,
      "outputs": [
        {
          "output_type": "display_data",
          "data": {
            "text/plain": [
              "<Figure size 1800x600 with 3 Axes>"
            ],
            "image/png": "[encoded data removed]"
          },
          "metadata": {}
        }
      ]
    },
    {
      "cell_type": "markdown",
      "source": [
        "# Separating $\\mathcal{K}$ and $\\mathcal{N}$ by a fixed (class-independendent) threshold"
      ],
      "metadata": {
        "id": "E3Pq2KqHYYgM"
      }
    },
    {
      "cell_type": "code",
      "source": [
        "prediction_known = prediction_known_ensemble_3\n",
        "prediction_unknown = prediction_unknown_ensemble_3"
      ],
      "metadata": {
        "id": "yZfHJkznZ4Lq"
      },
      "execution_count": null,
      "outputs": []
    },
    {
      "cell_type": "code",
      "source": [
        "def thresholding(threshold):\n",
        "  true = 0\n",
        "  for i in range(prediction_known.shape[0]):\n",
        "    if prediction_known.argmax(axis=1)[i] == Known_data_X_test_label_int[i] and max(prediction_known[i]) > threshold:\n",
        "      true += 1\n",
        "  return true/(prediction_known.shape[0])"
      ],
      "metadata": {
        "id": "HA75xLuUGNca"
      },
      "execution_count": null,
      "outputs": []
    },
    {
      "cell_type": "code",
      "execution_count": null,
      "metadata": {
        "id": "SW6PGNX72bky",
        "colab": {
          "base_uri": "https://localhost:8080/"
        },
        "outputId": "9892c50d-7238-4396-bde3-ef8edd34440b"
      },
      "outputs": [
        {
          "output_type": "execute_result",
          "data": {
            "text/plain": [
              "[[0.1, 89.0],\n",
              " [0.11, 88.9],\n",
              " [0.12000000000000001, 88.9],\n",
              " [0.13, 88.9],\n",
              " [0.14, 88.9],\n",
              " [0.15000000000000002, 88.8],\n",
              " [0.16, 88.7],\n",
              " [0.17, 88.6],\n",
              " [0.18, 88.5],\n",
              " [0.19, 88.4],\n",
              " [0.2, 88.3],\n",
              " [0.21000000000000002, 88.1],\n",
              " [0.22, 88.0],\n",
              " [0.23, 87.8],\n",
              " [0.24000000000000002, 87.7],\n",
              " [0.25, 87.6],\n",
              " [0.26, 87.6],\n",
              " [0.27, 87.6],\n",
              " [0.28, 87.5],\n",
              " [0.29000000000000004, 87.3],\n",
              " [0.30000000000000004, 87.3],\n",
              " [0.31, 87.3],\n",
              " [0.32, 87.2],\n",
              " [0.33, 87.1],\n",
              " [0.33999999999999997, 87.1],\n",
              " [0.35, 87.1],\n",
              " [0.36, 86.7],\n",
              " [0.37, 86.5],\n",
              " [0.38, 86.2],\n",
              " [0.39, 86.2],\n",
              " [0.4, 86.1],\n",
              " [0.41000000000000003, 85.9],\n",
              " [0.42000000000000004, 85.8],\n",
              " [0.43000000000000005, 85.6],\n",
              " [0.44000000000000006, 85.39999999999999],\n",
              " [0.45000000000000007, 85.3],\n",
              " [0.45999999999999996, 85.1],\n",
              " [0.47, 85.0],\n",
              " [0.48, 84.7],\n",
              " [0.49, 84.7],\n",
              " [0.5, 84.5],\n",
              " [0.51, 84.39999999999999],\n",
              " [0.52, 84.0],\n",
              " [0.53, 83.89999999999999],\n",
              " [0.54, 83.6],\n",
              " [0.55, 83.5],\n",
              " [0.56, 83.5],\n",
              " [0.5700000000000001, 83.39999999999999],\n",
              " [0.58, 83.2],\n",
              " [0.59, 82.8],\n",
              " [0.6, 82.6],\n",
              " [0.61, 82.39999999999999],\n",
              " [0.62, 82.3],\n",
              " [0.63, 82.1],\n",
              " [0.64, 81.3],\n",
              " [0.65, 81.10000000000001],\n",
              " [0.66, 80.7],\n",
              " [0.67, 80.60000000000001],\n",
              " [0.6799999999999999, 80.0],\n",
              " [0.69, 79.9],\n",
              " [0.7, 79.5],\n",
              " [0.71, 78.9],\n",
              " [0.72, 78.7],\n",
              " [0.73, 77.9],\n",
              " [0.74, 77.60000000000001],\n",
              " [0.75, 77.2],\n",
              " [0.76, 76.8],\n",
              " [0.77, 76.5],\n",
              " [0.78, 75.7],\n",
              " [0.79, 75.4],\n",
              " [0.8, 74.8],\n",
              " [0.8099999999999999, 74.5],\n",
              " [0.82, 73.6],\n",
              " [0.83, 73.4],\n",
              " [0.84, 73.0],\n",
              " [0.85, 72.3],\n",
              " [0.86, 71.8],\n",
              " [0.87, 71.3],\n",
              " [0.88, 70.8],\n",
              " [0.89, 69.6],\n",
              " [0.9, 68.60000000000001],\n",
              " [0.91, 67.60000000000001],\n",
              " [0.92, 66.2],\n",
              " [0.93, 65.3],\n",
              " [0.94, 64.2],\n",
              " [0.95, 63.0],\n",
              " [0.96, 61.5],\n",
              " [0.97, 59.3],\n",
              " [0.98, 56.49999999999999],\n",
              " [0.99, 51.7],\n",
              " [0.99, 51.7],\n",
              " [0.991, 50.7],\n",
              " [0.992, 49.5],\n",
              " [0.993, 48.199999999999996],\n",
              " [0.994, 46.9],\n",
              " [0.995, 45.300000000000004],\n",
              " [0.996, 44.4],\n",
              " [0.997, 42.3],\n",
              " [0.998, 39.0],\n",
              " [0.999, 36.3]]"
            ]
          },
          "metadata": {},
          "execution_count": 320
        }
      ],
      "source": [
        "CorrectThresholding = []\n",
        "for i in range(90):\n",
        "  CorrectThresholding.append([0.1 + 0.01*i,100*thresholding(0.1 + 0.01*i)])\n",
        "for i in range(10):\n",
        "  CorrectThresholding.append([0.99 + 0.001*i,100*thresholding(0.99 + 0.001*i)])\n",
        "CorrectThresholding"
      ]
    },
    {
      "cell_type": "code",
      "source": [
        "def false_identify(threshold):\n",
        "  false_identify = 0\n",
        "  for i in range(prediction_known.shape[0]):\n",
        "    if prediction_known.argmax(axis=1)[i] != Known_data_X_test_label_int[i] and max(prediction_known[i]) > threshold:\n",
        "      false_identify += 1\n",
        "  return false_identify/(prediction_known.shape[0])"
      ],
      "metadata": {
        "id": "Vn2lRWxDM4G4"
      },
      "execution_count": null,
      "outputs": []
    },
    {
      "cell_type": "code",
      "source": [
        "FalseIdentify = []\n",
        "for i in range(90):\n",
        "  FalseIdentify.append([0.1 + 0.01*i,100*false_identify(0.1 + 0.01*i)])\n",
        "for i in range(10):\n",
        "  FalseIdentify.append([0.99 + 0.001*i,100*false_identify(0.99 + 0.001*i)])\n",
        "FalseIdentify"
      ],
      "metadata": {
        "id": "M753dWrlM4Km",
        "colab": {
          "base_uri": "https://localhost:8080/"
        },
        "outputId": "078f02c9-80be-4fa7-887c-b6e011676ab3"
      },
      "execution_count": null,
      "outputs": [
        {
          "output_type": "execute_result",
          "data": {
            "text/plain": [
              "[[0.1, 11.0],\n",
              " [0.11, 10.6],\n",
              " [0.12000000000000001, 10.5],\n",
              " [0.13, 10.4],\n",
              " [0.14, 10.4],\n",
              " [0.15000000000000002, 10.4],\n",
              " [0.16, 10.4],\n",
              " [0.17, 10.299999999999999],\n",
              " [0.18, 10.299999999999999],\n",
              " [0.19, 10.2],\n",
              " [0.2, 10.100000000000001],\n",
              " [0.21000000000000002, 9.9],\n",
              " [0.22, 9.9],\n",
              " [0.23, 9.9],\n",
              " [0.24000000000000002, 9.8],\n",
              " [0.25, 9.8],\n",
              " [0.26, 9.8],\n",
              " [0.27, 9.8],\n",
              " [0.28, 9.700000000000001],\n",
              " [0.29000000000000004, 9.700000000000001],\n",
              " [0.30000000000000004, 9.700000000000001],\n",
              " [0.31, 9.700000000000001],\n",
              " [0.32, 9.6],\n",
              " [0.33, 9.6],\n",
              " [0.33999999999999997, 9.6],\n",
              " [0.35, 9.6],\n",
              " [0.36, 9.5],\n",
              " [0.37, 9.3],\n",
              " [0.38, 9.3],\n",
              " [0.39, 9.0],\n",
              " [0.4, 8.799999999999999],\n",
              " [0.41000000000000003, 8.6],\n",
              " [0.42000000000000004, 8.4],\n",
              " [0.43000000000000005, 8.4],\n",
              " [0.44000000000000006, 8.3],\n",
              " [0.45000000000000007, 8.200000000000001],\n",
              " [0.45999999999999996, 8.0],\n",
              " [0.47, 7.8],\n",
              " [0.48, 7.8],\n",
              " [0.49, 7.8],\n",
              " [0.5, 7.5],\n",
              " [0.51, 7.5],\n",
              " [0.52, 7.3999999999999995],\n",
              " [0.53, 7.3],\n",
              " [0.54, 7.199999999999999],\n",
              " [0.55, 6.9],\n",
              " [0.56, 6.800000000000001],\n",
              " [0.5700000000000001, 6.7],\n",
              " [0.58, 6.5],\n",
              " [0.59, 6.3],\n",
              " [0.6, 6.2],\n",
              " [0.61, 5.7],\n",
              " [0.62, 5.5],\n",
              " [0.63, 5.4],\n",
              " [0.64, 5.3],\n",
              " [0.65, 5.0],\n",
              " [0.66, 4.7],\n",
              " [0.67, 4.7],\n",
              " [0.6799999999999999, 4.6],\n",
              " [0.69, 4.6],\n",
              " [0.7, 4.3999999999999995],\n",
              " [0.71, 4.3],\n",
              " [0.72, 4.3],\n",
              " [0.73, 4.2],\n",
              " [0.74, 4.0],\n",
              " [0.75, 4.0],\n",
              " [0.76, 3.8],\n",
              " [0.77, 3.5999999999999996],\n",
              " [0.78, 3.4000000000000004],\n",
              " [0.79, 3.1],\n",
              " [0.8, 2.9000000000000004],\n",
              " [0.8099999999999999, 2.8000000000000003],\n",
              " [0.82, 2.7],\n",
              " [0.83, 2.5],\n",
              " [0.84, 2.5],\n",
              " [0.85, 2.4],\n",
              " [0.86, 2.4],\n",
              " [0.87, 2.3],\n",
              " [0.88, 2.3],\n",
              " [0.89, 2.3],\n",
              " [0.9, 2.1999999999999997],\n",
              " [0.91, 2.1],\n",
              " [0.92, 2.0],\n",
              " [0.93, 1.9],\n",
              " [0.94, 1.6],\n",
              " [0.95, 1.2],\n",
              " [0.96, 1.0999999999999999],\n",
              " [0.97, 0.8],\n",
              " [0.98, 0.5],\n",
              " [0.99, 0.2],\n",
              " [0.99, 0.2],\n",
              " [0.991, 0.2],\n",
              " [0.992, 0.2],\n",
              " [0.993, 0.2],\n",
              " [0.994, 0.1],\n",
              " [0.995, 0.0],\n",
              " [0.996, 0.0],\n",
              " [0.997, 0.0],\n",
              " [0.998, 0.0],\n",
              " [0.999, 0.0]]"
            ]
          },
          "metadata": {},
          "execution_count": 322
        }
      ]
    },
    {
      "cell_type": "code",
      "source": [
        "def misclassifyunknown(threshold):\n",
        "  misclassifyunknown = 0\n",
        "  for i in range(prediction_unknown.shape[0]):\n",
        "    if max(prediction_unknown[i]) > threshold:\n",
        "      misclassifyunknown += 1\n",
        "  return misclassifyunknown/(prediction_unknown.shape[0])"
      ],
      "metadata": {
        "id": "InSYYnV1M4Of"
      },
      "execution_count": null,
      "outputs": []
    },
    {
      "cell_type": "code",
      "source": [
        "UnknownMisclassify = []\n",
        "for i in range(90):\n",
        "  UnknownMisclassify.append([0.1 + 0.01*i,100*misclassifyunknown(0.1 + 0.01*i)])\n",
        "for i in range(10):\n",
        "  UnknownMisclassify.append([0.99 + 0.001*i,100*misclassifyunknown(0.99 + 0.001*i)])\n",
        "UnknownMisclassify"
      ],
      "metadata": {
        "id": "jKdfbnzZM4ST",
        "colab": {
          "base_uri": "https://localhost:8080/"
        },
        "outputId": "ddd855ee-c48b-4983-e30f-9884382c3ca9"
      },
      "execution_count": null,
      "outputs": [
        {
          "output_type": "execute_result",
          "data": {
            "text/plain": [
              "[[0.1, 100.0],\n",
              " [0.11, 84.6],\n",
              " [0.12000000000000001, 75.7],\n",
              " [0.13, 71.89999999999999],\n",
              " [0.14, 70.1],\n",
              " [0.15000000000000002, 69.0],\n",
              " [0.16, 68.2],\n",
              " [0.17, 67.5],\n",
              " [0.18, 66.4],\n",
              " [0.19, 65.7],\n",
              " [0.2, 64.3],\n",
              " [0.21000000000000002, 63.9],\n",
              " [0.22, 63.1],\n",
              " [0.23, 62.3],\n",
              " [0.24000000000000002, 61.9],\n",
              " [0.25, 60.8],\n",
              " [0.26, 60.4],\n",
              " [0.27, 59.699999999999996],\n",
              " [0.28, 59.0],\n",
              " [0.29000000000000004, 58.199999999999996],\n",
              " [0.30000000000000004, 57.49999999999999],\n",
              " [0.31, 57.099999999999994],\n",
              " [0.32, 56.3],\n",
              " [0.33, 56.10000000000001],\n",
              " [0.33999999999999997, 55.7],\n",
              " [0.35, 55.00000000000001],\n",
              " [0.36, 54.800000000000004],\n",
              " [0.37, 54.1],\n",
              " [0.38, 53.800000000000004],\n",
              " [0.39, 53.1],\n",
              " [0.4, 52.900000000000006],\n",
              " [0.41000000000000003, 52.5],\n",
              " [0.42000000000000004, 52.0],\n",
              " [0.43000000000000005, 51.6],\n",
              " [0.44000000000000006, 51.2],\n",
              " [0.45000000000000007, 50.9],\n",
              " [0.45999999999999996, 50.4],\n",
              " [0.47, 50.0],\n",
              " [0.48, 49.7],\n",
              " [0.49, 49.3],\n",
              " [0.5, 48.5],\n",
              " [0.51, 48.3],\n",
              " [0.52, 47.9],\n",
              " [0.53, 47.5],\n",
              " [0.54, 47.0],\n",
              " [0.55, 46.400000000000006],\n",
              " [0.56, 45.800000000000004],\n",
              " [0.5700000000000001, 44.6],\n",
              " [0.58, 44.2],\n",
              " [0.59, 43.5],\n",
              " [0.6, 42.6],\n",
              " [0.61, 42.0],\n",
              " [0.62, 41.199999999999996],\n",
              " [0.63, 40.400000000000006],\n",
              " [0.64, 40.2],\n",
              " [0.65, 39.900000000000006],\n",
              " [0.66, 39.2],\n",
              " [0.67, 38.4],\n",
              " [0.6799999999999999, 37.1],\n",
              " [0.69, 36.3],\n",
              " [0.7, 35.699999999999996],\n",
              " [0.71, 35.199999999999996],\n",
              " [0.72, 34.599999999999994],\n",
              " [0.73, 34.300000000000004],\n",
              " [0.74, 33.0],\n",
              " [0.75, 32.5],\n",
              " [0.76, 32.0],\n",
              " [0.77, 31.5],\n",
              " [0.78, 30.5],\n",
              " [0.79, 29.599999999999998],\n",
              " [0.8, 29.099999999999998],\n",
              " [0.8099999999999999, 28.7],\n",
              " [0.82, 28.000000000000004],\n",
              " [0.83, 27.6],\n",
              " [0.84, 26.8],\n",
              " [0.85, 26.200000000000003],\n",
              " [0.86, 25.6],\n",
              " [0.87, 25.1],\n",
              " [0.88, 24.0],\n",
              " [0.89, 23.200000000000003],\n",
              " [0.9, 21.9],\n",
              " [0.91, 21.2],\n",
              " [0.92, 20.1],\n",
              " [0.93, 19.3],\n",
              " [0.94, 18.5],\n",
              " [0.95, 17.8],\n",
              " [0.96, 16.1],\n",
              " [0.97, 15.1],\n",
              " [0.98, 12.8],\n",
              " [0.99, 10.2],\n",
              " [0.99, 10.2],\n",
              " [0.991, 9.9],\n",
              " [0.992, 9.4],\n",
              " [0.993, 8.6],\n",
              " [0.994, 8.3],\n",
              " [0.995, 7.7],\n",
              " [0.996, 7.3999999999999995],\n",
              " [0.997, 6.7],\n",
              " [0.998, 5.3],\n",
              " [0.999, 3.9]]"
            ]
          },
          "metadata": {},
          "execution_count": 324
        }
      ]
    },
    {
      "cell_type": "code",
      "source": [
        "def dontknow(threshold):\n",
        "  notknown = 0\n",
        "  for i in range(prediction_known.shape[0]):\n",
        "    if max(prediction_known[i]) <= threshold:\n",
        "      notknown += 1\n",
        "  return notknown/(prediction_known.shape[0])"
      ],
      "metadata": {
        "id": "RXvKcD4fM4VD"
      },
      "execution_count": null,
      "outputs": []
    },
    {
      "cell_type": "code",
      "execution_count": null,
      "metadata": {
        "id": "mWInVYNk2bml",
        "colab": {
          "base_uri": "https://localhost:8080/"
        },
        "outputId": "700e0d7e-ae81-4682-a8c8-09879b2e1433"
      },
      "outputs": [
        {
          "output_type": "execute_result",
          "data": {
            "text/plain": [
              "[[0.1, 0.0],\n",
              " [0.11, 0.5],\n",
              " [0.12000000000000001, 0.6],\n",
              " [0.13, 0.7000000000000001],\n",
              " [0.14, 0.7000000000000001],\n",
              " [0.15000000000000002, 0.8],\n",
              " [0.16, 0.8999999999999999],\n",
              " [0.17, 1.0999999999999999],\n",
              " [0.18, 1.2],\n",
              " [0.19, 1.4000000000000001],\n",
              " [0.2, 1.6],\n",
              " [0.21000000000000002, 2.0],\n",
              " [0.22, 2.1],\n",
              " [0.23, 2.3],\n",
              " [0.24000000000000002, 2.5],\n",
              " [0.25, 2.6],\n",
              " [0.26, 2.6],\n",
              " [0.27, 2.6],\n",
              " [0.28, 2.8000000000000003],\n",
              " [0.29000000000000004, 3.0],\n",
              " [0.30000000000000004, 3.0],\n",
              " [0.31, 3.0],\n",
              " [0.32, 3.2],\n",
              " [0.33, 3.3000000000000003],\n",
              " [0.33999999999999997, 3.3000000000000003],\n",
              " [0.35, 3.3000000000000003],\n",
              " [0.36, 3.8],\n",
              " [0.37, 4.2],\n",
              " [0.38, 4.5],\n",
              " [0.39, 4.8],\n",
              " [0.4, 5.1],\n",
              " [0.41000000000000003, 5.5],\n",
              " [0.42000000000000004, 5.800000000000001],\n",
              " [0.43000000000000005, 6.0],\n",
              " [0.44000000000000006, 6.3],\n",
              " [0.45000000000000007, 6.5],\n",
              " [0.45999999999999996, 6.9],\n",
              " [0.47, 7.199999999999999],\n",
              " [0.48, 7.5],\n",
              " [0.49, 7.5],\n",
              " [0.5, 8.0],\n",
              " [0.51, 8.1],\n",
              " [0.52, 8.6],\n",
              " [0.53, 8.799999999999999],\n",
              " [0.54, 9.2],\n",
              " [0.55, 9.6],\n",
              " [0.56, 9.700000000000001],\n",
              " [0.5700000000000001, 9.9],\n",
              " [0.58, 10.299999999999999],\n",
              " [0.59, 10.9],\n",
              " [0.6, 11.200000000000001],\n",
              " [0.61, 11.899999999999999],\n",
              " [0.62, 12.2],\n",
              " [0.63, 12.5],\n",
              " [0.64, 13.4],\n",
              " [0.65, 13.900000000000002],\n",
              " [0.66, 14.6],\n",
              " [0.67, 14.7],\n",
              " [0.6799999999999999, 15.4],\n",
              " [0.69, 15.5],\n",
              " [0.7, 16.1],\n",
              " [0.71, 16.8],\n",
              " [0.72, 17.0],\n",
              " [0.73, 17.9],\n",
              " [0.74, 18.4],\n",
              " [0.75, 18.8],\n",
              " [0.76, 19.400000000000002],\n",
              " [0.77, 19.900000000000002],\n",
              " [0.78, 20.9],\n",
              " [0.79, 21.5],\n",
              " [0.8, 22.3],\n",
              " [0.8099999999999999, 22.7],\n",
              " [0.82, 23.7],\n",
              " [0.83, 24.099999999999998],\n",
              " [0.84, 24.5],\n",
              " [0.85, 25.3],\n",
              " [0.86, 25.8],\n",
              " [0.87, 26.400000000000002],\n",
              " [0.88, 26.900000000000002],\n",
              " [0.89, 28.1],\n",
              " [0.9, 29.2],\n",
              " [0.91, 30.3],\n",
              " [0.92, 31.8],\n",
              " [0.93, 32.800000000000004],\n",
              " [0.94, 34.2],\n",
              " [0.95, 35.8],\n",
              " [0.96, 37.4],\n",
              " [0.97, 39.900000000000006],\n",
              " [0.98, 43.0],\n",
              " [0.99, 48.1],\n",
              " [0.99, 48.1],\n",
              " [0.991, 49.1],\n",
              " [0.992, 50.3],\n",
              " [0.993, 51.6],\n",
              " [0.994, 53.0],\n",
              " [0.995, 54.7],\n",
              " [0.996, 55.60000000000001],\n",
              " [0.997, 57.699999999999996],\n",
              " [0.998, 61.0],\n",
              " [0.999, 63.7]]"
            ]
          },
          "metadata": {},
          "execution_count": 326
        }
      ],
      "source": [
        "DontKnowThresholding = []\n",
        "for i in range(90):\n",
        "  DontKnowThresholding.append([0.1 + 0.01*i,100*dontknow(0.1 + 0.01*i)])\n",
        "for i in range(10):\n",
        "  DontKnowThresholding.append([0.99 + 0.001*i,100*dontknow(0.99 + 0.001*i)])\n",
        "DontKnowThresholding"
      ]
    },
    {
      "cell_type": "code",
      "source": [
        "aligned_array = [element for row in prediction_unknown for element in row]\n",
        "max_value = max(aligned_array)\n",
        "print(\"The maximum value in the aligned array is:\", max_value)\n"
      ],
      "metadata": {
        "id": "whvlD7tVNOew",
        "colab": {
          "base_uri": "https://localhost:8080/"
        },
        "outputId": "46c85ae3-c550-439b-caf0-76cce9bb409e"
      },
      "execution_count": null,
      "outputs": [
        {
          "output_type": "stream",
          "name": "stdout",
          "text": [
            "The maximum value in the aligned array is: 0.9999789\n"
          ]
        }
      ]
    },
    {
      "cell_type": "code",
      "source": [
        "thresholding(max_value)"
      ],
      "metadata": {
        "colab": {
          "base_uri": "https://localhost:8080/"
        },
        "id": "lQT16bp2f4xV",
        "outputId": "879e9caf-aab0-4abd-8612-2127bc69a4b3"
      },
      "execution_count": null,
      "outputs": [
        {
          "output_type": "execute_result",
          "data": {
            "text/plain": [
              "0.14"
            ]
          },
          "metadata": {},
          "execution_count": 328
        }
      ]
    },
    {
      "cell_type": "code",
      "source": [
        "dontknow(max_value)"
      ],
      "metadata": {
        "colab": {
          "base_uri": "https://localhost:8080/"
        },
        "id": "bb8_5G4-hP8l",
        "outputId": "e3043d0b-7e9f-4d8d-d2e7-d0f90cca6c8c"
      },
      "execution_count": null,
      "outputs": [
        {
          "output_type": "execute_result",
          "data": {
            "text/plain": [
              "0.86"
            ]
          },
          "metadata": {},
          "execution_count": 329
        }
      ]
    },
    {
      "cell_type": "code",
      "source": [
        "misclassifyunknown(max_value)"
      ],
      "metadata": {
        "colab": {
          "base_uri": "https://localhost:8080/"
        },
        "id": "FjStdK4hhS8K",
        "outputId": "e0c7cb4e-e326-4f57-b34a-652153ace0b5"
      },
      "execution_count": null,
      "outputs": [
        {
          "output_type": "execute_result",
          "data": {
            "text/plain": [
              "0.0"
            ]
          },
          "metadata": {},
          "execution_count": 330
        }
      ]
    },
    {
      "cell_type": "code",
      "source": [
        "false_identify(max_value)"
      ],
      "metadata": {
        "colab": {
          "base_uri": "https://localhost:8080/"
        },
        "id": "0ihRU5ZxhbjN",
        "outputId": "54b74a8c-76dd-4d5d-d714-b077858864c7"
      },
      "execution_count": null,
      "outputs": [
        {
          "output_type": "execute_result",
          "data": {
            "text/plain": [
              "0.0"
            ]
          },
          "metadata": {},
          "execution_count": 331
        }
      ]
    },
    {
      "cell_type": "code",
      "source": [
        "DontKnowThresholdingANOTHER = []\n",
        "\n",
        "for i in range(89):\n",
        "  DontKnowThresholdingANOTHER.append([100*thresholding(0.1 + 0.01*i),100*dontknow(0.1 + 0.01*i),])\n",
        "\n",
        "for i in range(10):\n",
        "  DontKnowThresholdingANOTHER.append([100*thresholding(0.99 + 0.001*i),100*dontknow(0.99 + 0.001*i),])\n",
        "\n",
        "for i in range(10):\n",
        "  DontKnowThresholdingANOTHER.append([100*thresholding(0.999 + 0.0001*i),100*dontknow(0.999 + 0.0001*i),])\n",
        "\n",
        "for i in range(10):\n",
        "  DontKnowThresholdingANOTHER.append([100*thresholding(0.9999 + 0.00001*i),100*dontknow(0.9999 + 0.00001*i),])\n",
        "\n",
        "for i in range(9):\n",
        "  DontKnowThresholdingANOTHER.append([100*thresholding(0.99999 + 0.000001*i),100*dontknow(0.99999 + 0.000001*i),])\n",
        "\n",
        "DontKnowThresholdingANOTHER.append([100*thresholding(max_value),100*dontknow(max_value)])\n",
        "\n",
        "DontKnowThresholdingANOTHER"
      ],
      "metadata": {
        "colab": {
          "base_uri": "https://localhost:8080/"
        },
        "id": "eRKbUDYDNOSp",
        "outputId": "43efc99e-f59f-4c1e-b22a-16b1a122a5ee"
      },
      "execution_count": null,
      "outputs": [
        {
          "output_type": "execute_result",
          "data": {
            "text/plain": [
              "[[89.0, 0.0],\n",
              " [88.9, 0.5],\n",
              " [88.9, 0.6],\n",
              " [88.9, 0.7000000000000001],\n",
              " [88.9, 0.7000000000000001],\n",
              " [88.8, 0.8],\n",
              " [88.7, 0.8999999999999999],\n",
              " [88.6, 1.0999999999999999],\n",
              " [88.5, 1.2],\n",
              " [88.4, 1.4000000000000001],\n",
              " [88.3, 1.6],\n",
              " [88.1, 2.0],\n",
              " [88.0, 2.1],\n",
              " [87.8, 2.3],\n",
              " [87.7, 2.5],\n",
              " [87.6, 2.6],\n",
              " [87.6, 2.6],\n",
              " [87.6, 2.6],\n",
              " [87.5, 2.8000000000000003],\n",
              " [87.3, 3.0],\n",
              " [87.3, 3.0],\n",
              " [87.3, 3.0],\n",
              " [87.2, 3.2],\n",
              " [87.1, 3.3000000000000003],\n",
              " [87.1, 3.3000000000000003],\n",
              " [87.1, 3.3000000000000003],\n",
              " [86.7, 3.8],\n",
              " [86.5, 4.2],\n",
              " [86.2, 4.5],\n",
              " [86.2, 4.8],\n",
              " [86.1, 5.1],\n",
              " [85.9, 5.5],\n",
              " [85.8, 5.800000000000001],\n",
              " [85.6, 6.0],\n",
              " [85.39999999999999, 6.3],\n",
              " [85.3, 6.5],\n",
              " [85.1, 6.9],\n",
              " [85.0, 7.199999999999999],\n",
              " [84.7, 7.5],\n",
              " [84.7, 7.5],\n",
              " [84.5, 8.0],\n",
              " [84.39999999999999, 8.1],\n",
              " [84.0, 8.6],\n",
              " [83.89999999999999, 8.799999999999999],\n",
              " [83.6, 9.2],\n",
              " [83.5, 9.6],\n",
              " [83.5, 9.700000000000001],\n",
              " [83.39999999999999, 9.9],\n",
              " [83.2, 10.299999999999999],\n",
              " [82.8, 10.9],\n",
              " [82.6, 11.200000000000001],\n",
              " [82.39999999999999, 11.899999999999999],\n",
              " [82.3, 12.2],\n",
              " [82.1, 12.5],\n",
              " [81.3, 13.4],\n",
              " [81.10000000000001, 13.900000000000002],\n",
              " [80.7, 14.6],\n",
              " [80.60000000000001, 14.7],\n",
              " [80.0, 15.4],\n",
              " [79.9, 15.5],\n",
              " [79.5, 16.1],\n",
              " [78.9, 16.8],\n",
              " [78.7, 17.0],\n",
              " [77.9, 17.9],\n",
              " [77.60000000000001, 18.4],\n",
              " [77.2, 18.8],\n",
              " [76.8, 19.400000000000002],\n",
              " [76.5, 19.900000000000002],\n",
              " [75.7, 20.9],\n",
              " [75.4, 21.5],\n",
              " [74.8, 22.3],\n",
              " [74.5, 22.7],\n",
              " [73.6, 23.7],\n",
              " [73.4, 24.099999999999998],\n",
              " [73.0, 24.5],\n",
              " [72.3, 25.3],\n",
              " [71.8, 25.8],\n",
              " [71.3, 26.400000000000002],\n",
              " [70.8, 26.900000000000002],\n",
              " [69.6, 28.1],\n",
              " [68.60000000000001, 29.2],\n",
              " [67.60000000000001, 30.3],\n",
              " [66.2, 31.8],\n",
              " [65.3, 32.800000000000004],\n",
              " [64.2, 34.2],\n",
              " [63.0, 35.8],\n",
              " [61.5, 37.4],\n",
              " [59.3, 39.900000000000006],\n",
              " [56.49999999999999, 43.0],\n",
              " [51.7, 48.1],\n",
              " [50.7, 49.1],\n",
              " [49.5, 50.3],\n",
              " [48.199999999999996, 51.6],\n",
              " [46.9, 53.0],\n",
              " [45.300000000000004, 54.7],\n",
              " [44.4, 55.60000000000001],\n",
              " [42.3, 57.699999999999996],\n",
              " [39.0, 61.0],\n",
              " [36.3, 63.7],\n",
              " [36.3, 63.7],\n",
              " [36.0, 64.0],\n",
              " [35.699999999999996, 64.3],\n",
              " [35.099999999999994, 64.9],\n",
              " [34.1, 65.9],\n",
              " [33.300000000000004, 66.7],\n",
              " [32.2, 67.80000000000001],\n",
              " [29.7, 70.3],\n",
              " [27.800000000000004, 72.2],\n",
              " [23.5, 76.5],\n",
              " [23.5, 76.5],\n",
              " [23.0, 77.0],\n",
              " [22.5, 77.5],\n",
              " [21.6, 78.4],\n",
              " [21.0, 79.0],\n",
              " [19.8, 80.2],\n",
              " [18.7, 81.3],\n",
              " [16.7, 83.3],\n",
              " [13.600000000000001, 86.4],\n",
              " [9.1, 90.9],\n",
              " [9.1, 90.9],\n",
              " [8.6, 91.4],\n",
              " [8.3, 91.7],\n",
              " [7.5, 92.5],\n",
              " [6.6000000000000005, 93.4],\n",
              " [6.3, 93.7],\n",
              " [5.6000000000000005, 94.39999999999999],\n",
              " [4.9, 95.1],\n",
              " [3.9, 96.1],\n",
              " [14.000000000000002, 86.0]]"
            ]
          },
          "metadata": {},
          "execution_count": 332
        }
      ]
    },
    {
      "cell_type": "code",
      "source": [
        "UnknownMisclassifyANOTHER = []\n",
        "for i in range(89):\n",
        "  UnknownMisclassifyANOTHER.append([100*thresholding(0.1 + 0.01*i),100*misclassifyunknown(0.1 + 0.01*i),])\n",
        "for i in range(10):\n",
        "  UnknownMisclassifyANOTHER.append([100*thresholding(0.99 + 0.001*i),100*misclassifyunknown(0.99 + 0.001*i),])\n",
        "\n",
        "for i in range(10):\n",
        "  UnknownMisclassifyANOTHER.append([100*thresholding(0.999 + 0.0001*i),100*misclassifyunknown(0.999 + 0.0001*i),])\n",
        "\n",
        "for i in range(10):\n",
        "  UnknownMisclassifyANOTHER.append([100*thresholding(0.9999 + 0.00001*i),100*misclassifyunknown(0.9999 + 0.00001*i),])\n",
        "\n",
        "for i in range(9):\n",
        "  UnknownMisclassifyANOTHER.append([100*thresholding(0.99999 + 0.000001*i),100*misclassifyunknown(0.99999 + 0.000001*i),])\n",
        "\n",
        "UnknownMisclassifyANOTHER.append([100*thresholding(max_value),100*misclassifyunknown(max_value),])\n",
        "\n",
        "UnknownMisclassifyANOTHER"
      ],
      "metadata": {
        "colab": {
          "base_uri": "https://localhost:8080/"
        },
        "id": "rkK7Pwx6b9vA",
        "outputId": "ec6e2008-6aa1-4f52-83c6-d46b059d4e02"
      },
      "execution_count": null,
      "outputs": [
        {
          "output_type": "execute_result",
          "data": {
            "text/plain": [
              "[[89.0, 100.0],\n",
              " [88.9, 84.6],\n",
              " [88.9, 75.7],\n",
              " [88.9, 71.89999999999999],\n",
              " [88.9, 70.1],\n",
              " [88.8, 69.0],\n",
              " [88.7, 68.2],\n",
              " [88.6, 67.5],\n",
              " [88.5, 66.4],\n",
              " [88.4, 65.7],\n",
              " [88.3, 64.3],\n",
              " [88.1, 63.9],\n",
              " [88.0, 63.1],\n",
              " [87.8, 62.3],\n",
              " [87.7, 61.9],\n",
              " [87.6, 60.8],\n",
              " [87.6, 60.4],\n",
              " [87.6, 59.699999999999996],\n",
              " [87.5, 59.0],\n",
              " [87.3, 58.199999999999996],\n",
              " [87.3, 57.49999999999999],\n",
              " [87.3, 57.099999999999994],\n",
              " [87.2, 56.3],\n",
              " [87.1, 56.10000000000001],\n",
              " [87.1, 55.7],\n",
              " [87.1, 55.00000000000001],\n",
              " [86.7, 54.800000000000004],\n",
              " [86.5, 54.1],\n",
              " [86.2, 53.800000000000004],\n",
              " [86.2, 53.1],\n",
              " [86.1, 52.900000000000006],\n",
              " [85.9, 52.5],\n",
              " [85.8, 52.0],\n",
              " [85.6, 51.6],\n",
              " [85.39999999999999, 51.2],\n",
              " [85.3, 50.9],\n",
              " [85.1, 50.4],\n",
              " [85.0, 50.0],\n",
              " [84.7, 49.7],\n",
              " [84.7, 49.3],\n",
              " [84.5, 48.5],\n",
              " [84.39999999999999, 48.3],\n",
              " [84.0, 47.9],\n",
              " [83.89999999999999, 47.5],\n",
              " [83.6, 47.0],\n",
              " [83.5, 46.400000000000006],\n",
              " [83.5, 45.800000000000004],\n",
              " [83.39999999999999, 44.6],\n",
              " [83.2, 44.2],\n",
              " [82.8, 43.5],\n",
              " [82.6, 42.6],\n",
              " [82.39999999999999, 42.0],\n",
              " [82.3, 41.199999999999996],\n",
              " [82.1, 40.400000000000006],\n",
              " [81.3, 40.2],\n",
              " [81.10000000000001, 39.900000000000006],\n",
              " [80.7, 39.2],\n",
              " [80.60000000000001, 38.4],\n",
              " [80.0, 37.1],\n",
              " [79.9, 36.3],\n",
              " [79.5, 35.699999999999996],\n",
              " [78.9, 35.199999999999996],\n",
              " [78.7, 34.599999999999994],\n",
              " [77.9, 34.300000000000004],\n",
              " [77.60000000000001, 33.0],\n",
              " [77.2, 32.5],\n",
              " [76.8, 32.0],\n",
              " [76.5, 31.5],\n",
              " [75.7, 30.5],\n",
              " [75.4, 29.599999999999998],\n",
              " [74.8, 29.099999999999998],\n",
              " [74.5, 28.7],\n",
              " [73.6, 28.000000000000004],\n",
              " [73.4, 27.6],\n",
              " [73.0, 26.8],\n",
              " [72.3, 26.200000000000003],\n",
              " [71.8, 25.6],\n",
              " [71.3, 25.1],\n",
              " [70.8, 24.0],\n",
              " [69.6, 23.200000000000003],\n",
              " [68.60000000000001, 21.9],\n",
              " [67.60000000000001, 21.2],\n",
              " [66.2, 20.1],\n",
              " [65.3, 19.3],\n",
              " [64.2, 18.5],\n",
              " [63.0, 17.8],\n",
              " [61.5, 16.1],\n",
              " [59.3, 15.1],\n",
              " [56.49999999999999, 12.8],\n",
              " [51.7, 10.2],\n",
              " [50.7, 9.9],\n",
              " [49.5, 9.4],\n",
              " [48.199999999999996, 8.6],\n",
              " [46.9, 8.3],\n",
              " [45.300000000000004, 7.7],\n",
              " [44.4, 7.3999999999999995],\n",
              " [42.3, 6.7],\n",
              " [39.0, 5.3],\n",
              " [36.3, 3.9],\n",
              " [36.3, 3.9],\n",
              " [36.0, 3.6999999999999997],\n",
              " [35.699999999999996, 3.4000000000000004],\n",
              " [35.099999999999994, 3.1],\n",
              " [34.1, 2.6],\n",
              " [33.300000000000004, 2.4],\n",
              " [32.2, 2.0],\n",
              " [29.7, 1.7000000000000002],\n",
              " [27.800000000000004, 1.2],\n",
              " [23.5, 0.8],\n",
              " [23.5, 0.8],\n",
              " [23.0, 0.8],\n",
              " [22.5, 0.7000000000000001],\n",
              " [21.6, 0.4],\n",
              " [21.0, 0.4],\n",
              " [19.8, 0.3],\n",
              " [18.7, 0.2],\n",
              " [16.7, 0.2],\n",
              " [13.600000000000001, 0.0],\n",
              " [9.1, 0.0],\n",
              " [9.1, 0.0],\n",
              " [8.6, 0.0],\n",
              " [8.3, 0.0],\n",
              " [7.5, 0.0],\n",
              " [6.6000000000000005, 0.0],\n",
              " [6.3, 0.0],\n",
              " [5.6000000000000005, 0.0],\n",
              " [4.9, 0.0],\n",
              " [3.9, 0.0],\n",
              " [14.000000000000002, 0.0]]"
            ]
          },
          "metadata": {},
          "execution_count": 333
        }
      ]
    },
    {
      "cell_type": "code",
      "source": [
        "FalseIdentifyANOTHER = []\n",
        "for i in range(89):\n",
        "  FalseIdentifyANOTHER.append([100*thresholding(0.1 + 0.01*i),100*false_identify(0.1 + 0.01*i),])\n",
        "for i in range(10):\n",
        "  FalseIdentifyANOTHER.append([100*thresholding(0.99 + 0.001*i),100*false_identify(0.99 + 0.001*i)])\n",
        "\n",
        "for i in range(10):\n",
        "  FalseIdentifyANOTHER.append([100*thresholding(0.999 + 0.0001*i),100*false_identify(0.999 + 0.0001*i),])\n",
        "\n",
        "for i in range(10):\n",
        "  FalseIdentifyANOTHER.append([100*thresholding(0.9999 + 0.00001*i),100*false_identify(0.9999 + 0.00001*i),])\n",
        "\n",
        "for i in range(9):\n",
        "  FalseIdentifyANOTHER.append([100*thresholding(0.99999 + 0.000001*i),100*false_identify(0.99999 + 0.000001*i),])\n",
        "\n",
        "FalseIdentifyANOTHER.append([100*thresholding(max_value),100*false_identify(max_value),])\n",
        "FalseIdentifyANOTHER"
      ],
      "metadata": {
        "id": "oe9DmTAKNOXR",
        "colab": {
          "base_uri": "https://localhost:8080/"
        },
        "outputId": "1b988418-4c32-48eb-c133-57fddb1c2c95"
      },
      "execution_count": null,
      "outputs": [
        {
          "output_type": "execute_result",
          "data": {
            "text/plain": [
              "[[89.0, 11.0],\n",
              " [88.9, 10.6],\n",
              " [88.9, 10.5],\n",
              " [88.9, 10.4],\n",
              " [88.9, 10.4],\n",
              " [88.8, 10.4],\n",
              " [88.7, 10.4],\n",
              " [88.6, 10.299999999999999],\n",
              " [88.5, 10.299999999999999],\n",
              " [88.4, 10.2],\n",
              " [88.3, 10.100000000000001],\n",
              " [88.1, 9.9],\n",
              " [88.0, 9.9],\n",
              " [87.8, 9.9],\n",
              " [87.7, 9.8],\n",
              " [87.6, 9.8],\n",
              " [87.6, 9.8],\n",
              " [87.6, 9.8],\n",
              " [87.5, 9.700000000000001],\n",
              " [87.3, 9.700000000000001],\n",
              " [87.3, 9.700000000000001],\n",
              " [87.3, 9.700000000000001],\n",
              " [87.2, 9.6],\n",
              " [87.1, 9.6],\n",
              " [87.1, 9.6],\n",
              " [87.1, 9.6],\n",
              " [86.7, 9.5],\n",
              " [86.5, 9.3],\n",
              " [86.2, 9.3],\n",
              " [86.2, 9.0],\n",
              " [86.1, 8.799999999999999],\n",
              " [85.9, 8.6],\n",
              " [85.8, 8.4],\n",
              " [85.6, 8.4],\n",
              " [85.39999999999999, 8.3],\n",
              " [85.3, 8.200000000000001],\n",
              " [85.1, 8.0],\n",
              " [85.0, 7.8],\n",
              " [84.7, 7.8],\n",
              " [84.7, 7.8],\n",
              " [84.5, 7.5],\n",
              " [84.39999999999999, 7.5],\n",
              " [84.0, 7.3999999999999995],\n",
              " [83.89999999999999, 7.3],\n",
              " [83.6, 7.199999999999999],\n",
              " [83.5, 6.9],\n",
              " [83.5, 6.800000000000001],\n",
              " [83.39999999999999, 6.7],\n",
              " [83.2, 6.5],\n",
              " [82.8, 6.3],\n",
              " [82.6, 6.2],\n",
              " [82.39999999999999, 5.7],\n",
              " [82.3, 5.5],\n",
              " [82.1, 5.4],\n",
              " [81.3, 5.3],\n",
              " [81.10000000000001, 5.0],\n",
              " [80.7, 4.7],\n",
              " [80.60000000000001, 4.7],\n",
              " [80.0, 4.6],\n",
              " [79.9, 4.6],\n",
              " [79.5, 4.3999999999999995],\n",
              " [78.9, 4.3],\n",
              " [78.7, 4.3],\n",
              " [77.9, 4.2],\n",
              " [77.60000000000001, 4.0],\n",
              " [77.2, 4.0],\n",
              " [76.8, 3.8],\n",
              " [76.5, 3.5999999999999996],\n",
              " [75.7, 3.4000000000000004],\n",
              " [75.4, 3.1],\n",
              " [74.8, 2.9000000000000004],\n",
              " [74.5, 2.8000000000000003],\n",
              " [73.6, 2.7],\n",
              " [73.4, 2.5],\n",
              " [73.0, 2.5],\n",
              " [72.3, 2.4],\n",
              " [71.8, 2.4],\n",
              " [71.3, 2.3],\n",
              " [70.8, 2.3],\n",
              " [69.6, 2.3],\n",
              " [68.60000000000001, 2.1999999999999997],\n",
              " [67.60000000000001, 2.1],\n",
              " [66.2, 2.0],\n",
              " [65.3, 1.9],\n",
              " [64.2, 1.6],\n",
              " [63.0, 1.2],\n",
              " [61.5, 1.0999999999999999],\n",
              " [59.3, 0.8],\n",
              " [56.49999999999999, 0.5],\n",
              " [51.7, 0.2],\n",
              " [50.7, 0.2],\n",
              " [49.5, 0.2],\n",
              " [48.199999999999996, 0.2],\n",
              " [46.9, 0.1],\n",
              " [45.300000000000004, 0.0],\n",
              " [44.4, 0.0],\n",
              " [42.3, 0.0],\n",
              " [39.0, 0.0],\n",
              " [36.3, 0.0],\n",
              " [36.3, 0.0],\n",
              " [36.0, 0.0],\n",
              " [35.699999999999996, 0.0],\n",
              " [35.099999999999994, 0.0],\n",
              " [34.1, 0.0],\n",
              " [33.300000000000004, 0.0],\n",
              " [32.2, 0.0],\n",
              " [29.7, 0.0],\n",
              " [27.800000000000004, 0.0],\n",
              " [23.5, 0.0],\n",
              " [23.5, 0.0],\n",
              " [23.0, 0.0],\n",
              " [22.5, 0.0],\n",
              " [21.6, 0.0],\n",
              " [21.0, 0.0],\n",
              " [19.8, 0.0],\n",
              " [18.7, 0.0],\n",
              " [16.7, 0.0],\n",
              " [13.600000000000001, 0.0],\n",
              " [9.1, 0.0],\n",
              " [9.1, 0.0],\n",
              " [8.6, 0.0],\n",
              " [8.3, 0.0],\n",
              " [7.5, 0.0],\n",
              " [6.6000000000000005, 0.0],\n",
              " [6.3, 0.0],\n",
              " [5.6000000000000005, 0.0],\n",
              " [4.9, 0.0],\n",
              " [3.9, 0.0],\n",
              " [14.000000000000002, 0.0]]"
            ]
          },
          "metadata": {},
          "execution_count": 334
        }
      ]
    },
    {
      "cell_type": "code",
      "source": [
        "prediction_known = prediction_known_ensemble_1\n",
        "prediction_unknown = prediction_unknown_ensemble_1"
      ],
      "metadata": {
        "id": "hNLs0ue_8dxV"
      },
      "execution_count": null,
      "outputs": []
    },
    {
      "cell_type": "code",
      "source": [
        "aligned_array = [element for row in prediction_unknown for element in row]\n",
        "max_value = max(aligned_array)\n",
        "\n",
        "print(\"The maximum value in the aligned array is:\", max_value)\n"
      ],
      "metadata": {
        "colab": {
          "base_uri": "https://localhost:8080/"
        },
        "outputId": "f1b0895f-32ac-4b73-c8e6-ed675a38bafb",
        "id": "vXYfZZRo8m2p"
      },
      "execution_count": null,
      "outputs": [
        {
          "output_type": "stream",
          "name": "stdout",
          "text": [
            "The maximum value in the aligned array is: 0.9999878\n"
          ]
        }
      ]
    },
    {
      "cell_type": "code",
      "source": [
        "thresholding(max_value)"
      ],
      "metadata": {
        "colab": {
          "base_uri": "https://localhost:8080/"
        },
        "outputId": "62c51c5e-09f4-4e95-9aa9-cd4edde46628",
        "id": "f8E8IrWW8m2q"
      },
      "execution_count": null,
      "outputs": [
        {
          "output_type": "execute_result",
          "data": {
            "text/plain": [
              "0.122"
            ]
          },
          "metadata": {},
          "execution_count": 39
        }
      ]
    },
    {
      "cell_type": "code",
      "source": [
        "dontknow(max_value)"
      ],
      "metadata": {
        "colab": {
          "base_uri": "https://localhost:8080/"
        },
        "outputId": "ab1e4060-006f-4cef-c06c-fc08bf24b7a7",
        "id": "tWY48CtN8m2r"
      },
      "execution_count": null,
      "outputs": [
        {
          "output_type": "execute_result",
          "data": {
            "text/plain": [
              "0.878"
            ]
          },
          "metadata": {},
          "execution_count": 40
        }
      ]
    },
    {
      "cell_type": "code",
      "source": [
        "misclassifyunknown(max_value)"
      ],
      "metadata": {
        "colab": {
          "base_uri": "https://localhost:8080/"
        },
        "outputId": "afeee33c-5115-45b4-8f9c-6393786acaae",
        "id": "k1ao5mRp8m2r"
      },
      "execution_count": null,
      "outputs": [
        {
          "output_type": "execute_result",
          "data": {
            "text/plain": [
              "0.0"
            ]
          },
          "metadata": {},
          "execution_count": 41
        }
      ]
    },
    {
      "cell_type": "code",
      "source": [
        "false_identify(max_value)"
      ],
      "metadata": {
        "colab": {
          "base_uri": "https://localhost:8080/"
        },
        "outputId": "29bbcae2-a8be-4d2f-ed7c-e53ebf26fb54",
        "id": "2yytYmgw8m2s"
      },
      "execution_count": null,
      "outputs": [
        {
          "output_type": "execute_result",
          "data": {
            "text/plain": [
              "0.0"
            ]
          },
          "metadata": {},
          "execution_count": 42
        }
      ]
    },
    {
      "cell_type": "markdown",
      "source": [
        "# Class-adaptive threshold"
      ],
      "metadata": {
        "id": "astEHCwEWNFf"
      }
    },
    {
      "cell_type": "markdown",
      "source": [
        "# Run #1"
      ],
      "metadata": {
        "id": "mgZEtA56usFB"
      }
    },
    {
      "cell_type": "code",
      "source": [
        "prediction_known = prediction_known_ensemble_1\n",
        "prediction_unknown = prediction_unknown_ensemble_1"
      ],
      "metadata": {
        "id": "EEg9x6-vurgQ"
      },
      "execution_count": null,
      "outputs": []
    },
    {
      "cell_type": "code",
      "source": [
        "ThresholdNeverSeenBefores = []\n",
        "for i in range(10):\n",
        "  ThresholdNeverSeenBefores.append(np.max(prediction_unknown[:,i]))"
      ],
      "metadata": {
        "id": "8Tyc8FzcWUk-"
      },
      "execution_count": null,
      "outputs": []
    },
    {
      "cell_type": "code",
      "source": [
        "C_count0 = 0\n",
        "for i in range(100):\n",
        "  if prediction_known[i,0] > ThresholdNeverSeenBefores[0] and np.argmax(prediction_known[i]) == 0:\n",
        "    C_count0 += 1\n",
        "  else:\n",
        "    C_count0 += 0\n",
        "C_count0"
      ],
      "metadata": {
        "colab": {
          "base_uri": "https://localhost:8080/"
        },
        "id": "rp_hvYS9WP6J",
        "outputId": "22d4b01e-ae69-4a89-8227-3af397a0ed2a"
      },
      "execution_count": null,
      "outputs": [
        {
          "output_type": "execute_result",
          "data": {
            "text/plain": [
              "20"
            ]
          },
          "metadata": {},
          "execution_count": 79
        }
      ]
    },
    {
      "cell_type": "code",
      "source": [
        "mistake0 = 0\n",
        "for i in range(100):\n",
        "  if np.argmax(prediction_known[i]) != 0 and max(prediction_known[i]) > ThresholdNeverSeenBefores[np.argmax(prediction_known[i])]:\n",
        "    mistake0 += 1\n",
        "    print(i)\n",
        "  else:\n",
        "    mistake0 += 0\n",
        "mistake0\n",
        "print(\"Number of mistakes in this class:\",mistake0)"
      ],
      "metadata": {
        "colab": {
          "base_uri": "https://localhost:8080/"
        },
        "id": "zAu3K9nEWP8P",
        "outputId": "a5842c52-2858-4c55-ac3a-db162e70ab24"
      },
      "execution_count": null,
      "outputs": [
        {
          "output_type": "stream",
          "name": "stdout",
          "text": [
            "54\n",
            "Number of mistakes in this class: 1\n"
          ]
        }
      ]
    },
    {
      "cell_type": "code",
      "source": [
        "ThresholdNeverSeenBefores[np.argmax(prediction_known[54])] = max(prediction_known[54])"
      ],
      "metadata": {
        "id": "chHAfO34Fr4r"
      },
      "execution_count": null,
      "outputs": []
    },
    {
      "cell_type": "code",
      "source": [
        "C_count1 = 0\n",
        "for i in range(100):\n",
        "  if prediction_known[100 + i,1] > ThresholdNeverSeenBefores[1] and np.argmax(prediction_known[100 + i]) == 1:\n",
        "    C_count1 += 1\n",
        "  else:\n",
        "    C_count1 += 0\n",
        "C_count1"
      ],
      "metadata": {
        "colab": {
          "base_uri": "https://localhost:8080/"
        },
        "id": "hHzot9WdXkC7",
        "outputId": "ee9aced4-e19d-4eb1-f0b9-6eeae7377d4d"
      },
      "execution_count": null,
      "outputs": [
        {
          "output_type": "execute_result",
          "data": {
            "text/plain": [
              "66"
            ]
          },
          "metadata": {},
          "execution_count": 82
        }
      ]
    },
    {
      "cell_type": "code",
      "source": [
        "mistake1 = 0\n",
        "for i in range(100):\n",
        "  if np.argmax(prediction_known[100 + i]) != 1 and max(prediction_known[100 + i]) > ThresholdNeverSeenBefores[np.argmax(prediction_known[100 + i])]:\n",
        "    mistake1 += 1\n",
        "    print(100 + i)\n",
        "  else:\n",
        "    mistake1 += 0\n",
        "mistake1\n",
        "print(\"Number of mistakes in this class:\",mistake1)"
      ],
      "metadata": {
        "colab": {
          "base_uri": "https://localhost:8080/"
        },
        "id": "h4RVufLtXkAR",
        "outputId": "f740aff0-6622-4457-db9b-4e06a1714743"
      },
      "execution_count": null,
      "outputs": [
        {
          "output_type": "stream",
          "name": "stdout",
          "text": [
            "Number of mistakes in this class: 0\n"
          ]
        }
      ]
    },
    {
      "cell_type": "code",
      "source": [
        "C_count2 = 0\n",
        "for i in range(100):\n",
        "  if prediction_known[200 + i,2] > ThresholdNeverSeenBefores[2] and np.argmax(prediction_known[200 + i]) == 2:\n",
        "    C_count2 += 1\n",
        "  else:\n",
        "    C_count2 += 0\n",
        "C_count2"
      ],
      "metadata": {
        "colab": {
          "base_uri": "https://localhost:8080/"
        },
        "id": "vmmpoficmsIo",
        "outputId": "543535e7-f0ff-48db-e8ad-8e1832443e73"
      },
      "execution_count": null,
      "outputs": [
        {
          "output_type": "execute_result",
          "data": {
            "text/plain": [
              "4"
            ]
          },
          "metadata": {},
          "execution_count": 84
        }
      ]
    },
    {
      "cell_type": "code",
      "source": [
        "mistake2 = 0\n",
        "for i in range(100):\n",
        "  if np.argmax(prediction_known[200 + i]) != 2 and max(prediction_known[200 + i]) > ThresholdNeverSeenBefores[np.argmax(prediction_known[200 + i])]:\n",
        "    mistake2 += 1\n",
        "    print(200 + i)\n",
        "  else:\n",
        "    mistake2 += 0\n",
        "mistake2\n",
        "print(\"Number of mistakes in this class:\",mistake2)"
      ],
      "metadata": {
        "colab": {
          "base_uri": "https://localhost:8080/"
        },
        "id": "JTiQq-WKmsMB",
        "outputId": "0933b766-01b0-4e33-914b-8a4f450c18c2"
      },
      "execution_count": null,
      "outputs": [
        {
          "output_type": "stream",
          "name": "stdout",
          "text": [
            "244\n",
            "296\n",
            "Number of mistakes in this class: 2\n"
          ]
        }
      ]
    },
    {
      "cell_type": "code",
      "source": [
        "ThresholdNeverSeenBefores[np.argmax(prediction_known[244])] = max(prediction_known[244])"
      ],
      "metadata": {
        "id": "PjvXnRNvx3Zj"
      },
      "execution_count": null,
      "outputs": []
    },
    {
      "cell_type": "code",
      "source": [
        "mistake2 = 0\n",
        "for i in range(100):\n",
        "  if np.argmax(prediction_known[200 + i]) != 2 and max(prediction_known[200 + i]) > ThresholdNeverSeenBefores[np.argmax(prediction_known[200 + i])]:\n",
        "    mistake2 += 1\n",
        "    print(200 + i)\n",
        "  else:\n",
        "    mistake2 += 0\n",
        "mistake2\n",
        "print(\"Number of mistakes in this class:\",mistake2)"
      ],
      "metadata": {
        "colab": {
          "base_uri": "https://localhost:8080/"
        },
        "id": "nIbNzYD_x63-",
        "outputId": "a2403787-c09d-4491-b6bd-edf5d7b0d31a"
      },
      "execution_count": null,
      "outputs": [
        {
          "output_type": "stream",
          "name": "stdout",
          "text": [
            "Number of mistakes in this class: 0\n"
          ]
        }
      ]
    },
    {
      "cell_type": "code",
      "source": [
        "C_count3 = 0\n",
        "for i in range(100):\n",
        "  if prediction_known[300 + i,3] > ThresholdNeverSeenBefores[3] and np.argmax(prediction_known[300 + i]) == 3:\n",
        "    C_count3 += 1\n",
        "  else:\n",
        "    C_count3 += 0\n",
        "C_count3"
      ],
      "metadata": {
        "colab": {
          "base_uri": "https://localhost:8080/"
        },
        "id": "gsNwlMBAmsN3",
        "outputId": "26e89eed-fffd-4eb4-9450-7b8d6136b55c"
      },
      "execution_count": null,
      "outputs": [
        {
          "output_type": "execute_result",
          "data": {
            "text/plain": [
              "97"
            ]
          },
          "metadata": {},
          "execution_count": 90
        }
      ]
    },
    {
      "cell_type": "code",
      "source": [
        "mistake3 = 0\n",
        "for i in range(100):\n",
        "  if np.argmax(prediction_known[300 + i]) != 3 and max(prediction_known[300 + i]) > ThresholdNeverSeenBefores[np.argmax(prediction_known[300 + i])]:\n",
        "    mistake3 += 1\n",
        "    print(300 + i)\n",
        "  else:\n",
        "    mistake3 += 0\n",
        "mistake3\n",
        "print(\"Number of mistakes in this class:\",mistake3)"
      ],
      "metadata": {
        "colab": {
          "base_uri": "https://localhost:8080/"
        },
        "id": "HP9oRkpvmsPv",
        "outputId": "bbba59d9-a336-4c54-cc8c-98e6fe2067ca"
      },
      "execution_count": null,
      "outputs": [
        {
          "output_type": "stream",
          "name": "stdout",
          "text": [
            "Number of mistakes in this class: 0\n"
          ]
        }
      ]
    },
    {
      "cell_type": "code",
      "source": [
        "C_count4 = 0\n",
        "for i in range(100):\n",
        "  if prediction_known[400 + i,4] > ThresholdNeverSeenBefores[4] and np.argmax(prediction_known[400 + i]) == 4:\n",
        "    C_count4 += 1\n",
        "  else:\n",
        "    C_count4 += 0\n",
        "C_count4"
      ],
      "metadata": {
        "colab": {
          "base_uri": "https://localhost:8080/"
        },
        "id": "qGdmlHmUmsSi",
        "outputId": "4823ce7f-84f9-494b-d1aa-bc149782e33d"
      },
      "execution_count": null,
      "outputs": [
        {
          "output_type": "execute_result",
          "data": {
            "text/plain": [
              "83"
            ]
          },
          "metadata": {},
          "execution_count": 92
        }
      ]
    },
    {
      "cell_type": "code",
      "source": [
        "mistake4 = 0\n",
        "for i in range(100):\n",
        "  if np.argmax(prediction_known[400 + i]) != 4 and max(prediction_known[400 + i]) > ThresholdNeverSeenBefores[np.argmax(prediction_known[400 + i])]:\n",
        "    mistake4 += 1\n",
        "    print(400 + i)\n",
        "  else:\n",
        "    mistake4 += 0\n",
        "print(\"Number of mistakes in this class:\",mistake4)"
      ],
      "metadata": {
        "colab": {
          "base_uri": "https://localhost:8080/"
        },
        "id": "RTXAEphBmsU_",
        "outputId": "6780bb55-9ffa-40a1-f515-a07aea1642fb"
      },
      "execution_count": null,
      "outputs": [
        {
          "output_type": "stream",
          "name": "stdout",
          "text": [
            "495\n",
            "Number of mistakes in this class: 1\n"
          ]
        }
      ]
    },
    {
      "cell_type": "code",
      "source": [
        "ThresholdNeverSeenBefores[np.argmax(prediction_known[495])] = max(prediction_known[495])"
      ],
      "metadata": {
        "id": "bHbI6AuvpouI"
      },
      "execution_count": null,
      "outputs": []
    },
    {
      "cell_type": "code",
      "source": [
        "mistake4 = 0\n",
        "for i in range(100):\n",
        "  if np.argmax(prediction_known[400 + i]) != 4 and max(prediction_known[400 + i]) > ThresholdNeverSeenBefores[np.argmax(prediction_known[400 + i])]:\n",
        "    mistake4 += 1\n",
        "    print(400 + i)\n",
        "  else:\n",
        "    mistake4 += 0\n",
        "print(\"Number of mistakes in this class:\",mistake4)"
      ],
      "metadata": {
        "colab": {
          "base_uri": "https://localhost:8080/"
        },
        "id": "GpR5cQktpsPc",
        "outputId": "89a5828a-b158-4fbb-ab3c-ef27b626ef08"
      },
      "execution_count": null,
      "outputs": [
        {
          "output_type": "stream",
          "name": "stdout",
          "text": [
            "Number of mistakes in this class: 0\n"
          ]
        }
      ]
    },
    {
      "cell_type": "code",
      "source": [
        "C_count5 = 0\n",
        "for i in range(100):\n",
        "  if prediction_known[500 + i,5] > ThresholdNeverSeenBefores[5] and np.argmax(prediction_known[500 + i]) == 5:\n",
        "    C_count5 += 1\n",
        "  else:\n",
        "    C_count5 += 0\n",
        "C_count5"
      ],
      "metadata": {
        "colab": {
          "base_uri": "https://localhost:8080/"
        },
        "id": "bwuWW0SkqIB_",
        "outputId": "c270e34d-e43e-4762-e18d-a826da8188da"
      },
      "execution_count": null,
      "outputs": [
        {
          "output_type": "execute_result",
          "data": {
            "text/plain": [
              "99"
            ]
          },
          "metadata": {},
          "execution_count": 96
        }
      ]
    },
    {
      "cell_type": "code",
      "source": [
        "mistake5 = 0\n",
        "for i in range(100):\n",
        "  if np.argmax(prediction_known[500 + i]) != 5 and max(prediction_known[500 + i]) > ThresholdNeverSeenBefores[np.argmax(prediction_known[500 + i])]:\n",
        "    mistake5 += 1\n",
        "    print(500 + i)\n",
        "  else:\n",
        "    mistake5 += 0\n",
        "print(\"Number of mistakes in this class:\",mistake5)"
      ],
      "metadata": {
        "colab": {
          "base_uri": "https://localhost:8080/"
        },
        "id": "yMRqQVgIqKWx",
        "outputId": "600c8061-aa9d-4d25-c1cf-1df589ec0d7d"
      },
      "execution_count": null,
      "outputs": [
        {
          "output_type": "stream",
          "name": "stdout",
          "text": [
            "592\n",
            "Number of mistakes in this class: 1\n"
          ]
        }
      ]
    },
    {
      "cell_type": "code",
      "source": [
        "ThresholdNeverSeenBefores[np.argmax(prediction_known[592])] = max(prediction_known[592])"
      ],
      "metadata": {
        "id": "KK85v3j9qaJ_"
      },
      "execution_count": null,
      "outputs": []
    },
    {
      "cell_type": "code",
      "source": [
        "mistake5 = 0\n",
        "for i in range(100):\n",
        "  if np.argmax(prediction_known[500 + i]) != 5 and ThresholdNeverSeenBefores[5] > ThresholdNeverSeenBefores[np.argmax(prediction_known[500 + i])]:\n",
        "    mistake5 += 1\n",
        "    print(500 + i)\n",
        "  else:\n",
        "    mistake5 += 0\n",
        "print(\"Number of mistakes in this class:\",mistake5)"
      ],
      "metadata": {
        "colab": {
          "base_uri": "https://localhost:8080/"
        },
        "id": "de4nDuf8qdYZ",
        "outputId": "aaa39fe1-50cb-4dbe-a408-af749eeeb7de"
      },
      "execution_count": null,
      "outputs": [
        {
          "output_type": "stream",
          "name": "stdout",
          "text": [
            "Number of mistakes in this class: 0\n"
          ]
        }
      ]
    },
    {
      "cell_type": "code",
      "source": [
        "C_count6 = 0\n",
        "for i in range(100):\n",
        "  if prediction_known[600 + i,6] > ThresholdNeverSeenBefores[6] and np.argmax(prediction_known[600 + i]) == 6:\n",
        "    C_count6 += 1\n",
        "  else:\n",
        "    C_count6 += 0\n",
        "C_count6"
      ],
      "metadata": {
        "colab": {
          "base_uri": "https://localhost:8080/"
        },
        "id": "GJt2-_RjqhZM",
        "outputId": "32bde3d3-6541-4486-9d8f-db0316aef94d"
      },
      "execution_count": null,
      "outputs": [
        {
          "output_type": "execute_result",
          "data": {
            "text/plain": [
              "5"
            ]
          },
          "metadata": {},
          "execution_count": 100
        }
      ]
    },
    {
      "cell_type": "code",
      "source": [
        "mistake6 = 0\n",
        "for i in range(100):\n",
        "  if np.argmax(prediction_known[600 + i]) != 6 and max(prediction_known[600 + i]) > ThresholdNeverSeenBefores[np.argmax(prediction_known[600 + i])]:\n",
        "    mistake6 += 1\n",
        "    print(600 + i)\n",
        "  else:\n",
        "    mistake6 += 0\n",
        "print(\"Number of mistakes in this class:\",mistake6)"
      ],
      "metadata": {
        "colab": {
          "base_uri": "https://localhost:8080/"
        },
        "id": "bJ0sklVOqhbU",
        "outputId": "785857d1-a0fc-4648-bad3-317f0c72b20d"
      },
      "execution_count": null,
      "outputs": [
        {
          "output_type": "stream",
          "name": "stdout",
          "text": [
            "Number of mistakes in this class: 0\n"
          ]
        }
      ]
    },
    {
      "cell_type": "code",
      "source": [
        "C_count7 = 0\n",
        "for i in range(100):\n",
        "  if prediction_known[700 + i,7] > ThresholdNeverSeenBefores[7]  and np.argmax(prediction_known[700 + i]) == 7:\n",
        "    C_count7 += 1\n",
        "  else:\n",
        "    C_count7 += 0\n",
        "C_count7"
      ],
      "metadata": {
        "colab": {
          "base_uri": "https://localhost:8080/"
        },
        "id": "WMsrIQt1qhe2",
        "outputId": "ecae4227-dde6-4899-d193-3719330735ad"
      },
      "execution_count": null,
      "outputs": [
        {
          "output_type": "execute_result",
          "data": {
            "text/plain": [
              "63"
            ]
          },
          "metadata": {},
          "execution_count": 102
        }
      ]
    },
    {
      "cell_type": "code",
      "source": [
        "mistake7 = 0\n",
        "for i in range(100):\n",
        "  if np.argmax(prediction_known[700 + i]) != 7 and max(prediction_known[700 + i]) > ThresholdNeverSeenBefores[np.argmax(prediction_known[700 + i])]:\n",
        "    mistake7 += 1\n",
        "    print(700 + i)\n",
        "  else:\n",
        "    mistake7 += 0\n",
        "print(\"Number of mistakes in this class:\",mistake7)"
      ],
      "metadata": {
        "colab": {
          "base_uri": "https://localhost:8080/"
        },
        "id": "gau4TuhUqhiG",
        "outputId": "8e6da174-47f0-4d90-d1c6-dcf5536cb99b"
      },
      "execution_count": null,
      "outputs": [
        {
          "output_type": "stream",
          "name": "stdout",
          "text": [
            "718\n",
            "Number of mistakes in this class: 1\n"
          ]
        }
      ]
    },
    {
      "cell_type": "code",
      "source": [
        "ThresholdNeverSeenBefores[np.argmax(prediction_known[718])] = max(prediction_known[718])"
      ],
      "metadata": {
        "id": "ZIhjXi2wyXPJ"
      },
      "execution_count": null,
      "outputs": []
    },
    {
      "cell_type": "code",
      "source": [
        "mistake7 = 0\n",
        "for i in range(100):\n",
        "  if np.argmax(prediction_known[700 + i]) != 7 and max(prediction_known[700 + i]) > ThresholdNeverSeenBefores[np.argmax(prediction_known[700 + i])]:\n",
        "    mistake7 += 1\n",
        "    print(700 + i)\n",
        "  else:\n",
        "    mistake7 += 0\n",
        "print(\"Number of mistakes in this class:\",mistake7)"
      ],
      "metadata": {
        "colab": {
          "base_uri": "https://localhost:8080/"
        },
        "id": "37SNxxfhHGH-",
        "outputId": "4b481cc8-dde4-4010-c39f-174d19c23e18"
      },
      "execution_count": null,
      "outputs": [
        {
          "output_type": "stream",
          "name": "stdout",
          "text": [
            "Number of mistakes in this class: 0\n"
          ]
        }
      ]
    },
    {
      "cell_type": "code",
      "source": [
        "C_count8 = 0\n",
        "for i in range(100):\n",
        "  if prediction_known[800 + i,8] > ThresholdNeverSeenBefores[8] and np.argmax(prediction_known[800 + i]) == 8:\n",
        "    C_count8 += 1\n",
        "  else:\n",
        "    C_count8 += 0\n",
        "C_count8"
      ],
      "metadata": {
        "colab": {
          "base_uri": "https://localhost:8080/"
        },
        "id": "Zyufo5sUqhkP",
        "outputId": "eef73cc1-e86b-4a81-bdca-25c1bad7b972"
      },
      "execution_count": null,
      "outputs": [
        {
          "output_type": "execute_result",
          "data": {
            "text/plain": [
              "25"
            ]
          },
          "metadata": {},
          "execution_count": 107
        }
      ]
    },
    {
      "cell_type": "code",
      "source": [
        "mistake8 = 0\n",
        "for i in range(100):\n",
        "  if np.argmax(prediction_known[800 + i]) != 8 and max(prediction_known[800 + i]) > ThresholdNeverSeenBefores[np.argmax(prediction_known[800 + i])]:\n",
        "    mistake8 += 1\n",
        "    print(800 + i)\n",
        "  else:\n",
        "    mistake8 += 0\n",
        "print(\"Number of mistakes in this class:\",mistake8)"
      ],
      "metadata": {
        "colab": {
          "base_uri": "https://localhost:8080/"
        },
        "id": "aqBpRvSWqhnj",
        "outputId": "8a64b273-7b0f-408c-8325-3f2ba4a1de0c"
      },
      "execution_count": null,
      "outputs": [
        {
          "output_type": "stream",
          "name": "stdout",
          "text": [
            "860\n",
            "888\n",
            "Number of mistakes in this class: 2\n"
          ]
        }
      ]
    },
    {
      "cell_type": "code",
      "source": [
        "ThresholdNeverSeenBefores[np.argmax(prediction_known[860])] = max(prediction_known[860])"
      ],
      "metadata": {
        "id": "P_gTfOZuya_L"
      },
      "execution_count": null,
      "outputs": []
    },
    {
      "cell_type": "code",
      "source": [
        "mistake8 = 0\n",
        "for i in range(100):\n",
        "  if np.argmax(prediction_known[800 + i]) != 8 and max(prediction_known[800 + i]) > ThresholdNeverSeenBefores[np.argmax(prediction_known[800 + i])]:\n",
        "    mistake8 += 1\n",
        "    print(800 + i)\n",
        "  else:\n",
        "    mistake8 += 0\n",
        "print(\"Number of mistakes in this class:\",mistake8)"
      ],
      "metadata": {
        "colab": {
          "base_uri": "https://localhost:8080/"
        },
        "id": "5E0oGPsPyeaH",
        "outputId": "941f4e7e-da3b-4f46-d51f-b22df646d4ed"
      },
      "execution_count": null,
      "outputs": [
        {
          "output_type": "stream",
          "name": "stdout",
          "text": [
            "Number of mistakes in this class: 0\n"
          ]
        }
      ]
    },
    {
      "cell_type": "code",
      "source": [
        "C_count9 = 0\n",
        "for i in range(100):\n",
        "  if prediction_known[900 + i,9] > ThresholdNeverSeenBefores[9] and np.argmax(prediction_known[900 + i]) == 9:\n",
        "    C_count9 += 1\n",
        "  else:\n",
        "    C_count9 += 0\n",
        "C_count9"
      ],
      "metadata": {
        "colab": {
          "base_uri": "https://localhost:8080/"
        },
        "id": "UbQcIVdBqhpv",
        "outputId": "043b005a-bd69-4b14-fadc-dff7e284f983"
      },
      "execution_count": null,
      "outputs": [
        {
          "output_type": "execute_result",
          "data": {
            "text/plain": [
              "94"
            ]
          },
          "metadata": {},
          "execution_count": 111
        }
      ]
    },
    {
      "cell_type": "code",
      "source": [
        "mistake9 = 0\n",
        "for i in range(100):\n",
        "  if np.argmax(prediction_known[900 + i]) != 9 and max(prediction_known[900 + i]) > ThresholdNeverSeenBefores[np.argmax(prediction_known[900 + i])]:\n",
        "    mistake9 += 1\n",
        "    print(900 + i)\n",
        "  else:\n",
        "    mistake9 += 0\n",
        "print(\"Number of mistakes in this class:\",mistake9)"
      ],
      "metadata": {
        "colab": {
          "base_uri": "https://localhost:8080/"
        },
        "id": "o6TeE6FjrOKT",
        "outputId": "a8a0e07e-2058-44c2-f5f3-371975e4713e"
      },
      "execution_count": null,
      "outputs": [
        {
          "output_type": "stream",
          "name": "stdout",
          "text": [
            "Number of mistakes in this class: 0\n"
          ]
        }
      ]
    },
    {
      "cell_type": "code",
      "source": [],
      "metadata": {
        "id": "q2BVWFkVruUc"
      },
      "execution_count": null,
      "outputs": []
    },
    {
      "cell_type": "code",
      "source": [
        "C_count0 = 0\n",
        "for i in range(100):\n",
        "  if prediction_known[i,0] > ThresholdNeverSeenBefores[0] and np.argmax(prediction_known[i]) == 0:\n",
        "    C_count0 += 1\n",
        "  else:\n",
        "    C_count0 += 0\n",
        "\n",
        "C_count1 = 0\n",
        "for i in range(100):\n",
        "  if prediction_known[100 + i,1] > ThresholdNeverSeenBefores[1] and np.argmax(prediction_known[100 + i]) == 1:\n",
        "    C_count1 += 1\n",
        "  else:\n",
        "    C_count1 += 0\n",
        "\n",
        "C_count2 = 0\n",
        "for i in range(100):\n",
        "  if prediction_known[200 + i,2] > ThresholdNeverSeenBefores[2] and np.argmax(prediction_known[200 + i]) == 2:\n",
        "    C_count2 += 1\n",
        "  else:\n",
        "    C_count2 += 0\n",
        "\n",
        "C_count3 = 0\n",
        "for i in range(100):\n",
        "  if prediction_known[300 + i,3] > ThresholdNeverSeenBefores[3] and np.argmax(prediction_known[300 + i]) == 3:\n",
        "    C_count3 += 1\n",
        "  else:\n",
        "    C_count3 += 0\n",
        "\n",
        "C_count4 = 0\n",
        "for i in range(100):\n",
        "  if prediction_known[400 + i,4] > ThresholdNeverSeenBefores[4] and np.argmax(prediction_known[400 + i]) == 4:\n",
        "    C_count4 += 1\n",
        "  else:\n",
        "    C_count4 += 0\n",
        "\n",
        "C_count5 = 0\n",
        "for i in range(100):\n",
        "  if prediction_known[500 + i,5] > ThresholdNeverSeenBefores[5] and np.argmax(prediction_known[500 + i]) == 5:\n",
        "    C_count5 += 1\n",
        "  else:\n",
        "    C_count5 += 0\n",
        "\n",
        "C_count6 = 0\n",
        "for i in range(100):\n",
        "  if prediction_known[600 + i,6] > ThresholdNeverSeenBefores[6] and np.argmax(prediction_known[600 + i]) == 6:\n",
        "    C_count6 += 1\n",
        "  else:\n",
        "    C_count6 += 0\n",
        "\n",
        "C_count7 = 0\n",
        "for i in range(100):\n",
        "  if prediction_known[700 + i,7] > ThresholdNeverSeenBefores[7]  and np.argmax(prediction_known[700 + i]) == 7:\n",
        "    C_count7 += 1\n",
        "  else:\n",
        "    C_count7 += 0\n",
        "\n",
        "C_count8 = 0\n",
        "for i in range(100):\n",
        "  if prediction_known[800 + i,8] > ThresholdNeverSeenBefores[8] and np.argmax(prediction_known[800 + i]) == 8:\n",
        "    C_count8 += 1\n",
        "  else:\n",
        "    C_count8 += 0\n",
        "\n",
        "C_count9 = 0\n",
        "for i in range(100):\n",
        "  if prediction_known[900 + i,9] > ThresholdNeverSeenBefores[9] and np.argmax(prediction_known[900 + i]) == 9:\n",
        "    C_count9 += 1\n",
        "  else:\n",
        "    C_count9 += 0\n",
        "\n"
      ],
      "metadata": {
        "id": "n4gF8b2NruWg"
      },
      "execution_count": null,
      "outputs": []
    },
    {
      "cell_type": "code",
      "source": [
        "FinalDistributionOver10ClassesRun1 = [[1,C_count0],[2,C_count1],[3,C_count2],[4,C_count3],[5,C_count4],[6,C_count5],[7,C_count6],[8,C_count7],[9,C_count8],[10,C_count9]]\n",
        "FinalDistributionOver10ClassesRun1"
      ],
      "metadata": {
        "colab": {
          "base_uri": "https://localhost:8080/"
        },
        "id": "KmwlXsFdtWr8",
        "outputId": "35d38a85-cecd-4c3f-e39c-ae7acd70727e"
      },
      "execution_count": null,
      "outputs": [
        {
          "output_type": "execute_result",
          "data": {
            "text/plain": [
              "[[1, 20],\n",
              " [2, 66],\n",
              " [3, 4],\n",
              " [4, 77],\n",
              " [5, 63],\n",
              " [6, 99],\n",
              " [7, 5],\n",
              " [8, 53],\n",
              " [9, 25],\n",
              " [10, 94]]"
            ]
          },
          "metadata": {},
          "execution_count": 114
        }
      ]
    },
    {
      "cell_type": "code",
      "source": [
        "mistake0 = 0\n",
        "for i in range(100):\n",
        "  if np.argmax(prediction_known[i]) != 0 and max(prediction_known[i]) > ThresholdNeverSeenBefores[np.argmax(prediction_known[i])]:\n",
        "    mistake0 += 1\n",
        "    print(i)\n",
        "  else:\n",
        "    mistake0 += 0\n",
        "\n",
        "mistake1 = 0\n",
        "for i in range(100):\n",
        "  if np.argmax(prediction_known[100 + i]) != 1 and max(prediction_known[100 + i]) > ThresholdNeverSeenBefores[np.argmax(prediction_known[100 + i])]:\n",
        "    mistake1 += 1\n",
        "    print(100 + i)\n",
        "  else:\n",
        "    mistake1 += 0\n",
        "\n",
        "mistake2 = 0\n",
        "for i in range(100):\n",
        "  if np.argmax(prediction_known[200 + i]) != 2 and max(prediction_known[200 + i]) > ThresholdNeverSeenBefores[np.argmax(prediction_known[200 + i])]:\n",
        "    mistake2 += 1\n",
        "    print(200 + i)\n",
        "  else:\n",
        "    mistake2 += 0\n",
        "\n",
        "mistake3 = 0\n",
        "for i in range(100):\n",
        "  if np.argmax(prediction_known[300 + i]) != 3 and max(prediction_known[300 + i]) > ThresholdNeverSeenBefores[np.argmax(prediction_known[300 + i])]:\n",
        "    mistake3 += 1\n",
        "    print(300 + i)\n",
        "  else:\n",
        "    mistake3 += 0\n",
        "\n",
        "mistake4 = 0\n",
        "for i in range(100):\n",
        "  if np.argmax(prediction_known[400 + i]) != 4 and max(prediction_known[400 + i]) > ThresholdNeverSeenBefores[np.argmax(prediction_known[400 + i])]:\n",
        "    mistake4 += 1\n",
        "    print(400 + i)\n",
        "  else:\n",
        "    mistake4 += 0\n",
        "\n",
        "mistake5 = 0\n",
        "for i in range(100):\n",
        "  if np.argmax(prediction_known[500 + i]) != 5 and max(prediction_known[500 + i]) > ThresholdNeverSeenBefores[np.argmax(prediction_known[500 + i])]:\n",
        "    mistake5 += 1\n",
        "    print(500 + i)\n",
        "  else:\n",
        "    mistake5 += 0\n",
        "\n",
        "mistake6 = 0\n",
        "for i in range(100):\n",
        "  if np.argmax(prediction_known[600 + i]) != 6 and max(prediction_known[600 + i]) > ThresholdNeverSeenBefores[np.argmax(prediction_known[600 + i])]:\n",
        "    mistake6 += 1\n",
        "    print(600 + i)\n",
        "  else:\n",
        "    mistake6 += 0\n",
        "\n",
        "mistake7 = 0\n",
        "for i in range(100):\n",
        "  if np.argmax(prediction_known[700 + i]) != 7 and max(prediction_known[700 + i]) > ThresholdNeverSeenBefores[np.argmax(prediction_known[700 + i])]:\n",
        "    mistake7 += 1\n",
        "    print(700 + i)\n",
        "  else:\n",
        "    mistake7 += 0\n",
        "\n",
        "mistake8 = 0\n",
        "for i in range(100):\n",
        "  if np.argmax(prediction_known[800 + i]) != 8 and max(prediction_known[800 + i]) > ThresholdNeverSeenBefores[np.argmax(prediction_known[800 + i])]:\n",
        "    mistake8 += 1\n",
        "    print(800 + i)\n",
        "  else:\n",
        "    mistake8 += 0\n",
        "\n",
        "mistake9 = 0\n",
        "for i in range(100):\n",
        "  if np.argmax(prediction_known[900 + i]) != 9 and max(prediction_known[900 + i]) > ThresholdNeverSeenBefores[np.argmax(prediction_known[900 + i])]:\n",
        "    mistake9 += 1\n",
        "    print(900 + i)\n",
        "  else:\n",
        "    mistake9 += 0\n",
        "\n",
        "NumberOfMistakesAfterThrAdj = [mistake0, mistake1, mistake2, mistake3, mistake4, mistake5, mistake6, mistake7, mistake8, mistake9]\n",
        "NumberOfMistakesAfterThrAdj"
      ],
      "metadata": {
        "colab": {
          "base_uri": "https://localhost:8080/"
        },
        "id": "mDrNGphSueaO",
        "outputId": "3f3859ba-c4e6-4c51-f433-a6d4beb0e546"
      },
      "execution_count": null,
      "outputs": [
        {
          "output_type": "execute_result",
          "data": {
            "text/plain": [
              "[0, 0, 0, 0, 0, 0, 0, 0, 0, 0]"
            ]
          },
          "metadata": {},
          "execution_count": 115
        }
      ]
    },
    {
      "cell_type": "markdown",
      "source": [
        "# Average over 10 classes"
      ],
      "metadata": {
        "id": "0LoWFaaorrtA"
      }
    },
    {
      "cell_type": "code",
      "source": [
        "(C_count0 + C_count1 + C_count2 + C_count3 + C_count4 + C_count5 + C_count6 + C_count7 + C_count8 + C_count9)/1000"
      ],
      "metadata": {
        "colab": {
          "base_uri": "https://localhost:8080/"
        },
        "id": "pKfcp4h2rOMn",
        "outputId": "91280fbe-1a5d-4dc2-b958-8f00d55e0f8a"
      },
      "execution_count": null,
      "outputs": [
        {
          "output_type": "execute_result",
          "data": {
            "text/plain": [
              "0.506"
            ]
          },
          "metadata": {},
          "execution_count": 116
        }
      ]
    },
    {
      "cell_type": "markdown",
      "source": [
        "# Average dataset"
      ],
      "metadata": {
        "id": "lUJ8AONv6J3d"
      }
    },
    {
      "cell_type": "code",
      "source": [
        "import numpy as np\n",
        "\n",
        "all_datasets = [FinalDistributionOver10ClassesRun1, FinalDistributionOver10ClassesRun2, FinalDistributionOver10ClassesRun3, FinalDistributionOver10ClassesRun4]\n",
        "\n",
        "new_dataset = []\n",
        "\n",
        "for x_value in range(1, 11):\n",
        "    y_values = []\n",
        "\n",
        "    for dataset in all_datasets:\n",
        "        for data_point in dataset:\n",
        "            if data_point[0] == x_value:\n",
        "                y_values.append(data_point[1])\n",
        "\n",
        "    avg_y = np.mean(y_values)\n",
        "    std_y = np.std(y_values)\n",
        "\n",
        "    new_dataset.append([x_value, avg_y, std_y])\n",
        "\n",
        "for data_point in new_dataset:\n",
        "    print(data_point)"
      ],
      "metadata": {
        "colab": {
          "base_uri": "https://localhost:8080/"
        },
        "id": "Kimox7v-xUip",
        "outputId": "fcc91009-283d-48aa-ba96-0be2be8694ed"
      },
      "execution_count": null,
      "outputs": [
        {
          "output_type": "stream",
          "name": "stdout",
          "text": [
            "[1, 14.75, 3.2691742076555053]\n",
            "[2, 68.75, 4.968651728587948]\n",
            "[3, 5.25, 1.920286436967152]\n",
            "[4, 69.75, 8.642193008721803]\n",
            "[5, 73.0, 7.713624310270756]\n",
            "[6, 99.75, 0.4330127018922193]\n",
            "[7, 5.5, 0.5]\n",
            "[8, 55.5, 2.0615528128088303]\n",
            "[9, 29.25, 5.584576975922169]\n",
            "[10, 96.5, 1.5]\n"
          ]
        }
      ]
    },
    {
      "cell_type": "code",
      "source": [
        "new_dataset"
      ],
      "metadata": {
        "colab": {
          "base_uri": "https://localhost:8080/"
        },
        "id": "pbH4e4wlrOYf",
        "outputId": "674e2bc3-3592-4f70-acdc-7ad0a2eb1d29"
      },
      "execution_count": null,
      "outputs": [
        {
          "output_type": "execute_result",
          "data": {
            "text/plain": [
              "[[1, 14.75, 3.2691742076555053],\n",
              " [2, 68.75, 4.968651728587948],\n",
              " [3, 5.25, 1.920286436967152],\n",
              " [4, 69.75, 8.642193008721803],\n",
              " [5, 73.0, 7.713624310270756],\n",
              " [6, 99.75, 0.4330127018922193],\n",
              " [7, 5.5, 0.5],\n",
              " [8, 55.5, 2.0615528128088303],\n",
              " [9, 29.25, 5.584576975922169],\n",
              " [10, 96.5, 1.5]]"
            ]
          },
          "metadata": {},
          "execution_count": 315
        }
      ]
    },
    {
      "cell_type": "code",
      "source": [],
      "metadata": {
        "id": "wZ8zua7SORwR"
      },
      "execution_count": null,
      "outputs": []
    },
    {
      "cell_type": "code",
      "source": [
        "FinalDistributionOver10ClassesRun1"
      ],
      "metadata": {
        "colab": {
          "base_uri": "https://localhost:8080/"
        },
        "id": "7CYEzqtL90_V",
        "outputId": "4285560a-dd49-4dd4-9c47-0f8b314eedad"
      },
      "execution_count": null,
      "outputs": [
        {
          "output_type": "execute_result",
          "data": {
            "text/plain": [
              "[[1, 20],\n",
              " [2, 66],\n",
              " [3, 4],\n",
              " [4, 77],\n",
              " [5, 63],\n",
              " [6, 99],\n",
              " [7, 5],\n",
              " [8, 53],\n",
              " [9, 25],\n",
              " [10, 94]]"
            ]
          },
          "metadata": {},
          "execution_count": 239
        }
      ]
    },
    {
      "cell_type": "code",
      "source": [
        "FinalDistributionOver10ClassesRun2"
      ],
      "metadata": {
        "id": "-KMM0Fvt96hg",
        "outputId": "647bd6d4-9cf7-46bc-f2d2-795daeea1403",
        "colab": {
          "base_uri": "https://localhost:8080/"
        }
      },
      "execution_count": null,
      "outputs": [
        {
          "output_type": "execute_result",
          "data": {
            "text/plain": [
              "[[1, 14],\n",
              " [2, 68],\n",
              " [3, 8],\n",
              " [4, 65],\n",
              " [5, 81],\n",
              " [6, 100],\n",
              " [7, 6],\n",
              " [8, 58],\n",
              " [9, 37],\n",
              " [10, 97]]"
            ]
          },
          "metadata": {},
          "execution_count": 316
        }
      ]
    },
    {
      "cell_type": "code",
      "source": [
        "FinalDistributionOver10ClassesRun3"
      ],
      "metadata": {
        "id": "ejcMDlwC96kX",
        "outputId": "4a459b75-a1b1-4536-d582-95905bdab199",
        "colab": {
          "base_uri": "https://localhost:8080/"
        }
      },
      "execution_count": null,
      "outputs": [
        {
          "output_type": "execute_result",
          "data": {
            "text/plain": [
              "[[1, 14],\n",
              " [2, 77],\n",
              " [3, 3],\n",
              " [4, 79],\n",
              " [5, 80],\n",
              " [6, 100],\n",
              " [7, 5],\n",
              " [8, 54],\n",
              " [9, 23],\n",
              " [10, 98]]"
            ]
          },
          "metadata": {},
          "execution_count": 237
        }
      ]
    },
    {
      "cell_type": "code",
      "source": [
        "new_dataset[1]"
      ],
      "metadata": {
        "colab": {
          "base_uri": "https://localhost:8080/"
        },
        "id": "KtBh3_vZORz6",
        "outputId": "3385e84a-9a6c-4831-e7e6-63be83832cd5"
      },
      "execution_count": null,
      "outputs": [
        {
          "output_type": "execute_result",
          "data": {
            "text/plain": [
              "[2, 68.75, 4.968651728587948]"
            ]
          },
          "metadata": {},
          "execution_count": 317
        }
      ]
    }
  ],
  "metadata": {
    "colab": {
      "provenance": [],
      "machine_shape": "hm",
      "authorship_tag": "ABX9TyOcaI7ckX0qGFaSX0MeTWH8",
      "include_colab_link": true
    },
    "kernelspec": {
      "display_name": "Python 3",
      "name": "python3"
    },
    "language_info": {
      "name": "python"
    }
  },
  "nbformat": 4,
  "nbformat_minor": 0
}