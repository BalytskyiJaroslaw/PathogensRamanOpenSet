{
  "cells": [
    {
      "cell_type": "markdown",
      "metadata": {
        "id": "view-in-github",
        "colab_type": "text"
      },
      "source": [
        "<a href=\"https://colab.research.google.com/github/BalytskyiJaroslaw/PathogensRamanOpenSet/blob/main/Obj_K_p1_p2_I_p3_submit.ipynb\" target=\"_parent\"><img src=\"https://colab.research.google.com/assets/colab-badge.svg\" alt=\"Open In Colab\"/></a>"
      ]
    },
    {
      "cell_type": "markdown",
      "metadata": {
        "id": "aOFOyLM_v8P1"
      },
      "source": [
        "# Operating in the ***open*** world, Objectosphere, $\\mathcal{K} = p_1 + p_2$, $\\mathcal{I} = p_3$"
      ]
    },
    {
      "cell_type": "code",
      "execution_count": null,
      "metadata": {
        "id": "zMZSeaB38pkm"
      },
      "outputs": [],
      "source": [
        "from __future__ import absolute_import\n",
        "from __future__ import print_function\n",
        "\n",
        "import numpy as np\n",
        "from numpy import genfromtxt\n",
        "from sklearn.utils import shuffle\n",
        "\n",
        "\n",
        "import pandas as pd\n",
        "from pandas import ExcelWriter\n",
        "from pandas import ExcelFile\n",
        "from pandas import read_csv\n",
        "\n",
        "from keras.layers import Lambda, Multiply\n",
        "\n",
        "import csv\n",
        "import pprint\n",
        "\n",
        "import tensorflow as tf\n",
        "from tensorflow import keras\n",
        "from tensorflow.keras import layers, models\n",
        "\n",
        "import keras\n",
        "#from keras.utils import to_categorical\n",
        "from pandas import read_csv\n",
        "from keras.models import Sequential\n",
        "from keras import layers\n",
        "#from keras.optimizers import SGD\n",
        "from keras import regularizers\n",
        "from keras.models import Sequential\n",
        "from keras.layers import Dense\n",
        "#from keras.optimizers import SGD\n",
        "\n",
        "from sklearn.preprocessing import LabelEncoder\n",
        "from sklearn.model_selection import train_test_split\n",
        "\n",
        "import matplotlib.pyplot as plt\n",
        "import seaborn as sns\n",
        "import random\n",
        "from pprint import pprint\n",
        "\n",
        "from sklearn.preprocessing import LabelEncoder\n",
        "import gspread\n",
        "import pandas as pd\n",
        "import pickle\n",
        "import pywt\n",
        "import matplotlib.pyplot as plt\n",
        "from tensorflow.keras import regularizers\n",
        "#from keras.utils import to_categorical\n",
        "\n",
        "from time import time\n",
        "t00 = time()\n",
        "import os\n",
        "from tensorflow.keras import layers\n",
        "from keras.layers import Input, Dense, concatenate\n",
        "from keras.models import Model\n",
        "from keras.layers import GlobalAveragePooling1D"
      ]
    },
    {
      "cell_type": "code",
      "execution_count": null,
      "metadata": {
        "id": "2ugI8BcU8u6J"
      },
      "outputs": [],
      "source": [
        "# Initialize the TPU and spread the computations across the 8 cores\n",
        "import tensorflow as tf\n",
        "resolver = tf.distribute.cluster_resolver.TPUClusterResolver(tpu='')\n",
        "tf.config.experimental_connect_to_cluster(resolver)\n",
        "# This is the TPU initialization code that has to be at the beginning.\n",
        "tf.tpu.experimental.initialize_tpu_system(resolver)\n",
        "tf.config.list_logical_devices('TPU')\n",
        "#print(\"All devices: \", tf.config.list_logical_devices('TPU'))\n",
        "\n",
        "strategy = tf.distribute.TPUStrategy(resolver)"
      ]
    },
    {
      "cell_type": "code",
      "execution_count": null,
      "metadata": {
        "colab": {
          "base_uri": "https://localhost:8080/"
        },
        "id": "Ld73dNtt8u8G",
        "outputId": "37b8f306-5e31-4633-e05c-7e30aa14a89e"
      },
      "outputs": [
        {
          "output_type": "stream",
          "name": "stdout",
          "text": [
            "Mounted at /content/gdrive\n"
          ]
        }
      ],
      "source": [
        "from google.colab import drive\n",
        "\n",
        "drive.mount(\"/content/gdrive\")"
      ]
    },
    {
      "cell_type": "markdown",
      "metadata": {
        "id": "unyCL8zewWQv"
      },
      "source": [
        "# Reference dataset"
      ]
    },
    {
      "cell_type": "code",
      "execution_count": null,
      "metadata": {
        "id": "Dj4dNAmyRE0L"
      },
      "outputs": [],
      "source": [
        "# Reference data\n",
        "data_X_reference = np.load(\"/content/gdrive/MyDrive/Stanford_data/X_reference.npy\")\n",
        "# Test data\n",
        "data_X_test = np.load(\"/content/gdrive/MyDrive/Stanford_data/X_test.npy\")\n",
        "\n",
        "data_y_reference = np.load(\"/content/gdrive/MyDrive/Stanford_data/y_reference.npy\")\n",
        "# Test labels\n",
        "data_y_test = np.load(\"/content/gdrive/MyDrive/Stanford_data/y_test.npy\")\n",
        "\n",
        "data_y_reference_int = []\n",
        "\n",
        "for i in range(data_y_reference.shape[0]):\n",
        "  data_y_reference_int.append(int(data_y_reference[i]))\n",
        "\n",
        "data_y_test_int = []\n",
        "\n",
        "for i in range(data_y_test.shape[0]):\n",
        "  data_y_test_int.append(int(data_y_test[i]))\n",
        "\n",
        "train_label = tf.keras.utils.to_categorical(data_y_reference_int)\n",
        "test_label = tf.keras.utils.to_categorical(data_y_test_int)"
      ]
    },
    {
      "cell_type": "markdown",
      "metadata": {
        "id": "FnMc6rnGSdht"
      },
      "source": [
        "# $\\mathcal{K} = p_1 + p_2$, reference indices, training dataset: 18000 - 26000, 28000 - 38000, 44000 - 50000, 52000 - 58000. $\\mathcal{I} = p_3$, reference indices: 10000 - 14000, 26000 - 28000, 42000 - 44000, 58000 - 60000."
      ]
    },
    {
      "cell_type": "code",
      "execution_count": null,
      "metadata": {
        "colab": {
          "base_uri": "https://localhost:8080/"
        },
        "id": "O3O2yYAe8u_V",
        "outputId": "c2b94435-8698-40b9-a003-0426e7b59441"
      },
      "outputs": [
        {
          "output_type": "stream",
          "name": "stdout",
          "text": [
            "Shape of the known and ignored data, reference: (40000, 1000)\n",
            "Shape of the known and ignored labels, reference: (40000, 16)\n"
          ]
        }
      ],
      "source": [
        "indices =[slice(18000, 26000),slice(28000, 38000),slice(44000, 50000),slice(52000, 58000),slice(10000, 14000),slice(26000, 28000),slice(42000, 44000),slice(58000, 60000)]\n",
        "\n",
        "Known_and_Ignored_data_X_reference = np.concatenate([data_X_reference[idx, :] for idx in indices], axis=0)\n",
        "\n",
        "Known_and_Ignored_data_X_train_label_int = []\n",
        "\n",
        "for i in range(2000*15):\n",
        "  Known_and_Ignored_data_X_train_label_int.append(int(data_y_reference[i]))\n",
        "\n",
        "for i in range(2000*5):\n",
        " Known_and_Ignored_data_X_train_label_int.append(int(data_y_reference[2000*15]))\n",
        "\n",
        "Known_and_Ignored_data_X_train_label = tf.keras.utils.to_categorical(Known_and_Ignored_data_X_train_label_int)\n",
        "print(\"Shape of the known and ignored data, reference:\", Known_and_Ignored_data_X_reference.shape)\n",
        "print(\"Shape of the known and ignored labels, reference:\", Known_and_Ignored_data_X_train_label.shape)"
      ]
    },
    {
      "cell_type": "markdown",
      "metadata": {
        "id": "j6hDE1gvUwoX"
      },
      "source": [
        "# $\\mathcal{K}$, known reference indices for the ***test***: 900 - 1300, 1400 - 1900, 2200 - 2500, 2800 - 2900. Ignored, ***test***: 500 - 700, 1300 - 1400, 2100 - 2200, 2900 - 3000.\n"
      ]
    },
    {
      "cell_type": "code",
      "execution_count": null,
      "metadata": {
        "colab": {
          "base_uri": "https://localhost:8080/"
        },
        "id": "tfgvb0XE8vBT",
        "outputId": "228c7e4d-a158-4ed2-d841-44484bebd106"
      },
      "outputs": [
        {
          "output_type": "stream",
          "name": "stdout",
          "text": [
            "Shape of the known and ignored data, reference: (2000, 1000)\n",
            "Shape of the known and ignored labels, reference: (2000, 16)\n"
          ]
        }
      ],
      "source": [
        "indices =[slice(900, 1300),slice(1400, 1900),slice(2200, 2500),slice(2600, 2900),slice(500, 700),slice(1300, 1400),slice(2100, 2200),slice(2900, 3000)]\n",
        "\n",
        "Known_and_Ignored_data_X_test = np.concatenate([data_X_test[idx, :] for idx in indices], axis=0)\n",
        "\n",
        "Known_and_Ignored_data_X_test_label_int = []\n",
        "\n",
        "for i in range(100*15):\n",
        "  Known_and_Ignored_data_X_test_label_int.append(int(data_y_test[i]))\n",
        "\n",
        "for i in range(100*5):\n",
        "  Known_and_Ignored_data_X_test_label_int.append(int(data_y_test[100*15]))\n",
        "\n",
        "Known_and_Ignored_data_X_test_label = tf.keras.utils.to_categorical(Known_and_Ignored_data_X_test_label_int)\n",
        "print(\"Shape of the known and ignored data, reference:\", Known_and_Ignored_data_X_test.shape)\n",
        "print(\"Shape of the known and ignored labels, reference:\", Known_and_Ignored_data_X_test_label.shape)"
      ]
    },
    {
      "cell_type": "markdown",
      "metadata": {
        "id": "DZ18vK-Vw0dS"
      },
      "source": [
        "# Leave only $\\mathcal{K}$ samples to test the accuracy. This is done to keep the right shape of the labels."
      ]
    },
    {
      "cell_type": "code",
      "execution_count": null,
      "metadata": {
        "colab": {
          "base_uri": "https://localhost:8080/"
        },
        "id": "JvyfQL8x8vDT",
        "outputId": "00a8cbf5-f332-4dc8-c8f8-7316d81b017c"
      },
      "outputs": [
        {
          "output_type": "stream",
          "name": "stdout",
          "text": [
            "Shape of the known and ignored data, reference: (1500, 1000)\n",
            "Shape of the known and ignored labels, reference: (1500, 16)\n"
          ]
        }
      ],
      "source": [
        "Known_data_X_test = Known_and_Ignored_data_X_test[:-100*5]\n",
        "Known_data_X_test_label = Known_and_Ignored_data_X_test_label[:-100*5]\n",
        "print(\"Shape of the known and ignored data, reference:\", Known_data_X_test.shape)\n",
        "print(\"Shape of the known and ignored labels, reference:\", Known_data_X_test_label.shape)"
      ]
    },
    {
      "cell_type": "markdown",
      "metadata": {
        "id": "I2fwBprKxC7x"
      },
      "source": [
        "# Defining the $\\mathcal{K}$ labels"
      ]
    },
    {
      "cell_type": "code",
      "execution_count": null,
      "metadata": {
        "id": "5Z8ZbbXr8vEu"
      },
      "outputs": [],
      "source": [
        "KnownLabels = []\n",
        "# 0 - 5\n",
        "KnownLabels.append(Known_and_Ignored_data_X_train_label[1 + 0*2000])\n",
        "KnownLabels.append(Known_and_Ignored_data_X_train_label[1 + 1*2000])\n",
        "KnownLabels.append(Known_and_Ignored_data_X_train_label[1 + 2*2000])\n",
        "KnownLabels.append(Known_and_Ignored_data_X_train_label[1 + 3*2000])\n",
        "KnownLabels.append(Known_and_Ignored_data_X_train_label[1 + 4*2000])\n",
        "\n",
        "# 6 - 10\n",
        "KnownLabels.append(Known_and_Ignored_data_X_train_label[1 + 5*2000])\n",
        "KnownLabels.append(Known_and_Ignored_data_X_train_label[1 + 6*2000])\n",
        "KnownLabels.append(Known_and_Ignored_data_X_train_label[1 + 7*2000])\n",
        "KnownLabels.append(Known_and_Ignored_data_X_train_label[1 + 8*2000])\n",
        "KnownLabels.append(Known_and_Ignored_data_X_train_label[1 + 9*2000])\n",
        "\n",
        "# 11 - 15\n",
        "KnownLabels.append(Known_and_Ignored_data_X_train_label[1 + 10*2000])\n",
        "KnownLabels.append(Known_and_Ignored_data_X_train_label[1 + 11*2000])\n",
        "KnownLabels.append(Known_and_Ignored_data_X_train_label[1 + 12*2000])\n",
        "KnownLabels.append(Known_and_Ignored_data_X_train_label[1 + 13*2000])\n",
        "KnownLabels.append(Known_and_Ignored_data_X_train_label[1 + 14*2000])\n",
        "\n",
        "Ignored_label = Known_and_Ignored_data_X_train_label[1 + 15*2000]"
      ]
    },
    {
      "cell_type": "code",
      "execution_count": null,
      "metadata": {
        "colab": {
          "base_uri": "https://localhost:8080/"
        },
        "id": "jmTb9OT88vHK",
        "outputId": "de3359c7-08d4-4cfd-a979-e19e3c973d46"
      },
      "outputs": [
        {
          "output_type": "execute_result",
          "data": {
            "text/plain": [
              "[array([1., 0., 0., 0., 0., 0., 0., 0., 0., 0., 0., 0., 0., 0., 0., 0.],\n",
              "       dtype=float32),\n",
              " array([0., 1., 0., 0., 0., 0., 0., 0., 0., 0., 0., 0., 0., 0., 0., 0.],\n",
              "       dtype=float32),\n",
              " array([0., 0., 1., 0., 0., 0., 0., 0., 0., 0., 0., 0., 0., 0., 0., 0.],\n",
              "       dtype=float32),\n",
              " array([0., 0., 0., 1., 0., 0., 0., 0., 0., 0., 0., 0., 0., 0., 0., 0.],\n",
              "       dtype=float32),\n",
              " array([0., 0., 0., 0., 1., 0., 0., 0., 0., 0., 0., 0., 0., 0., 0., 0.],\n",
              "       dtype=float32),\n",
              " array([0., 0., 0., 0., 0., 1., 0., 0., 0., 0., 0., 0., 0., 0., 0., 0.],\n",
              "       dtype=float32),\n",
              " array([0., 0., 0., 0., 0., 0., 1., 0., 0., 0., 0., 0., 0., 0., 0., 0.],\n",
              "       dtype=float32),\n",
              " array([0., 0., 0., 0., 0., 0., 0., 1., 0., 0., 0., 0., 0., 0., 0., 0.],\n",
              "       dtype=float32),\n",
              " array([0., 0., 0., 0., 0., 0., 0., 0., 1., 0., 0., 0., 0., 0., 0., 0.],\n",
              "       dtype=float32),\n",
              " array([0., 0., 0., 0., 0., 0., 0., 0., 0., 1., 0., 0., 0., 0., 0., 0.],\n",
              "       dtype=float32),\n",
              " array([0., 0., 0., 0., 0., 0., 0., 0., 0., 0., 1., 0., 0., 0., 0., 0.],\n",
              "       dtype=float32),\n",
              " array([0., 0., 0., 0., 0., 0., 0., 0., 0., 0., 0., 1., 0., 0., 0., 0.],\n",
              "       dtype=float32),\n",
              " array([0., 0., 0., 0., 0., 0., 0., 0., 0., 0., 0., 0., 1., 0., 0., 0.],\n",
              "       dtype=float32),\n",
              " array([0., 0., 0., 0., 0., 0., 0., 0., 0., 0., 0., 0., 0., 1., 0., 0.],\n",
              "       dtype=float32),\n",
              " array([0., 0., 0., 0., 0., 0., 0., 0., 0., 0., 0., 0., 0., 0., 1., 0.],\n",
              "       dtype=float32)]"
            ]
          },
          "metadata": {},
          "execution_count": 8
        }
      ],
      "source": [
        "KnownLabels"
      ]
    },
    {
      "cell_type": "markdown",
      "metadata": {
        "id": "efSwPk7XxKZS"
      },
      "source": [
        "# The ignored label $\\mathcal{I}$ is:"
      ]
    },
    {
      "cell_type": "code",
      "execution_count": null,
      "metadata": {
        "colab": {
          "base_uri": "https://localhost:8080/"
        },
        "id": "Ecri__MBWN5i",
        "outputId": "e8cf3a76-d3b7-402c-e237-9c0aada9f5c5"
      },
      "outputs": [
        {
          "output_type": "execute_result",
          "data": {
            "text/plain": [
              "array([0., 0., 0., 0., 0., 0., 0., 0., 0., 0., 0., 0., 0., 0., 0., 1.],\n",
              "      dtype=float32)"
            ]
          },
          "metadata": {},
          "execution_count": 9
        }
      ],
      "source": [
        "Ignored_label"
      ]
    },
    {
      "cell_type": "markdown",
      "metadata": {
        "id": "Ety-KKr0WX1L"
      },
      "source": [
        "# Never seen before samples, $\\mathcal{N}$, first seen during the test: 0 - 500, 700 - 900, 1900 - 2100, 2500 - 2600."
      ]
    },
    {
      "cell_type": "code",
      "execution_count": null,
      "metadata": {
        "colab": {
          "base_uri": "https://localhost:8080/"
        },
        "id": "POJ8qGRHWN-a",
        "outputId": "be879bd0-3ecc-45ef-b4f4-8f5fec9f2765"
      },
      "outputs": [
        {
          "output_type": "stream",
          "name": "stdout",
          "text": [
            "Shape of the NeverSeen data, test: (1000, 1000)\n"
          ]
        }
      ],
      "source": [
        "indices = [slice(0, 500),slice(700, 900),slice(1900, 2100),slice(2500, 2600)]\n",
        "NeverSeen_data_X_test = np.concatenate([data_X_test[idx, :] for idx in indices], axis=0)\n",
        "\n",
        "print(\"Shape of the NeverSeen data, test:\", NeverSeen_data_X_test.shape)"
      ]
    },
    {
      "cell_type": "markdown",
      "metadata": {
        "id": "CNsCj3dEnUT-"
      },
      "source": [
        "# Data for finetuning"
      ]
    },
    {
      "cell_type": "code",
      "execution_count": null,
      "metadata": {
        "id": "ltz-27T0WODD"
      },
      "outputs": [],
      "source": [
        "# Finetuning\n",
        "data_X_finetune = np.load(\"/content/gdrive/MyDrive/Stanford_data/X_finetune.npy\")\n",
        "# Test data\n",
        "data_X_test = np.load(\"/content/gdrive/MyDrive/Stanford_data/X_test.npy\")\n",
        "\n",
        "data_y_finetune = np.load(\"/content/gdrive/MyDrive/Stanford_data/y_finetune.npy\")\n",
        "# Test labels\n",
        "data_y_test = np.load(\"/content/gdrive/MyDrive/Stanford_data/y_test.npy\")\n",
        "\n",
        "data_y_finetune_int = []\n",
        "\n",
        "for i in range(data_y_finetune.shape[0]):\n",
        "  data_y_finetune_int.append(int(data_y_finetune[i]))\n",
        "\n",
        "data_y_test_int = []\n",
        "\n",
        "for i in range(data_y_test.shape[0]):\n",
        "  data_y_test_int.append(int(data_y_test[i]))\n",
        "\n",
        "train_label = tf.keras.utils.to_categorical(data_y_finetune_int)\n",
        "test_label = tf.keras.utils.to_categorical(data_y_test_int)\n",
        "\n",
        "#data_X_finetune, train_label = shuffle(data_X_finetune, train_label)"
      ]
    },
    {
      "cell_type": "markdown",
      "metadata": {
        "id": "M-nHKTPjns23"
      },
      "source": [
        "# Known data, $\\mathcal{K}$, for the finetuning: 900 - 1300, 1700 - 1900, 2200 - 2500, 2800 - 2900. Ignored samples, $\\mathcal{I}$, finetuning: 500 - 700, 1300 - 1400, 2100 - 2200, 2900 - 3000."
      ]
    },
    {
      "cell_type": "code",
      "execution_count": null,
      "metadata": {
        "colab": {
          "base_uri": "https://localhost:8080/"
        },
        "id": "I_rz3MyPWOFJ",
        "outputId": "c53e09d0-7f9a-4099-a36b-9a07ac59e267"
      },
      "outputs": [
        {
          "output_type": "stream",
          "name": "stdout",
          "text": [
            "Shape of the known and ignored data, finetune: (2000, 1000)\n",
            "Shape of the known and ignored labels, finetune: (2000, 16)\n"
          ]
        }
      ],
      "source": [
        "indices =[slice(900, 1300),slice(1400, 1900),slice(2200, 2500),slice(2600, 2900),slice(500, 700),slice(1300, 1400),slice(2100, 2200),slice(2900, 3000)]\n",
        "\n",
        "Known_and_Ignored_data_X_finetune = np.concatenate([data_X_finetune[idx, :] for idx in indices], axis=0)\n",
        "\n",
        "Known_and_Ignored_data_X_finetune_label_int = []\n",
        "\n",
        "for i in range(100*15):\n",
        "  Known_and_Ignored_data_X_finetune_label_int.append(int(data_y_finetune[i]))\n",
        "\n",
        "for i in range(100*5):\n",
        "  Known_and_Ignored_data_X_finetune_label_int.append(int(data_y_finetune[100*15]))\n",
        "\n",
        "Known_and_Ignored_data_X_finetune_label = tf.keras.utils.to_categorical(Known_and_Ignored_data_X_finetune_label_int)\n",
        "\n",
        "print(\"Shape of the known and ignored data, finetune:\", Known_and_Ignored_data_X_finetune.shape)\n",
        "print(\"Shape of the known and ignored labels, finetune:\", Known_and_Ignored_data_X_finetune_label.shape)"
      ]
    },
    {
      "cell_type": "markdown",
      "metadata": {
        "id": "TD7H4IVexy7m"
      },
      "source": [
        "# Uploading the libraries"
      ]
    },
    {
      "cell_type": "code",
      "execution_count": null,
      "metadata": {
        "id": "XRxb0a9tqxRv"
      },
      "outputs": [],
      "source": [
        "# Create a checkpoint directory to store the checkpoints.\n",
        "checkpoint_dir = './training_checkpoints'\n",
        "checkpoint_prefix = os.path.join(checkpoint_dir, \"ckpt\")\n",
        "\n",
        "import numpy as np\n",
        "import pandas as pd\n",
        "import seaborn as sns\n",
        "from numpy import interp\n",
        "from itertools import cycle\n",
        "import matplotlib.pyplot as plt\n",
        "from sklearn.model_selection import train_test_split\n",
        "from sklearn.preprocessing import LabelEncoder, OneHotEncoder\n",
        "#from sklearn.metrics import mean_absolute_error, accuracy_score, precision_score, recall_score, f1_score, roc_curve, plot_roc_curve\n",
        "from sklearn.metrics import confusion_matrix, classification_report, auc\n",
        "from sklearn.metrics import precision_recall_curve\n",
        "from sklearn.metrics import average_precision_score\n",
        "from keras.layers import Input, Conv1D, MaxPooling1D, UpSampling1D, concatenate, BatchNormalization, Activation, add\n",
        "from keras.layers import Conv2D, MaxPooling2D, Reshape, Flatten, Dense, GlobalAveragePooling1D, GlobalMaxPooling1D, Multiply, Conv1DTranspose, LeakyReLU, Dropout\n",
        "from keras.models import Model, model_from_json\n",
        "#from keras.optimizers import Adam\n",
        "from keras.callbacks import EarlyStopping, ModelCheckpoint\n",
        "sns.set_theme(style=\"whitegrid\")"
      ]
    },
    {
      "cell_type": "markdown",
      "metadata": {
        "id": "-hEXXg4wx2Dz"
      },
      "source": [
        "# Defining our model"
      ]
    },
    {
      "cell_type": "code",
      "execution_count": null,
      "metadata": {
        "colab": {
          "base_uri": "https://localhost:8080/"
        },
        "id": "Iq9vqf5AovvA",
        "outputId": "c2cbc6f6-4fc6-465a-da26-0ac216b9fe4d"
      },
      "outputs": [
        {
          "output_type": "stream",
          "name": "stdout",
          "text": [
            "Model: \"Combined\"\n",
            "__________________________________________________________________________________________________\n",
            " Layer (type)                Output Shape                 Param #   Connected to                  \n",
            "==================================================================================================\n",
            " input_1 (InputLayer)        [(None, 1000, 1)]            0         []                            \n",
            "                                                                                                  \n",
            " zero_padding1d (ZeroPaddin  (None, 1006, 1)              0         ['input_1[0][0]']             \n",
            " g1D)                                                                                             \n",
            "                                                                                                  \n",
            " Convolution1 (Conv1D)       (None, 500, 64)              512       ['zero_padding1d[0][0]']      \n",
            "                                                                                                  \n",
            " BatchNormStage1 (BatchNorm  (None, 500, 64)              256       ['Convolution1[0][0]']        \n",
            " alization)                                                                                       \n",
            "                                                                                                  \n",
            " activation (Activation)     (None, 500, 64)              0         ['BatchNormStage1[0][0]']     \n",
            "                                                                                                  \n",
            " max_pooling1d (MaxPooling1  (None, 249, 64)              0         ['activation[0][0]']          \n",
            " D)                                                                                               \n",
            "                                                                                                  \n",
            " conv1d (Conv1D)             (None, 249, 64)              12352     ['max_pooling1d[0][0]']       \n",
            "                                                                                                  \n",
            " batch_normalization (Batch  (None, 249, 64)              256       ['conv1d[0][0]']              \n",
            " Normalization)                                                                                   \n",
            "                                                                                                  \n",
            " activation_1 (Activation)   (None, 249, 64)              0         ['batch_normalization[0][0]'] \n",
            "                                                                                                  \n",
            " conv1d_1 (Conv1D)           (None, 249, 64)              12352     ['activation_1[0][0]']        \n",
            "                                                                                                  \n",
            " batch_normalization_1 (Bat  (None, 249, 64)              256       ['conv1d_1[0][0]']            \n",
            " chNormalization)                                                                                 \n",
            "                                                                                                  \n",
            " activation_2 (Activation)   (None, 249, 64)              0         ['batch_normalization_1[0][0]'\n",
            "                                                                    ]                             \n",
            "                                                                                                  \n",
            " res2a_branch (Conv1D)       (None, 249, 256)             49408     ['activation_2[0][0]']        \n",
            "                                                                                                  \n",
            " conv1d_2 (Conv1D)           (None, 249, 256)             16640     ['max_pooling1d[0][0]']       \n",
            "                                                                                                  \n",
            " batch_normalization_2 (Bat  (None, 249, 256)             1024      ['res2a_branch[0][0]']        \n",
            " chNormalization)                                                                                 \n",
            "                                                                                                  \n",
            " batch_normalization_3 (Bat  (None, 249, 256)             1024      ['conv1d_2[0][0]']            \n",
            " chNormalization)                                                                                 \n",
            "                                                                                                  \n",
            " add (Add)                   (None, 249, 256)             0         ['batch_normalization_2[0][0]'\n",
            "                                                                    , 'batch_normalization_3[0][0]\n",
            "                                                                    ']                            \n",
            "                                                                                                  \n",
            " activation_3 (Activation)   (None, 249, 256)             0         ['add[0][0]']                 \n",
            "                                                                                                  \n",
            " conv1d_3 (Conv1D)           (None, 249, 64)              16448     ['activation_3[0][0]']        \n",
            "                                                                                                  \n",
            " batch_normalization_4 (Bat  (None, 249, 64)              256       ['conv1d_3[0][0]']            \n",
            " chNormalization)                                                                                 \n",
            "                                                                                                  \n",
            " activation_4 (Activation)   (None, 249, 64)              0         ['batch_normalization_4[0][0]'\n",
            "                                                                    ]                             \n",
            "                                                                                                  \n",
            " conv1d_4 (Conv1D)           (None, 249, 64)              12352     ['activation_4[0][0]']        \n",
            "                                                                                                  \n",
            " batch_normalization_5 (Bat  (None, 249, 64)              256       ['conv1d_4[0][0]']            \n",
            " chNormalization)                                                                                 \n",
            "                                                                                                  \n",
            " activation_5 (Activation)   (None, 249, 64)              0         ['batch_normalization_5[0][0]'\n",
            "                                                                    ]                             \n",
            "                                                                                                  \n",
            " conv1d_5 (Conv1D)           (None, 249, 256)             16640     ['activation_5[0][0]']        \n",
            "                                                                                                  \n",
            " batch_normalization_6 (Bat  (None, 249, 256)             1024      ['conv1d_5[0][0]']            \n",
            " chNormalization)                                                                                 \n",
            "                                                                                                  \n",
            " add_1 (Add)                 (None, 249, 256)             0         ['batch_normalization_6[0][0]'\n",
            "                                                                    , 'activation_3[0][0]']       \n",
            "                                                                                                  \n",
            " activation_6 (Activation)   (None, 249, 256)             0         ['add_1[0][0]']               \n",
            "                                                                                                  \n",
            " conv1d_6 (Conv1D)           (None, 125, 128)             98432     ['activation_6[0][0]']        \n",
            "                                                                                                  \n",
            " batch_normalization_7 (Bat  (None, 125, 128)             512       ['conv1d_6[0][0]']            \n",
            " chNormalization)                                                                                 \n",
            "                                                                                                  \n",
            " activation_7 (Activation)   (None, 125, 128)             0         ['batch_normalization_7[0][0]'\n",
            "                                                                    ]                             \n",
            "                                                                                                  \n",
            " conv1d_7 (Conv1D)           (None, 125, 128)             49280     ['activation_7[0][0]']        \n",
            "                                                                                                  \n",
            " batch_normalization_8 (Bat  (None, 125, 128)             512       ['conv1d_7[0][0]']            \n",
            " chNormalization)                                                                                 \n",
            "                                                                                                  \n",
            " activation_8 (Activation)   (None, 125, 128)             0         ['batch_normalization_8[0][0]'\n",
            "                                                                    ]                             \n",
            "                                                                                                  \n",
            " res3a_branch (Conv1D)       (None, 125, 512)             197120    ['activation_8[0][0]']        \n",
            "                                                                                                  \n",
            " conv1d_8 (Conv1D)           (None, 125, 512)             131584    ['activation_6[0][0]']        \n",
            "                                                                                                  \n",
            " batch_normalization_9 (Bat  (None, 125, 512)             2048      ['res3a_branch[0][0]']        \n",
            " chNormalization)                                                                                 \n",
            "                                                                                                  \n",
            " batch_normalization_10 (Ba  (None, 125, 512)             2048      ['conv1d_8[0][0]']            \n",
            " tchNormalization)                                                                                \n",
            "                                                                                                  \n",
            " add_2 (Add)                 (None, 125, 512)             0         ['batch_normalization_9[0][0]'\n",
            "                                                                    , 'batch_normalization_10[0][0\n",
            "                                                                    ]']                           \n",
            "                                                                                                  \n",
            " activation_9 (Activation)   (None, 125, 512)             0         ['add_2[0][0]']               \n",
            "                                                                                                  \n",
            " conv1d_9 (Conv1D)           (None, 125, 128)             65664     ['activation_9[0][0]']        \n",
            "                                                                                                  \n",
            " batch_normalization_11 (Ba  (None, 125, 128)             512       ['conv1d_9[0][0]']            \n",
            " tchNormalization)                                                                                \n",
            "                                                                                                  \n",
            " activation_10 (Activation)  (None, 125, 128)             0         ['batch_normalization_11[0][0]\n",
            "                                                                    ']                            \n",
            "                                                                                                  \n",
            " conv1d_10 (Conv1D)          (None, 125, 128)             49280     ['activation_10[0][0]']       \n",
            "                                                                                                  \n",
            " batch_normalization_12 (Ba  (None, 125, 128)             512       ['conv1d_10[0][0]']           \n",
            " tchNormalization)                                                                                \n",
            "                                                                                                  \n",
            " activation_11 (Activation)  (None, 125, 128)             0         ['batch_normalization_12[0][0]\n",
            "                                                                    ']                            \n",
            "                                                                                                  \n",
            " conv1d_11 (Conv1D)          (None, 125, 512)             66048     ['activation_11[0][0]']       \n",
            "                                                                                                  \n",
            " batch_normalization_13 (Ba  (None, 125, 512)             2048      ['conv1d_11[0][0]']           \n",
            " tchNormalization)                                                                                \n",
            "                                                                                                  \n",
            " add_3 (Add)                 (None, 125, 512)             0         ['batch_normalization_13[0][0]\n",
            "                                                                    ',                            \n",
            "                                                                     'activation_9[0][0]']        \n",
            "                                                                                                  \n",
            " activation_12 (Activation)  (None, 125, 512)             0         ['add_3[0][0]']               \n",
            "                                                                                                  \n",
            " conv1d_12 (Conv1D)          (None, 63, 256)              393472    ['activation_12[0][0]']       \n",
            "                                                                                                  \n",
            " batch_normalization_14 (Ba  (None, 63, 256)              1024      ['conv1d_12[0][0]']           \n",
            " tchNormalization)                                                                                \n",
            "                                                                                                  \n",
            " activation_13 (Activation)  (None, 63, 256)              0         ['batch_normalization_14[0][0]\n",
            "                                                                    ']                            \n",
            "                                                                                                  \n",
            " conv1d_13 (Conv1D)          (None, 63, 256)              196864    ['activation_13[0][0]']       \n",
            "                                                                                                  \n",
            " batch_normalization_15 (Ba  (None, 63, 256)              1024      ['conv1d_13[0][0]']           \n",
            " tchNormalization)                                                                                \n",
            "                                                                                                  \n",
            " activation_14 (Activation)  (None, 63, 256)              0         ['batch_normalization_15[0][0]\n",
            "                                                                    ']                            \n",
            "                                                                                                  \n",
            " res4a_branch (Conv1D)       (None, 63, 1024)             787456    ['activation_14[0][0]']       \n",
            "                                                                                                  \n",
            " conv1d_14 (Conv1D)          (None, 63, 1024)             525312    ['activation_12[0][0]']       \n",
            "                                                                                                  \n",
            " batch_normalization_16 (Ba  (None, 63, 1024)             4096      ['res4a_branch[0][0]']        \n",
            " tchNormalization)                                                                                \n",
            "                                                                                                  \n",
            " batch_normalization_17 (Ba  (None, 63, 1024)             4096      ['conv1d_14[0][0]']           \n",
            " tchNormalization)                                                                                \n",
            "                                                                                                  \n",
            " add_4 (Add)                 (None, 63, 1024)             0         ['batch_normalization_16[0][0]\n",
            "                                                                    ',                            \n",
            "                                                                     'batch_normalization_17[0][0]\n",
            "                                                                    ']                            \n",
            "                                                                                                  \n",
            " activation_15 (Activation)  (None, 63, 1024)             0         ['add_4[0][0]']               \n",
            "                                                                                                  \n",
            " conv1d_15 (Conv1D)          (None, 63, 256)              262400    ['activation_15[0][0]']       \n",
            "                                                                                                  \n",
            " batch_normalization_18 (Ba  (None, 63, 256)              1024      ['conv1d_15[0][0]']           \n",
            " tchNormalization)                                                                                \n",
            "                                                                                                  \n",
            " activation_16 (Activation)  (None, 63, 256)              0         ['batch_normalization_18[0][0]\n",
            "                                                                    ']                            \n",
            "                                                                                                  \n",
            " conv1d_16 (Conv1D)          (None, 63, 256)              196864    ['activation_16[0][0]']       \n",
            "                                                                                                  \n",
            " batch_normalization_19 (Ba  (None, 63, 256)              1024      ['conv1d_16[0][0]']           \n",
            " tchNormalization)                                                                                \n",
            "                                                                                                  \n",
            " activation_17 (Activation)  (None, 63, 256)              0         ['batch_normalization_19[0][0]\n",
            "                                                                    ']                            \n",
            "                                                                                                  \n",
            " conv1d_17 (Conv1D)          (None, 63, 1024)             263168    ['activation_17[0][0]']       \n",
            "                                                                                                  \n",
            " batch_normalization_20 (Ba  (None, 63, 1024)             4096      ['conv1d_17[0][0]']           \n",
            " tchNormalization)                                                                                \n",
            "                                                                                                  \n",
            " add_5 (Add)                 (None, 63, 1024)             0         ['batch_normalization_20[0][0]\n",
            "                                                                    ',                            \n",
            "                                                                     'activation_15[0][0]']       \n",
            "                                                                                                  \n",
            " activation_18 (Activation)  (None, 63, 1024)             0         ['add_5[0][0]']               \n",
            "                                                                                                  \n",
            " conv1d_18 (Conv1D)          (None, 32, 256)              786688    ['activation_18[0][0]']       \n",
            "                                                                                                  \n",
            " batch_normalization_21 (Ba  (None, 32, 256)              1024      ['conv1d_18[0][0]']           \n",
            " tchNormalization)                                                                                \n",
            "                                                                                                  \n",
            " activation_19 (Activation)  (None, 32, 256)              0         ['batch_normalization_21[0][0]\n",
            "                                                                    ']                            \n",
            "                                                                                                  \n",
            " conv1d_19 (Conv1D)          (None, 32, 256)              196864    ['activation_19[0][0]']       \n",
            "                                                                                                  \n",
            " batch_normalization_22 (Ba  (None, 32, 256)              1024      ['conv1d_19[0][0]']           \n",
            " tchNormalization)                                                                                \n",
            "                                                                                                  \n",
            " activation_20 (Activation)  (None, 32, 256)              0         ['batch_normalization_22[0][0]\n",
            "                                                                    ']                            \n",
            "                                                                                                  \n",
            " res5a_branch (Conv1D)       (None, 32, 2048)             1574912   ['activation_20[0][0]']       \n",
            "                                                                                                  \n",
            " conv1d_20 (Conv1D)          (None, 32, 2048)             2099200   ['activation_18[0][0]']       \n",
            "                                                                                                  \n",
            " batch_normalization_23 (Ba  (None, 32, 2048)             8192      ['res5a_branch[0][0]']        \n",
            " tchNormalization)                                                                                \n",
            "                                                                                                  \n",
            " batch_normalization_24 (Ba  (None, 32, 2048)             8192      ['conv1d_20[0][0]']           \n",
            " tchNormalization)                                                                                \n",
            "                                                                                                  \n",
            " add_6 (Add)                 (None, 32, 2048)             0         ['batch_normalization_23[0][0]\n",
            "                                                                    ',                            \n",
            "                                                                     'batch_normalization_24[0][0]\n",
            "                                                                    ']                            \n",
            "                                                                                                  \n",
            " activation_21 (Activation)  (None, 32, 2048)             0         ['add_6[0][0]']               \n",
            "                                                                                                  \n",
            " conv1d_21 (Conv1D)          (None, 32, 256)              524544    ['activation_21[0][0]']       \n",
            "                                                                                                  \n",
            " batch_normalization_25 (Ba  (None, 32, 256)              1024      ['conv1d_21[0][0]']           \n",
            " tchNormalization)                                                                                \n",
            "                                                                                                  \n",
            " activation_22 (Activation)  (None, 32, 256)              0         ['batch_normalization_25[0][0]\n",
            "                                                                    ']                            \n",
            "                                                                                                  \n",
            " conv1d_22 (Conv1D)          (None, 32, 256)              196864    ['activation_22[0][0]']       \n",
            "                                                                                                  \n",
            " batch_normalization_26 (Ba  (None, 32, 256)              1024      ['conv1d_22[0][0]']           \n",
            " tchNormalization)                                                                                \n",
            "                                                                                                  \n",
            " activation_23 (Activation)  (None, 32, 256)              0         ['batch_normalization_26[0][0]\n",
            "                                                                    ']                            \n",
            "                                                                                                  \n",
            " conv1d_23 (Conv1D)          (None, 32, 2048)             526336    ['activation_23[0][0]']       \n",
            "                                                                                                  \n",
            " batch_normalization_27 (Ba  (None, 32, 2048)             8192      ['conv1d_23[0][0]']           \n",
            " tchNormalization)                                                                                \n",
            "                                                                                                  \n",
            " add_7 (Add)                 (None, 32, 2048)             0         ['batch_normalization_27[0][0]\n",
            "                                                                    ',                            \n",
            "                                                                     'activation_21[0][0]']       \n",
            "                                                                                                  \n",
            " activation_24 (Activation)  (None, 32, 2048)             0         ['add_7[0][0]']               \n",
            "                                                                                                  \n",
            " global_average_pooling1d (  (None, 2048)                 0         ['activation_24[0][0]']       \n",
            " GlobalAveragePooling1D)                                                                          \n",
            "                                                                                                  \n",
            " reshape (Reshape)           (None, 1, 2048)              0         ['global_average_pooling1d[0][\n",
            "                                                                    0]']                          \n",
            "                                                                                                  \n",
            " dense (Dense)               (None, 1, 128)               262272    ['reshape[0][0]']             \n",
            "                                                                                                  \n",
            " dense_1 (Dense)             (None, 1, 2048)              264192    ['dense[0][0]']               \n",
            "                                                                                                  \n",
            " multiply (Multiply)         (None, 32, 2048)             0         ['activation_24[0][0]',       \n",
            "                                                                     'dense_1[0][0]']             \n",
            "                                                                                                  \n",
            " conv1d_transpose (Conv1DTr  (None, 64, 64)               393280    ['multiply[0][0]']            \n",
            " anspose)                                                                                         \n",
            "                                                                                                  \n",
            " batch_normalization_28 (Ba  (None, 64, 64)               256       ['conv1d_transpose[0][0]']    \n",
            " tchNormalization)                                                                                \n",
            "                                                                                                  \n",
            " leaky_re_lu (LeakyReLU)     (None, 64, 64)               0         ['batch_normalization_28[0][0]\n",
            "                                                                    ']                            \n",
            "                                                                                                  \n",
            " flatten (Flatten)           (None, 4096)                 0         ['leaky_re_lu[0][0]']         \n",
            "                                                                                                  \n",
            " dropout (Dropout)           (None, 4096)                 0         ['flatten[0][0]']             \n",
            "                                                                                                  \n",
            " dense_2 (Dense)             (None, 64)                   262144    ['dropout[0][0]']             \n",
            "                                                                                                  \n",
            " dense_3 (Dense)             (None, 16)                   1040      ['dense_2[0][0]']             \n",
            "                                                                                                  \n",
            "==================================================================================================\n",
            "Total params: 10565840 (40.31 MB)\n",
            "Trainable params: 10508112 (40.09 MB)\n",
            "Non-trainable params: 57728 (225.50 KB)\n",
            "__________________________________________________________________________________________________\n"
          ]
        }
      ],
      "source": [
        "# Constants\n",
        "NoF = 64  # Number of filters in the first convolutional layer\n",
        "SE_RATIO = 16  # Squeeze-and-Excitation ratio\n",
        "\n",
        "initializer = tf.keras.initializers.GlorotUniform(seed=0)\n",
        "initializer2 = tf.keras.initializers.HeUniform(seed=0)\n",
        "\n",
        "def squeeze_excitation_block(X, ratio=16):\n",
        "    num_channels = X.shape[-1]\n",
        "    se = tf.keras.layers.GlobalAveragePooling1D()(X)\n",
        "    se = tf.keras.layers.Reshape((1, num_channels))(se)\n",
        "    se = tf.keras.layers.Dense(num_channels // ratio, activation='relu', kernel_initializer=initializer)(se)\n",
        "    se = tf.keras.layers.Dense(num_channels, activation='sigmoid', kernel_initializer=initializer)(se)\n",
        "    return tf.keras.layers.Multiply()([X, se])\n",
        "\n",
        "\n",
        "from tensorflow.keras.layers import Conv1D, BatchNormalization, Activation, Add\n",
        "from tensorflow.keras import models, layers\n",
        "from tensorflow.keras import regularizers\n",
        "\n",
        "initializer = tf.keras.initializers.GlorotUniform(seed=0)\n",
        "initializer2 = tf.keras.initializers.HeUniform(seed=0)\n",
        "Stride=1\n",
        "\n",
        "def identity_block(X, f, filters, stage, block):\n",
        "\n",
        "  #defining name basis\n",
        "  ConvNameBase = 'res' + str(stage) + block + '_branch'\n",
        "  BatchNormBase = 'bn' + str(stage) + block + '_branch'\n",
        "\n",
        "  #retrieve filters\n",
        "  F1,F2,F3 = filters\n",
        "\n",
        "  #save the input value. You'll need this later to add back the main path\n",
        "  x_shortcut = X\n",
        "\n",
        "  ### First component of the main path ###\n",
        "  X = tf.keras.layers.Conv1D(filters=F1, kernel_size=1, strides=Stride, padding='same',\n",
        "             kernel_initializer=initializer#, name=ConvNameBase\n",
        "             )(X)\n",
        "  X = tf.keras.layers.BatchNormalization(axis=2, momentum=0.99, trainable=False,\n",
        "                         )(X)\n",
        "  X = tf.keras.layers.Activation('relu')(X)\n",
        "\n",
        "  ### Second component of main path ###\n",
        "  X = tf.keras.layers.Conv1D(filters=F2, kernel_size=f, strides=Stride, padding='same',\n",
        "             kernel_initializer=initializer, #name=ConvNameBase\n",
        "             )(X)\n",
        "  X = tf.keras.layers.BatchNormalization(axis=2, momentum=0.99, trainable=False,\n",
        "                         )(X)\n",
        "  X = tf.keras.layers.Activation('relu')(X)\n",
        "\n",
        "  #Third Component of main path\n",
        "  X = tf.keras.layers.Conv1D(filters=F3, kernel_size=1, strides=Stride, padding='same',\n",
        "             kernel_initializer=initializer#,name=ConvNameBase\n",
        "             )(X)\n",
        "  X = tf.keras.layers.BatchNormalization(axis=2, momentum=0.99, trainable=False,\n",
        "                         )(X)\n",
        "\n",
        "  #Final step: add shortcut to the main path, and pass it through ReLU activation\n",
        "  X = tf.keras.layers.Add()([X, x_shortcut])\n",
        "  X = tf.keras.layers.Activation('relu')(X)\n",
        "\n",
        "  return X\n",
        "\n",
        "def convolutional_block(X, f, filters, stage, block, s=2):\n",
        "\n",
        "  #Defining name bases\n",
        "  ConvNameBase = 'res' + str(stage) + block + '_branch'\n",
        "  BatchNormBase = 'res' + str(stage) + block + '_branch'\n",
        "\n",
        "  #retrive n_filters\n",
        "  F1, F2, F3 = filters\n",
        "\n",
        "  #Save the input value\n",
        "  x_shortcut = X\n",
        "\n",
        "  #First component of the main path\n",
        "  X = tf.keras.layers.Conv1D(F1, strides=s, kernel_size=f, kernel_initializer=initializer,\n",
        "             padding='same'#, name=ConvNameBase\n",
        "             )(X)\n",
        "  X = tf.keras.layers.BatchNormalization(axis=2, momentum=0.99, trainable=False,\n",
        "                         )(X)\n",
        "  X = tf.keras.layers.Activation('relu')(X)\n",
        "\n",
        "  #Second Component of main path\n",
        "  X = tf.keras.layers.Conv1D(filters=F2, kernel_size=f, strides=Stride, padding='same',\n",
        "             kernel_initializer=initializer#, name=ConvNameBase\n",
        "             )(X)\n",
        "  X = tf.keras.layers.BatchNormalization(axis=2, momentum=0.99, trainable=False,\n",
        "                         )(X)\n",
        "  X = tf.keras.layers.Activation('relu')(X)\n",
        "\n",
        "  #Third component of main path\n",
        "  X = tf.keras.layers.Conv1D(filters=F3, kernel_size=f, strides=Stride, padding='same',\n",
        "             kernel_initializer=initializer, name=ConvNameBase)(X)\n",
        "  X = tf.keras.layers.BatchNormalization(axis=2, momentum=0.99, trainable=False,\n",
        "  )(X)\n",
        "\n",
        "  ###### SHORTCUT PATH ######\n",
        "  x_shortcut = tf.keras.layers.Conv1D(filters = F3, kernel_size=1, strides=s,\n",
        "                      padding='same', #name=ConvNameBase,\n",
        "                      kernel_initializer=initializer)(x_shortcut)\n",
        "  x_shortcut = tf.keras.layers.BatchNormalization(axis=2, momentum=0.99, trainable=False,\n",
        "                                  )(x_shortcut)\n",
        "\n",
        "  #Add shortcut to main path and pass in through ReLU activation\n",
        "  X = tf.keras.layers.Add()([X, x_shortcut])\n",
        "  X = tf.keras.layers.Activation('relu')(X)\n",
        "\n",
        "  return X\n",
        "\n",
        "def create_model():\n",
        "    input_shape = (1000, 1)\n",
        "    nb_classes = 15 + 1\n",
        "\n",
        "    x_input = tf.keras.layers.Input(input_shape)\n",
        "    X = tf.keras.layers.ZeroPadding1D(padding=3)(x_input)\n",
        "\n",
        "    X = tf.keras.layers.Conv1D(NoF, kernel_size=7, strides=2, name='Convolution1',\n",
        "                               kernel_initializer=initializer)(X)\n",
        "    X = tf.keras.layers.BatchNormalization(name=\"BatchNormStage1\")(X)\n",
        "    X = tf.keras.layers.Activation('relu')(X)\n",
        "    X = tf.keras.layers.MaxPooling1D(3, strides=2)(X)\n",
        "\n",
        "    X = convolutional_block(X, f=3, filters=[NoF, NoF, NoF * 4], stage=2, block='a', s=1)\n",
        "    X = identity_block(X, 3, [NoF, NoF, NoF * 4], stage=2, block='b')\n",
        "\n",
        "    X = convolutional_block(X, f=3, filters=[NoF * 2, NoF * 2, NoF * 8], stage=3, block='a')\n",
        "    X = identity_block(X, 3, [NoF * 2, NoF * 2, NoF * 8], stage=3, block='b')\n",
        "\n",
        "    X = convolutional_block(X, f=3, filters=[NoF * 4, NoF * 4, NoF * 16], stage=4, block='a')\n",
        "    X = identity_block(X, 3, [NoF * 4, NoF * 4, NoF * 16], stage=4, block='b')\n",
        "\n",
        "    X = convolutional_block(X, f=3, filters=[NoF * 4, NoF * 4, NoF * 32], stage=5, block='a')\n",
        "    X = identity_block(X, f=3, filters=[NoF * 4, NoF * 4, NoF * 32], stage=5, block='b')\n",
        "\n",
        "    # Applying SE mechanism before transposed convolutional layers\n",
        "    X = squeeze_excitation_block(X)\n",
        "\n",
        "    # Adding transposed convolutional layers\n",
        "    X = Conv1DTranspose(filters=NoF, kernel_size=3, strides=2, padding='same', kernel_initializer=initializer)(X)\n",
        "    X = tf.keras.layers.BatchNormalization(axis=2, momentum=0.99, trainable=False,)(X)\n",
        "    X = LeakyReLU(alpha=0.2)(X)\n",
        "\n",
        "    X = Flatten()(X)\n",
        "\n",
        "    # Adding dropout regularization\n",
        "    X = Dropout(0.5)(X)\n",
        "\n",
        "    F = tf.keras.layers.Dense(64, activation='relu',kernel_regularizer=regularizers.l1_l2(l1=1e-5, l2=1e-4),use_bias=None,activity_regularizer=regularizers.l2(1e-5))(X)\n",
        "\n",
        "    Y = tf.keras.layers.Dense(nb_classes, activation='softmax',kernel_regularizer=regularizers.l1_l2(l1=1e-5, l2=1e-4),bias_regularizer=regularizers.l2(1e-4),activity_regularizer=regularizers.l2(1e-5))(F)\n",
        "\n",
        "    res_net = tf.keras.Model(inputs = x_input, outputs = [Y,F], name='Combined')\n",
        "\n",
        "    return res_net\n",
        "\n",
        "model = create_model()\n",
        "model.summary()"
      ]
    },
    {
      "cell_type": "code",
      "source": [
        "with strategy.scope():\n",
        "\n",
        "  # By N_classes, I mean classes of interest.\n",
        "  N_classes = 15\n",
        "\n",
        "  # Additional contribution\n",
        "\n",
        "  def additional(target,output):\n",
        "\n",
        "    Checker = tf.math.reduce_sum(tf.math.multiply(Ignored_label, target),axis=-1)\n",
        "    Try = tf.math.square(output)\n",
        "    Try = tf.math.reduce_sum(Try,axis=-1,keepdims=True)\n",
        "\n",
        "    Try = tf.math.multiply(Checker,Try)\n",
        "\n",
        "    return Try\n",
        "\n",
        "  def Open_set_categorical_crossentropy_trial_total(target,output):\n",
        "    def Open_set_categorical_crossentropy_trial_first(target,output):\n",
        "      output = tf.convert_to_tensor(output)\n",
        "      target = tf.cast(target, target.dtype)\n",
        "\n",
        "      epsilon = tf.keras.backend.epsilon()\n",
        "      output = tf.clip_by_value(output, epsilon, 1. - epsilon)\n",
        "\n",
        "      Sum = tf.math.reduce_sum(output,axis=-1,keepdims=True)\n",
        "\n",
        "      output = tf.math.divide(output, Sum)\n",
        "\n",
        "      Checker = tf.math.reduce_sum(tf.math.multiply(Ignored_label, target),axis=-1)\n",
        "      One = tf.math.reduce_sum(tf.math.multiply(Ignored_label, Ignored_label),axis=-1)\n",
        "\n",
        "      output = - tf.math.reduce_sum(tf.math.multiply(target,tf.math.log(output)),axis=-1)\n",
        "      output = tf.math.multiply(tf.math.subtract(One,Checker),output)\n",
        "\n",
        "      return output\n",
        "\n",
        "    def Open_set_categorical_crossentropy_trial_second(target,output):\n",
        "      output = tf.convert_to_tensor(output)\n",
        "      target = tf.cast(target, target.dtype)\n",
        "\n",
        "      epsilon = tf.keras.backend.epsilon()\n",
        "      output = tf.clip_by_value(output, epsilon, 1. - epsilon)\n",
        "\n",
        "      Sum = tf.math.reduce_sum(output,axis=-1,keepdims=True)\n",
        "\n",
        "      output = tf.math.divide(output, Sum)\n",
        "\n",
        "      Checker = tf.math.reduce_sum(tf.math.multiply(Ignored_label, target),axis=-1)\n",
        "      One = tf.math.reduce_sum(tf.math.multiply(Ignored_label, Ignored_label),axis=-1)\n",
        "      Zero = tf.math.reduce_sum(tf.math.multiply(KnownLabels[1], KnownLabels[2]),axis=-1)\n",
        "\n",
        "      for i in range(N_classes):\n",
        "        addon = - tf.math.reduce_sum(tf.math.multiply(KnownLabels[i], tf.math.log(output)),axis=-1)\n",
        "        addon = tf.math.divide(addon,N_classes)\n",
        "        Zero = tf.math.add(addon,Zero)\n",
        "      Zero = tf.math.multiply(Checker, Zero)\n",
        "\n",
        "      return Zero\n",
        "\n",
        "    output1 = Open_set_categorical_crossentropy_trial_first(target,output)\n",
        "    output2 = Open_set_categorical_crossentropy_trial_second(target,output)\n",
        "    output3 = Open_set_categorical_crossentropy_trial_second(target,output)\n",
        "\n",
        "    output = tf.math.add(output1,output2)\n",
        "    output = tf.math.add(output,output3)\n",
        "\n",
        "    return output\n",
        "\n",
        "  res_net = create_model()\n",
        "\n",
        "  optimizer = tf.keras.optimizers.Adam(learning_rate=.00001)\n",
        "\n",
        "  checkpoint = tf.train.Checkpoint(optimizer=optimizer, model=res_net)\n",
        "\n",
        "  callbacks = [EarlyStopping(monitor='val_loss', patience=20, mode='min'), ModelCheckpoint('/content/gdrive/MyDrive/Stanford_data/01_Obj_K_p1_p2_I_p3_minus10.h5', verbose=1, monitor='val_loss', save_best_only=True, mode='min')]\n",
        "  res_net.compile(loss=[Open_set_categorical_crossentropy_trial_total, additional],loss_weights=[1., 0.0000000000000001/10],optimizer=tf.keras.optimizers.Adam(learning_rate=.00001),metrics=None)\n",
        "\n",
        "  Known_and_Ignored_data_X_reference, Known_and_Ignored_data_X_train_label = shuffle(Known_and_Ignored_data_X_reference,Known_and_Ignored_data_X_train_label)\n",
        "\n",
        "  history = res_net.fit(Known_and_Ignored_data_X_reference, Known_and_Ignored_data_X_train_label, epochs=500, batch_size=32, verbose=1, validation_split=0.2, shuffle=True, callbacks=callbacks)\n"
      ],
      "metadata": {
        "id": "gtntv4ri1Lii"
      },
      "execution_count": null,
      "outputs": []
    },
    {
      "cell_type": "code",
      "execution_count": null,
      "metadata": {
        "colab": {
          "base_uri": "https://localhost:8080/"
        },
        "id": "z5qnZJwwWOM1",
        "outputId": "d6a842b6-444f-4f49-e54f-27118f00a32a"
      },
      "outputs": [
        {
          "output_type": "stream",
          "name": "stdout",
          "text": [
            "47/47 [==============================] - 31s 631ms/step\n",
            "Accuracy on the knowns, Run #1 0.58\n",
            "47/47 [==============================] - 31s 643ms/step\n",
            "Accuracy on the knowns, Run #2 0.59\n",
            "47/47 [==============================] - 30s 627ms/step\n",
            "Accuracy on the knowns, Run #3 0.6006666666666667\n",
            "47/47 [==============================] - 31s 628ms/step\n",
            "Accuracy on the knowns, Run #4 0.6346666666666667\n",
            "47/47 [==============================] - 31s 643ms/step\n",
            "Accuracy on the knowns, Run #5 0.5866666666666667\n",
            "47/47 [==============================] - 31s 617ms/step\n",
            "Accuracy on the knowns, Run #6 0.6073333333333333\n",
            "47/47 [==============================] - 30s 621ms/step\n",
            "Accuracy on the knowns, Run #7 0.6133333333333333\n",
            "47/47 [==============================] - 30s 626ms/step\n",
            "Accuracy on the knowns, Run #8 0.5926666666666667\n",
            "47/47 [==============================] - 31s 622ms/step\n",
            "Accuracy on the knowns, Run #9 0.6013333333333334\n",
            "47/47 [==============================] - 30s 620ms/step\n",
            "Accuracy on the knowns, Run #10 0.604\n",
            "47/47 [==============================] - 30s 624ms/step\n",
            "Accuracy on the knowns, Run #11 0.564\n",
            "47/47 [==============================] - 31s 628ms/step\n",
            "Accuracy on the knowns, Run #12 0.5713333333333334\n",
            "47/47 [==============================] - 30s 623ms/step\n",
            "Accuracy on the knowns, Run #13 0.5726666666666667\n",
            "47/47 [==============================] - 30s 626ms/step\n",
            "Accuracy on the knowns, Run #14 0.5993333333333334\n",
            "47/47 [==============================] - 31s 628ms/step\n",
            "Accuracy on the knowns, Run #15 0.584\n",
            "47/47 [==============================] - 30s 626ms/step\n",
            "Accuracy on the knowns, Run #16 0.5806666666666667\n",
            "47/47 [==============================] - 30s 621ms/step\n",
            "Accuracy on the knowns, Run #17 0.5973333333333334\n",
            "47/47 [==============================] - 31s 616ms/step\n",
            "Accuracy on the knowns, Run #18 0.5793333333333334\n",
            "47/47 [==============================] - 31s 626ms/step\n",
            "Accuracy on the knowns, Run #19 0.6266666666666667\n",
            "47/47 [==============================] - 30s 623ms/step\n",
            "Accuracy on the knowns, Run #20 0.5686666666666667\n"
          ]
        }
      ],
      "source": [
        "res_net = create_model()\n",
        "res_net.load_weights(\"/content/gdrive/MyDrive/Stanford_data/01_Obj_K_p1_p2_I_p3_minus10.h5\")\n",
        "prediction_known = res_net.predict(Known_data_X_test)\n",
        "\n",
        "true = 0\n",
        "for i in range(Known_data_X_test_label.shape[0]):\n",
        "  if prediction_known[0].argmax(axis=1)[i] == np.argmax(Known_data_X_test_label[i]):\n",
        "    true += 1\n",
        "print(\"Accuracy on the knowns, Run #1\", true/(Known_data_X_test_label.shape[0]))\n",
        "\n",
        "res_net = create_model()\n",
        "res_net.load_weights(\"/content/gdrive/MyDrive/Stanford_data/02_Obj_K_p1_p2_I_p3_minus10.h5\")\n",
        "prediction_known = res_net.predict(Known_data_X_test)\n",
        "\n",
        "true = 0\n",
        "for i in range(Known_data_X_test_label.shape[0]):\n",
        "  if prediction_known[0].argmax(axis=1)[i] == np.argmax(Known_data_X_test_label[i]):\n",
        "    true += 1\n",
        "print(\"Accuracy on the knowns, Run #2\", true/(Known_data_X_test_label.shape[0]))\n",
        "\n",
        "res_net = create_model()\n",
        "res_net.load_weights(\"/content/gdrive/MyDrive/Stanford_data/03_Obj_K_p1_p2_I_p3_minus10.h5\")\n",
        "prediction_known = res_net.predict(Known_data_X_test)\n",
        "\n",
        "true = 0\n",
        "for i in range(Known_data_X_test_label.shape[0]):\n",
        "  if prediction_known[0].argmax(axis=1)[i] == np.argmax(Known_data_X_test_label[i]):\n",
        "    true += 1\n",
        "print(\"Accuracy on the knowns, Run #3\", true/(Known_data_X_test_label.shape[0]))\n",
        "\n",
        "res_net = create_model()\n",
        "res_net.load_weights(\"/content/gdrive/MyDrive/Stanford_data/04_Obj_K_p1_p2_I_p3_minus10.h5\")\n",
        "prediction_known = res_net.predict(Known_data_X_test)\n",
        "\n",
        "true = 0\n",
        "for i in range(Known_data_X_test_label.shape[0]):\n",
        "  if prediction_known[0].argmax(axis=1)[i] == np.argmax(Known_data_X_test_label[i]):\n",
        "    true += 1\n",
        "print(\"Accuracy on the knowns, Run #4\", true/(Known_data_X_test_label.shape[0]))\n",
        "\n",
        "res_net = create_model()\n",
        "res_net.load_weights(\"/content/gdrive/MyDrive/Stanford_data/05_Obj_K_p1_p2_I_p3_minus10.h5\")\n",
        "prediction_known = res_net.predict(Known_data_X_test)\n",
        "\n",
        "true = 0\n",
        "for i in range(Known_data_X_test_label.shape[0]):\n",
        "  if prediction_known[0].argmax(axis=1)[i] == np.argmax(Known_data_X_test_label[i]):\n",
        "    true += 1\n",
        "print(\"Accuracy on the knowns, Run #5\", true/(Known_data_X_test_label.shape[0]))\n",
        "\n",
        "res_net = create_model()\n",
        "res_net.load_weights(\"/content/gdrive/MyDrive/Stanford_data/06_Obj_K_p1_p2_I_p3_minus10.h5\")\n",
        "prediction_known = res_net.predict(Known_data_X_test)\n",
        "\n",
        "true = 0\n",
        "for i in range(Known_data_X_test_label.shape[0]):\n",
        "  if prediction_known[0].argmax(axis=1)[i] == np.argmax(Known_data_X_test_label[i]):\n",
        "    true += 1\n",
        "print(\"Accuracy on the knowns, Run #6\", true/(Known_data_X_test_label.shape[0]))\n",
        "\n",
        "res_net = create_model()\n",
        "res_net.load_weights(\"/content/gdrive/MyDrive/Stanford_data/07_Obj_K_p1_p2_I_p3_minus10.h5\")\n",
        "prediction_known = res_net.predict(Known_data_X_test)\n",
        "\n",
        "true = 0\n",
        "for i in range(Known_data_X_test_label.shape[0]):\n",
        "  if prediction_known[0].argmax(axis=1)[i] == np.argmax(Known_data_X_test_label[i]):\n",
        "    true += 1\n",
        "print(\"Accuracy on the knowns, Run #7\", true/(Known_data_X_test_label.shape[0]))\n",
        "\n",
        "res_net = create_model()\n",
        "res_net.load_weights(\"/content/gdrive/MyDrive/Stanford_data/08_Obj_K_p1_p2_I_p3_minus10.h5\")\n",
        "prediction_known = res_net.predict(Known_data_X_test)\n",
        "\n",
        "true = 0\n",
        "for i in range(Known_data_X_test_label.shape[0]):\n",
        "  if prediction_known[0].argmax(axis=1)[i] == np.argmax(Known_data_X_test_label[i]):\n",
        "    true += 1\n",
        "print(\"Accuracy on the knowns, Run #8\", true/(Known_data_X_test_label.shape[0]))\n",
        "\n",
        "res_net = create_model()\n",
        "res_net.load_weights(\"/content/gdrive/MyDrive/Stanford_data/09_Obj_K_p1_p2_I_p3_minus10.h5\")\n",
        "prediction_known = res_net.predict(Known_data_X_test)\n",
        "\n",
        "true = 0\n",
        "for i in range(Known_data_X_test_label.shape[0]):\n",
        "  if prediction_known[0].argmax(axis=1)[i] == np.argmax(Known_data_X_test_label[i]):\n",
        "    true += 1\n",
        "print(\"Accuracy on the knowns, Run #9\", true/(Known_data_X_test_label.shape[0]))\n",
        "\n",
        "res_net = create_model()\n",
        "res_net.load_weights(\"/content/gdrive/MyDrive/Stanford_data/10_Obj_K_p1_p2_I_p3_minus10.h5\")\n",
        "prediction_known = res_net.predict(Known_data_X_test)\n",
        "\n",
        "true = 0\n",
        "for i in range(Known_data_X_test_label.shape[0]):\n",
        "  if prediction_known[0].argmax(axis=1)[i] == np.argmax(Known_data_X_test_label[i]):\n",
        "    true += 1\n",
        "print(\"Accuracy on the knowns, Run #10\", true/(Known_data_X_test_label.shape[0]))\n",
        "\n",
        "res_net = create_model()\n",
        "res_net.load_weights(\"/content/gdrive/MyDrive/Stanford_data/11_Obj_K_p1_p2_I_p3_minus10.h5\")\n",
        "prediction_known = res_net.predict(Known_data_X_test)\n",
        "\n",
        "true = 0\n",
        "for i in range(Known_data_X_test_label.shape[0]):\n",
        "  if prediction_known[0].argmax(axis=1)[i] == np.argmax(Known_data_X_test_label[i]):\n",
        "    true += 1\n",
        "print(\"Accuracy on the knowns, Run #11\", true/(Known_data_X_test_label.shape[0]))\n",
        "\n",
        "res_net = create_model()\n",
        "res_net.load_weights(\"/content/gdrive/MyDrive/Stanford_data/12_Obj_K_p1_p2_I_p3_minus10.h5\")\n",
        "prediction_known = res_net.predict(Known_data_X_test)\n",
        "\n",
        "true = 0\n",
        "for i in range(Known_data_X_test_label.shape[0]):\n",
        "  if prediction_known[0].argmax(axis=1)[i] == np.argmax(Known_data_X_test_label[i]):\n",
        "    true += 1\n",
        "print(\"Accuracy on the knowns, Run #12\", true/(Known_data_X_test_label.shape[0]))\n",
        "\n",
        "res_net = create_model()\n",
        "res_net.load_weights(\"/content/gdrive/MyDrive/Stanford_data/13_Obj_K_p1_p2_I_p3_minus10.h5\")\n",
        "prediction_known = res_net.predict(Known_data_X_test)\n",
        "\n",
        "true = 0\n",
        "for i in range(Known_data_X_test_label.shape[0]):\n",
        "  if prediction_known[0].argmax(axis=1)[i] == np.argmax(Known_data_X_test_label[i]):\n",
        "    true += 1\n",
        "print(\"Accuracy on the knowns, Run #13\", true/(Known_data_X_test_label.shape[0]))\n",
        "\n",
        "res_net = create_model()\n",
        "res_net.load_weights(\"/content/gdrive/MyDrive/Stanford_data/14_Obj_K_p1_p2_I_p3_minus10.h5\")\n",
        "prediction_known = res_net.predict(Known_data_X_test)\n",
        "\n",
        "true = 0\n",
        "for i in range(Known_data_X_test_label.shape[0]):\n",
        "  if prediction_known[0].argmax(axis=1)[i] == np.argmax(Known_data_X_test_label[i]):\n",
        "    true += 1\n",
        "print(\"Accuracy on the knowns, Run #14\", true/(Known_data_X_test_label.shape[0]))\n",
        "\n",
        "res_net = create_model()\n",
        "res_net.load_weights(\"/content/gdrive/MyDrive/Stanford_data/15_Obj_K_p1_p2_I_p3_minus10.h5\")\n",
        "prediction_known = res_net.predict(Known_data_X_test)\n",
        "\n",
        "true = 0\n",
        "for i in range(Known_data_X_test_label.shape[0]):\n",
        "  if prediction_known[0].argmax(axis=1)[i] == np.argmax(Known_data_X_test_label[i]):\n",
        "    true += 1\n",
        "print(\"Accuracy on the knowns, Run #15\", true/(Known_data_X_test_label.shape[0]))\n",
        "\n",
        "res_net = create_model()\n",
        "res_net.load_weights(\"/content/gdrive/MyDrive/Stanford_data/16_Obj_K_p1_p2_I_p3_minus10.h5\")\n",
        "prediction_known = res_net.predict(Known_data_X_test)\n",
        "\n",
        "true = 0\n",
        "for i in range(Known_data_X_test_label.shape[0]):\n",
        "  if prediction_known[0].argmax(axis=1)[i] == np.argmax(Known_data_X_test_label[i]):\n",
        "    true += 1\n",
        "print(\"Accuracy on the knowns, Run #16\", true/(Known_data_X_test_label.shape[0]))\n",
        "\n",
        "res_net = create_model()\n",
        "res_net.load_weights(\"/content/gdrive/MyDrive/Stanford_data/17_Obj_K_p1_p2_I_p3_minus10.h5\")\n",
        "prediction_known = res_net.predict(Known_data_X_test)\n",
        "\n",
        "true = 0\n",
        "for i in range(Known_data_X_test_label.shape[0]):\n",
        "  if prediction_known[0].argmax(axis=1)[i] == np.argmax(Known_data_X_test_label[i]):\n",
        "    true += 1\n",
        "print(\"Accuracy on the knowns, Run #17\", true/(Known_data_X_test_label.shape[0]))\n",
        "\n",
        "res_net = create_model()\n",
        "res_net.load_weights(\"/content/gdrive/MyDrive/Stanford_data/18_Obj_K_p1_p2_I_p3_minus10.h5\")\n",
        "prediction_known = res_net.predict(Known_data_X_test)\n",
        "\n",
        "true = 0\n",
        "for i in range(Known_data_X_test_label.shape[0]):\n",
        "  if prediction_known[0].argmax(axis=1)[i] == np.argmax(Known_data_X_test_label[i]):\n",
        "    true += 1\n",
        "print(\"Accuracy on the knowns, Run #18\", true/(Known_data_X_test_label.shape[0]))\n",
        "\n",
        "res_net = create_model()\n",
        "res_net.load_weights(\"/content/gdrive/MyDrive/Stanford_data/19_Obj_K_p1_p2_I_p3_minus10.h5\")\n",
        "prediction_known = res_net.predict(Known_data_X_test)\n",
        "\n",
        "true = 0\n",
        "for i in range(Known_data_X_test_label.shape[0]):\n",
        "  if prediction_known[0].argmax(axis=1)[i] == np.argmax(Known_data_X_test_label[i]):\n",
        "    true += 1\n",
        "print(\"Accuracy on the knowns, Run #19\", true/(Known_data_X_test_label.shape[0]))\n",
        "\n",
        "res_net = create_model()\n",
        "res_net.load_weights(\"/content/gdrive/MyDrive/Stanford_data/20_Obj_K_p1_p2_I_p3_minus10.h5\")\n",
        "prediction_known = res_net.predict(Known_data_X_test)\n",
        "\n",
        "true = 0\n",
        "for i in range(Known_data_X_test_label.shape[0]):\n",
        "  if prediction_known[0].argmax(axis=1)[i] == np.argmax(Known_data_X_test_label[i]):\n",
        "    true += 1\n",
        "print(\"Accuracy on the knowns, Run #20\", true/(Known_data_X_test_label.shape[0]))"
      ]
    },
    {
      "cell_type": "markdown",
      "metadata": {
        "id": "io2K8JVfh4WC"
      },
      "source": [
        "# Finetuning"
      ]
    },
    {
      "cell_type": "code",
      "source": [
        "with strategy.scope():\n",
        "\n",
        "  # By N_classes, I mean classes of interest.\n",
        "  N_classes = 15\n",
        "\n",
        "  # Additional contribution\n",
        "\n",
        "  def additional(target,output):\n",
        "\n",
        "    Checker = tf.math.reduce_sum(tf.math.multiply(Ignored_label, target),axis=-1)\n",
        "    Try = tf.math.square(output)\n",
        "    Try = tf.math.reduce_sum(Try,axis=-1,keepdims=True)\n",
        "\n",
        "    Try = tf.math.multiply(Checker,Try)\n",
        "\n",
        "    return Try\n",
        "\n",
        "  def Open_set_categorical_crossentropy_trial_total(target,output):\n",
        "    def Open_set_categorical_crossentropy_trial_first(target,output):\n",
        "      output = tf.convert_to_tensor(output)\n",
        "      target = tf.cast(target, target.dtype)\n",
        "\n",
        "      epsilon = tf.keras.backend.epsilon()\n",
        "      output = tf.clip_by_value(output, epsilon, 1. - epsilon)\n",
        "\n",
        "      Sum = tf.math.reduce_sum(output,axis=-1,keepdims=True)\n",
        "\n",
        "      output = tf.math.divide(output, Sum)\n",
        "\n",
        "      Checker = tf.math.reduce_sum(tf.math.multiply(Ignored_label, target),axis=-1)\n",
        "      One = tf.math.reduce_sum(tf.math.multiply(Ignored_label, Ignored_label),axis=-1)\n",
        "\n",
        "      output = - tf.math.reduce_sum(tf.math.multiply(target,tf.math.log(output)),axis=-1)\n",
        "      output = tf.math.multiply(tf.math.subtract(One,Checker),output)\n",
        "\n",
        "      return output\n",
        "\n",
        "    def Open_set_categorical_crossentropy_trial_second(target,output):\n",
        "      output = tf.convert_to_tensor(output)\n",
        "      target = tf.cast(target, target.dtype)\n",
        "\n",
        "      epsilon = tf.keras.backend.epsilon()\n",
        "      output = tf.clip_by_value(output, epsilon, 1. - epsilon)\n",
        "\n",
        "      Sum = tf.math.reduce_sum(output,axis=-1,keepdims=True)\n",
        "\n",
        "      output = tf.math.divide(output, Sum)\n",
        "\n",
        "      Checker = tf.math.reduce_sum(tf.math.multiply(Ignored_label, target),axis=-1)\n",
        "      One = tf.math.reduce_sum(tf.math.multiply(Ignored_label, Ignored_label),axis=-1)\n",
        "      Zero = tf.math.reduce_sum(tf.math.multiply(KnownLabels[1], KnownLabels[2]),axis=-1)\n",
        "\n",
        "      for i in range(N_classes):\n",
        "        addon = - tf.math.reduce_sum(tf.math.multiply(KnownLabels[i], tf.math.log(output)),axis=-1)\n",
        "        addon = tf.math.divide(addon,N_classes)\n",
        "        Zero = tf.math.add(addon,Zero)\n",
        "      Zero = tf.math.multiply(Checker, Zero)\n",
        "\n",
        "      return Zero\n",
        "\n",
        "    output1 = Open_set_categorical_crossentropy_trial_first(target,output)\n",
        "    output2 = Open_set_categorical_crossentropy_trial_second(target,output)\n",
        "    output3 = Open_set_categorical_crossentropy_trial_second(target,output)\n",
        "\n",
        "    output = tf.math.add(output1,output2)\n",
        "    output = tf.math.add(output,output3)\n",
        "\n",
        "    return output\n",
        "\n",
        "  res_net = create_model()\n",
        "\n",
        "  optimizer = tf.keras.optimizers.Adam(learning_rate=.00001/10)\n",
        "\n",
        "  checkpoint = tf.train.Checkpoint(optimizer=optimizer, model=res_net)\n",
        "\n",
        "  callbacks = [EarlyStopping(monitor='val_loss', patience=30, mode='min'), ModelCheckpoint('/content/gdrive/MyDrive/Stanford_data/01_Obj_K_p1_p2_I_p3_minus10_FTm3.h5', verbose=1, monitor='val_loss', save_best_only=True, mode='min')]\n",
        "  res_net.compile(loss=[Open_set_categorical_crossentropy_trial_total, additional],loss_weights=[1., 0.0000000000000001/10],optimizer=tf.keras.optimizers.Adam(learning_rate=.00001/10),metrics=None)\n",
        "\n",
        "  res_net.load_weights(\"/content/gdrive/MyDrive/Stanford_data/01_Obj_K_p1_p2_I_p3_minus10.h5\")\n",
        "\n",
        "  for layer in res_net.layers[:-3]:\n",
        "    layer.trainable = False\n",
        "\n",
        "  Known_and_Ignored_data_X_finetune,Known_and_Ignored_data_X_finetune_label = shuffle(Known_and_Ignored_data_X_finetune,Known_and_Ignored_data_X_finetune_label)\n",
        "\n",
        "  history = res_net.fit(Known_and_Ignored_data_X_finetune,Known_and_Ignored_data_X_finetune_label, epochs=1500, batch_size=128, verbose=1, validation_split=0.2, shuffle=True, callbacks=callbacks)\n",
        "\n",
        "  res_net.save_weights('/content/gdrive/MyDrive/Stanford_data/01_Obj_K_p1_p2_I_p3_minus10_FTm3_PP.h5')"
      ],
      "metadata": {
        "id": "XaUmXChq1U8F"
      },
      "execution_count": null,
      "outputs": []
    },
    {
      "cell_type": "code",
      "execution_count": null,
      "metadata": {
        "colab": {
          "base_uri": "https://localhost:8080/"
        },
        "id": "40sOWBwczqBT",
        "outputId": "85420cb1-f46a-4aaa-b920-4b07dfedc4aa"
      },
      "outputs": [
        {
          "output_type": "stream",
          "name": "stdout",
          "text": [
            "47/47 [==============================] - 31s 628ms/step\n",
            "Accuracy on the knowns, Run #1 0.898\n",
            "47/47 [==============================] - 30s 623ms/step\n",
            "Accuracy on the knowns, Run #2 0.8873333333333333\n",
            "47/47 [==============================] - 31s 617ms/step\n",
            "Accuracy on the knowns, Run #3 0.8806666666666667\n",
            "47/47 [==============================] - 30s 614ms/step\n",
            "Accuracy on the knowns, Run #4 0.8866666666666667\n",
            "47/47 [==============================] - 32s 645ms/step\n",
            "Accuracy on the knowns, Run #5 0.8846666666666667\n",
            "47/47 [==============================] - 31s 627ms/step\n",
            "Accuracy on the knowns, Run #6 0.8893333333333333\n",
            "47/47 [==============================] - 30s 626ms/step\n",
            "Accuracy on the knowns, Run #7 0.888\n",
            "47/47 [==============================] - 30s 621ms/step\n",
            "Accuracy on the knowns, Run #8 0.886\n",
            "47/47 [==============================] - 30s 602ms/step\n",
            "Accuracy on the knowns, Run #9 0.8793333333333333\n",
            "47/47 [==============================] - 30s 622ms/step\n",
            "Accuracy on the knowns, Run #10 0.8913333333333333\n",
            "47/47 [==============================] - 30s 615ms/step\n",
            "Accuracy on the knowns, Run #11 0.8866666666666667\n",
            "47/47 [==============================] - 32s 634ms/step\n",
            "Accuracy on the knowns, Run #12 0.8866666666666667\n",
            "47/47 [==============================] - 30s 620ms/step\n",
            "Accuracy on the knowns, Run #13 0.8893333333333333\n",
            "47/47 [==============================] - 30s 617ms/step\n",
            "Accuracy on the knowns, Run #14 0.88\n",
            "47/47 [==============================] - 30s 621ms/step\n",
            "Accuracy on the knowns, Run #15 0.8926666666666667\n",
            "47/47 [==============================] - 30s 610ms/step\n",
            "Accuracy on the knowns, Run #16 0.88\n",
            "47/47 [==============================] - 30s 618ms/step\n",
            "Accuracy on the knowns, Run #17 0.882\n",
            "47/47 [==============================] - 30s 619ms/step\n",
            "Accuracy on the knowns, Run #18 0.8993333333333333\n",
            "47/47 [==============================] - 30s 616ms/step\n",
            "Accuracy on the knowns, Run #19 0.87\n",
            "47/47 [==============================] - 30s 623ms/step\n",
            "Accuracy on the knowns, Run #20 0.8853333333333333\n"
          ]
        }
      ],
      "source": [
        "res_net = create_model()\n",
        "res_net.load_weights(\"/content/gdrive/MyDrive/Stanford_data/01_Obj_K_p1_p2_I_p3_minus10_FTm3_PP.h5\")\n",
        "prediction_known = res_net.predict(Known_data_X_test)\n",
        "\n",
        "true = 0\n",
        "for i in range(Known_data_X_test_label.shape[0]):\n",
        "  if prediction_known[0].argmax(axis=1)[i] == np.argmax(Known_data_X_test_label[i]):\n",
        "    true += 1\n",
        "print(\"Accuracy on the knowns, Run #1\", true/(Known_data_X_test_label.shape[0]))\n",
        "\n",
        "res_net = create_model()\n",
        "res_net.load_weights(\"/content/gdrive/MyDrive/Stanford_data/02_Obj_K_p1_p2_I_p3_minus10_FTm3_PP.h5\")\n",
        "prediction_known = res_net.predict(Known_data_X_test)\n",
        "\n",
        "true = 0\n",
        "for i in range(Known_data_X_test_label.shape[0]):\n",
        "  if prediction_known[0].argmax(axis=1)[i] == np.argmax(Known_data_X_test_label[i]):\n",
        "    true += 1\n",
        "print(\"Accuracy on the knowns, Run #2\", true/(Known_data_X_test_label.shape[0]))\n",
        "\n",
        "res_net = create_model()\n",
        "res_net.load_weights(\"/content/gdrive/MyDrive/Stanford_data/03_Obj_K_p1_p2_I_p3_minus10_FTm3_PP.h5\")\n",
        "prediction_known = res_net.predict(Known_data_X_test)\n",
        "\n",
        "true = 0\n",
        "for i in range(Known_data_X_test_label.shape[0]):\n",
        "  if prediction_known[0].argmax(axis=1)[i] == np.argmax(Known_data_X_test_label[i]):\n",
        "    true += 1\n",
        "print(\"Accuracy on the knowns, Run #3\", true/(Known_data_X_test_label.shape[0]))\n",
        "\n",
        "res_net = create_model()\n",
        "res_net.load_weights(\"/content/gdrive/MyDrive/Stanford_data/04_Obj_K_p1_p2_I_p3_minus10_FTm3_PP.h5\")\n",
        "prediction_known = res_net.predict(Known_data_X_test)\n",
        "\n",
        "true = 0\n",
        "for i in range(Known_data_X_test_label.shape[0]):\n",
        "  if prediction_known[0].argmax(axis=1)[i] == np.argmax(Known_data_X_test_label[i]):\n",
        "    true += 1\n",
        "print(\"Accuracy on the knowns, Run #4\", true/(Known_data_X_test_label.shape[0]))\n",
        "\n",
        "res_net = create_model()\n",
        "res_net.load_weights(\"/content/gdrive/MyDrive/Stanford_data/05_Obj_K_p1_p2_I_p3_minus10_FTm3_PP.h5\")\n",
        "prediction_known = res_net.predict(Known_data_X_test)\n",
        "\n",
        "true = 0\n",
        "for i in range(Known_data_X_test_label.shape[0]):\n",
        "  if prediction_known[0].argmax(axis=1)[i] == np.argmax(Known_data_X_test_label[i]):\n",
        "    true += 1\n",
        "print(\"Accuracy on the knowns, Run #5\", true/(Known_data_X_test_label.shape[0]))\n",
        "\n",
        "res_net = create_model()\n",
        "res_net.load_weights(\"/content/gdrive/MyDrive/Stanford_data/06_Obj_K_p1_p2_I_p3_minus10_FTm3_PP.h5\")\n",
        "prediction_known = res_net.predict(Known_data_X_test)\n",
        "\n",
        "true = 0\n",
        "for i in range(Known_data_X_test_label.shape[0]):\n",
        "  if prediction_known[0].argmax(axis=1)[i] == np.argmax(Known_data_X_test_label[i]):\n",
        "    true += 1\n",
        "print(\"Accuracy on the knowns, Run #6\", true/(Known_data_X_test_label.shape[0]))\n",
        "\n",
        "res_net = create_model()\n",
        "res_net.load_weights(\"/content/gdrive/MyDrive/Stanford_data/07_Obj_K_p1_p2_I_p3_minus10_FTm3_PP.h5\")\n",
        "prediction_known = res_net.predict(Known_data_X_test)\n",
        "\n",
        "true = 0\n",
        "for i in range(Known_data_X_test_label.shape[0]):\n",
        "  if prediction_known[0].argmax(axis=1)[i] == np.argmax(Known_data_X_test_label[i]):\n",
        "    true += 1\n",
        "print(\"Accuracy on the knowns, Run #7\", true/(Known_data_X_test_label.shape[0]))\n",
        "\n",
        "res_net = create_model()\n",
        "res_net.load_weights(\"/content/gdrive/MyDrive/Stanford_data/08_Obj_K_p1_p2_I_p3_minus10_FTm3_PP.h5\")\n",
        "prediction_known = res_net.predict(Known_data_X_test)\n",
        "\n",
        "true = 0\n",
        "for i in range(Known_data_X_test_label.shape[0]):\n",
        "  if prediction_known[0].argmax(axis=1)[i] == np.argmax(Known_data_X_test_label[i]):\n",
        "    true += 1\n",
        "print(\"Accuracy on the knowns, Run #8\", true/(Known_data_X_test_label.shape[0]))\n",
        "\n",
        "res_net = create_model()\n",
        "res_net.load_weights(\"/content/gdrive/MyDrive/Stanford_data/09_Obj_K_p1_p2_I_p3_minus10_FTm3_PP.h5\")\n",
        "prediction_known = res_net.predict(Known_data_X_test)\n",
        "\n",
        "true = 0\n",
        "for i in range(Known_data_X_test_label.shape[0]):\n",
        "  if prediction_known[0].argmax(axis=1)[i] == np.argmax(Known_data_X_test_label[i]):\n",
        "    true += 1\n",
        "print(\"Accuracy on the knowns, Run #9\", true/(Known_data_X_test_label.shape[0]))\n",
        "\n",
        "res_net = create_model()\n",
        "res_net.load_weights(\"/content/gdrive/MyDrive/Stanford_data/10_Obj_K_p1_p2_I_p3_minus10_FTm3_PP.h5\")\n",
        "prediction_known = res_net.predict(Known_data_X_test)\n",
        "\n",
        "true = 0\n",
        "for i in range(Known_data_X_test_label.shape[0]):\n",
        "  if prediction_known[0].argmax(axis=1)[i] == np.argmax(Known_data_X_test_label[i]):\n",
        "    true += 1\n",
        "print(\"Accuracy on the knowns, Run #10\", true/(Known_data_X_test_label.shape[0]))\n",
        "\n",
        "res_net = create_model()\n",
        "res_net.load_weights(\"/content/gdrive/MyDrive/Stanford_data/11_Obj_K_p1_p2_I_p3_minus10_FTm3_PP.h5\")\n",
        "prediction_known = res_net.predict(Known_data_X_test)\n",
        "\n",
        "true = 0\n",
        "for i in range(Known_data_X_test_label.shape[0]):\n",
        "  if prediction_known[0].argmax(axis=1)[i] == np.argmax(Known_data_X_test_label[i]):\n",
        "    true += 1\n",
        "print(\"Accuracy on the knowns, Run #11\", true/(Known_data_X_test_label.shape[0]))\n",
        "\n",
        "res_net = create_model()\n",
        "res_net.load_weights(\"/content/gdrive/MyDrive/Stanford_data/12_Obj_K_p1_p2_I_p3_minus10_FTm3_PP.h5\")\n",
        "prediction_known = res_net.predict(Known_data_X_test)\n",
        "\n",
        "true = 0\n",
        "for i in range(Known_data_X_test_label.shape[0]):\n",
        "  if prediction_known[0].argmax(axis=1)[i] == np.argmax(Known_data_X_test_label[i]):\n",
        "    true += 1\n",
        "print(\"Accuracy on the knowns, Run #12\", true/(Known_data_X_test_label.shape[0]))\n",
        "\n",
        "res_net = create_model()\n",
        "res_net.load_weights(\"/content/gdrive/MyDrive/Stanford_data/13_Obj_K_p1_p2_I_p3_minus10_FTm3_PP.h5\")\n",
        "prediction_known = res_net.predict(Known_data_X_test)\n",
        "\n",
        "true = 0\n",
        "for i in range(Known_data_X_test_label.shape[0]):\n",
        "  if prediction_known[0].argmax(axis=1)[i] == np.argmax(Known_data_X_test_label[i]):\n",
        "    true += 1\n",
        "print(\"Accuracy on the knowns, Run #13\", true/(Known_data_X_test_label.shape[0]))\n",
        "\n",
        "res_net = create_model()\n",
        "res_net.load_weights(\"/content/gdrive/MyDrive/Stanford_data/14_Obj_K_p1_p2_I_p3_minus10_FTm3_PP.h5\")\n",
        "prediction_known = res_net.predict(Known_data_X_test)\n",
        "\n",
        "true = 0\n",
        "for i in range(Known_data_X_test_label.shape[0]):\n",
        "  if prediction_known[0].argmax(axis=1)[i] == np.argmax(Known_data_X_test_label[i]):\n",
        "    true += 1\n",
        "print(\"Accuracy on the knowns, Run #14\", true/(Known_data_X_test_label.shape[0]))\n",
        "\n",
        "res_net = create_model()\n",
        "res_net.load_weights(\"/content/gdrive/MyDrive/Stanford_data/15_Obj_K_p1_p2_I_p3_minus10_FTm3_PP.h5\")\n",
        "prediction_known = res_net.predict(Known_data_X_test)\n",
        "\n",
        "true = 0\n",
        "for i in range(Known_data_X_test_label.shape[0]):\n",
        "  if prediction_known[0].argmax(axis=1)[i] == np.argmax(Known_data_X_test_label[i]):\n",
        "    true += 1\n",
        "print(\"Accuracy on the knowns, Run #15\", true/(Known_data_X_test_label.shape[0]))\n",
        "\n",
        "res_net = create_model()\n",
        "res_net.load_weights(\"/content/gdrive/MyDrive/Stanford_data/16_Obj_K_p1_p2_I_p3_minus10_FTm3_PP.h5\")\n",
        "prediction_known = res_net.predict(Known_data_X_test)\n",
        "\n",
        "true = 0\n",
        "for i in range(Known_data_X_test_label.shape[0]):\n",
        "  if prediction_known[0].argmax(axis=1)[i] == np.argmax(Known_data_X_test_label[i]):\n",
        "    true += 1\n",
        "print(\"Accuracy on the knowns, Run #16\", true/(Known_data_X_test_label.shape[0]))\n",
        "\n",
        "res_net = create_model()\n",
        "res_net.load_weights(\"/content/gdrive/MyDrive/Stanford_data/17_Obj_K_p1_p2_I_p3_minus10_FTm3_PP.h5\")\n",
        "prediction_known = res_net.predict(Known_data_X_test)\n",
        "\n",
        "true = 0\n",
        "for i in range(Known_data_X_test_label.shape[0]):\n",
        "  if prediction_known[0].argmax(axis=1)[i] == np.argmax(Known_data_X_test_label[i]):\n",
        "    true += 1\n",
        "print(\"Accuracy on the knowns, Run #17\", true/(Known_data_X_test_label.shape[0]))\n",
        "\n",
        "res_net = create_model()\n",
        "res_net.load_weights(\"/content/gdrive/MyDrive/Stanford_data/18_Obj_K_p1_p2_I_p3_minus10_FTm3_PP.h5\")\n",
        "prediction_known = res_net.predict(Known_data_X_test)\n",
        "\n",
        "true = 0\n",
        "for i in range(Known_data_X_test_label.shape[0]):\n",
        "  if prediction_known[0].argmax(axis=1)[i] == np.argmax(Known_data_X_test_label[i]):\n",
        "    true += 1\n",
        "print(\"Accuracy on the knowns, Run #18\", true/(Known_data_X_test_label.shape[0]))\n",
        "\n",
        "res_net = create_model()\n",
        "res_net.load_weights(\"/content/gdrive/MyDrive/Stanford_data/19_Obj_K_p1_p2_I_p3_minus10_FTm3.h5\")\n",
        "prediction_known = res_net.predict(Known_data_X_test)\n",
        "\n",
        "true = 0\n",
        "for i in range(Known_data_X_test_label.shape[0]):\n",
        "  if prediction_known[0].argmax(axis=1)[i] == np.argmax(Known_data_X_test_label[i]):\n",
        "    true += 1\n",
        "print(\"Accuracy on the knowns, Run #19\", true/(Known_data_X_test_label.shape[0]))\n",
        "\n",
        "res_net = create_model()\n",
        "res_net.load_weights(\"/content/gdrive/MyDrive/Stanford_data/20_Obj_K_p1_p2_I_p3_minus10_FTm3.h5\")\n",
        "prediction_known = res_net.predict(Known_data_X_test)\n",
        "\n",
        "true = 0\n",
        "for i in range(Known_data_X_test_label.shape[0]):\n",
        "  if prediction_known[0].argmax(axis=1)[i] == np.argmax(Known_data_X_test_label[i]):\n",
        "    true += 1\n",
        "print(\"Accuracy on the knowns, Run #20\", true/(Known_data_X_test_label.shape[0]))"
      ]
    },
    {
      "cell_type": "code",
      "execution_count": null,
      "metadata": {
        "id": "5VfCTZGKFgC6"
      },
      "outputs": [],
      "source": [
        "Known_data_X_test_label_int = []\n",
        "for i in range(Known_data_X_test_label.shape[0]):\n",
        "  Known_data_X_test_label_int.append(np.argmax(Known_data_X_test_label[i]))"
      ]
    },
    {
      "cell_type": "markdown",
      "source": [
        "# Combine the models into ensembles"
      ],
      "metadata": {
        "id": "1vlvGt261rw-"
      }
    },
    {
      "cell_type": "code",
      "execution_count": null,
      "metadata": {
        "colab": {
          "base_uri": "https://localhost:8080/"
        },
        "id": "YoQo74dY34HC",
        "outputId": "ca180321-3b89-4b84-a10a-5198011f8cea"
      },
      "outputs": [
        {
          "output_type": "stream",
          "name": "stdout",
          "text": [
            "47/47 [==============================] - 11s 202ms/step\n",
            "47/47 [==============================] - 10s 195ms/step\n",
            "47/47 [==============================] - 10s 192ms/step\n",
            "47/47 [==============================] - 10s 188ms/step\n",
            "47/47 [==============================] - 11s 190ms/step\n",
            "47/47 [==============================] - 10s 194ms/step\n",
            "47/47 [==============================] - 10s 197ms/step\n",
            "47/47 [==============================] - 10s 194ms/step\n",
            "47/47 [==============================] - 10s 192ms/step\n",
            "47/47 [==============================] - 10s 190ms/step\n",
            "47/47 [==============================] - 10s 195ms/step\n",
            "47/47 [==============================] - 10s 196ms/step\n",
            "47/47 [==============================] - 10s 188ms/step\n",
            "47/47 [==============================] - 10s 188ms/step\n",
            "47/47 [==============================] - 10s 190ms/step\n",
            "47/47 [==============================] - 10s 193ms/step\n",
            "47/47 [==============================] - 10s 193ms/step\n",
            "47/47 [==============================] - 10s 187ms/step\n",
            "47/47 [==============================] - 10s 190ms/step\n",
            "47/47 [==============================] - 10s 193ms/step\n"
          ]
        }
      ],
      "source": [
        "res_net01 = create_model()\n",
        "res_net02 = create_model()\n",
        "res_net03 = create_model()\n",
        "res_net04 = create_model()\n",
        "res_net05 = create_model()\n",
        "res_net06 = create_model()\n",
        "res_net07 = create_model()\n",
        "res_net08 = create_model()\n",
        "res_net09 = create_model()\n",
        "res_net10 = create_model()\n",
        "res_net11 = create_model()\n",
        "res_net12 = create_model()\n",
        "res_net13 = create_model()\n",
        "res_net14 = create_model()\n",
        "res_net15 = create_model()\n",
        "res_net16 = create_model()\n",
        "res_net17 = create_model()\n",
        "res_net18 = create_model()\n",
        "res_net19 = create_model()\n",
        "res_net20 = create_model()\n",
        "\n",
        "res_net01.load_weights(\"/content/gdrive/MyDrive/Stanford_data/01_Obj_K_p1_p2_I_p3_minus10_FTm3_PP.h5\")\n",
        "res_net02.load_weights(\"/content/gdrive/MyDrive/Stanford_data/02_Obj_K_p1_p2_I_p3_minus10_FTm3_PP.h5\")\n",
        "res_net03.load_weights(\"/content/gdrive/MyDrive/Stanford_data/03_Obj_K_p1_p2_I_p3_minus10_FTm3_PP.h5\")\n",
        "res_net04.load_weights(\"/content/gdrive/MyDrive/Stanford_data/04_Obj_K_p1_p2_I_p3_minus10_FTm3_PP.h5\")\n",
        "res_net05.load_weights(\"/content/gdrive/MyDrive/Stanford_data/05_Obj_K_p1_p2_I_p3_minus10_FTm3_PP.h5\")\n",
        "res_net06.load_weights(\"/content/gdrive/MyDrive/Stanford_data/06_Obj_K_p1_p2_I_p3_minus10_FTm3_PP.h5\")\n",
        "res_net07.load_weights(\"/content/gdrive/MyDrive/Stanford_data/07_Obj_K_p1_p2_I_p3_minus10_FTm3_PP.h5\")\n",
        "res_net08.load_weights(\"/content/gdrive/MyDrive/Stanford_data/08_Obj_K_p1_p2_I_p3_minus10_FTm3_PP.h5\")\n",
        "res_net09.load_weights(\"/content/gdrive/MyDrive/Stanford_data/09_Obj_K_p1_p2_I_p3_minus10_FTm3_PP.h5\")\n",
        "res_net10.load_weights(\"/content/gdrive/MyDrive/Stanford_data/10_Obj_K_p1_p2_I_p3_minus10_FTm3_PP.h5\")\n",
        "res_net11.load_weights(\"/content/gdrive/MyDrive/Stanford_data/11_Obj_K_p1_p2_I_p3_minus10_FTm3_PP.h5\")\n",
        "res_net12.load_weights(\"/content/gdrive/MyDrive/Stanford_data/12_Obj_K_p1_p2_I_p3_minus10_FTm3_PP.h5\")\n",
        "res_net13.load_weights(\"/content/gdrive/MyDrive/Stanford_data/13_Obj_K_p1_p2_I_p3_minus10_FTm3_PP.h5\")\n",
        "res_net14.load_weights(\"/content/gdrive/MyDrive/Stanford_data/14_Obj_K_p1_p2_I_p3_minus10_FTm3_PP.h5\")\n",
        "res_net15.load_weights(\"/content/gdrive/MyDrive/Stanford_data/15_Obj_K_p1_p2_I_p3_minus10_FTm3_PP.h5\")\n",
        "res_net16.load_weights(\"/content/gdrive/MyDrive/Stanford_data/16_Obj_K_p1_p2_I_p3_minus10_FTm3_PP.h5\")\n",
        "res_net17.load_weights(\"/content/gdrive/MyDrive/Stanford_data/17_Obj_K_p1_p2_I_p3_minus10_FTm3_PP.h5\")\n",
        "res_net18.load_weights(\"/content/gdrive/MyDrive/Stanford_data/18_Obj_K_p1_p2_I_p3_minus10_FTm3_PP.h5\")\n",
        "res_net19.load_weights(\"/content/gdrive/MyDrive/Stanford_data/19_Obj_K_p1_p2_I_p3_minus10_FTm3_PP.h5\")\n",
        "res_net20.load_weights(\"/content/gdrive/MyDrive/Stanford_data/20_Obj_K_p1_p2_I_p3_minus10_FTm3_PP.h5\")\n",
        "\n",
        "\n",
        "prediction01_known = res_net01.predict(Known_data_X_test)\n",
        "prediction02_known = res_net02.predict(Known_data_X_test)\n",
        "prediction03_known = res_net03.predict(Known_data_X_test)\n",
        "prediction04_known = res_net04.predict(Known_data_X_test)\n",
        "prediction05_known = res_net05.predict(Known_data_X_test)\n",
        "prediction06_known = res_net06.predict(Known_data_X_test)\n",
        "prediction07_known = res_net07.predict(Known_data_X_test)\n",
        "prediction08_known = res_net08.predict(Known_data_X_test)\n",
        "prediction09_known = res_net09.predict(Known_data_X_test)\n",
        "prediction10_known = res_net10.predict(Known_data_X_test)\n",
        "\n",
        "prediction11_known = res_net11.predict(Known_data_X_test)\n",
        "prediction12_known = res_net12.predict(Known_data_X_test)\n",
        "prediction13_known = res_net13.predict(Known_data_X_test)\n",
        "prediction14_known = res_net14.predict(Known_data_X_test)\n",
        "prediction15_known = res_net15.predict(Known_data_X_test)\n",
        "prediction16_known = res_net16.predict(Known_data_X_test)\n",
        "prediction17_known = res_net17.predict(Known_data_X_test)\n",
        "prediction18_known = res_net18.predict(Known_data_X_test)\n",
        "prediction19_known = res_net19.predict(Known_data_X_test)\n",
        "prediction20_known = res_net20.predict(Known_data_X_test)"
      ]
    },
    {
      "cell_type": "code",
      "execution_count": null,
      "metadata": {
        "id": "Gj3DfZ0O34JF",
        "colab": {
          "base_uri": "https://localhost:8080/"
        },
        "outputId": "13c3b2d4-e62a-488f-c8e9-618b7f0a5605"
      },
      "outputs": [
        {
          "output_type": "stream",
          "name": "stdout",
          "text": [
            "32/32 [==============================] - 6s 192ms/step\n",
            "32/32 [==============================] - 6s 185ms/step\n",
            "32/32 [==============================] - 6s 187ms/step\n",
            "32/32 [==============================] - 6s 192ms/step\n",
            "32/32 [==============================] - 6s 195ms/step\n",
            "32/32 [==============================] - 6s 186ms/step\n",
            "32/32 [==============================] - 6s 196ms/step\n",
            "32/32 [==============================] - 6s 186ms/step\n",
            "32/32 [==============================] - 6s 194ms/step\n",
            "32/32 [==============================] - 6s 189ms/step\n",
            "32/32 [==============================] - 6s 189ms/step\n",
            "32/32 [==============================] - 6s 197ms/step\n",
            "32/32 [==============================] - 6s 187ms/step\n",
            "32/32 [==============================] - 6s 192ms/step\n",
            "32/32 [==============================] - 6s 186ms/step\n",
            "32/32 [==============================] - 6s 189ms/step\n",
            "32/32 [==============================] - 6s 190ms/step\n",
            "32/32 [==============================] - 6s 188ms/step\n",
            "32/32 [==============================] - 6s 185ms/step\n",
            "32/32 [==============================] - 6s 197ms/step\n"
          ]
        }
      ],
      "source": [
        "prediction01_unknown = res_net01.predict(NeverSeen_data_X_test)\n",
        "prediction02_unknown = res_net02.predict(NeverSeen_data_X_test)\n",
        "prediction03_unknown = res_net03.predict(NeverSeen_data_X_test)\n",
        "prediction04_unknown = res_net04.predict(NeverSeen_data_X_test)\n",
        "prediction05_unknown = res_net05.predict(NeverSeen_data_X_test)\n",
        "prediction06_unknown = res_net06.predict(NeverSeen_data_X_test)\n",
        "prediction07_unknown = res_net07.predict(NeverSeen_data_X_test)\n",
        "prediction08_unknown = res_net08.predict(NeverSeen_data_X_test)\n",
        "prediction09_unknown = res_net09.predict(NeverSeen_data_X_test)\n",
        "prediction10_unknown = res_net10.predict(NeverSeen_data_X_test)\n",
        "prediction11_unknown = res_net11.predict(NeverSeen_data_X_test)\n",
        "prediction12_unknown = res_net12.predict(NeverSeen_data_X_test)\n",
        "prediction13_unknown = res_net13.predict(NeverSeen_data_X_test)\n",
        "prediction14_unknown = res_net14.predict(NeverSeen_data_X_test)\n",
        "prediction15_unknown = res_net15.predict(NeverSeen_data_X_test)\n",
        "prediction16_unknown = res_net16.predict(NeverSeen_data_X_test)\n",
        "prediction17_unknown = res_net17.predict(NeverSeen_data_X_test)\n",
        "prediction18_unknown = res_net18.predict(NeverSeen_data_X_test)\n",
        "prediction19_unknown = res_net19.predict(NeverSeen_data_X_test)\n",
        "prediction20_unknown = res_net20.predict(NeverSeen_data_X_test)\n",
        "\n",
        "\n",
        "prediction_unknown_ensemble_1 = (prediction01_unknown[0] + prediction02_unknown[0] + prediction03_unknown[0] + prediction04_unknown[0] + prediction05_unknown[0])/5\n",
        "prediction_unknown_ensemble_2 = (prediction06_unknown[0] + prediction07_unknown[0] + prediction08_unknown[0] + prediction09_unknown[0] + prediction10_unknown[0])/5\n",
        "prediction_unknown_ensemble_3 = (prediction11_unknown[0] + prediction12_unknown[0] + prediction13_unknown[0] + prediction14_unknown[0] + prediction15_unknown[0])/5\n",
        "prediction_unknown_ensemble_4 = (prediction16_unknown[0] + prediction17_unknown[0] + prediction18_unknown[0] + prediction19_unknown[0] + prediction20_unknown[0])/5"
      ]
    },
    {
      "cell_type": "code",
      "source": [
        "Known_data_X_test_label_int = []\n",
        "for i in range(Known_data_X_test_label.shape[0]):\n",
        "  Known_data_X_test_label_int.append(np.argmax(Known_data_X_test_label[i]))"
      ],
      "metadata": {
        "id": "70LxWUp6uB20"
      },
      "execution_count": null,
      "outputs": []
    },
    {
      "cell_type": "code",
      "execution_count": null,
      "metadata": {
        "id": "l3UO05lP34L9",
        "colab": {
          "base_uri": "https://localhost:8080/"
        },
        "outputId": "e9860a33-8c09-4238-f5ea-4257fad07195"
      },
      "outputs": [
        {
          "output_type": "stream",
          "name": "stdout",
          "text": [
            "Accuracy of the first ensemble on the knowns 0.9013333333333333\n",
            "Accuracy of the second ensemble on the knowns 0.9046666666666666\n",
            "Accuracy of the third ensemble on the knowns 0.902\n",
            "Accuracy of the fourth ensemble on the knowns 0.8986666666666666\n"
          ]
        }
      ],
      "source": [
        "prediction_known_ensemble_1 = (prediction01_known[0] + prediction02_known[0] + prediction03_known[0] + prediction04_known[0] + prediction05_known[0])/5\n",
        "\n",
        "true = 0\n",
        "for i in range(Known_data_X_test_label.shape[0]):\n",
        "  if prediction_known_ensemble_1.argmax(axis=1)[i] == Known_data_X_test_label_int[i]:\n",
        "    true += 1\n",
        "print(\"Accuracy of the first ensemble on the knowns\", true/(Known_data_X_test_label.shape[0]))\n",
        "\n",
        "prediction_known_ensemble_2 = (prediction06_known[0] + prediction07_known[0] + prediction08_known[0] + prediction09_known[0] + prediction10_known[0])/5\n",
        "\n",
        "true = 0\n",
        "for i in range(Known_data_X_test_label.shape[0]):\n",
        "  if prediction_known_ensemble_2.argmax(axis=1)[i] == Known_data_X_test_label_int[i]:\n",
        "    true += 1\n",
        "print(\"Accuracy of the second ensemble on the knowns\", true/(Known_data_X_test_label.shape[0]))\n",
        "\n",
        "prediction_known_ensemble_3 = (prediction11_known[0] + prediction12_known[0] + prediction13_known[0] + prediction14_known[0] + prediction15_known[0])/5\n",
        "\n",
        "true = 0\n",
        "for i in range(Known_data_X_test_label.shape[0]):\n",
        "  if prediction_known_ensemble_3.argmax(axis=1)[i] == Known_data_X_test_label_int[i]:\n",
        "    true += 1\n",
        "print(\"Accuracy of the third ensemble on the knowns\", true/(Known_data_X_test_label.shape[0]))\n",
        "\n",
        "prediction_known_ensemble_4 = (prediction16_known[0] + prediction17_known[0] + prediction18_known[0] + prediction19_known[0] + prediction20_known[0])/5\n",
        "\n",
        "true = 0\n",
        "for i in range(Known_data_X_test_label.shape[0]):\n",
        "  if prediction_known_ensemble_4.argmax(axis=1)[i] == Known_data_X_test_label_int[i]:\n",
        "    true += 1\n",
        "print(\"Accuracy of the fourth ensemble on the knowns\", true/(Known_data_X_test_label.shape[0]))"
      ]
    },
    {
      "cell_type": "markdown",
      "source": [
        "# Computing ODIN scores"
      ],
      "metadata": {
        "id": "NqzjnKSg11Gb"
      }
    },
    {
      "cell_type": "code",
      "source": [
        "import tensorflow as tf\n",
        "import numpy as np\n",
        "import matplotlib.pyplot as plt\n",
        "\n",
        "temperature = 1000\n",
        "magnitude = 0.001\n",
        "batch_size = 32\n",
        "threshold = 0.1\n",
        "\n",
        "loaded_models = [res_net01, res_net02, res_net03, res_net04, res_net05, res_net06, res_net07, res_net08, res_net09, res_net10,\n",
        "                 res_net11, res_net12, res_net13, res_net14, res_net15, res_net16, res_net17, res_net18, res_net19, res_net20]\n",
        "\n",
        "UN_Known_data_X_test_as_tensor = tf.convert_to_tensor(NeverSeen_data_X_test)\n",
        "\n",
        "odin_scores_for_models = []\n",
        "\n",
        "def compute_odin_scores_for_model(model, images, threshold):\n",
        "    logits_layer = model.layers[-2].output\n",
        "    logits_model = tf.keras.Model(inputs=model.input, outputs=logits_layer)\n",
        "\n",
        "    odin_scores_UN_KNOWN = []\n",
        "\n",
        "    for i in range(0, len(images), batch_size):\n",
        "        batch = images[i:i + batch_size]\n",
        "\n",
        "        with tf.device(\"/CPU:0\"):\n",
        "            logits = logits_model(batch)\n",
        "\n",
        "        with tf.GradientTape() as tape:\n",
        "            tape.watch(batch)\n",
        "            output = logits_model(batch)\n",
        "        grads = tape.gradient(output, batch)\n",
        "\n",
        "        signed_grads = tf.sign(grads)\n",
        "\n",
        "        perturbed_spectra = batch + magnitude * signed_grads\n",
        "\n",
        "        with tf.device(\"/CPU:0\"):\n",
        "            perturbed_logits = logits_model(perturbed_spectra)\n",
        "\n",
        "        scaled_perturbed_logits = perturbed_logits / temperature\n",
        "\n",
        "        perturbed_softmax_output = tf.nn.softmax(scaled_perturbed_logits)\n",
        "\n",
        "        max_perturbed_softmax_scores = tf.reduce_max(perturbed_softmax_output, axis=1)\n",
        "\n",
        "        max_logits = tf.reduce_max(tf.nn.softmax(logits), axis=1)\n",
        "        odin_scores_batch = max_logits - max_perturbed_softmax_scores\n",
        "\n",
        "        odin_scores_UN_KNOWN.extend(odin_scores_batch)\n",
        "\n",
        "    return odin_scores_UN_KNOWN\n",
        "\n",
        "for model in loaded_models:\n",
        "    odin_scores = compute_odin_scores_for_model(model, UN_Known_data_X_test_as_tensor, threshold)\n",
        "    odin_scores_for_models.append(odin_scores)"
      ],
      "metadata": {
        "id": "foVUvK7u82zU"
      },
      "execution_count": null,
      "outputs": []
    },
    {
      "cell_type": "code",
      "source": [
        "import os\n",
        "\n",
        "all_odin_scores = []\n",
        "for scores in odin_scores_for_models:\n",
        "    all_odin_scores.extend(scores)\n",
        "\n",
        "folder_path = \"/content/gdrive/MyDrive/Stanford_data\"\n",
        "\n",
        "file_name = \"all_odin_scores_OBJp1p2p3.txt\"\n",
        "\n",
        "file_path = os.path.join(folder_path, file_name)\n",
        "\n",
        "with open(file_path, 'w') as file:\n",
        "    for score in all_odin_scores:\n",
        "        file.write(f\"{score}\\n\")"
      ],
      "metadata": {
        "id": "g6vIm6h-0tsx"
      },
      "execution_count": null,
      "outputs": []
    },
    {
      "cell_type": "code",
      "source": [
        "import tensorflow as tf\n",
        "import numpy as np\n",
        "import matplotlib.pyplot as plt\n",
        "\n",
        "batch_size = 32\n",
        "magnitude = 0.001\n",
        "temperature = 1000\n",
        "num_models = 20\n",
        "\n",
        "loaded_models = [\n",
        "    res_net01, res_net02, res_net03, res_net04, res_net05,\n",
        "    res_net06, res_net07, res_net08, res_net09, res_net10,\n",
        "    res_net11, res_net12, res_net13, res_net14, res_net15,\n",
        "    res_net16, res_net17, res_net18, res_net19, res_net20\n",
        "]\n",
        "\n",
        "odin_scores_all_models = []\n",
        "\n",
        "for i in range(num_models):\n",
        "    logits_layer = loaded_models[i].layers[-2].output\n",
        "\n",
        "    logits_model = tf.keras.Model(inputs=loaded_models[i].input, outputs=logits_layer)\n",
        "\n",
        "    Known_data_X_test_as_tensor = tf.convert_to_tensor(Known_data_X_test)\n",
        "\n",
        "    odin_scores_KNOWN = []\n",
        "\n",
        "    for j in range(0, len(Known_data_X_test), batch_size):\n",
        "        batch = Known_data_X_test_as_tensor[j:j+batch_size]\n",
        "\n",
        "        with tf.device(\"/CPU:0\"):\n",
        "            logits = logits_model(batch)\n",
        "\n",
        "        with tf.GradientTape() as tape:\n",
        "            tape.watch(batch)\n",
        "            logits = logits_model(batch)\n",
        "        grads = tape.gradient(logits, batch)\n",
        "\n",
        "        signed_grads = tf.sign(grads)\n",
        "\n",
        "        perturbed_spectra = batch + magnitude * signed_grads\n",
        "\n",
        "        with tf.device(\"/CPU:0\"):\n",
        "            perturbed_logits = logits_model(perturbed_spectra)\n",
        "\n",
        "        scaled_perturbed_logits = perturbed_logits / temperature\n",
        "\n",
        "        perturbed_softmax_output = tf.nn.softmax(scaled_perturbed_logits)\n",
        "\n",
        "        max_perturbed_softmax_scores = tf.reduce_max(perturbed_softmax_output, axis=1)\n",
        "\n",
        "        original_softmax_output = tf.nn.softmax(logits / temperature)\n",
        "        max_softmax_scores = tf.reduce_max(original_softmax_output, axis=1)\n",
        "\n",
        "        odin_scores_batch = max_softmax_scores - max_perturbed_softmax_scores\n",
        "\n",
        "        odin_scores_KNOWN.extend(odin_scores_batch)\n",
        "\n",
        "    odin_scores_KNOWN = np.array(odin_scores_KNOWN)\n",
        "    odin_scores_all_models.append(odin_scores_KNOWN)\n",
        "\n",
        "combined_odin_scores = np.concatenate(odin_scores_all_models)\n",
        "\n",
        "plt.hist(combined_odin_scores, bins=10)\n",
        "plt.xlabel('ODIN Score')\n",
        "plt.ylabel('Frequency')\n",
        "plt.title('Histogram of ODIN Scores for Known Data (All Models)')\n",
        "\n",
        "plt.show()"
      ],
      "metadata": {
        "colab": {
          "base_uri": "https://localhost:8080/",
          "height": 480
        },
        "id": "e9kmjsUZ0t0E",
        "outputId": "bd1dabac-31c9-4e6a-854a-db9743cc2982"
      },
      "execution_count": null,
      "outputs": [
        {
          "output_type": "display_data",
          "data": {
            "text/plain": [
              "<Figure size 640x480 with 1 Axes>"
            ],
            "image/png": "[encoded data removed]"
          },
          "metadata": {}
        }
      ]
    },
    {
      "cell_type": "code",
      "source": [
        "import os\n",
        "\n",
        "folder_path = \"/content/gdrive/MyDrive/Stanford_data\"\n",
        "\n",
        "file_name = \"KNOWN_all_odin_scores_OBJp1p2p3.txt\"\n",
        "file_path = os.path.join(folder_path, file_name)\n",
        "\n",
        "with open(file_path, 'w') as file:\n",
        "    for score in combined_odin_scores:\n",
        "        file.write(f\"{score}\\n\")"
      ],
      "metadata": {
        "id": "yWJtHHIr0t2-"
      },
      "execution_count": null,
      "outputs": []
    },
    {
      "cell_type": "code",
      "source": [],
      "metadata": {
        "id": "-gDJTpLw_pLu"
      },
      "execution_count": null,
      "outputs": []
    },
    {
      "cell_type": "markdown",
      "source": [
        "# Computing OpenMax scores"
      ],
      "metadata": {
        "id": "vyNbnC0l2pvG"
      }
    },
    {
      "cell_type": "code",
      "source": [
        "import tensorflow as tf\n",
        "import numpy as np\n",
        "import matplotlib.pyplot as plt\n",
        "\n",
        "alpha = 1.0\n",
        "num_models = 20\n",
        "\n",
        "loaded_models = [res_net01, res_net02, res_net03, res_net04, res_net05, res_net06, res_net07, res_net08, res_net09, res_net10,\n",
        "                 res_net11, res_net12, res_net13, res_net14, res_net15, res_net16, res_net17, res_net18, res_net19, res_net20]\n",
        "\n",
        "openmax_scores_known = []\n",
        "openmax_scores_unknown = []\n",
        "\n",
        "Known_data_X_test_as_tensor = tf.convert_to_tensor(Known_data_X_test)\n",
        "NeverSeen_data_X_test_as_tensor = tf.convert_to_tensor(NeverSeen_data_X_test)\n",
        "\n",
        "for model in loaded_models:\n",
        "    logits_layer = model.layers[-2].output\n",
        "\n",
        "    logits_model = tf.keras.Model(inputs=model.input, outputs=logits_layer)\n",
        "    known_logits = logits_model(Known_data_X_test_as_tensor)\n",
        "    unknown_logits = logits_model(NeverSeen_data_X_test_as_tensor)\n",
        "\n",
        "    max_known_logits = tf.reduce_max(known_logits, axis=1)\n",
        "    max_unknown_logits = tf.reduce_max(unknown_logits, axis=1)\n",
        "\n",
        "    scores_known = tf.exp(alpha * max_known_logits) / tf.reduce_sum(tf.exp(alpha * max_known_logits))\n",
        "\n",
        "    scores_unknown = []\n",
        "    for max_known, max_unknown in zip(max_known_logits, max_unknown_logits):\n",
        "        unknown_score = tf.exp(alpha * max_known) / (tf.exp(alpha * max_known) + tf.exp(alpha * max_unknown))\n",
        "        scores_unknown.append(unknown_score)\n",
        "\n",
        "    openmax_scores_known.append(scores_known.numpy())\n",
        "    openmax_scores_unknown.append(scores_unknown)\n",
        "\n",
        "merged_openmax_scores_known = np.stack(openmax_scores_known, axis=1)\n",
        "merged_openmax_scores_unknown = np.stack(openmax_scores_unknown, axis=1)\n",
        "\n",
        "combined_openmax_scores_known = merged_openmax_scores_known.flatten()\n",
        "combined_openmax_scores_unknown = merged_openmax_scores_unknown.flatten()\n",
        "\n",
        "plt.figure(figsize=(12, 4))\n",
        "\n",
        "plt.subplot(1, 2, 1)\n",
        "plt.hist(combined_openmax_scores_known, bins=10, alpha=0.5, label=[f'Model {i+1}' for i in range(num_models)])\n",
        "plt.xlabel('OpenMax Score')\n",
        "plt.ylabel('Frequency')\n",
        "plt.title('Histogram of OpenMax Scores for Known Data')\n",
        "plt.legend()\n",
        "\n",
        "plt.subplot(1, 2, 2)\n",
        "plt.hist(combined_openmax_scores_unknown, bins=10, alpha=0.5, label=[f'Model {i+1}' for i in range(num_models)])\n",
        "plt.xlabel('OpenMax Score')\n",
        "plt.ylabel('Frequency')\n",
        "plt.title('Histogram of OpenMax Scores for Unknown Data')\n",
        "plt.legend()\n",
        "\n",
        "plt.tight_layout()\n",
        "plt.show()\n"
      ],
      "metadata": {
        "colab": {
          "base_uri": "https://localhost:8080/",
          "height": 401
        },
        "id": "zDTG7pvH_pOj",
        "outputId": "2e022cba-a3c6-4c11-c7a5-5127e490966a"
      },
      "execution_count": null,
      "outputs": [
        {
          "output_type": "display_data",
          "data": {
            "text/plain": [
              "<Figure size 1200x400 with 2 Axes>"
            ],
            "image/png": "[encoded data removed]"
          },
          "metadata": {}
        }
      ]
    },
    {
      "cell_type": "code",
      "source": [
        "np.savetxt('/content/gdrive/MyDrive/Stanford_data/OBJp1p2p3_combined_openmax_scores_known.txt', combined_openmax_scores_known)\n",
        "np.savetxt('/content/gdrive/MyDrive/Stanford_data/OBJp1p2p3_combined_openmax_scores_unknown.txt', combined_openmax_scores_unknown)"
      ],
      "metadata": {
        "id": "GlZc4XtS_pSR"
      },
      "execution_count": null,
      "outputs": []
    },
    {
      "cell_type": "markdown",
      "source": [
        "# Compute Mahalanobis scores"
      ],
      "metadata": {
        "id": "-0Aw9pku3YrW"
      }
    },
    {
      "cell_type": "code",
      "source": [
        "import numpy as np\n",
        "from scipy.spatial import distance\n",
        "import tensorflow as tf\n",
        "\n",
        "def preprocess_data(data):\n",
        "    preprocessed_data = data\n",
        "    return preprocessed_data\n",
        "\n",
        "def extract_deep_features(model, data):\n",
        "    preprocessed_data = preprocess_data(data)\n",
        "    deep_features = model.layers[-2].output\n",
        "    deep_feature_model = tf.keras.Model(inputs=model.input, outputs=deep_features)\n",
        "    extracted_features = deep_feature_model.predict(preprocessed_data)\n",
        "\n",
        "    return extracted_features\n",
        "\n",
        "deep_features_known = extract_deep_features(res_net01, Known_data_X_test)\n",
        "deep_features_unknown = extract_deep_features(res_net01, NeverSeen_data_X_test)\n",
        "\n",
        "mean_known = np.mean(deep_features_known, axis=0)\n",
        "cov_known = np.cov(deep_features_known, rowvar=False)\n",
        "\n",
        "cond_number = np.linalg.cond(cov_known)\n",
        "print(\"Condition Number of Covariance Matrix (Known Data):\", cond_number)\n",
        "\n",
        "epsilon = 1e-6\n",
        "\n",
        "if cond_number > 1 / epsilon:\n",
        "    cov_known_reg = cov_known + epsilon * np.eye(cov_known.shape[0])\n",
        "else:\n",
        "    cov_known_reg = cov_known\n",
        "\n",
        "mahalanobis_distances_known = []\n",
        "for feature in deep_features_known:\n",
        "    mahalanobis_distance = distance.mahalanobis(feature, mean_known, np.linalg.inv(cov_known_reg))\n",
        "    mahalanobis_distances_known.append(mahalanobis_distance)\n",
        "\n",
        "mahalanobis_distances_unknown = []\n",
        "for feature in deep_features_unknown:\n",
        "    mahalanobis_distance = distance.mahalanobis(feature, mean_known, np.linalg.inv(cov_known_reg))\n",
        "    mahalanobis_distances_unknown.append(mahalanobis_distance)\n",
        "\n",
        "threshold_known = 3.0\n",
        "threshold_unknown = 4.0\n",
        "\n",
        "ood_samples_known = [i for i, distance in enumerate(mahalanobis_distances_known) if distance > threshold_known]\n",
        "ood_samples_unknown = [i for i, distance in enumerate(mahalanobis_distances_unknown) if distance > threshold_unknown]\n",
        "\n",
        "print(\"Out-of-Distribution Sample Indices (Known Data):\", ood_samples_known)\n",
        "print(\"Out-of-Distribution Sample Indices (Unknown Data):\", ood_samples_unknown)"
      ],
      "metadata": {
        "colab": {
          "base_uri": "https://localhost:8080/"
        },
        "id": "IgYvRhe5SXqZ",
        "outputId": "a40eed56-7bf8-485c-a812-fe8f5b6d0c10"
      },
      "execution_count": null,
      "outputs": [
        {
          "output_type": "stream",
          "name": "stdout",
          "text": [
            "47/47 [==============================] - 11s 200ms/step\n",
            "32/32 [==============================] - 8s 199ms/step\n",
            "Condition Number of Covariance Matrix (Known Data): 65841.76163376535\n",
            "Out-of-Distribution Sample Indices (Known Data): [0, 1, 2, 3, 4, 5, 6, 7, 8, 9, 10, 11, 12, 13, 14, 15, 16, 17, 18, 19, 20, 21, 22, 23, 24, 25, 26, 27, 28, 29, 30, 31, 32, 33, 34, 35, 36, 37, 38, 39, 40, 41, 42, 43, 44, 45, 46, 47, 48, 49, 50, 51, 52, 53, 54, 55, 56, 57, 58, 59, 60, 61, 62, 63, 64, 65, 66, 67, 68, 69, 70, 71, 72, 73, 74, 75, 76, 77, 78, 79, 80, 81, 82, 83, 84, 85, 86, 87, 88, 89, 90, 91, 92, 93, 94, 95, 96, 97, 98, 99, 100, 101, 102, 103, 104, 105, 106, 107, 108, 109, 110, 111, 112, 113, 114, 115, 116, 117, 118, 119, 120, 121, 122, 123, 124, 125, 126, 127, 128, 129, 130, 131, 132, 133, 134, 135, 136, 137, 138, 139, 140, 141, 142, 143, 144, 145, 146, 147, 148, 149, 150, 151, 152, 153, 154, 155, 156, 157, 158, 159, 160, 161, 162, 163, 164, 165, 166, 167, 168, 169, 170, 171, 172, 173, 174, 175, 176, 177, 178, 179, 180, 181, 182, 183, 184, 185, 186, 187, 188, 189, 190, 191, 192, 193, 194, 195, 196, 197, 198, 199, 200, 201, 202, 203, 204, 205, 206, 207, 208, 209, 210, 211, 212, 213, 214, 215, 216, 217, 218, 219, 220, 221, 222, 223, 224, 225, 226, 227, 228, 229, 230, 231, 232, 233, 234, 235, 236, 237, 238, 239, 240, 241, 242, 243, 244, 245, 246, 247, 248, 249, 250, 251, 252, 253, 254, 255, 256, 257, 258, 259, 260, 261, 262, 263, 264, 265, 266, 267, 268, 269, 270, 271, 272, 273, 274, 275, 276, 277, 278, 279, 280, 281, 282, 283, 284, 285, 286, 287, 288, 289, 290, 291, 292, 293, 294, 295, 296, 297, 298, 299, 300, 301, 302, 303, 304, 305, 306, 307, 308, 309, 310, 311, 312, 313, 314, 315, 316, 317, 318, 319, 320, 321, 322, 323, 324, 325, 326, 327, 328, 329, 330, 331, 332, 333, 334, 335, 336, 337, 338, 339, 340, 341, 342, 343, 344, 345, 346, 347, 348, 349, 350, 351, 352, 353, 354, 355, 356, 357, 358, 359, 360, 361, 362, 363, 364, 365, 366, 367, 368, 369, 370, 371, 372, 373, 374, 375, 376, 377, 378, 379, 380, 381, 382, 383, 384, 385, 386, 387, 388, 389, 390, 391, 392, 393, 394, 395, 396, 397, 398, 399, 400, 401, 402, 403, 404, 405, 406, 407, 408, 409, 410, 411, 412, 413, 414, 415, 416, 417, 418, 419, 420, 421, 422, 423, 424, 425, 426, 427, 428, 429, 430, 431, 432, 433, 434, 435, 436, 437, 438, 439, 440, 441, 442, 443, 444, 445, 446, 447, 448, 449, 450, 451, 452, 453, 454, 455, 456, 457, 458, 459, 460, 461, 462, 463, 464, 465, 466, 467, 468, 469, 470, 471, 472, 473, 474, 475, 476, 477, 478, 479, 480, 481, 482, 483, 484, 485, 486, 487, 488, 489, 490, 491, 492, 493, 494, 495, 496, 497, 498, 499, 500, 501, 502, 503, 504, 505, 506, 507, 508, 509, 510, 511, 512, 513, 514, 515, 516, 517, 518, 519, 520, 521, 522, 523, 524, 525, 526, 527, 528, 529, 530, 531, 532, 533, 534, 535, 536, 537, 538, 539, 540, 541, 542, 543, 544, 545, 546, 547, 548, 549, 550, 551, 552, 553, 554, 555, 556, 557, 558, 559, 560, 561, 562, 563, 564, 565, 566, 567, 568, 569, 570, 571, 572, 573, 574, 575, 576, 577, 578, 579, 580, 581, 582, 583, 584, 585, 586, 587, 588, 589, 590, 591, 592, 593, 594, 595, 596, 597, 598, 599, 600, 601, 602, 603, 604, 605, 606, 607, 608, 609, 610, 611, 612, 613, 614, 615, 616, 617, 618, 619, 620, 621, 622, 623, 624, 625, 626, 627, 628, 629, 630, 631, 632, 633, 634, 635, 636, 637, 638, 639, 640, 641, 642, 643, 644, 645, 646, 647, 648, 649, 650, 651, 652, 653, 654, 655, 656, 657, 658, 659, 660, 661, 662, 663, 664, 665, 666, 667, 668, 669, 670, 671, 672, 673, 674, 675, 676, 677, 678, 679, 680, 681, 682, 683, 684, 685, 686, 687, 688, 689, 690, 691, 692, 693, 694, 695, 696, 697, 698, 699, 700, 701, 702, 703, 704, 705, 706, 707, 708, 709, 710, 711, 712, 713, 714, 715, 716, 717, 718, 719, 720, 721, 722, 723, 724, 725, 726, 727, 728, 729, 730, 731, 732, 733, 734, 735, 736, 737, 738, 739, 740, 741, 742, 743, 744, 745, 746, 747, 748, 749, 750, 751, 752, 753, 754, 755, 756, 757, 758, 759, 760, 761, 762, 763, 764, 765, 766, 767, 768, 769, 770, 771, 772, 773, 774, 775, 776, 777, 778, 779, 780, 781, 782, 783, 784, 785, 786, 787, 788, 789, 790, 791, 792, 793, 794, 795, 796, 797, 798, 799, 800, 801, 802, 803, 804, 805, 806, 807, 808, 809, 810, 811, 812, 813, 814, 815, 816, 817, 818, 819, 820, 821, 822, 823, 824, 825, 826, 827, 828, 829, 830, 831, 832, 833, 834, 835, 836, 837, 838, 839, 840, 841, 842, 843, 844, 845, 846, 847, 848, 849, 850, 851, 852, 853, 854, 855, 856, 857, 858, 859, 860, 861, 862, 863, 864, 865, 866, 867, 868, 869, 870, 871, 872, 873, 874, 875, 876, 877, 878, 879, 880, 881, 882, 883, 884, 885, 886, 887, 888, 889, 890, 891, 892, 893, 894, 895, 896, 897, 898, 899, 900, 901, 902, 903, 904, 905, 906, 907, 908, 909, 910, 911, 912, 913, 914, 915, 916, 917, 918, 919, 920, 921, 922, 923, 924, 925, 926, 927, 928, 929, 930, 931, 932, 933, 934, 935, 936, 937, 938, 939, 940, 941, 942, 943, 944, 945, 946, 947, 948, 949, 950, 951, 952, 953, 954, 955, 956, 957, 958, 959, 960, 961, 962, 963, 964, 965, 966, 967, 968, 969, 970, 971, 972, 973, 974, 975, 976, 977, 978, 979, 980, 981, 982, 983, 984, 985, 986, 987, 988, 989, 990, 991, 992, 993, 994, 995, 996, 997, 998, 999, 1000, 1001, 1002, 1003, 1004, 1005, 1006, 1007, 1008, 1009, 1010, 1011, 1012, 1013, 1014, 1015, 1016, 1017, 1018, 1019, 1020, 1021, 1022, 1023, 1024, 1025, 1026, 1027, 1028, 1029, 1030, 1031, 1032, 1033, 1034, 1035, 1036, 1037, 1038, 1039, 1040, 1041, 1042, 1043, 1044, 1045, 1046, 1047, 1048, 1049, 1050, 1051, 1052, 1053, 1054, 1055, 1056, 1057, 1058, 1059, 1060, 1061, 1062, 1063, 1064, 1065, 1066, 1067, 1068, 1069, 1070, 1071, 1072, 1073, 1074, 1075, 1076, 1077, 1078, 1079, 1080, 1081, 1082, 1083, 1084, 1085, 1086, 1087, 1088, 1089, 1090, 1091, 1092, 1093, 1094, 1095, 1096, 1097, 1098, 1099, 1100, 1101, 1102, 1103, 1104, 1105, 1106, 1107, 1108, 1109, 1110, 1111, 1112, 1113, 1114, 1115, 1116, 1117, 1118, 1119, 1120, 1121, 1122, 1123, 1124, 1125, 1126, 1127, 1128, 1129, 1130, 1131, 1132, 1133, 1134, 1135, 1136, 1137, 1138, 1139, 1140, 1141, 1142, 1143, 1144, 1145, 1146, 1147, 1148, 1149, 1150, 1151, 1152, 1153, 1154, 1155, 1156, 1157, 1158, 1159, 1160, 1161, 1162, 1163, 1164, 1165, 1166, 1167, 1168, 1169, 1170, 1171, 1172, 1173, 1174, 1175, 1176, 1177, 1178, 1179, 1180, 1181, 1182, 1183, 1184, 1185, 1186, 1187, 1188, 1189, 1190, 1191, 1192, 1193, 1194, 1195, 1196, 1197, 1198, 1199, 1200, 1201, 1202, 1203, 1204, 1205, 1206, 1207, 1208, 1209, 1210, 1211, 1212, 1213, 1214, 1215, 1216, 1217, 1218, 1219, 1220, 1221, 1222, 1223, 1224, 1225, 1226, 1227, 1228, 1229, 1230, 1231, 1232, 1233, 1234, 1235, 1236, 1237, 1238, 1239, 1240, 1241, 1242, 1243, 1244, 1245, 1246, 1247, 1248, 1249, 1250, 1251, 1252, 1253, 1254, 1255, 1256, 1257, 1258, 1259, 1260, 1261, 1262, 1263, 1264, 1265, 1266, 1267, 1268, 1269, 1270, 1271, 1272, 1273, 1274, 1275, 1276, 1277, 1278, 1279, 1280, 1281, 1282, 1283, 1284, 1285, 1286, 1287, 1288, 1289, 1290, 1291, 1292, 1293, 1294, 1295, 1296, 1297, 1298, 1299, 1300, 1301, 1302, 1303, 1304, 1305, 1306, 1307, 1308, 1309, 1310, 1311, 1312, 1313, 1314, 1315, 1316, 1317, 1318, 1319, 1320, 1321, 1322, 1323, 1324, 1325, 1326, 1327, 1328, 1329, 1330, 1331, 1332, 1333, 1334, 1335, 1336, 1337, 1338, 1339, 1340, 1341, 1342, 1343, 1344, 1345, 1346, 1347, 1348, 1349, 1350, 1351, 1352, 1353, 1354, 1355, 1356, 1357, 1358, 1359, 1360, 1361, 1362, 1363, 1364, 1365, 1366, 1367, 1368, 1369, 1370, 1371, 1372, 1373, 1374, 1375, 1376, 1377, 1378, 1379, 1380, 1381, 1382, 1383, 1384, 1385, 1386, 1387, 1388, 1389, 1390, 1391, 1392, 1393, 1394, 1395, 1396, 1397, 1398, 1399, 1400, 1401, 1402, 1403, 1404, 1405, 1406, 1407, 1408, 1409, 1410, 1411, 1412, 1413, 1414, 1415, 1416, 1417, 1418, 1419, 1420, 1421, 1422, 1423, 1424, 1425, 1426, 1427, 1428, 1429, 1430, 1431, 1432, 1433, 1434, 1435, 1436, 1437, 1438, 1439, 1440, 1441, 1442, 1443, 1444, 1445, 1446, 1447, 1448, 1449, 1450, 1451, 1452, 1453, 1454, 1455, 1456, 1457, 1458, 1459, 1460, 1461, 1462, 1463, 1464, 1465, 1466, 1467, 1468, 1469, 1470, 1471, 1472, 1473, 1474, 1475, 1476, 1477, 1478, 1479, 1480, 1481, 1482, 1483, 1484, 1485, 1486, 1487, 1488, 1489, 1490, 1491, 1492, 1493, 1494, 1495, 1496, 1497, 1498, 1499]\n",
            "Out-of-Distribution Sample Indices (Unknown Data): [1, 2, 3, 5, 6, 7, 8, 9, 10, 11, 12, 13, 14, 15, 16, 17, 18, 19, 20, 21, 22, 23, 24, 25, 26, 27, 29, 30, 31, 32, 34, 35, 36, 38, 39, 40, 41, 42, 45, 47, 48, 49, 51, 52, 53, 55, 56, 57, 58, 59, 60, 61, 62, 63, 64, 65, 66, 67, 68, 69, 70, 71, 73, 74, 75, 76, 77, 78, 79, 81, 82, 83, 84, 85, 86, 87, 88, 89, 90, 91, 92, 94, 95, 96, 97, 99, 138, 184, 186, 200, 202, 203, 204, 205, 206, 207, 209, 210, 211, 212, 213, 214, 215, 216, 217, 218, 219, 220, 221, 222, 223, 224, 225, 226, 227, 228, 229, 230, 231, 232, 233, 234, 235, 236, 237, 238, 239, 240, 241, 242, 243, 244, 245, 246, 247, 248, 249, 250, 251, 252, 253, 255, 256, 257, 258, 259, 260, 261, 262, 263, 264, 265, 266, 267, 268, 269, 270, 271, 272, 273, 274, 275, 276, 277, 278, 279, 280, 281, 282, 283, 284, 285, 286, 287, 288, 289, 290, 291, 292, 293, 294, 295, 296, 297, 298, 299, 300, 301, 302, 303, 304, 305, 306, 307, 308, 309, 310, 311, 312, 313, 314, 315, 316, 317, 318, 319, 320, 321, 322, 323, 324, 325, 326, 327, 328, 329, 330, 331, 332, 333, 334, 335, 336, 337, 338, 339, 340, 341, 342, 343, 344, 345, 346, 347, 348, 349, 350, 351, 352, 353, 354, 355, 356, 357, 358, 359, 360, 361, 362, 363, 364, 365, 366, 367, 368, 369, 370, 371, 372, 373, 374, 375, 376, 377, 378, 379, 380, 381, 382, 383, 384, 385, 386, 387, 388, 389, 390, 391, 392, 393, 394, 395, 396, 397, 398, 399, 400, 401, 402, 403, 404, 405, 406, 407, 408, 409, 410, 411, 412, 413, 414, 415, 416, 417, 418, 419, 420, 421, 422, 423, 424, 425, 426, 427, 428, 429, 430, 431, 432, 433, 434, 435, 436, 437, 438, 439, 440, 441, 442, 443, 444, 445, 446, 447, 448, 449, 450, 451, 452, 453, 454, 455, 456, 457, 458, 459, 460, 461, 462, 463, 464, 465, 466, 467, 468, 469, 470, 471, 472, 473, 474, 475, 476, 477, 478, 479, 480, 481, 482, 483, 484, 485, 486, 487, 488, 489, 490, 491, 492, 493, 494, 495, 496, 497, 498, 499, 501, 502, 503, 504, 505, 506, 508, 509, 510, 512, 514, 515, 518, 519, 521, 523, 525, 526, 527, 528, 529, 530, 531, 532, 533, 534, 535, 536, 537, 538, 541, 542, 543, 545, 546, 547, 548, 549, 550, 551, 552, 553, 554, 555, 557, 558, 559, 560, 561, 562, 563, 564, 565, 566, 567, 568, 569, 570, 571, 572, 574, 576, 577, 578, 579, 580, 581, 584, 587, 588, 590, 591, 592, 593, 594, 595, 596, 597, 598, 599, 600, 601, 602, 603, 604, 605, 606, 607, 608, 609, 610, 611, 612, 613, 614, 615, 616, 617, 618, 619, 620, 621, 622, 623, 624, 625, 626, 627, 628, 629, 630, 631, 632, 633, 634, 636, 637, 638, 639, 640, 641, 642, 643, 644, 645, 646, 647, 648, 649, 650, 651, 652, 653, 654, 655, 656, 657, 658, 659, 660, 661, 662, 663, 664, 665, 666, 667, 668, 669, 670, 671, 672, 673, 674, 675, 676, 677, 678, 679, 680, 681, 682, 683, 684, 685, 686, 687, 688, 689, 690, 691, 692, 693, 694, 695, 696, 697, 698, 699, 700, 701, 702, 703, 704, 705, 706, 707, 708, 709, 710, 711, 712, 713, 714, 715, 716, 717, 718, 719, 720, 721, 722, 724, 725, 726, 727, 728, 729, 730, 731, 732, 733, 734, 735, 736, 737, 738, 739, 740, 741, 742, 743, 744, 745, 746, 747, 748, 749, 750, 752, 754, 755, 756, 757, 758, 759, 760, 761, 762, 763, 764, 765, 766, 767, 768, 769, 770, 771, 772, 773, 774, 775, 776, 777, 778, 779, 780, 781, 782, 783, 784, 785, 786, 787, 788, 790, 791, 792, 793, 794, 795, 796, 797, 798, 799, 801, 804, 805, 806, 808, 809, 811, 812, 813, 814, 815, 816, 817, 818, 819, 820, 822, 823, 828, 829, 831, 832, 833, 834, 835, 836, 837, 839, 840, 842, 843, 845, 846, 847, 848, 849, 850, 851, 852, 853, 854, 855, 856, 858, 859, 860, 862, 863, 865, 866, 867, 868, 869, 870, 871, 872, 873, 874, 875, 876, 877, 878, 879, 880, 881, 882, 883, 884, 885, 886, 887, 888, 889, 890, 891, 892, 893, 894, 895, 896, 897, 898, 899, 901, 902, 903, 904, 905, 906, 909, 912, 913, 914, 915, 916, 919, 920, 921, 922, 923, 924, 925, 926, 927, 928, 929, 930, 931, 932, 933, 934, 935, 938, 939, 940, 942, 943, 944, 945, 947, 948, 949, 950, 952, 953, 954, 955, 956, 957, 958, 959, 960, 961, 962, 963, 964, 965, 966, 968, 969, 970, 971, 972, 973, 974, 975, 976, 977, 978, 979, 981, 982, 984, 985, 986, 987, 988, 989, 990, 991, 992, 993, 994, 996, 997, 998, 999]\n"
          ]
        }
      ]
    },
    {
      "cell_type": "code",
      "source": [
        "import numpy as np\n",
        "from scipy.spatial import distance\n",
        "import tensorflow as tf\n",
        "from sklearn.decomposition import PCA\n",
        "import matplotlib.pyplot as plt\n",
        "\n",
        "def extract_deep_features(model, data):\n",
        "    preprocessed_data = preprocess_data(data)\n",
        "    deep_features = model.layers[-2].output\n",
        "    deep_feature_model = tf.keras.Model(inputs=model.input, outputs=deep_features)\n",
        "    extracted_features = deep_feature_model.predict(preprocessed_data)\n",
        "\n",
        "    return extracted_features\n",
        "\n",
        "loaded_models = [res_net01, res_net02, res_net03, res_net04, res_net05, res_net06, res_net07, res_net08, res_net09, res_net10,\n",
        "                 res_net11, res_net12, res_net13, res_net14, res_net15, res_net16, res_net17, res_net18, res_net19, res_net20]\n",
        "\n",
        "deep_features_known_all = []\n",
        "mahalanobis_distances_known_all = []\n",
        "deep_features_unknown_all = []\n",
        "mahalanobis_distances_unknown_all = []\n",
        "n_components = min(deep_features_known.shape[0], deep_features_known.shape[1]) - 1\n",
        "\n",
        "for model in loaded_models:\n",
        "    deep_features_known = extract_deep_features(model, Known_data_X_test)\n",
        "    deep_features_unknown = extract_deep_features(model, NeverSeen_data_X_test)\n",
        "\n",
        "    pca = PCA(n_components=n_components)\n",
        "    deep_features_known_pca = pca.fit_transform(deep_features_known)\n",
        "    deep_features_unknown_pca = pca.transform(deep_features_unknown)\n",
        "\n",
        "    mean_known = np.mean(deep_features_known_pca, axis=0)\n",
        "    cov_known = np.cov(deep_features_known_pca, rowvar=False)\n",
        "\n",
        "    cond_number = np.linalg.cond(cov_known)\n",
        "    print(\"Condition Number of Covariance Matrix (Known Data):\", cond_number)\n",
        "\n",
        "    epsilon = 1e-5\n",
        "\n",
        "    if cond_number > 1 / epsilon:\n",
        "        cov_known_reg = cov_known + epsilon * np.eye(cov_known.shape[0])\n",
        "    else:\n",
        "        cov_known_reg = cov_known\n",
        "\n",
        "    mahalanobis_distances_known = []\n",
        "    for feature in deep_features_known_pca:\n",
        "        mahalanobis_distance = distance.mahalanobis(feature, mean_known, np.linalg.inv(cov_known_reg))\n",
        "        mahalanobis_distances_known.append(mahalanobis_distance)\n",
        "\n",
        "    mahalanobis_distances_unknown = []\n",
        "    for feature in deep_features_unknown_pca:\n",
        "        mahalanobis_distance = distance.mahalanobis(feature, mean_known, np.linalg.inv(cov_known_reg))\n",
        "        mahalanobis_distances_unknown.append(mahalanobis_distance)\n",
        "\n",
        "    deep_features_known_all.append(deep_features_known_pca)\n",
        "    mahalanobis_distances_known_all.append(mahalanobis_distances_known)\n",
        "    deep_features_unknown_all.append(deep_features_unknown_pca)\n",
        "    mahalanobis_distances_unknown_all.append(mahalanobis_distances_unknown)\n",
        "\n",
        "deep_features_known_combined = np.concatenate(deep_features_known_all, axis=-1)\n",
        "mahalanobis_distances_known_combined = np.mean(mahalanobis_distances_known_all, axis=0)\n",
        "\n",
        "deep_features_unknown_combined = np.concatenate(deep_features_unknown_all, axis=-1)\n",
        "mahalanobis_distances_unknown_combined = np.mean(mahalanobis_distances_unknown_all, axis=0)\n",
        "\n",
        "threshold_known = 3.0\n",
        "threshold_unknown = 4.0\n",
        "\n",
        "ood_samples_known = [i for i, distance in enumerate(mahalanobis_distances_known_combined) if distance > threshold_known]\n",
        "ood_samples_unknown = [i for i, distance in enumerate(mahalanobis_distances_unknown_combined) if distance > threshold_unknown]\n",
        "\n",
        "plt.figure(figsize=(12, 4))\n",
        "\n",
        "plt.subplot(1, 2, 1)\n",
        "plt.hist(mahalanobis_distances_known_combined, bins=10)\n",
        "plt.xlabel('Mahalanobis Distance')\n",
        "plt.ylabel('Frequency')\n",
        "plt.title('Histogram of Mahalanobis Scores for Known Data (Combined)')\n",
        "\n",
        "plt.subplot(1, 2, 2)\n",
        "plt.hist(mahalanobis_distances_unknown_combined, bins=10)\n",
        "plt.xlabel('Mahalanobis Distance')\n",
        "plt.ylabel('Frequency')\n",
        "plt.title('Histogram of Mahalanobis Scores for Unknown Data (Combined)')\n",
        "\n",
        "plt.tight_layout()\n",
        "plt.show()\n"
      ],
      "metadata": {
        "id": "Ecir66ZjR2XO",
        "colab": {
          "base_uri": "https://localhost:8080/",
          "height": 1000
        },
        "outputId": "80aa4b68-fc42-44a4-f761-bcb40fff58df"
      },
      "execution_count": null,
      "outputs": [
        {
          "output_type": "stream",
          "name": "stdout",
          "text": [
            "47/47 [==============================] - 11s 205ms/step\n",
            "32/32 [==============================] - 8s 202ms/step\n",
            "Condition Number of Covariance Matrix (Known Data): 1014.5143038876423\n",
            "47/47 [==============================] - 10s 197ms/step\n",
            "32/32 [==============================] - 7s 191ms/step\n",
            "Condition Number of Covariance Matrix (Known Data): 3116.3373869594634\n",
            "47/47 [==============================] - 11s 200ms/step\n",
            "32/32 [==============================] - 8s 204ms/step\n",
            "Condition Number of Covariance Matrix (Known Data): 6671.75904937343\n",
            "47/47 [==============================] - 11s 203ms/step\n",
            "32/32 [==============================] - 7s 190ms/step\n",
            "Condition Number of Covariance Matrix (Known Data): 3320.868280341757\n",
            "47/47 [==============================] - 9s 177ms/step\n",
            "32/32 [==============================] - 7s 174ms/step\n",
            "Condition Number of Covariance Matrix (Known Data): 8677.086327027171\n",
            "47/47 [==============================] - 9s 176ms/step\n",
            "32/32 [==============================] - 7s 180ms/step\n",
            "Condition Number of Covariance Matrix (Known Data): 1025.4278755363198\n",
            "47/47 [==============================] - 10s 186ms/step\n",
            "32/32 [==============================] - 7s 173ms/step\n",
            "Condition Number of Covariance Matrix (Known Data): 3352.0447787672465\n",
            "47/47 [==============================] - 10s 182ms/step\n",
            "32/32 [==============================] - 7s 175ms/step\n",
            "Condition Number of Covariance Matrix (Known Data): 23659.825303500635\n",
            "47/47 [==============================] - 11s 209ms/step\n",
            "32/32 [==============================] - 8s 199ms/step\n",
            "Condition Number of Covariance Matrix (Known Data): 1462.4388758856585\n",
            "47/47 [==============================] - 11s 202ms/step\n",
            "32/32 [==============================] - 8s 203ms/step\n",
            "Condition Number of Covariance Matrix (Known Data): 1540.936085945762\n",
            "47/47 [==============================] - 11s 202ms/step\n",
            "32/32 [==============================] - 7s 193ms/step\n",
            "Condition Number of Covariance Matrix (Known Data): 17793.43817676519\n",
            "47/47 [==============================] - 11s 201ms/step\n",
            "32/32 [==============================] - 7s 191ms/step\n",
            "Condition Number of Covariance Matrix (Known Data): 3792.2723217394614\n",
            "47/47 [==============================] - 11s 202ms/step\n",
            "32/32 [==============================] - 7s 186ms/step\n",
            "Condition Number of Covariance Matrix (Known Data): 19521.766262638914\n",
            "47/47 [==============================] - 10s 186ms/step\n",
            "32/32 [==============================] - 7s 178ms/step\n",
            "Condition Number of Covariance Matrix (Known Data): 8652.170644170877\n",
            "47/47 [==============================] - 11s 184ms/step\n",
            "32/32 [==============================] - 7s 173ms/step\n",
            "Condition Number of Covariance Matrix (Known Data): 14090.349780061923\n",
            "47/47 [==============================] - 10s 184ms/step\n",
            "32/32 [==============================] - 7s 186ms/step\n",
            "Condition Number of Covariance Matrix (Known Data): 2277.9667646188345\n",
            "47/47 [==============================] - 10s 187ms/step\n",
            "32/32 [==============================] - 7s 172ms/step\n",
            "Condition Number of Covariance Matrix (Known Data): 11603.98244694796\n",
            "47/47 [==============================] - 10s 182ms/step\n",
            "32/32 [==============================] - 7s 179ms/step\n",
            "Condition Number of Covariance Matrix (Known Data): 9877.497730332125\n",
            "47/47 [==============================] - 9s 175ms/step\n",
            "32/32 [==============================] - 7s 179ms/step\n",
            "Condition Number of Covariance Matrix (Known Data): 1929.232985076075\n",
            "47/47 [==============================] - 10s 186ms/step\n",
            "32/32 [==============================] - 7s 173ms/step\n",
            "Condition Number of Covariance Matrix (Known Data): 2370.362553084125\n"
          ]
        },
        {
          "output_type": "display_data",
          "data": {
            "text/plain": [
              "<Figure size 1200x400 with 2 Axes>"
            ],
            "image/png": "[encoded data removed]"
          },
          "metadata": {}
        }
      ]
    },
    {
      "cell_type": "code",
      "source": [
        "np.savetxt(f'{folder_path}/mahalanobis_distances_known_combined_OBJp1p2p3.txt', mahalanobis_distances_known_combined)\n",
        "np.savetxt(f'{folder_path}/mahalanobis_distances_unknown_combined_OBJp1p2p3.txt', mahalanobis_distances_unknown_combined)"
      ],
      "metadata": {
        "id": "y4-bOAdHRyrG"
      },
      "execution_count": null,
      "outputs": []
    },
    {
      "cell_type": "markdown",
      "source": [
        "#ODIN, example for 1 model"
      ],
      "metadata": {
        "id": "Ca5XYWL89FWx"
      }
    },
    {
      "cell_type": "code",
      "source": [
        "import tensorflow as tf\n",
        "import numpy as np\n",
        "import matplotlib.pyplot as plt\n",
        "\n",
        "temperature = 1000\n",
        "magnitude = 0.001\n",
        "\n",
        "UN_Known_data_X_test_as_tensor = tf.convert_to_tensor(NeverSeen_data_X_test)\n",
        "\n",
        "logits_layer = res_net01.layers[-2].output\n",
        "logits_model = tf.keras.Model(inputs=res_net01.input, outputs=logits_layer)\n",
        "\n",
        "odin_scores_UN_KNOWN = []\n",
        "\n",
        "batch_size = 32\n",
        "\n",
        "for i in range(0, len(NeverSeen_data_X_test), batch_size):\n",
        "    batch = UN_Known_data_X_test_as_tensor[i:i+batch_size]\n",
        "\n",
        "    with tf.device(\"/CPU:0\"):\n",
        "        logits = logits_model(batch)\n",
        "\n",
        "    with tf.GradientTape() as tape:\n",
        "        tape.watch(batch)\n",
        "        output = logits_model(batch)\n",
        "    grads = tape.gradient(output, batch)\n",
        "\n",
        "    signed_grads = tf.sign(grads)\n",
        "\n",
        "    perturbed_spectra = batch + magnitude * signed_grads\n",
        "\n",
        "    with tf.device(\"/CPU:0\"):\n",
        "        perturbed_logits = logits_model(perturbed_spectra)\n",
        "\n",
        "    scaled_perturbed_logits = perturbed_logits / temperature\n",
        "\n",
        "    perturbed_softmax_output = tf.nn.softmax(scaled_perturbed_logits)\n",
        "\n",
        "    max_perturbed_softmax_scores = tf.reduce_max(perturbed_softmax_output, axis=1)\n",
        "\n",
        "    max_logits = tf.reduce_max(tf.nn.softmax(logits), axis=1)\n",
        "    odin_scores_batch = max_logits - max_perturbed_softmax_scores\n",
        "\n",
        "    odin_scores_UN_KNOWN.extend(odin_scores_batch)\n",
        "\n",
        "odin_scores_UN_KNOWN = np.array(odin_scores_UN_KNOWN)\n",
        "\n",
        "plt.hist(odin_scores_UN_KNOWN, bins=10)\n",
        "plt.xlabel('ODIN Score')\n",
        "plt.ylabel('Frequency')\n",
        "plt.title('Histogram of ODIN UNKNOWN Scores')\n",
        "\n",
        "plt.show()\n"
      ],
      "metadata": {
        "colab": {
          "base_uri": "https://localhost:8080/",
          "height": 480
        },
        "id": "RjTLasfr8265",
        "outputId": "d6cf817f-8504-4633-c711-ce65cf784538"
      },
      "execution_count": null,
      "outputs": [
        {
          "output_type": "display_data",
          "data": {
            "text/plain": [
              "<Figure size 640x480 with 1 Axes>"
            ],
            "image/png": "[encoded data removed]"
          },
          "metadata": {}
        }
      ]
    },
    {
      "cell_type": "code",
      "source": [
        "min(odin_scores_UN_KNOWN)"
      ],
      "metadata": {
        "id": "MUhjUPn_CJbj",
        "colab": {
          "base_uri": "https://localhost:8080/"
        },
        "outputId": "9b86367b-951f-440f-c83c-c712b4886286"
      },
      "execution_count": null,
      "outputs": [
        {
          "output_type": "execute_result",
          "data": {
            "text/plain": [
              "0.074482694"
            ]
          },
          "metadata": {},
          "execution_count": 17
        }
      ]
    },
    {
      "cell_type": "code",
      "source": [
        "import tensorflow as tf\n",
        "import numpy as np\n",
        "import matplotlib.pyplot as plt\n",
        "\n",
        "logits_layer = res_net01.layers[-2].output\n",
        "\n",
        "logits_model = tf.keras.Model(inputs=res_net01.input, outputs=logits_layer)\n",
        "\n",
        "Known_data_X_test_as_tensor = tf.convert_to_tensor(Known_data_X_test)\n",
        "\n",
        "odin_scores_KNOWN = []\n",
        "\n",
        "batch_size = 32\n",
        "magnitude = 0.001\n",
        "\n",
        "for i in range(0, len(Known_data_X_test), batch_size):\n",
        "    batch = Known_data_X_test_as_tensor[i:i+batch_size]\n",
        "\n",
        "    with tf.device(\"/CPU:0\"):\n",
        "        logits = logits_model(batch)\n",
        "\n",
        "    with tf.GradientTape() as tape:\n",
        "        tape.watch(batch)\n",
        "        logits = logits_model(batch)\n",
        "    grads = tape.gradient(logits, batch)\n",
        "\n",
        "    signed_grads = tf.sign(grads)\n",
        "\n",
        "    perturbed_spectra = batch + magnitude * signed_grads\n",
        "\n",
        "    with tf.device(\"/CPU:0\"):\n",
        "        perturbed_logits = logits_model(perturbed_spectra)\n",
        "\n",
        "    scaled_perturbed_logits = perturbed_logits / temperature\n",
        "\n",
        "    perturbed_softmax_output = tf.nn.softmax(scaled_perturbed_logits)\n",
        "\n",
        "    max_perturbed_softmax_scores = tf.reduce_max(perturbed_softmax_output, axis=1)\n",
        "\n",
        "    original_softmax_output = tf.nn.softmax(logits / temperature)\n",
        "    max_softmax_scores = tf.reduce_max(original_softmax_output, axis=1)\n",
        "\n",
        "    odin_scores_batch = max_softmax_scores - max_perturbed_softmax_scores\n",
        "\n",
        "    odin_scores_KNOWN.extend(odin_scores_batch)\n",
        "\n",
        "odin_scores_KNOWN = np.array(odin_scores_KNOWN)\n",
        "\n",
        "plt.hist(odin_scores_KNOWN, bins=10)\n",
        "plt.xlabel('ODIN Score')\n",
        "plt.ylabel('Frequency')\n",
        "plt.title('Histogram of ODIN Scores KNOWN')\n",
        "\n",
        "plt.show()"
      ],
      "metadata": {
        "colab": {
          "base_uri": "https://localhost:8080/",
          "height": 480
        },
        "id": "2UMr7Opj9L0U",
        "outputId": "548ff8e1-e4bb-4d3c-b0d6-4c31a9fafbcb"
      },
      "execution_count": null,
      "outputs": [
        {
          "output_type": "display_data",
          "data": {
            "text/plain": [
              "<Figure size 640x480 with 1 Axes>"
            ],
            "image/png": "[encoded data removed]"
          },
          "metadata": {}
        }
      ]
    },
    {
      "cell_type": "code",
      "source": [
        "max(odin_scores_KNOWN)"
      ],
      "metadata": {
        "colab": {
          "base_uri": "https://localhost:8080/"
        },
        "id": "xCRTCwTr9L3v",
        "outputId": "a59ef91d-e146-4101-ba4d-2368a4687169"
      },
      "execution_count": null,
      "outputs": [
        {
          "output_type": "execute_result",
          "data": {
            "text/plain": [
              "3.6470592e-06"
            ]
          },
          "metadata": {},
          "execution_count": 19
        }
      ]
    },
    {
      "cell_type": "code",
      "source": [
        "plt.hist([odin_scores_KNOWN, odin_scores_UN_KNOWN], bins=10, label=['Samples belonging to the knowns', 'Never seen before samples'])  # Specify the number of bins and labels\n",
        "plt.xlabel('Value of the ODIN score')\n",
        "plt.ylabel('Frequency of occurrence')\n",
        "plt.title('Comparison of ODIN scores, Obj., $\\mathcal{K} = p_1 + p_2$, $\\mathcal{I} = p_3$')\n",
        "\n",
        "plt.legend()\n",
        "plt.show()"
      ],
      "metadata": {
        "colab": {
          "base_uri": "https://localhost:8080/",
          "height": 482
        },
        "id": "Tsa_qYRH9L6w",
        "outputId": "ce49b74c-2454-491a-9d30-4dbd45fa9e57"
      },
      "execution_count": null,
      "outputs": [
        {
          "output_type": "display_data",
          "data": {
            "text/plain": [
              "<Figure size 640x480 with 1 Axes>"
            ],
            "image/png": "[encoded data removed]"
          },
          "metadata": {}
        }
      ]
    },
    {
      "cell_type": "code",
      "source": [],
      "metadata": {
        "id": "qWSHHGeA9L9n"
      },
      "execution_count": null,
      "outputs": []
    },
    {
      "cell_type": "markdown",
      "source": [
        "# OpenMax, example of 1 model"
      ],
      "metadata": {
        "id": "5BSc9WaOAvJY"
      }
    },
    {
      "cell_type": "code",
      "source": [
        "import tensorflow as tf\n",
        "import numpy as np\n",
        "import matplotlib.pyplot as plt\n",
        "\n",
        "logits_layer = res_net01.layers[-2].output\n",
        "\n",
        "logits_model = tf.keras.Model(inputs=res_net01.input, outputs=logits_layer)\n",
        "\n",
        "Known_data_X_test_as_tensor = tf.convert_to_tensor(Known_data_X_test)\n",
        "NeverSeen_data_X_test_as_tensor = tf.convert_to_tensor(NeverSeen_data_X_test)\n",
        "\n",
        "known_logits = logits_model(Known_data_X_test_as_tensor)\n",
        "unknown_logits = logits_model(NeverSeen_data_X_test_as_tensor)\n",
        "\n",
        "max_known_logits = tf.reduce_max(known_logits, axis=1)\n",
        "max_unknown_logits = tf.reduce_max(unknown_logits, axis=1)\n",
        "\n",
        "def compute_openmax_scores_known(max_known_logits, alpha=1.0):\n",
        "    scores_known = tf.exp(alpha * max_known_logits) / tf.reduce_sum(tf.exp(alpha * max_known_logits))\n",
        "    return scores_known\n",
        "\n",
        "openmax_scores_known = compute_openmax_scores_known(max_known_logits)\n",
        "\n",
        "def compute_openmax_scores_unknown(max_known_logits, max_unknown_logits, alpha=1.0):\n",
        "    scores_unknown = []\n",
        "    for max_known, max_unknown in zip(max_known_logits, max_unknown_logits):\n",
        "        unknown_score = tf.exp(alpha * max_known) / (tf.exp(alpha * max_known) + tf.exp(alpha * max_unknown))\n",
        "        scores_unknown.append(unknown_score)\n",
        "    return tf.stack(scores_unknown)\n",
        "\n",
        "openmax_scores_unknown = compute_openmax_scores_unknown(max_known_logits, max_unknown_logits)\n",
        "\n",
        "openmax_scores_known = openmax_scores_known.numpy()\n",
        "openmax_scores_unknown = openmax_scores_unknown.numpy()\n",
        "\n",
        "plt.figure(figsize=(12, 4))\n",
        "\n",
        "plt.subplot(1, 2, 1)\n",
        "plt.hist(openmax_scores_known, bins=10)\n",
        "plt.xlabel('OpenMax Score')\n",
        "plt.ylabel('Frequency')\n",
        "plt.title('Histogram of OpenMax Scores for Known Data')\n",
        "\n",
        "plt.subplot(1, 2, 2)\n",
        "plt.hist(openmax_scores_unknown, bins=10)\n",
        "plt.xlabel('OpenMax Score')\n",
        "plt.ylabel('Frequency')\n",
        "plt.title('Histogram of OpenMax Scores for Unknown Data')\n",
        "\n",
        "plt.tight_layout()\n",
        "plt.show()"
      ],
      "metadata": {
        "id": "a3uBH9YWCJjE",
        "colab": {
          "base_uri": "https://localhost:8080/",
          "height": 401
        },
        "outputId": "4172769b-d6da-405e-faba-d1cc4845bf2a"
      },
      "execution_count": null,
      "outputs": [
        {
          "output_type": "display_data",
          "data": {
            "text/plain": [
              "<Figure size 1200x400 with 2 Axes>"
            ],
            "image/png": "[encoded data removed]"
          },
          "metadata": {}
        }
      ]
    },
    {
      "cell_type": "code",
      "source": [
        "plt.hist([openmax_scores_known, openmax_scores_unknown], bins=10, label=['Samples belonging to the knowns', 'Never seen before samples'])  # Specify the number of bins and labels\n",
        "\n",
        "plt.xlabel('Value of the OpenMax score')\n",
        "plt.ylabel('Frequency of occurrence')\n",
        "plt.title('Comparison of OpenMax scores, Obj., $\\mathcal{K} = p_1 + p_2$, $\\mathcal{I} = p_3$')\n",
        "\n",
        "plt.legend()\n",
        "\n",
        "plt.show()"
      ],
      "metadata": {
        "colab": {
          "base_uri": "https://localhost:8080/",
          "height": 482
        },
        "id": "IZmb8naVA1A1",
        "outputId": "70bceb2c-72ad-4dc6-8c61-7be1e1206265"
      },
      "execution_count": null,
      "outputs": [
        {
          "output_type": "display_data",
          "data": {
            "text/plain": [
              "<Figure size 640x480 with 1 Axes>"
            ],
            "image/png": "[encoded data removed]"
          },
          "metadata": {}
        }
      ]
    },
    {
      "cell_type": "code",
      "source": [
        "max(openmax_scores_known)"
      ],
      "metadata": {
        "colab": {
          "base_uri": "https://localhost:8080/"
        },
        "id": "_CCM7MvOA1D2",
        "outputId": "4052203f-367d-44a2-889a-4c03fdec34ba"
      },
      "execution_count": null,
      "outputs": [
        {
          "output_type": "execute_result",
          "data": {
            "text/plain": [
              "0.21300527"
            ]
          },
          "metadata": {},
          "execution_count": 36
        }
      ]
    },
    {
      "cell_type": "code",
      "source": [
        "min(openmax_scores_unknown)"
      ],
      "metadata": {
        "colab": {
          "base_uri": "https://localhost:8080/"
        },
        "id": "0C5m81W-A1HF",
        "outputId": "ef7d166f-cc85-4193-c70e-9fd02ef2d16f"
      },
      "execution_count": null,
      "outputs": [
        {
          "output_type": "execute_result",
          "data": {
            "text/plain": [
              "1.37318375e-05"
            ]
          },
          "metadata": {},
          "execution_count": 37
        }
      ]
    },
    {
      "cell_type": "code",
      "source": [
        "import numpy as np\n",
        "\n",
        "# Sort the OpenMax scores in ascending order for both known and unknown data\n",
        "openmax_scores_known_sorted = np.sort(openmax_scores_known)\n",
        "openmax_scores_unknown_sorted = np.sort(openmax_scores_unknown)\n",
        "\n",
        "# Find the range of values covered by the known and unknown scores\n",
        "min_known_score = openmax_scores_known_sorted.min()\n",
        "max_known_score = openmax_scores_known_sorted.max()\n",
        "min_unknown_score = openmax_scores_unknown_sorted.min()\n",
        "max_unknown_score = openmax_scores_unknown_sorted.max()\n",
        "\n",
        "# Determine the bins for the histogram\n",
        "bins = np.linspace(min(min_known_score, min_unknown_score), max(max_known_score, max_unknown_score), 1000)\n",
        "\n",
        "# Compute histograms for known and unknown scores\n",
        "hist_known, _ = np.histogram(openmax_scores_known_sorted, bins)\n",
        "hist_unknown, _ = np.histogram(openmax_scores_unknown_sorted, bins)\n",
        "\n",
        "# Calculate the intersection and union of histograms\n",
        "intersection = np.minimum(hist_known, hist_unknown)\n",
        "union = np.maximum(hist_known, hist_unknown)\n",
        "\n",
        "# Compute the IoU (overlap) as a percentage\n",
        "iou = np.sum(intersection) / np.sum(union) * 100\n",
        "\n",
        "print(f\"Overlap (IoU): {iou:.2f}%\")"
      ],
      "metadata": {
        "colab": {
          "base_uri": "https://localhost:8080/"
        },
        "id": "1tHCGcviA1J1",
        "outputId": "241a3a73-b01c-4004-b30d-2467d6a56dcb"
      },
      "execution_count": null,
      "outputs": [
        {
          "output_type": "stream",
          "name": "stdout",
          "text": [
            "Overlap (IoU): 1.50%\n"
          ]
        }
      ]
    },
    {
      "cell_type": "code",
      "source": [],
      "metadata": {
        "id": "IUa20rmSA_qp"
      },
      "execution_count": null,
      "outputs": []
    },
    {
      "cell_type": "markdown",
      "source": [
        "# Mahalanobis, example for 1 model"
      ],
      "metadata": {
        "id": "oMK_FkjFBAor"
      }
    },
    {
      "cell_type": "code",
      "source": [
        "def preprocess_data(data):\n",
        "    preprocessed_data = data\n",
        "    return preprocessed_data\n"
      ],
      "metadata": {
        "id": "jXqmWqQOA_tc"
      },
      "execution_count": null,
      "outputs": []
    },
    {
      "cell_type": "code",
      "source": [
        "import numpy as np\n",
        "from scipy.spatial import distance\n",
        "import tensorflow as tf\n",
        "\n",
        "def preprocess_data(data):\n",
        "    preprocessed_data = data\n",
        "    return preprocessed_data\n",
        "\n",
        "def extract_deep_features(model, data):\n",
        "\n",
        "    preprocessed_data = preprocess_data(data)\n",
        "    deep_features = model.layers[-2].output\n",
        "    deep_feature_model = tf.keras.Model(inputs=model.input, outputs=deep_features)\n",
        "    extracted_features = deep_feature_model.predict(preprocessed_data)\n",
        "\n",
        "    return extracted_features\n",
        "\n",
        "deep_features_known = extract_deep_features(res_net01, Known_data_X_test)\n",
        "deep_features_unknown = extract_deep_features(res_net01, NeverSeen_data_X_test)\n",
        "\n",
        "mean_known = np.mean(deep_features_known, axis=0)\n",
        "cov_known = np.cov(deep_features_known, rowvar=False)\n",
        "\n",
        "cond_number = np.linalg.cond(cov_known)\n",
        "print(\"Condition Number of Covariance Matrix (Known Data):\", cond_number)\n",
        "\n",
        "epsilon = 1e-6\n",
        "\n",
        "if cond_number > 1 / epsilon:\n",
        "    cov_known_reg = cov_known + epsilon * np.eye(cov_known.shape[0])\n",
        "else:\n",
        "    cov_known_reg = cov_known\n",
        "\n",
        "mahalanobis_distances_known = []\n",
        "for feature in deep_features_known:\n",
        "    mahalanobis_distance = distance.mahalanobis(feature, mean_known, np.linalg.inv(cov_known_reg))\n",
        "    mahalanobis_distances_known.append(mahalanobis_distance)\n",
        "\n",
        "mahalanobis_distances_unknown = []\n",
        "for feature in deep_features_unknown:\n",
        "    mahalanobis_distance = distance.mahalanobis(feature, mean_known, np.linalg.inv(cov_known_reg))\n",
        "    mahalanobis_distances_unknown.append(mahalanobis_distance)\n",
        "\n",
        "threshold_known = 3.0\n",
        "threshold_unknown = 4.0\n",
        "\n",
        "ood_samples_known = [i for i, distance in enumerate(mahalanobis_distances_known) if distance > threshold_known]\n",
        "ood_samples_unknown = [i for i, distance in enumerate(mahalanobis_distances_unknown) if distance > threshold_unknown]\n",
        "\n",
        "print(\"Out-of-Distribution Sample Indices (Known Data):\", ood_samples_known)\n",
        "print(\"Out-of-Distribution Sample Indices (Unknown Data):\", ood_samples_unknown)"
      ],
      "metadata": {
        "colab": {
          "base_uri": "https://localhost:8080/"
        },
        "id": "Gbje5smaA_wc",
        "outputId": "e75b5f5c-8093-4168-c936-6612b335ea7d"
      },
      "execution_count": null,
      "outputs": [
        {
          "output_type": "stream",
          "name": "stdout",
          "text": [
            "47/47 [==============================] - 58s 1s/step\n",
            "32/32 [==============================] - 31s 890ms/step\n",
            "Condition Number of Covariance Matrix (Known Data): 65841.70942920828\n",
            "Out-of-Distribution Sample Indices (Known Data): [0, 1, 2, 3, 4, 5, 6, 7, 8, 9, 10, 11, 12, 13, 14, 15, 16, 17, 18, 19, 20, 21, 22, 23, 24, 25, 26, 27, 28, 29, 30, 31, 32, 33, 34, 35, 36, 37, 38, 39, 40, 41, 42, 43, 44, 45, 46, 47, 48, 49, 50, 51, 52, 53, 54, 55, 56, 57, 58, 59, 60, 61, 62, 63, 64, 65, 66, 67, 68, 69, 70, 71, 72, 73, 74, 75, 76, 77, 78, 79, 80, 81, 82, 83, 84, 85, 86, 87, 88, 89, 90, 91, 92, 93, 94, 95, 96, 97, 98, 99, 100, 101, 102, 103, 104, 105, 106, 107, 108, 109, 110, 111, 112, 113, 114, 115, 116, 117, 118, 119, 120, 121, 122, 123, 124, 125, 126, 127, 128, 129, 130, 131, 132, 133, 134, 135, 136, 137, 138, 139, 140, 141, 142, 143, 144, 145, 146, 147, 148, 149, 150, 151, 152, 153, 154, 155, 156, 157, 158, 159, 160, 161, 162, 163, 164, 165, 166, 167, 168, 169, 170, 171, 172, 173, 174, 175, 176, 177, 178, 179, 180, 181, 182, 183, 184, 185, 186, 187, 188, 189, 190, 191, 192, 193, 194, 195, 196, 197, 198, 199, 200, 201, 202, 203, 204, 205, 206, 207, 208, 209, 210, 211, 212, 213, 214, 215, 216, 217, 218, 219, 220, 221, 222, 223, 224, 225, 226, 227, 228, 229, 230, 231, 232, 233, 234, 235, 236, 237, 238, 239, 240, 241, 242, 243, 244, 245, 246, 247, 248, 249, 250, 251, 252, 253, 254, 255, 256, 257, 258, 259, 260, 261, 262, 263, 264, 265, 266, 267, 268, 269, 270, 271, 272, 273, 274, 275, 276, 277, 278, 279, 280, 281, 282, 283, 284, 285, 286, 287, 288, 289, 290, 291, 292, 293, 294, 295, 296, 297, 298, 299, 300, 301, 302, 303, 304, 305, 306, 307, 308, 309, 310, 311, 312, 313, 314, 315, 316, 317, 318, 319, 320, 321, 322, 323, 324, 325, 326, 327, 328, 329, 330, 331, 332, 333, 334, 335, 336, 337, 338, 339, 340, 341, 342, 343, 344, 345, 346, 347, 348, 349, 350, 351, 352, 353, 354, 355, 356, 357, 358, 359, 360, 361, 362, 363, 364, 365, 366, 367, 368, 369, 370, 371, 372, 373, 374, 375, 376, 377, 378, 379, 380, 381, 382, 383, 384, 385, 386, 387, 388, 389, 390, 391, 392, 393, 394, 395, 396, 397, 398, 399, 400, 401, 402, 403, 404, 405, 406, 407, 408, 409, 410, 411, 412, 413, 414, 415, 416, 417, 418, 419, 420, 421, 422, 423, 424, 425, 426, 427, 428, 429, 430, 431, 432, 433, 434, 435, 436, 437, 438, 439, 440, 441, 442, 443, 444, 445, 446, 447, 448, 449, 450, 451, 452, 453, 454, 455, 456, 457, 458, 459, 460, 461, 462, 463, 464, 465, 466, 467, 468, 469, 470, 471, 472, 473, 474, 475, 476, 477, 478, 479, 480, 481, 482, 483, 484, 485, 486, 487, 488, 489, 490, 491, 492, 493, 494, 495, 496, 497, 498, 499, 500, 501, 502, 503, 504, 505, 506, 507, 508, 509, 510, 511, 512, 513, 514, 515, 516, 517, 518, 519, 520, 521, 522, 523, 524, 525, 526, 527, 528, 529, 530, 531, 532, 533, 534, 535, 536, 537, 538, 539, 540, 541, 542, 543, 544, 545, 546, 547, 548, 549, 550, 551, 552, 553, 554, 555, 556, 557, 558, 559, 560, 561, 562, 563, 564, 565, 566, 567, 568, 569, 570, 571, 572, 573, 574, 575, 576, 577, 578, 579, 580, 581, 582, 583, 584, 585, 586, 587, 588, 589, 590, 591, 592, 593, 594, 595, 596, 597, 598, 599, 600, 601, 602, 603, 604, 605, 606, 607, 608, 609, 610, 611, 612, 613, 614, 615, 616, 617, 618, 619, 620, 621, 622, 623, 624, 625, 626, 627, 628, 629, 630, 631, 632, 633, 634, 635, 636, 637, 638, 639, 640, 641, 642, 643, 644, 645, 646, 647, 648, 649, 650, 651, 652, 653, 654, 655, 656, 657, 658, 659, 660, 661, 662, 663, 664, 665, 666, 667, 668, 669, 670, 671, 672, 673, 674, 675, 676, 677, 678, 679, 680, 681, 682, 683, 684, 685, 686, 687, 688, 689, 690, 691, 692, 693, 694, 695, 696, 697, 698, 699, 700, 701, 702, 703, 704, 705, 706, 707, 708, 709, 710, 711, 712, 713, 714, 715, 716, 717, 718, 719, 720, 721, 722, 723, 724, 725, 726, 727, 728, 729, 730, 731, 732, 733, 734, 735, 736, 737, 738, 739, 740, 741, 742, 743, 744, 745, 746, 747, 748, 749, 750, 751, 752, 753, 754, 755, 756, 757, 758, 759, 760, 761, 762, 763, 764, 765, 766, 767, 768, 769, 770, 771, 772, 773, 774, 775, 776, 777, 778, 779, 780, 781, 782, 783, 784, 785, 786, 787, 788, 789, 790, 791, 792, 793, 794, 795, 796, 797, 798, 799, 800, 801, 802, 803, 804, 805, 806, 807, 808, 809, 810, 811, 812, 813, 814, 815, 816, 817, 818, 819, 820, 821, 822, 823, 824, 825, 826, 827, 828, 829, 830, 831, 832, 833, 834, 835, 836, 837, 838, 839, 840, 841, 842, 843, 844, 845, 846, 847, 848, 849, 850, 851, 852, 853, 854, 855, 856, 857, 858, 859, 860, 861, 862, 863, 864, 865, 866, 867, 868, 869, 870, 871, 872, 873, 874, 875, 876, 877, 878, 879, 880, 881, 882, 883, 884, 885, 886, 887, 888, 889, 890, 891, 892, 893, 894, 895, 896, 897, 898, 899, 900, 901, 902, 903, 904, 905, 906, 907, 908, 909, 910, 911, 912, 913, 914, 915, 916, 917, 918, 919, 920, 921, 922, 923, 924, 925, 926, 927, 928, 929, 930, 931, 932, 933, 934, 935, 936, 937, 938, 939, 940, 941, 942, 943, 944, 945, 946, 947, 948, 949, 950, 951, 952, 953, 954, 955, 956, 957, 958, 959, 960, 961, 962, 963, 964, 965, 966, 967, 968, 969, 970, 971, 972, 973, 974, 975, 976, 977, 978, 979, 980, 981, 982, 983, 984, 985, 986, 987, 988, 989, 990, 991, 992, 993, 994, 995, 996, 997, 998, 999, 1000, 1001, 1002, 1003, 1004, 1005, 1006, 1007, 1008, 1009, 1010, 1011, 1012, 1013, 1014, 1015, 1016, 1017, 1018, 1019, 1020, 1021, 1022, 1023, 1024, 1025, 1026, 1027, 1028, 1029, 1030, 1031, 1032, 1033, 1034, 1035, 1036, 1037, 1038, 1039, 1040, 1041, 1042, 1043, 1044, 1045, 1046, 1047, 1048, 1049, 1050, 1051, 1052, 1053, 1054, 1055, 1056, 1057, 1058, 1059, 1060, 1061, 1062, 1063, 1064, 1065, 1066, 1067, 1068, 1069, 1070, 1071, 1072, 1073, 1074, 1075, 1076, 1077, 1078, 1079, 1080, 1081, 1082, 1083, 1084, 1085, 1086, 1087, 1088, 1089, 1090, 1091, 1092, 1093, 1094, 1095, 1096, 1097, 1098, 1099, 1100, 1101, 1102, 1103, 1104, 1105, 1106, 1107, 1108, 1109, 1110, 1111, 1112, 1113, 1114, 1115, 1116, 1117, 1118, 1119, 1120, 1121, 1122, 1123, 1124, 1125, 1126, 1127, 1128, 1129, 1130, 1131, 1132, 1133, 1134, 1135, 1136, 1137, 1138, 1139, 1140, 1141, 1142, 1143, 1144, 1145, 1146, 1147, 1148, 1149, 1150, 1151, 1152, 1153, 1154, 1155, 1156, 1157, 1158, 1159, 1160, 1161, 1162, 1163, 1164, 1165, 1166, 1167, 1168, 1169, 1170, 1171, 1172, 1173, 1174, 1175, 1176, 1177, 1178, 1179, 1180, 1181, 1182, 1183, 1184, 1185, 1186, 1187, 1188, 1189, 1190, 1191, 1192, 1193, 1194, 1195, 1196, 1197, 1198, 1199, 1200, 1201, 1202, 1203, 1204, 1205, 1206, 1207, 1208, 1209, 1210, 1211, 1212, 1213, 1214, 1215, 1216, 1217, 1218, 1219, 1220, 1221, 1222, 1223, 1224, 1225, 1226, 1227, 1228, 1229, 1230, 1231, 1232, 1233, 1234, 1235, 1236, 1237, 1238, 1239, 1240, 1241, 1242, 1243, 1244, 1245, 1246, 1247, 1248, 1249, 1250, 1251, 1252, 1253, 1254, 1255, 1256, 1257, 1258, 1259, 1260, 1261, 1262, 1263, 1264, 1265, 1266, 1267, 1268, 1269, 1270, 1271, 1272, 1273, 1274, 1275, 1276, 1277, 1278, 1279, 1280, 1281, 1282, 1283, 1284, 1285, 1286, 1287, 1288, 1289, 1290, 1291, 1292, 1293, 1294, 1295, 1296, 1297, 1298, 1299, 1300, 1301, 1302, 1303, 1304, 1305, 1306, 1307, 1308, 1309, 1310, 1311, 1312, 1313, 1314, 1315, 1316, 1317, 1318, 1319, 1320, 1321, 1322, 1323, 1324, 1325, 1326, 1327, 1328, 1329, 1330, 1331, 1332, 1333, 1334, 1335, 1336, 1337, 1338, 1339, 1340, 1341, 1342, 1343, 1344, 1345, 1346, 1347, 1348, 1349, 1350, 1351, 1352, 1353, 1354, 1355, 1356, 1357, 1358, 1359, 1360, 1361, 1362, 1363, 1364, 1365, 1366, 1367, 1368, 1369, 1370, 1371, 1372, 1373, 1374, 1375, 1376, 1377, 1378, 1379, 1380, 1381, 1382, 1383, 1384, 1385, 1386, 1387, 1388, 1389, 1390, 1391, 1392, 1393, 1394, 1395, 1396, 1397, 1398, 1399, 1400, 1401, 1402, 1403, 1404, 1405, 1406, 1407, 1408, 1409, 1410, 1411, 1412, 1413, 1414, 1415, 1416, 1417, 1418, 1419, 1420, 1421, 1422, 1423, 1424, 1425, 1426, 1427, 1428, 1429, 1430, 1431, 1432, 1433, 1434, 1435, 1436, 1437, 1438, 1439, 1440, 1441, 1442, 1443, 1444, 1445, 1446, 1447, 1448, 1449, 1450, 1451, 1452, 1453, 1454, 1455, 1456, 1457, 1458, 1459, 1460, 1461, 1462, 1463, 1464, 1465, 1466, 1467, 1468, 1469, 1470, 1471, 1472, 1473, 1474, 1475, 1476, 1477, 1478, 1479, 1480, 1481, 1482, 1483, 1484, 1485, 1486, 1487, 1488, 1489, 1490, 1491, 1492, 1493, 1494, 1495, 1496, 1497, 1498, 1499]\n",
            "Out-of-Distribution Sample Indices (Unknown Data): [1, 2, 3, 5, 6, 7, 8, 9, 10, 11, 12, 13, 14, 15, 16, 17, 18, 19, 20, 21, 22, 23, 24, 25, 26, 27, 29, 30, 31, 32, 34, 35, 36, 38, 39, 40, 41, 42, 45, 47, 48, 49, 51, 52, 53, 55, 56, 57, 58, 59, 60, 61, 62, 63, 64, 65, 66, 67, 68, 69, 70, 71, 73, 74, 75, 76, 77, 78, 79, 81, 82, 83, 84, 85, 86, 87, 88, 89, 90, 91, 92, 94, 95, 96, 97, 99, 138, 184, 186, 200, 202, 203, 204, 205, 206, 207, 209, 210, 211, 212, 213, 214, 215, 216, 217, 218, 219, 220, 221, 222, 223, 224, 225, 226, 227, 228, 229, 230, 231, 232, 233, 234, 235, 236, 237, 238, 239, 240, 241, 242, 243, 244, 245, 246, 247, 248, 249, 250, 251, 252, 253, 255, 256, 257, 258, 259, 260, 261, 262, 263, 264, 265, 266, 267, 268, 269, 270, 271, 272, 273, 274, 275, 276, 277, 278, 279, 280, 281, 282, 283, 284, 285, 286, 287, 288, 289, 290, 291, 292, 293, 294, 295, 296, 297, 298, 299, 300, 301, 302, 303, 304, 305, 306, 307, 308, 309, 310, 311, 312, 313, 314, 315, 316, 317, 318, 319, 320, 321, 322, 323, 324, 325, 326, 327, 328, 329, 330, 331, 332, 333, 334, 335, 336, 337, 338, 339, 340, 341, 342, 343, 344, 345, 346, 347, 348, 349, 350, 351, 352, 353, 354, 355, 356, 357, 358, 359, 360, 361, 362, 363, 364, 365, 366, 367, 368, 369, 370, 371, 372, 373, 374, 375, 376, 377, 378, 379, 380, 381, 382, 383, 384, 385, 386, 387, 388, 389, 390, 391, 392, 393, 394, 395, 396, 397, 398, 399, 400, 401, 402, 403, 404, 405, 406, 407, 408, 409, 410, 411, 412, 413, 414, 415, 416, 417, 418, 419, 420, 421, 422, 423, 424, 425, 426, 427, 428, 429, 430, 431, 432, 433, 434, 435, 436, 437, 438, 439, 440, 441, 442, 443, 444, 445, 446, 447, 448, 449, 450, 451, 452, 453, 454, 455, 456, 457, 458, 459, 460, 461, 462, 463, 464, 465, 466, 467, 468, 469, 470, 471, 472, 473, 474, 475, 476, 477, 478, 479, 480, 481, 482, 483, 484, 485, 486, 487, 488, 489, 490, 491, 492, 493, 494, 495, 496, 497, 498, 499, 501, 502, 503, 504, 505, 506, 508, 509, 510, 512, 514, 515, 518, 519, 521, 523, 525, 526, 527, 528, 529, 530, 531, 532, 533, 534, 535, 536, 537, 538, 541, 542, 543, 545, 546, 547, 548, 549, 550, 551, 552, 553, 554, 555, 557, 558, 559, 560, 561, 562, 563, 564, 565, 566, 567, 568, 569, 570, 571, 572, 574, 576, 577, 578, 579, 580, 581, 584, 587, 588, 590, 591, 592, 593, 594, 595, 596, 597, 598, 599, 600, 601, 602, 603, 604, 605, 606, 607, 608, 609, 610, 611, 612, 613, 614, 615, 616, 617, 618, 619, 620, 621, 622, 623, 624, 625, 626, 627, 628, 629, 630, 631, 632, 633, 634, 636, 637, 638, 639, 640, 641, 642, 643, 644, 645, 646, 647, 648, 649, 650, 651, 652, 653, 654, 655, 656, 657, 658, 659, 660, 661, 662, 663, 664, 665, 666, 667, 668, 669, 670, 671, 672, 673, 674, 675, 676, 677, 678, 679, 680, 681, 682, 683, 684, 685, 686, 687, 688, 689, 690, 691, 692, 693, 694, 695, 696, 697, 698, 699, 700, 701, 702, 703, 704, 705, 706, 707, 708, 709, 710, 711, 712, 713, 714, 715, 716, 717, 718, 719, 720, 721, 722, 724, 725, 726, 727, 728, 729, 730, 731, 732, 733, 734, 735, 736, 737, 738, 739, 740, 741, 742, 743, 744, 745, 746, 747, 748, 749, 750, 752, 754, 755, 756, 757, 758, 759, 760, 761, 762, 763, 764, 765, 766, 767, 768, 769, 770, 771, 772, 773, 774, 775, 776, 777, 778, 779, 780, 781, 782, 783, 784, 785, 786, 787, 788, 790, 791, 792, 793, 794, 795, 796, 797, 798, 799, 801, 804, 805, 806, 808, 809, 811, 812, 813, 814, 815, 816, 817, 818, 819, 820, 822, 823, 828, 829, 831, 832, 833, 834, 835, 836, 837, 839, 840, 842, 843, 845, 846, 847, 848, 849, 850, 851, 852, 853, 854, 855, 856, 858, 859, 860, 862, 863, 865, 866, 867, 868, 869, 870, 871, 872, 873, 874, 875, 876, 877, 878, 879, 880, 881, 882, 883, 884, 885, 886, 887, 888, 889, 890, 891, 892, 893, 894, 895, 896, 897, 898, 899, 901, 902, 903, 904, 905, 906, 909, 912, 913, 914, 915, 916, 919, 920, 921, 922, 923, 924, 925, 926, 927, 928, 929, 930, 931, 932, 933, 934, 935, 938, 939, 940, 942, 943, 944, 945, 947, 948, 949, 950, 952, 953, 954, 955, 956, 957, 958, 959, 960, 961, 962, 963, 964, 965, 966, 968, 969, 970, 971, 972, 973, 974, 975, 976, 977, 978, 979, 981, 982, 984, 985, 986, 987, 988, 989, 990, 991, 992, 993, 994, 996, 997, 998, 999]\n"
          ]
        }
      ]
    },
    {
      "cell_type": "code",
      "source": [
        "plt.figure(figsize=(12, 4))\n",
        "\n",
        "plt.subplot(1, 2, 1)\n",
        "plt.hist(mahalanobis_distances_known, bins=10)\n",
        "plt.xlabel('OpenMax Score')\n",
        "plt.ylabel('Frequency')\n",
        "plt.title('Histogram of OpenMax Scores for Known Data')\n",
        "\n",
        "plt.subplot(1, 2, 2)\n",
        "plt.hist(mahalanobis_distances_unknown, bins=10)\n",
        "plt.xlabel('OpenMax Score')\n",
        "plt.ylabel('Frequency')\n",
        "plt.title('Histogram of OpenMax Scores for Unknown Data')\n",
        "\n",
        "plt.tight_layout()\n",
        "plt.show()"
      ],
      "metadata": {
        "colab": {
          "base_uri": "https://localhost:8080/",
          "height": 401
        },
        "id": "1s4Lg_RlA_zE",
        "outputId": "f284c698-9d8a-4085-a0ee-acd2eccd95ee"
      },
      "execution_count": null,
      "outputs": [
        {
          "output_type": "display_data",
          "data": {
            "text/plain": [
              "<Figure size 1200x400 with 2 Axes>"
            ],
            "image/png": "[encoded data removed]"
          },
          "metadata": {}
        }
      ]
    },
    {
      "cell_type": "code",
      "source": [
        "plt.hist([mahalanobis_distances_known, mahalanobis_distances_unknown], bins=25, label=['Samples belonging to the knowns', 'Never seen before samples'])  # Specify the number of bins and labels\n",
        "plt.xlim(2.5, 16)\n",
        "\n",
        "plt.xlabel('Value of the Mahalanobis score')\n",
        "plt.ylabel('Frequency of occurrence')\n",
        "plt.title('Comparison of Mahalanobis scores, Obj., $\\mathcal{K} = p_1 + p_2$, $\\mathcal{I} = p_3$')\n",
        "\n",
        "plt.legend()\n",
        "plt.show()"
      ],
      "metadata": {
        "colab": {
          "base_uri": "https://localhost:8080/",
          "height": 482
        },
        "id": "mGeFKn5IA_1q",
        "outputId": "2fdd0d4a-87f6-4fd4-81f1-ee118484e2c9"
      },
      "execution_count": null,
      "outputs": [
        {
          "output_type": "display_data",
          "data": {
            "text/plain": [
              "<Figure size 640x480 with 1 Axes>"
            ],
            "image/png": "[encoded data removed]"
          },
          "metadata": {}
        }
      ]
    },
    {
      "cell_type": "code",
      "source": [
        "import numpy as np\n",
        "\n",
        "mahalanobis_scores_known_sorted = np.sort(mahalanobis_distances_known)\n",
        "mahalanobis_scores_unknown_sorted = np.sort(mahalanobis_distances_unknown)\n",
        "\n",
        "min_known_score = mahalanobis_scores_known_sorted.min()\n",
        "max_known_score = mahalanobis_scores_known_sorted.max()\n",
        "min_unknown_score = mahalanobis_scores_unknown_sorted.min()\n",
        "max_unknown_score = mahalanobis_scores_unknown_sorted.max()\n",
        "\n",
        "bins = np.linspace(min(min_known_score, min_unknown_score), max(max_known_score, max_unknown_score), 1000)\n",
        "\n",
        "hist_known, _ = np.histogram(mahalanobis_scores_known_sorted, bins)\n",
        "hist_unknown, _ = np.histogram(mahalanobis_scores_unknown_sorted, bins)\n",
        "\n",
        "intersection = np.minimum(hist_known, hist_unknown)\n",
        "union = np.maximum(hist_known, hist_unknown)\n",
        "\n",
        "iou = np.sum(intersection) / np.sum(union) * 100\n",
        "\n",
        "print(f\"Overlap (IoU): {iou:.2f}%\")"
      ],
      "metadata": {
        "id": "ngwjWSriCJdx",
        "colab": {
          "base_uri": "https://localhost:8080/"
        },
        "outputId": "8c8b77bb-f1d3-4f0d-f524-84e133893e3f"
      },
      "execution_count": null,
      "outputs": [
        {
          "output_type": "stream",
          "name": "stdout",
          "text": [
            "Overlap (IoU): 41.08%\n"
          ]
        }
      ]
    },
    {
      "cell_type": "code",
      "source": [
        "import matplotlib.pyplot as plt\n",
        "\n",
        "fig, axs = plt.subplots(3, 1, figsize=(8, 12))\n",
        "\n",
        "axs[0].hist([odin_scores_KNOWN, odin_scores_UN_KNOWN], bins=10, label=['Samples belonging to the knowns', 'Never seen before samples'])\n",
        "axs[0].set_xlabel('Value of the ODIN score')\n",
        "axs[0].set_ylabel('Frequency of occurrence')\n",
        "axs[0].set_title('Comparison of ODIN scores, Obj., $\\mathcal{K} = p_1 + p_2$, $\\mathcal{I} = p_3$')\n",
        "axs[0].legend()\n",
        "\n",
        "axs[1].hist([openmax_scores_known, openmax_scores_unknown], bins=10, label=['Samples belonging to the knowns', 'Never seen before samples'])\n",
        "axs[1].set_xlabel('Value of the OpenMax score')\n",
        "axs[1].set_ylabel('Frequency of occurrence')\n",
        "axs[1].set_title('Comparison of OpenMax scores, Obj., $\\mathcal{K} = p_1 + p_2$, $\\mathcal{I} = p_3$')\n",
        "axs[1].legend()\n",
        "\n",
        "axs[2].hist([mahalanobis_distances_known, mahalanobis_distances_unknown], bins=25, label=['Samples belonging to the knowns', 'Never seen before samples'])\n",
        "axs[2].set_xlabel('Value of the Mahalanobis score')\n",
        "axs[2].set_ylabel('Frequency of occurrence')\n",
        "axs[2].set_title('Comparison of Mahalanobis scores, Obj., $\\mathcal{K} = p_1 + p_2$, $\\mathcal{I} = p_3$')\n",
        "axs[2].legend()\n",
        "\n",
        "axs[2].set_xlim(2.5, 15)\n",
        "\n",
        "plt.tight_layout()\n",
        "\n",
        "plt.show()\n",
        "\n"
      ],
      "metadata": {
        "colab": {
          "base_uri": "https://localhost:8080/",
          "height": 1000
        },
        "id": "S6KHjtakGciH",
        "outputId": "c082bfff-9cf1-4070-f56f-22746fbfdd8f"
      },
      "execution_count": null,
      "outputs": [
        {
          "output_type": "display_data",
          "data": {
            "text/plain": [
              "<Figure size 800x1200 with 3 Axes>"
            ],
            "image/png": "[encoded data removed]"
          },
          "metadata": {}
        }
      ]
    },
    {
      "cell_type": "code",
      "source": [
        "import matplotlib.pyplot as plt\n",
        "\n",
        "fig, axs = plt.subplots(1, 3, figsize=(18, 6))\n",
        "\n",
        "axs[0].hist([odin_scores_KNOWN, odin_scores_UN_KNOWN], bins=10, label=['Samples belonging to the knowns', 'Never seen before samples'])\n",
        "axs[0].set_xlabel('Value of the ODIN score')\n",
        "axs[0].set_ylabel('Frequency of occurrence')\n",
        "axs[0].set_title('Comparison of ODIN scores, Objectosphere, $\\mathcal{K} = p_1$')\n",
        "axs[0].legend()\n",
        "\n",
        "axs[1].hist([openmax_scores_known, openmax_scores_unknown], bins=10, label=['Samples belonging to the knowns', 'Never seen before samples'])\n",
        "axs[1].set_xlabel('Value of the OpenMax score')\n",
        "axs[1].set_ylabel('Frequency of occurrence')\n",
        "axs[1].set_title('Comparison of OpenMax scores, Objectosphere, $\\mathcal{K} = p_1$')\n",
        "axs[1].legend()\n",
        "\n",
        "axs[2].hist([mahalanobis_distances_known, mahalanobis_distances_unknown], bins=25, label=['Samples belonging to the knowns', 'Never seen before samples'])\n",
        "axs[2].set_xlabel('Value of the Mahalanobis score')\n",
        "axs[2].set_ylabel('Frequency of occurrence')\n",
        "axs[2].set_title('Comparison of Mahalanobis scores, Objectosphere, $\\mathcal{K} = p_1$')\n",
        "axs[2].legend()\n",
        "\n",
        "axs[2].set_xlim(2.5, 15)\n",
        "plt.tight_layout()\n",
        "plt.show()\n",
        "\n"
      ],
      "metadata": {
        "colab": {
          "base_uri": "https://localhost:8080/",
          "height": 536
        },
        "id": "U4G4JB4vGclc",
        "outputId": "ae07ff89-4ff6-4ad6-8e73-3fb486636222"
      },
      "execution_count": null,
      "outputs": [
        {
          "output_type": "display_data",
          "data": {
            "text/plain": [
              "<Figure size 1800x600 with 3 Axes>"
            ],
            "image/png": "[encoded data removed]"
          },
          "metadata": {}
        }
      ]
    },
    {
      "cell_type": "markdown",
      "source": [
        "# Separating $\\mathcal{K}$ and $\\mathcal{N}$ by a fixed (class-independendent) threshold"
      ],
      "metadata": {
        "id": "E3Pq2KqHYYgM"
      }
    },
    {
      "cell_type": "code",
      "source": [
        "prediction_known = prediction_known_ensemble_3\n",
        "prediction_unknown = prediction_unknown_ensemble_3"
      ],
      "metadata": {
        "id": "yZfHJkznZ4Lq"
      },
      "execution_count": null,
      "outputs": []
    },
    {
      "cell_type": "code",
      "source": [
        "def thresholding(threshold):\n",
        "  true = 0\n",
        "  for i in range(prediction_known.shape[0]):\n",
        "    if prediction_known.argmax(axis=1)[i] == Known_data_X_test_label_int[i] and max(prediction_known[i]) > threshold:\n",
        "      true += 1\n",
        "  return true/(prediction_known.shape[0])"
      ],
      "metadata": {
        "id": "HA75xLuUGNca"
      },
      "execution_count": null,
      "outputs": []
    },
    {
      "cell_type": "code",
      "execution_count": null,
      "metadata": {
        "id": "SW6PGNX72bky",
        "colab": {
          "base_uri": "https://localhost:8080/"
        },
        "outputId": "ea9a8509-0473-47f3-d7c1-9e6b4d4dee9d"
      },
      "outputs": [
        {
          "output_type": "execute_result",
          "data": {
            "text/plain": [
              "[[0.1, 90.0],\n",
              " [0.11, 90.0],\n",
              " [0.12000000000000001, 89.86666666666666],\n",
              " [0.13, 89.86666666666666],\n",
              " [0.14, 89.86666666666666],\n",
              " [0.15000000000000002, 89.73333333333333],\n",
              " [0.16, 89.73333333333333],\n",
              " [0.17, 89.60000000000001],\n",
              " [0.18, 89.4],\n",
              " [0.19, 89.2],\n",
              " [0.2, 89.06666666666668],\n",
              " [0.21000000000000002, 89.0],\n",
              " [0.22, 89.0],\n",
              " [0.23, 89.0],\n",
              " [0.24000000000000002, 88.93333333333334],\n",
              " [0.25, 88.86666666666667],\n",
              " [0.26, 88.73333333333333],\n",
              " [0.27, 88.6],\n",
              " [0.28, 88.6],\n",
              " [0.29000000000000004, 88.33333333333333],\n",
              " [0.30000000000000004, 88.2],\n",
              " [0.31, 88.2],\n",
              " [0.32, 88.2],\n",
              " [0.33, 88.2],\n",
              " [0.33999999999999997, 88.06666666666668],\n",
              " [0.35, 87.73333333333333],\n",
              " [0.36, 87.6],\n",
              " [0.37, 87.46666666666667],\n",
              " [0.38, 87.26666666666667],\n",
              " [0.39, 87.2],\n",
              " [0.4, 87.0],\n",
              " [0.41000000000000003, 86.93333333333332],\n",
              " [0.42000000000000004, 86.93333333333332],\n",
              " [0.43000000000000005, 86.73333333333333],\n",
              " [0.44000000000000006, 86.6],\n",
              " [0.45000000000000007, 86.53333333333333],\n",
              " [0.45999999999999996, 86.33333333333333],\n",
              " [0.47, 86.33333333333333],\n",
              " [0.48, 86.26666666666667],\n",
              " [0.49, 86.0],\n",
              " [0.5, 85.73333333333333],\n",
              " [0.51, 85.39999999999999],\n",
              " [0.52, 85.13333333333334],\n",
              " [0.53, 84.73333333333333],\n",
              " [0.54, 84.46666666666667],\n",
              " [0.55, 84.2],\n",
              " [0.56, 84.2],\n",
              " [0.5700000000000001, 84.06666666666666],\n",
              " [0.58, 83.8],\n",
              " [0.59, 83.33333333333334],\n",
              " [0.6, 83.0],\n",
              " [0.61, 82.8],\n",
              " [0.62, 82.53333333333333],\n",
              " [0.63, 82.33333333333334],\n",
              " [0.64, 81.86666666666666],\n",
              " [0.65, 81.6],\n",
              " [0.66, 81.13333333333334],\n",
              " [0.67, 80.73333333333333],\n",
              " [0.6799999999999999, 80.33333333333333],\n",
              " [0.69, 79.93333333333334],\n",
              " [0.7, 79.53333333333333],\n",
              " [0.71, 79.13333333333334],\n",
              " [0.72, 79.06666666666666],\n",
              " [0.73, 78.60000000000001],\n",
              " [0.74, 78.06666666666666],\n",
              " [0.75, 77.8],\n",
              " [0.76, 77.4],\n",
              " [0.77, 76.86666666666667],\n",
              " [0.78, 76.2],\n",
              " [0.79, 76.06666666666668],\n",
              " [0.8, 75.33333333333333],\n",
              " [0.8099999999999999, 74.86666666666667],\n",
              " [0.82, 74.46666666666667],\n",
              " [0.83, 73.93333333333332],\n",
              " [0.84, 73.26666666666667],\n",
              " [0.85, 72.8],\n",
              " [0.86, 72.26666666666667],\n",
              " [0.87, 71.46666666666667],\n",
              " [0.88, 70.66666666666667],\n",
              " [0.89, 69.33333333333334],\n",
              " [0.9, 68.73333333333333],\n",
              " [0.91, 68.13333333333334],\n",
              " [0.92, 66.46666666666667],\n",
              " [0.93, 65.53333333333333],\n",
              " [0.94, 64.2],\n",
              " [0.95, 62.46666666666667],\n",
              " [0.96, 60.93333333333333],\n",
              " [0.97, 58.93333333333334],\n",
              " [0.98, 55.333333333333336],\n",
              " [0.99, 49.666666666666664],\n",
              " [0.99, 49.666666666666664],\n",
              " [0.991, 48.8],\n",
              " [0.992, 48.06666666666667],\n",
              " [0.993, 47.4],\n",
              " [0.994, 46.2],\n",
              " [0.995, 45.0],\n",
              " [0.996, 43.46666666666666],\n",
              " [0.997, 41.333333333333336],\n",
              " [0.998, 38.93333333333333],\n",
              " [0.999, 34.53333333333333]]"
            ]
          },
          "metadata": {},
          "execution_count": 66
        }
      ],
      "source": [
        "CorrectThresholding = []\n",
        "for i in range(90):\n",
        "  CorrectThresholding.append([0.1 + 0.01*i,100*thresholding(0.1 + 0.01*i)])\n",
        "for i in range(10):\n",
        "  CorrectThresholding.append([0.99 + 0.001*i,100*thresholding(0.99 + 0.001*i)])\n",
        "CorrectThresholding"
      ]
    },
    {
      "cell_type": "code",
      "source": [
        "def false_identify(threshold):\n",
        "  false_identify = 0\n",
        "  for i in range(prediction_known.shape[0]):\n",
        "    if prediction_known.argmax(axis=1)[i] != Known_data_X_test_label_int[i] and max(prediction_known[i]) > threshold:\n",
        "      false_identify += 1\n",
        "  return false_identify/(prediction_known.shape[0])"
      ],
      "metadata": {
        "id": "Vn2lRWxDM4G4"
      },
      "execution_count": null,
      "outputs": []
    },
    {
      "cell_type": "code",
      "source": [
        "FalseIdentify = []\n",
        "for i in range(90):\n",
        "  FalseIdentify.append([0.1 + 0.01*i,100*false_identify(0.1 + 0.01*i)])\n",
        "for i in range(10):\n",
        "  FalseIdentify.append([0.99 + 0.001*i,100*false_identify(0.99 + 0.001*i)])\n",
        "FalseIdentify"
      ],
      "metadata": {
        "id": "M753dWrlM4Km",
        "colab": {
          "base_uri": "https://localhost:8080/"
        },
        "outputId": "1b70d3bc-d70f-4f06-99c3-cb83827e30ca"
      },
      "execution_count": null,
      "outputs": [
        {
          "output_type": "execute_result",
          "data": {
            "text/plain": [
              "[[0.1, 9.333333333333334],\n",
              " [0.11, 9.333333333333334],\n",
              " [0.12000000000000001, 9.333333333333334],\n",
              " [0.13, 9.333333333333334],\n",
              " [0.14, 9.333333333333334],\n",
              " [0.15000000000000002, 9.266666666666666],\n",
              " [0.16, 9.266666666666666],\n",
              " [0.17, 9.266666666666666],\n",
              " [0.18, 9.266666666666666],\n",
              " [0.19, 9.266666666666666],\n",
              " [0.2, 9.2],\n",
              " [0.21000000000000002, 9.2],\n",
              " [0.22, 9.0],\n",
              " [0.23, 8.933333333333334],\n",
              " [0.24000000000000002, 8.866666666666667],\n",
              " [0.25, 8.866666666666667],\n",
              " [0.26, 8.799999999999999],\n",
              " [0.27, 8.6],\n",
              " [0.28, 8.533333333333333],\n",
              " [0.29000000000000004, 8.533333333333333],\n",
              " [0.30000000000000004, 8.466666666666667],\n",
              " [0.31, 8.4],\n",
              " [0.32, 8.4],\n",
              " [0.33, 8.133333333333333],\n",
              " [0.33999999999999997, 8.133333333333333],\n",
              " [0.35, 8.066666666666666],\n",
              " [0.36, 8.0],\n",
              " [0.37, 8.0],\n",
              " [0.38, 8.0],\n",
              " [0.39, 7.8],\n",
              " [0.4, 7.6],\n",
              " [0.41000000000000003, 7.466666666666668],\n",
              " [0.42000000000000004, 7.333333333333333],\n",
              " [0.43000000000000005, 7.333333333333333],\n",
              " [0.44000000000000006, 7.2666666666666675],\n",
              " [0.45000000000000007, 7.2666666666666675],\n",
              " [0.45999999999999996, 7.199999999999999],\n",
              " [0.47, 7.000000000000001],\n",
              " [0.48, 6.800000000000001],\n",
              " [0.49, 6.7333333333333325],\n",
              " [0.5, 6.6000000000000005],\n",
              " [0.51, 6.2],\n",
              " [0.52, 6.066666666666666],\n",
              " [0.53, 5.866666666666666],\n",
              " [0.54, 5.666666666666666],\n",
              " [0.55, 5.2],\n",
              " [0.56, 5.2],\n",
              " [0.5700000000000001, 5.2],\n",
              " [0.58, 4.866666666666666],\n",
              " [0.59, 4.8],\n",
              " [0.6, 4.533333333333333],\n",
              " [0.61, 4.3999999999999995],\n",
              " [0.62, 4.3999999999999995],\n",
              " [0.63, 4.3999999999999995],\n",
              " [0.64, 4.333333333333334],\n",
              " [0.65, 4.333333333333334],\n",
              " [0.66, 4.2],\n",
              " [0.67, 3.8],\n",
              " [0.6799999999999999, 3.733333333333334],\n",
              " [0.69, 3.5999999999999996],\n",
              " [0.7, 3.5333333333333337],\n",
              " [0.71, 3.4000000000000004],\n",
              " [0.72, 3.266666666666666],\n",
              " [0.73, 3.266666666666666],\n",
              " [0.74, 3.1333333333333333],\n",
              " [0.75, 3.0666666666666664],\n",
              " [0.76, 2.933333333333333],\n",
              " [0.77, 2.666666666666667],\n",
              " [0.78, 2.533333333333333],\n",
              " [0.79, 2.533333333333333],\n",
              " [0.8, 2.533333333333333],\n",
              " [0.8099999999999999, 2.3333333333333335],\n",
              " [0.82, 2.3333333333333335],\n",
              " [0.83, 2.2666666666666666],\n",
              " [0.84, 2.1999999999999997],\n",
              " [0.85, 1.866666666666667],\n",
              " [0.86, 1.6666666666666667],\n",
              " [0.87, 1.6666666666666667],\n",
              " [0.88, 1.6],\n",
              " [0.89, 1.4666666666666666],\n",
              " [0.9, 1.4666666666666666],\n",
              " [0.91, 1.2666666666666666],\n",
              " [0.92, 1.1333333333333333],\n",
              " [0.93, 1.0],\n",
              " [0.94, 0.8666666666666666],\n",
              " [0.95, 0.6666666666666667],\n",
              " [0.96, 0.6],\n",
              " [0.97, 0.5333333333333333],\n",
              " [0.98, 0.4],\n",
              " [0.99, 0.13333333333333333],\n",
              " [0.99, 0.13333333333333333],\n",
              " [0.991, 0.13333333333333333],\n",
              " [0.992, 0.06666666666666667],\n",
              " [0.993, 0.06666666666666667],\n",
              " [0.994, 0.06666666666666667],\n",
              " [0.995, 0.06666666666666667],\n",
              " [0.996, 0.0],\n",
              " [0.997, 0.0],\n",
              " [0.998, 0.0],\n",
              " [0.999, 0.0]]"
            ]
          },
          "metadata": {},
          "execution_count": 68
        }
      ]
    },
    {
      "cell_type": "code",
      "source": [
        "def misclassifyunknown(threshold):\n",
        "  misclassifyunknown = 0\n",
        "  for i in range(prediction_unknown.shape[0]):\n",
        "    if max(prediction_unknown[i]) > threshold:\n",
        "      misclassifyunknown += 1\n",
        "  return misclassifyunknown/(prediction_unknown.shape[0])"
      ],
      "metadata": {
        "id": "InSYYnV1M4Of"
      },
      "execution_count": null,
      "outputs": []
    },
    {
      "cell_type": "code",
      "source": [
        "UnknownMisclassify = []\n",
        "for i in range(90):\n",
        "  UnknownMisclassify.append([0.1 + 0.01*i,100*misclassifyunknown(0.1 + 0.01*i)])\n",
        "for i in range(10):\n",
        "  UnknownMisclassify.append([0.99 + 0.001*i,100*misclassifyunknown(0.99 + 0.001*i)])\n",
        "UnknownMisclassify"
      ],
      "metadata": {
        "id": "jKdfbnzZM4ST",
        "colab": {
          "base_uri": "https://localhost:8080/"
        },
        "outputId": "e96129b7-e69b-41d7-8cbc-3d82f6dcc574"
      },
      "execution_count": null,
      "outputs": [
        {
          "output_type": "execute_result",
          "data": {
            "text/plain": [
              "[[0.1, 79.4],\n",
              " [0.11, 77.5],\n",
              " [0.12000000000000001, 76.0],\n",
              " [0.13, 74.5],\n",
              " [0.14, 73.6],\n",
              " [0.15000000000000002, 72.39999999999999],\n",
              " [0.16, 71.7],\n",
              " [0.17, 71.0],\n",
              " [0.18, 70.7],\n",
              " [0.19, 69.69999999999999],\n",
              " [0.2, 69.0],\n",
              " [0.21000000000000002, 68.60000000000001],\n",
              " [0.22, 67.9],\n",
              " [0.23, 67.10000000000001],\n",
              " [0.24000000000000002, 66.4],\n",
              " [0.25, 66.0],\n",
              " [0.26, 65.2],\n",
              " [0.27, 64.2],\n",
              " [0.28, 63.5],\n",
              " [0.29000000000000004, 62.9],\n",
              " [0.30000000000000004, 62.2],\n",
              " [0.31, 61.4],\n",
              " [0.32, 60.5],\n",
              " [0.33, 60.0],\n",
              " [0.33999999999999997, 59.599999999999994],\n",
              " [0.35, 58.8],\n",
              " [0.36, 58.199999999999996],\n",
              " [0.37, 57.3],\n",
              " [0.38, 56.599999999999994],\n",
              " [0.39, 56.10000000000001],\n",
              " [0.4, 55.300000000000004],\n",
              " [0.41000000000000003, 54.800000000000004],\n",
              " [0.42000000000000004, 54.7],\n",
              " [0.43000000000000005, 54.2],\n",
              " [0.44000000000000006, 53.6],\n",
              " [0.45000000000000007, 52.900000000000006],\n",
              " [0.45999999999999996, 52.2],\n",
              " [0.47, 51.6],\n",
              " [0.48, 50.7],\n",
              " [0.49, 50.4],\n",
              " [0.5, 49.6],\n",
              " [0.51, 48.5],\n",
              " [0.52, 47.4],\n",
              " [0.53, 47.0],\n",
              " [0.54, 46.6],\n",
              " [0.55, 45.4],\n",
              " [0.56, 45.0],\n",
              " [0.5700000000000001, 44.4],\n",
              " [0.58, 43.6],\n",
              " [0.59, 42.6],\n",
              " [0.6, 42.0],\n",
              " [0.61, 41.3],\n",
              " [0.62, 40.2],\n",
              " [0.63, 39.6],\n",
              " [0.64, 39.2],\n",
              " [0.65, 38.5],\n",
              " [0.66, 38.0],\n",
              " [0.67, 37.3],\n",
              " [0.6799999999999999, 36.7],\n",
              " [0.69, 36.199999999999996],\n",
              " [0.7, 35.5],\n",
              " [0.71, 34.699999999999996],\n",
              " [0.72, 34.2],\n",
              " [0.73, 33.6],\n",
              " [0.74, 33.0],\n",
              " [0.75, 32.2],\n",
              " [0.76, 31.5],\n",
              " [0.77, 30.8],\n",
              " [0.78, 30.099999999999998],\n",
              " [0.79, 29.799999999999997],\n",
              " [0.8, 28.9],\n",
              " [0.8099999999999999, 27.900000000000002],\n",
              " [0.82, 27.700000000000003],\n",
              " [0.83, 27.0],\n",
              " [0.84, 26.1],\n",
              " [0.85, 25.0],\n",
              " [0.86, 24.3],\n",
              " [0.87, 24.0],\n",
              " [0.88, 23.1],\n",
              " [0.89, 22.6],\n",
              " [0.9, 21.6],\n",
              " [0.91, 20.3],\n",
              " [0.92, 19.6],\n",
              " [0.93, 18.5],\n",
              " [0.94, 17.7],\n",
              " [0.95, 16.1],\n",
              " [0.96, 14.899999999999999],\n",
              " [0.97, 13.5],\n",
              " [0.98, 11.3],\n",
              " [0.99, 8.5],\n",
              " [0.99, 8.5],\n",
              " [0.991, 8.4],\n",
              " [0.992, 8.1],\n",
              " [0.993, 7.6],\n",
              " [0.994, 7.000000000000001],\n",
              " [0.995, 6.5],\n",
              " [0.996, 5.800000000000001],\n",
              " [0.997, 4.8],\n",
              " [0.998, 3.6999999999999997],\n",
              " [0.999, 2.4]]"
            ]
          },
          "metadata": {},
          "execution_count": 70
        }
      ]
    },
    {
      "cell_type": "code",
      "source": [
        "def dontknow(threshold):\n",
        "  notknown = 0\n",
        "  for i in range(prediction_known.shape[0]):\n",
        "    if max(prediction_known[i]) <= threshold:\n",
        "      notknown += 1\n",
        "  return notknown/(prediction_known.shape[0])"
      ],
      "metadata": {
        "id": "RXvKcD4fM4VD"
      },
      "execution_count": null,
      "outputs": []
    },
    {
      "cell_type": "code",
      "execution_count": null,
      "metadata": {
        "id": "mWInVYNk2bml",
        "colab": {
          "base_uri": "https://localhost:8080/"
        },
        "outputId": "e8980c5e-225a-4ec0-c218-b960c569217a"
      },
      "outputs": [
        {
          "output_type": "execute_result",
          "data": {
            "text/plain": [
              "[[0.1, 0.6666666666666667],\n",
              " [0.11, 0.6666666666666667],\n",
              " [0.12000000000000001, 0.8],\n",
              " [0.13, 0.8],\n",
              " [0.14, 0.8],\n",
              " [0.15000000000000002, 1.0],\n",
              " [0.16, 1.0],\n",
              " [0.17, 1.1333333333333333],\n",
              " [0.18, 1.3333333333333335],\n",
              " [0.19, 1.5333333333333332],\n",
              " [0.2, 1.7333333333333332],\n",
              " [0.21000000000000002, 1.7999999999999998],\n",
              " [0.22, 2.0],\n",
              " [0.23, 2.0666666666666664],\n",
              " [0.24000000000000002, 2.1999999999999997],\n",
              " [0.25, 2.2666666666666666],\n",
              " [0.26, 2.466666666666667],\n",
              " [0.27, 2.8000000000000003],\n",
              " [0.28, 2.8666666666666667],\n",
              " [0.29000000000000004, 3.1333333333333333],\n",
              " [0.30000000000000004, 3.3333333333333335],\n",
              " [0.31, 3.4000000000000004],\n",
              " [0.32, 3.4000000000000004],\n",
              " [0.33, 3.6666666666666665],\n",
              " [0.33999999999999997, 3.8],\n",
              " [0.35, 4.2],\n",
              " [0.36, 4.3999999999999995],\n",
              " [0.37, 4.533333333333333],\n",
              " [0.38, 4.733333333333333],\n",
              " [0.39, 5.0],\n",
              " [0.4, 5.4],\n",
              " [0.41000000000000003, 5.6000000000000005],\n",
              " [0.42000000000000004, 5.733333333333333],\n",
              " [0.43000000000000005, 5.933333333333334],\n",
              " [0.44000000000000006, 6.133333333333333],\n",
              " [0.45000000000000007, 6.2],\n",
              " [0.45999999999999996, 6.466666666666667],\n",
              " [0.47, 6.666666666666667],\n",
              " [0.48, 6.933333333333333],\n",
              " [0.49, 7.2666666666666675],\n",
              " [0.5, 7.666666666666666],\n",
              " [0.51, 8.4],\n",
              " [0.52, 8.799999999999999],\n",
              " [0.53, 9.4],\n",
              " [0.54, 9.866666666666667],\n",
              " [0.55, 10.6],\n",
              " [0.56, 10.6],\n",
              " [0.5700000000000001, 10.733333333333334],\n",
              " [0.58, 11.333333333333332],\n",
              " [0.59, 11.866666666666667],\n",
              " [0.6, 12.466666666666667],\n",
              " [0.61, 12.8],\n",
              " [0.62, 13.066666666666665],\n",
              " [0.63, 13.266666666666666],\n",
              " [0.64, 13.8],\n",
              " [0.65, 14.066666666666666],\n",
              " [0.66, 14.666666666666666],\n",
              " [0.67, 15.466666666666667],\n",
              " [0.6799999999999999, 15.933333333333334],\n",
              " [0.69, 16.466666666666665],\n",
              " [0.7, 16.933333333333334],\n",
              " [0.71, 17.466666666666665],\n",
              " [0.72, 17.666666666666668],\n",
              " [0.73, 18.133333333333333],\n",
              " [0.74, 18.8],\n",
              " [0.75, 19.133333333333333],\n",
              " [0.76, 19.666666666666664],\n",
              " [0.77, 20.466666666666665],\n",
              " [0.78, 21.266666666666666],\n",
              " [0.79, 21.4],\n",
              " [0.8, 22.133333333333333],\n",
              " [0.8099999999999999, 22.8],\n",
              " [0.82, 23.200000000000003],\n",
              " [0.83, 23.799999999999997],\n",
              " [0.84, 24.53333333333333],\n",
              " [0.85, 25.333333333333336],\n",
              " [0.86, 26.066666666666666],\n",
              " [0.87, 26.866666666666667],\n",
              " [0.88, 27.73333333333333],\n",
              " [0.89, 29.2],\n",
              " [0.9, 29.799999999999997],\n",
              " [0.91, 30.599999999999998],\n",
              " [0.92, 32.4],\n",
              " [0.93, 33.46666666666667],\n",
              " [0.94, 34.93333333333333],\n",
              " [0.95, 36.86666666666667],\n",
              " [0.96, 38.46666666666667],\n",
              " [0.97, 40.53333333333333],\n",
              " [0.98, 44.266666666666666],\n",
              " [0.99, 50.2],\n",
              " [0.99, 50.2],\n",
              " [0.991, 51.06666666666667],\n",
              " [0.992, 51.866666666666674],\n",
              " [0.993, 52.53333333333333],\n",
              " [0.994, 53.733333333333334],\n",
              " [0.995, 54.93333333333334],\n",
              " [0.996, 56.53333333333334],\n",
              " [0.997, 58.666666666666664],\n",
              " [0.998, 61.06666666666667],\n",
              " [0.999, 65.46666666666667]]"
            ]
          },
          "metadata": {},
          "execution_count": 72
        }
      ],
      "source": [
        "DontKnowThresholding = []\n",
        "for i in range(90):\n",
        "  DontKnowThresholding.append([0.1 + 0.01*i,100*dontknow(0.1 + 0.01*i)])\n",
        "for i in range(10):\n",
        "  DontKnowThresholding.append([0.99 + 0.001*i,100*dontknow(0.99 + 0.001*i)])\n",
        "DontKnowThresholding"
      ]
    },
    {
      "cell_type": "code",
      "source": [
        "aligned_array = [element for row in prediction_unknown for element in row]\n",
        "max_value = max(aligned_array)\n",
        "\n",
        "print(\"The maximum value in the aligned array is:\", max_value)"
      ],
      "metadata": {
        "id": "whvlD7tVNOew",
        "colab": {
          "base_uri": "https://localhost:8080/"
        },
        "outputId": "5b591eb0-e529-409c-e768-07d9aceced24"
      },
      "execution_count": null,
      "outputs": [
        {
          "output_type": "stream",
          "name": "stdout",
          "text": [
            "The maximum value in the aligned array is: 0.9999691\n"
          ]
        }
      ]
    },
    {
      "cell_type": "code",
      "source": [
        "thresholding(max_value)"
      ],
      "metadata": {
        "id": "lQT16bp2f4xV",
        "colab": {
          "base_uri": "https://localhost:8080/"
        },
        "outputId": "d542f673-8396-498d-fae5-6435c28ab3ca"
      },
      "execution_count": null,
      "outputs": [
        {
          "output_type": "execute_result",
          "data": {
            "text/plain": [
              "0.13066666666666665"
            ]
          },
          "metadata": {},
          "execution_count": 74
        }
      ]
    },
    {
      "cell_type": "code",
      "source": [
        "dontknow(max_value)"
      ],
      "metadata": {
        "id": "bb8_5G4-hP8l",
        "colab": {
          "base_uri": "https://localhost:8080/"
        },
        "outputId": "2c551538-ea77-45aa-da2e-1ec15dae9626"
      },
      "execution_count": null,
      "outputs": [
        {
          "output_type": "execute_result",
          "data": {
            "text/plain": [
              "0.8693333333333333"
            ]
          },
          "metadata": {},
          "execution_count": 75
        }
      ]
    },
    {
      "cell_type": "code",
      "source": [
        "misclassifyunknown(max_value)"
      ],
      "metadata": {
        "id": "FjStdK4hhS8K",
        "colab": {
          "base_uri": "https://localhost:8080/"
        },
        "outputId": "ff4ed2e9-4cb5-4f8e-988f-29099c26c2c6"
      },
      "execution_count": null,
      "outputs": [
        {
          "output_type": "execute_result",
          "data": {
            "text/plain": [
              "0.0"
            ]
          },
          "metadata": {},
          "execution_count": 76
        }
      ]
    },
    {
      "cell_type": "code",
      "source": [
        "false_identify(max_value)"
      ],
      "metadata": {
        "id": "0ihRU5ZxhbjN",
        "colab": {
          "base_uri": "https://localhost:8080/"
        },
        "outputId": "92eef744-32ed-495e-f727-bee3c790ed46"
      },
      "execution_count": null,
      "outputs": [
        {
          "output_type": "execute_result",
          "data": {
            "text/plain": [
              "0.0"
            ]
          },
          "metadata": {},
          "execution_count": 77
        }
      ]
    },
    {
      "cell_type": "code",
      "source": [
        "DontKnowThresholdingANOTHER = []\n",
        "\n",
        "for i in range(89):\n",
        "  DontKnowThresholdingANOTHER.append([100*thresholding(0.1 + 0.01*i),100*dontknow(0.1 + 0.01*i),])\n",
        "\n",
        "for i in range(10):\n",
        "  DontKnowThresholdingANOTHER.append([100*thresholding(0.99 + 0.001*i),100*dontknow(0.99 + 0.001*i),])\n",
        "\n",
        "for i in range(10):\n",
        "  DontKnowThresholdingANOTHER.append([100*thresholding(0.999 + 0.0001*i),100*dontknow(0.999 + 0.0001*i),])\n",
        "\n",
        "for i in range(10):\n",
        "  DontKnowThresholdingANOTHER.append([100*thresholding(0.9999 + 0.00001*i),100*dontknow(0.9999 + 0.00001*i),])\n",
        "\n",
        "for i in range(9):\n",
        "  DontKnowThresholdingANOTHER.append([100*thresholding(0.99999 + 0.000001*i),100*dontknow(0.99999 + 0.000001*i),])\n",
        "\n",
        "DontKnowThresholdingANOTHER.append([100*thresholding(max_value),100*dontknow(max_value)])\n",
        "\n",
        "DontKnowThresholdingANOTHER"
      ],
      "metadata": {
        "id": "eRKbUDYDNOSp",
        "colab": {
          "base_uri": "https://localhost:8080/"
        },
        "outputId": "bf591d2c-761e-47e6-ff90-98b695a5722a"
      },
      "execution_count": null,
      "outputs": [
        {
          "output_type": "execute_result",
          "data": {
            "text/plain": [
              "[[90.0, 0.6666666666666667],\n",
              " [90.0, 0.6666666666666667],\n",
              " [89.86666666666666, 0.8],\n",
              " [89.86666666666666, 0.8],\n",
              " [89.86666666666666, 0.8],\n",
              " [89.73333333333333, 1.0],\n",
              " [89.73333333333333, 1.0],\n",
              " [89.60000000000001, 1.1333333333333333],\n",
              " [89.4, 1.3333333333333335],\n",
              " [89.2, 1.5333333333333332],\n",
              " [89.06666666666668, 1.7333333333333332],\n",
              " [89.0, 1.7999999999999998],\n",
              " [89.0, 2.0],\n",
              " [89.0, 2.0666666666666664],\n",
              " [88.93333333333334, 2.1999999999999997],\n",
              " [88.86666666666667, 2.2666666666666666],\n",
              " [88.73333333333333, 2.466666666666667],\n",
              " [88.6, 2.8000000000000003],\n",
              " [88.6, 2.8666666666666667],\n",
              " [88.33333333333333, 3.1333333333333333],\n",
              " [88.2, 3.3333333333333335],\n",
              " [88.2, 3.4000000000000004],\n",
              " [88.2, 3.4000000000000004],\n",
              " [88.2, 3.6666666666666665],\n",
              " [88.06666666666668, 3.8],\n",
              " [87.73333333333333, 4.2],\n",
              " [87.6, 4.3999999999999995],\n",
              " [87.46666666666667, 4.533333333333333],\n",
              " [87.26666666666667, 4.733333333333333],\n",
              " [87.2, 5.0],\n",
              " [87.0, 5.4],\n",
              " [86.93333333333332, 5.6000000000000005],\n",
              " [86.93333333333332, 5.733333333333333],\n",
              " [86.73333333333333, 5.933333333333334],\n",
              " [86.6, 6.133333333333333],\n",
              " [86.53333333333333, 6.2],\n",
              " [86.33333333333333, 6.466666666666667],\n",
              " [86.33333333333333, 6.666666666666667],\n",
              " [86.26666666666667, 6.933333333333333],\n",
              " [86.0, 7.2666666666666675],\n",
              " [85.73333333333333, 7.666666666666666],\n",
              " [85.39999999999999, 8.4],\n",
              " [85.13333333333334, 8.799999999999999],\n",
              " [84.73333333333333, 9.4],\n",
              " [84.46666666666667, 9.866666666666667],\n",
              " [84.2, 10.6],\n",
              " [84.2, 10.6],\n",
              " [84.06666666666666, 10.733333333333334],\n",
              " [83.8, 11.333333333333332],\n",
              " [83.33333333333334, 11.866666666666667],\n",
              " [83.0, 12.466666666666667],\n",
              " [82.8, 12.8],\n",
              " [82.53333333333333, 13.066666666666665],\n",
              " [82.33333333333334, 13.266666666666666],\n",
              " [81.86666666666666, 13.8],\n",
              " [81.6, 14.066666666666666],\n",
              " [81.13333333333334, 14.666666666666666],\n",
              " [80.73333333333333, 15.466666666666667],\n",
              " [80.33333333333333, 15.933333333333334],\n",
              " [79.93333333333334, 16.466666666666665],\n",
              " [79.53333333333333, 16.933333333333334],\n",
              " [79.13333333333334, 17.466666666666665],\n",
              " [79.06666666666666, 17.666666666666668],\n",
              " [78.60000000000001, 18.133333333333333],\n",
              " [78.06666666666666, 18.8],\n",
              " [77.8, 19.133333333333333],\n",
              " [77.4, 19.666666666666664],\n",
              " [76.86666666666667, 20.466666666666665],\n",
              " [76.2, 21.266666666666666],\n",
              " [76.06666666666668, 21.4],\n",
              " [75.33333333333333, 22.133333333333333],\n",
              " [74.86666666666667, 22.8],\n",
              " [74.46666666666667, 23.200000000000003],\n",
              " [73.93333333333332, 23.799999999999997],\n",
              " [73.26666666666667, 24.53333333333333],\n",
              " [72.8, 25.333333333333336],\n",
              " [72.26666666666667, 26.066666666666666],\n",
              " [71.46666666666667, 26.866666666666667],\n",
              " [70.66666666666667, 27.73333333333333],\n",
              " [69.33333333333334, 29.2],\n",
              " [68.73333333333333, 29.799999999999997],\n",
              " [68.13333333333334, 30.599999999999998],\n",
              " [66.46666666666667, 32.4],\n",
              " [65.53333333333333, 33.46666666666667],\n",
              " [64.2, 34.93333333333333],\n",
              " [62.46666666666667, 36.86666666666667],\n",
              " [60.93333333333333, 38.46666666666667],\n",
              " [58.93333333333334, 40.53333333333333],\n",
              " [55.333333333333336, 44.266666666666666],\n",
              " [49.666666666666664, 50.2],\n",
              " [48.8, 51.06666666666667],\n",
              " [48.06666666666667, 51.866666666666674],\n",
              " [47.4, 52.53333333333333],\n",
              " [46.2, 53.733333333333334],\n",
              " [45.0, 54.93333333333334],\n",
              " [43.46666666666666, 56.53333333333334],\n",
              " [41.333333333333336, 58.666666666666664],\n",
              " [38.93333333333333, 61.06666666666667],\n",
              " [34.53333333333333, 65.46666666666667],\n",
              " [34.53333333333333, 65.46666666666667],\n",
              " [33.666666666666664, 66.33333333333333],\n",
              " [33.13333333333333, 66.86666666666666],\n",
              " [32.33333333333333, 67.66666666666666],\n",
              " [31.066666666666663, 68.93333333333334],\n",
              " [29.4, 70.6],\n",
              " [27.73333333333333, 72.26666666666667],\n",
              " [26.200000000000003, 73.8],\n",
              " [23.200000000000003, 76.8],\n",
              " [19.2, 80.80000000000001],\n",
              " [19.2, 80.80000000000001],\n",
              " [18.46666666666667, 81.53333333333333],\n",
              " [17.4, 82.6],\n",
              " [16.666666666666664, 83.33333333333334],\n",
              " [16.133333333333333, 83.86666666666667],\n",
              " [15.133333333333333, 84.86666666666667],\n",
              " [14.133333333333335, 85.86666666666667],\n",
              " [12.8, 87.2],\n",
              " [10.866666666666665, 89.13333333333333],\n",
              " [7.3999999999999995, 92.60000000000001],\n",
              " [7.3999999999999995, 92.60000000000001],\n",
              " [6.6000000000000005, 93.4],\n",
              " [5.866666666666666, 94.13333333333334],\n",
              " [5.466666666666667, 94.53333333333333],\n",
              " [4.866666666666666, 95.13333333333334],\n",
              " [4.733333333333333, 95.26666666666667],\n",
              " [3.733333333333334, 96.26666666666667],\n",
              " [2.8000000000000003, 97.2],\n",
              " [1.9333333333333333, 98.06666666666666],\n",
              " [13.066666666666665, 86.93333333333332]]"
            ]
          },
          "metadata": {},
          "execution_count": 78
        }
      ]
    },
    {
      "cell_type": "code",
      "source": [
        "UnknownMisclassifyANOTHER = []\n",
        "for i in range(89):\n",
        "  UnknownMisclassifyANOTHER.append([100*thresholding(0.1 + 0.01*i),100*misclassifyunknown(0.1 + 0.01*i),])\n",
        "for i in range(10):\n",
        "  UnknownMisclassifyANOTHER.append([100*thresholding(0.99 + 0.001*i),100*misclassifyunknown(0.99 + 0.001*i),])\n",
        "\n",
        "for i in range(10):\n",
        "  UnknownMisclassifyANOTHER.append([100*thresholding(0.999 + 0.0001*i),100*misclassifyunknown(0.999 + 0.0001*i),])\n",
        "\n",
        "for i in range(10):\n",
        "  UnknownMisclassifyANOTHER.append([100*thresholding(0.9999 + 0.00001*i),100*misclassifyunknown(0.9999 + 0.00001*i),])\n",
        "\n",
        "for i in range(9):\n",
        "  UnknownMisclassifyANOTHER.append([100*thresholding(0.99999 + 0.000001*i),100*misclassifyunknown(0.99999 + 0.000001*i),])\n",
        "\n",
        "UnknownMisclassifyANOTHER.append([100*thresholding(max_value),100*misclassifyunknown(max_value),])\n",
        "\n",
        "UnknownMisclassifyANOTHER"
      ],
      "metadata": {
        "id": "rkK7Pwx6b9vA",
        "colab": {
          "base_uri": "https://localhost:8080/"
        },
        "outputId": "325c9a68-4831-4430-840b-00f876c3f2c5"
      },
      "execution_count": null,
      "outputs": [
        {
          "output_type": "execute_result",
          "data": {
            "text/plain": [
              "[[90.0, 79.4],\n",
              " [90.0, 77.5],\n",
              " [89.86666666666666, 76.0],\n",
              " [89.86666666666666, 74.5],\n",
              " [89.86666666666666, 73.6],\n",
              " [89.73333333333333, 72.39999999999999],\n",
              " [89.73333333333333, 71.7],\n",
              " [89.60000000000001, 71.0],\n",
              " [89.4, 70.7],\n",
              " [89.2, 69.69999999999999],\n",
              " [89.06666666666668, 69.0],\n",
              " [89.0, 68.60000000000001],\n",
              " [89.0, 67.9],\n",
              " [89.0, 67.10000000000001],\n",
              " [88.93333333333334, 66.4],\n",
              " [88.86666666666667, 66.0],\n",
              " [88.73333333333333, 65.2],\n",
              " [88.6, 64.2],\n",
              " [88.6, 63.5],\n",
              " [88.33333333333333, 62.9],\n",
              " [88.2, 62.2],\n",
              " [88.2, 61.4],\n",
              " [88.2, 60.5],\n",
              " [88.2, 60.0],\n",
              " [88.06666666666668, 59.599999999999994],\n",
              " [87.73333333333333, 58.8],\n",
              " [87.6, 58.199999999999996],\n",
              " [87.46666666666667, 57.3],\n",
              " [87.26666666666667, 56.599999999999994],\n",
              " [87.2, 56.10000000000001],\n",
              " [87.0, 55.300000000000004],\n",
              " [86.93333333333332, 54.800000000000004],\n",
              " [86.93333333333332, 54.7],\n",
              " [86.73333333333333, 54.2],\n",
              " [86.6, 53.6],\n",
              " [86.53333333333333, 52.900000000000006],\n",
              " [86.33333333333333, 52.2],\n",
              " [86.33333333333333, 51.6],\n",
              " [86.26666666666667, 50.7],\n",
              " [86.0, 50.4],\n",
              " [85.73333333333333, 49.6],\n",
              " [85.39999999999999, 48.5],\n",
              " [85.13333333333334, 47.4],\n",
              " [84.73333333333333, 47.0],\n",
              " [84.46666666666667, 46.6],\n",
              " [84.2, 45.4],\n",
              " [84.2, 45.0],\n",
              " [84.06666666666666, 44.4],\n",
              " [83.8, 43.6],\n",
              " [83.33333333333334, 42.6],\n",
              " [83.0, 42.0],\n",
              " [82.8, 41.3],\n",
              " [82.53333333333333, 40.2],\n",
              " [82.33333333333334, 39.6],\n",
              " [81.86666666666666, 39.2],\n",
              " [81.6, 38.5],\n",
              " [81.13333333333334, 38.0],\n",
              " [80.73333333333333, 37.3],\n",
              " [80.33333333333333, 36.7],\n",
              " [79.93333333333334, 36.199999999999996],\n",
              " [79.53333333333333, 35.5],\n",
              " [79.13333333333334, 34.699999999999996],\n",
              " [79.06666666666666, 34.2],\n",
              " [78.60000000000001, 33.6],\n",
              " [78.06666666666666, 33.0],\n",
              " [77.8, 32.2],\n",
              " [77.4, 31.5],\n",
              " [76.86666666666667, 30.8],\n",
              " [76.2, 30.099999999999998],\n",
              " [76.06666666666668, 29.799999999999997],\n",
              " [75.33333333333333, 28.9],\n",
              " [74.86666666666667, 27.900000000000002],\n",
              " [74.46666666666667, 27.700000000000003],\n",
              " [73.93333333333332, 27.0],\n",
              " [73.26666666666667, 26.1],\n",
              " [72.8, 25.0],\n",
              " [72.26666666666667, 24.3],\n",
              " [71.46666666666667, 24.0],\n",
              " [70.66666666666667, 23.1],\n",
              " [69.33333333333334, 22.6],\n",
              " [68.73333333333333, 21.6],\n",
              " [68.13333333333334, 20.3],\n",
              " [66.46666666666667, 19.6],\n",
              " [65.53333333333333, 18.5],\n",
              " [64.2, 17.7],\n",
              " [62.46666666666667, 16.1],\n",
              " [60.93333333333333, 14.899999999999999],\n",
              " [58.93333333333334, 13.5],\n",
              " [55.333333333333336, 11.3],\n",
              " [49.666666666666664, 8.5],\n",
              " [48.8, 8.4],\n",
              " [48.06666666666667, 8.1],\n",
              " [47.4, 7.6],\n",
              " [46.2, 7.000000000000001],\n",
              " [45.0, 6.5],\n",
              " [43.46666666666666, 5.800000000000001],\n",
              " [41.333333333333336, 4.8],\n",
              " [38.93333333333333, 3.6999999999999997],\n",
              " [34.53333333333333, 2.4],\n",
              " [34.53333333333333, 2.4],\n",
              " [33.666666666666664, 2.1999999999999997],\n",
              " [33.13333333333333, 2.1],\n",
              " [32.33333333333333, 1.9],\n",
              " [31.066666666666663, 1.7000000000000002],\n",
              " [29.4, 1.5],\n",
              " [27.73333333333333, 1.4000000000000001],\n",
              " [26.200000000000003, 1.0],\n",
              " [23.200000000000003, 0.6],\n",
              " [19.2, 0.2],\n",
              " [19.2, 0.2],\n",
              " [18.46666666666667, 0.2],\n",
              " [17.4, 0.1],\n",
              " [16.666666666666664, 0.1],\n",
              " [16.133333333333333, 0.1],\n",
              " [15.133333333333333, 0.1],\n",
              " [14.133333333333335, 0.1],\n",
              " [12.8, 0.0],\n",
              " [10.866666666666665, 0.0],\n",
              " [7.3999999999999995, 0.0],\n",
              " [7.3999999999999995, 0.0],\n",
              " [6.6000000000000005, 0.0],\n",
              " [5.866666666666666, 0.0],\n",
              " [5.466666666666667, 0.0],\n",
              " [4.866666666666666, 0.0],\n",
              " [4.733333333333333, 0.0],\n",
              " [3.733333333333334, 0.0],\n",
              " [2.8000000000000003, 0.0],\n",
              " [1.9333333333333333, 0.0],\n",
              " [13.066666666666665, 0.0]]"
            ]
          },
          "metadata": {},
          "execution_count": 79
        }
      ]
    },
    {
      "cell_type": "code",
      "source": [
        "FalseIdentifyANOTHER = []\n",
        "for i in range(89):\n",
        "  FalseIdentifyANOTHER.append([100*thresholding(0.1 + 0.01*i),100*false_identify(0.1 + 0.01*i),])\n",
        "for i in range(10):\n",
        "  FalseIdentifyANOTHER.append([100*thresholding(0.99 + 0.001*i),100*false_identify(0.99 + 0.001*i)])\n",
        "\n",
        "for i in range(10):\n",
        "  FalseIdentifyANOTHER.append([100*thresholding(0.999 + 0.0001*i),100*false_identify(0.999 + 0.0001*i),])\n",
        "\n",
        "for i in range(10):\n",
        "  FalseIdentifyANOTHER.append([100*thresholding(0.9999 + 0.00001*i),100*false_identify(0.9999 + 0.00001*i),])\n",
        "\n",
        "for i in range(9):\n",
        "  FalseIdentifyANOTHER.append([100*thresholding(0.99999 + 0.000001*i),100*false_identify(0.99999 + 0.000001*i),])\n",
        "\n",
        "FalseIdentifyANOTHER.append([100*thresholding(max_value),100*false_identify(max_value),])\n",
        "FalseIdentifyANOTHER"
      ],
      "metadata": {
        "id": "oe9DmTAKNOXR",
        "colab": {
          "base_uri": "https://localhost:8080/"
        },
        "outputId": "0916e8fc-ac19-4fcc-b00f-5173fedc1b45"
      },
      "execution_count": null,
      "outputs": [
        {
          "output_type": "execute_result",
          "data": {
            "text/plain": [
              "[[90.0, 9.333333333333334],\n",
              " [90.0, 9.333333333333334],\n",
              " [89.86666666666666, 9.333333333333334],\n",
              " [89.86666666666666, 9.333333333333334],\n",
              " [89.86666666666666, 9.333333333333334],\n",
              " [89.73333333333333, 9.266666666666666],\n",
              " [89.73333333333333, 9.266666666666666],\n",
              " [89.60000000000001, 9.266666666666666],\n",
              " [89.4, 9.266666666666666],\n",
              " [89.2, 9.266666666666666],\n",
              " [89.06666666666668, 9.2],\n",
              " [89.0, 9.2],\n",
              " [89.0, 9.0],\n",
              " [89.0, 8.933333333333334],\n",
              " [88.93333333333334, 8.866666666666667],\n",
              " [88.86666666666667, 8.866666666666667],\n",
              " [88.73333333333333, 8.799999999999999],\n",
              " [88.6, 8.6],\n",
              " [88.6, 8.533333333333333],\n",
              " [88.33333333333333, 8.533333333333333],\n",
              " [88.2, 8.466666666666667],\n",
              " [88.2, 8.4],\n",
              " [88.2, 8.4],\n",
              " [88.2, 8.133333333333333],\n",
              " [88.06666666666668, 8.133333333333333],\n",
              " [87.73333333333333, 8.066666666666666],\n",
              " [87.6, 8.0],\n",
              " [87.46666666666667, 8.0],\n",
              " [87.26666666666667, 8.0],\n",
              " [87.2, 7.8],\n",
              " [87.0, 7.6],\n",
              " [86.93333333333332, 7.466666666666668],\n",
              " [86.93333333333332, 7.333333333333333],\n",
              " [86.73333333333333, 7.333333333333333],\n",
              " [86.6, 7.2666666666666675],\n",
              " [86.53333333333333, 7.2666666666666675],\n",
              " [86.33333333333333, 7.199999999999999],\n",
              " [86.33333333333333, 7.000000000000001],\n",
              " [86.26666666666667, 6.800000000000001],\n",
              " [86.0, 6.7333333333333325],\n",
              " [85.73333333333333, 6.6000000000000005],\n",
              " [85.39999999999999, 6.2],\n",
              " [85.13333333333334, 6.066666666666666],\n",
              " [84.73333333333333, 5.866666666666666],\n",
              " [84.46666666666667, 5.666666666666666],\n",
              " [84.2, 5.2],\n",
              " [84.2, 5.2],\n",
              " [84.06666666666666, 5.2],\n",
              " [83.8, 4.866666666666666],\n",
              " [83.33333333333334, 4.8],\n",
              " [83.0, 4.533333333333333],\n",
              " [82.8, 4.3999999999999995],\n",
              " [82.53333333333333, 4.3999999999999995],\n",
              " [82.33333333333334, 4.3999999999999995],\n",
              " [81.86666666666666, 4.333333333333334],\n",
              " [81.6, 4.333333333333334],\n",
              " [81.13333333333334, 4.2],\n",
              " [80.73333333333333, 3.8],\n",
              " [80.33333333333333, 3.733333333333334],\n",
              " [79.93333333333334, 3.5999999999999996],\n",
              " [79.53333333333333, 3.5333333333333337],\n",
              " [79.13333333333334, 3.4000000000000004],\n",
              " [79.06666666666666, 3.266666666666666],\n",
              " [78.60000000000001, 3.266666666666666],\n",
              " [78.06666666666666, 3.1333333333333333],\n",
              " [77.8, 3.0666666666666664],\n",
              " [77.4, 2.933333333333333],\n",
              " [76.86666666666667, 2.666666666666667],\n",
              " [76.2, 2.533333333333333],\n",
              " [76.06666666666668, 2.533333333333333],\n",
              " [75.33333333333333, 2.533333333333333],\n",
              " [74.86666666666667, 2.3333333333333335],\n",
              " [74.46666666666667, 2.3333333333333335],\n",
              " [73.93333333333332, 2.2666666666666666],\n",
              " [73.26666666666667, 2.1999999999999997],\n",
              " [72.8, 1.866666666666667],\n",
              " [72.26666666666667, 1.6666666666666667],\n",
              " [71.46666666666667, 1.6666666666666667],\n",
              " [70.66666666666667, 1.6],\n",
              " [69.33333333333334, 1.4666666666666666],\n",
              " [68.73333333333333, 1.4666666666666666],\n",
              " [68.13333333333334, 1.2666666666666666],\n",
              " [66.46666666666667, 1.1333333333333333],\n",
              " [65.53333333333333, 1.0],\n",
              " [64.2, 0.8666666666666666],\n",
              " [62.46666666666667, 0.6666666666666667],\n",
              " [60.93333333333333, 0.6],\n",
              " [58.93333333333334, 0.5333333333333333],\n",
              " [55.333333333333336, 0.4],\n",
              " [49.666666666666664, 0.13333333333333333],\n",
              " [48.8, 0.13333333333333333],\n",
              " [48.06666666666667, 0.06666666666666667],\n",
              " [47.4, 0.06666666666666667],\n",
              " [46.2, 0.06666666666666667],\n",
              " [45.0, 0.06666666666666667],\n",
              " [43.46666666666666, 0.0],\n",
              " [41.333333333333336, 0.0],\n",
              " [38.93333333333333, 0.0],\n",
              " [34.53333333333333, 0.0],\n",
              " [34.53333333333333, 0.0],\n",
              " [33.666666666666664, 0.0],\n",
              " [33.13333333333333, 0.0],\n",
              " [32.33333333333333, 0.0],\n",
              " [31.066666666666663, 0.0],\n",
              " [29.4, 0.0],\n",
              " [27.73333333333333, 0.0],\n",
              " [26.200000000000003, 0.0],\n",
              " [23.200000000000003, 0.0],\n",
              " [19.2, 0.0],\n",
              " [19.2, 0.0],\n",
              " [18.46666666666667, 0.0],\n",
              " [17.4, 0.0],\n",
              " [16.666666666666664, 0.0],\n",
              " [16.133333333333333, 0.0],\n",
              " [15.133333333333333, 0.0],\n",
              " [14.133333333333335, 0.0],\n",
              " [12.8, 0.0],\n",
              " [10.866666666666665, 0.0],\n",
              " [7.3999999999999995, 0.0],\n",
              " [7.3999999999999995, 0.0],\n",
              " [6.6000000000000005, 0.0],\n",
              " [5.866666666666666, 0.0],\n",
              " [5.466666666666667, 0.0],\n",
              " [4.866666666666666, 0.0],\n",
              " [4.733333333333333, 0.0],\n",
              " [3.733333333333334, 0.0],\n",
              " [2.8000000000000003, 0.0],\n",
              " [1.9333333333333333, 0.0],\n",
              " [13.066666666666665, 0.0]]"
            ]
          },
          "metadata": {},
          "execution_count": 80
        }
      ]
    },
    {
      "cell_type": "code",
      "source": [
        "prediction_known = prediction_known_ensemble_1\n",
        "prediction_unknown = prediction_unknown_ensemble_1"
      ],
      "metadata": {
        "id": "hNLs0ue_8dxV"
      },
      "execution_count": null,
      "outputs": []
    },
    {
      "cell_type": "code",
      "source": [
        "aligned_array = [element for row in prediction_unknown for element in row]\n",
        "max_value = max(aligned_array)\n",
        "\n",
        "print(\"The maximum value in the aligned array is:\", max_value)\n"
      ],
      "metadata": {
        "colab": {
          "base_uri": "https://localhost:8080/"
        },
        "outputId": "d2feae3d-aaf2-4389-8d23-69157fd10a2e",
        "id": "vXYfZZRo8m2p"
      },
      "execution_count": null,
      "outputs": [
        {
          "output_type": "stream",
          "name": "stdout",
          "text": [
            "The maximum value in the aligned array is: 0.99998504\n"
          ]
        }
      ]
    },
    {
      "cell_type": "code",
      "source": [
        "thresholding(max_value)"
      ],
      "metadata": {
        "colab": {
          "base_uri": "https://localhost:8080/"
        },
        "outputId": "8ba66dc8-657b-4269-cc39-5e2e85c0359e",
        "id": "f8E8IrWW8m2q"
      },
      "execution_count": null,
      "outputs": [
        {
          "output_type": "execute_result",
          "data": {
            "text/plain": [
              "0.11"
            ]
          },
          "metadata": {},
          "execution_count": 42
        }
      ]
    },
    {
      "cell_type": "code",
      "source": [
        "dontknow(max_value)"
      ],
      "metadata": {
        "colab": {
          "base_uri": "https://localhost:8080/"
        },
        "outputId": "754e37b6-8b77-4a98-d444-aa550953054b",
        "id": "tWY48CtN8m2r"
      },
      "execution_count": null,
      "outputs": [
        {
          "output_type": "execute_result",
          "data": {
            "text/plain": [
              "0.89"
            ]
          },
          "metadata": {},
          "execution_count": 43
        }
      ]
    },
    {
      "cell_type": "code",
      "source": [
        "misclassifyunknown(max_value)"
      ],
      "metadata": {
        "colab": {
          "base_uri": "https://localhost:8080/"
        },
        "outputId": "9ae276b9-cfca-454c-e2c7-7ee70e823aba",
        "id": "k1ao5mRp8m2r"
      },
      "execution_count": null,
      "outputs": [
        {
          "output_type": "execute_result",
          "data": {
            "text/plain": [
              "0.0"
            ]
          },
          "metadata": {},
          "execution_count": 44
        }
      ]
    },
    {
      "cell_type": "code",
      "source": [
        "false_identify(max_value)"
      ],
      "metadata": {
        "colab": {
          "base_uri": "https://localhost:8080/"
        },
        "outputId": "102fe512-d97a-4661-b708-d446ee18c882",
        "id": "2yytYmgw8m2s"
      },
      "execution_count": null,
      "outputs": [
        {
          "output_type": "execute_result",
          "data": {
            "text/plain": [
              "0.0"
            ]
          },
          "metadata": {},
          "execution_count": 45
        }
      ]
    },
    {
      "cell_type": "markdown",
      "source": [
        "# Class-adaptive threshold"
      ],
      "metadata": {
        "id": "astEHCwEWNFf"
      }
    },
    {
      "cell_type": "markdown",
      "source": [
        "# Run #1"
      ],
      "metadata": {
        "id": "mgZEtA56usFB"
      }
    },
    {
      "cell_type": "code",
      "source": [
        "prediction_known = prediction_known_ensemble_1\n",
        "prediction_unknown = prediction_unknown_ensemble_1"
      ],
      "metadata": {
        "id": "EEg9x6-vurgQ"
      },
      "execution_count": null,
      "outputs": []
    },
    {
      "cell_type": "code",
      "source": [
        "ThresholdNeverSeenBefores = []\n",
        "for i in range(15):\n",
        "  ThresholdNeverSeenBefores.append(np.max(prediction_unknown[:,i]))"
      ],
      "metadata": {
        "id": "8Tyc8FzcWUk-"
      },
      "execution_count": null,
      "outputs": []
    },
    {
      "cell_type": "code",
      "source": [
        "C_count0 = 0\n",
        "for i in range(100):\n",
        "  if prediction_known[i,0] > ThresholdNeverSeenBefores[0] and np.argmax(prediction_known[i]) == 0:\n",
        "    C_count0 += 1\n",
        "  else:\n",
        "    C_count0 += 0\n",
        "C_count0"
      ],
      "metadata": {
        "colab": {
          "base_uri": "https://localhost:8080/"
        },
        "id": "rp_hvYS9WP6J",
        "outputId": "02595331-a651-41e2-b382-0e829512522d"
      },
      "execution_count": null,
      "outputs": [
        {
          "output_type": "execute_result",
          "data": {
            "text/plain": [
              "5"
            ]
          },
          "metadata": {},
          "execution_count": 83
        }
      ]
    },
    {
      "cell_type": "code",
      "source": [
        "mistake0 = 0\n",
        "for i in range(100):\n",
        "  if np.argmax(prediction_known[i]) != 0 and max(prediction_known[i]) > ThresholdNeverSeenBefores[np.argmax(prediction_known[i])]:\n",
        "    mistake0 += 1\n",
        "    print(i)\n",
        "  else:\n",
        "    mistake0 += 0\n",
        "mistake0\n",
        "print(\"Number of mistakes in this class:\",mistake0)"
      ],
      "metadata": {
        "colab": {
          "base_uri": "https://localhost:8080/"
        },
        "id": "zAu3K9nEWP8P",
        "outputId": "7d51fdb4-5a08-427e-be59-aa33fac33ada"
      },
      "execution_count": null,
      "outputs": [
        {
          "output_type": "stream",
          "name": "stdout",
          "text": [
            "54\n",
            "Number of mistakes in this class: 1\n"
          ]
        }
      ]
    },
    {
      "cell_type": "code",
      "source": [
        "ThresholdNeverSeenBefores[np.argmax(prediction_known[54])] = max(prediction_known[54])"
      ],
      "metadata": {
        "id": "h96HojxCHehb"
      },
      "execution_count": null,
      "outputs": []
    },
    {
      "cell_type": "code",
      "source": [
        "mistake0 = 0\n",
        "for i in range(100):\n",
        "  if np.argmax(prediction_known[i]) != 0 and max(prediction_known[i]) > ThresholdNeverSeenBefores[np.argmax(prediction_known[i])]:\n",
        "    mistake0 += 1\n",
        "    print(i)\n",
        "  else:\n",
        "    mistake0 += 0\n",
        "mistake0\n",
        "print(\"Number of mistakes in this class:\",mistake0)"
      ],
      "metadata": {
        "colab": {
          "base_uri": "https://localhost:8080/"
        },
        "id": "W_ZDnJclHhKD",
        "outputId": "264052c3-c6a8-4038-8aab-f3c689e897ad"
      },
      "execution_count": null,
      "outputs": [
        {
          "output_type": "stream",
          "name": "stdout",
          "text": [
            "Number of mistakes in this class: 0\n"
          ]
        }
      ]
    },
    {
      "cell_type": "code",
      "source": [
        "C_count1 = 0\n",
        "for i in range(100):\n",
        "  if prediction_known[100 + i,1] > ThresholdNeverSeenBefores[1] and np.argmax(prediction_known[100 + i]) == 1:\n",
        "    C_count1 += 1\n",
        "  else:\n",
        "    C_count1 += 0\n",
        "C_count1"
      ],
      "metadata": {
        "colab": {
          "base_uri": "https://localhost:8080/"
        },
        "id": "hHzot9WdXkC7",
        "outputId": "1ae4a601-b8ee-4818-8ab0-fb7a631879fb"
      },
      "execution_count": null,
      "outputs": [
        {
          "output_type": "execute_result",
          "data": {
            "text/plain": [
              "75"
            ]
          },
          "metadata": {},
          "execution_count": 87
        }
      ]
    },
    {
      "cell_type": "code",
      "source": [
        "mistake1 = 0\n",
        "for i in range(100):\n",
        "  if np.argmax(prediction_known[100 + i]) != 1 and max(prediction_known[100 + i]) > ThresholdNeverSeenBefores[np.argmax(prediction_known[100 + i])]:\n",
        "    mistake1 += 1\n",
        "    print(100 + i)\n",
        "  else:\n",
        "    mistake1 += 0\n",
        "mistake1\n",
        "print(\"Number of mistakes in this class:\",mistake1)"
      ],
      "metadata": {
        "colab": {
          "base_uri": "https://localhost:8080/"
        },
        "id": "h4RVufLtXkAR",
        "outputId": "0eaa5a94-1ad8-49bd-d5ff-25a547e38e47"
      },
      "execution_count": null,
      "outputs": [
        {
          "output_type": "stream",
          "name": "stdout",
          "text": [
            "144\n",
            "Number of mistakes in this class: 1\n"
          ]
        }
      ]
    },
    {
      "cell_type": "code",
      "source": [
        "ThresholdNeverSeenBefores[np.argmax(prediction_known[144])] = max(prediction_known[144])"
      ],
      "metadata": {
        "id": "9xZ6sVoHNNI0"
      },
      "execution_count": null,
      "outputs": []
    },
    {
      "cell_type": "code",
      "source": [
        "mistake1 = 0\n",
        "for i in range(100):\n",
        "  if np.argmax(prediction_known[100 + i]) != 1 and max(prediction_known[100 + i]) > ThresholdNeverSeenBefores[np.argmax(prediction_known[100 + i])]:\n",
        "    mistake1 += 1\n",
        "    print(100 + i)\n",
        "  else:\n",
        "    mistake1 += 0\n",
        "mistake1\n",
        "print(\"Number of mistakes in this class:\",mistake1)"
      ],
      "metadata": {
        "colab": {
          "base_uri": "https://localhost:8080/"
        },
        "id": "RG9PHsHdNQdK",
        "outputId": "97e8f4fa-8188-4edb-8f2b-a9e38594c23c"
      },
      "execution_count": null,
      "outputs": [
        {
          "output_type": "stream",
          "name": "stdout",
          "text": [
            "Number of mistakes in this class: 0\n"
          ]
        }
      ]
    },
    {
      "cell_type": "code",
      "source": [
        "C_count2 = 0\n",
        "for i in range(100):\n",
        "  if prediction_known[200 + i,2] > ThresholdNeverSeenBefores[2] and np.argmax(prediction_known[200 + i]) == 2:\n",
        "    C_count2 += 1\n",
        "  else:\n",
        "    C_count2 += 0\n",
        "C_count2"
      ],
      "metadata": {
        "colab": {
          "base_uri": "https://localhost:8080/"
        },
        "id": "vmmpoficmsIo",
        "outputId": "917a6064-d6b4-4b35-ba71-709f17050685"
      },
      "execution_count": null,
      "outputs": [
        {
          "output_type": "execute_result",
          "data": {
            "text/plain": [
              "12"
            ]
          },
          "metadata": {},
          "execution_count": 91
        }
      ]
    },
    {
      "cell_type": "code",
      "source": [
        "mistake2 = 0\n",
        "for i in range(100):\n",
        "  if np.argmax(prediction_known[200 + i]) != 2 and max(prediction_known[200 + i]) > ThresholdNeverSeenBefores[np.argmax(prediction_known[200 + i])]:\n",
        "    mistake2 += 1\n",
        "    print(200 + i)\n",
        "  else:\n",
        "    mistake2 += 0\n",
        "mistake2\n",
        "print(\"Number of mistakes in this class:\",mistake2)"
      ],
      "metadata": {
        "colab": {
          "base_uri": "https://localhost:8080/"
        },
        "id": "JTiQq-WKmsMB",
        "outputId": "1524a4e9-5206-441b-dad2-77bee8d08b11"
      },
      "execution_count": null,
      "outputs": [
        {
          "output_type": "stream",
          "name": "stdout",
          "text": [
            "216\n",
            "296\n",
            "Number of mistakes in this class: 2\n"
          ]
        }
      ]
    },
    {
      "cell_type": "code",
      "source": [
        "ThresholdNeverSeenBefores[np.argmax(prediction_known[296])] = max(prediction_known[296])"
      ],
      "metadata": {
        "id": "4aFRPrpgYBvw"
      },
      "execution_count": null,
      "outputs": []
    },
    {
      "cell_type": "code",
      "source": [
        "mistake2 = 0\n",
        "for i in range(100):\n",
        "  if np.argmax(prediction_known[200 + i]) != 2 and max(prediction_known[200 + i]) > ThresholdNeverSeenBefores[np.argmax(prediction_known[200 + i])]:\n",
        "    mistake2 += 1\n",
        "    print(200 + i)\n",
        "  else:\n",
        "    mistake2 += 0\n",
        "mistake2\n",
        "print(\"Number of mistakes in this class:\",mistake2)"
      ],
      "metadata": {
        "colab": {
          "base_uri": "https://localhost:8080/"
        },
        "id": "kUKnvmBgYEqc",
        "outputId": "472aa296-0272-4abe-c000-698936dd62d7"
      },
      "execution_count": null,
      "outputs": [
        {
          "output_type": "stream",
          "name": "stdout",
          "text": [
            "Number of mistakes in this class: 0\n"
          ]
        }
      ]
    },
    {
      "cell_type": "code",
      "source": [
        "C_count3 = 0\n",
        "for i in range(100):\n",
        "  if prediction_known[300 + i,3] > ThresholdNeverSeenBefores[3] and np.argmax(prediction_known[300 + i]) == 3:\n",
        "    C_count3 += 1\n",
        "  else:\n",
        "    C_count3 += 0\n",
        "C_count3"
      ],
      "metadata": {
        "colab": {
          "base_uri": "https://localhost:8080/"
        },
        "id": "gsNwlMBAmsN3",
        "outputId": "269b82c7-fe60-4d6d-b8f9-844db78b0bdc"
      },
      "execution_count": null,
      "outputs": [
        {
          "output_type": "execute_result",
          "data": {
            "text/plain": [
              "94"
            ]
          },
          "metadata": {},
          "execution_count": 98
        }
      ]
    },
    {
      "cell_type": "code",
      "source": [
        "mistake3 = 0\n",
        "for i in range(100):\n",
        "  if np.argmax(prediction_known[300 + i]) != 3 and max(prediction_known[300 + i]) > ThresholdNeverSeenBefores[np.argmax(prediction_known[300 + i])]:\n",
        "    mistake3 += 1\n",
        "    print(300 + i)\n",
        "  else:\n",
        "    mistake3 += 0\n",
        "mistake3\n",
        "print(\"Number of mistakes in this class:\",mistake3)"
      ],
      "metadata": {
        "colab": {
          "base_uri": "https://localhost:8080/"
        },
        "id": "HP9oRkpvmsPv",
        "outputId": "ea846493-2f22-4dc2-ea5b-5f4f05f8babf"
      },
      "execution_count": null,
      "outputs": [
        {
          "output_type": "stream",
          "name": "stdout",
          "text": [
            "Number of mistakes in this class: 0\n"
          ]
        }
      ]
    },
    {
      "cell_type": "code",
      "source": [],
      "metadata": {
        "id": "zZHwm4MgHsot"
      },
      "execution_count": null,
      "outputs": []
    },
    {
      "cell_type": "code",
      "source": [
        "C_count4 = 0\n",
        "for i in range(100):\n",
        "  if prediction_known[400 + i,4] > ThresholdNeverSeenBefores[4] and np.argmax(prediction_known[400 + i]) == 4:\n",
        "    C_count4 += 1\n",
        "  else:\n",
        "    C_count4 += 0\n",
        "C_count4"
      ],
      "metadata": {
        "colab": {
          "base_uri": "https://localhost:8080/"
        },
        "id": "qGdmlHmUmsSi",
        "outputId": "ca82ae7d-48eb-4c9c-c809-8e242ac9e28a"
      },
      "execution_count": null,
      "outputs": [
        {
          "output_type": "execute_result",
          "data": {
            "text/plain": [
              "98"
            ]
          },
          "metadata": {},
          "execution_count": 100
        }
      ]
    },
    {
      "cell_type": "code",
      "source": [
        "mistake4 = 0\n",
        "for i in range(100):\n",
        "  if np.argmax(prediction_known[400 + i]) != 4 and max(prediction_known[400 + i]) > ThresholdNeverSeenBefores[np.argmax(prediction_known[400 + i])]:\n",
        "    mistake4 += 1\n",
        "    print(400 + i)\n",
        "  else:\n",
        "    mistake4 += 0\n",
        "print(\"Number of mistakes in this class:\",mistake4)"
      ],
      "metadata": {
        "colab": {
          "base_uri": "https://localhost:8080/"
        },
        "id": "RTXAEphBmsU_",
        "outputId": "ef134b7f-d3a6-4a28-e7e8-1e000ed21dd9"
      },
      "execution_count": null,
      "outputs": [
        {
          "output_type": "stream",
          "name": "stdout",
          "text": [
            "Number of mistakes in this class: 0\n"
          ]
        }
      ]
    },
    {
      "cell_type": "code",
      "source": [
        "C_count5 = 0\n",
        "for i in range(100):\n",
        "  if prediction_known[500 + i,5] > ThresholdNeverSeenBefores[5] and np.argmax(prediction_known[500 + i]) == 5:\n",
        "    C_count5 += 1\n",
        "  else:\n",
        "    C_count5 += 0\n",
        "C_count5"
      ],
      "metadata": {
        "colab": {
          "base_uri": "https://localhost:8080/"
        },
        "id": "bwuWW0SkqIB_",
        "outputId": "19768709-080e-4d1e-9141-5b0796486a87"
      },
      "execution_count": null,
      "outputs": [
        {
          "output_type": "execute_result",
          "data": {
            "text/plain": [
              "83"
            ]
          },
          "metadata": {},
          "execution_count": 102
        }
      ]
    },
    {
      "cell_type": "code",
      "source": [
        "mistake5 = 0\n",
        "for i in range(100):\n",
        "  if np.argmax(prediction_known[500 + i]) != 5 and max(prediction_known[500 + i]) > ThresholdNeverSeenBefores[np.argmax(prediction_known[500 + i])]:\n",
        "    mistake5 += 1\n",
        "    print(500 + i)\n",
        "  else:\n",
        "    mistake5 += 0\n",
        "print(\"Number of mistakes in this class:\",mistake5)"
      ],
      "metadata": {
        "colab": {
          "base_uri": "https://localhost:8080/"
        },
        "id": "yMRqQVgIqKWx",
        "outputId": "64eef8d1-1144-4e44-d193-c18f4e32d275"
      },
      "execution_count": null,
      "outputs": [
        {
          "output_type": "stream",
          "name": "stdout",
          "text": [
            "501\n",
            "509\n",
            "515\n",
            "518\n",
            "524\n",
            "526\n",
            "533\n",
            "535\n",
            "540\n",
            "553\n",
            "559\n",
            "560\n",
            "566\n",
            "570\n",
            "572\n",
            "579\n",
            "586\n",
            "Number of mistakes in this class: 17\n"
          ]
        }
      ]
    },
    {
      "cell_type": "code",
      "source": [
        "ThresholdNeverSeenBefores[np.argmax(prediction_known[533])] = max(prediction_known[533])"
      ],
      "metadata": {
        "id": "Ou__73QO_ama"
      },
      "execution_count": null,
      "outputs": []
    },
    {
      "cell_type": "code",
      "source": [
        "mistake5 = 0\n",
        "for i in range(100):\n",
        "  if np.argmax(prediction_known[500 + i]) != 5 and max(prediction_known[500 + i]) > ThresholdNeverSeenBefores[np.argmax(prediction_known[500 + i])]:\n",
        "    mistake5 += 1\n",
        "    print(500 + i)\n",
        "  else:\n",
        "    mistake5 += 0\n",
        "print(\"Number of mistakes in this class:\",mistake5)"
      ],
      "metadata": {
        "colab": {
          "base_uri": "https://localhost:8080/"
        },
        "id": "Z0O28Ykk_eBN",
        "outputId": "f90ad6cd-8212-4f12-e2fc-b164a9bb829c"
      },
      "execution_count": null,
      "outputs": [
        {
          "output_type": "stream",
          "name": "stdout",
          "text": [
            "Number of mistakes in this class: 0\n"
          ]
        }
      ]
    },
    {
      "cell_type": "code",
      "source": [
        "C_count6 = 0\n",
        "for i in range(100):\n",
        "  if prediction_known[600 + i,6] > ThresholdNeverSeenBefores[6] and np.argmax(prediction_known[600 + i]) == 6:\n",
        "    C_count6 += 1\n",
        "  else:\n",
        "    C_count6 += 0\n",
        "C_count6"
      ],
      "metadata": {
        "colab": {
          "base_uri": "https://localhost:8080/"
        },
        "id": "GJt2-_RjqhZM",
        "outputId": "6d11002b-5854-421b-d0d6-46fb9e6a1d66"
      },
      "execution_count": null,
      "outputs": [
        {
          "output_type": "execute_result",
          "data": {
            "text/plain": [
              "76"
            ]
          },
          "metadata": {},
          "execution_count": 106
        }
      ]
    },
    {
      "cell_type": "code",
      "source": [
        "mistake6 = 0\n",
        "for i in range(100):\n",
        "  if np.argmax(prediction_known[600 + i]) != 6 and max(prediction_known[600 + i]) > ThresholdNeverSeenBefores[np.argmax(prediction_known[600 + i])]:\n",
        "    mistake6 += 1\n",
        "    print(600 + i)\n",
        "  else:\n",
        "    mistake6 += 0\n",
        "print(\"Number of mistakes in this class:\",mistake6)"
      ],
      "metadata": {
        "colab": {
          "base_uri": "https://localhost:8080/"
        },
        "id": "bJ0sklVOqhbU",
        "outputId": "1b3239c2-f816-4ed0-d58d-61a64a2a5113"
      },
      "execution_count": null,
      "outputs": [
        {
          "output_type": "stream",
          "name": "stdout",
          "text": [
            "607\n",
            "609\n",
            "610\n",
            "627\n",
            "639\n",
            "648\n",
            "658\n",
            "670\n",
            "688\n",
            "690\n",
            "696\n",
            "Number of mistakes in this class: 11\n"
          ]
        }
      ]
    },
    {
      "cell_type": "code",
      "source": [
        "ThresholdNeverSeenBefores[np.argmax(prediction_known[610])] = max(prediction_known[610])"
      ],
      "metadata": {
        "id": "46R_9FV_Nv0u"
      },
      "execution_count": null,
      "outputs": []
    },
    {
      "cell_type": "code",
      "source": [
        "mistake6 = 0\n",
        "for i in range(100):\n",
        "  if np.argmax(prediction_known[600 + i]) != 6 and max(prediction_known[600 + i]) > ThresholdNeverSeenBefores[np.argmax(prediction_known[600 + i])]:\n",
        "    mistake6 += 1\n",
        "    print(600 + i)\n",
        "  else:\n",
        "    mistake6 += 0\n",
        "print(\"Number of mistakes in this class:\",mistake6)"
      ],
      "metadata": {
        "colab": {
          "base_uri": "https://localhost:8080/"
        },
        "id": "XRmK5EjkN0bY",
        "outputId": "8dd52938-a802-4a1c-cd1c-0c2fc39c0def"
      },
      "execution_count": null,
      "outputs": [
        {
          "output_type": "stream",
          "name": "stdout",
          "text": [
            "Number of mistakes in this class: 0\n"
          ]
        }
      ]
    },
    {
      "cell_type": "code",
      "source": [
        "C_count7 = 0\n",
        "for i in range(100):\n",
        "  if prediction_known[700 + i,7] > ThresholdNeverSeenBefores[7]  and np.argmax(prediction_known[700 + i]) == 7:\n",
        "    C_count7 += 1\n",
        "  else:\n",
        "    C_count7 += 0\n",
        "C_count7"
      ],
      "metadata": {
        "colab": {
          "base_uri": "https://localhost:8080/"
        },
        "id": "WMsrIQt1qhe2",
        "outputId": "da9bef05-c9c8-45c3-be71-b25c4dce3967"
      },
      "execution_count": null,
      "outputs": [
        {
          "output_type": "execute_result",
          "data": {
            "text/plain": [
              "58"
            ]
          },
          "metadata": {},
          "execution_count": 114
        }
      ]
    },
    {
      "cell_type": "code",
      "source": [
        "mistake7 = 0\n",
        "for i in range(100):\n",
        "  if np.argmax(prediction_known[700 + i]) != 7 and max(prediction_known[700 + i]) > ThresholdNeverSeenBefores[np.argmax(prediction_known[700 + i])]:\n",
        "    mistake7 += 1\n",
        "    print(700 + i)\n",
        "  else:\n",
        "    mistake7 += 0\n",
        "print(\"Number of mistakes in this class:\",mistake7)"
      ],
      "metadata": {
        "colab": {
          "base_uri": "https://localhost:8080/"
        },
        "id": "gau4TuhUqhiG",
        "outputId": "9e11a813-d5db-42de-da6e-61d786095672"
      },
      "execution_count": null,
      "outputs": [
        {
          "output_type": "stream",
          "name": "stdout",
          "text": [
            "795\n",
            "Number of mistakes in this class: 1\n"
          ]
        }
      ]
    },
    {
      "cell_type": "code",
      "source": [
        "ThresholdNeverSeenBefores[np.argmax(prediction_known[795])] = max(prediction_known[795])"
      ],
      "metadata": {
        "id": "mNKl-3Jn_tjH"
      },
      "execution_count": null,
      "outputs": []
    },
    {
      "cell_type": "code",
      "source": [
        "mistake7 = 0\n",
        "for i in range(100):\n",
        "  if np.argmax(prediction_known[700 + i]) != 7 and max(prediction_known[700 + i]) > ThresholdNeverSeenBefores[np.argmax(prediction_known[700 + i])]:\n",
        "    mistake7 += 1\n",
        "    print(700 + i)\n",
        "  else:\n",
        "    mistake7 += 0\n",
        "print(\"Number of mistakes in this class:\",mistake7)"
      ],
      "metadata": {
        "colab": {
          "base_uri": "https://localhost:8080/"
        },
        "id": "C3FdwIwH_woe",
        "outputId": "10637dab-bb0f-4bb6-b826-19e7771af157"
      },
      "execution_count": null,
      "outputs": [
        {
          "output_type": "stream",
          "name": "stdout",
          "text": [
            "Number of mistakes in this class: 0\n"
          ]
        }
      ]
    },
    {
      "cell_type": "code",
      "source": [
        "C_count8 = 0\n",
        "for i in range(100):\n",
        "  if prediction_known[800 + i,8] > ThresholdNeverSeenBefores[8] and np.argmax(prediction_known[800 + i]) == 8:\n",
        "    C_count8 += 1\n",
        "  else:\n",
        "    C_count8 += 0\n",
        "C_count8"
      ],
      "metadata": {
        "colab": {
          "base_uri": "https://localhost:8080/"
        },
        "id": "Zyufo5sUqhkP",
        "outputId": "c0b8549d-cf23-42d1-882a-6bdc13f44e0f"
      },
      "execution_count": null,
      "outputs": [
        {
          "output_type": "execute_result",
          "data": {
            "text/plain": [
              "90"
            ]
          },
          "metadata": {},
          "execution_count": 118
        }
      ]
    },
    {
      "cell_type": "code",
      "source": [
        "mistake8 = 0\n",
        "for i in range(100):\n",
        "  if np.argmax(prediction_known[800 + i]) != 8 and max(prediction_known[800 + i]) > ThresholdNeverSeenBefores[np.argmax(prediction_known[800 + i])]:\n",
        "    mistake8 += 1\n",
        "    print(800 + i)\n",
        "  else:\n",
        "    mistake8 += 0\n",
        "print(\"Number of mistakes in this class:\",mistake8)"
      ],
      "metadata": {
        "colab": {
          "base_uri": "https://localhost:8080/"
        },
        "id": "aqBpRvSWqhnj",
        "outputId": "c42bec32-5d99-478e-800c-406ab8e90984"
      },
      "execution_count": null,
      "outputs": [
        {
          "output_type": "stream",
          "name": "stdout",
          "text": [
            "Number of mistakes in this class: 0\n"
          ]
        }
      ]
    },
    {
      "cell_type": "code",
      "source": [
        "C_count9 = 0\n",
        "for i in range(100):\n",
        "  if prediction_known[900 + i,9] > ThresholdNeverSeenBefores[9] and np.argmax(prediction_known[900 + i]) == 9:\n",
        "    C_count9 += 1\n",
        "  else:\n",
        "    C_count9 += 0\n",
        "C_count9"
      ],
      "metadata": {
        "colab": {
          "base_uri": "https://localhost:8080/"
        },
        "id": "UbQcIVdBqhpv",
        "outputId": "1adb02f8-8cf1-4abd-c000-5d98d20533d3"
      },
      "execution_count": null,
      "outputs": [
        {
          "output_type": "execute_result",
          "data": {
            "text/plain": [
              "9"
            ]
          },
          "metadata": {},
          "execution_count": 121
        }
      ]
    },
    {
      "cell_type": "code",
      "source": [
        "mistake9 = 0\n",
        "for i in range(100):\n",
        "  if np.argmax(prediction_known[900 + i]) != 9 and max(prediction_known[900 + i]) > ThresholdNeverSeenBefores[np.argmax(prediction_known[900 + i])]:\n",
        "    mistake9 += 1\n",
        "    print(900 + i)\n",
        "  else:\n",
        "    mistake9 += 0\n",
        "print(\"Number of mistakes in this class:\",mistake9)"
      ],
      "metadata": {
        "colab": {
          "base_uri": "https://localhost:8080/"
        },
        "id": "o6TeE6FjrOKT",
        "outputId": "75f662ba-a11f-4c78-b429-af70c39b4417"
      },
      "execution_count": null,
      "outputs": [
        {
          "output_type": "stream",
          "name": "stdout",
          "text": [
            "911\n",
            "Number of mistakes in this class: 1\n"
          ]
        }
      ]
    },
    {
      "cell_type": "code",
      "source": [
        "ThresholdNeverSeenBefores[np.argmax(prediction_known[911])] = max(prediction_known[911])"
      ],
      "metadata": {
        "id": "PnFm1728FZVS"
      },
      "execution_count": null,
      "outputs": []
    },
    {
      "cell_type": "code",
      "source": [
        "mistake9 = 0\n",
        "for i in range(100):\n",
        "  if np.argmax(prediction_known[900 + i]) != 9 and max(prediction_known[900 + i]) > ThresholdNeverSeenBefores[np.argmax(prediction_known[900 + i])]:\n",
        "    mistake9 += 1\n",
        "    print(900 + i)\n",
        "  else:\n",
        "    mistake9 += 0\n",
        "print(\"Number of mistakes in this class:\",mistake9)"
      ],
      "metadata": {
        "colab": {
          "base_uri": "https://localhost:8080/"
        },
        "id": "UP0Inn9BThID",
        "outputId": "f6e02247-8c2d-4be7-ef0f-8397135aadf8"
      },
      "execution_count": null,
      "outputs": [
        {
          "output_type": "stream",
          "name": "stdout",
          "text": [
            "Number of mistakes in this class: 0\n"
          ]
        }
      ]
    },
    {
      "cell_type": "code",
      "source": [
        "C_count10 = 0\n",
        "for i in range(100):\n",
        "  if prediction_known[i + 10*100,10] > ThresholdNeverSeenBefores[10] and np.argmax(prediction_known[i + 10*100]) == 10:\n",
        "    C_count10 += 1\n",
        "  else:\n",
        "    C_count10 += 0\n",
        "C_count10"
      ],
      "metadata": {
        "colab": {
          "base_uri": "https://localhost:8080/"
        },
        "id": "RfyOeyVNONgV",
        "outputId": "4bc8eb3e-b9ef-41a9-fea1-936b1f33e374"
      },
      "execution_count": null,
      "outputs": [
        {
          "output_type": "execute_result",
          "data": {
            "text/plain": [
              "45"
            ]
          },
          "metadata": {},
          "execution_count": 125
        }
      ]
    },
    {
      "cell_type": "code",
      "source": [
        "mistake10 = 0\n",
        "for i in range(100):\n",
        "  if np.argmax(prediction_known[1000 + i]) != 10 and max(prediction_known[1000 + i]) > ThresholdNeverSeenBefores[np.argmax(prediction_known[1000 + i])]:\n",
        "    mistake10 += 1\n",
        "    print(1000 + i)\n",
        "  else:\n",
        "    mistake10 += 0\n",
        "print(\"Number of mistakes in this class:\",mistake10)"
      ],
      "metadata": {
        "colab": {
          "base_uri": "https://localhost:8080/"
        },
        "id": "Ekt_bBxvONcA",
        "outputId": "83d6222d-ebc1-4508-e5df-2e86a6b972f4"
      },
      "execution_count": null,
      "outputs": [
        {
          "output_type": "stream",
          "name": "stdout",
          "text": [
            "1018\n",
            "Number of mistakes in this class: 1\n"
          ]
        }
      ]
    },
    {
      "cell_type": "code",
      "source": [
        "ThresholdNeverSeenBefores[np.argmax(prediction_known[1018])] = max(prediction_known[1018])"
      ],
      "metadata": {
        "id": "NmpWcpTtYdnL"
      },
      "execution_count": null,
      "outputs": []
    },
    {
      "cell_type": "code",
      "source": [
        "mistake10 = 0\n",
        "for i in range(100):\n",
        "  if np.argmax(prediction_known[1000 + i]) != 10 and max(prediction_known[1000 + i]) > ThresholdNeverSeenBefores[np.argmax(prediction_known[1000 + i])]:\n",
        "    mistake10 += 1\n",
        "    print(1000 + i)\n",
        "  else:\n",
        "    mistake10 += 0\n",
        "print(\"Number of mistakes in this class:\",mistake10)"
      ],
      "metadata": {
        "colab": {
          "base_uri": "https://localhost:8080/"
        },
        "id": "WIUrNovcYkuH",
        "outputId": "93e1c435-0117-49bf-f267-a8d6509f48a2"
      },
      "execution_count": null,
      "outputs": [
        {
          "output_type": "stream",
          "name": "stdout",
          "text": [
            "Number of mistakes in this class: 0\n"
          ]
        }
      ]
    },
    {
      "cell_type": "code",
      "source": [
        "C_count11 = 0\n",
        "for i in range(100):\n",
        "  if prediction_known[i + 11*100,11] > ThresholdNeverSeenBefores[11] and np.argmax(prediction_known[i + 11*100]) == 11:\n",
        "    C_count11 += 1\n",
        "  else:\n",
        "    C_count11 += 0\n",
        "C_count11"
      ],
      "metadata": {
        "colab": {
          "base_uri": "https://localhost:8080/"
        },
        "id": "j6byw4L6ONjQ",
        "outputId": "749ab8a9-c1a2-43b2-bfb3-10ebc50e9c9c"
      },
      "execution_count": null,
      "outputs": [
        {
          "output_type": "execute_result",
          "data": {
            "text/plain": [
              "41"
            ]
          },
          "metadata": {},
          "execution_count": 129
        }
      ]
    },
    {
      "cell_type": "code",
      "source": [
        "mistake11 = 0\n",
        "for i in range(100):\n",
        "  if np.argmax(prediction_known[1100 + i]) != 11 and max(prediction_known[1100 + i]) > ThresholdNeverSeenBefores[np.argmax(prediction_known[1100 + i])]:\n",
        "    mistake11 += 1\n",
        "    print(1100 + i)\n",
        "  else:\n",
        "    mistake11 += 0\n",
        "print(\"Number of mistakes in this class:\",mistake11)"
      ],
      "metadata": {
        "colab": {
          "base_uri": "https://localhost:8080/"
        },
        "id": "XTo9fjq0ONn7",
        "outputId": "a04e7610-ad35-4916-a9bf-bfd8db13afa4"
      },
      "execution_count": null,
      "outputs": [
        {
          "output_type": "stream",
          "name": "stdout",
          "text": [
            "1117\n",
            "Number of mistakes in this class: 1\n"
          ]
        }
      ]
    },
    {
      "cell_type": "code",
      "source": [
        "ThresholdNeverSeenBefores[np.argmax(prediction_known[1117])] = max(prediction_known[1117])"
      ],
      "metadata": {
        "id": "yxdzerfO_4A8"
      },
      "execution_count": null,
      "outputs": []
    },
    {
      "cell_type": "code",
      "source": [
        "mistake11 = 0\n",
        "for i in range(100):\n",
        "  if np.argmax(prediction_known[1100 + i]) != 11 and max(prediction_known[1100 + i]) > ThresholdNeverSeenBefores[np.argmax(prediction_known[1100 + i])]:\n",
        "    mistake11 += 1\n",
        "    print(1100 + i)\n",
        "  else:\n",
        "    mistake11 += 0\n",
        "print(\"Number of mistakes in this class:\",mistake11)"
      ],
      "metadata": {
        "colab": {
          "base_uri": "https://localhost:8080/"
        },
        "id": "VVJtVeqi_60F",
        "outputId": "fcb6c129-95b9-4e88-fd54-430e5dc4f2a2"
      },
      "execution_count": null,
      "outputs": [
        {
          "output_type": "stream",
          "name": "stdout",
          "text": [
            "Number of mistakes in this class: 0\n"
          ]
        }
      ]
    },
    {
      "cell_type": "code",
      "source": [
        "C_count12 = 0\n",
        "for i in range(100):\n",
        "  if prediction_known[i + 12*100,12] > ThresholdNeverSeenBefores[12] and np.argmax(prediction_known[i + 12*100]) == 12:\n",
        "    C_count12 += 1\n",
        "  else:\n",
        "    C_count12 += 0\n",
        "C_count12"
      ],
      "metadata": {
        "colab": {
          "base_uri": "https://localhost:8080/"
        },
        "id": "7ZEkgZKTQHnK",
        "outputId": "6503ce2b-67e4-4e4f-f19c-473cf086b94c"
      },
      "execution_count": null,
      "outputs": [
        {
          "output_type": "execute_result",
          "data": {
            "text/plain": [
              "55"
            ]
          },
          "metadata": {},
          "execution_count": 133
        }
      ]
    },
    {
      "cell_type": "code",
      "source": [
        "mistake12 = 0\n",
        "for i in range(100):\n",
        "  if np.argmax(prediction_known[1200 + i]) != 12 and max(prediction_known[1200 + i]) > ThresholdNeverSeenBefores[np.argmax(prediction_known[1200 + i])]:\n",
        "    mistake12 += 1\n",
        "    print(1200 + i)\n",
        "  else:\n",
        "    mistake12 += 0\n",
        "print(\"Number of mistakes in this class:\",mistake12)"
      ],
      "metadata": {
        "colab": {
          "base_uri": "https://localhost:8080/"
        },
        "id": "6B0SAhUMQHpb",
        "outputId": "6f93473a-e5d0-4f71-bd0e-a23c6706edf2"
      },
      "execution_count": null,
      "outputs": [
        {
          "output_type": "stream",
          "name": "stdout",
          "text": [
            "Number of mistakes in this class: 0\n"
          ]
        }
      ]
    },
    {
      "cell_type": "code",
      "source": [
        "C_count13 = 0\n",
        "for i in range(100):\n",
        "  if prediction_known[i + 13*100,13] > ThresholdNeverSeenBefores[13] and np.argmax(prediction_known[i + 13*100]) == 13:\n",
        "    C_count13 += 1\n",
        "  else:\n",
        "    C_count13 += 0\n",
        "C_count13"
      ],
      "metadata": {
        "colab": {
          "base_uri": "https://localhost:8080/"
        },
        "id": "sIpPnc7NQHtA",
        "outputId": "6942027c-e84a-4300-f4f7-e0c2ddd7007e"
      },
      "execution_count": null,
      "outputs": [
        {
          "output_type": "execute_result",
          "data": {
            "text/plain": [
              "99"
            ]
          },
          "metadata": {},
          "execution_count": 135
        }
      ]
    },
    {
      "cell_type": "code",
      "source": [
        "mistake13 = 0\n",
        "for i in range(100):\n",
        "  if np.argmax(prediction_known[1300 + i]) != 13 and max(prediction_known[1300 + i]) > ThresholdNeverSeenBefores[np.argmax(prediction_known[1300 + i])]:\n",
        "    mistake13 += 1\n",
        "    print(1300 + i)\n",
        "  else:\n",
        "    mistake13 += 0\n",
        "print(\"Number of mistakes in this class:\",mistake13)"
      ],
      "metadata": {
        "colab": {
          "base_uri": "https://localhost:8080/"
        },
        "id": "t-6dJoSlQHvl",
        "outputId": "26ea5127-96ba-4513-b585-4f75dfc00a6f"
      },
      "execution_count": null,
      "outputs": [
        {
          "output_type": "stream",
          "name": "stdout",
          "text": [
            "Number of mistakes in this class: 0\n"
          ]
        }
      ]
    },
    {
      "cell_type": "code",
      "source": [
        "C_count14 = 0\n",
        "for i in range(100):\n",
        "  if prediction_known[i + 14*100,14] > ThresholdNeverSeenBefores[14] and np.argmax(prediction_known[i + 14*100]) == 14:\n",
        "    C_count14 += 1\n",
        "  else:\n",
        "    C_count14 += 0\n",
        "C_count14"
      ],
      "metadata": {
        "colab": {
          "base_uri": "https://localhost:8080/"
        },
        "id": "ulMey8s2QHy6",
        "outputId": "5c2a0b69-c20e-41cd-ffd5-2c8bf140feed"
      },
      "execution_count": null,
      "outputs": [
        {
          "output_type": "execute_result",
          "data": {
            "text/plain": [
              "93"
            ]
          },
          "metadata": {},
          "execution_count": 137
        }
      ]
    },
    {
      "cell_type": "code",
      "source": [
        "mistake14 = 0\n",
        "for i in range(100):\n",
        "  if np.argmax(prediction_known[1400 + i]) != 14 and max(prediction_known[1400 + i]) > ThresholdNeverSeenBefores[np.argmax(prediction_known[1400 + i])]:\n",
        "    mistake14 += 1\n",
        "    print(1400 + i)\n",
        "  else:\n",
        "    mistake14 += 0\n",
        "print(\"Number of mistakes in this class:\",mistake14)"
      ],
      "metadata": {
        "colab": {
          "base_uri": "https://localhost:8080/"
        },
        "id": "N3rfjenwQH37",
        "outputId": "d03dfe87-c1d6-4957-a10b-dc867f6a023f"
      },
      "execution_count": null,
      "outputs": [
        {
          "output_type": "stream",
          "name": "stdout",
          "text": [
            "Number of mistakes in this class: 0\n"
          ]
        }
      ]
    },
    {
      "cell_type": "code",
      "source": [
        "mistake0 = 0\n",
        "for i in range(100):\n",
        "  if np.argmax(prediction_known[i]) != 0 and max(prediction_known[i]) > ThresholdNeverSeenBefores[np.argmax(prediction_known[i])]:\n",
        "    mistake0 += 1\n",
        "    print(i)\n",
        "  else:\n",
        "    mistake0 += 0\n",
        "\n",
        "mistake1 = 0\n",
        "for i in range(100):\n",
        "  if np.argmax(prediction_known[100 + i]) != 1 and max(prediction_known[100 + i]) > ThresholdNeverSeenBefores[np.argmax(prediction_known[100 + i])]:\n",
        "    mistake1 += 1\n",
        "    print(100 + i)\n",
        "  else:\n",
        "    mistake1 += 0\n",
        "\n",
        "mistake2 = 0\n",
        "for i in range(100):\n",
        "  if np.argmax(prediction_known[200 + i]) != 2 and max(prediction_known[200 + i]) > ThresholdNeverSeenBefores[np.argmax(prediction_known[200 + i])]:\n",
        "    mistake2 += 1\n",
        "    print(200 + i)\n",
        "  else:\n",
        "    mistake2 += 0\n",
        "\n",
        "mistake3 = 0\n",
        "for i in range(100):\n",
        "  if np.argmax(prediction_known[300 + i]) != 3 and max(prediction_known[300 + i]) > ThresholdNeverSeenBefores[np.argmax(prediction_known[300 + i])]:\n",
        "    mistake3 += 1\n",
        "    print(300 + i)\n",
        "  else:\n",
        "    mistake3 += 0\n",
        "\n",
        "mistake4 = 0\n",
        "for i in range(100):\n",
        "  if np.argmax(prediction_known[400 + i]) != 4 and max(prediction_known[400 + i]) > ThresholdNeverSeenBefores[np.argmax(prediction_known[400 + i])]:\n",
        "    mistake4 += 1\n",
        "    print(400 + i)\n",
        "  else:\n",
        "    mistake4 += 0\n",
        "\n",
        "mistake5 = 0\n",
        "for i in range(100):\n",
        "  if np.argmax(prediction_known[500 + i]) != 5 and max(prediction_known[500 + i]) > ThresholdNeverSeenBefores[np.argmax(prediction_known[500 + i])]:\n",
        "    mistake5 += 1\n",
        "    print(500 + i)\n",
        "  else:\n",
        "    mistake5 += 0\n",
        "\n",
        "mistake6 = 0\n",
        "for i in range(100):\n",
        "  if np.argmax(prediction_known[600 + i]) != 6 and max(prediction_known[600 + i]) > ThresholdNeverSeenBefores[np.argmax(prediction_known[600 + i])]:\n",
        "    mistake6 += 1\n",
        "    print(600 + i)\n",
        "  else:\n",
        "    mistake6 += 0\n",
        "\n",
        "mistake7 = 0\n",
        "for i in range(100):\n",
        "  if np.argmax(prediction_known[700 + i]) != 7 and max(prediction_known[700 + i]) > ThresholdNeverSeenBefores[np.argmax(prediction_known[700 + i])]:\n",
        "    mistake7 += 1\n",
        "    print(700 + i)\n",
        "  else:\n",
        "    mistake7 += 0\n",
        "\n",
        "mistake8 = 0\n",
        "for i in range(100):\n",
        "  if np.argmax(prediction_known[800 + i]) != 8 and max(prediction_known[800 + i]) > ThresholdNeverSeenBefores[np.argmax(prediction_known[800 + i])]:\n",
        "    mistake8 += 1\n",
        "    print(800 + i)\n",
        "  else:\n",
        "    mistake8 += 0\n",
        "\n",
        "mistake9 = 0\n",
        "for i in range(100):\n",
        "  if np.argmax(prediction_known[900 + i]) != 9 and max(prediction_known[900 + i]) > ThresholdNeverSeenBefores[np.argmax(prediction_known[900 + i])]:\n",
        "    mistake9 += 1\n",
        "    print(900 + i)\n",
        "  else:\n",
        "    mistake9 += 0\n",
        "\n",
        "mistake10 = 0\n",
        "for i in range(100):\n",
        "  if np.argmax(prediction_known[1000 + i]) != 10 and max(prediction_known[1000 + i]) > ThresholdNeverSeenBefores[np.argmax(prediction_known[1000 + i])]:\n",
        "    mistake10 += 1\n",
        "    print(1000 + i)\n",
        "  else:\n",
        "    mistake10 += 0\n",
        "\n",
        "mistake11 = 0\n",
        "for i in range(100):\n",
        "  if np.argmax(prediction_known[1100 + i]) != 11 and max(prediction_known[1100 + i]) > ThresholdNeverSeenBefores[np.argmax(prediction_known[1100 + i])]:\n",
        "    mistake11 += 1\n",
        "    print(1100 + i)\n",
        "  else:\n",
        "    mistake11 += 0\n",
        "\n",
        "mistake12 = 0\n",
        "for i in range(100):\n",
        "  if np.argmax(prediction_known[1200 + i]) != 12 and max(prediction_known[1200 + i]) > ThresholdNeverSeenBefores[np.argmax(prediction_known[1200 + i])]:\n",
        "    mistake12 += 1\n",
        "    print(1200 + i)\n",
        "  else:\n",
        "    mistake12 += 0\n",
        "\n",
        "\n",
        "mistake13 = 0\n",
        "for i in range(100):\n",
        "  if np.argmax(prediction_known[1300 + i]) != 13 and max(prediction_known[1300 + i]) > ThresholdNeverSeenBefores[np.argmax(prediction_known[1300 + i])]:\n",
        "    mistake13 += 1\n",
        "    print(1300 + i)\n",
        "  else:\n",
        "    mistake13 += 0\n",
        "\n",
        "\n",
        "mistake14 = 0\n",
        "for i in range(100):\n",
        "  if np.argmax(prediction_known[1400 + i]) != 14 and max(prediction_known[1400 + i]) > ThresholdNeverSeenBefores[np.argmax(prediction_known[1400 + i])]:\n",
        "    mistake14 += 1\n",
        "    print(1400 + i)\n",
        "  else:\n",
        "    mistake14 += 0\n",
        "\n",
        "NumberOfMistakesAfterThrAdj = [mistake0, mistake1, mistake2, mistake3, mistake4, mistake5, mistake6, mistake7,mistake8,mistake9,mistake10,mistake11,mistake12,mistake13,mistake14]\n",
        "NumberOfMistakesAfterThrAdj"
      ],
      "metadata": {
        "colab": {
          "base_uri": "https://localhost:8080/"
        },
        "id": "PFTqb2dlQH-K",
        "outputId": "f9104d78-604d-42a8-8954-d98f7bebf7b4"
      },
      "execution_count": null,
      "outputs": [
        {
          "output_type": "execute_result",
          "data": {
            "text/plain": [
              "[0, 0, 0, 0, 0, 0, 0, 0, 0, 0, 0, 0, 0, 0, 0]"
            ]
          },
          "metadata": {},
          "execution_count": 139
        }
      ]
    },
    {
      "cell_type": "code",
      "source": [
        "C_count0 = 0\n",
        "for i in range(100):\n",
        "  if prediction_known[i,0] > ThresholdNeverSeenBefores[0] and np.argmax(prediction_known[i]) == 0:\n",
        "    C_count0 += 1\n",
        "  else:\n",
        "    C_count0 += 0\n",
        "\n",
        "C_count1 = 0\n",
        "for i in range(100):\n",
        "  if prediction_known[100 + i,1] > ThresholdNeverSeenBefores[1] and np.argmax(prediction_known[100 + i]) == 1:\n",
        "    C_count1 += 1\n",
        "  else:\n",
        "    C_count1 += 0\n",
        "\n",
        "C_count2 = 0\n",
        "for i in range(100):\n",
        "  if prediction_known[200 + i,2] > ThresholdNeverSeenBefores[2] and np.argmax(prediction_known[200 + i]) == 2:\n",
        "    C_count2 += 1\n",
        "  else:\n",
        "    C_count2 += 0\n",
        "\n",
        "C_count3 = 0\n",
        "for i in range(100):\n",
        "  if prediction_known[300 + i,3] > ThresholdNeverSeenBefores[3] and np.argmax(prediction_known[300 + i]) == 3:\n",
        "    C_count3 += 1\n",
        "  else:\n",
        "    C_count3 += 0\n",
        "\n",
        "C_count4 = 0\n",
        "for i in range(100):\n",
        "  if prediction_known[400 + i,4] > ThresholdNeverSeenBefores[4] and np.argmax(prediction_known[400 + i]) == 4:\n",
        "    C_count4 += 1\n",
        "  else:\n",
        "    C_count4 += 0\n",
        "\n",
        "C_count5 = 0\n",
        "for i in range(100):\n",
        "  if prediction_known[500 + i,5] > ThresholdNeverSeenBefores[5] and np.argmax(prediction_known[500 + i]) == 5:\n",
        "    C_count5 += 1\n",
        "  else:\n",
        "    C_count5 += 0\n",
        "\n",
        "C_count6 = 0\n",
        "for i in range(100):\n",
        "  if prediction_known[600 + i,6] > ThresholdNeverSeenBefores[6] and np.argmax(prediction_known[600 + i]) == 6:\n",
        "    C_count6 += 1\n",
        "  else:\n",
        "    C_count6 += 0\n",
        "\n",
        "C_count7 = 0\n",
        "for i in range(100):\n",
        "  if prediction_known[700 + i,7] > ThresholdNeverSeenBefores[7]  and np.argmax(prediction_known[700 + i]) == 7:\n",
        "    C_count7 += 1\n",
        "  else:\n",
        "    C_count7 += 0\n",
        "\n",
        "C_count8 = 0\n",
        "for i in range(100):\n",
        "  if prediction_known[800 + i,8] > ThresholdNeverSeenBefores[8] and np.argmax(prediction_known[800 + i]) == 8:\n",
        "    C_count8 += 1\n",
        "  else:\n",
        "    C_count8 += 0\n",
        "\n",
        "C_count9 = 0\n",
        "for i in range(100):\n",
        "  if prediction_known[900 + i,9] > ThresholdNeverSeenBefores[9] and np.argmax(prediction_known[900 + i]) == 9:\n",
        "    C_count9 += 1\n",
        "  else:\n",
        "    C_count9 += 0\n",
        "\n",
        "C_count10 = 0\n",
        "for i in range(100):\n",
        "  if prediction_known[1000 + i,10] > ThresholdNeverSeenBefores[10] and np.argmax(prediction_known[1000 + i]) == 10:\n",
        "    C_count10 += 1\n",
        "  else:\n",
        "    C_count10 += 0\n",
        "\n",
        "C_count11 = 0\n",
        "for i in range(100):\n",
        "  if prediction_known[1100 + i,11] > ThresholdNeverSeenBefores[11] and np.argmax(prediction_known[1100 + i]) == 11:\n",
        "    C_count11 += 1\n",
        "  else:\n",
        "    C_count11 += 0\n",
        "\n",
        "\n",
        "C_count12 = 0\n",
        "for i in range(100):\n",
        "  if prediction_known[1200 + i,12] > ThresholdNeverSeenBefores[12] and np.argmax(prediction_known[1200 + i]) == 12:\n",
        "    C_count12 += 1\n",
        "  else:\n",
        "    C_count12 += 0\n",
        "\n",
        "\n",
        "C_count13 = 0\n",
        "for i in range(100):\n",
        "  if prediction_known[1300 + i,13] > ThresholdNeverSeenBefores[13] and np.argmax(prediction_known[1300 + i]) == 13:\n",
        "    C_count13 += 1\n",
        "  else:\n",
        "    C_count13 += 0\n",
        "\n",
        "\n",
        "C_count14 = 0\n",
        "for i in range(100):\n",
        "  if prediction_known[1400 + i,14] > ThresholdNeverSeenBefores[14] and np.argmax(prediction_known[1400 + i]) == 14:\n",
        "    C_count14 += 1\n",
        "  else:\n",
        "    C_count14 += 0"
      ],
      "metadata": {
        "id": "jXF3VkIGQIA1"
      },
      "execution_count": null,
      "outputs": []
    },
    {
      "cell_type": "code",
      "source": [
        "FinalDistributionOver10ClassesRun1 = [[1,C_count0],[2,C_count1],[3,C_count2],[4,C_count3],[5,C_count4],[6,C_count5],[7,C_count6],[8,C_count7],[9,C_count8],[10,C_count9]]\n",
        "FinalDistributionOver10ClassesRun1"
      ],
      "metadata": {
        "colab": {
          "base_uri": "https://localhost:8080/"
        },
        "id": "9tCq14c7KIKZ",
        "outputId": "f61aecce-b463-46b7-b051-f05fb1fbcbc1"
      },
      "execution_count": null,
      "outputs": [
        {
          "output_type": "execute_result",
          "data": {
            "text/plain": [
              "[[1, 5],\n",
              " [2, 75],\n",
              " [3, 12],\n",
              " [4, 77],\n",
              " [5, 98],\n",
              " [6, 36],\n",
              " [7, 76],\n",
              " [8, 58],\n",
              " [9, 90],\n",
              " [10, 9]]"
            ]
          },
          "metadata": {},
          "execution_count": 141
        }
      ]
    },
    {
      "cell_type": "code",
      "source": [
        "FinalDistributionOver15ClassesRun1 = [[1,C_count0],[2,C_count1],[3,C_count2],[4,C_count3],[5,C_count4],[6,C_count5],[7,C_count6],[8,C_count7],[9,C_count8],[10,C_count9],[11,C_count10],[12,C_count11],[13,C_count12],[14,C_count13],[15,C_count14]]\n",
        "FinalDistributionOver15ClassesRun1"
      ],
      "metadata": {
        "colab": {
          "base_uri": "https://localhost:8080/"
        },
        "id": "uDX1bRdiKKii",
        "outputId": "959cb071-f95c-45de-b971-be98544b934d"
      },
      "execution_count": null,
      "outputs": [
        {
          "output_type": "execute_result",
          "data": {
            "text/plain": [
              "[[1, 5],\n",
              " [2, 75],\n",
              " [3, 12],\n",
              " [4, 77],\n",
              " [5, 98],\n",
              " [6, 36],\n",
              " [7, 76],\n",
              " [8, 58],\n",
              " [9, 90],\n",
              " [10, 9],\n",
              " [11, 45],\n",
              " [12, 41],\n",
              " [13, 55],\n",
              " [14, 99],\n",
              " [15, 93]]"
            ]
          },
          "metadata": {},
          "execution_count": 142
        }
      ]
    },
    {
      "cell_type": "code",
      "source": [
        "(C_count0 + C_count1 + C_count2 + C_count3 + C_count4 + C_count5 + C_count6 + C_count7 + C_count8 + C_count9)/1000"
      ],
      "metadata": {
        "colab": {
          "base_uri": "https://localhost:8080/"
        },
        "id": "X8xTrLFWLVPX",
        "outputId": "9bcf5c27-966f-4760-9ff4-bc17aac3bf83"
      },
      "execution_count": null,
      "outputs": [
        {
          "output_type": "execute_result",
          "data": {
            "text/plain": [
              "0.536"
            ]
          },
          "metadata": {},
          "execution_count": 143
        }
      ]
    },
    {
      "cell_type": "code",
      "source": [
        "(C_count0 + C_count1 + C_count2 + C_count3 + C_count4 + C_count5 + C_count6 + C_count7 + C_count8 + C_count9 + C_count10 + C_count11 + C_count12 + C_count13 + C_count14)/1500"
      ],
      "metadata": {
        "colab": {
          "base_uri": "https://localhost:8080/"
        },
        "id": "6t0rgKFRLij_",
        "outputId": "a3c38396-0fb6-4fc2-ba86-9720b4b97945"
      },
      "execution_count": null,
      "outputs": [
        {
          "output_type": "execute_result",
          "data": {
            "text/plain": [
              "0.5793333333333334"
            ]
          },
          "metadata": {},
          "execution_count": 144
        }
      ]
    },
    {
      "cell_type": "code",
      "source": [
        "import numpy as np\n",
        "\n",
        "all_datasets = [FinalDistributionOver10ClassesRun1, FinalDistributionOver10ClassesRun2, FinalDistributionOver10ClassesRun3, FinalDistributionOver10ClassesRun4]\n",
        "\n",
        "new_dataset = []\n",
        "\n",
        "for x_value in range(1, 11):\n",
        "    y_values = []\n",
        "\n",
        "    for dataset in all_datasets:\n",
        "        for data_point in dataset:\n",
        "            if data_point[0] == x_value:\n",
        "                y_values.append(data_point[1])\n",
        "\n",
        "    avg_y = np.mean(y_values)\n",
        "    std_y = np.std(y_values)\n",
        "\n",
        "    new_dataset.append([x_value, avg_y, std_y])\n",
        "\n",
        "for data_point in new_dataset:\n",
        "    print(data_point)"
      ],
      "metadata": {
        "id": "5LxQwEOhUQCd",
        "colab": {
          "base_uri": "https://localhost:8080/"
        },
        "outputId": "8ae6a265-fbc2-4066-d051-638b697e14c5"
      },
      "execution_count": null,
      "outputs": [
        {
          "output_type": "stream",
          "name": "stdout",
          "text": [
            "[1, 8.5, 3.840572873934304]\n",
            "[2, 70.75, 3.2691742076555053]\n",
            "[3, 8.75, 2.384848003542364]\n",
            "[4, 68.0, 6.123724356957945]\n",
            "[5, 97.25, 0.4330127018922193]\n",
            "[6, 38.5, 2.29128784747792]\n",
            "[7, 66.5, 6.020797289396148]\n",
            "[8, 60.75, 3.897114317029974]\n",
            "[9, 89.75, 0.4330127018922193]\n",
            "[10, 5.25, 2.277608394786075]\n"
          ]
        }
      ]
    },
    {
      "cell_type": "code",
      "source": [
        "new_dataset"
      ],
      "metadata": {
        "colab": {
          "base_uri": "https://localhost:8080/"
        },
        "id": "BiOAa6olqnym",
        "outputId": "88c4f272-bace-44fe-861c-59b8c987b1a8"
      },
      "execution_count": null,
      "outputs": [
        {
          "output_type": "execute_result",
          "data": {
            "text/plain": [
              "[[1, 8.5, 3.840572873934304],\n",
              " [2, 70.75, 3.2691742076555053],\n",
              " [3, 8.75, 2.384848003542364],\n",
              " [4, 68.0, 6.123724356957945],\n",
              " [5, 97.25, 0.4330127018922193],\n",
              " [6, 38.5, 2.29128784747792],\n",
              " [7, 66.5, 6.020797289396148],\n",
              " [8, 60.75, 3.897114317029974],\n",
              " [9, 89.75, 0.4330127018922193],\n",
              " [10, 5.25, 2.277608394786075]]"
            ]
          },
          "metadata": {},
          "execution_count": 324
        }
      ]
    },
    {
      "cell_type": "code",
      "source": [
        "import numpy as np\n",
        "\n",
        "all_datasets = [FinalDistributionOver15ClassesRun1, FinalDistributionOver15ClassesRun2, FinalDistributionOver15ClassesRun3, FinalDistributionOver15ClassesRun4]\n",
        "new_dataset = []\n",
        "\n",
        "for x_value in range(1, 16):\n",
        "    y_values = []\n",
        "\n",
        "    for dataset in all_datasets:\n",
        "        for data_point in dataset:\n",
        "            if data_point[0] == x_value:\n",
        "                y_values.append(data_point[1])\n",
        "\n",
        "    avg_y = np.mean(y_values)\n",
        "    std_y = np.std(y_values)\n",
        "\n",
        "    new_dataset.append([x_value, avg_y, std_y])\n",
        "\n",
        "for data_point in new_dataset:\n",
        "    print(data_point)"
      ],
      "metadata": {
        "colab": {
          "base_uri": "https://localhost:8080/"
        },
        "id": "WihmOq4ts158",
        "outputId": "5f22c258-c6a7-482a-f509-6ff1e7118d15"
      },
      "execution_count": null,
      "outputs": [
        {
          "output_type": "stream",
          "name": "stdout",
          "text": [
            "[1, 8.5, 3.840572873934304]\n",
            "[2, 70.75, 3.2691742076555053]\n",
            "[3, 8.75, 2.384848003542364]\n",
            "[4, 68.0, 6.123724356957945]\n",
            "[5, 97.25, 0.4330127018922193]\n",
            "[6, 38.5, 2.29128784747792]\n",
            "[7, 66.5, 6.020797289396148]\n",
            "[8, 60.75, 3.897114317029974]\n",
            "[9, 89.75, 0.4330127018922193]\n",
            "[10, 5.25, 2.277608394786075]\n",
            "[11, 52.75, 7.258615570478987]\n",
            "[12, 28.5, 7.365459931328117]\n",
            "[13, 43.0, 10.559356040971437]\n",
            "[14, 99.0, 0.0]\n",
            "[15, 93.5, 1.5]\n"
          ]
        }
      ]
    },
    {
      "cell_type": "code",
      "source": [
        "new_dataset"
      ],
      "metadata": {
        "colab": {
          "base_uri": "https://localhost:8080/"
        },
        "id": "jH760zIIs9m-",
        "outputId": "3d4525bd-d4aa-4b67-f1fa-2a19fc0ac6ee"
      },
      "execution_count": null,
      "outputs": [
        {
          "output_type": "execute_result",
          "data": {
            "text/plain": [
              "[[1, 8.5, 3.840572873934304],\n",
              " [2, 70.75, 3.2691742076555053],\n",
              " [3, 8.75, 2.384848003542364],\n",
              " [4, 68.0, 6.123724356957945],\n",
              " [5, 97.25, 0.4330127018922193],\n",
              " [6, 38.5, 2.29128784747792],\n",
              " [7, 66.5, 6.020797289396148],\n",
              " [8, 60.75, 3.897114317029974],\n",
              " [9, 89.75, 0.4330127018922193],\n",
              " [10, 5.25, 2.277608394786075],\n",
              " [11, 52.75, 7.258615570478987],\n",
              " [12, 28.5, 7.365459931328117],\n",
              " [13, 43.0, 10.559356040971437],\n",
              " [14, 99.0, 0.0],\n",
              " [15, 93.5, 1.5]]"
            ]
          },
          "metadata": {},
          "execution_count": 327
        }
      ]
    }
  ],
  "metadata": {
    "colab": {
      "provenance": [],
      "machine_shape": "hm",
      "authorship_tag": "ABX9TyOvig0TbWyqEFGkyS/Zhz3I",
      "include_colab_link": true
    },
    "kernelspec": {
      "display_name": "Python 3",
      "name": "python3"
    },
    "language_info": {
      "name": "python"
    }
  },
  "nbformat": 4,
  "nbformat_minor": 0
}