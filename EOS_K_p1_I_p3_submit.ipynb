{
  "cells": [
    {
      "cell_type": "markdown",
      "metadata": {
        "id": "view-in-github",
        "colab_type": "text"
      },
      "source": [
        "<a href=\"https://colab.research.google.com/github/BalytskyiJaroslaw/PathogensRamanOpenSet/blob/main/EOS_K_p1_I_p3_submit.ipynb\" target=\"_parent\"><img src=\"https://colab.research.google.com/assets/colab-badge.svg\" alt=\"Open In Colab\"/></a>"
      ]
    },
    {
      "cell_type": "markdown",
      "metadata": {
        "id": "aOFOyLM_v8P1"
      },
      "source": [
        "# Operating in the ***open*** world, Entropic Open Set, $\\mathcal{K} = p_1$, $\\mathcal{I} = p_3$"
      ]
    },
    {
      "cell_type": "code",
      "execution_count": null,
      "metadata": {
        "id": "zMZSeaB38pkm"
      },
      "outputs": [],
      "source": [
        "from __future__ import absolute_import\n",
        "from __future__ import print_function\n",
        "\n",
        "import numpy as np\n",
        "from numpy import genfromtxt\n",
        "from sklearn.utils import shuffle\n",
        "\n",
        "\n",
        "import pandas as pd\n",
        "from pandas import ExcelWriter\n",
        "from pandas import ExcelFile\n",
        "from pandas import read_csv\n",
        "\n",
        "from keras.layers import Lambda, Multiply\n",
        "\n",
        "import csv\n",
        "import pprint\n",
        "\n",
        "import tensorflow as tf\n",
        "from tensorflow import keras\n",
        "from tensorflow.keras import layers, models\n",
        "\n",
        "import keras\n",
        "#from keras.utils import to_categorical\n",
        "from pandas import read_csv\n",
        "from keras.models import Sequential\n",
        "from keras import layers\n",
        "#from keras.optimizers import SGD\n",
        "from keras import regularizers\n",
        "from keras.models import Sequential\n",
        "from keras.layers import Dense\n",
        "#from keras.optimizers import SGD\n",
        "\n",
        "from sklearn.preprocessing import LabelEncoder\n",
        "from sklearn.model_selection import train_test_split\n",
        "\n",
        "import matplotlib.pyplot as plt\n",
        "import seaborn as sns\n",
        "import random\n",
        "from pprint import pprint\n",
        "\n",
        "from sklearn.preprocessing import LabelEncoder\n",
        "import gspread\n",
        "import pandas as pd\n",
        "import pickle\n",
        "import pywt\n",
        "import matplotlib.pyplot as plt\n",
        "from tensorflow.keras import regularizers\n",
        "#from keras.utils import to_categorical\n",
        "\n",
        "from time import time\n",
        "t00 = time()\n",
        "import os\n",
        "from tensorflow.keras import layers\n",
        "from keras.layers import Input, Dense, concatenate\n",
        "from keras.models import Model\n",
        "from keras.layers import GlobalAveragePooling1D"
      ]
    },
    {
      "cell_type": "code",
      "execution_count": null,
      "metadata": {
        "id": "2ugI8BcU8u6J"
      },
      "outputs": [],
      "source": [
        "# Initialize the TPU and spread the computations across the 8 cores\n",
        "import tensorflow as tf\n",
        "resolver = tf.distribute.cluster_resolver.TPUClusterResolver(tpu='')\n",
        "tf.config.experimental_connect_to_cluster(resolver)\n",
        "# This is the TPU initialization code that has to be at the beginning.\n",
        "tf.tpu.experimental.initialize_tpu_system(resolver)\n",
        "tf.config.list_logical_devices('TPU')\n",
        "#print(\"All devices: \", tf.config.list_logical_devices('TPU'))\n",
        "\n",
        "strategy = tf.distribute.TPUStrategy(resolver)"
      ]
    },
    {
      "cell_type": "code",
      "execution_count": null,
      "metadata": {
        "colab": {
          "base_uri": "https://localhost:8080/"
        },
        "id": "Ld73dNtt8u8G",
        "outputId": "07b48507-d168-4f41-dad2-39e62487cf96"
      },
      "outputs": [
        {
          "output_type": "stream",
          "name": "stdout",
          "text": [
            "Mounted at /content/gdrive\n"
          ]
        }
      ],
      "source": [
        "from google.colab import drive\n",
        "\n",
        "drive.mount(\"/content/gdrive\")"
      ]
    },
    {
      "cell_type": "markdown",
      "metadata": {
        "id": "unyCL8zewWQv"
      },
      "source": [
        "# Reference dataset"
      ]
    },
    {
      "cell_type": "code",
      "execution_count": null,
      "metadata": {
        "id": "Dj4dNAmyRE0L"
      },
      "outputs": [],
      "source": [
        "# Reference data\n",
        "data_X_reference = np.load(\"/content/gdrive/MyDrive/Stanford_data/X_reference.npy\")\n",
        "# Test data\n",
        "data_X_test = np.load(\"/content/gdrive/MyDrive/Stanford_data/X_test.npy\")\n",
        "\n",
        "data_y_reference = np.load(\"/content/gdrive/MyDrive/Stanford_data/y_reference.npy\")\n",
        "# Test labels\n",
        "data_y_test = np.load(\"/content/gdrive/MyDrive/Stanford_data/y_test.npy\")\n",
        "\n",
        "data_y_reference_int = []\n",
        "\n",
        "for i in range(data_y_reference.shape[0]):\n",
        "  data_y_reference_int.append(int(data_y_reference[i]))\n",
        "\n",
        "data_y_test_int = []\n",
        "\n",
        "for i in range(data_y_test.shape[0]):\n",
        "  data_y_test_int.append(int(data_y_test[i]))\n",
        "\n",
        "train_label = tf.keras.utils.to_categorical(data_y_reference_int)\n",
        "test_label = tf.keras.utils.to_categorical(data_y_test_int)"
      ]
    },
    {
      "cell_type": "markdown",
      "metadata": {
        "id": "FnMc6rnGSdht"
      },
      "source": [
        "# $\\mathcal{K} = p_1$, reference indices, training dataset: 18000 - 26000, 34000 - 38000, 44000 - 50000,56000 - 58000. $\\mathcal{I} = p_3$, reference indices: 10000 - 14000, 26000 - 28000, 42000 - 44000, 58000 - 60000."
      ]
    },
    {
      "cell_type": "code",
      "execution_count": null,
      "metadata": {
        "colab": {
          "base_uri": "https://localhost:8080/"
        },
        "id": "O3O2yYAe8u_V",
        "outputId": "2396d7a3-e876-4226-b1e3-fda3ce6c2d9b"
      },
      "outputs": [
        {
          "output_type": "stream",
          "name": "stdout",
          "text": [
            "Shape of the known and ignored data, reference: (30000, 1000)\n",
            "Shape of the known and ignored labels, reference: (30000, 11)\n"
          ]
        }
      ],
      "source": [
        "indices =[slice(18000, 26000),slice(34000, 38000),slice(44000, 50000),slice(56000, 58000),slice(10000, 14000),slice(26000, 28000),slice(42000, 44000),slice(58000, 60000)]\n",
        "\n",
        "Known_and_Ignored_data_X_reference = np.concatenate([data_X_reference[idx, :] for idx in indices], axis=0)\n",
        "\n",
        "Known_and_Ignored_data_X_train_label_int = []\n",
        "\n",
        "for i in range(2000*10):\n",
        "  Known_and_Ignored_data_X_train_label_int.append(int(data_y_reference[i]))\n",
        "\n",
        "for i in range(2000*5):\n",
        " Known_and_Ignored_data_X_train_label_int.append(int(data_y_reference[2000*10]))\n",
        "\n",
        "Known_and_Ignored_data_X_train_label = tf.keras.utils.to_categorical(Known_and_Ignored_data_X_train_label_int)\n",
        "print(\"Shape of the known and ignored data, reference:\", Known_and_Ignored_data_X_reference.shape)\n",
        "print(\"Shape of the known and ignored labels, reference:\", Known_and_Ignored_data_X_train_label.shape)"
      ]
    },
    {
      "cell_type": "markdown",
      "metadata": {
        "id": "j6hDE1gvUwoX"
      },
      "source": [
        "# $\\mathcal{K}$, known reference indices for the ***test***: 900 - 1300, 1700 - 1900, 2200 - 2500, 2800 - 2900. Ignored, ***test***: 500 - 700, 1300 - 1400, 2100 - 2200, 2900 - 3000.\n"
      ]
    },
    {
      "cell_type": "code",
      "execution_count": null,
      "metadata": {
        "colab": {
          "base_uri": "https://localhost:8080/"
        },
        "id": "tfgvb0XE8vBT",
        "outputId": "2824e54c-f620-4f40-d1dd-8aea4cda2d15"
      },
      "outputs": [
        {
          "output_type": "stream",
          "name": "stdout",
          "text": [
            "Shape of the known and ignored data, reference: (1500, 1000)\n",
            "Shape of the known and ignored labels, reference: (1500, 11)\n"
          ]
        }
      ],
      "source": [
        "indices =[slice(900, 1300),slice(1700, 1900),slice(2200, 2500),slice(2800, 2900),slice(500, 700),slice(1300, 1400),slice(2100, 2200),slice(2900, 3000)]\n",
        "\n",
        "Known_and_Ignored_data_X_test = np.concatenate([data_X_test[idx, :] for idx in indices], axis=0)\n",
        "\n",
        "Known_and_Ignored_data_X_test_label_int = []\n",
        "\n",
        "for i in range(100*10):\n",
        "  Known_and_Ignored_data_X_test_label_int.append(int(data_y_test[i]))\n",
        "\n",
        "for i in range(100*5):\n",
        "  Known_and_Ignored_data_X_test_label_int.append(int(data_y_test[100*10]))\n",
        "\n",
        "Known_and_Ignored_data_X_test_label = tf.keras.utils.to_categorical(Known_and_Ignored_data_X_test_label_int)\n",
        "print(\"Shape of the known and ignored data, reference:\", Known_and_Ignored_data_X_test.shape)\n",
        "print(\"Shape of the known and ignored labels, reference:\", Known_and_Ignored_data_X_test_label.shape)"
      ]
    },
    {
      "cell_type": "markdown",
      "metadata": {
        "id": "DZ18vK-Vw0dS"
      },
      "source": [
        "# Leave only $\\mathcal{K}$ samples to test the accuracy. This is done to keep the right shape of the labels."
      ]
    },
    {
      "cell_type": "code",
      "execution_count": null,
      "metadata": {
        "colab": {
          "base_uri": "https://localhost:8080/"
        },
        "id": "JvyfQL8x8vDT",
        "outputId": "5ec0f2cf-0eff-4729-ac4f-dab8155e9324"
      },
      "outputs": [
        {
          "output_type": "stream",
          "name": "stdout",
          "text": [
            "Shape of the known and ignored data, reference: (1000, 1000)\n",
            "Shape of the known and ignored labels, reference: (1000, 11)\n"
          ]
        }
      ],
      "source": [
        "Known_data_X_test = Known_and_Ignored_data_X_test[:-100*5]\n",
        "Known_data_X_test_label = Known_and_Ignored_data_X_test_label[:-100*5]\n",
        "print(\"Shape of the known and ignored data, reference:\", Known_data_X_test.shape)\n",
        "print(\"Shape of the known and ignored labels, reference:\", Known_data_X_test_label.shape)"
      ]
    },
    {
      "cell_type": "markdown",
      "metadata": {
        "id": "I2fwBprKxC7x"
      },
      "source": [
        "# Defining the $\\mathcal{K}$ labels"
      ]
    },
    {
      "cell_type": "code",
      "execution_count": null,
      "metadata": {
        "id": "5Z8ZbbXr8vEu"
      },
      "outputs": [],
      "source": [
        "KnownLabels = []\n",
        "# 0 - 5\n",
        "KnownLabels.append(Known_and_Ignored_data_X_train_label[1 + 0*2000])\n",
        "KnownLabels.append(Known_and_Ignored_data_X_train_label[1 + 1*2000])\n",
        "KnownLabels.append(Known_and_Ignored_data_X_train_label[1 + 2*2000])\n",
        "KnownLabels.append(Known_and_Ignored_data_X_train_label[1 + 3*2000])\n",
        "KnownLabels.append(Known_and_Ignored_data_X_train_label[1 + 4*2000])\n",
        "\n",
        "# 6 - 10\n",
        "KnownLabels.append(Known_and_Ignored_data_X_train_label[1 + 5*2000])\n",
        "KnownLabels.append(Known_and_Ignored_data_X_train_label[1 + 6*2000])\n",
        "KnownLabels.append(Known_and_Ignored_data_X_train_label[1 + 7*2000])\n",
        "KnownLabels.append(Known_and_Ignored_data_X_train_label[1 + 8*2000])\n",
        "KnownLabels.append(Known_and_Ignored_data_X_train_label[1 + 9*2000])\n",
        "\n",
        "Ignored_label = Known_and_Ignored_data_X_train_label[1 + 10*2000]"
      ]
    },
    {
      "cell_type": "code",
      "execution_count": null,
      "metadata": {
        "colab": {
          "base_uri": "https://localhost:8080/"
        },
        "id": "jmTb9OT88vHK",
        "outputId": "39bafa99-3096-4868-e75c-a0bf6abc5a8e"
      },
      "outputs": [
        {
          "output_type": "execute_result",
          "data": {
            "text/plain": [
              "[array([1., 0., 0., 0., 0., 0., 0., 0., 0., 0., 0.], dtype=float32),\n",
              " array([0., 1., 0., 0., 0., 0., 0., 0., 0., 0., 0.], dtype=float32),\n",
              " array([0., 0., 1., 0., 0., 0., 0., 0., 0., 0., 0.], dtype=float32),\n",
              " array([0., 0., 0., 1., 0., 0., 0., 0., 0., 0., 0.], dtype=float32),\n",
              " array([0., 0., 0., 0., 1., 0., 0., 0., 0., 0., 0.], dtype=float32),\n",
              " array([0., 0., 0., 0., 0., 1., 0., 0., 0., 0., 0.], dtype=float32),\n",
              " array([0., 0., 0., 0., 0., 0., 1., 0., 0., 0., 0.], dtype=float32),\n",
              " array([0., 0., 0., 0., 0., 0., 0., 1., 0., 0., 0.], dtype=float32),\n",
              " array([0., 0., 0., 0., 0., 0., 0., 0., 1., 0., 0.], dtype=float32),\n",
              " array([0., 0., 0., 0., 0., 0., 0., 0., 0., 1., 0.], dtype=float32)]"
            ]
          },
          "metadata": {},
          "execution_count": 8
        }
      ],
      "source": [
        "KnownLabels"
      ]
    },
    {
      "cell_type": "markdown",
      "metadata": {
        "id": "efSwPk7XxKZS"
      },
      "source": [
        "# The ignored label $\\mathcal{I}$ is:"
      ]
    },
    {
      "cell_type": "code",
      "execution_count": null,
      "metadata": {
        "colab": {
          "base_uri": "https://localhost:8080/"
        },
        "id": "Ecri__MBWN5i",
        "outputId": "53b32a96-0200-4d81-8249-46c5e89a3c82"
      },
      "outputs": [
        {
          "output_type": "execute_result",
          "data": {
            "text/plain": [
              "array([0., 0., 0., 0., 0., 0., 0., 0., 0., 0., 1.], dtype=float32)"
            ]
          },
          "metadata": {},
          "execution_count": 9
        }
      ],
      "source": [
        "Ignored_label"
      ]
    },
    {
      "cell_type": "markdown",
      "metadata": {
        "id": "Ety-KKr0WX1L"
      },
      "source": [
        "# Never seen before samples, $\\mathcal{N}$, first seen during the test: 0 - 500, 700 - 900, 1900 - 2100, 2500 - 2600."
      ]
    },
    {
      "cell_type": "code",
      "execution_count": null,
      "metadata": {
        "colab": {
          "base_uri": "https://localhost:8080/"
        },
        "id": "POJ8qGRHWN-a",
        "outputId": "f2f0bf2c-0c48-424c-a527-43c9a330b824"
      },
      "outputs": [
        {
          "output_type": "stream",
          "name": "stdout",
          "text": [
            "Shape of the NeverSeen data, test: (1000, 1000)\n"
          ]
        }
      ],
      "source": [
        "indices = [slice(0, 500),slice(700, 900),slice(1900, 2100),slice(2500, 2600)]\n",
        "NeverSeen_data_X_test = np.concatenate([data_X_test[idx, :] for idx in indices], axis=0)\n",
        "\n",
        "print(\"Shape of the NeverSeen data, test:\", NeverSeen_data_X_test.shape)"
      ]
    },
    {
      "cell_type": "markdown",
      "metadata": {
        "id": "CNsCj3dEnUT-"
      },
      "source": [
        "# Data for finetuning"
      ]
    },
    {
      "cell_type": "code",
      "execution_count": null,
      "metadata": {
        "id": "ltz-27T0WODD"
      },
      "outputs": [],
      "source": [
        "# Finetuning\n",
        "data_X_finetune = np.load(\"/content/gdrive/MyDrive/Stanford_data/X_finetune.npy\")\n",
        "# Test data\n",
        "data_X_test = np.load(\"/content/gdrive/MyDrive/Stanford_data/X_test.npy\")\n",
        "\n",
        "data_y_finetune = np.load(\"/content/gdrive/MyDrive/Stanford_data/y_finetune.npy\")\n",
        "# Test labels\n",
        "data_y_test = np.load(\"/content/gdrive/MyDrive/Stanford_data/y_test.npy\")\n",
        "\n",
        "data_y_finetune_int = []\n",
        "\n",
        "for i in range(data_y_finetune.shape[0]):\n",
        "  data_y_finetune_int.append(int(data_y_finetune[i]))\n",
        "\n",
        "data_y_test_int = []\n",
        "\n",
        "for i in range(data_y_test.shape[0]):\n",
        "  data_y_test_int.append(int(data_y_test[i]))\n",
        "\n",
        "train_label = tf.keras.utils.to_categorical(data_y_finetune_int)\n",
        "test_label = tf.keras.utils.to_categorical(data_y_test_int)\n",
        "\n",
        "#data_X_finetune, train_label = shuffle(data_X_finetune, train_label)"
      ]
    },
    {
      "cell_type": "markdown",
      "metadata": {
        "id": "M-nHKTPjns23"
      },
      "source": [
        "\n",
        "\n",
        "Known data, $\\mathcal{K}$, for the finetuning: 900 - 1300, 1700 - 1900, 2200 - 2500, 2800 - 2900. Ignored samples, $\\mathcal{I}$, finetuning: 500 - 700, 1300 - 1400, 2100 - 2200, 2900 - 3000."
      ]
    },
    {
      "cell_type": "code",
      "execution_count": null,
      "metadata": {
        "colab": {
          "base_uri": "https://localhost:8080/"
        },
        "id": "I_rz3MyPWOFJ",
        "outputId": "5a124ddd-63ab-47be-a025-7c02ef13f088"
      },
      "outputs": [
        {
          "output_type": "stream",
          "name": "stdout",
          "text": [
            "Shape of the known and ignored data, finetune: (1500, 1000)\n",
            "Shape of the known and ignored labels, finetune: (1500, 11)\n"
          ]
        }
      ],
      "source": [
        "indices =[slice(900, 1300),slice(1700, 1900),slice(2200, 2500),slice(2800, 2900),slice(500, 700),slice(1300, 1400),slice(2100, 2200),slice(2900, 3000)]\n",
        "\n",
        "Known_and_Ignored_data_X_finetune = np.concatenate([data_X_finetune[idx, :] for idx in indices], axis=0)\n",
        "\n",
        "Known_and_Ignored_data_X_finetune_label_int = []\n",
        "\n",
        "for i in range(100*10):\n",
        "  Known_and_Ignored_data_X_finetune_label_int.append(int(data_y_finetune[i]))\n",
        "\n",
        "for i in range(100*5):\n",
        "  Known_and_Ignored_data_X_finetune_label_int.append(int(data_y_finetune[100*10]))\n",
        "\n",
        "Known_and_Ignored_data_X_finetune_label = tf.keras.utils.to_categorical(Known_and_Ignored_data_X_finetune_label_int)\n",
        "\n",
        "print(\"Shape of the known and ignored data, finetune:\", Known_and_Ignored_data_X_finetune.shape)\n",
        "print(\"Shape of the known and ignored labels, finetune:\", Known_and_Ignored_data_X_finetune_label.shape)"
      ]
    },
    {
      "cell_type": "code",
      "execution_count": null,
      "metadata": {
        "id": "9qGiMvXRqxNy"
      },
      "outputs": [],
      "source": []
    },
    {
      "cell_type": "code",
      "execution_count": null,
      "metadata": {
        "id": "v5Svc0bGqxP9"
      },
      "outputs": [],
      "source": []
    },
    {
      "cell_type": "markdown",
      "metadata": {
        "id": "TD7H4IVexy7m"
      },
      "source": [
        "# Uploading the libraries"
      ]
    },
    {
      "cell_type": "code",
      "execution_count": null,
      "metadata": {
        "id": "XRxb0a9tqxRv"
      },
      "outputs": [],
      "source": [
        "# Create a checkpoint directory to store the checkpoints.\n",
        "checkpoint_dir = './training_checkpoints'\n",
        "checkpoint_prefix = os.path.join(checkpoint_dir, \"ckpt\")\n",
        "\n",
        "import numpy as np\n",
        "import pandas as pd\n",
        "import seaborn as sns\n",
        "from numpy import interp\n",
        "from itertools import cycle\n",
        "import matplotlib.pyplot as plt\n",
        "from sklearn.model_selection import train_test_split\n",
        "from sklearn.preprocessing import LabelEncoder, OneHotEncoder\n",
        "#from sklearn.metrics import mean_absolute_error, accuracy_score, precision_score, recall_score, f1_score, roc_curve, plot_roc_curve\n",
        "from sklearn.metrics import confusion_matrix, classification_report, auc\n",
        "from sklearn.metrics import precision_recall_curve\n",
        "from sklearn.metrics import average_precision_score\n",
        "from keras.layers import Input, Conv1D, MaxPooling1D, UpSampling1D, concatenate, BatchNormalization, Activation, add\n",
        "from keras.layers import Conv2D, MaxPooling2D, Reshape, Flatten, Dense, GlobalAveragePooling1D, GlobalMaxPooling1D, Multiply, Conv1DTranspose, LeakyReLU, Dropout\n",
        "from keras.models import Model, model_from_json\n",
        "#from keras.optimizers import Adam\n",
        "from keras.callbacks import EarlyStopping, ModelCheckpoint\n",
        "sns.set_theme(style=\"whitegrid\")"
      ]
    },
    {
      "cell_type": "markdown",
      "metadata": {
        "id": "-hEXXg4wx2Dz"
      },
      "source": [
        "# Defining our model"
      ]
    },
    {
      "cell_type": "code",
      "execution_count": null,
      "metadata": {
        "colab": {
          "base_uri": "https://localhost:8080/"
        },
        "id": "Iq9vqf5AovvA",
        "outputId": "5b3b716d-4987-46fb-8d4d-cd450289d416"
      },
      "outputs": [
        {
          "output_type": "stream",
          "name": "stdout",
          "text": [
            "Model: \"ResNet29\"\n",
            "__________________________________________________________________________________________________\n",
            " Layer (type)                Output Shape                 Param #   Connected to                  \n",
            "==================================================================================================\n",
            " input_1 (InputLayer)        [(None, 1000, 1)]            0         []                            \n",
            "                                                                                                  \n",
            " zero_padding1d (ZeroPaddin  (None, 1006, 1)              0         ['input_1[0][0]']             \n",
            " g1D)                                                                                             \n",
            "                                                                                                  \n",
            " Convolution1 (Conv1D)       (None, 500, 64)              512       ['zero_padding1d[0][0]']      \n",
            "                                                                                                  \n",
            " BatchNormStage1 (BatchNorm  (None, 500, 64)              256       ['Convolution1[0][0]']        \n",
            " alization)                                                                                       \n",
            "                                                                                                  \n",
            " activation (Activation)     (None, 500, 64)              0         ['BatchNormStage1[0][0]']     \n",
            "                                                                                                  \n",
            " max_pooling1d (MaxPooling1  (None, 249, 64)              0         ['activation[0][0]']          \n",
            " D)                                                                                               \n",
            "                                                                                                  \n",
            " conv1d (Conv1D)             (None, 249, 64)              12352     ['max_pooling1d[0][0]']       \n",
            "                                                                                                  \n",
            " batch_normalization (Batch  (None, 249, 64)              256       ['conv1d[0][0]']              \n",
            " Normalization)                                                                                   \n",
            "                                                                                                  \n",
            " activation_1 (Activation)   (None, 249, 64)              0         ['batch_normalization[0][0]'] \n",
            "                                                                                                  \n",
            " conv1d_1 (Conv1D)           (None, 249, 64)              12352     ['activation_1[0][0]']        \n",
            "                                                                                                  \n",
            " batch_normalization_1 (Bat  (None, 249, 64)              256       ['conv1d_1[0][0]']            \n",
            " chNormalization)                                                                                 \n",
            "                                                                                                  \n",
            " activation_2 (Activation)   (None, 249, 64)              0         ['batch_normalization_1[0][0]'\n",
            "                                                                    ]                             \n",
            "                                                                                                  \n",
            " res2a_branch (Conv1D)       (None, 249, 256)             49408     ['activation_2[0][0]']        \n",
            "                                                                                                  \n",
            " conv1d_2 (Conv1D)           (None, 249, 256)             16640     ['max_pooling1d[0][0]']       \n",
            "                                                                                                  \n",
            " batch_normalization_2 (Bat  (None, 249, 256)             1024      ['res2a_branch[0][0]']        \n",
            " chNormalization)                                                                                 \n",
            "                                                                                                  \n",
            " batch_normalization_3 (Bat  (None, 249, 256)             1024      ['conv1d_2[0][0]']            \n",
            " chNormalization)                                                                                 \n",
            "                                                                                                  \n",
            " add (Add)                   (None, 249, 256)             0         ['batch_normalization_2[0][0]'\n",
            "                                                                    , 'batch_normalization_3[0][0]\n",
            "                                                                    ']                            \n",
            "                                                                                                  \n",
            " activation_3 (Activation)   (None, 249, 256)             0         ['add[0][0]']                 \n",
            "                                                                                                  \n",
            " conv1d_3 (Conv1D)           (None, 249, 64)              16448     ['activation_3[0][0]']        \n",
            "                                                                                                  \n",
            " batch_normalization_4 (Bat  (None, 249, 64)              256       ['conv1d_3[0][0]']            \n",
            " chNormalization)                                                                                 \n",
            "                                                                                                  \n",
            " activation_4 (Activation)   (None, 249, 64)              0         ['batch_normalization_4[0][0]'\n",
            "                                                                    ]                             \n",
            "                                                                                                  \n",
            " conv1d_4 (Conv1D)           (None, 249, 64)              12352     ['activation_4[0][0]']        \n",
            "                                                                                                  \n",
            " batch_normalization_5 (Bat  (None, 249, 64)              256       ['conv1d_4[0][0]']            \n",
            " chNormalization)                                                                                 \n",
            "                                                                                                  \n",
            " activation_5 (Activation)   (None, 249, 64)              0         ['batch_normalization_5[0][0]'\n",
            "                                                                    ]                             \n",
            "                                                                                                  \n",
            " conv1d_5 (Conv1D)           (None, 249, 256)             16640     ['activation_5[0][0]']        \n",
            "                                                                                                  \n",
            " batch_normalization_6 (Bat  (None, 249, 256)             1024      ['conv1d_5[0][0]']            \n",
            " chNormalization)                                                                                 \n",
            "                                                                                                  \n",
            " add_1 (Add)                 (None, 249, 256)             0         ['batch_normalization_6[0][0]'\n",
            "                                                                    , 'activation_3[0][0]']       \n",
            "                                                                                                  \n",
            " activation_6 (Activation)   (None, 249, 256)             0         ['add_1[0][0]']               \n",
            "                                                                                                  \n",
            " conv1d_6 (Conv1D)           (None, 125, 128)             98432     ['activation_6[0][0]']        \n",
            "                                                                                                  \n",
            " batch_normalization_7 (Bat  (None, 125, 128)             512       ['conv1d_6[0][0]']            \n",
            " chNormalization)                                                                                 \n",
            "                                                                                                  \n",
            " activation_7 (Activation)   (None, 125, 128)             0         ['batch_normalization_7[0][0]'\n",
            "                                                                    ]                             \n",
            "                                                                                                  \n",
            " conv1d_7 (Conv1D)           (None, 125, 128)             49280     ['activation_7[0][0]']        \n",
            "                                                                                                  \n",
            " batch_normalization_8 (Bat  (None, 125, 128)             512       ['conv1d_7[0][0]']            \n",
            " chNormalization)                                                                                 \n",
            "                                                                                                  \n",
            " activation_8 (Activation)   (None, 125, 128)             0         ['batch_normalization_8[0][0]'\n",
            "                                                                    ]                             \n",
            "                                                                                                  \n",
            " res3a_branch (Conv1D)       (None, 125, 512)             197120    ['activation_8[0][0]']        \n",
            "                                                                                                  \n",
            " conv1d_8 (Conv1D)           (None, 125, 512)             131584    ['activation_6[0][0]']        \n",
            "                                                                                                  \n",
            " batch_normalization_9 (Bat  (None, 125, 512)             2048      ['res3a_branch[0][0]']        \n",
            " chNormalization)                                                                                 \n",
            "                                                                                                  \n",
            " batch_normalization_10 (Ba  (None, 125, 512)             2048      ['conv1d_8[0][0]']            \n",
            " tchNormalization)                                                                                \n",
            "                                                                                                  \n",
            " add_2 (Add)                 (None, 125, 512)             0         ['batch_normalization_9[0][0]'\n",
            "                                                                    , 'batch_normalization_10[0][0\n",
            "                                                                    ]']                           \n",
            "                                                                                                  \n",
            " activation_9 (Activation)   (None, 125, 512)             0         ['add_2[0][0]']               \n",
            "                                                                                                  \n",
            " conv1d_9 (Conv1D)           (None, 125, 128)             65664     ['activation_9[0][0]']        \n",
            "                                                                                                  \n",
            " batch_normalization_11 (Ba  (None, 125, 128)             512       ['conv1d_9[0][0]']            \n",
            " tchNormalization)                                                                                \n",
            "                                                                                                  \n",
            " activation_10 (Activation)  (None, 125, 128)             0         ['batch_normalization_11[0][0]\n",
            "                                                                    ']                            \n",
            "                                                                                                  \n",
            " conv1d_10 (Conv1D)          (None, 125, 128)             49280     ['activation_10[0][0]']       \n",
            "                                                                                                  \n",
            " batch_normalization_12 (Ba  (None, 125, 128)             512       ['conv1d_10[0][0]']           \n",
            " tchNormalization)                                                                                \n",
            "                                                                                                  \n",
            " activation_11 (Activation)  (None, 125, 128)             0         ['batch_normalization_12[0][0]\n",
            "                                                                    ']                            \n",
            "                                                                                                  \n",
            " conv1d_11 (Conv1D)          (None, 125, 512)             66048     ['activation_11[0][0]']       \n",
            "                                                                                                  \n",
            " batch_normalization_13 (Ba  (None, 125, 512)             2048      ['conv1d_11[0][0]']           \n",
            " tchNormalization)                                                                                \n",
            "                                                                                                  \n",
            " add_3 (Add)                 (None, 125, 512)             0         ['batch_normalization_13[0][0]\n",
            "                                                                    ',                            \n",
            "                                                                     'activation_9[0][0]']        \n",
            "                                                                                                  \n",
            " activation_12 (Activation)  (None, 125, 512)             0         ['add_3[0][0]']               \n",
            "                                                                                                  \n",
            " conv1d_12 (Conv1D)          (None, 63, 256)              393472    ['activation_12[0][0]']       \n",
            "                                                                                                  \n",
            " batch_normalization_14 (Ba  (None, 63, 256)              1024      ['conv1d_12[0][0]']           \n",
            " tchNormalization)                                                                                \n",
            "                                                                                                  \n",
            " activation_13 (Activation)  (None, 63, 256)              0         ['batch_normalization_14[0][0]\n",
            "                                                                    ']                            \n",
            "                                                                                                  \n",
            " conv1d_13 (Conv1D)          (None, 63, 256)              196864    ['activation_13[0][0]']       \n",
            "                                                                                                  \n",
            " batch_normalization_15 (Ba  (None, 63, 256)              1024      ['conv1d_13[0][0]']           \n",
            " tchNormalization)                                                                                \n",
            "                                                                                                  \n",
            " activation_14 (Activation)  (None, 63, 256)              0         ['batch_normalization_15[0][0]\n",
            "                                                                    ']                            \n",
            "                                                                                                  \n",
            " res4a_branch (Conv1D)       (None, 63, 1024)             787456    ['activation_14[0][0]']       \n",
            "                                                                                                  \n",
            " conv1d_14 (Conv1D)          (None, 63, 1024)             525312    ['activation_12[0][0]']       \n",
            "                                                                                                  \n",
            " batch_normalization_16 (Ba  (None, 63, 1024)             4096      ['res4a_branch[0][0]']        \n",
            " tchNormalization)                                                                                \n",
            "                                                                                                  \n",
            " batch_normalization_17 (Ba  (None, 63, 1024)             4096      ['conv1d_14[0][0]']           \n",
            " tchNormalization)                                                                                \n",
            "                                                                                                  \n",
            " add_4 (Add)                 (None, 63, 1024)             0         ['batch_normalization_16[0][0]\n",
            "                                                                    ',                            \n",
            "                                                                     'batch_normalization_17[0][0]\n",
            "                                                                    ']                            \n",
            "                                                                                                  \n",
            " activation_15 (Activation)  (None, 63, 1024)             0         ['add_4[0][0]']               \n",
            "                                                                                                  \n",
            " conv1d_15 (Conv1D)          (None, 63, 256)              262400    ['activation_15[0][0]']       \n",
            "                                                                                                  \n",
            " batch_normalization_18 (Ba  (None, 63, 256)              1024      ['conv1d_15[0][0]']           \n",
            " tchNormalization)                                                                                \n",
            "                                                                                                  \n",
            " activation_16 (Activation)  (None, 63, 256)              0         ['batch_normalization_18[0][0]\n",
            "                                                                    ']                            \n",
            "                                                                                                  \n",
            " conv1d_16 (Conv1D)          (None, 63, 256)              196864    ['activation_16[0][0]']       \n",
            "                                                                                                  \n",
            " batch_normalization_19 (Ba  (None, 63, 256)              1024      ['conv1d_16[0][0]']           \n",
            " tchNormalization)                                                                                \n",
            "                                                                                                  \n",
            " activation_17 (Activation)  (None, 63, 256)              0         ['batch_normalization_19[0][0]\n",
            "                                                                    ']                            \n",
            "                                                                                                  \n",
            " conv1d_17 (Conv1D)          (None, 63, 1024)             263168    ['activation_17[0][0]']       \n",
            "                                                                                                  \n",
            " batch_normalization_20 (Ba  (None, 63, 1024)             4096      ['conv1d_17[0][0]']           \n",
            " tchNormalization)                                                                                \n",
            "                                                                                                  \n",
            " add_5 (Add)                 (None, 63, 1024)             0         ['batch_normalization_20[0][0]\n",
            "                                                                    ',                            \n",
            "                                                                     'activation_15[0][0]']       \n",
            "                                                                                                  \n",
            " activation_18 (Activation)  (None, 63, 1024)             0         ['add_5[0][0]']               \n",
            "                                                                                                  \n",
            " conv1d_18 (Conv1D)          (None, 32, 256)              786688    ['activation_18[0][0]']       \n",
            "                                                                                                  \n",
            " batch_normalization_21 (Ba  (None, 32, 256)              1024      ['conv1d_18[0][0]']           \n",
            " tchNormalization)                                                                                \n",
            "                                                                                                  \n",
            " activation_19 (Activation)  (None, 32, 256)              0         ['batch_normalization_21[0][0]\n",
            "                                                                    ']                            \n",
            "                                                                                                  \n",
            " conv1d_19 (Conv1D)          (None, 32, 256)              196864    ['activation_19[0][0]']       \n",
            "                                                                                                  \n",
            " batch_normalization_22 (Ba  (None, 32, 256)              1024      ['conv1d_19[0][0]']           \n",
            " tchNormalization)                                                                                \n",
            "                                                                                                  \n",
            " activation_20 (Activation)  (None, 32, 256)              0         ['batch_normalization_22[0][0]\n",
            "                                                                    ']                            \n",
            "                                                                                                  \n",
            " res5a_branch (Conv1D)       (None, 32, 2048)             1574912   ['activation_20[0][0]']       \n",
            "                                                                                                  \n",
            " conv1d_20 (Conv1D)          (None, 32, 2048)             2099200   ['activation_18[0][0]']       \n",
            "                                                                                                  \n",
            " batch_normalization_23 (Ba  (None, 32, 2048)             8192      ['res5a_branch[0][0]']        \n",
            " tchNormalization)                                                                                \n",
            "                                                                                                  \n",
            " batch_normalization_24 (Ba  (None, 32, 2048)             8192      ['conv1d_20[0][0]']           \n",
            " tchNormalization)                                                                                \n",
            "                                                                                                  \n",
            " add_6 (Add)                 (None, 32, 2048)             0         ['batch_normalization_23[0][0]\n",
            "                                                                    ',                            \n",
            "                                                                     'batch_normalization_24[0][0]\n",
            "                                                                    ']                            \n",
            "                                                                                                  \n",
            " activation_21 (Activation)  (None, 32, 2048)             0         ['add_6[0][0]']               \n",
            "                                                                                                  \n",
            " conv1d_21 (Conv1D)          (None, 32, 256)              524544    ['activation_21[0][0]']       \n",
            "                                                                                                  \n",
            " batch_normalization_25 (Ba  (None, 32, 256)              1024      ['conv1d_21[0][0]']           \n",
            " tchNormalization)                                                                                \n",
            "                                                                                                  \n",
            " activation_22 (Activation)  (None, 32, 256)              0         ['batch_normalization_25[0][0]\n",
            "                                                                    ']                            \n",
            "                                                                                                  \n",
            " conv1d_22 (Conv1D)          (None, 32, 256)              196864    ['activation_22[0][0]']       \n",
            "                                                                                                  \n",
            " batch_normalization_26 (Ba  (None, 32, 256)              1024      ['conv1d_22[0][0]']           \n",
            " tchNormalization)                                                                                \n",
            "                                                                                                  \n",
            " activation_23 (Activation)  (None, 32, 256)              0         ['batch_normalization_26[0][0]\n",
            "                                                                    ']                            \n",
            "                                                                                                  \n",
            " conv1d_23 (Conv1D)          (None, 32, 2048)             526336    ['activation_23[0][0]']       \n",
            "                                                                                                  \n",
            " batch_normalization_27 (Ba  (None, 32, 2048)             8192      ['conv1d_23[0][0]']           \n",
            " tchNormalization)                                                                                \n",
            "                                                                                                  \n",
            " add_7 (Add)                 (None, 32, 2048)             0         ['batch_normalization_27[0][0]\n",
            "                                                                    ',                            \n",
            "                                                                     'activation_21[0][0]']       \n",
            "                                                                                                  \n",
            " activation_24 (Activation)  (None, 32, 2048)             0         ['add_7[0][0]']               \n",
            "                                                                                                  \n",
            " global_average_pooling1d (  (None, 2048)                 0         ['activation_24[0][0]']       \n",
            " GlobalAveragePooling1D)                                                                          \n",
            "                                                                                                  \n",
            " reshape (Reshape)           (None, 1, 2048)              0         ['global_average_pooling1d[0][\n",
            "                                                                    0]']                          \n",
            "                                                                                                  \n",
            " dense (Dense)               (None, 1, 128)               262272    ['reshape[0][0]']             \n",
            "                                                                                                  \n",
            " dense_1 (Dense)             (None, 1, 2048)              264192    ['dense[0][0]']               \n",
            "                                                                                                  \n",
            " multiply (Multiply)         (None, 32, 2048)             0         ['activation_24[0][0]',       \n",
            "                                                                     'dense_1[0][0]']             \n",
            "                                                                                                  \n",
            " conv1d_transpose (Conv1DTr  (None, 64, 64)               393280    ['multiply[0][0]']            \n",
            " anspose)                                                                                         \n",
            "                                                                                                  \n",
            " batch_normalization_28 (Ba  (None, 64, 64)               256       ['conv1d_transpose[0][0]']    \n",
            " tchNormalization)                                                                                \n",
            "                                                                                                  \n",
            " leaky_re_lu (LeakyReLU)     (None, 64, 64)               0         ['batch_normalization_28[0][0]\n",
            "                                                                    ']                            \n",
            "                                                                                                  \n",
            " flatten (Flatten)           (None, 4096)                 0         ['leaky_re_lu[0][0]']         \n",
            "                                                                                                  \n",
            " dropout (Dropout)           (None, 4096)                 0         ['flatten[0][0]']             \n",
            "                                                                                                  \n",
            " dense_2 (Dense)             (None, 11)                   45067     ['dropout[0][0]']             \n",
            "                                                                                                  \n",
            "==================================================================================================\n",
            "Total params: 10347723 (39.47 MB)\n",
            "Trainable params: 10289995 (39.25 MB)\n",
            "Non-trainable params: 57728 (225.50 KB)\n",
            "__________________________________________________________________________________________________\n"
          ]
        }
      ],
      "source": [
        "# Constants\n",
        "NoF = 64  # Number of filters in the first convolutional layer\n",
        "SE_RATIO = 16  # Squeeze-and-Excitation ratio\n",
        "\n",
        "initializer = tf.keras.initializers.GlorotUniform(seed=0)\n",
        "initializer2 = tf.keras.initializers.HeUniform(seed=0)\n",
        "\n",
        "def squeeze_excitation_block(X, ratio=16):\n",
        "    num_channels = X.shape[-1]\n",
        "    se = tf.keras.layers.GlobalAveragePooling1D()(X)\n",
        "    se = tf.keras.layers.Reshape((1, num_channels))(se)\n",
        "    se = tf.keras.layers.Dense(num_channels // ratio, activation='relu', kernel_initializer=initializer)(se)\n",
        "    se = tf.keras.layers.Dense(num_channels, activation='sigmoid', kernel_initializer=initializer)(se)\n",
        "    return tf.keras.layers.Multiply()([X, se])\n",
        "\n",
        "\n",
        "from tensorflow.keras.layers import Conv1D, BatchNormalization, Activation, Add\n",
        "from tensorflow.keras import models, layers\n",
        "from tensorflow.keras import regularizers\n",
        "\n",
        "initializer = tf.keras.initializers.GlorotUniform(seed=0)\n",
        "initializer2 = tf.keras.initializers.HeUniform(seed=0)\n",
        "Stride=1\n",
        "\n",
        "def identity_block(X, f, filters, stage, block):\n",
        "\n",
        "  #defining name basis\n",
        "  ConvNameBase = 'res' + str(stage) + block + '_branch'\n",
        "  BatchNormBase = 'bn' + str(stage) + block + '_branch'\n",
        "\n",
        "  #retrieve filters\n",
        "  F1,F2,F3 = filters\n",
        "\n",
        "  #save the input value. You'll need this later to add back the main path\n",
        "  x_shortcut = X\n",
        "\n",
        "  ### First component of the main path ###\n",
        "  X = tf.keras.layers.Conv1D(filters=F1, kernel_size=1, strides=Stride, padding='same',\n",
        "             kernel_initializer=initializer#, name=ConvNameBase\n",
        "             )(X)\n",
        "  X = tf.keras.layers.BatchNormalization(axis=2, momentum=0.99, trainable=False,\n",
        "                         )(X)\n",
        "  X = tf.keras.layers.Activation('relu')(X)\n",
        "\n",
        "  ### Second component of main path ###\n",
        "  X = tf.keras.layers.Conv1D(filters=F2, kernel_size=f, strides=Stride, padding='same',\n",
        "             kernel_initializer=initializer, #name=ConvNameBase\n",
        "             )(X)\n",
        "  X = tf.keras.layers.BatchNormalization(axis=2, momentum=0.99, trainable=False,\n",
        "                         )(X)\n",
        "  X = tf.keras.layers.Activation('relu')(X)\n",
        "\n",
        "  #Third Component of main path\n",
        "  X = tf.keras.layers.Conv1D(filters=F3, kernel_size=1, strides=Stride, padding='same',\n",
        "             kernel_initializer=initializer#,name=ConvNameBase\n",
        "             )(X)\n",
        "  X = tf.keras.layers.BatchNormalization(axis=2, momentum=0.99, trainable=False,\n",
        "                         )(X)\n",
        "\n",
        "  #Final step: add shortcut to the main path, and pass it through ReLU activation\n",
        "  X = tf.keras.layers.Add()([X, x_shortcut])\n",
        "  X = tf.keras.layers.Activation('relu')(X)\n",
        "\n",
        "  return X\n",
        "\n",
        "def convolutional_block(X, f, filters, stage, block, s=2):\n",
        "\n",
        "  #Defining name bases\n",
        "  ConvNameBase = 'res' + str(stage) + block + '_branch'\n",
        "  BatchNormBase = 'res' + str(stage) + block + '_branch'\n",
        "\n",
        "  #retrive n_filters\n",
        "  F1, F2, F3 = filters\n",
        "\n",
        "  #Save the input value\n",
        "  x_shortcut = X\n",
        "\n",
        "  #First component of the main path\n",
        "  X = tf.keras.layers.Conv1D(F1, strides=s, kernel_size=f, kernel_initializer=initializer,\n",
        "             padding='same'#, name=ConvNameBase\n",
        "             )(X)\n",
        "  X = tf.keras.layers.BatchNormalization(axis=2, momentum=0.99, trainable=False,\n",
        "                         )(X)\n",
        "  X = tf.keras.layers.Activation('relu')(X)\n",
        "\n",
        "  #Second Component of main path\n",
        "  X = tf.keras.layers.Conv1D(filters=F2, kernel_size=f, strides=Stride, padding='same',\n",
        "             kernel_initializer=initializer#, name=ConvNameBase\n",
        "             )(X)\n",
        "  X = tf.keras.layers.BatchNormalization(axis=2, momentum=0.99, trainable=False,\n",
        "                         )(X)\n",
        "  X = tf.keras.layers.Activation('relu')(X)\n",
        "\n",
        "  #Third component of main path\n",
        "  X = tf.keras.layers.Conv1D(filters=F3, kernel_size=f, strides=Stride, padding='same',\n",
        "             kernel_initializer=initializer, name=ConvNameBase)(X)\n",
        "  X = tf.keras.layers.BatchNormalization(axis=2, momentum=0.99, trainable=False,\n",
        "  )(X)\n",
        "\n",
        "  ###### SHORTCUT PATH ######\n",
        "  x_shortcut = tf.keras.layers.Conv1D(filters = F3, kernel_size=1, strides=s,\n",
        "                      padding='same', #name=ConvNameBase,\n",
        "                      kernel_initializer=initializer)(x_shortcut)\n",
        "  x_shortcut = tf.keras.layers.BatchNormalization(axis=2, momentum=0.99, trainable=False,\n",
        "                                  )(x_shortcut)\n",
        "\n",
        "  #Add shortcut to main path and pass in through ReLU activation\n",
        "  X = tf.keras.layers.Add()([X, x_shortcut])\n",
        "  X = tf.keras.layers.Activation('relu')(X)\n",
        "\n",
        "  return X\n",
        "\n",
        "def create_model():\n",
        "    input_shape = (1000, 1)\n",
        "    nb_classes = 10 + 1\n",
        "\n",
        "    x_input = tf.keras.layers.Input(input_shape)\n",
        "    X = tf.keras.layers.ZeroPadding1D(padding=3)(x_input)\n",
        "\n",
        "    X = tf.keras.layers.Conv1D(NoF, kernel_size=7, strides=2, name='Convolution1',\n",
        "                               kernel_initializer=initializer)(X)\n",
        "    X = tf.keras.layers.BatchNormalization(name=\"BatchNormStage1\")(X)\n",
        "    X = tf.keras.layers.Activation('relu')(X)\n",
        "    X = tf.keras.layers.MaxPooling1D(3, strides=2)(X)\n",
        "\n",
        "    X = convolutional_block(X, f=3, filters=[NoF, NoF, NoF * 4], stage=2, block='a', s=1)\n",
        "    X = identity_block(X, 3, [NoF, NoF, NoF * 4], stage=2, block='b')\n",
        "\n",
        "    X = convolutional_block(X, f=3, filters=[NoF * 2, NoF * 2, NoF * 8], stage=3, block='a')\n",
        "    X = identity_block(X, 3, [NoF * 2, NoF * 2, NoF * 8], stage=3, block='b')\n",
        "\n",
        "    X = convolutional_block(X, f=3, filters=[NoF * 4, NoF * 4, NoF * 16], stage=4, block='a')\n",
        "    X = identity_block(X, 3, [NoF * 4, NoF * 4, NoF * 16], stage=4, block='b')\n",
        "\n",
        "    X = convolutional_block(X, f=3, filters=[NoF * 4, NoF * 4, NoF * 32], stage=5, block='a')\n",
        "    X = identity_block(X, f=3, filters=[NoF * 4, NoF * 4, NoF * 32], stage=5, block='b')\n",
        "\n",
        "    # Applying SE mechanism before transposed convolutional layers\n",
        "    X = squeeze_excitation_block(X)\n",
        "\n",
        "    # Adding transposed convolutional layers\n",
        "    X = Conv1DTranspose(filters=NoF, kernel_size=3, strides=2, padding='same', kernel_initializer=initializer)(X)\n",
        "    X = tf.keras.layers.BatchNormalization(axis=2, momentum=0.99, trainable=False,)(X)\n",
        "    X = LeakyReLU(alpha=0.2)(X)\n",
        "\n",
        "    X = Flatten()(X)\n",
        "\n",
        "    # Adding dropout regularization\n",
        "    X = Dropout(0.5)(X)\n",
        "\n",
        "    X = Dense(nb_classes, activation='softmax', kernel_initializer=initializer)(X)\n",
        "\n",
        "    res_net = models.Model(inputs=x_input, outputs=X, name='ResNet29')\n",
        "\n",
        "    return res_net\n",
        "\n",
        "model = create_model()\n",
        "model.summary()"
      ]
    },
    {
      "cell_type": "code",
      "execution_count": null,
      "metadata": {
        "id": "z5qnZJwwWOM1"
      },
      "outputs": [],
      "source": [
        "with strategy.scope():\n",
        "\n",
        "  # By N_classes, I mean classes of interest.\n",
        "  N_classes = 10\n",
        "\n",
        "  def Open_set_categorical_crossentropy_trial_total(target,output):\n",
        "    def Open_set_categorical_crossentropy_trial_first(target,output):\n",
        "      output = tf.convert_to_tensor(output)\n",
        "      target = tf.cast(target, target.dtype)\n",
        "\n",
        "      epsilon = tf.keras.backend.epsilon()\n",
        "      output = tf.clip_by_value(output, epsilon, 1. - epsilon)\n",
        "\n",
        "      Sum = tf.math.reduce_sum(output,axis=-1,keepdims=True)\n",
        "\n",
        "      output = tf.math.divide(output, Sum)\n",
        "\n",
        "      Checker = tf.math.reduce_sum(tf.math.multiply(Ignored_label, target),axis=-1)\n",
        "      One = tf.math.reduce_sum(tf.math.multiply(Ignored_label, Ignored_label),axis=-1)\n",
        "\n",
        "      output = - tf.math.reduce_sum(tf.math.multiply(target,tf.math.log(output)),axis=-1)\n",
        "      output = tf.math.multiply(tf.math.subtract(One,Checker),output)\n",
        "\n",
        "      return output\n",
        "\n",
        "    def Open_set_categorical_crossentropy_trial_second(target,output):\n",
        "      output = tf.convert_to_tensor(output)\n",
        "      target = tf.cast(target, target.dtype)\n",
        "\n",
        "      epsilon = tf.keras.backend.epsilon()\n",
        "      output = tf.clip_by_value(output, epsilon, 1. - epsilon)\n",
        "\n",
        "      Sum = tf.math.reduce_sum(output,axis=-1,keepdims=True)\n",
        "\n",
        "      output = tf.math.divide(output, Sum)\n",
        "\n",
        "      Checker = tf.math.reduce_sum(tf.math.multiply(Ignored_label, target),axis=-1)\n",
        "      One = tf.math.reduce_sum(tf.math.multiply(Ignored_label, Ignored_label),axis=-1)\n",
        "      Zero = tf.math.reduce_sum(tf.math.multiply(KnownLabels[1], KnownLabels[2]),axis=-1)\n",
        "\n",
        "      for i in range(N_classes):\n",
        "        addon = - tf.math.reduce_sum(tf.math.multiply(KnownLabels[i], tf.math.log(output)),axis=-1)\n",
        "        addon = tf.math.divide(addon,N_classes)\n",
        "        Zero = tf.math.add(addon,Zero)\n",
        "      Zero = tf.math.multiply(Checker, Zero)\n",
        "\n",
        "      return Zero\n",
        "\n",
        "    output1 = Open_set_categorical_crossentropy_trial_first(target,output)\n",
        "    output2 = Open_set_categorical_crossentropy_trial_second(target,output)\n",
        "    output3 = Open_set_categorical_crossentropy_trial_second(target,output)\n",
        "\n",
        "    output = tf.math.add(output1,output2)\n",
        "    output = tf.math.add(output,output3)\n",
        "\n",
        "    return output\n",
        "\n",
        "  res_net = create_model()\n",
        "\n",
        "  optimizer = tf.keras.optimizers.Adam(learning_rate=.00001)\n",
        "\n",
        "  checkpoint = tf.train.Checkpoint(optimizer=optimizer, model=res_net)\n",
        "\n",
        "  callbacks = [EarlyStopping(monitor='val_loss', patience=20, mode='min'), ModelCheckpoint('/content/gdrive/MyDrive/Stanford_data/01_EOS_K_p1_I_p3.h5', verbose=1, monitor='val_loss', save_best_only=True, mode='min')]\n",
        "  res_net.compile(loss=Open_set_categorical_crossentropy_trial_total,optimizer=tf.keras.optimizers.Adam(learning_rate=.00001))\n",
        "\n",
        "  Known_and_Ignored_data_X_reference, Known_and_Ignored_data_X_train_label = shuffle(Known_and_Ignored_data_X_reference,Known_and_Ignored_data_X_train_label)\n",
        "\n",
        "  history = res_net.fit(Known_and_Ignored_data_X_reference, Known_and_Ignored_data_X_train_label, epochs=200, batch_size=32, verbose=1, validation_split=0.2, shuffle=True, callbacks=callbacks)"
      ]
    },
    {
      "cell_type": "code",
      "execution_count": null,
      "metadata": {
        "colab": {
          "base_uri": "https://localhost:8080/"
        },
        "id": "KUeC7gc9WOQP",
        "outputId": "1314c6d0-a125-424b-d35d-dcb2f158518b"
      },
      "outputs": [
        {
          "name": "stdout",
          "output_type": "stream",
          "text": [
            "32/32 [==============================] - 6s 106ms/step - loss: 1.9461 - accuracy: 0.5420\n",
            "Test accuracy, 01 run: 0.5419999957084656\n",
            "32/32 [==============================] - 6s 113ms/step - loss: 1.9097 - accuracy: 0.5380\n",
            "Test accuracy, 02 run: 0.5379999876022339\n",
            "32/32 [==============================] - 6s 118ms/step - loss: 1.8372 - accuracy: 0.5520\n",
            "Test accuracy, 03 run: 0.5519999861717224\n",
            "32/32 [==============================] - 6s 112ms/step - loss: 1.8776 - accuracy: 0.5510\n",
            "Test accuracy, 04 run: 0.5509999990463257\n",
            "32/32 [==============================] - 5s 111ms/step - loss: 2.2725 - accuracy: 0.5250\n",
            "Test accuracy, 05 run: 0.5249999761581421\n",
            "32/32 [==============================] - 6s 114ms/step - loss: 1.8087 - accuracy: 0.5400\n",
            "Test accuracy, 06 run: 0.5400000214576721\n",
            "32/32 [==============================] - 6s 114ms/step - loss: 2.0454 - accuracy: 0.5450\n",
            "Test accuracy, 07 run: 0.5450000166893005\n",
            "32/32 [==============================] - 6s 115ms/step - loss: 1.8415 - accuracy: 0.5640\n",
            "Test accuracy, 08 run: 0.5640000104904175\n",
            "32/32 [==============================] - 5s 109ms/step - loss: 1.9855 - accuracy: 0.5530\n",
            "Test accuracy, 09 run: 0.5529999732971191\n",
            "32/32 [==============================] - 5s 112ms/step - loss: 1.9800 - accuracy: 0.5710\n",
            "Test accuracy, 10 run: 0.5709999799728394\n",
            "32/32 [==============================] - 6s 114ms/step - loss: 1.7668 - accuracy: 0.5560\n",
            "Test accuracy, 11 run: 0.5559999942779541\n",
            "32/32 [==============================] - 7s 115ms/step - loss: 1.7911 - accuracy: 0.5600\n",
            "Test accuracy, 12 run: 0.5600000023841858\n",
            "32/32 [==============================] - 6s 113ms/step - loss: 1.7390 - accuracy: 0.5790\n",
            "Test accuracy, 13 run: 0.5789999961853027\n",
            "32/32 [==============================] - 6s 120ms/step - loss: 2.0908 - accuracy: 0.5330\n",
            "Test accuracy, 14 run: 0.5329999923706055\n",
            "32/32 [==============================] - 6s 119ms/step - loss: 2.1117 - accuracy: 0.5300\n",
            "Test accuracy, 15 run: 0.5299999713897705\n",
            "32/32 [==============================] - 6s 108ms/step - loss: 2.0521 - accuracy: 0.5360\n",
            "Test accuracy, 16 run: 0.5360000133514404\n",
            "32/32 [==============================] - 6s 117ms/step - loss: 1.9913 - accuracy: 0.5500\n",
            "Test accuracy, 17 run: 0.550000011920929\n",
            "32/32 [==============================] - 6s 115ms/step - loss: 2.0394 - accuracy: 0.5630\n",
            "Test accuracy, 18 run: 0.5630000233650208\n",
            "32/32 [==============================] - 6s 115ms/step - loss: 1.6913 - accuracy: 0.5750\n",
            "Test accuracy, 19 run: 0.574999988079071\n",
            "32/32 [==============================] - 6s 114ms/step - loss: 1.9024 - accuracy: 0.5440\n",
            "Test accuracy, 20 run: 0.5440000295639038\n"
          ]
        }
      ],
      "source": [
        "# Now run and see the models with the best validation accuracy\n",
        "\n",
        "res_net = create_model()\n",
        "res_net.load_weights(\"/content/gdrive/MyDrive/Stanford_data/01_EOS_K_p1_I_p3.h5\")\n",
        "res_net.compile(loss=\"categorical_crossentropy\",optimizer=tf.keras.optimizers.Adam(learning_rate=.00001),\n",
        "            metrics=['accuracy'])\n",
        "test_loss, test_acc = res_net.evaluate(Known_data_X_test,Known_data_X_test_label)\n",
        "print('Test accuracy, 01 run:', test_acc)\n",
        "\n",
        "res_net = create_model()\n",
        "res_net.load_weights(\"/content/gdrive/MyDrive/Stanford_data/02_EOS_K_p1_I_p3.h5\")\n",
        "res_net.compile(loss=\"categorical_crossentropy\",optimizer=tf.keras.optimizers.Adam(learning_rate=.00001),\n",
        "            metrics=['accuracy'])\n",
        "test_loss, test_acc = res_net.evaluate(Known_data_X_test,Known_data_X_test_label)\n",
        "print('Test accuracy, 02 run:', test_acc)\n",
        "\n",
        "res_net = create_model()\n",
        "res_net.load_weights(\"/content/gdrive/MyDrive/Stanford_data/03_EOS_K_p1_I_p3.h5\")\n",
        "res_net.compile(loss=\"categorical_crossentropy\",optimizer=tf.keras.optimizers.Adam(learning_rate=.00001),\n",
        "            metrics=['accuracy'])\n",
        "test_loss, test_acc = res_net.evaluate(Known_data_X_test,Known_data_X_test_label)\n",
        "print('Test accuracy, 03 run:', test_acc)\n",
        "\n",
        "res_net = create_model()\n",
        "res_net.load_weights(\"/content/gdrive/MyDrive/Stanford_data/04_EOS_K_p1_I_p3.h5\")\n",
        "res_net.compile(loss=\"categorical_crossentropy\",optimizer=tf.keras.optimizers.Adam(learning_rate=.00001),\n",
        "            metrics=['accuracy'])\n",
        "test_loss, test_acc = res_net.evaluate(Known_data_X_test,Known_data_X_test_label)\n",
        "print('Test accuracy, 04 run:', test_acc)\n",
        "\n",
        "res_net = create_model()\n",
        "res_net.load_weights(\"/content/gdrive/MyDrive/Stanford_data/05_EOS_K_p1_I_p3.h5\")\n",
        "res_net.compile(loss=\"categorical_crossentropy\",optimizer=tf.keras.optimizers.Adam(learning_rate=.00001),\n",
        "            metrics=['accuracy'])\n",
        "test_loss, test_acc = res_net.evaluate(Known_data_X_test,Known_data_X_test_label)\n",
        "print('Test accuracy, 05 run:', test_acc)\n",
        "\n",
        "res_net = create_model()\n",
        "res_net.load_weights(\"/content/gdrive/MyDrive/Stanford_data/06_EOS_K_p1_I_p3.h5\")\n",
        "res_net.compile(loss=\"categorical_crossentropy\",optimizer=tf.keras.optimizers.Adam(learning_rate=.00001),\n",
        "            metrics=['accuracy'])\n",
        "test_loss, test_acc = res_net.evaluate(Known_data_X_test,Known_data_X_test_label)\n",
        "print('Test accuracy, 06 run:', test_acc)\n",
        "\n",
        "res_net = create_model()\n",
        "res_net.load_weights(\"/content/gdrive/MyDrive/Stanford_data/07_EOS_K_p1_I_p3.h5\")\n",
        "res_net.compile(loss=\"categorical_crossentropy\",optimizer=tf.keras.optimizers.Adam(learning_rate=.00001),\n",
        "            metrics=['accuracy'])\n",
        "test_loss, test_acc = res_net.evaluate(Known_data_X_test,Known_data_X_test_label)\n",
        "print('Test accuracy, 07 run:', test_acc)\n",
        "\n",
        "res_net = create_model()\n",
        "res_net.load_weights(\"/content/gdrive/MyDrive/Stanford_data/08_EOS_K_p1_I_p3.h5\")\n",
        "res_net.compile(loss=\"categorical_crossentropy\",optimizer=tf.keras.optimizers.Adam(learning_rate=.00001),\n",
        "            metrics=['accuracy'])\n",
        "test_loss, test_acc = res_net.evaluate(Known_data_X_test,Known_data_X_test_label)\n",
        "print('Test accuracy, 08 run:', test_acc)\n",
        "\n",
        "res_net = create_model()\n",
        "res_net.load_weights(\"/content/gdrive/MyDrive/Stanford_data/09_EOS_K_p1_I_p3.h5\")\n",
        "res_net.compile(loss=\"categorical_crossentropy\",optimizer=tf.keras.optimizers.Adam(learning_rate=.00001),\n",
        "            metrics=['accuracy'])\n",
        "test_loss, test_acc = res_net.evaluate(Known_data_X_test,Known_data_X_test_label)\n",
        "print('Test accuracy, 09 run:', test_acc)\n",
        "\n",
        "res_net = create_model()\n",
        "res_net.load_weights(\"/content/gdrive/MyDrive/Stanford_data/10_EOS_K_p1_I_p3.h5\")\n",
        "res_net.compile(loss=\"categorical_crossentropy\",optimizer=tf.keras.optimizers.Adam(learning_rate=.00001),\n",
        "            metrics=['accuracy'])\n",
        "test_loss, test_acc = res_net.evaluate(Known_data_X_test,Known_data_X_test_label)\n",
        "print('Test accuracy, 10 run:', test_acc)\n",
        "\n",
        "res_net = create_model()\n",
        "res_net.load_weights(\"/content/gdrive/MyDrive/Stanford_data/11_EOS_K_p1_I_p3.h5\")\n",
        "res_net.compile(loss=\"categorical_crossentropy\",optimizer=tf.keras.optimizers.Adam(learning_rate=.00001),\n",
        "            metrics=['accuracy'])\n",
        "test_loss, test_acc = res_net.evaluate(Known_data_X_test,Known_data_X_test_label)\n",
        "print('Test accuracy, 11 run:', test_acc)\n",
        "\n",
        "res_net = create_model()\n",
        "res_net.load_weights(\"/content/gdrive/MyDrive/Stanford_data/12_EOS_K_p1_I_p3.h5\")\n",
        "res_net.compile(loss=\"categorical_crossentropy\",optimizer=tf.keras.optimizers.Adam(learning_rate=.00001),\n",
        "            metrics=['accuracy'])\n",
        "test_loss, test_acc = res_net.evaluate(Known_data_X_test,Known_data_X_test_label)\n",
        "print('Test accuracy, 12 run:', test_acc)\n",
        "\n",
        "res_net = create_model()\n",
        "res_net.load_weights(\"/content/gdrive/MyDrive/Stanford_data/13_EOS_K_p1_I_p3.h5\")\n",
        "res_net.compile(loss=\"categorical_crossentropy\",optimizer=tf.keras.optimizers.Adam(learning_rate=.00001),\n",
        "            metrics=['accuracy'])\n",
        "test_loss, test_acc = res_net.evaluate(Known_data_X_test,Known_data_X_test_label)\n",
        "print('Test accuracy, 13 run:', test_acc)\n",
        "\n",
        "res_net = create_model()\n",
        "res_net.load_weights(\"/content/gdrive/MyDrive/Stanford_data/14_EOS_K_p1_I_p3.h5\")\n",
        "res_net.compile(loss=\"categorical_crossentropy\",optimizer=tf.keras.optimizers.Adam(learning_rate=.00001),\n",
        "            metrics=['accuracy'])\n",
        "test_loss, test_acc = res_net.evaluate(Known_data_X_test,Known_data_X_test_label)\n",
        "print('Test accuracy, 14 run:', test_acc)\n",
        "\n",
        "res_net = create_model()\n",
        "res_net.load_weights(\"/content/gdrive/MyDrive/Stanford_data/15_EOS_K_p1_I_p3.h5\")\n",
        "res_net.compile(loss=\"categorical_crossentropy\",optimizer=tf.keras.optimizers.Adam(learning_rate=.00001),\n",
        "            metrics=['accuracy'])\n",
        "test_loss, test_acc = res_net.evaluate(Known_data_X_test,Known_data_X_test_label)\n",
        "print('Test accuracy, 15 run:', test_acc)\n",
        "\n",
        "res_net = create_model()\n",
        "res_net.load_weights(\"/content/gdrive/MyDrive/Stanford_data/16_EOS_K_p1_I_p3.h5\")\n",
        "res_net.compile(loss=\"categorical_crossentropy\",optimizer=tf.keras.optimizers.Adam(learning_rate=.00001),\n",
        "            metrics=['accuracy'])\n",
        "test_loss, test_acc = res_net.evaluate(Known_data_X_test,Known_data_X_test_label)\n",
        "print('Test accuracy, 16 run:', test_acc)\n",
        "\n",
        "res_net = create_model()\n",
        "res_net.load_weights(\"/content/gdrive/MyDrive/Stanford_data/17_EOS_K_p1_I_p3.h5\")\n",
        "res_net.compile(loss=\"categorical_crossentropy\",optimizer=tf.keras.optimizers.Adam(learning_rate=.00001),\n",
        "            metrics=['accuracy'])\n",
        "test_loss, test_acc = res_net.evaluate(Known_data_X_test,Known_data_X_test_label)\n",
        "print('Test accuracy, 17 run:', test_acc)\n",
        "\n",
        "res_net = create_model()\n",
        "res_net.load_weights(\"/content/gdrive/MyDrive/Stanford_data/18_EOS_K_p1_I_p3.h5\")\n",
        "res_net.compile(loss=\"categorical_crossentropy\",optimizer=tf.keras.optimizers.Adam(learning_rate=.00001),\n",
        "            metrics=['accuracy'])\n",
        "test_loss, test_acc = res_net.evaluate(Known_data_X_test,Known_data_X_test_label)\n",
        "print('Test accuracy, 18 run:', test_acc)\n",
        "\n",
        "res_net = create_model()\n",
        "res_net.load_weights(\"/content/gdrive/MyDrive/Stanford_data/19_EOS_K_p1_I_p3.h5\")\n",
        "res_net.compile(loss=\"categorical_crossentropy\",optimizer=tf.keras.optimizers.Adam(learning_rate=.00001),\n",
        "            metrics=['accuracy'])\n",
        "test_loss, test_acc = res_net.evaluate(Known_data_X_test,Known_data_X_test_label)\n",
        "print('Test accuracy, 19 run:', test_acc)\n",
        "\n",
        "res_net = create_model()\n",
        "res_net.load_weights(\"/content/gdrive/MyDrive/Stanford_data/20_EOS_K_p1_I_p3.h5\")\n",
        "res_net.compile(loss=\"categorical_crossentropy\",optimizer=tf.keras.optimizers.Adam(learning_rate=.00001),\n",
        "            metrics=['accuracy'])\n",
        "test_loss, test_acc = res_net.evaluate(Known_data_X_test,Known_data_X_test_label)\n",
        "print('Test accuracy, 20 run:', test_acc)"
      ]
    },
    {
      "cell_type": "code",
      "execution_count": null,
      "metadata": {
        "id": "YlOkCir_WOSa"
      },
      "outputs": [],
      "source": [
        "with strategy.scope():\n",
        "\n",
        "  # By N_classes, I mean classes of interest.\n",
        "  N_classes = 10\n",
        "\n",
        "  def Open_set_categorical_crossentropy_trial_total(target,output):\n",
        "    def Open_set_categorical_crossentropy_trial_first(target,output):\n",
        "      output = tf.convert_to_tensor(output)\n",
        "      target = tf.cast(target, target.dtype)\n",
        "\n",
        "      epsilon = tf.keras.backend.epsilon()\n",
        "      output = tf.clip_by_value(output, epsilon, 1. - epsilon)\n",
        "\n",
        "      Sum = tf.math.reduce_sum(output,axis=-1,keepdims=True)\n",
        "\n",
        "      output = tf.math.divide(output, Sum)\n",
        "\n",
        "      Checker = tf.math.reduce_sum(tf.math.multiply(Ignored_label, target),axis=-1)\n",
        "      One = tf.math.reduce_sum(tf.math.multiply(Ignored_label, Ignored_label),axis=-1)\n",
        "\n",
        "      output = - tf.math.reduce_sum(tf.math.multiply(target,tf.math.log(output)),axis=-1)\n",
        "      output = tf.math.multiply(tf.math.subtract(One,Checker),output)\n",
        "\n",
        "      return output\n",
        "\n",
        "    def Open_set_categorical_crossentropy_trial_second(target,output):\n",
        "      output = tf.convert_to_tensor(output)\n",
        "      target = tf.cast(target, target.dtype)\n",
        "\n",
        "      epsilon = tf.keras.backend.epsilon()\n",
        "      output = tf.clip_by_value(output, epsilon, 1. - epsilon)\n",
        "\n",
        "      Sum = tf.math.reduce_sum(output,axis=-1,keepdims=True)\n",
        "\n",
        "      output = tf.math.divide(output, Sum)\n",
        "\n",
        "      Checker = tf.math.reduce_sum(tf.math.multiply(Ignored_label, target),axis=-1)\n",
        "      One = tf.math.reduce_sum(tf.math.multiply(Ignored_label, Ignored_label),axis=-1)\n",
        "      Zero = tf.math.reduce_sum(tf.math.multiply(KnownLabels[1], KnownLabels[2]),axis=-1)\n",
        "\n",
        "      for i in range(N_classes):\n",
        "        addon = - tf.math.reduce_sum(tf.math.multiply(KnownLabels[i], tf.math.log(output)),axis=-1)\n",
        "        addon = tf.math.divide(addon,N_classes)\n",
        "        Zero = tf.math.add(addon,Zero)\n",
        "      Zero = tf.math.multiply(Checker, Zero)\n",
        "\n",
        "      return Zero\n",
        "\n",
        "    output1 = Open_set_categorical_crossentropy_trial_first(target,output)\n",
        "    output2 = Open_set_categorical_crossentropy_trial_second(target,output)\n",
        "    output3 = Open_set_categorical_crossentropy_trial_second(target,output)\n",
        "\n",
        "    output = tf.math.add(output1,output2)\n",
        "    output = tf.math.add(output,output3)\n",
        "\n",
        "    return output\n",
        "\n",
        "  res_net = create_model()\n",
        "\n",
        "  optimizer = tf.keras.optimizers.Adam(learning_rate=.00001/10)\n",
        "\n",
        "  checkpoint = tf.train.Checkpoint(optimizer=optimizer, model=res_net)\n",
        "\n",
        "  callbacks = [EarlyStopping(monitor='val_loss', patience=30, mode='min'), ModelCheckpoint('/content/gdrive/MyDrive/Stanford_data/01_EOS_K_p1_I_p3_FTm3.h5', verbose=1, monitor='val_loss', save_best_only=True, mode='min')]\n",
        "  res_net.compile(loss=Open_set_categorical_crossentropy_trial_total,optimizer=tf.keras.optimizers.Adam(learning_rate=.00001/10))\n",
        "\n",
        "  Known_and_Ignored_data_X_finetune,Known_and_Ignored_data_X_finetune_label = shuffle(Known_and_Ignored_data_X_finetune,Known_and_Ignored_data_X_finetune_label)\n",
        "\n",
        "  res_net.load_weights(\"/content/gdrive/MyDrive/Stanford_data/01_EOS_K_p1_I_p3.h5\")\n",
        "\n",
        "  for layer in res_net.layers[:-3]:\n",
        "    layer.trainable = False\n",
        "\n",
        "  history = res_net.fit(Known_and_Ignored_data_X_finetune,Known_and_Ignored_data_X_finetune_label, epochs=500, batch_size=32, verbose=1, validation_split=0.2, shuffle=True, callbacks=callbacks)\n",
        "\n",
        "  res_net.save_weights('/content/gdrive/MyDrive/Stanford_data/01_EOS_K_p1_I_p3_FTm3_PP.h5')"
      ]
    },
    {
      "cell_type": "code",
      "execution_count": null,
      "metadata": {
        "colab": {
          "base_uri": "https://localhost:8080/"
        },
        "id": "40sOWBwczqBT",
        "outputId": "141a291c-f750-4a91-f43b-60ec3e314658"
      },
      "outputs": [
        {
          "name": "stdout",
          "output_type": "stream",
          "text": [
            "32/32 [==============================] - 12s 33ms/step - loss: 0.4131 - accuracy: 0.8850\n",
            "Test accuracy, 01 run: 0.8849999904632568\n",
            "32/32 [==============================] - 2s 22ms/step - loss: 0.3664 - accuracy: 0.9000\n",
            "Test accuracy, 02 run: 0.8999999761581421\n",
            "32/32 [==============================] - 2s 22ms/step - loss: 0.3923 - accuracy: 0.8870\n",
            "Test accuracy, 03 run: 0.8870000243186951\n",
            "32/32 [==============================] - 3s 22ms/step - loss: 0.4166 - accuracy: 0.8890\n",
            "Test accuracy, 04 run: 0.8889999985694885\n",
            "32/32 [==============================] - 2s 22ms/step - loss: 0.4212 - accuracy: 0.8790\n",
            "Test accuracy, 05 run: 0.8790000081062317\n",
            "32/32 [==============================] - 2s 22ms/step - loss: 0.3996 - accuracy: 0.8890\n",
            "Test accuracy, 06 run: 0.8889999985694885\n",
            "32/32 [==============================] - 2s 23ms/step - loss: 0.4206 - accuracy: 0.8950\n",
            "Test accuracy, 07 run: 0.8949999809265137\n",
            "32/32 [==============================] - 2s 22ms/step - loss: 0.4317 - accuracy: 0.8900\n",
            "Test accuracy, 08 run: 0.8899999856948853\n",
            "32/32 [==============================] - 2s 22ms/step - loss: 0.4318 - accuracy: 0.8900\n",
            "Test accuracy, 09 run: 0.8899999856948853\n",
            "32/32 [==============================] - 2s 23ms/step - loss: 0.4074 - accuracy: 0.8890\n",
            "Test accuracy, 10 run: 0.8889999985694885\n",
            "32/32 [==============================] - 2s 22ms/step - loss: 0.3708 - accuracy: 0.8880\n",
            "Test accuracy, 11 run: 0.8880000114440918\n",
            "32/32 [==============================] - 2s 22ms/step - loss: 0.3705 - accuracy: 0.8990\n",
            "Test accuracy, 12 run: 0.8989999890327454\n",
            "32/32 [==============================] - 2s 21ms/step - loss: 0.4026 - accuracy: 0.8890\n",
            "Test accuracy, 13 run: 0.8889999985694885\n",
            "32/32 [==============================] - 2s 22ms/step - loss: 0.4145 - accuracy: 0.8790\n",
            "Test accuracy, 14 run: 0.8790000081062317\n",
            "32/32 [==============================] - 2s 22ms/step - loss: 0.3783 - accuracy: 0.9020\n",
            "Test accuracy, 15 run: 0.9020000100135803\n",
            "32/32 [==============================] - 2s 22ms/step - loss: 0.4192 - accuracy: 0.8920\n",
            "Test accuracy, 16 run: 0.8920000195503235\n",
            "32/32 [==============================] - 2s 22ms/step - loss: 0.4200 - accuracy: 0.8930\n",
            "Test accuracy, 17 run: 0.8930000066757202\n",
            "32/32 [==============================] - 3s 22ms/step - loss: 0.4060 - accuracy: 0.8910\n",
            "Test accuracy, 18 run: 0.890999972820282\n",
            "32/32 [==============================] - 2s 22ms/step - loss: 0.3994 - accuracy: 0.8950\n",
            "Test accuracy, 19 run: 0.8949999809265137\n",
            "32/32 [==============================] - 2s 23ms/step - loss: 0.3660 - accuracy: 0.8940\n",
            "Test accuracy, 20 run: 0.8939999938011169\n"
          ]
        }
      ],
      "source": [
        "# Now run and see the models with the best validation accuracy\n",
        "\n",
        "res_net = create_model()\n",
        "res_net.load_weights(\"/content/gdrive/MyDrive/Stanford_data/01_EOS_K_p1_I_p3_FTm3_PP.h5\")\n",
        "res_net.compile(loss=\"categorical_crossentropy\",optimizer=tf.keras.optimizers.Adam(learning_rate=.00001/10),\n",
        "            metrics=['accuracy'])\n",
        "test_loss, test_acc = res_net.evaluate(Known_data_X_test,Known_data_X_test_label)\n",
        "print('Test accuracy, 01 run:', test_acc)\n",
        "\n",
        "res_net = create_model()\n",
        "res_net.load_weights(\"/content/gdrive/MyDrive/Stanford_data/02_EOS_K_p1_I_p3_FTm3_PP.h5\")\n",
        "res_net.compile(loss=\"categorical_crossentropy\",optimizer=tf.keras.optimizers.Adam(learning_rate=.00001/10),\n",
        "            metrics=['accuracy'])\n",
        "test_loss, test_acc = res_net.evaluate(Known_data_X_test,Known_data_X_test_label)\n",
        "print('Test accuracy, 02 run:', test_acc)\n",
        "\n",
        "res_net = create_model()\n",
        "res_net.load_weights(\"/content/gdrive/MyDrive/Stanford_data/03_EOS_K_p1_I_p3_FTm3_PP.h5\")\n",
        "res_net.compile(loss=\"categorical_crossentropy\",optimizer=tf.keras.optimizers.Adam(learning_rate=.00001/10),\n",
        "            metrics=['accuracy'])\n",
        "test_loss, test_acc = res_net.evaluate(Known_data_X_test,Known_data_X_test_label)\n",
        "print('Test accuracy, 03 run:', test_acc)\n",
        "\n",
        "res_net = create_model()\n",
        "res_net.load_weights(\"/content/gdrive/MyDrive/Stanford_data/04_EOS_K_p1_I_p3_FTm3_PP.h5\")\n",
        "res_net.compile(loss=\"categorical_crossentropy\",optimizer=tf.keras.optimizers.Adam(learning_rate=.00001/10),\n",
        "            metrics=['accuracy'])\n",
        "test_loss, test_acc = res_net.evaluate(Known_data_X_test,Known_data_X_test_label)\n",
        "print('Test accuracy, 04 run:', test_acc)\n",
        "\n",
        "res_net = create_model()\n",
        "res_net.load_weights(\"/content/gdrive/MyDrive/Stanford_data/05_EOS_K_p1_I_p3_FTm3_PP.h5\")\n",
        "res_net.compile(loss=\"categorical_crossentropy\",optimizer=tf.keras.optimizers.Adam(learning_rate=.00001/10),\n",
        "            metrics=['accuracy'])\n",
        "test_loss, test_acc = res_net.evaluate(Known_data_X_test,Known_data_X_test_label)\n",
        "print('Test accuracy, 05 run:', test_acc)\n",
        "\n",
        "res_net = create_model()\n",
        "res_net.load_weights(\"/content/gdrive/MyDrive/Stanford_data/06_EOS_K_p1_I_p3_FTm3_PP.h5\")\n",
        "res_net.compile(loss=\"categorical_crossentropy\",optimizer=tf.keras.optimizers.Adam(learning_rate=.00001/10),\n",
        "            metrics=['accuracy'])\n",
        "test_loss, test_acc = res_net.evaluate(Known_data_X_test,Known_data_X_test_label)\n",
        "print('Test accuracy, 06 run:', test_acc)\n",
        "\n",
        "res_net = create_model()\n",
        "res_net.load_weights(\"/content/gdrive/MyDrive/Stanford_data/07_EOS_K_p1_I_p3_FTm3_PP.h5\")\n",
        "res_net.compile(loss=\"categorical_crossentropy\",optimizer=tf.keras.optimizers.Adam(learning_rate=.00001/10),\n",
        "            metrics=['accuracy'])\n",
        "test_loss, test_acc = res_net.evaluate(Known_data_X_test,Known_data_X_test_label)\n",
        "print('Test accuracy, 07 run:', test_acc)\n",
        "\n",
        "res_net = create_model()\n",
        "res_net.load_weights(\"/content/gdrive/MyDrive/Stanford_data/08_EOS_K_p1_I_p3_FTm3_PP.h5\")\n",
        "res_net.compile(loss=\"categorical_crossentropy\",optimizer=tf.keras.optimizers.Adam(learning_rate=.00001/10),\n",
        "            metrics=['accuracy'])\n",
        "test_loss, test_acc = res_net.evaluate(Known_data_X_test,Known_data_X_test_label)\n",
        "print('Test accuracy, 08 run:', test_acc)\n",
        "\n",
        "res_net = create_model()\n",
        "res_net.load_weights(\"/content/gdrive/MyDrive/Stanford_data/09_EOS_K_p1_I_p3_FTm3_PP.h5\")\n",
        "res_net.compile(loss=\"categorical_crossentropy\",optimizer=tf.keras.optimizers.Adam(learning_rate=.00001/10),\n",
        "            metrics=['accuracy'])\n",
        "test_loss, test_acc = res_net.evaluate(Known_data_X_test,Known_data_X_test_label)\n",
        "print('Test accuracy, 09 run:', test_acc)\n",
        "\n",
        "res_net = create_model()\n",
        "res_net.load_weights(\"/content/gdrive/MyDrive/Stanford_data/10_EOS_K_p1_I_p3_FTm3_PP.h5\")\n",
        "res_net.compile(loss=\"categorical_crossentropy\",optimizer=tf.keras.optimizers.Adam(learning_rate=.00001/10),\n",
        "            metrics=['accuracy'])\n",
        "test_loss, test_acc = res_net.evaluate(Known_data_X_test,Known_data_X_test_label)\n",
        "print('Test accuracy, 10 run:', test_acc)\n",
        "\n",
        "res_net = create_model()\n",
        "res_net.load_weights(\"/content/gdrive/MyDrive/Stanford_data/11_EOS_K_p1_I_p3_FTm3_PP.h5\")\n",
        "res_net.compile(loss=\"categorical_crossentropy\",optimizer=tf.keras.optimizers.Adam(learning_rate=.00001/10),\n",
        "            metrics=['accuracy'])\n",
        "test_loss, test_acc = res_net.evaluate(Known_data_X_test,Known_data_X_test_label)\n",
        "print('Test accuracy, 11 run:', test_acc)\n",
        "\n",
        "res_net = create_model()\n",
        "res_net.load_weights(\"/content/gdrive/MyDrive/Stanford_data/12_EOS_K_p1_I_p3_FTm3_PP.h5\")\n",
        "res_net.compile(loss=\"categorical_crossentropy\",optimizer=tf.keras.optimizers.Adam(learning_rate=.00001/10),\n",
        "            metrics=['accuracy'])\n",
        "test_loss, test_acc = res_net.evaluate(Known_data_X_test,Known_data_X_test_label)\n",
        "print('Test accuracy, 12 run:', test_acc)\n",
        "\n",
        "res_net = create_model()\n",
        "res_net.load_weights(\"/content/gdrive/MyDrive/Stanford_data/13_EOS_K_p1_I_p3_FTm3_PP.h5\")\n",
        "res_net.compile(loss=\"categorical_crossentropy\",optimizer=tf.keras.optimizers.Adam(learning_rate=.00001/10),\n",
        "            metrics=['accuracy'])\n",
        "test_loss, test_acc = res_net.evaluate(Known_data_X_test,Known_data_X_test_label)\n",
        "print('Test accuracy, 13 run:', test_acc)\n",
        "\n",
        "res_net = create_model()\n",
        "res_net.load_weights(\"/content/gdrive/MyDrive/Stanford_data/14_EOS_K_p1_I_p3_FTm3_PP.h5\")\n",
        "res_net.compile(loss=\"categorical_crossentropy\",optimizer=tf.keras.optimizers.Adam(learning_rate=.00001/10),\n",
        "            metrics=['accuracy'])\n",
        "test_loss, test_acc = res_net.evaluate(Known_data_X_test,Known_data_X_test_label)\n",
        "print('Test accuracy, 14 run:', test_acc)\n",
        "\n",
        "res_net = create_model()\n",
        "res_net.load_weights(\"/content/gdrive/MyDrive/Stanford_data/15_EOS_K_p1_I_p3_FTm3_PP.h5\")\n",
        "res_net.compile(loss=\"categorical_crossentropy\",optimizer=tf.keras.optimizers.Adam(learning_rate=.00001/10),\n",
        "            metrics=['accuracy'])\n",
        "test_loss, test_acc = res_net.evaluate(Known_data_X_test,Known_data_X_test_label)\n",
        "print('Test accuracy, 15 run:', test_acc)\n",
        "\n",
        "res_net = create_model()\n",
        "res_net.load_weights(\"/content/gdrive/MyDrive/Stanford_data/16_EOS_K_p1_I_p3_FTm3_PP.h5\")\n",
        "res_net.compile(loss=\"categorical_crossentropy\",optimizer=tf.keras.optimizers.Adam(learning_rate=.00001/10),\n",
        "            metrics=['accuracy'])\n",
        "test_loss, test_acc = res_net.evaluate(Known_data_X_test,Known_data_X_test_label)\n",
        "print('Test accuracy, 16 run:', test_acc)\n",
        "\n",
        "res_net = create_model()\n",
        "res_net.load_weights(\"/content/gdrive/MyDrive/Stanford_data/17_EOS_K_p1_I_p3_FTm3_PP.h5\")\n",
        "res_net.compile(loss=\"categorical_crossentropy\",optimizer=tf.keras.optimizers.Adam(learning_rate=.00001/10),\n",
        "            metrics=['accuracy'])\n",
        "test_loss, test_acc = res_net.evaluate(Known_data_X_test,Known_data_X_test_label)\n",
        "print('Test accuracy, 17 run:', test_acc)\n",
        "\n",
        "res_net = create_model()\n",
        "res_net.load_weights(\"/content/gdrive/MyDrive/Stanford_data/18_EOS_K_p1_I_p3_FTm3_PP.h5\")\n",
        "res_net.compile(loss=\"categorical_crossentropy\",optimizer=tf.keras.optimizers.Adam(learning_rate=.00001/10),\n",
        "            metrics=['accuracy'])\n",
        "test_loss, test_acc = res_net.evaluate(Known_data_X_test,Known_data_X_test_label)\n",
        "print('Test accuracy, 18 run:', test_acc)\n",
        "\n",
        "res_net = create_model()\n",
        "res_net.load_weights(\"/content/gdrive/MyDrive/Stanford_data/19_EOS_K_p1_I_p3_FTm3_PP.h5\")\n",
        "res_net.compile(loss=\"categorical_crossentropy\",optimizer=tf.keras.optimizers.Adam(learning_rate=.00001/10),\n",
        "            metrics=['accuracy'])\n",
        "test_loss, test_acc = res_net.evaluate(Known_data_X_test,Known_data_X_test_label)\n",
        "print('Test accuracy, 19 run:', test_acc)\n",
        "\n",
        "res_net = create_model()\n",
        "res_net.load_weights(\"/content/gdrive/MyDrive/Stanford_data/20_EOS_K_p1_I_p3_FTm3_PP.h5\")\n",
        "res_net.compile(loss=\"categorical_crossentropy\",optimizer=tf.keras.optimizers.Adam(learning_rate=.00001/10),\n",
        "            metrics=['accuracy'])\n",
        "test_loss, test_acc = res_net.evaluate(Known_data_X_test,Known_data_X_test_label)\n",
        "print('Test accuracy, 20 run:', test_acc)"
      ]
    },
    {
      "cell_type": "markdown",
      "metadata": {
        "id": "NQDxWg0GF68V"
      },
      "source": [
        "# Check, how does this approach work in an ***open*** world"
      ]
    },
    {
      "cell_type": "code",
      "execution_count": null,
      "metadata": {
        "colab": {
          "base_uri": "https://localhost:8080/"
        },
        "id": "js4odunBGNUs",
        "outputId": "290bd586-a787-40df-d624-195ceec89721"
      },
      "outputs": [
        {
          "output_type": "stream",
          "name": "stdout",
          "text": [
            "32/32 [==============================] - 11s 32ms/step\n",
            "32/32 [==============================] - 1s 18ms/step\n",
            "32/32 [==============================] - 1s 18ms/step\n",
            "32/32 [==============================] - 1s 18ms/step\n",
            "32/32 [==============================] - 1s 17ms/step\n",
            "32/32 [==============================] - 1s 18ms/step\n",
            "32/32 [==============================] - 2s 18ms/step\n",
            "32/32 [==============================] - 2s 17ms/step\n",
            "32/32 [==============================] - 1s 18ms/step\n",
            "32/32 [==============================] - 1s 17ms/step\n",
            "32/32 [==============================] - 1s 18ms/step\n",
            "32/32 [==============================] - 1s 18ms/step\n",
            "32/32 [==============================] - 1s 18ms/step\n",
            "32/32 [==============================] - 1s 18ms/step\n",
            "32/32 [==============================] - 1s 18ms/step\n",
            "32/32 [==============================] - 2s 18ms/step\n",
            "32/32 [==============================] - 1s 18ms/step\n",
            "32/32 [==============================] - 1s 18ms/step\n",
            "32/32 [==============================] - 1s 18ms/step\n",
            "32/32 [==============================] - 1s 18ms/step\n"
          ]
        }
      ],
      "source": [
        "res_net01 = create_model()\n",
        "res_net02 = create_model()\n",
        "res_net03 = create_model()\n",
        "res_net04 = create_model()\n",
        "res_net05 = create_model()\n",
        "res_net06 = create_model()\n",
        "res_net07 = create_model()\n",
        "res_net08 = create_model()\n",
        "res_net09 = create_model()\n",
        "res_net10 = create_model()\n",
        "res_net11 = create_model()\n",
        "res_net12 = create_model()\n",
        "res_net13 = create_model()\n",
        "res_net14 = create_model()\n",
        "res_net15 = create_model()\n",
        "res_net16 = create_model()\n",
        "res_net17 = create_model()\n",
        "res_net18 = create_model()\n",
        "res_net19 = create_model()\n",
        "res_net20 = create_model()\n",
        "\n",
        "res_net01.load_weights(\"/content/gdrive/MyDrive/Stanford_data/01_EOS_K_p1_I_p3_FTm3_PP.h5\")\n",
        "res_net02.load_weights(\"/content/gdrive/MyDrive/Stanford_data/02_EOS_K_p1_I_p3_FTm3_PP.h5\")\n",
        "res_net03.load_weights(\"/content/gdrive/MyDrive/Stanford_data/03_EOS_K_p1_I_p3_FTm3_PP.h5\")\n",
        "res_net04.load_weights(\"/content/gdrive/MyDrive/Stanford_data/04_EOS_K_p1_I_p3_FTm3_PP.h5\")\n",
        "res_net05.load_weights(\"/content/gdrive/MyDrive/Stanford_data/05_EOS_K_p1_I_p3_FTm3_PP.h5\")\n",
        "res_net06.load_weights(\"/content/gdrive/MyDrive/Stanford_data/06_EOS_K_p1_I_p3_FTm3_PP.h5\")\n",
        "res_net07.load_weights(\"/content/gdrive/MyDrive/Stanford_data/07_EOS_K_p1_I_p3_FTm3_PP.h5\")\n",
        "res_net08.load_weights(\"/content/gdrive/MyDrive/Stanford_data/08_EOS_K_p1_I_p3_FTm3_PP.h5\")\n",
        "res_net09.load_weights(\"/content/gdrive/MyDrive/Stanford_data/09_EOS_K_p1_I_p3_FTm3_PP.h5\")\n",
        "res_net10.load_weights(\"/content/gdrive/MyDrive/Stanford_data/10_EOS_K_p1_I_p3_FTm3_PP.h5\")\n",
        "res_net11.load_weights(\"/content/gdrive/MyDrive/Stanford_data/11_EOS_K_p1_I_p3_FTm3_PP.h5\")\n",
        "res_net12.load_weights(\"/content/gdrive/MyDrive/Stanford_data/12_EOS_K_p1_I_p3_FTm3_PP.h5\")\n",
        "res_net13.load_weights(\"/content/gdrive/MyDrive/Stanford_data/13_EOS_K_p1_I_p3_FTm3_PP.h5\")\n",
        "res_net14.load_weights(\"/content/gdrive/MyDrive/Stanford_data/14_EOS_K_p1_I_p3_FTm3_PP.h5\")\n",
        "res_net15.load_weights(\"/content/gdrive/MyDrive/Stanford_data/15_EOS_K_p1_I_p3_FTm3_PP.h5\")\n",
        "res_net16.load_weights(\"/content/gdrive/MyDrive/Stanford_data/16_EOS_K_p1_I_p3_FTm3_PP.h5\")\n",
        "res_net17.load_weights(\"/content/gdrive/MyDrive/Stanford_data/17_EOS_K_p1_I_p3_FTm3_PP.h5\")\n",
        "res_net18.load_weights(\"/content/gdrive/MyDrive/Stanford_data/18_EOS_K_p1_I_p3_FTm3_PP.h5\")\n",
        "res_net19.load_weights(\"/content/gdrive/MyDrive/Stanford_data/19_EOS_K_p1_I_p3_FTm3_PP.h5\")\n",
        "res_net20.load_weights(\"/content/gdrive/MyDrive/Stanford_data/20_EOS_K_p1_I_p3_FTm3_PP.h5\")\n",
        "\n",
        "\n",
        "\n",
        "prediction01_known = res_net01.predict(Known_data_X_test)\n",
        "prediction02_known = res_net02.predict(Known_data_X_test)\n",
        "prediction03_known = res_net03.predict(Known_data_X_test)\n",
        "prediction04_known = res_net04.predict(Known_data_X_test)\n",
        "prediction05_known = res_net05.predict(Known_data_X_test)\n",
        "prediction06_known = res_net06.predict(Known_data_X_test)\n",
        "prediction07_known = res_net07.predict(Known_data_X_test)\n",
        "prediction08_known = res_net08.predict(Known_data_X_test)\n",
        "prediction09_known = res_net09.predict(Known_data_X_test)\n",
        "prediction10_known = res_net10.predict(Known_data_X_test)\n",
        "\n",
        "prediction11_known = res_net11.predict(Known_data_X_test)\n",
        "prediction12_known = res_net12.predict(Known_data_X_test)\n",
        "prediction13_known = res_net13.predict(Known_data_X_test)\n",
        "prediction14_known = res_net14.predict(Known_data_X_test)\n",
        "prediction15_known = res_net15.predict(Known_data_X_test)\n",
        "prediction16_known = res_net16.predict(Known_data_X_test)\n",
        "prediction17_known = res_net17.predict(Known_data_X_test)\n",
        "prediction18_known = res_net18.predict(Known_data_X_test)\n",
        "prediction19_known = res_net19.predict(Known_data_X_test)\n",
        "prediction20_known = res_net20.predict(Known_data_X_test)\n"
      ]
    },
    {
      "cell_type": "code",
      "execution_count": null,
      "metadata": {
        "colab": {
          "base_uri": "https://localhost:8080/"
        },
        "id": "qkidcP8sGNWy",
        "outputId": "79c50d94-d61c-4a46-8f83-aa7008d252b3"
      },
      "outputs": [
        {
          "output_type": "stream",
          "name": "stdout",
          "text": [
            "32/32 [==============================] - 1s 18ms/step\n",
            "32/32 [==============================] - 1s 18ms/step\n",
            "32/32 [==============================] - 1s 18ms/step\n",
            "32/32 [==============================] - 1s 18ms/step\n",
            "32/32 [==============================] - 1s 18ms/step\n",
            "32/32 [==============================] - 1s 18ms/step\n",
            "32/32 [==============================] - 1s 18ms/step\n",
            "32/32 [==============================] - 1s 18ms/step\n",
            "32/32 [==============================] - 1s 18ms/step\n",
            "32/32 [==============================] - 1s 18ms/step\n",
            "32/32 [==============================] - 1s 18ms/step\n",
            "32/32 [==============================] - 1s 18ms/step\n",
            "32/32 [==============================] - 1s 18ms/step\n",
            "32/32 [==============================] - 1s 18ms/step\n",
            "32/32 [==============================] - 1s 18ms/step\n",
            "32/32 [==============================] - 1s 18ms/step\n",
            "32/32 [==============================] - 1s 18ms/step\n",
            "32/32 [==============================] - 1s 18ms/step\n",
            "32/32 [==============================] - 1s 18ms/step\n",
            "32/32 [==============================] - 1s 18ms/step\n"
          ]
        }
      ],
      "source": [
        "prediction01_unknown = res_net01.predict(NeverSeen_data_X_test)\n",
        "prediction02_unknown = res_net02.predict(NeverSeen_data_X_test)\n",
        "prediction03_unknown = res_net03.predict(NeverSeen_data_X_test)\n",
        "prediction04_unknown = res_net04.predict(NeverSeen_data_X_test)\n",
        "prediction05_unknown = res_net05.predict(NeverSeen_data_X_test)\n",
        "prediction06_unknown = res_net06.predict(NeverSeen_data_X_test)\n",
        "prediction07_unknown = res_net07.predict(NeverSeen_data_X_test)\n",
        "prediction08_unknown = res_net08.predict(NeverSeen_data_X_test)\n",
        "prediction09_unknown = res_net09.predict(NeverSeen_data_X_test)\n",
        "prediction10_unknown = res_net10.predict(NeverSeen_data_X_test)\n",
        "prediction11_unknown = res_net11.predict(NeverSeen_data_X_test)\n",
        "prediction12_unknown = res_net12.predict(NeverSeen_data_X_test)\n",
        "prediction13_unknown = res_net13.predict(NeverSeen_data_X_test)\n",
        "prediction14_unknown = res_net14.predict(NeverSeen_data_X_test)\n",
        "prediction15_unknown = res_net15.predict(NeverSeen_data_X_test)\n",
        "prediction16_unknown = res_net16.predict(NeverSeen_data_X_test)\n",
        "prediction17_unknown = res_net17.predict(NeverSeen_data_X_test)\n",
        "prediction18_unknown = res_net18.predict(NeverSeen_data_X_test)\n",
        "prediction19_unknown = res_net19.predict(NeverSeen_data_X_test)\n",
        "prediction20_unknown = res_net20.predict(NeverSeen_data_X_test)\n",
        "\n",
        "\n",
        "prediction_unknown_ensemble_1 = (prediction01_unknown + prediction02_unknown + prediction03_unknown + prediction04_unknown + prediction05_unknown)/5\n",
        "prediction_unknown_ensemble_2 = (prediction06_unknown + prediction07_unknown + prediction08_unknown + prediction09_unknown + prediction10_unknown)/5\n",
        "prediction_unknown_ensemble_3 = (prediction11_unknown + prediction12_unknown + prediction13_unknown + prediction14_unknown + prediction15_unknown)/5\n",
        "prediction_unknown_ensemble_4 = (prediction16_unknown + prediction17_unknown + prediction18_unknown + prediction19_unknown + prediction20_unknown)/5"
      ]
    },
    {
      "cell_type": "code",
      "source": [],
      "metadata": {
        "id": "EhAgIfScGHiW"
      },
      "execution_count": null,
      "outputs": []
    },
    {
      "cell_type": "code",
      "source": [],
      "metadata": {
        "id": "wR7UxTrrGHkl"
      },
      "execution_count": null,
      "outputs": []
    },
    {
      "cell_type": "markdown",
      "source": [
        "# Compute ODIN score"
      ],
      "metadata": {
        "id": "TtgV6lfkc0aI"
      }
    },
    {
      "cell_type": "code",
      "source": [
        "import tensorflow as tf\n",
        "import numpy as np\n",
        "import matplotlib.pyplot as plt\n",
        "\n",
        "temperature = 1000\n",
        "magnitude = 0.001\n",
        "batch_size = 32\n",
        "threshold = 0.1\n",
        "\n",
        "loaded_models = [res_net01, res_net02, res_net03, res_net04, res_net05, res_net06, res_net07, res_net08, res_net09, res_net10,\n",
        "                 res_net11, res_net12, res_net13, res_net14, res_net15, res_net16, res_net17, res_net18, res_net19, res_net20]\n",
        "\n",
        "\n",
        "UN_Known_data_X_test_as_tensor = tf.convert_to_tensor(NeverSeen_data_X_test)\n",
        "\n",
        "odin_scores_for_models = [np.array([]) for _ in loaded_models]\n",
        "\n",
        "def compute_odin_scores_for_model(model, images, threshold):\n",
        "    logits_layer = model.layers[-2].output\n",
        "    logits_model = tf.keras.Model(inputs=model.input, outputs=logits_layer)\n",
        "\n",
        "    odin_scores_UN_KNOWN = []\n",
        "\n",
        "    for i in range(0, len(images), batch_size):\n",
        "        batch = images[i:i + batch_size]\n",
        "\n",
        "        with tf.device(\"/CPU:0\"):\n",
        "            logits = logits_model(batch)\n",
        "\n",
        "        with tf.GradientTape() as tape:\n",
        "            tape.watch(batch)\n",
        "            output = logits_model(batch)\n",
        "        grads = tape.gradient(output, batch)\n",
        "\n",
        "        signed_grads = tf.sign(grads)\n",
        "\n",
        "        perturbed_spectra = batch + magnitude * signed_grads\n",
        "\n",
        "        with tf.device(\"/CPU:0\"):\n",
        "            perturbed_logits = logits_model(perturbed_spectra)\n",
        "\n",
        "        scaled_perturbed_logits = perturbed_logits / temperature\n",
        "\n",
        "        perturbed_softmax_output = tf.nn.softmax(scaled_perturbed_logits)\n",
        "\n",
        "        max_perturbed_softmax_scores = tf.reduce_max(perturbed_softmax_output, axis=1)\n",
        "\n",
        "        max_logits = tf.reduce_max(tf.nn.softmax(logits), axis=1)\n",
        "        odin_scores_batch = max_logits - max_perturbed_softmax_scores\n",
        "\n",
        "        odin_scores_UN_KNOWN.extend(odin_scores_batch)\n",
        "\n",
        "    return np.array(odin_scores_UN_KNOWN)\n",
        "\n",
        "for model_index, model in enumerate(loaded_models):\n",
        "    odin_scores = compute_odin_scores_for_model(model, UN_Known_data_X_test_as_tensor, threshold)\n",
        "    odin_scores_for_models[model_index] = odin_scores"
      ],
      "metadata": {
        "id": "BduDgT-VGHpV"
      },
      "execution_count": null,
      "outputs": []
    },
    {
      "cell_type": "code",
      "source": [
        "import os\n",
        "\n",
        "all_odin_scores = []\n",
        "for scores in odin_scores_for_models:\n",
        "    all_odin_scores.extend(scores)\n",
        "\n",
        "folder_path = \"/content/gdrive/MyDrive/Stanford_data\"\n",
        "\n",
        "file_name = \"all_odin_scores_EOS_p1p3.txt\"\n",
        "\n",
        "file_path = os.path.join(folder_path, file_name)\n",
        "\n",
        "with open(file_path, 'w') as file:\n",
        "    for score in all_odin_scores:\n",
        "        file.write(f\"{score}\\n\")"
      ],
      "metadata": {
        "id": "2vjYvU0cTAus"
      },
      "execution_count": null,
      "outputs": []
    },
    {
      "cell_type": "code",
      "source": [
        "import tensorflow as tf\n",
        "import numpy as np\n",
        "import matplotlib.pyplot as plt\n",
        "\n",
        "temperature = 1000\n",
        "magnitude = 0.001\n",
        "batch_size = 32\n",
        "threshold = 0.1\n",
        "\n",
        "loaded_models = [res_net01, res_net02, res_net03, res_net04, res_net05, res_net06, res_net07, res_net08, res_net09, res_net10,\n",
        "                 res_net11, res_net12, res_net13, res_net14, res_net15, res_net16, res_net17, res_net18, res_net19, res_net20]\n",
        "\n",
        "\n",
        "Known_data_X_test_as_tensor = tf.convert_to_tensor(Known_data_X_test)\n",
        "\n",
        "odin_scores_for_models = [np.array([]) for _ in loaded_models]\n",
        "\n",
        "def compute_odin_scores_for_model(model, images, threshold):\n",
        "    logits_layer = model.layers[-2].output\n",
        "    logits_model = tf.keras.Model(inputs=model.input, outputs=logits_layer)\n",
        "\n",
        "    odin_scores_KNOWN = []\n",
        "\n",
        "    for i in range(0, len(images), batch_size):\n",
        "        batch = images[i:i + batch_size]\n",
        "\n",
        "        with tf.device(\"/CPU:0\"):\n",
        "            logits = logits_model(batch)\n",
        "\n",
        "        with tf.GradientTape() as tape:\n",
        "            tape.watch(batch)\n",
        "            output = logits_model(batch)\n",
        "        grads = tape.gradient(output, batch)\n",
        "\n",
        "        signed_grads = tf.sign(grads)\n",
        "\n",
        "        perturbed_spectra = batch + magnitude * signed_grads\n",
        "\n",
        "        with tf.device(\"/CPU:0\"):\n",
        "            perturbed_logits = logits_model(perturbed_spectra)\n",
        "\n",
        "        scaled_perturbed_logits = perturbed_logits / temperature\n",
        "\n",
        "        perturbed_softmax_output = tf.nn.softmax(scaled_perturbed_logits)\n",
        "\n",
        "        max_perturbed_softmax_scores = tf.reduce_max(perturbed_softmax_output, axis=1)\n",
        "\n",
        "        max_logits = tf.reduce_max(tf.nn.softmax(logits), axis=1)\n",
        "        odin_scores_batch = max_logits - max_perturbed_softmax_scores\n",
        "\n",
        "        odin_scores_KNOWN.extend(odin_scores_batch)\n",
        "\n",
        "    return np.array(odin_scores_KNOWN)\n",
        "\n",
        "for model_index, model in enumerate(loaded_models):\n",
        "    odin_scores = compute_odin_scores_for_model(model, Known_data_X_test_as_tensor, threshold)\n",
        "    odin_scores_for_models[model_index] = odin_scores"
      ],
      "metadata": {
        "id": "hTJjC0AsWRry"
      },
      "execution_count": null,
      "outputs": []
    },
    {
      "cell_type": "code",
      "source": [
        "import os\n",
        "\n",
        "all_odin_scores = []\n",
        "for scores in odin_scores_for_models:\n",
        "    all_odin_scores.extend(scores)\n",
        "\n",
        "folder_path = \"/content/gdrive/MyDrive/Stanford_data\"\n",
        "\n",
        "file_name = \"KNOWN_all_odin_scores_EOS_p1p3.txt\"\n",
        "\n",
        "file_path = os.path.join(folder_path, file_name)\n",
        "\n",
        "with open(file_path, 'w') as file:\n",
        "    for score in all_odin_scores:\n",
        "        file.write(f\"{score}\\n\")"
      ],
      "metadata": {
        "id": "UCQ4h4N3TAx4"
      },
      "execution_count": null,
      "outputs": []
    },
    {
      "cell_type": "code",
      "execution_count": null,
      "metadata": {
        "id": "PDL1nlYsXUUo",
        "colab": {
          "base_uri": "https://localhost:8080/",
          "height": 480
        },
        "outputId": "8de81932-21ea-43fd-870e-3cf2b786b7cd"
      },
      "outputs": [
        {
          "output_type": "display_data",
          "data": {
            "text/plain": [
              "<Figure size 640x480 with 1 Axes>"
            ],
            "image/png": "[encoded data removed]"
          },
          "metadata": {}
        }
      ],
      "source": [
        "plt.hist(odin_scores_for_models[0], bins=10)\n",
        "\n",
        "plt.xlabel('ODIN Score')\n",
        "plt.ylabel('Frequency')\n",
        "plt.title('Histogram of ODIN UNKNOWN Scores')\n",
        "\n",
        "plt.show()"
      ]
    },
    {
      "cell_type": "code",
      "execution_count": null,
      "metadata": {
        "id": "-PgI5rt1VCJ8"
      },
      "outputs": [],
      "source": []
    },
    {
      "cell_type": "markdown",
      "metadata": {
        "id": "vDfPc3-My8Z4"
      },
      "source": [
        "# ODIN score for one model, as an example"
      ]
    },
    {
      "cell_type": "code",
      "execution_count": null,
      "metadata": {
        "colab": {
          "base_uri": "https://localhost:8080/",
          "height": 480
        },
        "id": "purk7xEjM9L2",
        "outputId": "ecf657af-5b6a-4bef-c60e-804e4758f07e"
      },
      "outputs": [
        {
          "output_type": "display_data",
          "data": {
            "text/plain": [
              "<Figure size 640x480 with 1 Axes>"
            ],
            "image/png": "[encoded data removed]"
          },
          "metadata": {}
        }
      ],
      "source": [
        "import tensorflow as tf\n",
        "import numpy as np\n",
        "import matplotlib.pyplot as plt\n",
        "\n",
        "temperature = 1000\n",
        "magnitude = 0.001\n",
        "\n",
        "UN_Known_data_X_test_as_tensor = tf.convert_to_tensor(NeverSeen_data_X_test)\n",
        "\n",
        "logits_layer = res_net01.layers[-2].output\n",
        "logits_model = tf.keras.Model(inputs=res_net01.input, outputs=logits_layer)\n",
        "\n",
        "odin_scores_UN_KNOWN = []\n",
        "\n",
        "batch_size = 32\n",
        "\n",
        "for i in range(0, len(NeverSeen_data_X_test), batch_size):\n",
        "    batch = UN_Known_data_X_test_as_tensor[i:i+batch_size]\n",
        "\n",
        "    with tf.device(\"/CPU:0\"):\n",
        "        logits = logits_model(batch)\n",
        "\n",
        "    with tf.GradientTape() as tape:\n",
        "        tape.watch(batch)\n",
        "        output = logits_model(batch)\n",
        "    grads = tape.gradient(output, batch)\n",
        "\n",
        "    signed_grads = tf.sign(grads)\n",
        "\n",
        "    perturbed_spectra = batch + magnitude * signed_grads\n",
        "\n",
        "    with tf.device(\"/CPU:0\"):\n",
        "        perturbed_logits = logits_model(perturbed_spectra)\n",
        "\n",
        "    scaled_perturbed_logits = perturbed_logits / temperature\n",
        "\n",
        "    perturbed_softmax_output = tf.nn.softmax(scaled_perturbed_logits)\n",
        "\n",
        "    max_perturbed_softmax_scores = tf.reduce_max(perturbed_softmax_output, axis=1)\n",
        "\n",
        "    max_logits = tf.reduce_max(tf.nn.softmax(logits), axis=1)\n",
        "    odin_scores_batch = max_logits - max_perturbed_softmax_scores\n",
        "\n",
        "    odin_scores_UN_KNOWN.extend(odin_scores_batch)\n",
        "\n",
        "odin_scores_UN_KNOWN = np.array(odin_scores_UN_KNOWN)\n",
        "\n",
        "plt.hist(odin_scores_UN_KNOWN, bins=10)\n",
        "\n",
        "plt.xlabel('ODIN Score')\n",
        "plt.ylabel('Frequency')\n",
        "plt.title('Histogram of ODIN UNKNOWN Scores')\n",
        "\n",
        "plt.show()\n"
      ]
    },
    {
      "cell_type": "code",
      "execution_count": null,
      "metadata": {
        "colab": {
          "base_uri": "https://localhost:8080/"
        },
        "id": "8pddoR9PM9P8",
        "outputId": "bfd80fbb-d58b-4ff0-827d-48845f37852e"
      },
      "outputs": [
        {
          "output_type": "execute_result",
          "data": {
            "text/plain": [
              "0.00016625563"
            ]
          },
          "metadata": {},
          "execution_count": 17
        }
      ],
      "source": [
        "min(odin_scores_UN_KNOWN)"
      ]
    },
    {
      "cell_type": "code",
      "execution_count": null,
      "metadata": {
        "colab": {
          "base_uri": "https://localhost:8080/",
          "height": 480
        },
        "id": "x6m3kafqM9SJ",
        "outputId": "06390cfd-ae64-4ad3-e318-02edd9c1ff94"
      },
      "outputs": [
        {
          "output_type": "display_data",
          "data": {
            "text/plain": [
              "<Figure size 640x480 with 1 Axes>"
            ],
            "image/png": "[encoded data removed]"
          },
          "metadata": {}
        }
      ],
      "source": [
        "import tensorflow as tf\n",
        "import numpy as np\n",
        "import matplotlib.pyplot as plt\n",
        "\n",
        "batch_size = 32\n",
        "magnitude = 0.001\n",
        "temperature = 1000\n",
        "num_models = 20\n",
        "\n",
        "loaded_models = [\n",
        "    res_net01, res_net02, res_net03, res_net04, res_net05,\n",
        "    res_net06, res_net07, res_net08, res_net09, res_net10,\n",
        "    res_net11, res_net12, res_net13, res_net14, res_net15,\n",
        "    res_net16, res_net17, res_net18, res_net19, res_net20\n",
        "]\n",
        "\n",
        "odin_scores_all_models = []\n",
        "\n",
        "for i in range(num_models):\n",
        "    logits_layer = loaded_models[i].layers[-2].output\n",
        "\n",
        "    logits_model = tf.keras.Model(inputs=loaded_models[i].input, outputs=logits_layer)\n",
        "\n",
        "    Known_data_X_test_as_tensor = tf.convert_to_tensor(Known_data_X_test)\n",
        "\n",
        "    odin_scores_KNOWN = []\n",
        "\n",
        "    for j in range(0, len(Known_data_X_test), batch_size):\n",
        "        batch = Known_data_X_test_as_tensor[j:j+batch_size]\n",
        "\n",
        "        with tf.device(\"/CPU:0\"):\n",
        "            logits = logits_model(batch)\n",
        "\n",
        "        with tf.GradientTape() as tape:\n",
        "            tape.watch(batch)\n",
        "            logits = logits_model(batch)\n",
        "        grads = tape.gradient(logits, batch)\n",
        "\n",
        "        signed_grads = tf.sign(grads)\n",
        "\n",
        "        perturbed_spectra = batch + magnitude * signed_grads\n",
        "\n",
        "        with tf.device(\"/CPU:0\"):\n",
        "            perturbed_logits = logits_model(perturbed_spectra)\n",
        "\n",
        "        scaled_perturbed_logits = perturbed_logits / temperature\n",
        "\n",
        "        perturbed_softmax_output = tf.nn.softmax(scaled_perturbed_logits)\n",
        "\n",
        "        max_perturbed_softmax_scores = tf.reduce_max(perturbed_softmax_output, axis=1)\n",
        "\n",
        "        original_softmax_output = tf.nn.softmax(logits / temperature)\n",
        "        max_softmax_scores = tf.reduce_max(original_softmax_output, axis=1)\n",
        "\n",
        "        odin_scores_batch = max_softmax_scores - max_perturbed_softmax_scores\n",
        "\n",
        "        odin_scores_KNOWN.extend(odin_scores_batch)\n",
        "\n",
        "    odin_scores_KNOWN = np.array(odin_scores_KNOWN)\n",
        "    odin_scores_all_models.append(odin_scores_KNOWN)\n",
        "\n",
        "combined_odin_scores = np.concatenate(odin_scores_all_models)\n",
        "\n",
        "plt.hist(combined_odin_scores, bins=10)\n",
        "\n",
        "plt.xlabel('ODIN Score')\n",
        "plt.ylabel('Frequency')\n",
        "plt.title('Histogram of ODIN Scores for Known Data (All Models)')\n",
        "\n",
        "plt.show()\n"
      ]
    },
    {
      "cell_type": "code",
      "source": [
        "import os\n",
        "\n",
        "folder_path = \"/content/gdrive/MyDrive/Stanford_data\"\n",
        "\n",
        "file_name = \"KNOWN_all_odin_scores_EOSp1p3.txt\"\n",
        "\n",
        "file_path = os.path.join(folder_path, file_name)\n",
        "\n",
        "np.savetxt(file_path, combined_odin_scores, delimiter=',')\n"
      ],
      "metadata": {
        "id": "okKcSf3i3tD8"
      },
      "execution_count": null,
      "outputs": []
    },
    {
      "cell_type": "code",
      "execution_count": null,
      "metadata": {
        "colab": {
          "base_uri": "https://localhost:8080/",
          "height": 482
        },
        "id": "RHB6Zxw0M9We",
        "outputId": "6fd74f24-3f77-4987-bbf0-a543d9e0318a"
      },
      "outputs": [
        {
          "output_type": "display_data",
          "data": {
            "text/plain": [
              "<Figure size 640x480 with 1 Axes>"
            ],
            "image/png": "[encoded data removed]"
          },
          "metadata": {}
        }
      ],
      "source": [
        "plt.hist([odin_scores_KNOWN, odin_scores_UN_KNOWN], bins=10, label=['Samples belonging to the knowns', 'Never seen before samples'])  # Specify the number of bins and labels\n",
        "\n",
        "plt.xlabel('Value of the ODIN score, ')\n",
        "plt.ylabel('Frequency of occurrence')\n",
        "plt.title('Comparison of ODIN scores, EOS, $\\mathcal{K} = p_1$, $\\mathcal{I} = p_3$')\n",
        "\n",
        "plt.legend()\n",
        "\n",
        "plt.show()"
      ]
    },
    {
      "cell_type": "code",
      "execution_count": null,
      "metadata": {
        "id": "zQYSdDBKxQhm"
      },
      "outputs": [],
      "source": []
    },
    {
      "cell_type": "markdown",
      "metadata": {
        "id": "uP9B81xxy_TR"
      },
      "source": [
        "# OpenMax score"
      ]
    },
    {
      "cell_type": "code",
      "execution_count": null,
      "metadata": {
        "colab": {
          "base_uri": "https://localhost:8080/",
          "height": 401
        },
        "id": "n3kUjfzfxQoL",
        "outputId": "f5ea1157-c3b6-415c-9878-d294a5e0796f"
      },
      "outputs": [
        {
          "output_type": "display_data",
          "data": {
            "text/plain": [
              "<Figure size 1200x400 with 2 Axes>"
            ],
            "image/png": "[encoded data removed]"
          },
          "metadata": {}
        }
      ],
      "source": [
        "import tensorflow as tf\n",
        "import numpy as np\n",
        "import matplotlib.pyplot as plt\n",
        "\n",
        "logits_layer = res_net01.layers[-2].output\n",
        "\n",
        "logits_model = tf.keras.Model(inputs=res_net01.input, outputs=logits_layer)\n",
        "\n",
        "Known_data_X_test_as_tensor = tf.convert_to_tensor(Known_data_X_test)\n",
        "NeverSeen_data_X_test_as_tensor = tf.convert_to_tensor(NeverSeen_data_X_test)\n",
        "\n",
        "known_logits = logits_model(Known_data_X_test_as_tensor)\n",
        "unknown_logits = logits_model(NeverSeen_data_X_test_as_tensor)\n",
        "\n",
        "max_known_logits = tf.reduce_max(known_logits, axis=1)\n",
        "max_unknown_logits = tf.reduce_max(unknown_logits, axis=1)\n",
        "\n",
        "def compute_openmax_scores_known(max_known_logits, alpha=1.0):\n",
        "    scores_known = tf.exp(alpha * max_known_logits) / tf.reduce_sum(tf.exp(alpha * max_known_logits))\n",
        "    return scores_known\n",
        "\n",
        "openmax_scores_known = compute_openmax_scores_known(max_known_logits)\n",
        "\n",
        "def compute_openmax_scores_unknown(max_known_logits, max_unknown_logits, alpha=1.0):\n",
        "    scores_unknown = []\n",
        "    for max_known, max_unknown in zip(max_known_logits, max_unknown_logits):\n",
        "        unknown_score = tf.exp(alpha * max_known) / (tf.exp(alpha * max_known) + tf.exp(alpha * max_unknown))\n",
        "        scores_unknown.append(unknown_score)\n",
        "    return tf.stack(scores_unknown)\n",
        "\n",
        "openmax_scores_unknown = compute_openmax_scores_unknown(max_known_logits, max_unknown_logits)\n",
        "\n",
        "openmax_scores_known = openmax_scores_known.numpy()\n",
        "openmax_scores_unknown = openmax_scores_unknown.numpy()\n",
        "\n",
        "plt.figure(figsize=(12, 4))\n",
        "\n",
        "plt.subplot(1, 2, 1)\n",
        "plt.hist(openmax_scores_known, bins=10)\n",
        "plt.xlabel('OpenMax Score')\n",
        "plt.ylabel('Frequency')\n",
        "plt.title('Histogram of OpenMax Scores for Known Data')\n",
        "\n",
        "plt.subplot(1, 2, 2)\n",
        "plt.hist(openmax_scores_unknown, bins=10)\n",
        "plt.xlabel('OpenMax Score')\n",
        "plt.ylabel('Frequency')\n",
        "plt.title('Histogram of OpenMax Scores for Unknown Data')\n",
        "\n",
        "plt.tight_layout()\n",
        "plt.show()\n",
        "\n"
      ]
    },
    {
      "cell_type": "code",
      "execution_count": null,
      "metadata": {
        "colab": {
          "base_uri": "https://localhost:8080/",
          "height": 482
        },
        "id": "OCPXGItjxQsd",
        "outputId": "d6350f0b-7e49-4aa5-bb72-d065c4705f4f"
      },
      "outputs": [
        {
          "output_type": "display_data",
          "data": {
            "text/plain": [
              "<Figure size 640x480 with 1 Axes>"
            ],
            "image/png": "[encoded data removed]"
          },
          "metadata": {}
        }
      ],
      "source": [
        "plt.hist([openmax_scores_known, openmax_scores_unknown], bins=10, label=['Samples belonging to the knowns', 'Never seen before samples'])  # Specify the number of bins and labels\n",
        "\n",
        "plt.xlabel('Value of the OpenMax score')\n",
        "plt.ylabel('Frequency of occurrence')\n",
        "plt.title('Comparison of OpenMax scores, EOS, $\\mathcal{K} = p_1$, $\\mathcal{I} = p_3$')\n",
        "\n",
        "plt.legend()\n",
        "\n",
        "plt.show()"
      ]
    },
    {
      "cell_type": "code",
      "source": [
        "import tensorflow as tf\n",
        "import numpy as np\n",
        "import matplotlib.pyplot as plt\n",
        "\n",
        "alpha = 1.0\n",
        "num_models = 20\n",
        "\n",
        "loaded_models = [res_net01, res_net02, res_net03, res_net04, res_net05, res_net06, res_net07, res_net08, res_net09, res_net10,\n",
        "                 res_net11, res_net12, res_net13, res_net14, res_net15, res_net16, res_net17, res_net18, res_net19, res_net20]\n",
        "\n",
        "openmax_scores_known = []\n",
        "openmax_scores_unknown = []\n",
        "\n",
        "Known_data_X_test_as_tensor = tf.convert_to_tensor(Known_data_X_test)\n",
        "NeverSeen_data_X_test_as_tensor = tf.convert_to_tensor(NeverSeen_data_X_test)\n",
        "\n",
        "for model in loaded_models:\n",
        "    logits_layer = model.layers[-2].output\n",
        "\n",
        "    logits_model = tf.keras.Model(inputs=model.input, outputs=logits_layer)\n",
        "\n",
        "    known_logits = logits_model(Known_data_X_test_as_tensor)\n",
        "    unknown_logits = logits_model(NeverSeen_data_X_test_as_tensor)\n",
        "\n",
        "    max_known_logits = tf.reduce_max(known_logits, axis=1)\n",
        "    max_unknown_logits = tf.reduce_max(unknown_logits, axis=1)\n",
        "\n",
        "    scores_known = tf.exp(alpha * max_known_logits) / tf.reduce_sum(tf.exp(alpha * max_known_logits))\n",
        "\n",
        "    scores_unknown = []\n",
        "    for max_known, max_unknown in zip(max_known_logits, max_unknown_logits):\n",
        "        unknown_score = tf.exp(alpha * max_known) / (tf.exp(alpha * max_known) + tf.exp(alpha * max_unknown))\n",
        "        scores_unknown.append(unknown_score)\n",
        "\n",
        "    openmax_scores_known.append(scores_known.numpy())\n",
        "    openmax_scores_unknown.append(scores_unknown)\n",
        "\n",
        "merged_openmax_scores_known = np.stack(openmax_scores_known, axis=1)\n",
        "merged_openmax_scores_unknown = np.stack(openmax_scores_unknown, axis=1)\n",
        "\n",
        "combined_openmax_scores_known = merged_openmax_scores_known.flatten()\n",
        "combined_openmax_scores_unknown = merged_openmax_scores_unknown.flatten()\n",
        "\n",
        "plt.figure(figsize=(12, 4))\n",
        "\n",
        "plt.subplot(1, 2, 1)\n",
        "plt.hist(combined_openmax_scores_known, bins=10, alpha=0.5, label=[f'Model {i+1}' for i in range(num_models)])\n",
        "plt.xlabel('OpenMax Score')\n",
        "plt.ylabel('Frequency')\n",
        "plt.title('Histogram of OpenMax Scores for Known Data')\n",
        "plt.legend()\n",
        "\n",
        "plt.subplot(1, 2, 2)\n",
        "plt.hist(combined_openmax_scores_unknown, bins=10, alpha=0.5, label=[f'Model {i+1}' for i in range(num_models)])\n",
        "plt.xlabel('OpenMax Score')\n",
        "plt.ylabel('Frequency')\n",
        "plt.title('Histogram of OpenMax Scores for Unknown Data')\n",
        "plt.legend()\n",
        "\n",
        "plt.tight_layout()\n",
        "plt.show()"
      ],
      "metadata": {
        "colab": {
          "base_uri": "https://localhost:8080/",
          "height": 401
        },
        "id": "WzBjxYv9tqn_",
        "outputId": "415ef431-3323-4525-9bb0-e100398c26c5"
      },
      "execution_count": null,
      "outputs": [
        {
          "output_type": "display_data",
          "data": {
            "text/plain": [
              "<Figure size 1200x400 with 2 Axes>"
            ],
            "image/png": "[encoded data removed]"
          },
          "metadata": {}
        }
      ]
    },
    {
      "cell_type": "code",
      "source": [
        "np.savetxt('/content/gdrive/MyDrive/Stanford_data/EOSp1p3_combined_openmax_scores_known.txt', combined_openmax_scores_known)\n",
        "np.savetxt('/content/gdrive/MyDrive/Stanford_data/EOSp1p3_combined_openmax_scores_unknown.txt', combined_openmax_scores_unknown)\n"
      ],
      "metadata": {
        "id": "uIb5qKeFtqrd"
      },
      "execution_count": null,
      "outputs": []
    },
    {
      "cell_type": "code",
      "execution_count": null,
      "metadata": {
        "colab": {
          "base_uri": "https://localhost:8080/"
        },
        "id": "3Jw8gWCaxQyP",
        "outputId": "5036971c-5985-4bf0-846a-00806470aa32"
      },
      "outputs": [
        {
          "output_type": "execute_result",
          "data": {
            "text/plain": [
              "0.002969627"
            ]
          },
          "metadata": {},
          "execution_count": 24
        }
      ],
      "source": [
        "min(openmax_scores_unknown)"
      ]
    },
    {
      "cell_type": "code",
      "execution_count": null,
      "metadata": {
        "colab": {
          "base_uri": "https://localhost:8080/"
        },
        "id": "Mu_zOc1B0k4-",
        "outputId": "31cab1d5-4008-4c2c-b707-6743f2df9eab"
      },
      "outputs": [
        {
          "output_type": "stream",
          "name": "stdout",
          "text": [
            "Overlap (IoU): 1.06%\n"
          ]
        }
      ],
      "source": [
        "import numpy as np\n",
        "\n",
        "openmax_scores_known_sorted = np.sort(openmax_scores_known)\n",
        "openmax_scores_unknown_sorted = np.sort(openmax_scores_unknown)\n",
        "\n",
        "min_known_score = openmax_scores_known_sorted.min()\n",
        "max_known_score = openmax_scores_known_sorted.max()\n",
        "min_unknown_score = openmax_scores_unknown_sorted.min()\n",
        "max_unknown_score = openmax_scores_unknown_sorted.max()\n",
        "\n",
        "bins = np.linspace(min(min_known_score, min_unknown_score), max(max_known_score, max_unknown_score), 1000)\n",
        "\n",
        "hist_known, _ = np.histogram(openmax_scores_known_sorted, bins)\n",
        "hist_unknown, _ = np.histogram(openmax_scores_unknown_sorted, bins)\n",
        "\n",
        "intersection = np.minimum(hist_known, hist_unknown)\n",
        "union = np.maximum(hist_known, hist_unknown)\n",
        "\n",
        "iou = np.sum(intersection) / np.sum(union) * 100\n",
        "\n",
        "print(f\"Overlap (IoU): {iou:.2f}%\")\n"
      ]
    },
    {
      "cell_type": "code",
      "execution_count": null,
      "metadata": {
        "colab": {
          "base_uri": "https://localhost:8080/"
        },
        "id": "t1Cah4qr0k-V",
        "outputId": "3308a235-a215-4ab6-fc76-f74e92230cf6"
      },
      "outputs": [
        {
          "output_type": "stream",
          "name": "stdout",
          "text": [
            "32/32 [==============================] - 2s 21ms/step\n",
            "32/32 [==============================] - 1s 18ms/step\n",
            "Condition Number of Covariance Matrix (Known Data): 377.67054396436447\n",
            "Out-of-Distribution Sample Indices (Known Data): [0, 1, 2, 3, 4, 5, 6, 7, 8, 9, 10, 11, 12, 13, 14, 15, 16, 17, 18, 19, 20, 21, 22, 23, 24, 25, 26, 27, 28, 29, 30, 31, 32, 33, 34, 35, 36, 37, 38, 39, 40, 41, 42, 43, 44, 45, 46, 47, 48, 49, 50, 51, 52, 53, 54, 55, 56, 57, 58, 59, 60, 61, 62, 63, 64, 65, 66, 67, 68, 69, 70, 71, 72, 73, 74, 75, 76, 77, 78, 79, 80, 81, 82, 83, 84, 85, 86, 87, 88, 89, 90, 91, 92, 93, 94, 95, 96, 97, 98, 99, 100, 101, 102, 103, 104, 105, 106, 107, 108, 109, 110, 111, 112, 113, 114, 115, 116, 117, 118, 119, 120, 121, 122, 123, 124, 125, 126, 127, 128, 129, 130, 131, 132, 133, 134, 135, 136, 137, 138, 139, 140, 141, 142, 143, 144, 145, 146, 147, 148, 149, 150, 151, 152, 153, 154, 155, 156, 157, 158, 159, 160, 161, 162, 163, 164, 165, 166, 167, 168, 169, 170, 171, 172, 173, 174, 175, 176, 177, 178, 179, 180, 181, 182, 183, 184, 185, 186, 187, 188, 189, 190, 191, 192, 193, 194, 195, 196, 197, 198, 199, 200, 201, 202, 203, 204, 205, 206, 207, 208, 209, 210, 211, 212, 213, 214, 215, 216, 217, 218, 219, 220, 221, 222, 223, 224, 225, 226, 227, 228, 229, 230, 231, 232, 233, 234, 235, 236, 237, 238, 239, 240, 241, 242, 243, 244, 245, 246, 247, 248, 249, 250, 251, 252, 253, 254, 255, 256, 257, 258, 259, 260, 261, 262, 263, 264, 265, 266, 267, 268, 269, 270, 271, 272, 273, 274, 275, 276, 277, 278, 279, 280, 281, 282, 283, 284, 285, 286, 287, 288, 289, 290, 291, 292, 293, 294, 295, 296, 297, 298, 299, 300, 301, 302, 303, 304, 305, 306, 307, 308, 309, 310, 311, 312, 313, 314, 315, 316, 317, 318, 319, 320, 321, 322, 323, 324, 325, 326, 327, 328, 329, 330, 331, 332, 333, 334, 335, 336, 337, 338, 339, 340, 341, 342, 343, 344, 345, 346, 347, 348, 349, 350, 351, 352, 353, 354, 355, 356, 357, 358, 359, 360, 361, 362, 363, 364, 365, 366, 367, 368, 369, 370, 371, 372, 373, 374, 375, 376, 377, 378, 379, 380, 381, 382, 383, 384, 385, 386, 387, 388, 389, 390, 391, 392, 393, 394, 395, 396, 397, 398, 399, 400, 401, 402, 403, 404, 405, 406, 407, 408, 409, 410, 411, 412, 413, 414, 415, 416, 417, 418, 419, 420, 421, 422, 423, 424, 425, 426, 427, 428, 429, 430, 431, 432, 433, 434, 435, 436, 437, 438, 439, 440, 441, 442, 443, 444, 445, 446, 447, 448, 449, 450, 451, 452, 453, 454, 455, 456, 457, 458, 459, 460, 461, 462, 463, 464, 465, 466, 467, 468, 469, 470, 471, 472, 473, 474, 475, 476, 477, 478, 479, 480, 481, 482, 483, 484, 485, 486, 487, 488, 489, 490, 491, 492, 493, 494, 495, 496, 497, 498, 499, 500, 501, 502, 503, 504, 505, 506, 507, 508, 509, 510, 511, 512, 513, 514, 515, 516, 517, 518, 519, 520, 521, 522, 523, 524, 525, 526, 527, 528, 529, 530, 531, 532, 533, 534, 535, 536, 537, 538, 539, 540, 541, 542, 543, 544, 545, 546, 547, 548, 549, 550, 551, 552, 553, 554, 555, 556, 557, 558, 559, 560, 561, 562, 563, 564, 565, 566, 567, 568, 569, 570, 571, 572, 573, 574, 575, 576, 577, 578, 579, 580, 581, 582, 583, 584, 585, 586, 587, 588, 589, 590, 591, 592, 593, 594, 595, 596, 597, 598, 599, 600, 601, 602, 603, 604, 605, 606, 607, 608, 609, 610, 611, 612, 613, 614, 615, 616, 617, 618, 619, 620, 621, 622, 623, 624, 625, 626, 627, 628, 629, 630, 631, 632, 633, 634, 635, 636, 637, 638, 639, 640, 641, 642, 643, 644, 645, 646, 647, 648, 649, 650, 651, 652, 653, 654, 655, 656, 657, 658, 659, 660, 661, 662, 663, 664, 665, 666, 667, 668, 669, 670, 671, 672, 673, 674, 675, 676, 677, 678, 679, 680, 681, 682, 683, 684, 685, 686, 687, 688, 689, 690, 691, 692, 693, 694, 695, 696, 697, 698, 699, 700, 701, 702, 703, 704, 705, 706, 707, 708, 709, 710, 711, 712, 713, 714, 715, 716, 717, 718, 719, 720, 721, 722, 723, 724, 725, 726, 727, 728, 729, 730, 731, 732, 733, 734, 735, 736, 737, 738, 739, 740, 741, 742, 743, 744, 745, 746, 747, 748, 749, 750, 751, 752, 753, 754, 755, 756, 757, 758, 759, 760, 761, 762, 763, 764, 765, 766, 767, 768, 769, 770, 771, 772, 773, 774, 775, 776, 777, 778, 779, 780, 781, 782, 783, 784, 785, 786, 787, 788, 789, 790, 791, 792, 793, 794, 795, 796, 797, 798, 799, 800, 801, 802, 803, 804, 805, 806, 807, 808, 809, 810, 811, 812, 813, 814, 815, 816, 817, 818, 819, 820, 821, 822, 823, 824, 825, 826, 827, 828, 829, 830, 831, 832, 833, 834, 835, 836, 837, 838, 839, 840, 841, 842, 843, 844, 845, 846, 847, 848, 849, 850, 851, 852, 853, 854, 855, 856, 857, 858, 859, 860, 861, 862, 863, 864, 865, 866, 867, 868, 869, 870, 871, 872, 873, 874, 875, 876, 877, 878, 879, 880, 881, 882, 883, 884, 885, 886, 887, 888, 889, 890, 891, 892, 893, 894, 895, 896, 897, 898, 899, 900, 901, 902, 903, 904, 905, 906, 907, 908, 909, 910, 911, 912, 913, 914, 915, 916, 917, 918, 919, 920, 921, 922, 923, 924, 925, 926, 927, 928, 929, 930, 931, 932, 933, 934, 935, 936, 937, 938, 939, 940, 941, 942, 943, 944, 945, 946, 947, 948, 949, 950, 951, 952, 953, 954, 955, 956, 957, 958, 959, 960, 961, 962, 963, 964, 965, 966, 967, 968, 969, 970, 971, 972, 973, 974, 975, 976, 977, 978, 979, 980, 981, 982, 983, 984, 985, 986, 987, 988, 989, 990, 991, 992, 993, 994, 995, 996, 997, 998, 999]\n",
            "Out-of-Distribution Sample Indices (Unknown Data): [12, 39, 49, 57, 59, 60, 65, 68, 71, 75, 86, 87, 90, 91, 92, 94, 95, 97, 99, 203, 206, 207, 211, 212, 213, 214, 215, 216, 217, 219, 220, 221, 222, 224, 225, 226, 227, 230, 231, 232, 233, 234, 236, 237, 239, 240, 241, 242, 243, 244, 246, 248, 249, 250, 251, 252, 253, 255, 258, 259, 260, 261, 262, 263, 265, 266, 268, 269, 270, 272, 273, 274, 275, 276, 277, 278, 279, 280, 281, 282, 283, 284, 285, 287, 288, 290, 291, 292, 293, 294, 295, 296, 297, 298, 299, 300, 301, 302, 303, 304, 305, 306, 307, 308, 309, 310, 311, 312, 313, 314, 315, 316, 317, 318, 319, 320, 321, 322, 323, 324, 325, 326, 327, 328, 329, 330, 331, 332, 333, 334, 335, 336, 337, 338, 339, 340, 341, 342, 343, 344, 345, 346, 347, 348, 349, 350, 351, 352, 353, 354, 355, 356, 357, 358, 359, 360, 361, 362, 363, 364, 365, 366, 367, 368, 369, 370, 371, 372, 373, 374, 375, 376, 377, 378, 379, 380, 381, 382, 383, 384, 385, 386, 387, 388, 389, 390, 391, 392, 393, 394, 395, 396, 397, 398, 399, 400, 401, 402, 403, 404, 405, 406, 407, 408, 409, 410, 411, 412, 413, 414, 415, 416, 417, 418, 419, 420, 421, 422, 423, 424, 425, 426, 427, 428, 429, 430, 431, 432, 433, 434, 435, 436, 437, 438, 439, 440, 441, 442, 443, 444, 445, 446, 447, 448, 449, 450, 451, 452, 453, 454, 455, 456, 457, 458, 459, 460, 461, 462, 463, 464, 465, 466, 467, 468, 469, 470, 471, 472, 473, 474, 475, 476, 477, 478, 479, 480, 481, 482, 483, 484, 485, 486, 487, 488, 489, 490, 491, 492, 493, 494, 495, 496, 497, 498, 499, 501, 502, 503, 504, 505, 506, 507, 508, 509, 510, 512, 514, 517, 518, 519, 520, 523, 524, 527, 529, 531, 532, 534, 535, 537, 538, 539, 540, 541, 544, 545, 546, 548, 550, 551, 552, 553, 556, 557, 561, 563, 564, 565, 566, 569, 570, 574, 575, 576, 577, 578, 580, 581, 582, 584, 587, 589, 590, 591, 592, 593, 595, 596, 597, 598, 599, 600, 601, 602, 603, 604, 605, 606, 607, 608, 609, 610, 611, 612, 613, 614, 615, 616, 617, 618, 619, 620, 621, 622, 623, 624, 625, 626, 627, 628, 629, 630, 631, 632, 633, 634, 635, 636, 637, 638, 639, 640, 641, 642, 643, 644, 645, 646, 647, 648, 649, 650, 651, 652, 653, 654, 655, 656, 657, 658, 659, 660, 661, 662, 663, 664, 665, 666, 667, 668, 669, 670, 671, 672, 673, 674, 675, 676, 677, 678, 679, 680, 681, 682, 683, 684, 685, 686, 687, 688, 689, 690, 691, 692, 693, 694, 695, 696, 697, 698, 699, 700, 701, 702, 704, 705, 706, 707, 708, 710, 711, 712, 713, 715, 716, 717, 718, 719, 720, 721, 724, 725, 726, 727, 728, 729, 732, 733, 734, 735, 736, 737, 738, 739, 740, 741, 742, 743, 744, 745, 747, 748, 749, 750, 752, 753, 755, 756, 757, 758, 759, 760, 761, 762, 763, 764, 765, 766, 767, 768, 769, 770, 771, 772, 773, 774, 775, 777, 778, 779, 780, 781, 782, 783, 784, 785, 786, 787, 788, 789, 790, 791, 792, 793, 794, 795, 796, 797, 798, 799, 903, 914, 919, 922, 926, 929, 934, 936, 939, 942, 944, 948, 949, 952, 956, 957, 958, 964, 966, 973, 975, 977, 979, 980, 981, 993, 997, 998, 999]\n"
          ]
        }
      ],
      "source": [
        "import numpy as np\n",
        "from sklearn.decomposition import PCA\n",
        "from scipy.spatial import distance\n",
        "import tensorflow as tf\n",
        "\n",
        "def preprocess_data(data):\n",
        "    preprocessed_data = data\n",
        "    return preprocessed_data\n",
        "\n",
        "def extract_deep_features(model, data):\n",
        "    preprocessed_data = preprocess_data(data)\n",
        "    deep_features = model.layers[-2].output\n",
        "    deep_feature_model = tf.keras.Model(inputs=model.input, outputs=deep_features)\n",
        "    extracted_features = deep_feature_model.predict(preprocessed_data)\n",
        "\n",
        "    return extracted_features\n",
        "\n",
        "def reduce_dimensionality(features, n_components):\n",
        "    pca = PCA(n_components=n_components)\n",
        "    reduced_features = pca.fit_transform(features)\n",
        "    return reduced_features, pca\n",
        "\n",
        "deep_features_known = extract_deep_features(res_net01, Known_data_X_test)\n",
        "deep_features_unknown = extract_deep_features(res_net01, NeverSeen_data_X_test)\n",
        "\n",
        "n_components = 100\n",
        "reduced_features_known, pca_known = reduce_dimensionality(deep_features_known, n_components)\n",
        "reduced_features_unknown, pca_unknown = reduce_dimensionality(deep_features_unknown, n_components)\n",
        "\n",
        "mean_known = np.mean(reduced_features_known, axis=0)\n",
        "cov_known = np.cov(reduced_features_known, rowvar=False)\n",
        "\n",
        "cond_number = np.linalg.cond(cov_known)\n",
        "print(\"Condition Number of Covariance Matrix (Known Data):\", cond_number)\n",
        "\n",
        "epsilon = 1e-2\n",
        "\n",
        "if cond_number > 1 / epsilon:\n",
        "    cov_known_reg = cov_known + epsilon * np.eye(cov_known.shape[0])\n",
        "else:\n",
        "    cov_known_reg = cov_known\n",
        "\n",
        "mahalanobis_distances_known = []\n",
        "for feature in reduced_features_known:\n",
        "    mahalanobis_distance = distance.mahalanobis(feature, mean_known, np.linalg.inv(cov_known_reg))\n",
        "    mahalanobis_distances_known.append(mahalanobis_distance)\n",
        "\n",
        "mahalanobis_distances_unknown = []\n",
        "for feature in reduced_features_unknown:\n",
        "    mahalanobis_distance = distance.mahalanobis(feature, mean_known, np.linalg.inv(cov_known_reg))\n",
        "    mahalanobis_distances_unknown.append(mahalanobis_distance)\n",
        "\n",
        "threshold_known = 3.0\n",
        "threshold_unknown = 4.0\n",
        "\n",
        "ood_samples_known = [i for i, distance in enumerate(mahalanobis_distances_known) if distance > threshold_known]\n",
        "ood_samples_unknown = [i for i, distance in enumerate(mahalanobis_distances_unknown) if distance > threshold_unknown]\n",
        "\n",
        "print(\"Out-of-Distribution Sample Indices (Known Data):\", ood_samples_known)\n",
        "print(\"Out-of-Distribution Sample Indices (Unknown Data):\", ood_samples_unknown)\n",
        "\n",
        "\n",
        "\n",
        "\n",
        "\n"
      ]
    },
    {
      "cell_type": "code",
      "execution_count": null,
      "metadata": {
        "id": "8d_st5X_0lAx",
        "colab": {
          "base_uri": "https://localhost:8080/",
          "height": 401
        },
        "outputId": "22de2c79-524d-43e0-9468-b2c4b39d3288"
      },
      "outputs": [
        {
          "output_type": "display_data",
          "data": {
            "text/plain": [
              "<Figure size 1200x400 with 2 Axes>"
            ],
            "image/png": "[encoded data removed]"
          },
          "metadata": {}
        }
      ],
      "source": [
        "plt.figure(figsize=(12, 4))\n",
        "\n",
        "plt.subplot(1, 2, 1)\n",
        "plt.hist(mahalanobis_distances_known, bins=10)\n",
        "plt.xlabel('OpenMax Score')\n",
        "plt.ylabel('Frequency')\n",
        "plt.title('Histogram of OpenMax Scores for Known Data')\n",
        "\n",
        "plt.subplot(1, 2, 2)\n",
        "plt.hist(mahalanobis_distances_unknown, bins=10)\n",
        "plt.xlabel('OpenMax Score')\n",
        "plt.ylabel('Frequency')\n",
        "plt.title('Histogram of OpenMax Scores for Unknown Data')\n",
        "\n",
        "plt.tight_layout()\n",
        "plt.show()"
      ]
    },
    {
      "cell_type": "code",
      "execution_count": null,
      "metadata": {
        "id": "kC2pAfEv4qjW",
        "colab": {
          "base_uri": "https://localhost:8080/",
          "height": 480
        },
        "outputId": "8bd7fb97-17e4-4e11-e3af-19127ccf0fa2"
      },
      "outputs": [
        {
          "output_type": "display_data",
          "data": {
            "text/plain": [
              "<Figure size 640x480 with 1 Axes>"
            ],
            "image/png": "[encoded data removed]"
          },
          "metadata": {}
        }
      ],
      "source": [
        "plt.hist([mahalanobis_distances_known, mahalanobis_distances_unknown], bins=25, label=['Samples belonging to the knowns', 'Never seen before samples'])  # Specify the number of bins and labels\n",
        "plt.xlim(2, 15)\n",
        "\n",
        "plt.xlabel('Value of the ODIN score')\n",
        "plt.ylabel('Frequency of occurrence')\n",
        "plt.title('Comparison of ODIN scores')\n",
        "\n",
        "plt.legend()\n",
        "\n",
        "plt.show()"
      ]
    },
    {
      "cell_type": "code",
      "execution_count": null,
      "metadata": {
        "id": "dGxmYolE0lDj",
        "colab": {
          "base_uri": "https://localhost:8080/"
        },
        "outputId": "3bdaf903-33db-4e0b-fda4-0717cb4bf8ed"
      },
      "outputs": [
        {
          "output_type": "stream",
          "name": "stdout",
          "text": [
            "Overlap (IoU): 23.99%\n"
          ]
        }
      ],
      "source": [
        "import numpy as np\n",
        "\n",
        "mahalanobis_scores_known_sorted = np.sort(mahalanobis_distances_known)\n",
        "mahalanobis_scores_unknown_sorted = np.sort(mahalanobis_distances_unknown)\n",
        "\n",
        "min_known_score = mahalanobis_scores_known_sorted.min()\n",
        "max_known_score = mahalanobis_scores_known_sorted.max()\n",
        "min_unknown_score = mahalanobis_scores_unknown_sorted.min()\n",
        "max_unknown_score = mahalanobis_scores_unknown_sorted.max()\n",
        "\n",
        "bins = np.linspace(min(min_known_score, min_unknown_score), max(max_known_score, max_unknown_score), 1000)\n",
        "\n",
        "hist_known, _ = np.histogram(mahalanobis_scores_known_sorted, bins)\n",
        "hist_unknown, _ = np.histogram(mahalanobis_scores_unknown_sorted, bins)\n",
        "\n",
        "intersection = np.minimum(hist_known, hist_unknown)\n",
        "union = np.maximum(hist_known, hist_unknown)\n",
        "\n",
        "iou = np.sum(intersection) / np.sum(union) * 100\n",
        "\n",
        "print(f\"Overlap (IoU): {iou:.2f}%\")"
      ]
    },
    {
      "cell_type": "code",
      "source": [
        "import numpy as np\n",
        "from scipy.spatial import distance\n",
        "import tensorflow as tf\n",
        "from sklearn.decomposition import PCA\n",
        "import matplotlib.pyplot as plt\n",
        "\n",
        "\n",
        "loaded_models = [res_net01, res_net02, res_net03, res_net04, res_net05, res_net06, res_net07, res_net08, res_net09, res_net10,\n",
        "                 res_net11, res_net12, res_net13, res_net14, res_net15, res_net16, res_net17, res_net18, res_net19, res_net20]\n",
        "\n",
        "deep_features_known_all = []\n",
        "mahalanobis_distances_known_all = []\n",
        "deep_features_unknown_all = []\n",
        "mahalanobis_distances_unknown_all = []\n",
        "\n",
        "n_components = 100\n",
        "\n",
        "for model in loaded_models:\n",
        "    deep_features_known = extract_deep_features(model, Known_data_X_test)\n",
        "    deep_features_unknown = extract_deep_features(model, NeverSeen_data_X_test)\n",
        "\n",
        "    pca = PCA(n_components=n_components)\n",
        "    deep_features_known_pca = pca.fit_transform(deep_features_known)\n",
        "    deep_features_unknown_pca = pca.transform(deep_features_unknown)\n",
        "\n",
        "    mean_known = np.mean(deep_features_known_pca, axis=0)\n",
        "    cov_known = np.cov(deep_features_known_pca, rowvar=False)\n",
        "\n",
        "    cond_number = np.linalg.cond(cov_known)\n",
        "    print(\"Condition Number of Covariance Matrix (Known Data):\", cond_number)\n",
        "\n",
        "    epsilon = 1e-5\n",
        "\n",
        "    if cond_number > 1 / epsilon:\n",
        "        cov_known_reg = cov_known + epsilon * np.eye(cov_known.shape[0])\n",
        "    else:\n",
        "        cov_known_reg = cov_known\n",
        "\n",
        "    mahalanobis_distances_known = []\n",
        "    for feature in deep_features_known_pca:\n",
        "        mahalanobis_distance = distance.mahalanobis(feature, mean_known, np.linalg.inv(cov_known_reg))\n",
        "        mahalanobis_distances_known.append(mahalanobis_distance)\n",
        "\n",
        "    mahalanobis_distances_unknown = []\n",
        "    for feature in deep_features_unknown_pca:\n",
        "        mahalanobis_distance = distance.mahalanobis(feature, mean_known, np.linalg.inv(cov_known_reg))\n",
        "        mahalanobis_distances_unknown.append(mahalanobis_distance)\n",
        "\n",
        "    deep_features_known_all.append(deep_features_known_pca)\n",
        "    mahalanobis_distances_known_all.append(mahalanobis_distances_known)\n",
        "    deep_features_unknown_all.append(deep_features_unknown_pca)\n",
        "    mahalanobis_distances_unknown_all.append(mahalanobis_distances_unknown)\n",
        "\n",
        "deep_features_known_combined = np.concatenate(deep_features_known_all, axis=-1)\n",
        "mahalanobis_distances_known_combined = np.mean(mahalanobis_distances_known_all, axis=0)\n",
        "\n",
        "deep_features_unknown_combined = np.concatenate(deep_features_unknown_all, axis=-1)\n",
        "mahalanobis_distances_unknown_combined = np.mean(mahalanobis_distances_unknown_all, axis=0)\n",
        "\n",
        "threshold_known = 3.0\n",
        "threshold_unknown = 4.0\n",
        "\n",
        "ood_samples_known = [i for i, distance in enumerate(mahalanobis_distances_known_combined) if distance > threshold_known]\n",
        "ood_samples_unknown = [i for i, distance in enumerate(mahalanobis_distances_unknown_combined) if distance > threshold_unknown]\n",
        "\n",
        "plt.figure(figsize=(12, 4))\n",
        "\n",
        "plt.subplot(1, 2, 1)\n",
        "plt.hist(mahalanobis_distances_known_combined, bins=10)\n",
        "plt.xlabel('Mahalanobis Distance')\n",
        "plt.ylabel('Frequency')\n",
        "plt.title('Histogram of Mahalanobis Scores for Known Data (Combined)')\n",
        "\n",
        "plt.subplot(1, 2, 2)\n",
        "plt.hist(mahalanobis_distances_unknown_combined, bins=10)\n",
        "plt.xlabel('Mahalanobis Distance')\n",
        "plt.ylabel('Frequency')\n",
        "plt.title('Histogram of Mahalanobis Scores for Unknown Data (Combined)')\n",
        "\n",
        "plt.tight_layout()\n",
        "plt.show()\n",
        "\n"
      ],
      "metadata": {
        "colab": {
          "base_uri": "https://localhost:8080/",
          "height": 1000
        },
        "id": "gG1vPRNNSsVn",
        "outputId": "bdb1a296-5765-4a92-eb9a-9d98bdb0c049"
      },
      "execution_count": null,
      "outputs": [
        {
          "output_type": "stream",
          "name": "stdout",
          "text": [
            "32/32 [==============================] - 2s 21ms/step\n",
            "32/32 [==============================] - 1s 18ms/step\n",
            "Condition Number of Covariance Matrix (Known Data): 378.82457713264495\n",
            "32/32 [==============================] - 3s 22ms/step\n",
            "32/32 [==============================] - 2s 19ms/step\n",
            "Condition Number of Covariance Matrix (Known Data): 356.5433511548209\n",
            "32/32 [==============================] - 2s 21ms/step\n",
            "32/32 [==============================] - 2s 18ms/step\n",
            "Condition Number of Covariance Matrix (Known Data): 342.1158987229308\n",
            "32/32 [==============================] - 2s 21ms/step\n",
            "32/32 [==============================] - 1s 18ms/step\n",
            "Condition Number of Covariance Matrix (Known Data): 388.5485618395704\n",
            "32/32 [==============================] - 2s 20ms/step\n",
            "32/32 [==============================] - 1s 19ms/step\n",
            "Condition Number of Covariance Matrix (Known Data): 376.28152425759674\n",
            "32/32 [==============================] - 2s 21ms/step\n",
            "32/32 [==============================] - 1s 18ms/step\n",
            "Condition Number of Covariance Matrix (Known Data): 403.3169394201868\n",
            "32/32 [==============================] - 2s 21ms/step\n",
            "32/32 [==============================] - 1s 18ms/step\n",
            "Condition Number of Covariance Matrix (Known Data): 360.56808969227654\n",
            "32/32 [==============================] - 2s 21ms/step\n",
            "32/32 [==============================] - 1s 19ms/step\n",
            "Condition Number of Covariance Matrix (Known Data): 350.0764376039229\n",
            "32/32 [==============================] - 2s 21ms/step\n",
            "32/32 [==============================] - 1s 18ms/step\n",
            "Condition Number of Covariance Matrix (Known Data): 375.7987204079639\n",
            "32/32 [==============================] - 1s 18ms/step\n",
            "32/32 [==============================] - 1s 18ms/step\n",
            "Condition Number of Covariance Matrix (Known Data): 362.432147955524\n",
            "32/32 [==============================] - 2s 21ms/step\n",
            "32/32 [==============================] - 1s 19ms/step\n",
            "Condition Number of Covariance Matrix (Known Data): 420.38648881585704\n",
            "32/32 [==============================] - 2s 20ms/step\n",
            "32/32 [==============================] - 1s 19ms/step\n",
            "Condition Number of Covariance Matrix (Known Data): 357.1334681532088\n",
            "32/32 [==============================] - 2s 21ms/step\n",
            "32/32 [==============================] - 2s 21ms/step\n",
            "Condition Number of Covariance Matrix (Known Data): 406.7023277968096\n",
            "32/32 [==============================] - 2s 21ms/step\n",
            "32/32 [==============================] - 1s 18ms/step\n",
            "Condition Number of Covariance Matrix (Known Data): 357.058681308221\n",
            "32/32 [==============================] - 2s 21ms/step\n",
            "32/32 [==============================] - 1s 18ms/step\n",
            "Condition Number of Covariance Matrix (Known Data): 399.5075580529485\n",
            "32/32 [==============================] - 2s 20ms/step\n",
            "32/32 [==============================] - 1s 18ms/step\n",
            "Condition Number of Covariance Matrix (Known Data): 354.5541601397295\n",
            "32/32 [==============================] - 2s 21ms/step\n",
            "32/32 [==============================] - 1s 18ms/step\n",
            "Condition Number of Covariance Matrix (Known Data): 366.1371137879413\n",
            "32/32 [==============================] - 2s 20ms/step\n",
            "32/32 [==============================] - 1s 18ms/step\n",
            "Condition Number of Covariance Matrix (Known Data): 391.12221616496566\n",
            "32/32 [==============================] - 2s 21ms/step\n",
            "32/32 [==============================] - 1s 19ms/step\n",
            "Condition Number of Covariance Matrix (Known Data): 363.3734433359715\n",
            "32/32 [==============================] - 2s 21ms/step\n",
            "32/32 [==============================] - 1s 18ms/step\n",
            "Condition Number of Covariance Matrix (Known Data): 340.2255032695201\n"
          ]
        },
        {
          "output_type": "display_data",
          "data": {
            "text/plain": [
              "<Figure size 1200x400 with 2 Axes>"
            ],
            "image/png": "[encoded data removed]"
          },
          "metadata": {}
        }
      ]
    },
    {
      "cell_type": "code",
      "source": [
        "np.savetxt(f'{folder_path}/mahalanobis_distances_known_combined_EOSp1p3.txt', mahalanobis_distances_known_combined)\n",
        "np.savetxt(f'{folder_path}/mahalanobis_distances_unknown_combined_EOSp1p3.txt', mahalanobis_distances_unknown_combined)"
      ],
      "metadata": {
        "id": "-jhueKHtfduT"
      },
      "execution_count": null,
      "outputs": []
    },
    {
      "cell_type": "code",
      "source": [
        "import matplotlib.pyplot as plt\n",
        "\n",
        "fig, axs = plt.subplots(3, 1, figsize=(8, 12))\n",
        "\n",
        "axs[0].hist([odin_scores_KNOWN, odin_scores_UN_KNOWN], bins=25, label=['Samples belonging to the knowns', 'Never seen before samples'])\n",
        "axs[0].set_xlabel('Value of the ODIN score')\n",
        "axs[0].set_ylabel('Frequency of occurrence')\n",
        "axs[0].set_title('Comparison of ODIN scores, EOS, $\\mathcal{K} = p_1$, $\\mathcal{I} = p_3$')\n",
        "axs[0].legend()\n",
        "\n",
        "axs[0].set_xlim(0, 0.06)\n",
        "\n",
        "axs[1].hist([openmax_scores_known, openmax_scores_unknown], bins=10, label=['Samples belonging to the knowns', 'Never seen before samples'])\n",
        "axs[1].set_xlabel('Value of the OpenMax score')\n",
        "axs[1].set_ylabel('Frequency of occurrence')\n",
        "axs[1].set_title('Comparison of OpenMax scores, EOS, $\\mathcal{K} = p_1$, $\\mathcal{I} = p_3$')\n",
        "axs[1].legend()\n",
        "\n",
        "axs[2].hist([mahalanobis_distances_known, mahalanobis_distances_unknown], bins=25, label=['Samples belonging to the knowns', 'Never seen before samples'])\n",
        "axs[2].set_xlabel('Value of the Mahalanobis score')\n",
        "axs[2].set_ylabel('Frequency of occurrence')\n",
        "axs[2].set_title('Comparison of Mahalanobis scores, EOS, $\\mathcal{K} = p_1$, $\\mathcal{I} = p_3$')\n",
        "axs[2].legend()\n",
        "\n",
        "axs[2].set_xlim(2, 15)\n",
        "\n",
        "plt.tight_layout()\n",
        "\n",
        "plt.show()\n"
      ],
      "metadata": {
        "colab": {
          "base_uri": "https://localhost:8080/",
          "height": 1000
        },
        "id": "8x7zDdQGSsaY",
        "outputId": "5bb89ff8-347f-4cbc-ad52-7f46d9b19e62"
      },
      "execution_count": null,
      "outputs": [
        {
          "output_type": "display_data",
          "data": {
            "text/plain": [
              "<Figure size 800x1200 with 3 Axes>"
            ],
            "image/png": "[encoded data removed]"
          },
          "metadata": {}
        }
      ]
    },
    {
      "cell_type": "code",
      "source": [
        "import matplotlib.pyplot as plt\n",
        "\n",
        "fig, axs = plt.subplots(1, 3, figsize=(18, 6))\n",
        "\n",
        "axs[0].hist([odin_scores_KNOWN, odin_scores_UN_KNOWN], bins=25, label=['Samples belonging to the knowns', 'Never seen before samples'])\n",
        "axs[0].set_xlabel('Value of the ODIN score')\n",
        "axs[0].set_ylabel('Frequency of occurrence')\n",
        "axs[0].set_title('Comparison of ODIN scores, EOS, $\\mathcal{K} = p_1$, $\\mathcal{I} = p_3$')\n",
        "axs[0].legend()\n",
        "axs[0].set_xlim(0, 0.06)\n",
        "\n",
        "axs[1].hist([openmax_scores_known, openmax_scores_unknown], bins=10, label=['Samples belonging to the knowns', 'Never seen before samples'])\n",
        "axs[1].set_xlabel('Value of the OpenMax score')\n",
        "axs[1].set_ylabel('Frequency of occurrence')\n",
        "axs[1].set_title('Comparison of OpenMax scores, EOS, $\\mathcal{K} = p_1$, $\\mathcal{I} = p_3$')\n",
        "axs[1].legend()\n",
        "\n",
        "axs[2].hist([mahalanobis_distances_known, mahalanobis_distances_unknown], bins=25, label=['Samples belonging to the knowns', 'Never seen before samples'])\n",
        "axs[2].set_xlabel('Value of the Mahalanobis score')\n",
        "axs[2].set_ylabel('Frequency of occurrence')\n",
        "axs[2].set_title('Comparison of Mahalanobis scores, EOS, $\\mathcal{K} = p_1$, $\\mathcal{I} = p_3$')\n",
        "axs[2].legend()\n",
        "axs[2].set_xlim(2.5, 15)\n",
        "\n",
        "plt.tight_layout()\n",
        "\n",
        "plt.show()\n",
        "\n"
      ],
      "metadata": {
        "colab": {
          "base_uri": "https://localhost:8080/",
          "height": 536
        },
        "id": "o5GOK5-_Ssff",
        "outputId": "211365b7-a34a-430e-a4a3-75946884182d"
      },
      "execution_count": null,
      "outputs": [
        {
          "output_type": "display_data",
          "data": {
            "text/plain": [
              "<Figure size 1800x600 with 3 Axes>"
            ],
            "image/png": "[encoded data removed]"
          },
          "metadata": {}
        }
      ]
    },
    {
      "cell_type": "code",
      "execution_count": null,
      "metadata": {
        "id": "mzDnceybxUK0"
      },
      "outputs": [],
      "source": [
        "Known_data_X_test_label_int = []\n",
        "for i in range(Known_data_X_test_label.shape[0]):\n",
        "  Known_data_X_test_label_int.append(np.argmax(Known_data_X_test_label[i]))"
      ]
    },
    {
      "cell_type": "code",
      "execution_count": null,
      "metadata": {
        "colab": {
          "base_uri": "https://localhost:8080/"
        },
        "id": "SmHXNFS5oVQb",
        "outputId": "ba17b2fa-90ac-4258-96b9-606e321aeb4f"
      },
      "outputs": [
        {
          "name": "stdout",
          "output_type": "stream",
          "text": [
            "Accuracy of the first ensemble on the knowns 0.897\n",
            "Accuracy of the second ensemble on the knowns 0.9\n",
            "Accuracy of the third ensemble on the knowns 0.899\n",
            "Accuracy of the fourth ensemble on the knowns 0.907\n"
          ]
        }
      ],
      "source": [
        "prediction_known_ensemble_1 = (prediction01_known + prediction02_known + prediction03_known + prediction04_known + prediction05_known)/5\n",
        "\n",
        "true = 0\n",
        "for i in range(Known_data_X_test_label.shape[0]):\n",
        "  if prediction_known_ensemble_1.argmax(axis=1)[i] == Known_data_X_test_label_int[i]:\n",
        "    true += 1\n",
        "print(\"Accuracy of the first ensemble on the knowns\", true/(Known_data_X_test_label.shape[0]))\n",
        "\n",
        "prediction_known_ensemble_2 = (prediction06_known + prediction07_known + prediction08_known + prediction09_known + prediction10_known)/5\n",
        "\n",
        "true = 0\n",
        "for i in range(Known_data_X_test_label.shape[0]):\n",
        "  if prediction_known_ensemble_2.argmax(axis=1)[i] == Known_data_X_test_label_int[i]:\n",
        "    true += 1\n",
        "print(\"Accuracy of the second ensemble on the knowns\", true/(Known_data_X_test_label.shape[0]))\n",
        "\n",
        "prediction_known_ensemble_3 = (prediction11_known + prediction12_known + prediction13_known + prediction14_known + prediction15_known)/5\n",
        "\n",
        "true = 0\n",
        "for i in range(Known_data_X_test_label.shape[0]):\n",
        "  if prediction_known_ensemble_3.argmax(axis=1)[i] == Known_data_X_test_label_int[i]:\n",
        "    true += 1\n",
        "print(\"Accuracy of the third ensemble on the knowns\", true/(Known_data_X_test_label.shape[0]))\n",
        "\n",
        "prediction_known_ensemble_4 = (prediction16_known + prediction17_known + prediction18_known + prediction19_known + prediction20_known)/5\n",
        "\n",
        "true = 0\n",
        "for i in range(Known_data_X_test_label.shape[0]):\n",
        "  if prediction_known_ensemble_4.argmax(axis=1)[i] == Known_data_X_test_label_int[i]:\n",
        "    true += 1\n",
        "print(\"Accuracy of the fourth ensemble on the knowns\", true/(Known_data_X_test_label.shape[0]))"
      ]
    },
    {
      "cell_type": "code",
      "execution_count": null,
      "metadata": {
        "id": "jOU7eYW-NbUb"
      },
      "outputs": [],
      "source": []
    },
    {
      "cell_type": "code",
      "execution_count": null,
      "metadata": {
        "id": "uQquEL9xNbXA"
      },
      "outputs": [],
      "source": []
    },
    {
      "cell_type": "code",
      "execution_count": null,
      "metadata": {
        "id": "KAO7McitNb_q"
      },
      "outputs": [],
      "source": []
    },
    {
      "cell_type": "markdown",
      "metadata": {
        "id": "E3Pq2KqHYYgM"
      },
      "source": [
        "# Separating $\\mathcal{K}$ and $\\mathcal{N}$ by a fixed (class-independendent) threshold"
      ]
    },
    {
      "cell_type": "code",
      "execution_count": null,
      "metadata": {
        "id": "yZfHJkznZ4Lq"
      },
      "outputs": [],
      "source": [
        "prediction_known = prediction_known_ensemble_3\n",
        "prediction_unknown = prediction_unknown_ensemble_3"
      ]
    },
    {
      "cell_type": "code",
      "execution_count": null,
      "metadata": {
        "id": "HA75xLuUGNca"
      },
      "outputs": [],
      "source": [
        "def thresholding(threshold):\n",
        "  true = 0\n",
        "  for i in range(prediction_known.shape[0]):\n",
        "    if prediction_known.argmax(axis=1)[i] == Known_data_X_test_label_int[i] and max(prediction_known[i]) > threshold:\n",
        "      true += 1\n",
        "  return true/(prediction_known.shape[0])"
      ]
    },
    {
      "cell_type": "code",
      "execution_count": null,
      "metadata": {
        "colab": {
          "base_uri": "https://localhost:8080/"
        },
        "id": "SW6PGNX72bky",
        "outputId": "d8e952cc-6068-40e3-c0cb-4d6e8588e569"
      },
      "outputs": [
        {
          "data": {
            "text/plain": [
              "[[0.1, 89.9],\n",
              " [0.11, 89.9],\n",
              " [0.12000000000000001, 89.9],\n",
              " [0.13, 89.9],\n",
              " [0.14, 89.8],\n",
              " [0.15000000000000002, 89.8],\n",
              " [0.16, 89.7],\n",
              " [0.17, 89.60000000000001],\n",
              " [0.18, 89.60000000000001],\n",
              " [0.19, 89.5],\n",
              " [0.2, 89.5],\n",
              " [0.21000000000000002, 89.4],\n",
              " [0.22, 89.3],\n",
              " [0.23, 89.3],\n",
              " [0.24000000000000002, 89.2],\n",
              " [0.25, 89.0],\n",
              " [0.26, 88.8],\n",
              " [0.27, 88.8],\n",
              " [0.28, 88.6],\n",
              " [0.29000000000000004, 88.6],\n",
              " [0.30000000000000004, 88.6],\n",
              " [0.31, 88.3],\n",
              " [0.32, 88.2],\n",
              " [0.33, 88.1],\n",
              " [0.33999999999999997, 88.1],\n",
              " [0.35, 87.8],\n",
              " [0.36, 87.6],\n",
              " [0.37, 87.6],\n",
              " [0.38, 87.5],\n",
              " [0.39, 87.4],\n",
              " [0.4, 87.4],\n",
              " [0.41000000000000003, 87.3],\n",
              " [0.42000000000000004, 87.0],\n",
              " [0.43000000000000005, 86.8],\n",
              " [0.44000000000000006, 86.7],\n",
              " [0.45000000000000007, 86.6],\n",
              " [0.45999999999999996, 86.1],\n",
              " [0.47, 86.1],\n",
              " [0.48, 85.9],\n",
              " [0.49, 85.8],\n",
              " [0.5, 85.6],\n",
              " [0.51, 85.3],\n",
              " [0.52, 85.0],\n",
              " [0.53, 84.89999999999999],\n",
              " [0.54, 84.6],\n",
              " [0.55, 84.39999999999999],\n",
              " [0.56, 84.39999999999999],\n",
              " [0.5700000000000001, 83.89999999999999],\n",
              " [0.58, 83.3],\n",
              " [0.59, 83.1],\n",
              " [0.6, 82.5],\n",
              " [0.61, 82.39999999999999],\n",
              " [0.62, 82.19999999999999],\n",
              " [0.63, 82.1],\n",
              " [0.64, 81.89999999999999],\n",
              " [0.65, 81.6],\n",
              " [0.66, 81.2],\n",
              " [0.67, 80.9],\n",
              " [0.6799999999999999, 80.60000000000001],\n",
              " [0.69, 80.2],\n",
              " [0.7, 79.7],\n",
              " [0.71, 79.2],\n",
              " [0.72, 78.8],\n",
              " [0.73, 78.3],\n",
              " [0.74, 78.2],\n",
              " [0.75, 77.5],\n",
              " [0.76, 77.4],\n",
              " [0.77, 77.4],\n",
              " [0.78, 77.10000000000001],\n",
              " [0.79, 76.8],\n",
              " [0.8, 76.3],\n",
              " [0.8099999999999999, 76.0],\n",
              " [0.82, 75.4],\n",
              " [0.83, 74.9],\n",
              " [0.84, 74.3],\n",
              " [0.85, 73.7],\n",
              " [0.86, 73.0],\n",
              " [0.87, 72.1],\n",
              " [0.88, 71.7],\n",
              " [0.89, 70.6],\n",
              " [0.9, 69.39999999999999],\n",
              " [0.91, 68.30000000000001],\n",
              " [0.92, 67.10000000000001],\n",
              " [0.93, 65.9],\n",
              " [0.94, 64.60000000000001],\n",
              " [0.95, 63.3],\n",
              " [0.96, 60.4],\n",
              " [0.97, 56.39999999999999],\n",
              " [0.98, 53.0],\n",
              " [0.99, 46.2],\n",
              " [0.99, 46.2],\n",
              " [0.991, 45.0],\n",
              " [0.992, 44.6],\n",
              " [0.993, 44.0],\n",
              " [0.994, 43.2],\n",
              " [0.995, 42.1],\n",
              " [0.996, 40.8],\n",
              " [0.997, 39.1],\n",
              " [0.998, 36.8],\n",
              " [0.999, 32.800000000000004]]"
            ]
          },
          "execution_count": 38,
          "metadata": {},
          "output_type": "execute_result"
        }
      ],
      "source": [
        "CorrectThresholding = []\n",
        "for i in range(90):\n",
        "  CorrectThresholding.append([0.1 + 0.01*i,100*thresholding(0.1 + 0.01*i)])\n",
        "for i in range(10):\n",
        "  CorrectThresholding.append([0.99 + 0.001*i,100*thresholding(0.99 + 0.001*i)])\n",
        "CorrectThresholding"
      ]
    },
    {
      "cell_type": "code",
      "execution_count": null,
      "metadata": {
        "id": "Vn2lRWxDM4G4"
      },
      "outputs": [],
      "source": [
        "def false_identify(threshold):\n",
        "  false_identify = 0\n",
        "  for i in range(prediction_known.shape[0]):\n",
        "    if prediction_known.argmax(axis=1)[i] != Known_data_X_test_label_int[i] and max(prediction_known[i]) > threshold:\n",
        "      false_identify += 1\n",
        "  return false_identify/(prediction_known.shape[0])"
      ]
    },
    {
      "cell_type": "code",
      "execution_count": null,
      "metadata": {
        "colab": {
          "base_uri": "https://localhost:8080/"
        },
        "id": "M753dWrlM4Km",
        "outputId": "6d519487-a599-49fc-f184-63f337011783"
      },
      "outputs": [
        {
          "data": {
            "text/plain": [
              "[[0.1, 10.100000000000001],\n",
              " [0.11, 10.100000000000001],\n",
              " [0.12000000000000001, 10.100000000000001],\n",
              " [0.13, 10.100000000000001],\n",
              " [0.14, 10.0],\n",
              " [0.15000000000000002, 9.9],\n",
              " [0.16, 9.9],\n",
              " [0.17, 9.8],\n",
              " [0.18, 9.8],\n",
              " [0.19, 9.8],\n",
              " [0.2, 9.700000000000001],\n",
              " [0.21000000000000002, 9.4],\n",
              " [0.22, 9.3],\n",
              " [0.23, 9.3],\n",
              " [0.24000000000000002, 9.3],\n",
              " [0.25, 9.3],\n",
              " [0.26, 9.2],\n",
              " [0.27, 9.2],\n",
              " [0.28, 9.2],\n",
              " [0.29000000000000004, 8.9],\n",
              " [0.30000000000000004, 8.9],\n",
              " [0.31, 8.9],\n",
              " [0.32, 8.9],\n",
              " [0.33, 8.799999999999999],\n",
              " [0.33999999999999997, 8.799999999999999],\n",
              " [0.35, 8.799999999999999],\n",
              " [0.36, 8.7],\n",
              " [0.37, 8.7],\n",
              " [0.38, 8.7],\n",
              " [0.39, 8.6],\n",
              " [0.4, 8.5],\n",
              " [0.41000000000000003, 8.5],\n",
              " [0.42000000000000004, 8.1],\n",
              " [0.43000000000000005, 7.8],\n",
              " [0.44000000000000006, 7.5],\n",
              " [0.45000000000000007, 7.5],\n",
              " [0.45999999999999996, 7.199999999999999],\n",
              " [0.47, 7.199999999999999],\n",
              " [0.48, 7.000000000000001],\n",
              " [0.49, 6.9],\n",
              " [0.5, 6.4],\n",
              " [0.51, 6.3],\n",
              " [0.52, 6.2],\n",
              " [0.53, 6.1],\n",
              " [0.54, 6.1],\n",
              " [0.55, 6.0],\n",
              " [0.56, 5.8999999999999995],\n",
              " [0.5700000000000001, 5.800000000000001],\n",
              " [0.58, 5.800000000000001],\n",
              " [0.59, 5.800000000000001],\n",
              " [0.6, 5.800000000000001],\n",
              " [0.61, 5.800000000000001],\n",
              " [0.62, 5.7],\n",
              " [0.63, 5.5],\n",
              " [0.64, 5.4],\n",
              " [0.65, 5.3],\n",
              " [0.66, 5.2],\n",
              " [0.67, 5.1],\n",
              " [0.6799999999999999, 5.0],\n",
              " [0.69, 5.0],\n",
              " [0.7, 4.8],\n",
              " [0.71, 4.7],\n",
              " [0.72, 4.6],\n",
              " [0.73, 4.5],\n",
              " [0.74, 4.3999999999999995],\n",
              " [0.75, 4.3],\n",
              " [0.76, 3.8],\n",
              " [0.77, 3.8],\n",
              " [0.78, 3.5999999999999996],\n",
              " [0.79, 3.5000000000000004],\n",
              " [0.8, 3.2],\n",
              " [0.8099999999999999, 3.2],\n",
              " [0.82, 3.2],\n",
              " [0.83, 3.1],\n",
              " [0.84, 2.8000000000000003],\n",
              " [0.85, 2.4],\n",
              " [0.86, 2.3],\n",
              " [0.87, 2.1999999999999997],\n",
              " [0.88, 1.9],\n",
              " [0.89, 1.6],\n",
              " [0.9, 1.3],\n",
              " [0.91, 1.2],\n",
              " [0.92, 0.8999999999999999],\n",
              " [0.93, 0.8999999999999999],\n",
              " [0.94, 0.8],\n",
              " [0.95, 0.7000000000000001],\n",
              " [0.96, 0.4],\n",
              " [0.97, 0.3],\n",
              " [0.98, 0.3],\n",
              " [0.99, 0.0],\n",
              " [0.99, 0.0],\n",
              " [0.991, 0.0],\n",
              " [0.992, 0.0],\n",
              " [0.993, 0.0],\n",
              " [0.994, 0.0],\n",
              " [0.995, 0.0],\n",
              " [0.996, 0.0],\n",
              " [0.997, 0.0],\n",
              " [0.998, 0.0],\n",
              " [0.999, 0.0]]"
            ]
          },
          "execution_count": 40,
          "metadata": {},
          "output_type": "execute_result"
        }
      ],
      "source": [
        "FalseIdentify = []\n",
        "for i in range(90):\n",
        "  FalseIdentify.append([0.1 + 0.01*i,100*false_identify(0.1 + 0.01*i)])\n",
        "for i in range(10):\n",
        "  FalseIdentify.append([0.99 + 0.001*i,100*false_identify(0.99 + 0.001*i)])\n",
        "FalseIdentify"
      ]
    },
    {
      "cell_type": "code",
      "execution_count": null,
      "metadata": {
        "id": "InSYYnV1M4Of"
      },
      "outputs": [],
      "source": [
        "def misclassifyunknown(threshold):\n",
        "  misclassifyunknown = 0\n",
        "  for i in range(prediction_unknown.shape[0]):\n",
        "    if max(prediction_unknown[i]) > threshold:\n",
        "      misclassifyunknown += 1\n",
        "  return misclassifyunknown/(prediction_unknown.shape[0])"
      ]
    },
    {
      "cell_type": "code",
      "execution_count": null,
      "metadata": {
        "colab": {
          "base_uri": "https://localhost:8080/"
        },
        "id": "jKdfbnzZM4ST",
        "outputId": "b0305ea6-cbfc-4cc9-a300-45903a5c61f7"
      },
      "outputs": [
        {
          "data": {
            "text/plain": [
              "[[0.1, 100.0],\n",
              " [0.11, 100.0],\n",
              " [0.12000000000000001, 99.7],\n",
              " [0.13, 96.39999999999999],\n",
              " [0.14, 89.7],\n",
              " [0.15000000000000002, 83.6],\n",
              " [0.16, 78.7],\n",
              " [0.17, 74.2],\n",
              " [0.18, 71.6],\n",
              " [0.19, 69.8],\n",
              " [0.2, 67.9],\n",
              " [0.21000000000000002, 67.2],\n",
              " [0.22, 65.9],\n",
              " [0.23, 64.7],\n",
              " [0.24000000000000002, 63.6],\n",
              " [0.25, 62.7],\n",
              " [0.26, 62.1],\n",
              " [0.27, 61.199999999999996],\n",
              " [0.28, 60.4],\n",
              " [0.29000000000000004, 59.8],\n",
              " [0.30000000000000004, 58.9],\n",
              " [0.31, 58.199999999999996],\n",
              " [0.32, 57.599999999999994],\n",
              " [0.33, 56.699999999999996],\n",
              " [0.33999999999999997, 55.900000000000006],\n",
              " [0.35, 55.60000000000001],\n",
              " [0.36, 54.900000000000006],\n",
              " [0.37, 54.300000000000004],\n",
              " [0.38, 53.5],\n",
              " [0.39, 52.400000000000006],\n",
              " [0.4, 52.1],\n",
              " [0.41000000000000003, 51.5],\n",
              " [0.42000000000000004, 50.7],\n",
              " [0.43000000000000005, 49.9],\n",
              " [0.44000000000000006, 49.7],\n",
              " [0.45000000000000007, 48.699999999999996],\n",
              " [0.45999999999999996, 48.4],\n",
              " [0.47, 47.4],\n",
              " [0.48, 46.9],\n",
              " [0.49, 45.9],\n",
              " [0.5, 45.1],\n",
              " [0.51, 44.6],\n",
              " [0.52, 44.0],\n",
              " [0.53, 43.7],\n",
              " [0.54, 42.9],\n",
              " [0.55, 42.4],\n",
              " [0.56, 41.699999999999996],\n",
              " [0.5700000000000001, 40.8],\n",
              " [0.58, 39.900000000000006],\n",
              " [0.59, 39.4],\n",
              " [0.6, 39.1],\n",
              " [0.61, 38.4],\n",
              " [0.62, 38.1],\n",
              " [0.63, 37.3],\n",
              " [0.64, 36.5],\n",
              " [0.65, 36.0],\n",
              " [0.66, 35.5],\n",
              " [0.67, 34.699999999999996],\n",
              " [0.6799999999999999, 33.800000000000004],\n",
              " [0.69, 33.5],\n",
              " [0.7, 32.9],\n",
              " [0.71, 32.2],\n",
              " [0.72, 31.7],\n",
              " [0.73, 31.5],\n",
              " [0.74, 31.2],\n",
              " [0.75, 30.4],\n",
              " [0.76, 29.9],\n",
              " [0.77, 29.599999999999998],\n",
              " [0.78, 29.4],\n",
              " [0.79, 28.999999999999996],\n",
              " [0.8, 28.599999999999998],\n",
              " [0.8099999999999999, 28.000000000000004],\n",
              " [0.82, 27.3],\n",
              " [0.83, 26.700000000000003],\n",
              " [0.84, 25.900000000000002],\n",
              " [0.85, 25.4],\n",
              " [0.86, 24.8],\n",
              " [0.87, 24.099999999999998],\n",
              " [0.88, 23.7],\n",
              " [0.89, 22.8],\n",
              " [0.9, 22.3],\n",
              " [0.91, 21.6],\n",
              " [0.92, 21.0],\n",
              " [0.93, 20.1],\n",
              " [0.94, 19.400000000000002],\n",
              " [0.95, 18.5],\n",
              " [0.96, 17.299999999999997],\n",
              " [0.97, 15.8],\n",
              " [0.98, 14.299999999999999],\n",
              " [0.99, 12.0],\n",
              " [0.99, 12.0],\n",
              " [0.991, 11.5],\n",
              " [0.992, 11.1],\n",
              " [0.993, 10.9],\n",
              " [0.994, 10.299999999999999],\n",
              " [0.995, 9.8],\n",
              " [0.996, 9.2],\n",
              " [0.997, 8.200000000000001],\n",
              " [0.998, 7.199999999999999],\n",
              " [0.999, 6.1]]"
            ]
          },
          "execution_count": 42,
          "metadata": {},
          "output_type": "execute_result"
        }
      ],
      "source": [
        "UnknownMisclassify = []\n",
        "for i in range(90):\n",
        "  UnknownMisclassify.append([0.1 + 0.01*i,100*misclassifyunknown(0.1 + 0.01*i)])\n",
        "for i in range(10):\n",
        "  UnknownMisclassify.append([0.99 + 0.001*i,100*misclassifyunknown(0.99 + 0.001*i)])\n",
        "UnknownMisclassify"
      ]
    },
    {
      "cell_type": "code",
      "execution_count": null,
      "metadata": {
        "id": "RXvKcD4fM4VD"
      },
      "outputs": [],
      "source": [
        "def dontknow(threshold):\n",
        "  notknown = 0\n",
        "  for i in range(prediction_known.shape[0]):\n",
        "    if max(prediction_known[i]) <= threshold:\n",
        "      notknown += 1\n",
        "  return notknown/(prediction_known.shape[0])"
      ]
    },
    {
      "cell_type": "code",
      "execution_count": null,
      "metadata": {
        "colab": {
          "base_uri": "https://localhost:8080/"
        },
        "id": "mWInVYNk2bml",
        "outputId": "c4b34355-98c5-440d-ccfa-deffb7505364"
      },
      "outputs": [
        {
          "data": {
            "text/plain": [
              "[[0.1, 0.0],\n",
              " [0.11, 0.0],\n",
              " [0.12000000000000001, 0.0],\n",
              " [0.13, 0.0],\n",
              " [0.14, 0.2],\n",
              " [0.15000000000000002, 0.3],\n",
              " [0.16, 0.4],\n",
              " [0.17, 0.6],\n",
              " [0.18, 0.6],\n",
              " [0.19, 0.7000000000000001],\n",
              " [0.2, 0.8],\n",
              " [0.21000000000000002, 1.2],\n",
              " [0.22, 1.4000000000000001],\n",
              " [0.23, 1.4000000000000001],\n",
              " [0.24000000000000002, 1.5],\n",
              " [0.25, 1.7000000000000002],\n",
              " [0.26, 2.0],\n",
              " [0.27, 2.0],\n",
              " [0.28, 2.1999999999999997],\n",
              " [0.29000000000000004, 2.5],\n",
              " [0.30000000000000004, 2.5],\n",
              " [0.31, 2.8000000000000003],\n",
              " [0.32, 2.9000000000000004],\n",
              " [0.33, 3.1],\n",
              " [0.33999999999999997, 3.1],\n",
              " [0.35, 3.4000000000000004],\n",
              " [0.36, 3.6999999999999997],\n",
              " [0.37, 3.6999999999999997],\n",
              " [0.38, 3.8],\n",
              " [0.39, 4.0],\n",
              " [0.4, 4.1000000000000005],\n",
              " [0.41000000000000003, 4.2],\n",
              " [0.42000000000000004, 4.9],\n",
              " [0.43000000000000005, 5.4],\n",
              " [0.44000000000000006, 5.800000000000001],\n",
              " [0.45000000000000007, 5.8999999999999995],\n",
              " [0.45999999999999996, 6.7],\n",
              " [0.47, 6.7],\n",
              " [0.48, 7.1],\n",
              " [0.49, 7.3],\n",
              " [0.5, 8.0],\n",
              " [0.51, 8.4],\n",
              " [0.52, 8.799999999999999],\n",
              " [0.53, 9.0],\n",
              " [0.54, 9.3],\n",
              " [0.55, 9.6],\n",
              " [0.56, 9.700000000000001],\n",
              " [0.5700000000000001, 10.299999999999999],\n",
              " [0.58, 10.9],\n",
              " [0.59, 11.1],\n",
              " [0.6, 11.700000000000001],\n",
              " [0.61, 11.799999999999999],\n",
              " [0.62, 12.1],\n",
              " [0.63, 12.4],\n",
              " [0.64, 12.7],\n",
              " [0.65, 13.100000000000001],\n",
              " [0.66, 13.600000000000001],\n",
              " [0.67, 14.000000000000002],\n",
              " [0.6799999999999999, 14.399999999999999],\n",
              " [0.69, 14.799999999999999],\n",
              " [0.7, 15.5],\n",
              " [0.71, 16.1],\n",
              " [0.72, 16.6],\n",
              " [0.73, 17.2],\n",
              " [0.74, 17.4],\n",
              " [0.75, 18.2],\n",
              " [0.76, 18.8],\n",
              " [0.77, 18.8],\n",
              " [0.78, 19.3],\n",
              " [0.79, 19.7],\n",
              " [0.8, 20.5],\n",
              " [0.8099999999999999, 20.8],\n",
              " [0.82, 21.4],\n",
              " [0.83, 22.0],\n",
              " [0.84, 22.900000000000002],\n",
              " [0.85, 23.9],\n",
              " [0.86, 24.7],\n",
              " [0.87, 25.7],\n",
              " [0.88, 26.400000000000002],\n",
              " [0.89, 27.800000000000004],\n",
              " [0.9, 29.299999999999997],\n",
              " [0.91, 30.5],\n",
              " [0.92, 32.0],\n",
              " [0.93, 33.2],\n",
              " [0.94, 34.599999999999994],\n",
              " [0.95, 36.0],\n",
              " [0.96, 39.2],\n",
              " [0.97, 43.3],\n",
              " [0.98, 46.7],\n",
              " [0.99, 53.800000000000004],\n",
              " [0.99, 53.800000000000004],\n",
              " [0.991, 55.00000000000001],\n",
              " [0.992, 55.400000000000006],\n",
              " [0.993, 56.00000000000001],\n",
              " [0.994, 56.8],\n",
              " [0.995, 57.9],\n",
              " [0.996, 59.199999999999996],\n",
              " [0.997, 60.9],\n",
              " [0.998, 63.2],\n",
              " [0.999, 67.2]]"
            ]
          },
          "execution_count": 44,
          "metadata": {},
          "output_type": "execute_result"
        }
      ],
      "source": [
        "DontKnowThresholding = []\n",
        "for i in range(90):\n",
        "  DontKnowThresholding.append([0.1 + 0.01*i,100*dontknow(0.1 + 0.01*i)])\n",
        "for i in range(10):\n",
        "  DontKnowThresholding.append([0.99 + 0.001*i,100*dontknow(0.99 + 0.001*i)])\n",
        "DontKnowThresholding"
      ]
    },
    {
      "cell_type": "code",
      "execution_count": null,
      "metadata": {
        "colab": {
          "base_uri": "https://localhost:8080/"
        },
        "id": "whvlD7tVNOew",
        "outputId": "19db0262-b8c7-48d3-d578-84d45949dd89"
      },
      "outputs": [
        {
          "name": "stdout",
          "output_type": "stream",
          "text": [
            "The maximum value in the aligned array is: 0.99999845\n"
          ]
        }
      ],
      "source": [
        "aligned_array = [element for row in prediction_unknown for element in row]\n",
        "# Find the maximum value in the aligned array\n",
        "max_value = max(aligned_array)\n",
        "\n",
        "# The max_value variable now contains the maximum value in the aligned array\n",
        "print(\"The maximum value in the aligned array is:\", max_value)\n"
      ]
    },
    {
      "cell_type": "code",
      "execution_count": null,
      "metadata": {
        "colab": {
          "base_uri": "https://localhost:8080/"
        },
        "id": "lQT16bp2f4xV",
        "outputId": "8ac14bb6-6f12-4726-f760-7d32bc5368bf"
      },
      "outputs": [
        {
          "data": {
            "text/plain": [
              "0.029"
            ]
          },
          "execution_count": 46,
          "metadata": {},
          "output_type": "execute_result"
        }
      ],
      "source": [
        "thresholding(max_value)"
      ]
    },
    {
      "cell_type": "code",
      "execution_count": null,
      "metadata": {
        "colab": {
          "base_uri": "https://localhost:8080/"
        },
        "id": "oiAq9lS3QZ-P",
        "outputId": "e5dc315b-1f11-4944-e0b7-5b9174258514"
      },
      "outputs": [
        {
          "data": {
            "text/plain": [
              "0.899"
            ]
          },
          "execution_count": 47,
          "metadata": {},
          "output_type": "execute_result"
        }
      ],
      "source": [
        "thresholding(0)"
      ]
    },
    {
      "cell_type": "code",
      "execution_count": null,
      "metadata": {
        "colab": {
          "base_uri": "https://localhost:8080/"
        },
        "id": "bb8_5G4-hP8l",
        "outputId": "40260f1f-1465-4b8c-c1d2-53f66386ea24"
      },
      "outputs": [
        {
          "data": {
            "text/plain": [
              "0.971"
            ]
          },
          "execution_count": 30,
          "metadata": {},
          "output_type": "execute_result"
        }
      ],
      "source": [
        "dontknow(max_value)"
      ]
    },
    {
      "cell_type": "code",
      "execution_count": null,
      "metadata": {
        "colab": {
          "base_uri": "https://localhost:8080/"
        },
        "id": "FjStdK4hhS8K",
        "outputId": "db1f9d65-2b6f-40f2-e6dc-3eb7a798ef98"
      },
      "outputs": [
        {
          "data": {
            "text/plain": [
              "0.0"
            ]
          },
          "execution_count": 31,
          "metadata": {},
          "output_type": "execute_result"
        }
      ],
      "source": [
        "misclassifyunknown(max_value)"
      ]
    },
    {
      "cell_type": "code",
      "execution_count": null,
      "metadata": {
        "colab": {
          "base_uri": "https://localhost:8080/"
        },
        "id": "0ihRU5ZxhbjN",
        "outputId": "b5b3c028-7d7c-4d42-ff9d-d2a22f1a3afc"
      },
      "outputs": [
        {
          "data": {
            "text/plain": [
              "0.0"
            ]
          },
          "execution_count": 32,
          "metadata": {},
          "output_type": "execute_result"
        }
      ],
      "source": [
        "false_identify(max_value)"
      ]
    },
    {
      "cell_type": "code",
      "execution_count": null,
      "metadata": {
        "colab": {
          "base_uri": "https://localhost:8080/"
        },
        "id": "eRKbUDYDNOSp",
        "outputId": "9a13b016-5915-4c5b-b780-1584e3880646"
      },
      "outputs": [
        {
          "data": {
            "text/plain": [
              "[[89.9, 0.0],\n",
              " [89.9, 0.0],\n",
              " [89.9, 0.0],\n",
              " [89.9, 0.0],\n",
              " [89.8, 0.2],\n",
              " [89.8, 0.3],\n",
              " [89.7, 0.4],\n",
              " [89.60000000000001, 0.6],\n",
              " [89.60000000000001, 0.6],\n",
              " [89.5, 0.7000000000000001],\n",
              " [89.5, 0.8],\n",
              " [89.4, 1.2],\n",
              " [89.3, 1.4000000000000001],\n",
              " [89.3, 1.4000000000000001],\n",
              " [89.2, 1.5],\n",
              " [89.0, 1.7000000000000002],\n",
              " [88.8, 2.0],\n",
              " [88.8, 2.0],\n",
              " [88.6, 2.1999999999999997],\n",
              " [88.6, 2.5],\n",
              " [88.6, 2.5],\n",
              " [88.3, 2.8000000000000003],\n",
              " [88.2, 2.9000000000000004],\n",
              " [88.1, 3.1],\n",
              " [88.1, 3.1],\n",
              " [87.8, 3.4000000000000004],\n",
              " [87.6, 3.6999999999999997],\n",
              " [87.6, 3.6999999999999997],\n",
              " [87.5, 3.8],\n",
              " [87.4, 4.0],\n",
              " [87.4, 4.1000000000000005],\n",
              " [87.3, 4.2],\n",
              " [87.0, 4.9],\n",
              " [86.8, 5.4],\n",
              " [86.7, 5.800000000000001],\n",
              " [86.6, 5.8999999999999995],\n",
              " [86.1, 6.7],\n",
              " [86.1, 6.7],\n",
              " [85.9, 7.1],\n",
              " [85.8, 7.3],\n",
              " [85.6, 8.0],\n",
              " [85.3, 8.4],\n",
              " [85.0, 8.799999999999999],\n",
              " [84.89999999999999, 9.0],\n",
              " [84.6, 9.3],\n",
              " [84.39999999999999, 9.6],\n",
              " [84.39999999999999, 9.700000000000001],\n",
              " [83.89999999999999, 10.299999999999999],\n",
              " [83.3, 10.9],\n",
              " [83.1, 11.1],\n",
              " [82.5, 11.700000000000001],\n",
              " [82.39999999999999, 11.799999999999999],\n",
              " [82.19999999999999, 12.1],\n",
              " [82.1, 12.4],\n",
              " [81.89999999999999, 12.7],\n",
              " [81.6, 13.100000000000001],\n",
              " [81.2, 13.600000000000001],\n",
              " [80.9, 14.000000000000002],\n",
              " [80.60000000000001, 14.399999999999999],\n",
              " [80.2, 14.799999999999999],\n",
              " [79.7, 15.5],\n",
              " [79.2, 16.1],\n",
              " [78.8, 16.6],\n",
              " [78.3, 17.2],\n",
              " [78.2, 17.4],\n",
              " [77.5, 18.2],\n",
              " [77.4, 18.8],\n",
              " [77.4, 18.8],\n",
              " [77.10000000000001, 19.3],\n",
              " [76.8, 19.7],\n",
              " [76.3, 20.5],\n",
              " [76.0, 20.8],\n",
              " [75.4, 21.4],\n",
              " [74.9, 22.0],\n",
              " [74.3, 22.900000000000002],\n",
              " [73.7, 23.9],\n",
              " [73.0, 24.7],\n",
              " [72.1, 25.7],\n",
              " [71.7, 26.400000000000002],\n",
              " [70.6, 27.800000000000004],\n",
              " [69.39999999999999, 29.299999999999997],\n",
              " [68.30000000000001, 30.5],\n",
              " [67.10000000000001, 32.0],\n",
              " [65.9, 33.2],\n",
              " [64.60000000000001, 34.599999999999994],\n",
              " [63.3, 36.0],\n",
              " [60.4, 39.2],\n",
              " [56.39999999999999, 43.3],\n",
              " [53.0, 46.7],\n",
              " [46.2, 53.800000000000004],\n",
              " [45.0, 55.00000000000001],\n",
              " [44.6, 55.400000000000006],\n",
              " [44.0, 56.00000000000001],\n",
              " [43.2, 56.8],\n",
              " [42.1, 57.9],\n",
              " [40.8, 59.199999999999996],\n",
              " [39.1, 60.9],\n",
              " [36.8, 63.2],\n",
              " [32.800000000000004, 67.2],\n",
              " [32.800000000000004, 67.2],\n",
              " [32.4, 67.60000000000001],\n",
              " [32.300000000000004, 67.7],\n",
              " [31.3, 68.7],\n",
              " [30.3, 69.69999999999999],\n",
              " [29.7, 70.3],\n",
              " [27.0, 73.0],\n",
              " [25.8, 74.2],\n",
              " [23.400000000000002, 76.6],\n",
              " [19.6, 80.4],\n",
              " [19.6, 80.4],\n",
              " [19.1, 80.9],\n",
              " [18.4, 81.6],\n",
              " [17.4, 82.6],\n",
              " [16.8, 83.2],\n",
              " [15.6, 84.39999999999999],\n",
              " [14.399999999999999, 85.6],\n",
              " [12.9, 87.1],\n",
              " [11.1, 88.9],\n",
              " [9.0, 91.0],\n",
              " [9.0, 91.0],\n",
              " [8.4, 91.60000000000001],\n",
              " [8.0, 92.0],\n",
              " [7.3999999999999995, 92.60000000000001],\n",
              " [6.5, 93.5],\n",
              " [5.5, 94.5],\n",
              " [4.9, 95.1],\n",
              " [4.3, 95.7],\n",
              " [3.5000000000000004, 96.5],\n",
              " [2.9000000000000004, 97.1]]"
            ]
          },
          "execution_count": 33,
          "metadata": {},
          "output_type": "execute_result"
        }
      ],
      "source": [
        "DontKnowThresholdingANOTHER = []\n",
        "\n",
        "for i in range(89):\n",
        "  DontKnowThresholdingANOTHER.append([100*thresholding(0.1 + 0.01*i),100*dontknow(0.1 + 0.01*i),])\n",
        "\n",
        "for i in range(10):\n",
        "  DontKnowThresholdingANOTHER.append([100*thresholding(0.99 + 0.001*i),100*dontknow(0.99 + 0.001*i),])\n",
        "\n",
        "for i in range(10):\n",
        "  DontKnowThresholdingANOTHER.append([100*thresholding(0.999 + 0.0001*i),100*dontknow(0.999 + 0.0001*i),])\n",
        "\n",
        "for i in range(10):\n",
        "  DontKnowThresholdingANOTHER.append([100*thresholding(0.9999 + 0.00001*i),100*dontknow(0.9999 + 0.00001*i),])\n",
        "\n",
        "for i in range(9):\n",
        "  DontKnowThresholdingANOTHER.append([100*thresholding(0.99999 + 0.000001*i),100*dontknow(0.99999 + 0.000001*i),])\n",
        "\n",
        "DontKnowThresholdingANOTHER.append([100*thresholding(max_value),100*dontknow(max_value)])\n",
        "\n",
        "DontKnowThresholdingANOTHER"
      ]
    },
    {
      "cell_type": "code",
      "execution_count": null,
      "metadata": {
        "colab": {
          "base_uri": "https://localhost:8080/"
        },
        "id": "rkK7Pwx6b9vA",
        "outputId": "1683c32f-a8e3-42c4-c3cb-fa7b4f3fe86b"
      },
      "outputs": [
        {
          "data": {
            "text/plain": [
              "[[89.9, 100.0],\n",
              " [89.9, 100.0],\n",
              " [89.9, 99.7],\n",
              " [89.9, 96.39999999999999],\n",
              " [89.8, 89.7],\n",
              " [89.8, 83.6],\n",
              " [89.7, 78.7],\n",
              " [89.60000000000001, 74.2],\n",
              " [89.60000000000001, 71.6],\n",
              " [89.5, 69.8],\n",
              " [89.5, 67.9],\n",
              " [89.4, 67.2],\n",
              " [89.3, 65.9],\n",
              " [89.3, 64.7],\n",
              " [89.2, 63.6],\n",
              " [89.0, 62.7],\n",
              " [88.8, 62.1],\n",
              " [88.8, 61.199999999999996],\n",
              " [88.6, 60.4],\n",
              " [88.6, 59.8],\n",
              " [88.6, 58.9],\n",
              " [88.3, 58.199999999999996],\n",
              " [88.2, 57.599999999999994],\n",
              " [88.1, 56.699999999999996],\n",
              " [88.1, 55.900000000000006],\n",
              " [87.8, 55.60000000000001],\n",
              " [87.6, 54.900000000000006],\n",
              " [87.6, 54.300000000000004],\n",
              " [87.5, 53.5],\n",
              " [87.4, 52.400000000000006],\n",
              " [87.4, 52.1],\n",
              " [87.3, 51.5],\n",
              " [87.0, 50.7],\n",
              " [86.8, 49.9],\n",
              " [86.7, 49.7],\n",
              " [86.6, 48.699999999999996],\n",
              " [86.1, 48.4],\n",
              " [86.1, 47.4],\n",
              " [85.9, 46.9],\n",
              " [85.8, 45.9],\n",
              " [85.6, 45.1],\n",
              " [85.3, 44.6],\n",
              " [85.0, 44.0],\n",
              " [84.89999999999999, 43.7],\n",
              " [84.6, 42.9],\n",
              " [84.39999999999999, 42.4],\n",
              " [84.39999999999999, 41.699999999999996],\n",
              " [83.89999999999999, 40.8],\n",
              " [83.3, 39.900000000000006],\n",
              " [83.1, 39.4],\n",
              " [82.5, 39.1],\n",
              " [82.39999999999999, 38.4],\n",
              " [82.19999999999999, 38.1],\n",
              " [82.1, 37.3],\n",
              " [81.89999999999999, 36.5],\n",
              " [81.6, 36.0],\n",
              " [81.2, 35.5],\n",
              " [80.9, 34.699999999999996],\n",
              " [80.60000000000001, 33.800000000000004],\n",
              " [80.2, 33.5],\n",
              " [79.7, 32.9],\n",
              " [79.2, 32.2],\n",
              " [78.8, 31.7],\n",
              " [78.3, 31.5],\n",
              " [78.2, 31.2],\n",
              " [77.5, 30.4],\n",
              " [77.4, 29.9],\n",
              " [77.4, 29.599999999999998],\n",
              " [77.10000000000001, 29.4],\n",
              " [76.8, 28.999999999999996],\n",
              " [76.3, 28.599999999999998],\n",
              " [76.0, 28.000000000000004],\n",
              " [75.4, 27.3],\n",
              " [74.9, 26.700000000000003],\n",
              " [74.3, 25.900000000000002],\n",
              " [73.7, 25.4],\n",
              " [73.0, 24.8],\n",
              " [72.1, 24.099999999999998],\n",
              " [71.7, 23.7],\n",
              " [70.6, 22.8],\n",
              " [69.39999999999999, 22.3],\n",
              " [68.30000000000001, 21.6],\n",
              " [67.10000000000001, 21.0],\n",
              " [65.9, 20.1],\n",
              " [64.60000000000001, 19.400000000000002],\n",
              " [63.3, 18.5],\n",
              " [60.4, 17.299999999999997],\n",
              " [56.39999999999999, 15.8],\n",
              " [53.0, 14.299999999999999],\n",
              " [46.2, 12.0],\n",
              " [45.0, 11.5],\n",
              " [44.6, 11.1],\n",
              " [44.0, 10.9],\n",
              " [43.2, 10.299999999999999],\n",
              " [42.1, 9.8],\n",
              " [40.8, 9.2],\n",
              " [39.1, 8.200000000000001],\n",
              " [36.8, 7.199999999999999],\n",
              " [32.800000000000004, 6.1],\n",
              " [32.800000000000004, 6.1],\n",
              " [32.4, 5.800000000000001],\n",
              " [32.300000000000004, 5.6000000000000005],\n",
              " [31.3, 5.3],\n",
              " [30.3, 5.0],\n",
              " [29.7, 4.3],\n",
              " [27.0, 4.1000000000000005],\n",
              " [25.8, 3.3000000000000003],\n",
              " [23.400000000000002, 2.8000000000000003],\n",
              " [19.6, 2.1999999999999997],\n",
              " [19.6, 2.1999999999999997],\n",
              " [19.1, 2.0],\n",
              " [18.4, 2.0],\n",
              " [17.4, 1.9],\n",
              " [16.8, 1.6],\n",
              " [15.6, 1.5],\n",
              " [14.399999999999999, 1.0],\n",
              " [12.9, 0.8999999999999999],\n",
              " [11.1, 0.8],\n",
              " [9.0, 0.5],\n",
              " [9.0, 0.5],\n",
              " [8.4, 0.3],\n",
              " [8.0, 0.3],\n",
              " [7.3999999999999995, 0.3],\n",
              " [6.5, 0.3],\n",
              " [5.5, 0.2],\n",
              " [4.9, 0.2],\n",
              " [4.3, 0.1],\n",
              " [3.5000000000000004, 0.1],\n",
              " [2.9000000000000004, 0.0]]"
            ]
          },
          "execution_count": 34,
          "metadata": {},
          "output_type": "execute_result"
        }
      ],
      "source": [
        "UnknownMisclassifyANOTHER = []\n",
        "for i in range(89):\n",
        "  UnknownMisclassifyANOTHER.append([100*thresholding(0.1 + 0.01*i),100*misclassifyunknown(0.1 + 0.01*i),])\n",
        "for i in range(10):\n",
        "  UnknownMisclassifyANOTHER.append([100*thresholding(0.99 + 0.001*i),100*misclassifyunknown(0.99 + 0.001*i),])\n",
        "\n",
        "for i in range(10):\n",
        "  UnknownMisclassifyANOTHER.append([100*thresholding(0.999 + 0.0001*i),100*misclassifyunknown(0.999 + 0.0001*i),])\n",
        "\n",
        "for i in range(10):\n",
        "  UnknownMisclassifyANOTHER.append([100*thresholding(0.9999 + 0.00001*i),100*misclassifyunknown(0.9999 + 0.00001*i),])\n",
        "\n",
        "for i in range(9):\n",
        "  UnknownMisclassifyANOTHER.append([100*thresholding(0.99999 + 0.000001*i),100*misclassifyunknown(0.99999 + 0.000001*i),])\n",
        "\n",
        "UnknownMisclassifyANOTHER.append([100*thresholding(max_value),100*misclassifyunknown(max_value),])\n",
        "\n",
        "UnknownMisclassifyANOTHER"
      ]
    },
    {
      "cell_type": "code",
      "execution_count": null,
      "metadata": {
        "colab": {
          "base_uri": "https://localhost:8080/"
        },
        "id": "oe9DmTAKNOXR",
        "outputId": "b400f403-40e5-4b6d-81e4-5a42148085e4"
      },
      "outputs": [
        {
          "data": {
            "text/plain": [
              "[[89.9, 10.100000000000001],\n",
              " [89.9, 10.100000000000001],\n",
              " [89.9, 10.100000000000001],\n",
              " [89.9, 10.100000000000001],\n",
              " [89.8, 10.0],\n",
              " [89.8, 9.9],\n",
              " [89.7, 9.9],\n",
              " [89.60000000000001, 9.8],\n",
              " [89.60000000000001, 9.8],\n",
              " [89.5, 9.8],\n",
              " [89.5, 9.700000000000001],\n",
              " [89.4, 9.4],\n",
              " [89.3, 9.3],\n",
              " [89.3, 9.3],\n",
              " [89.2, 9.3],\n",
              " [89.0, 9.3],\n",
              " [88.8, 9.2],\n",
              " [88.8, 9.2],\n",
              " [88.6, 9.2],\n",
              " [88.6, 8.9],\n",
              " [88.6, 8.9],\n",
              " [88.3, 8.9],\n",
              " [88.2, 8.9],\n",
              " [88.1, 8.799999999999999],\n",
              " [88.1, 8.799999999999999],\n",
              " [87.8, 8.799999999999999],\n",
              " [87.6, 8.7],\n",
              " [87.6, 8.7],\n",
              " [87.5, 8.7],\n",
              " [87.4, 8.6],\n",
              " [87.4, 8.5],\n",
              " [87.3, 8.5],\n",
              " [87.0, 8.1],\n",
              " [86.8, 7.8],\n",
              " [86.7, 7.5],\n",
              " [86.6, 7.5],\n",
              " [86.1, 7.199999999999999],\n",
              " [86.1, 7.199999999999999],\n",
              " [85.9, 7.000000000000001],\n",
              " [85.8, 6.9],\n",
              " [85.6, 6.4],\n",
              " [85.3, 6.3],\n",
              " [85.0, 6.2],\n",
              " [84.89999999999999, 6.1],\n",
              " [84.6, 6.1],\n",
              " [84.39999999999999, 6.0],\n",
              " [84.39999999999999, 5.8999999999999995],\n",
              " [83.89999999999999, 5.800000000000001],\n",
              " [83.3, 5.800000000000001],\n",
              " [83.1, 5.800000000000001],\n",
              " [82.5, 5.800000000000001],\n",
              " [82.39999999999999, 5.800000000000001],\n",
              " [82.19999999999999, 5.7],\n",
              " [82.1, 5.5],\n",
              " [81.89999999999999, 5.4],\n",
              " [81.6, 5.3],\n",
              " [81.2, 5.2],\n",
              " [80.9, 5.1],\n",
              " [80.60000000000001, 5.0],\n",
              " [80.2, 5.0],\n",
              " [79.7, 4.8],\n",
              " [79.2, 4.7],\n",
              " [78.8, 4.6],\n",
              " [78.3, 4.5],\n",
              " [78.2, 4.3999999999999995],\n",
              " [77.5, 4.3],\n",
              " [77.4, 3.8],\n",
              " [77.4, 3.8],\n",
              " [77.10000000000001, 3.5999999999999996],\n",
              " [76.8, 3.5000000000000004],\n",
              " [76.3, 3.2],\n",
              " [76.0, 3.2],\n",
              " [75.4, 3.2],\n",
              " [74.9, 3.1],\n",
              " [74.3, 2.8000000000000003],\n",
              " [73.7, 2.4],\n",
              " [73.0, 2.3],\n",
              " [72.1, 2.1999999999999997],\n",
              " [71.7, 1.9],\n",
              " [70.6, 1.6],\n",
              " [69.39999999999999, 1.3],\n",
              " [68.30000000000001, 1.2],\n",
              " [67.10000000000001, 0.8999999999999999],\n",
              " [65.9, 0.8999999999999999],\n",
              " [64.60000000000001, 0.8],\n",
              " [63.3, 0.7000000000000001],\n",
              " [60.4, 0.4],\n",
              " [56.39999999999999, 0.3],\n",
              " [53.0, 0.3],\n",
              " [46.2, 0.0],\n",
              " [45.0, 0.0],\n",
              " [44.6, 0.0],\n",
              " [44.0, 0.0],\n",
              " [43.2, 0.0],\n",
              " [42.1, 0.0],\n",
              " [40.8, 0.0],\n",
              " [39.1, 0.0],\n",
              " [36.8, 0.0],\n",
              " [32.800000000000004, 0.0],\n",
              " [32.800000000000004, 0.0],\n",
              " [32.4, 0.0],\n",
              " [32.300000000000004, 0.0],\n",
              " [31.3, 0.0],\n",
              " [30.3, 0.0],\n",
              " [29.7, 0.0],\n",
              " [27.0, 0.0],\n",
              " [25.8, 0.0],\n",
              " [23.400000000000002, 0.0],\n",
              " [19.6, 0.0],\n",
              " [19.6, 0.0],\n",
              " [19.1, 0.0],\n",
              " [18.4, 0.0],\n",
              " [17.4, 0.0],\n",
              " [16.8, 0.0],\n",
              " [15.6, 0.0],\n",
              " [14.399999999999999, 0.0],\n",
              " [12.9, 0.0],\n",
              " [11.1, 0.0],\n",
              " [9.0, 0.0],\n",
              " [9.0, 0.0],\n",
              " [8.4, 0.0],\n",
              " [8.0, 0.0],\n",
              " [7.3999999999999995, 0.0],\n",
              " [6.5, 0.0],\n",
              " [5.5, 0.0],\n",
              " [4.9, 0.0],\n",
              " [4.3, 0.0],\n",
              " [3.5000000000000004, 0.0],\n",
              " [2.9000000000000004, 0.0]]"
            ]
          },
          "execution_count": 35,
          "metadata": {},
          "output_type": "execute_result"
        }
      ],
      "source": [
        "FalseIdentifyANOTHER = []\n",
        "for i in range(89):\n",
        "  FalseIdentifyANOTHER.append([100*thresholding(0.1 + 0.01*i),100*false_identify(0.1 + 0.01*i),])\n",
        "for i in range(10):\n",
        "  FalseIdentifyANOTHER.append([100*thresholding(0.99 + 0.001*i),100*false_identify(0.99 + 0.001*i)])\n",
        "\n",
        "for i in range(10):\n",
        "  FalseIdentifyANOTHER.append([100*thresholding(0.999 + 0.0001*i),100*false_identify(0.999 + 0.0001*i),])\n",
        "\n",
        "for i in range(10):\n",
        "  FalseIdentifyANOTHER.append([100*thresholding(0.9999 + 0.00001*i),100*false_identify(0.9999 + 0.00001*i),])\n",
        "\n",
        "for i in range(9):\n",
        "  FalseIdentifyANOTHER.append([100*thresholding(0.99999 + 0.000001*i),100*false_identify(0.99999 + 0.000001*i),])\n",
        "\n",
        "FalseIdentifyANOTHER.append([100*thresholding(max_value),100*false_identify(max_value),])\n",
        "FalseIdentifyANOTHER"
      ]
    },
    {
      "cell_type": "markdown",
      "metadata": {
        "id": "astEHCwEWNFf"
      },
      "source": [
        "# Class-adaptive threshold"
      ]
    },
    {
      "cell_type": "markdown",
      "metadata": {
        "id": "mgZEtA56usFB"
      },
      "source": [
        "# Run #1"
      ]
    },
    {
      "cell_type": "code",
      "execution_count": null,
      "metadata": {
        "id": "EEg9x6-vurgQ"
      },
      "outputs": [],
      "source": [
        "prediction_known = prediction_known_ensemble_1\n",
        "prediction_unknown = prediction_unknown_ensemble_1"
      ]
    },
    {
      "cell_type": "code",
      "execution_count": null,
      "metadata": {
        "id": "8Tyc8FzcWUk-"
      },
      "outputs": [],
      "source": [
        "ThresholdNeverSeenBefores = []\n",
        "for i in range(10):\n",
        "  ThresholdNeverSeenBefores.append(np.max(prediction_unknown[:,i]))"
      ]
    },
    {
      "cell_type": "code",
      "execution_count": null,
      "metadata": {
        "colab": {
          "base_uri": "https://localhost:8080/"
        },
        "id": "rp_hvYS9WP6J",
        "outputId": "a4a32833-6b4e-4325-f935-f36b3f6d3a7a"
      },
      "outputs": [
        {
          "data": {
            "text/plain": [
              "2"
            ]
          },
          "execution_count": 50,
          "metadata": {},
          "output_type": "execute_result"
        }
      ],
      "source": [
        "C_count0 = 0\n",
        "for i in range(100):\n",
        "  if prediction_known[i,0] > ThresholdNeverSeenBefores[0] and np.argmax(prediction_known[i]) == 0:\n",
        "    C_count0 += 1\n",
        "  else:\n",
        "    C_count0 += 0\n",
        "C_count0"
      ]
    },
    {
      "cell_type": "code",
      "execution_count": null,
      "metadata": {
        "colab": {
          "base_uri": "https://localhost:8080/"
        },
        "id": "zAu3K9nEWP8P",
        "outputId": "9569abb2-59e5-4fa9-9001-fdbcab0aea3c"
      },
      "outputs": [
        {
          "name": "stdout",
          "output_type": "stream",
          "text": [
            "Number of mistakes in this class: 0\n"
          ]
        }
      ],
      "source": [
        "mistake0 = 0\n",
        "for i in range(100):\n",
        "  if np.argmax(prediction_known[i]) != 0 and max(prediction_known[i]) > ThresholdNeverSeenBefores[np.argmax(prediction_known[i])]:\n",
        "    mistake0 += 1\n",
        "    print(i)\n",
        "  else:\n",
        "    mistake0 += 0\n",
        "mistake0\n",
        "print(\"Number of mistakes in this class:\",mistake0)"
      ]
    },
    {
      "cell_type": "code",
      "execution_count": null,
      "metadata": {
        "colab": {
          "base_uri": "https://localhost:8080/"
        },
        "id": "hHzot9WdXkC7",
        "outputId": "6c2e9440-b3e3-4a7d-8101-aa79931c7acf"
      },
      "outputs": [
        {
          "data": {
            "text/plain": [
              "63"
            ]
          },
          "execution_count": 52,
          "metadata": {},
          "output_type": "execute_result"
        }
      ],
      "source": [
        "C_count1 = 0\n",
        "for i in range(100):\n",
        "  if prediction_known[100 + i,1] > ThresholdNeverSeenBefores[1] and np.argmax(prediction_known[100 + i]) == 1:\n",
        "    C_count1 += 1\n",
        "  else:\n",
        "    C_count1 += 0\n",
        "C_count1"
      ]
    },
    {
      "cell_type": "code",
      "execution_count": null,
      "metadata": {
        "colab": {
          "base_uri": "https://localhost:8080/"
        },
        "id": "h4RVufLtXkAR",
        "outputId": "a521e963-83cd-4c71-93a4-7d0bf1bad09f"
      },
      "outputs": [
        {
          "name": "stdout",
          "output_type": "stream",
          "text": [
            "Number of mistakes in this class: 0\n"
          ]
        }
      ],
      "source": [
        "mistake1 = 0\n",
        "for i in range(100):\n",
        "  if np.argmax(prediction_known[100 + i]) != 1 and max(prediction_known[100 + i]) > ThresholdNeverSeenBefores[np.argmax(prediction_known[100 + i])]:\n",
        "    mistake1 += 1\n",
        "    print(100 + i)\n",
        "  else:\n",
        "    mistake1 += 0\n",
        "mistake1\n",
        "print(\"Number of mistakes in this class:\",mistake1)"
      ]
    },
    {
      "cell_type": "code",
      "execution_count": null,
      "metadata": {
        "colab": {
          "base_uri": "https://localhost:8080/"
        },
        "id": "vmmpoficmsIo",
        "outputId": "bd5dab36-6b01-4c0e-cd59-0b89e7b3299d"
      },
      "outputs": [
        {
          "data": {
            "text/plain": [
              "13"
            ]
          },
          "execution_count": 54,
          "metadata": {},
          "output_type": "execute_result"
        }
      ],
      "source": [
        "C_count2 = 0\n",
        "for i in range(100):\n",
        "  if prediction_known[200 + i,2] > ThresholdNeverSeenBefores[2] and np.argmax(prediction_known[200 + i]) == 2:\n",
        "    C_count2 += 1\n",
        "  else:\n",
        "    C_count2 += 0\n",
        "C_count2"
      ]
    },
    {
      "cell_type": "code",
      "execution_count": null,
      "metadata": {
        "colab": {
          "base_uri": "https://localhost:8080/"
        },
        "id": "JTiQq-WKmsMB",
        "outputId": "6f7b8d55-40d0-442c-d706-44605e52173d"
      },
      "outputs": [
        {
          "name": "stdout",
          "output_type": "stream",
          "text": [
            "299\n",
            "Number of mistakes in this class: 1\n"
          ]
        }
      ],
      "source": [
        "mistake2 = 0\n",
        "for i in range(100):\n",
        "  if np.argmax(prediction_known[200 + i]) != 2 and max(prediction_known[200 + i]) > ThresholdNeverSeenBefores[np.argmax(prediction_known[200 + i])]:\n",
        "    mistake2 += 1\n",
        "    print(200 + i)\n",
        "  else:\n",
        "    mistake2 += 0\n",
        "mistake2\n",
        "print(\"Number of mistakes in this class:\",mistake2)"
      ]
    },
    {
      "cell_type": "code",
      "execution_count": null,
      "metadata": {
        "id": "PjvXnRNvx3Zj"
      },
      "outputs": [],
      "source": [
        "ThresholdNeverSeenBefores[np.argmax(prediction_known[299])] = max(prediction_known[299])"
      ]
    },
    {
      "cell_type": "code",
      "execution_count": null,
      "metadata": {
        "colab": {
          "base_uri": "https://localhost:8080/"
        },
        "id": "nIbNzYD_x63-",
        "outputId": "d8acf153-3880-48e9-9564-1dc6279d3cd0"
      },
      "outputs": [
        {
          "name": "stdout",
          "output_type": "stream",
          "text": [
            "Number of mistakes in this class: 0\n"
          ]
        }
      ],
      "source": [
        "mistake2 = 0\n",
        "for i in range(100):\n",
        "  if np.argmax(prediction_known[200 + i]) != 2 and max(prediction_known[200 + i]) > ThresholdNeverSeenBefores[np.argmax(prediction_known[200 + i])]:\n",
        "    mistake2 += 1\n",
        "    print(200 + i)\n",
        "  else:\n",
        "    mistake2 += 0\n",
        "mistake2\n",
        "print(\"Number of mistakes in this class:\",mistake2)"
      ]
    },
    {
      "cell_type": "code",
      "execution_count": null,
      "metadata": {
        "colab": {
          "base_uri": "https://localhost:8080/"
        },
        "id": "gsNwlMBAmsN3",
        "outputId": "7d6b8fdc-310b-447c-e07d-465855a73483"
      },
      "outputs": [
        {
          "data": {
            "text/plain": [
              "94"
            ]
          },
          "execution_count": 58,
          "metadata": {},
          "output_type": "execute_result"
        }
      ],
      "source": [
        "C_count3 = 0\n",
        "for i in range(100):\n",
        "  if prediction_known[300 + i,3] > ThresholdNeverSeenBefores[3] and np.argmax(prediction_known[300 + i]) == 3:\n",
        "    C_count3 += 1\n",
        "  else:\n",
        "    C_count3 += 0\n",
        "C_count3"
      ]
    },
    {
      "cell_type": "code",
      "execution_count": null,
      "metadata": {
        "colab": {
          "base_uri": "https://localhost:8080/"
        },
        "id": "HP9oRkpvmsPv",
        "outputId": "f39b329a-984e-45ac-f6e6-4eb0c69cec97"
      },
      "outputs": [
        {
          "name": "stdout",
          "output_type": "stream",
          "text": [
            "335\n",
            "Number of mistakes in this class: 1\n"
          ]
        }
      ],
      "source": [
        "mistake3 = 0\n",
        "for i in range(100):\n",
        "  if np.argmax(prediction_known[300 + i]) != 3 and max(prediction_known[300 + i]) > ThresholdNeverSeenBefores[np.argmax(prediction_known[300 + i])]:\n",
        "    mistake3 += 1\n",
        "    print(300 + i)\n",
        "  else:\n",
        "    mistake3 += 0\n",
        "mistake3\n",
        "print(\"Number of mistakes in this class:\",mistake3)"
      ]
    },
    {
      "cell_type": "code",
      "execution_count": null,
      "metadata": {
        "id": "K3xv5fFjx-pJ"
      },
      "outputs": [],
      "source": [
        "ThresholdNeverSeenBefores[np.argmax(prediction_known[335])] = max(prediction_known[335])"
      ]
    },
    {
      "cell_type": "code",
      "execution_count": null,
      "metadata": {
        "colab": {
          "base_uri": "https://localhost:8080/"
        },
        "id": "dP1lfN6xyB-4",
        "outputId": "8fd8b647-e3b6-4cac-b566-c288785214b4"
      },
      "outputs": [
        {
          "name": "stdout",
          "output_type": "stream",
          "text": [
            "Number of mistakes in this class: 0\n"
          ]
        }
      ],
      "source": [
        "mistake3 = 0\n",
        "for i in range(100):\n",
        "  if np.argmax(prediction_known[300 + i]) != 3 and max(prediction_known[300 + i]) > ThresholdNeverSeenBefores[np.argmax(prediction_known[300 + i])]:\n",
        "    mistake3 += 1\n",
        "    print(300 + i)\n",
        "  else:\n",
        "    mistake3 += 0\n",
        "mistake3\n",
        "print(\"Number of mistakes in this class:\",mistake3)"
      ]
    },
    {
      "cell_type": "code",
      "execution_count": null,
      "metadata": {
        "colab": {
          "base_uri": "https://localhost:8080/"
        },
        "id": "qGdmlHmUmsSi",
        "outputId": "17799ed4-fbb5-40c4-fdb2-57903a2c08fe"
      },
      "outputs": [
        {
          "data": {
            "text/plain": [
              "71"
            ]
          },
          "execution_count": 62,
          "metadata": {},
          "output_type": "execute_result"
        }
      ],
      "source": [
        "C_count4 = 0\n",
        "for i in range(100):\n",
        "  if prediction_known[400 + i,4] > ThresholdNeverSeenBefores[4] and np.argmax(prediction_known[400 + i]) == 4:\n",
        "    C_count4 += 1\n",
        "  else:\n",
        "    C_count4 += 0\n",
        "C_count4"
      ]
    },
    {
      "cell_type": "code",
      "execution_count": null,
      "metadata": {
        "colab": {
          "base_uri": "https://localhost:8080/"
        },
        "id": "RTXAEphBmsU_",
        "outputId": "1e8c3868-1f04-4138-fda0-f16e7edb70ae"
      },
      "outputs": [
        {
          "name": "stdout",
          "output_type": "stream",
          "text": [
            "403\n",
            "495\n",
            "499\n",
            "Number of mistakes in this class: 3\n"
          ]
        }
      ],
      "source": [
        "mistake4 = 0\n",
        "for i in range(100):\n",
        "  if np.argmax(prediction_known[400 + i]) != 4 and max(prediction_known[400 + i]) > ThresholdNeverSeenBefores[np.argmax(prediction_known[400 + i])]:\n",
        "    mistake4 += 1\n",
        "    print(400 + i)\n",
        "  else:\n",
        "    mistake4 += 0\n",
        "print(\"Number of mistakes in this class:\",mistake4)"
      ]
    },
    {
      "cell_type": "code",
      "execution_count": null,
      "metadata": {
        "id": "bHbI6AuvpouI"
      },
      "outputs": [],
      "source": [
        "ThresholdNeverSeenBefores[np.argmax(prediction_known[495])] = max(prediction_known[495])"
      ]
    },
    {
      "cell_type": "code",
      "execution_count": null,
      "metadata": {
        "colab": {
          "base_uri": "https://localhost:8080/"
        },
        "id": "GpR5cQktpsPc",
        "outputId": "e8fe137a-99bf-472e-9958-a057c28693bb"
      },
      "outputs": [
        {
          "name": "stdout",
          "output_type": "stream",
          "text": [
            "Number of mistakes in this class: 0\n"
          ]
        }
      ],
      "source": [
        "mistake4 = 0\n",
        "for i in range(100):\n",
        "  if np.argmax(prediction_known[400 + i]) != 4 and max(prediction_known[400 + i]) > ThresholdNeverSeenBefores[np.argmax(prediction_known[400 + i])]:\n",
        "    mistake4 += 1\n",
        "    print(400 + i)\n",
        "  else:\n",
        "    mistake4 += 0\n",
        "print(\"Number of mistakes in this class:\",mistake4)"
      ]
    },
    {
      "cell_type": "code",
      "execution_count": null,
      "metadata": {
        "colab": {
          "base_uri": "https://localhost:8080/"
        },
        "id": "bwuWW0SkqIB_",
        "outputId": "01e7edd8-6de2-40d0-b3af-28312f3e373c"
      },
      "outputs": [
        {
          "data": {
            "text/plain": [
              "99"
            ]
          },
          "execution_count": 66,
          "metadata": {},
          "output_type": "execute_result"
        }
      ],
      "source": [
        "C_count5 = 0\n",
        "for i in range(100):\n",
        "  if prediction_known[500 + i,5] > ThresholdNeverSeenBefores[5] and np.argmax(prediction_known[500 + i]) == 5:\n",
        "    C_count5 += 1\n",
        "  else:\n",
        "    C_count5 += 0\n",
        "C_count5"
      ]
    },
    {
      "cell_type": "code",
      "execution_count": null,
      "metadata": {
        "colab": {
          "base_uri": "https://localhost:8080/"
        },
        "id": "yMRqQVgIqKWx",
        "outputId": "9e492f78-1749-4cf0-8498-065869028b9c"
      },
      "outputs": [
        {
          "name": "stdout",
          "output_type": "stream",
          "text": [
            "592\n",
            "Number of mistakes in this class: 1\n"
          ]
        }
      ],
      "source": [
        "mistake5 = 0\n",
        "for i in range(100):\n",
        "  if np.argmax(prediction_known[500 + i]) != 5 and max(prediction_known[500 + i]) > ThresholdNeverSeenBefores[np.argmax(prediction_known[500 + i])]:\n",
        "    mistake5 += 1\n",
        "    print(500 + i)\n",
        "  else:\n",
        "    mistake5 += 0\n",
        "print(\"Number of mistakes in this class:\",mistake5)"
      ]
    },
    {
      "cell_type": "code",
      "execution_count": null,
      "metadata": {
        "id": "KK85v3j9qaJ_"
      },
      "outputs": [],
      "source": [
        "ThresholdNeverSeenBefores[np.argmax(prediction_known[592])] = max(prediction_known[592])"
      ]
    },
    {
      "cell_type": "code",
      "execution_count": null,
      "metadata": {
        "colab": {
          "base_uri": "https://localhost:8080/"
        },
        "id": "de4nDuf8qdYZ",
        "outputId": "7e38ab97-1021-4978-b0d5-6a9a47f59309"
      },
      "outputs": [
        {
          "name": "stdout",
          "output_type": "stream",
          "text": [
            "Number of mistakes in this class: 0\n"
          ]
        }
      ],
      "source": [
        "mistake5 = 0\n",
        "for i in range(100):\n",
        "  if np.argmax(prediction_known[500 + i]) != 5 and ThresholdNeverSeenBefores[5] > ThresholdNeverSeenBefores[np.argmax(prediction_known[500 + i])]:\n",
        "    mistake5 += 1\n",
        "    print(500 + i)\n",
        "  else:\n",
        "    mistake5 += 0\n",
        "print(\"Number of mistakes in this class:\",mistake5)"
      ]
    },
    {
      "cell_type": "code",
      "execution_count": null,
      "metadata": {
        "colab": {
          "base_uri": "https://localhost:8080/"
        },
        "id": "GJt2-_RjqhZM",
        "outputId": "82561896-a74a-45fb-b5fa-e7bd03694b60"
      },
      "outputs": [
        {
          "data": {
            "text/plain": [
              "4"
            ]
          },
          "execution_count": 70,
          "metadata": {},
          "output_type": "execute_result"
        }
      ],
      "source": [
        "C_count6 = 0\n",
        "for i in range(100):\n",
        "  if prediction_known[600 + i,6] > ThresholdNeverSeenBefores[6] and np.argmax(prediction_known[600 + i]) == 6:\n",
        "    C_count6 += 1\n",
        "  else:\n",
        "    C_count6 += 0\n",
        "C_count6"
      ]
    },
    {
      "cell_type": "code",
      "execution_count": null,
      "metadata": {
        "colab": {
          "base_uri": "https://localhost:8080/"
        },
        "id": "bJ0sklVOqhbU",
        "outputId": "83b123bb-f0ca-4c1c-d0cc-5b1ef83f7a22"
      },
      "outputs": [
        {
          "name": "stdout",
          "output_type": "stream",
          "text": [
            "611\n",
            "Number of mistakes in this class: 1\n"
          ]
        }
      ],
      "source": [
        "mistake6 = 0\n",
        "for i in range(100):\n",
        "  if np.argmax(prediction_known[600 + i]) != 6 and max(prediction_known[600 + i]) > ThresholdNeverSeenBefores[np.argmax(prediction_known[600 + i])]:\n",
        "    mistake6 += 1\n",
        "    print(600 + i)\n",
        "  else:\n",
        "    mistake6 += 0\n",
        "print(\"Number of mistakes in this class:\",mistake6)"
      ]
    },
    {
      "cell_type": "code",
      "execution_count": null,
      "metadata": {
        "id": "W0GWIriAyQoI"
      },
      "outputs": [],
      "source": [
        "ThresholdNeverSeenBefores[np.argmax(prediction_known[611])] = max(prediction_known[611])"
      ]
    },
    {
      "cell_type": "code",
      "execution_count": null,
      "metadata": {
        "colab": {
          "base_uri": "https://localhost:8080/"
        },
        "id": "EjvOMl1SyUN0",
        "outputId": "2bede8d4-038f-426e-9a42-c1328bb5a3c3"
      },
      "outputs": [
        {
          "name": "stdout",
          "output_type": "stream",
          "text": [
            "Number of mistakes in this class: 0\n"
          ]
        }
      ],
      "source": [
        "mistake6 = 0\n",
        "for i in range(100):\n",
        "  if np.argmax(prediction_known[600 + i]) != 6 and max(prediction_known[600 + i]) > ThresholdNeverSeenBefores[np.argmax(prediction_known[600 + i])]:\n",
        "    mistake6 += 1\n",
        "    print(600 + i)\n",
        "  else:\n",
        "    mistake6 += 0\n",
        "print(\"Number of mistakes in this class:\",mistake6)"
      ]
    },
    {
      "cell_type": "code",
      "execution_count": null,
      "metadata": {
        "colab": {
          "base_uri": "https://localhost:8080/"
        },
        "id": "WMsrIQt1qhe2",
        "outputId": "b43433f1-b92e-4ca5-f71b-d83a772c6148"
      },
      "outputs": [
        {
          "data": {
            "text/plain": [
              "75"
            ]
          },
          "execution_count": 74,
          "metadata": {},
          "output_type": "execute_result"
        }
      ],
      "source": [
        "C_count7 = 0\n",
        "for i in range(100):\n",
        "  if prediction_known[700 + i,7] > ThresholdNeverSeenBefores[7]  and np.argmax(prediction_known[700 + i]) == 7:\n",
        "    C_count7 += 1\n",
        "  else:\n",
        "    C_count7 += 0\n",
        "C_count7"
      ]
    },
    {
      "cell_type": "code",
      "execution_count": null,
      "metadata": {
        "colab": {
          "base_uri": "https://localhost:8080/"
        },
        "id": "gau4TuhUqhiG",
        "outputId": "7c314d16-b507-4278-e98f-d958c5925ca0"
      },
      "outputs": [
        {
          "name": "stdout",
          "output_type": "stream",
          "text": [
            "744\n",
            "Number of mistakes in this class: 1\n"
          ]
        }
      ],
      "source": [
        "mistake7 = 0\n",
        "for i in range(100):\n",
        "  if np.argmax(prediction_known[700 + i]) != 7 and max(prediction_known[700 + i]) > ThresholdNeverSeenBefores[np.argmax(prediction_known[700 + i])]:\n",
        "    mistake7 += 1\n",
        "    print(700 + i)\n",
        "  else:\n",
        "    mistake7 += 0\n",
        "print(\"Number of mistakes in this class:\",mistake7)"
      ]
    },
    {
      "cell_type": "code",
      "execution_count": null,
      "metadata": {
        "id": "ZIhjXi2wyXPJ"
      },
      "outputs": [],
      "source": [
        "ThresholdNeverSeenBefores[np.argmax(prediction_known[744])] = max(prediction_known[744])"
      ]
    },
    {
      "cell_type": "code",
      "execution_count": null,
      "metadata": {
        "colab": {
          "base_uri": "https://localhost:8080/"
        },
        "id": "Zyufo5sUqhkP",
        "outputId": "965864bd-7f1d-4714-fddd-3fb42575eb73"
      },
      "outputs": [
        {
          "data": {
            "text/plain": [
              "42"
            ]
          },
          "execution_count": 77,
          "metadata": {},
          "output_type": "execute_result"
        }
      ],
      "source": [
        "C_count8 = 0\n",
        "for i in range(100):\n",
        "  if prediction_known[800 + i,8] > ThresholdNeverSeenBefores[8] and np.argmax(prediction_known[800 + i]) == 8:\n",
        "    C_count8 += 1\n",
        "  else:\n",
        "    C_count8 += 0\n",
        "C_count8"
      ]
    },
    {
      "cell_type": "code",
      "execution_count": null,
      "metadata": {
        "colab": {
          "base_uri": "https://localhost:8080/"
        },
        "id": "aqBpRvSWqhnj",
        "outputId": "f5f5f988-4a05-4dc5-c565-825ce27aeb5d"
      },
      "outputs": [
        {
          "name": "stdout",
          "output_type": "stream",
          "text": [
            "860\n",
            "888\n",
            "Number of mistakes in this class: 2\n"
          ]
        }
      ],
      "source": [
        "mistake8 = 0\n",
        "for i in range(100):\n",
        "  if np.argmax(prediction_known[800 + i]) != 8 and max(prediction_known[800 + i]) > ThresholdNeverSeenBefores[np.argmax(prediction_known[800 + i])]:\n",
        "    mistake8 += 1\n",
        "    print(800 + i)\n",
        "  else:\n",
        "    mistake8 += 0\n",
        "print(\"Number of mistakes in this class:\",mistake8)"
      ]
    },
    {
      "cell_type": "code",
      "execution_count": null,
      "metadata": {
        "id": "P_gTfOZuya_L"
      },
      "outputs": [],
      "source": [
        "ThresholdNeverSeenBefores[np.argmax(prediction_known[888])] = max(prediction_known[888])"
      ]
    },
    {
      "cell_type": "code",
      "execution_count": null,
      "metadata": {
        "colab": {
          "base_uri": "https://localhost:8080/"
        },
        "id": "5E0oGPsPyeaH",
        "outputId": "c4044084-eb7f-4c3c-f949-ba6a4a071fb1"
      },
      "outputs": [
        {
          "name": "stdout",
          "output_type": "stream",
          "text": [
            "Number of mistakes in this class: 0\n"
          ]
        }
      ],
      "source": [
        "mistake8 = 0\n",
        "for i in range(100):\n",
        "  if np.argmax(prediction_known[800 + i]) != 8 and max(prediction_known[800 + i]) > ThresholdNeverSeenBefores[np.argmax(prediction_known[800 + i])]:\n",
        "    mistake8 += 1\n",
        "    print(800 + i)\n",
        "  else:\n",
        "    mistake8 += 0\n",
        "print(\"Number of mistakes in this class:\",mistake8)"
      ]
    },
    {
      "cell_type": "code",
      "execution_count": null,
      "metadata": {
        "colab": {
          "base_uri": "https://localhost:8080/"
        },
        "id": "UbQcIVdBqhpv",
        "outputId": "0800d689-1091-4070-d91e-1cd51d0abeb2"
      },
      "outputs": [
        {
          "data": {
            "text/plain": [
              "98"
            ]
          },
          "execution_count": 81,
          "metadata": {},
          "output_type": "execute_result"
        }
      ],
      "source": [
        "C_count9 = 0\n",
        "for i in range(100):\n",
        "  if prediction_known[900 + i,9] > ThresholdNeverSeenBefores[9] and np.argmax(prediction_known[900 + i]) == 9:\n",
        "    C_count9 += 1\n",
        "  else:\n",
        "    C_count9 += 0\n",
        "C_count9"
      ]
    },
    {
      "cell_type": "code",
      "execution_count": null,
      "metadata": {
        "colab": {
          "base_uri": "https://localhost:8080/"
        },
        "id": "o6TeE6FjrOKT",
        "outputId": "c86a9d5e-19cb-46a0-c1e8-ba89b979002f"
      },
      "outputs": [
        {
          "name": "stdout",
          "output_type": "stream",
          "text": [
            "Number of mistakes in this class: 0\n"
          ]
        }
      ],
      "source": [
        "mistake9 = 0\n",
        "for i in range(100):\n",
        "  if np.argmax(prediction_known[900 + i]) != 9 and max(prediction_known[900 + i]) > ThresholdNeverSeenBefores[np.argmax(prediction_known[900 + i])]:\n",
        "    mistake9 += 1\n",
        "    print(900 + i)\n",
        "  else:\n",
        "    mistake9 += 0\n",
        "print(\"Number of mistakes in this class:\",mistake9)"
      ]
    },
    {
      "cell_type": "code",
      "execution_count": null,
      "metadata": {
        "id": "q2BVWFkVruUc"
      },
      "outputs": [],
      "source": []
    },
    {
      "cell_type": "code",
      "execution_count": null,
      "metadata": {
        "id": "n4gF8b2NruWg"
      },
      "outputs": [],
      "source": [
        "C_count0 = 0\n",
        "for i in range(100):\n",
        "  if prediction_known[i,0] > ThresholdNeverSeenBefores[0] and np.argmax(prediction_known[i]) == 0:\n",
        "    C_count0 += 1\n",
        "  else:\n",
        "    C_count0 += 0\n",
        "\n",
        "C_count1 = 0\n",
        "for i in range(100):\n",
        "  if prediction_known[100 + i,1] > ThresholdNeverSeenBefores[1] and np.argmax(prediction_known[100 + i]) == 1:\n",
        "    C_count1 += 1\n",
        "  else:\n",
        "    C_count1 += 0\n",
        "\n",
        "C_count2 = 0\n",
        "for i in range(100):\n",
        "  if prediction_known[200 + i,2] > ThresholdNeverSeenBefores[2] and np.argmax(prediction_known[200 + i]) == 2:\n",
        "    C_count2 += 1\n",
        "  else:\n",
        "    C_count2 += 0\n",
        "\n",
        "C_count3 = 0\n",
        "for i in range(100):\n",
        "  if prediction_known[300 + i,3] > ThresholdNeverSeenBefores[3] and np.argmax(prediction_known[300 + i]) == 3:\n",
        "    C_count3 += 1\n",
        "  else:\n",
        "    C_count3 += 0\n",
        "\n",
        "C_count4 = 0\n",
        "for i in range(100):\n",
        "  if prediction_known[400 + i,4] > ThresholdNeverSeenBefores[4] and np.argmax(prediction_known[400 + i]) == 4:\n",
        "    C_count4 += 1\n",
        "  else:\n",
        "    C_count4 += 0\n",
        "\n",
        "C_count5 = 0\n",
        "for i in range(100):\n",
        "  if prediction_known[500 + i,5] > ThresholdNeverSeenBefores[5] and np.argmax(prediction_known[500 + i]) == 5:\n",
        "    C_count5 += 1\n",
        "  else:\n",
        "    C_count5 += 0\n",
        "\n",
        "C_count6 = 0\n",
        "for i in range(100):\n",
        "  if prediction_known[600 + i,6] > ThresholdNeverSeenBefores[6] and np.argmax(prediction_known[600 + i]) == 6:\n",
        "    C_count6 += 1\n",
        "  else:\n",
        "    C_count6 += 0\n",
        "\n",
        "C_count7 = 0\n",
        "for i in range(100):\n",
        "  if prediction_known[700 + i,7] > ThresholdNeverSeenBefores[7]  and np.argmax(prediction_known[700 + i]) == 7:\n",
        "    C_count7 += 1\n",
        "  else:\n",
        "    C_count7 += 0\n",
        "\n",
        "C_count8 = 0\n",
        "for i in range(100):\n",
        "  if prediction_known[800 + i,8] > ThresholdNeverSeenBefores[8] and np.argmax(prediction_known[800 + i]) == 8:\n",
        "    C_count8 += 1\n",
        "  else:\n",
        "    C_count8 += 0\n",
        "\n",
        "C_count9 = 0\n",
        "for i in range(100):\n",
        "  if prediction_known[900 + i,9] > ThresholdNeverSeenBefores[9] and np.argmax(prediction_known[900 + i]) == 9:\n",
        "    C_count9 += 1\n",
        "  else:\n",
        "    C_count9 += 0\n",
        "\n"
      ]
    },
    {
      "cell_type": "code",
      "execution_count": null,
      "metadata": {
        "colab": {
          "base_uri": "https://localhost:8080/"
        },
        "id": "KmwlXsFdtWr8",
        "outputId": "b8843a3c-b323-49d7-bb16-23f5078aa5fd"
      },
      "outputs": [
        {
          "data": {
            "text/plain": [
              "[[1, 2],\n",
              " [2, 63],\n",
              " [3, 13],\n",
              " [4, 73],\n",
              " [5, 42],\n",
              " [6, 99],\n",
              " [7, 4],\n",
              " [8, 26],\n",
              " [9, 42],\n",
              " [10, 98]]"
            ]
          },
          "execution_count": 84,
          "metadata": {},
          "output_type": "execute_result"
        }
      ],
      "source": [
        "FinalDistributionOver10ClassesRun1 = [[1,C_count0],[2,C_count1],[3,C_count2],[4,C_count3],[5,C_count4],[6,C_count5],[7,C_count6],[8,C_count7],[9,C_count8],[10,C_count9]]\n",
        "FinalDistributionOver10ClassesRun1"
      ]
    },
    {
      "cell_type": "code",
      "execution_count": null,
      "metadata": {
        "colab": {
          "base_uri": "https://localhost:8080/"
        },
        "id": "mDrNGphSueaO",
        "outputId": "be8bc682-d4dc-4b5e-b0bb-ec26efc38a2c"
      },
      "outputs": [
        {
          "data": {
            "text/plain": [
              "[0, 0, 0, 0, 0, 0, 0, 0, 0, 0]"
            ]
          },
          "execution_count": 85,
          "metadata": {},
          "output_type": "execute_result"
        }
      ],
      "source": [
        "mistake0 = 0\n",
        "for i in range(100):\n",
        "  if np.argmax(prediction_known[i]) != 0 and max(prediction_known[i]) > ThresholdNeverSeenBefores[np.argmax(prediction_known[i])]:\n",
        "    mistake0 += 1\n",
        "    print(i)\n",
        "  else:\n",
        "    mistake0 += 0\n",
        "\n",
        "mistake1 = 0\n",
        "for i in range(100):\n",
        "  if np.argmax(prediction_known[100 + i]) != 1 and max(prediction_known[100 + i]) > ThresholdNeverSeenBefores[np.argmax(prediction_known[100 + i])]:\n",
        "    mistake1 += 1\n",
        "    print(100 + i)\n",
        "  else:\n",
        "    mistake1 += 0\n",
        "\n",
        "mistake2 = 0\n",
        "for i in range(100):\n",
        "  if np.argmax(prediction_known[200 + i]) != 2 and max(prediction_known[200 + i]) > ThresholdNeverSeenBefores[np.argmax(prediction_known[200 + i])]:\n",
        "    mistake2 += 1\n",
        "    print(200 + i)\n",
        "  else:\n",
        "    mistake2 += 0\n",
        "\n",
        "mistake3 = 0\n",
        "for i in range(100):\n",
        "  if np.argmax(prediction_known[300 + i]) != 3 and max(prediction_known[300 + i]) > ThresholdNeverSeenBefores[np.argmax(prediction_known[300 + i])]:\n",
        "    mistake3 += 1\n",
        "    print(300 + i)\n",
        "  else:\n",
        "    mistake3 += 0\n",
        "\n",
        "mistake4 = 0\n",
        "for i in range(100):\n",
        "  if np.argmax(prediction_known[400 + i]) != 4 and max(prediction_known[400 + i]) > ThresholdNeverSeenBefores[np.argmax(prediction_known[400 + i])]:\n",
        "    mistake4 += 1\n",
        "    print(400 + i)\n",
        "  else:\n",
        "    mistake4 += 0\n",
        "\n",
        "mistake5 = 0\n",
        "for i in range(100):\n",
        "  if np.argmax(prediction_known[500 + i]) != 5 and max(prediction_known[500 + i]) > ThresholdNeverSeenBefores[np.argmax(prediction_known[500 + i])]:\n",
        "    mistake5 += 1\n",
        "    print(500 + i)\n",
        "  else:\n",
        "    mistake5 += 0\n",
        "\n",
        "mistake6 = 0\n",
        "for i in range(100):\n",
        "  if np.argmax(prediction_known[600 + i]) != 6 and max(prediction_known[600 + i]) > ThresholdNeverSeenBefores[np.argmax(prediction_known[600 + i])]:\n",
        "    mistake6 += 1\n",
        "    print(600 + i)\n",
        "  else:\n",
        "    mistake6 += 0\n",
        "\n",
        "mistake7 = 0\n",
        "for i in range(100):\n",
        "  if np.argmax(prediction_known[700 + i]) != 7 and max(prediction_known[700 + i]) > ThresholdNeverSeenBefores[np.argmax(prediction_known[700 + i])]:\n",
        "    mistake7 += 1\n",
        "    print(700 + i)\n",
        "  else:\n",
        "    mistake7 += 0\n",
        "\n",
        "mistake8 = 0\n",
        "for i in range(100):\n",
        "  if np.argmax(prediction_known[800 + i]) != 8 and max(prediction_known[800 + i]) > ThresholdNeverSeenBefores[np.argmax(prediction_known[800 + i])]:\n",
        "    mistake8 += 1\n",
        "    print(800 + i)\n",
        "  else:\n",
        "    mistake8 += 0\n",
        "\n",
        "mistake9 = 0\n",
        "for i in range(100):\n",
        "  if np.argmax(prediction_known[900 + i]) != 9 and max(prediction_known[900 + i]) > ThresholdNeverSeenBefores[np.argmax(prediction_known[900 + i])]:\n",
        "    mistake9 += 1\n",
        "    print(900 + i)\n",
        "  else:\n",
        "    mistake9 += 0\n",
        "\n",
        "NumberOfMistakesAfterThrAdj = [mistake0, mistake1, mistake2, mistake3, mistake4, mistake5, mistake6, mistake7, mistake8, mistake9]\n",
        "NumberOfMistakesAfterThrAdj"
      ]
    },
    {
      "cell_type": "markdown",
      "metadata": {
        "id": "0LoWFaaorrtA"
      },
      "source": [
        "# Average over 10 classes"
      ]
    },
    {
      "cell_type": "code",
      "execution_count": null,
      "metadata": {
        "colab": {
          "base_uri": "https://localhost:8080/"
        },
        "id": "pKfcp4h2rOMn",
        "outputId": "412250a0-1e72-445a-e72f-cce50b88dff5"
      },
      "outputs": [
        {
          "data": {
            "text/plain": [
              "0.462"
            ]
          },
          "execution_count": 86,
          "metadata": {},
          "output_type": "execute_result"
        }
      ],
      "source": [
        "(C_count0 + C_count1 + C_count2 + C_count3 + C_count4 + C_count5 + C_count6 + C_count7 + C_count8 + C_count9)/1000"
      ]
    },
    {
      "cell_type": "code",
      "execution_count": null,
      "metadata": {
        "id": "qXmBJyQr_99-"
      },
      "outputs": [],
      "source": []
    },
    {
      "cell_type": "markdown",
      "metadata": {
        "id": "lUJ8AONv6J3d"
      },
      "source": [
        "# Average dataset"
      ]
    },
    {
      "cell_type": "code",
      "execution_count": null,
      "metadata": {
        "colab": {
          "base_uri": "https://localhost:8080/"
        },
        "id": "Kimox7v-xUip",
        "outputId": "3e7c2a68-7f69-481f-e7db-c49321edfb01"
      },
      "outputs": [
        {
          "name": "stdout",
          "output_type": "stream",
          "text": [
            "[1, 2.0, 1.224744871391589]\n",
            "[2, 66.25, 2.5860201081971503]\n",
            "[3, 9.75, 3.112474899497183]\n",
            "[4, 74.75, 1.0897247358851685]\n",
            "[5, 42.5, 3.278719262151]\n",
            "[6, 99.0, 0.0]\n",
            "[7, 4.25, 0.82915619758885]\n",
            "[8, 25.25, 5.539629951540085]\n",
            "[9, 46.0, 10.295630140987]\n",
            "[10, 96.75, 1.6393596310755]\n"
          ]
        }
      ],
      "source": [
        "import numpy as np\n",
        "\n",
        "all_datasets = [FinalDistributionOver10ClassesRun1, FinalDistributionOver10ClassesRun2, FinalDistributionOver10ClassesRun3, FinalDistributionOver10ClassesRun4]\n",
        "\n",
        "new_dataset = []\n",
        "\n",
        "for x_value in range(1, 11):\n",
        "    y_values = []\n",
        "\n",
        "    for dataset in all_datasets:\n",
        "        for data_point in dataset:\n",
        "            if data_point[0] == x_value:\n",
        "                y_values.append(data_point[1])\n",
        "\n",
        "    avg_y = np.mean(y_values)\n",
        "    std_y = np.std(y_values)\n",
        "\n",
        "    new_dataset.append([x_value, avg_y, std_y])\n",
        "\n",
        "for data_point in new_dataset:\n",
        "    print(data_point)\n"
      ]
    },
    {
      "cell_type": "code",
      "execution_count": null,
      "metadata": {
        "colab": {
          "base_uri": "https://localhost:8080/"
        },
        "id": "pbH4e4wlrOYf",
        "outputId": "982509a3-952a-4f4a-8f0c-10c514875851"
      },
      "outputs": [
        {
          "data": {
            "text/plain": [
              "[[1, 2.0, 1.224744871391589],\n",
              " [2, 66.25, 2.5860201081971503],\n",
              " [3, 9.75, 3.112474899497183],\n",
              " [4, 74.75, 1.0897247358851685],\n",
              " [5, 42.5, 3.278719262151],\n",
              " [6, 99.0, 0.0],\n",
              " [7, 4.25, 0.82915619758885],\n",
              " [8, 25.25, 5.539629951540085],\n",
              " [9, 46.0, 10.295630140987],\n",
              " [10, 96.75, 1.6393596310755]]"
            ]
          },
          "execution_count": 206,
          "metadata": {},
          "output_type": "execute_result"
        }
      ],
      "source": [
        "new_dataset"
      ]
    }
  ],
  "metadata": {
    "accelerator": "GPU",
    "colab": {
      "machine_shape": "hm",
      "provenance": [],
      "gpuType": "T4",
      "authorship_tag": "ABX9TyMRIBoKpBsep78L/wDqzU4b",
      "include_colab_link": true
    },
    "kernelspec": {
      "display_name": "Python 3",
      "name": "python3"
    },
    "language_info": {
      "name": "python"
    }
  },
  "nbformat": 4,
  "nbformat_minor": 0
}